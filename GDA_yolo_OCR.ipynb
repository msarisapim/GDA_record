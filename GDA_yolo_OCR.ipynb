{
  "nbformat": 4,
  "nbformat_minor": 0,
  "metadata": {
    "colab": {
      "provenance": [],
      "gpuType": "T4",
      "machine_shape": "hm"
    },
    "kernelspec": {
      "name": "python3",
      "display_name": "Python 3"
    },
    "language_info": {
      "name": "python"
    },
    "accelerator": "GPU"
  },
  "cells": [
    {
      "cell_type": "code",
      "source": [
        "from google.colab import drive\n",
        "drive.mount('/content/drive')"
      ],
      "metadata": {
        "colab": {
          "base_uri": "https://localhost:8080/"
        },
        "id": "cOM2rbeWHg3n",
        "outputId": "34120e35-d6f7-479f-973e-a45fd95095e9"
      },
      "execution_count": 5,
      "outputs": [
        {
          "output_type": "stream",
          "name": "stdout",
          "text": [
            "Mounted at /content/drive\n"
          ]
        }
      ]
    },
    {
      "cell_type": "markdown",
      "source": [
        "/content/drive/MyDrive/SuperAI/Project/GDA/images"
      ],
      "metadata": {
        "id": "wsLbPjune-3j"
      }
    },
    {
      "cell_type": "markdown",
      "source": [
        "# **Training**"
      ],
      "metadata": {
        "id": "NcDnC40LH6lc"
      }
    },
    {
      "cell_type": "markdown",
      "source": [
        "# Convert YOLO 1.1 format to YOLO-OBB format"
      ],
      "metadata": {
        "id": "WGUky1JspPGH"
      }
    },
    {
      "cell_type": "code",
      "source": [
        "import os\n",
        "\n",
        "def convert_aabb_to_obb(aabb_labels_dirs, obb_labels_dirs):\n",
        "    for aabb_labels_dir, obb_labels_dir in zip(aabb_labels_dirs, obb_labels_dirs):\n",
        "        # Ensure the OBB directory exists\n",
        "        os.makedirs(obb_labels_dir, exist_ok=True)\n",
        "\n",
        "        for label_file in os.listdir(aabb_labels_dir):\n",
        "            aabb_path = os.path.join(aabb_labels_dir, label_file)\n",
        "            obb_path = os.path.join(obb_labels_dir, label_file)\n",
        "\n",
        "            with open(aabb_path, 'r') as f:\n",
        "                lines = f.readlines()\n",
        "\n",
        "            with open(obb_path, 'w') as f:\n",
        "                for line in lines:\n",
        "                    class_id, x_center, y_center, width, height = map(float, line.split())\n",
        "                    # Convert center, width, height to x1, y1, x2, y2, x3, y3, x4, y4\n",
        "                    # Assuming no rotation, the OBB is the same as the AABB\n",
        "                    x1 = x_center - width / 2\n",
        "                    y1 = y_center - height / 2\n",
        "                    x2 = x_center + width / 2\n",
        "                    y2 = y_center - height / 2\n",
        "                    x3 = x_center + width / 2\n",
        "                    y3 = y_center + height / 2\n",
        "                    x4 = x_center - width / 2\n",
        "                    y4 = y_center + height / 2\n",
        "                    # Write the converted annotation to the OBB label file with spaces\n",
        "                    f.write(f\"{int(class_id)} {x1} {y1} {x2} {y2} {x3} {y3} {x4} {y4}\\n\")\n",
        "\n",
        "# Updated directory paths\n",
        "aabb_labels_dirs = ['/content/drive/MyDrive/SuperAI/Project/GDA/train_temp_labels_1', '/content/drive/MyDrive/SuperAI/Project/GDA/train_temp_labels_2']\n",
        "obb_labels_dirs = ['/content/drive/MyDrive/SuperAI/Project/GDA/train_temp_OBBlabels_1', '/content/drive/MyDrive/SuperAI/Project/GDA/train_temp_OBBlabels_2']\n",
        "\n",
        "convert_aabb_to_obb(aabb_labels_dirs, obb_labels_dirs)\n"
      ],
      "metadata": {
        "id": "8h5g3zCup37C"
      },
      "execution_count": null,
      "outputs": []
    },
    {
      "cell_type": "markdown",
      "source": [
        "# Split dataset to train and val"
      ],
      "metadata": {
        "id": "MSYC4NQAcOZ_"
      }
    },
    {
      "cell_type": "code",
      "source": [
        "import os\n",
        "import shutil\n",
        "from random import shuffle\n",
        "from sklearn.model_selection import train_test_split\n",
        "\n",
        "def find_files(directories, extension=\".jpg\"):\n",
        "    files = []\n",
        "    for directory in directories:\n",
        "        found_files = [os.path.join(directory, f) for f in os.listdir(directory) if f.endswith(extension)]\n",
        "        files.extend(found_files)\n",
        "    return files\n",
        "\n",
        "def ensure_dir(directory):\n",
        "    if not os.path.exists(directory):\n",
        "        os.makedirs(directory)\n",
        "\n",
        "def copy_files(pairs, directory, label_directory):\n",
        "    # Ensure target directories exist\n",
        "    ensure_dir(directory)\n",
        "    ensure_dir(label_directory)\n",
        "\n",
        "    for img_path, label_path in pairs:\n",
        "        img_name = os.path.basename(img_path)\n",
        "        label_name = os.path.basename(label_path)\n",
        "\n",
        "        shutil.copy2(img_path, os.path.join(directory, img_name))\n",
        "        shutil.copy2(label_path, os.path.join(label_directory, label_name))\n",
        "        print(f\"Copied {img_path} to {os.path.join(directory, img_name)}\")\n",
        "        print(f\"Copied {label_path} to {os.path.join(label_directory, label_name)}\")\n",
        "\n",
        "def split_data(images, labels, train_dir, val_dir, train_labels_dir, val_labels_dir, val_ratio=0.2):\n",
        "    paired_data = list(zip(images, labels))\n",
        "    train_pairs, val_pairs = train_test_split(paired_data, test_size=val_ratio, random_state=42)\n",
        "\n",
        "    # Copy the files to train and validation directories\n",
        "    copy_files(train_pairs, train_dir, train_labels_dir)\n",
        "    copy_files(val_pairs, val_dir, val_labels_dir)\n",
        "\n",
        "# Updated directory paths lists\n",
        "source_images_paths = ['/content/drive/MyDrive/SuperAI/Project/GDA/train_temp_images_1', '/content/drive/MyDrive/SuperAI/Project/GDA/train_temp_images_2']\n",
        "source_labels_paths = ['/content/drive/MyDrive/SuperAI/Project/GDA/train_temp_OBBlabels_1', '/content/drive/MyDrive/SuperAI/Project/GDA/train_temp_OBBlabels_2']\n",
        "train_directory_path = '/content/drive/MyDrive/SuperAI/Project/GDA/GDA-OBB/images/train' #'/content/drive/MyDrive/SuperAI/Project/GDA/train/images'\n",
        "val_directory_path = '/content/drive/MyDrive/SuperAI/Project/GDA/GDA-OBB/images/val' #'/content/drive/MyDrive/SuperAI/Project/GDA/validation/images'\n",
        "train_labels_directory_path = '/content/drive/MyDrive/SuperAI/Project/GDA/GDA-OBB/labels/train' #'/content/drive/MyDrive/SuperAI/Project/GDA/train/labels'\n",
        "val_labels_directory_path = '/content/drive/MyDrive/SuperAI/Project/GDA/GDA-OBB/labels/val' #'/content/drive/MyDrive/SuperAI/Project/GDA/validation/labels'\n",
        "\n",
        "# Find all image and label files\n",
        "image_files = find_files(source_images_paths)\n",
        "label_files = find_files(source_labels_paths, extension=\".txt\")\n",
        "\n",
        "# Split and copy the images and labels to train and validation directories\n",
        "split_data(image_files, label_files, train_directory_path, val_directory_path,\n",
        "           train_labels_directory_path, val_labels_directory_path, val_ratio=0.2)\n"
      ],
      "metadata": {
        "colab": {
          "base_uri": "https://localhost:8080/"
        },
        "id": "gs1O10rMaAiG",
        "outputId": "2821b379-cd21-4621-cdf6-6b29bc933246"
      },
      "execution_count": null,
      "outputs": [
        {
          "output_type": "stream",
          "name": "stdout",
          "text": [
            "Copied /content/drive/MyDrive/SuperAI/Project/GDA/train_temp_images_1/0005.jpg to /content/drive/MyDrive/SuperAI/Project/GDA/GDA-OBB/images/train/0005.jpg\n",
            "Copied /content/drive/MyDrive/SuperAI/Project/GDA/train_temp_OBBlabels_1/0108.txt to /content/drive/MyDrive/SuperAI/Project/GDA/GDA-OBB/labels/train/0108.txt\n",
            "Copied /content/drive/MyDrive/SuperAI/Project/GDA/train_temp_images_1/0122.jpg to /content/drive/MyDrive/SuperAI/Project/GDA/GDA-OBB/images/train/0122.jpg\n",
            "Copied /content/drive/MyDrive/SuperAI/Project/GDA/train_temp_OBBlabels_1/0009.txt to /content/drive/MyDrive/SuperAI/Project/GDA/GDA-OBB/labels/train/0009.txt\n",
            "Copied /content/drive/MyDrive/SuperAI/Project/GDA/train_temp_images_2/20240315_182809.jpg to /content/drive/MyDrive/SuperAI/Project/GDA/GDA-OBB/images/train/20240315_182809.jpg\n",
            "Copied /content/drive/MyDrive/SuperAI/Project/GDA/train_temp_OBBlabels_2/1710651084145.txt to /content/drive/MyDrive/SuperAI/Project/GDA/GDA-OBB/labels/train/1710651084145.txt\n",
            "Copied /content/drive/MyDrive/SuperAI/Project/GDA/train_temp_images_1/0023.jpg to /content/drive/MyDrive/SuperAI/Project/GDA/GDA-OBB/images/train/0023.jpg\n",
            "Copied /content/drive/MyDrive/SuperAI/Project/GDA/train_temp_OBBlabels_1/0024.txt to /content/drive/MyDrive/SuperAI/Project/GDA/GDA-OBB/labels/train/0024.txt\n",
            "Copied /content/drive/MyDrive/SuperAI/Project/GDA/train_temp_images_1/0030.jpg to /content/drive/MyDrive/SuperAI/Project/GDA/GDA-OBB/images/train/0030.jpg\n",
            "Copied /content/drive/MyDrive/SuperAI/Project/GDA/train_temp_OBBlabels_1/0095.txt to /content/drive/MyDrive/SuperAI/Project/GDA/GDA-OBB/labels/train/0095.txt\n",
            "Copied /content/drive/MyDrive/SuperAI/Project/GDA/train_temp_images_1/0010.jpg to /content/drive/MyDrive/SuperAI/Project/GDA/GDA-OBB/images/train/0010.jpg\n",
            "Copied /content/drive/MyDrive/SuperAI/Project/GDA/train_temp_OBBlabels_1/0038.txt to /content/drive/MyDrive/SuperAI/Project/GDA/GDA-OBB/labels/train/0038.txt\n",
            "Copied /content/drive/MyDrive/SuperAI/Project/GDA/train_temp_images_2/IMG_20240315_125548.jpg to /content/drive/MyDrive/SuperAI/Project/GDA/GDA-OBB/images/train/IMG_20240315_125548.jpg\n",
            "Copied /content/drive/MyDrive/SuperAI/Project/GDA/train_temp_OBBlabels_2/IMG20240316181909.txt to /content/drive/MyDrive/SuperAI/Project/GDA/GDA-OBB/labels/train/IMG20240316181909.txt\n",
            "Copied /content/drive/MyDrive/SuperAI/Project/GDA/train_temp_images_1/0087.jpg to /content/drive/MyDrive/SuperAI/Project/GDA/GDA-OBB/images/train/0087.jpg\n",
            "Copied /content/drive/MyDrive/SuperAI/Project/GDA/train_temp_OBBlabels_1/0007.txt to /content/drive/MyDrive/SuperAI/Project/GDA/GDA-OBB/labels/train/0007.txt\n",
            "Copied /content/drive/MyDrive/SuperAI/Project/GDA/train_temp_images_2/1710651085757.jpg to /content/drive/MyDrive/SuperAI/Project/GDA/GDA-OBB/images/train/1710651085757.jpg\n",
            "Copied /content/drive/MyDrive/SuperAI/Project/GDA/train_temp_OBBlabels_2/20240316_182726.txt to /content/drive/MyDrive/SuperAI/Project/GDA/GDA-OBB/labels/train/20240316_182726.txt\n",
            "Copied /content/drive/MyDrive/SuperAI/Project/GDA/train_temp_images_2/20240316_181811.jpg to /content/drive/MyDrive/SuperAI/Project/GDA/GDA-OBB/images/train/20240316_181811.jpg\n",
            "Copied /content/drive/MyDrive/SuperAI/Project/GDA/train_temp_OBBlabels_2/1710651067622.txt to /content/drive/MyDrive/SuperAI/Project/GDA/GDA-OBB/labels/train/1710651067622.txt\n",
            "Copied /content/drive/MyDrive/SuperAI/Project/GDA/train_temp_images_2/20240315_182254.jpg to /content/drive/MyDrive/SuperAI/Project/GDA/GDA-OBB/images/train/20240315_182254.jpg\n",
            "Copied /content/drive/MyDrive/SuperAI/Project/GDA/train_temp_OBBlabels_2/20240316_181435.txt to /content/drive/MyDrive/SuperAI/Project/GDA/GDA-OBB/labels/train/20240316_181435.txt\n",
            "Copied /content/drive/MyDrive/SuperAI/Project/GDA/train_temp_images_2/1710651065474.jpg to /content/drive/MyDrive/SuperAI/Project/GDA/GDA-OBB/images/train/1710651065474.jpg\n",
            "Copied /content/drive/MyDrive/SuperAI/Project/GDA/train_temp_OBBlabels_2/20240316_181706.txt to /content/drive/MyDrive/SuperAI/Project/GDA/GDA-OBB/labels/train/20240316_181706.txt\n",
            "Copied /content/drive/MyDrive/SuperAI/Project/GDA/train_temp_images_1/0036.jpg to /content/drive/MyDrive/SuperAI/Project/GDA/GDA-OBB/images/train/0036.jpg\n",
            "Copied /content/drive/MyDrive/SuperAI/Project/GDA/train_temp_OBBlabels_1/0075.txt to /content/drive/MyDrive/SuperAI/Project/GDA/GDA-OBB/labels/train/0075.txt\n",
            "Copied /content/drive/MyDrive/SuperAI/Project/GDA/train_temp_images_1/0058.jpg to /content/drive/MyDrive/SuperAI/Project/GDA/GDA-OBB/images/train/0058.jpg\n",
            "Copied /content/drive/MyDrive/SuperAI/Project/GDA/train_temp_OBBlabels_1/0037.txt to /content/drive/MyDrive/SuperAI/Project/GDA/GDA-OBB/labels/train/0037.txt\n",
            "Copied /content/drive/MyDrive/SuperAI/Project/GDA/train_temp_images_1/0003.jpg to /content/drive/MyDrive/SuperAI/Project/GDA/GDA-OBB/images/train/0003.jpg\n",
            "Copied /content/drive/MyDrive/SuperAI/Project/GDA/train_temp_OBBlabels_1/0063.txt to /content/drive/MyDrive/SuperAI/Project/GDA/GDA-OBB/labels/train/0063.txt\n",
            "Copied /content/drive/MyDrive/SuperAI/Project/GDA/train_temp_images_2/1710651085715.jpg to /content/drive/MyDrive/SuperAI/Project/GDA/GDA-OBB/images/train/1710651085715.jpg\n",
            "Copied /content/drive/MyDrive/SuperAI/Project/GDA/train_temp_OBBlabels_2/20240316_182251.txt to /content/drive/MyDrive/SuperAI/Project/GDA/GDA-OBB/labels/train/20240316_182251.txt\n",
            "Copied /content/drive/MyDrive/SuperAI/Project/GDA/train_temp_images_1/0100.jpg to /content/drive/MyDrive/SuperAI/Project/GDA/GDA-OBB/images/train/0100.jpg\n",
            "Copied /content/drive/MyDrive/SuperAI/Project/GDA/train_temp_OBBlabels_1/0082.txt to /content/drive/MyDrive/SuperAI/Project/GDA/GDA-OBB/labels/train/0082.txt\n",
            "Copied /content/drive/MyDrive/SuperAI/Project/GDA/train_temp_images_2/20240315_182211.jpg to /content/drive/MyDrive/SuperAI/Project/GDA/GDA-OBB/images/train/20240315_182211.jpg\n",
            "Copied /content/drive/MyDrive/SuperAI/Project/GDA/train_temp_OBBlabels_2/20240315_182149.txt to /content/drive/MyDrive/SuperAI/Project/GDA/GDA-OBB/labels/train/20240315_182149.txt\n",
            "Copied /content/drive/MyDrive/SuperAI/Project/GDA/train_temp_images_1/0118.jpg to /content/drive/MyDrive/SuperAI/Project/GDA/GDA-OBB/images/train/0118.jpg\n",
            "Copied /content/drive/MyDrive/SuperAI/Project/GDA/train_temp_OBBlabels_1/0008.txt to /content/drive/MyDrive/SuperAI/Project/GDA/GDA-OBB/labels/train/0008.txt\n",
            "Copied /content/drive/MyDrive/SuperAI/Project/GDA/train_temp_images_1/0067.jpg to /content/drive/MyDrive/SuperAI/Project/GDA/GDA-OBB/images/train/0067.jpg\n",
            "Copied /content/drive/MyDrive/SuperAI/Project/GDA/train_temp_OBBlabels_1/0100.txt to /content/drive/MyDrive/SuperAI/Project/GDA/GDA-OBB/labels/train/0100.txt\n",
            "Copied /content/drive/MyDrive/SuperAI/Project/GDA/train_temp_images_1/0077.jpg to /content/drive/MyDrive/SuperAI/Project/GDA/GDA-OBB/images/train/0077.jpg\n",
            "Copied /content/drive/MyDrive/SuperAI/Project/GDA/train_temp_OBBlabels_1/0020.txt to /content/drive/MyDrive/SuperAI/Project/GDA/GDA-OBB/labels/train/0020.txt\n",
            "Copied /content/drive/MyDrive/SuperAI/Project/GDA/train_temp_images_1/0131.jpg to /content/drive/MyDrive/SuperAI/Project/GDA/GDA-OBB/images/train/0131.jpg\n",
            "Copied /content/drive/MyDrive/SuperAI/Project/GDA/train_temp_OBBlabels_1/0040.txt to /content/drive/MyDrive/SuperAI/Project/GDA/GDA-OBB/labels/train/0040.txt\n",
            "Copied /content/drive/MyDrive/SuperAI/Project/GDA/train_temp_images_1/0016.jpg to /content/drive/MyDrive/SuperAI/Project/GDA/GDA-OBB/images/train/0016.jpg\n",
            "Copied /content/drive/MyDrive/SuperAI/Project/GDA/train_temp_OBBlabels_1/0081.txt to /content/drive/MyDrive/SuperAI/Project/GDA/GDA-OBB/labels/train/0081.txt\n",
            "Copied /content/drive/MyDrive/SuperAI/Project/GDA/train_temp_images_1/0088.jpg to /content/drive/MyDrive/SuperAI/Project/GDA/GDA-OBB/images/train/0088.jpg\n",
            "Copied /content/drive/MyDrive/SuperAI/Project/GDA/train_temp_OBBlabels_1/0125.txt to /content/drive/MyDrive/SuperAI/Project/GDA/GDA-OBB/labels/train/0125.txt\n",
            "Copied /content/drive/MyDrive/SuperAI/Project/GDA/train_temp_images_2/1710651067622.jpg to /content/drive/MyDrive/SuperAI/Project/GDA/GDA-OBB/images/train/1710651067622.jpg\n",
            "Copied /content/drive/MyDrive/SuperAI/Project/GDA/train_temp_OBBlabels_2/20240316_182137.txt to /content/drive/MyDrive/SuperAI/Project/GDA/GDA-OBB/labels/train/20240316_182137.txt\n",
            "Copied /content/drive/MyDrive/SuperAI/Project/GDA/train_temp_images_1/0047.jpg to /content/drive/MyDrive/SuperAI/Project/GDA/GDA-OBB/images/train/0047.jpg\n",
            "Copied /content/drive/MyDrive/SuperAI/Project/GDA/train_temp_OBBlabels_1/0092.txt to /content/drive/MyDrive/SuperAI/Project/GDA/GDA-OBB/labels/train/0092.txt\n",
            "Copied /content/drive/MyDrive/SuperAI/Project/GDA/train_temp_images_1/0026.jpg to /content/drive/MyDrive/SuperAI/Project/GDA/GDA-OBB/images/train/0026.jpg\n",
            "Copied /content/drive/MyDrive/SuperAI/Project/GDA/train_temp_OBBlabels_1/0034.txt to /content/drive/MyDrive/SuperAI/Project/GDA/GDA-OBB/labels/train/0034.txt\n",
            "Copied /content/drive/MyDrive/SuperAI/Project/GDA/train_temp_images_1/0129.jpg to /content/drive/MyDrive/SuperAI/Project/GDA/GDA-OBB/images/train/0129.jpg\n",
            "Copied /content/drive/MyDrive/SuperAI/Project/GDA/train_temp_OBBlabels_1/0086.txt to /content/drive/MyDrive/SuperAI/Project/GDA/GDA-OBB/labels/train/0086.txt\n",
            "Copied /content/drive/MyDrive/SuperAI/Project/GDA/train_temp_images_2/IMG20240315125457.jpg to /content/drive/MyDrive/SuperAI/Project/GDA/GDA-OBB/images/train/IMG20240315125457.jpg\n",
            "Copied /content/drive/MyDrive/SuperAI/Project/GDA/train_temp_OBBlabels_2/1710651084526.txt to /content/drive/MyDrive/SuperAI/Project/GDA/GDA-OBB/labels/train/1710651084526.txt\n",
            "Copied /content/drive/MyDrive/SuperAI/Project/GDA/train_temp_images_1/0097.jpg to /content/drive/MyDrive/SuperAI/Project/GDA/GDA-OBB/images/train/0097.jpg\n",
            "Copied /content/drive/MyDrive/SuperAI/Project/GDA/train_temp_OBBlabels_1/0073.txt to /content/drive/MyDrive/SuperAI/Project/GDA/GDA-OBB/labels/train/0073.txt\n",
            "Copied /content/drive/MyDrive/SuperAI/Project/GDA/train_temp_images_2/1710651066958.jpg to /content/drive/MyDrive/SuperAI/Project/GDA/GDA-OBB/images/train/1710651066958.jpg\n",
            "Copied /content/drive/MyDrive/SuperAI/Project/GDA/train_temp_OBBlabels_2/IMG20240315125457.txt to /content/drive/MyDrive/SuperAI/Project/GDA/GDA-OBB/labels/train/IMG20240315125457.txt\n",
            "Copied /content/drive/MyDrive/SuperAI/Project/GDA/train_temp_images_2/20240316_182137.jpg to /content/drive/MyDrive/SuperAI/Project/GDA/GDA-OBB/images/train/20240316_182137.jpg\n",
            "Copied /content/drive/MyDrive/SuperAI/Project/GDA/train_temp_OBBlabels_2/IMG20240316181104.txt to /content/drive/MyDrive/SuperAI/Project/GDA/GDA-OBB/labels/train/IMG20240316181104.txt\n",
            "Copied /content/drive/MyDrive/SuperAI/Project/GDA/train_temp_images_1/0020.jpg to /content/drive/MyDrive/SuperAI/Project/GDA/GDA-OBB/images/train/0020.jpg\n",
            "Copied /content/drive/MyDrive/SuperAI/Project/GDA/train_temp_OBBlabels_1/0093.txt to /content/drive/MyDrive/SuperAI/Project/GDA/GDA-OBB/labels/train/0093.txt\n",
            "Copied /content/drive/MyDrive/SuperAI/Project/GDA/train_temp_images_1/0108.jpg to /content/drive/MyDrive/SuperAI/Project/GDA/GDA-OBB/images/train/0108.jpg\n",
            "Copied /content/drive/MyDrive/SuperAI/Project/GDA/train_temp_OBBlabels_1/0114.txt to /content/drive/MyDrive/SuperAI/Project/GDA/GDA-OBB/labels/train/0114.txt\n",
            "Copied /content/drive/MyDrive/SuperAI/Project/GDA/train_temp_images_2/20240315_182259.jpg to /content/drive/MyDrive/SuperAI/Project/GDA/GDA-OBB/images/train/20240315_182259.jpg\n",
            "Copied /content/drive/MyDrive/SuperAI/Project/GDA/train_temp_OBBlabels_2/20240315_182112.txt to /content/drive/MyDrive/SuperAI/Project/GDA/GDA-OBB/labels/train/20240315_182112.txt\n",
            "Copied /content/drive/MyDrive/SuperAI/Project/GDA/train_temp_images_2/20240316_182637.jpg to /content/drive/MyDrive/SuperAI/Project/GDA/GDA-OBB/images/train/20240316_182637.jpg\n",
            "Copied /content/drive/MyDrive/SuperAI/Project/GDA/train_temp_OBBlabels_2/20240315_182754.txt to /content/drive/MyDrive/SuperAI/Project/GDA/GDA-OBB/labels/train/20240315_182754.txt\n",
            "Copied /content/drive/MyDrive/SuperAI/Project/GDA/train_temp_images_1/0125.jpg to /content/drive/MyDrive/SuperAI/Project/GDA/GDA-OBB/images/train/0125.jpg\n",
            "Copied /content/drive/MyDrive/SuperAI/Project/GDA/train_temp_OBBlabels_1/0003.txt to /content/drive/MyDrive/SuperAI/Project/GDA/GDA-OBB/labels/train/0003.txt\n",
            "Copied /content/drive/MyDrive/SuperAI/Project/GDA/train_temp_images_2/20240316_181126.jpg to /content/drive/MyDrive/SuperAI/Project/GDA/GDA-OBB/images/train/20240316_181126.jpg\n",
            "Copied /content/drive/MyDrive/SuperAI/Project/GDA/train_temp_OBBlabels_2/20240316_181429.txt to /content/drive/MyDrive/SuperAI/Project/GDA/GDA-OBB/labels/train/20240316_181429.txt\n",
            "Copied /content/drive/MyDrive/SuperAI/Project/GDA/train_temp_images_2/20240316_181117.jpg to /content/drive/MyDrive/SuperAI/Project/GDA/GDA-OBB/images/train/20240316_181117.jpg\n",
            "Copied /content/drive/MyDrive/SuperAI/Project/GDA/train_temp_OBBlabels_2/20240316_182637.txt to /content/drive/MyDrive/SuperAI/Project/GDA/GDA-OBB/labels/train/20240316_182637.txt\n",
            "Copied /content/drive/MyDrive/SuperAI/Project/GDA/train_temp_images_1/0009.jpg to /content/drive/MyDrive/SuperAI/Project/GDA/GDA-OBB/images/train/0009.jpg\n",
            "Copied /content/drive/MyDrive/SuperAI/Project/GDA/train_temp_OBBlabels_1/0084.txt to /content/drive/MyDrive/SuperAI/Project/GDA/GDA-OBB/labels/train/0084.txt\n",
            "Copied /content/drive/MyDrive/SuperAI/Project/GDA/train_temp_images_1/0029.jpg to /content/drive/MyDrive/SuperAI/Project/GDA/GDA-OBB/images/train/0029.jpg\n",
            "Copied /content/drive/MyDrive/SuperAI/Project/GDA/train_temp_OBBlabels_1/0121.txt to /content/drive/MyDrive/SuperAI/Project/GDA/GDA-OBB/labels/train/0121.txt\n",
            "Copied /content/drive/MyDrive/SuperAI/Project/GDA/train_temp_images_2/1710651085799.jpg to /content/drive/MyDrive/SuperAI/Project/GDA/GDA-OBB/images/train/1710651085799.jpg\n",
            "Copied /content/drive/MyDrive/SuperAI/Project/GDA/train_temp_OBBlabels_2/20240316_181558.txt to /content/drive/MyDrive/SuperAI/Project/GDA/GDA-OBB/labels/train/20240316_181558.txt\n",
            "Copied /content/drive/MyDrive/SuperAI/Project/GDA/train_temp_images_1/0062.jpg to /content/drive/MyDrive/SuperAI/Project/GDA/GDA-OBB/images/train/0062.jpg\n",
            "Copied /content/drive/MyDrive/SuperAI/Project/GDA/train_temp_OBBlabels_1/0030.txt to /content/drive/MyDrive/SuperAI/Project/GDA/GDA-OBB/labels/train/0030.txt\n",
            "Copied /content/drive/MyDrive/SuperAI/Project/GDA/train_temp_images_1/0099.jpg to /content/drive/MyDrive/SuperAI/Project/GDA/GDA-OBB/images/train/0099.jpg\n",
            "Copied /content/drive/MyDrive/SuperAI/Project/GDA/train_temp_OBBlabels_1/0113.txt to /content/drive/MyDrive/SuperAI/Project/GDA/GDA-OBB/labels/train/0113.txt\n",
            "Copied /content/drive/MyDrive/SuperAI/Project/GDA/train_temp_images_2/20240316_181706.jpg to /content/drive/MyDrive/SuperAI/Project/GDA/GDA-OBB/images/train/20240316_181706.jpg\n",
            "Copied /content/drive/MyDrive/SuperAI/Project/GDA/train_temp_OBBlabels_2/20240316_181330.txt to /content/drive/MyDrive/SuperAI/Project/GDA/GDA-OBB/labels/train/20240316_181330.txt\n",
            "Copied /content/drive/MyDrive/SuperAI/Project/GDA/train_temp_images_1/0102.jpg to /content/drive/MyDrive/SuperAI/Project/GDA/GDA-OBB/images/train/0102.jpg\n",
            "Copied /content/drive/MyDrive/SuperAI/Project/GDA/train_temp_OBBlabels_1/0129.txt to /content/drive/MyDrive/SuperAI/Project/GDA/GDA-OBB/labels/train/0129.txt\n",
            "Copied /content/drive/MyDrive/SuperAI/Project/GDA/train_temp_images_1/0032.jpg to /content/drive/MyDrive/SuperAI/Project/GDA/GDA-OBB/images/train/0032.jpg\n",
            "Copied /content/drive/MyDrive/SuperAI/Project/GDA/train_temp_OBBlabels_1/0131.txt to /content/drive/MyDrive/SuperAI/Project/GDA/GDA-OBB/labels/train/0131.txt\n",
            "Copied /content/drive/MyDrive/SuperAI/Project/GDA/train_temp_images_2/20240316_181429.jpg to /content/drive/MyDrive/SuperAI/Project/GDA/GDA-OBB/images/train/20240316_181429.jpg\n",
            "Copied /content/drive/MyDrive/SuperAI/Project/GDA/train_temp_OBBlabels_2/20240316_181734.txt to /content/drive/MyDrive/SuperAI/Project/GDA/GDA-OBB/labels/train/20240316_181734.txt\n",
            "Copied /content/drive/MyDrive/SuperAI/Project/GDA/train_temp_images_1/0038.jpg to /content/drive/MyDrive/SuperAI/Project/GDA/GDA-OBB/images/train/0038.jpg\n",
            "Copied /content/drive/MyDrive/SuperAI/Project/GDA/train_temp_OBBlabels_1/0050.txt to /content/drive/MyDrive/SuperAI/Project/GDA/GDA-OBB/labels/train/0050.txt\n",
            "Copied /content/drive/MyDrive/SuperAI/Project/GDA/train_temp_images_1/0093.jpg to /content/drive/MyDrive/SuperAI/Project/GDA/GDA-OBB/images/train/0093.jpg\n",
            "Copied /content/drive/MyDrive/SuperAI/Project/GDA/train_temp_OBBlabels_1/0059.txt to /content/drive/MyDrive/SuperAI/Project/GDA/GDA-OBB/labels/train/0059.txt\n",
            "Copied /content/drive/MyDrive/SuperAI/Project/GDA/train_temp_images_1/0034.jpg to /content/drive/MyDrive/SuperAI/Project/GDA/GDA-OBB/images/train/0034.jpg\n",
            "Copied /content/drive/MyDrive/SuperAI/Project/GDA/train_temp_OBBlabels_1/0133.txt to /content/drive/MyDrive/SuperAI/Project/GDA/GDA-OBB/labels/train/0133.txt\n",
            "Copied /content/drive/MyDrive/SuperAI/Project/GDA/train_temp_images_2/20240315_182758.jpg to /content/drive/MyDrive/SuperAI/Project/GDA/GDA-OBB/images/train/20240315_182758.jpg\n",
            "Copied /content/drive/MyDrive/SuperAI/Project/GDA/train_temp_OBBlabels_2/20240315_181811.txt to /content/drive/MyDrive/SuperAI/Project/GDA/GDA-OBB/labels/train/20240315_181811.txt\n",
            "Copied /content/drive/MyDrive/SuperAI/Project/GDA/train_temp_images_2/20240316_182726.jpg to /content/drive/MyDrive/SuperAI/Project/GDA/GDA-OBB/images/train/20240316_182726.jpg\n",
            "Copied /content/drive/MyDrive/SuperAI/Project/GDA/train_temp_OBBlabels_2/1710651085210.txt to /content/drive/MyDrive/SuperAI/Project/GDA/GDA-OBB/labels/train/1710651085210.txt\n",
            "Copied /content/drive/MyDrive/SuperAI/Project/GDA/train_temp_images_2/IMG20240316182034.jpg to /content/drive/MyDrive/SuperAI/Project/GDA/GDA-OBB/images/train/IMG20240316182034.jpg\n",
            "Copied /content/drive/MyDrive/SuperAI/Project/GDA/train_temp_OBBlabels_2/IMG_20240315_125548.txt to /content/drive/MyDrive/SuperAI/Project/GDA/GDA-OBB/labels/train/IMG_20240315_125548.txt\n",
            "Copied /content/drive/MyDrive/SuperAI/Project/GDA/train_temp_images_2/1710651066600.jpg to /content/drive/MyDrive/SuperAI/Project/GDA/GDA-OBB/images/train/1710651066600.jpg\n",
            "Copied /content/drive/MyDrive/SuperAI/Project/GDA/train_temp_OBBlabels_2/20240315_182809.txt to /content/drive/MyDrive/SuperAI/Project/GDA/GDA-OBB/labels/train/20240315_182809.txt\n",
            "Copied /content/drive/MyDrive/SuperAI/Project/GDA/train_temp_images_1/0001.jpg to /content/drive/MyDrive/SuperAI/Project/GDA/GDA-OBB/images/train/0001.jpg\n",
            "Copied /content/drive/MyDrive/SuperAI/Project/GDA/train_temp_OBBlabels_1/0110.txt to /content/drive/MyDrive/SuperAI/Project/GDA/GDA-OBB/labels/train/0110.txt\n",
            "Copied /content/drive/MyDrive/SuperAI/Project/GDA/train_temp_images_2/20240316_181330.jpg to /content/drive/MyDrive/SuperAI/Project/GDA/GDA-OBB/images/train/20240316_181330.jpg\n",
            "Copied /content/drive/MyDrive/SuperAI/Project/GDA/train_temp_OBBlabels_2/20240315_182133.txt to /content/drive/MyDrive/SuperAI/Project/GDA/GDA-OBB/labels/train/20240315_182133.txt\n",
            "Copied /content/drive/MyDrive/SuperAI/Project/GDA/train_temp_images_1/0048.jpg to /content/drive/MyDrive/SuperAI/Project/GDA/GDA-OBB/images/train/0048.jpg\n",
            "Copied /content/drive/MyDrive/SuperAI/Project/GDA/train_temp_OBBlabels_1/0025.txt to /content/drive/MyDrive/SuperAI/Project/GDA/GDA-OBB/labels/train/0025.txt\n",
            "Copied /content/drive/MyDrive/SuperAI/Project/GDA/train_temp_images_1/0002.jpg to /content/drive/MyDrive/SuperAI/Project/GDA/GDA-OBB/images/train/0002.jpg\n",
            "Copied /content/drive/MyDrive/SuperAI/Project/GDA/train_temp_OBBlabels_1/0118.txt to /content/drive/MyDrive/SuperAI/Project/GDA/GDA-OBB/labels/train/0118.txt\n",
            "Copied /content/drive/MyDrive/SuperAI/Project/GDA/train_temp_images_1/0007.jpg to /content/drive/MyDrive/SuperAI/Project/GDA/GDA-OBB/images/train/0007.jpg\n",
            "Copied /content/drive/MyDrive/SuperAI/Project/GDA/train_temp_OBBlabels_1/0080.txt to /content/drive/MyDrive/SuperAI/Project/GDA/GDA-OBB/labels/train/0080.txt\n",
            "Copied /content/drive/MyDrive/SuperAI/Project/GDA/train_temp_images_2/20240316_181435.jpg to /content/drive/MyDrive/SuperAI/Project/GDA/GDA-OBB/images/train/20240316_181435.jpg\n",
            "Copied /content/drive/MyDrive/SuperAI/Project/GDA/train_temp_OBBlabels_2/20240316_181126.txt to /content/drive/MyDrive/SuperAI/Project/GDA/GDA-OBB/labels/train/20240316_181126.txt\n",
            "Copied /content/drive/MyDrive/SuperAI/Project/GDA/train_temp_images_2/20240316_182042.jpg to /content/drive/MyDrive/SuperAI/Project/GDA/GDA-OBB/images/train/20240316_182042.jpg\n",
            "Copied /content/drive/MyDrive/SuperAI/Project/GDA/train_temp_OBBlabels_2/1710651084849.txt to /content/drive/MyDrive/SuperAI/Project/GDA/GDA-OBB/labels/train/1710651084849.txt\n",
            "Copied /content/drive/MyDrive/SuperAI/Project/GDA/train_temp_images_2/1710651083794.jpg to /content/drive/MyDrive/SuperAI/Project/GDA/GDA-OBB/images/train/1710651083794.jpg\n",
            "Copied /content/drive/MyDrive/SuperAI/Project/GDA/train_temp_OBBlabels_2/20240316_181117.txt to /content/drive/MyDrive/SuperAI/Project/GDA/GDA-OBB/labels/train/20240316_181117.txt\n",
            "Copied /content/drive/MyDrive/SuperAI/Project/GDA/train_temp_images_1/0043.jpg to /content/drive/MyDrive/SuperAI/Project/GDA/GDA-OBB/images/train/0043.jpg\n",
            "Copied /content/drive/MyDrive/SuperAI/Project/GDA/train_temp_OBBlabels_1/0011.txt to /content/drive/MyDrive/SuperAI/Project/GDA/GDA-OBB/labels/train/0011.txt\n",
            "Copied /content/drive/MyDrive/SuperAI/Project/GDA/train_temp_images_2/20240316_181451.jpg to /content/drive/MyDrive/SuperAI/Project/GDA/GDA-OBB/images/train/20240316_181451.jpg\n",
            "Copied /content/drive/MyDrive/SuperAI/Project/GDA/train_temp_OBBlabels_2/IMG20240316182204.txt to /content/drive/MyDrive/SuperAI/Project/GDA/GDA-OBB/labels/train/IMG20240316182204.txt\n",
            "Copied /content/drive/MyDrive/SuperAI/Project/GDA/train_temp_images_2/20240315_182133.jpg to /content/drive/MyDrive/SuperAI/Project/GDA/GDA-OBB/images/train/20240315_182133.jpg\n",
            "Copied /content/drive/MyDrive/SuperAI/Project/GDA/train_temp_OBBlabels_2/1710651083794.txt to /content/drive/MyDrive/SuperAI/Project/GDA/GDA-OBB/labels/train/1710651083794.txt\n",
            "Copied /content/drive/MyDrive/SuperAI/Project/GDA/train_temp_images_2/20240315_181811.jpg to /content/drive/MyDrive/SuperAI/Project/GDA/GDA-OBB/images/train/20240315_181811.jpg\n",
            "Copied /content/drive/MyDrive/SuperAI/Project/GDA/train_temp_OBBlabels_2/20240315_181915.txt to /content/drive/MyDrive/SuperAI/Project/GDA/GDA-OBB/labels/train/20240315_181915.txt\n",
            "Copied /content/drive/MyDrive/SuperAI/Project/GDA/train_temp_images_1/0024.jpg to /content/drive/MyDrive/SuperAI/Project/GDA/GDA-OBB/images/train/0024.jpg\n",
            "Copied /content/drive/MyDrive/SuperAI/Project/GDA/train_temp_OBBlabels_1/0087.txt to /content/drive/MyDrive/SuperAI/Project/GDA/GDA-OBB/labels/train/0087.txt\n",
            "Copied /content/drive/MyDrive/SuperAI/Project/GDA/train_temp_images_1/0127.jpg to /content/drive/MyDrive/SuperAI/Project/GDA/GDA-OBB/images/train/0127.jpg\n",
            "Copied /content/drive/MyDrive/SuperAI/Project/GDA/train_temp_OBBlabels_1/0029.txt to /content/drive/MyDrive/SuperAI/Project/GDA/GDA-OBB/labels/train/0029.txt\n",
            "Copied /content/drive/MyDrive/SuperAI/Project/GDA/train_temp_images_2/20240316_181558.jpg to /content/drive/MyDrive/SuperAI/Project/GDA/GDA-OBB/images/train/20240316_181558.jpg\n",
            "Copied /content/drive/MyDrive/SuperAI/Project/GDA/train_temp_OBBlabels_2/20240316_181657.txt to /content/drive/MyDrive/SuperAI/Project/GDA/GDA-OBB/labels/train/20240316_181657.txt\n",
            "Copied /content/drive/MyDrive/SuperAI/Project/GDA/train_temp_images_2/IMG20240316182405.jpg to /content/drive/MyDrive/SuperAI/Project/GDA/GDA-OBB/images/train/IMG20240316182405.jpg\n",
            "Copied /content/drive/MyDrive/SuperAI/Project/GDA/train_temp_OBBlabels_2/1710651065898.txt to /content/drive/MyDrive/SuperAI/Project/GDA/GDA-OBB/labels/train/1710651065898.txt\n",
            "Copied /content/drive/MyDrive/SuperAI/Project/GDA/train_temp_images_2/IMG20240316181435.jpg to /content/drive/MyDrive/SuperAI/Project/GDA/GDA-OBB/images/train/IMG20240316181435.jpg\n",
            "Copied /content/drive/MyDrive/SuperAI/Project/GDA/train_temp_OBBlabels_2/IMG20240316181638.txt to /content/drive/MyDrive/SuperAI/Project/GDA/GDA-OBB/labels/train/IMG20240316181638.txt\n",
            "Copied /content/drive/MyDrive/SuperAI/Project/GDA/train_temp_images_1/0084.jpg to /content/drive/MyDrive/SuperAI/Project/GDA/GDA-OBB/images/train/0084.jpg\n",
            "Copied /content/drive/MyDrive/SuperAI/Project/GDA/train_temp_OBBlabels_1/0021.txt to /content/drive/MyDrive/SuperAI/Project/GDA/GDA-OBB/labels/train/0021.txt\n",
            "Copied /content/drive/MyDrive/SuperAI/Project/GDA/train_temp_images_1/0050.jpg to /content/drive/MyDrive/SuperAI/Project/GDA/GDA-OBB/images/train/0050.jpg\n",
            "Copied /content/drive/MyDrive/SuperAI/Project/GDA/train_temp_OBBlabels_1/0085.txt to /content/drive/MyDrive/SuperAI/Project/GDA/GDA-OBB/labels/train/0085.txt\n",
            "Copied /content/drive/MyDrive/SuperAI/Project/GDA/train_temp_images_1/0060.jpg to /content/drive/MyDrive/SuperAI/Project/GDA/GDA-OBB/images/train/0060.jpg\n",
            "Copied /content/drive/MyDrive/SuperAI/Project/GDA/train_temp_OBBlabels_1/0106.txt to /content/drive/MyDrive/SuperAI/Project/GDA/GDA-OBB/labels/train/0106.txt\n",
            "Copied /content/drive/MyDrive/SuperAI/Project/GDA/train_temp_images_1/0011.jpg to /content/drive/MyDrive/SuperAI/Project/GDA/GDA-OBB/images/train/0011.jpg\n",
            "Copied /content/drive/MyDrive/SuperAI/Project/GDA/train_temp_OBBlabels_1/0099.txt to /content/drive/MyDrive/SuperAI/Project/GDA/GDA-OBB/labels/train/0099.txt\n",
            "Copied /content/drive/MyDrive/SuperAI/Project/GDA/train_temp_images_1/0075.jpg to /content/drive/MyDrive/SuperAI/Project/GDA/GDA-OBB/images/train/0075.jpg\n",
            "Copied /content/drive/MyDrive/SuperAI/Project/GDA/train_temp_OBBlabels_1/0077.txt to /content/drive/MyDrive/SuperAI/Project/GDA/GDA-OBB/labels/train/0077.txt\n",
            "Copied /content/drive/MyDrive/SuperAI/Project/GDA/train_temp_images_1/0095.jpg to /content/drive/MyDrive/SuperAI/Project/GDA/GDA-OBB/images/train/0095.jpg\n",
            "Copied /content/drive/MyDrive/SuperAI/Project/GDA/train_temp_OBBlabels_1/0065.txt to /content/drive/MyDrive/SuperAI/Project/GDA/GDA-OBB/labels/train/0065.txt\n",
            "Copied /content/drive/MyDrive/SuperAI/Project/GDA/train_temp_images_1/0119.jpg to /content/drive/MyDrive/SuperAI/Project/GDA/GDA-OBB/images/train/0119.jpg\n",
            "Copied /content/drive/MyDrive/SuperAI/Project/GDA/train_temp_OBBlabels_1/0069.txt to /content/drive/MyDrive/SuperAI/Project/GDA/GDA-OBB/labels/train/0069.txt\n",
            "Copied /content/drive/MyDrive/SuperAI/Project/GDA/train_temp_images_1/0059.jpg to /content/drive/MyDrive/SuperAI/Project/GDA/GDA-OBB/images/train/0059.jpg\n",
            "Copied /content/drive/MyDrive/SuperAI/Project/GDA/train_temp_OBBlabels_1/0107.txt to /content/drive/MyDrive/SuperAI/Project/GDA/GDA-OBB/labels/train/0107.txt\n",
            "Copied /content/drive/MyDrive/SuperAI/Project/GDA/train_temp_images_1/0052.jpg to /content/drive/MyDrive/SuperAI/Project/GDA/GDA-OBB/images/train/0052.jpg\n",
            "Copied /content/drive/MyDrive/SuperAI/Project/GDA/train_temp_OBBlabels_1/0112.txt to /content/drive/MyDrive/SuperAI/Project/GDA/GDA-OBB/labels/train/0112.txt\n",
            "Copied /content/drive/MyDrive/SuperAI/Project/GDA/train_temp_images_2/20240316_181321.jpg to /content/drive/MyDrive/SuperAI/Project/GDA/GDA-OBB/images/train/20240316_181321.jpg\n",
            "Copied /content/drive/MyDrive/SuperAI/Project/GDA/train_temp_OBBlabels_2/IMG20240316181131.txt to /content/drive/MyDrive/SuperAI/Project/GDA/GDA-OBB/labels/train/IMG20240316181131.txt\n",
            "Copied /content/drive/MyDrive/SuperAI/Project/GDA/train_temp_images_2/20240316_182403.jpg to /content/drive/MyDrive/SuperAI/Project/GDA/GDA-OBB/images/train/20240316_182403.jpg\n",
            "Copied /content/drive/MyDrive/SuperAI/Project/GDA/train_temp_OBBlabels_2/1710651066958.txt to /content/drive/MyDrive/SuperAI/Project/GDA/GDA-OBB/labels/train/1710651066958.txt\n",
            "Copied /content/drive/MyDrive/SuperAI/Project/GDA/train_temp_images_2/20240315_182804.jpg to /content/drive/MyDrive/SuperAI/Project/GDA/GDA-OBB/images/train/20240315_182804.jpg\n",
            "Copied /content/drive/MyDrive/SuperAI/Project/GDA/train_temp_OBBlabels_2/20240315_182750.txt to /content/drive/MyDrive/SuperAI/Project/GDA/GDA-OBB/labels/train/20240315_182750.txt\n",
            "Copied /content/drive/MyDrive/SuperAI/Project/GDA/train_temp_images_1/0008.jpg to /content/drive/MyDrive/SuperAI/Project/GDA/GDA-OBB/images/train/0008.jpg\n",
            "Copied /content/drive/MyDrive/SuperAI/Project/GDA/train_temp_OBBlabels_1/0067.txt to /content/drive/MyDrive/SuperAI/Project/GDA/GDA-OBB/labels/train/0067.txt\n",
            "Copied /content/drive/MyDrive/SuperAI/Project/GDA/train_temp_images_2/1710651084145.jpg to /content/drive/MyDrive/SuperAI/Project/GDA/GDA-OBB/images/train/1710651084145.jpg\n",
            "Copied /content/drive/MyDrive/SuperAI/Project/GDA/train_temp_OBBlabels_2/1710651083361.txt to /content/drive/MyDrive/SuperAI/Project/GDA/GDA-OBB/labels/train/1710651083361.txt\n",
            "Copied /content/drive/MyDrive/SuperAI/Project/GDA/train_temp_images_2/IMG20240316182130.jpg to /content/drive/MyDrive/SuperAI/Project/GDA/GDA-OBB/images/train/IMG20240316182130.jpg\n",
            "Copied /content/drive/MyDrive/SuperAI/Project/GDA/train_temp_OBBlabels_2/1710651085799.txt to /content/drive/MyDrive/SuperAI/Project/GDA/GDA-OBB/labels/train/1710651085799.txt\n",
            "Copied /content/drive/MyDrive/SuperAI/Project/GDA/train_temp_images_1/0082.jpg to /content/drive/MyDrive/SuperAI/Project/GDA/GDA-OBB/images/train/0082.jpg\n",
            "Copied /content/drive/MyDrive/SuperAI/Project/GDA/train_temp_OBBlabels_1/0015.txt to /content/drive/MyDrive/SuperAI/Project/GDA/GDA-OBB/labels/train/0015.txt\n",
            "Copied /content/drive/MyDrive/SuperAI/Project/GDA/train_temp_images_1/0120.jpg to /content/drive/MyDrive/SuperAI/Project/GDA/GDA-OBB/images/train/0120.jpg\n",
            "Copied /content/drive/MyDrive/SuperAI/Project/GDA/train_temp_OBBlabels_1/0052.txt to /content/drive/MyDrive/SuperAI/Project/GDA/GDA-OBB/labels/train/0052.txt\n",
            "Copied /content/drive/MyDrive/SuperAI/Project/GDA/train_temp_images_2/IMG20240316181638.jpg to /content/drive/MyDrive/SuperAI/Project/GDA/GDA-OBB/images/train/IMG20240316181638.jpg\n",
            "Copied /content/drive/MyDrive/SuperAI/Project/GDA/train_temp_OBBlabels_2/IMG20240316182130.txt to /content/drive/MyDrive/SuperAI/Project/GDA/GDA-OBB/labels/train/IMG20240316182130.txt\n",
            "Copied /content/drive/MyDrive/SuperAI/Project/GDA/train_temp_images_2/20240316_181311.jpg to /content/drive/MyDrive/SuperAI/Project/GDA/GDA-OBB/images/train/20240316_181311.jpg\n",
            "Copied /content/drive/MyDrive/SuperAI/Project/GDA/train_temp_OBBlabels_2/20240315_182246.txt to /content/drive/MyDrive/SuperAI/Project/GDA/GDA-OBB/labels/train/20240315_182246.txt\n",
            "Copied /content/drive/MyDrive/SuperAI/Project/GDA/train_temp_images_1/0110.jpg to /content/drive/MyDrive/SuperAI/Project/GDA/GDA-OBB/images/train/0110.jpg\n",
            "Copied /content/drive/MyDrive/SuperAI/Project/GDA/train_temp_OBBlabels_1/0022.txt to /content/drive/MyDrive/SuperAI/Project/GDA/GDA-OBB/labels/train/0022.txt\n",
            "Copied /content/drive/MyDrive/SuperAI/Project/GDA/train_temp_images_1/0054.jpg to /content/drive/MyDrive/SuperAI/Project/GDA/GDA-OBB/images/train/0054.jpg\n",
            "Copied /content/drive/MyDrive/SuperAI/Project/GDA/train_temp_OBBlabels_1/0117.txt to /content/drive/MyDrive/SuperAI/Project/GDA/GDA-OBB/labels/train/0117.txt\n",
            "Copied /content/drive/MyDrive/SuperAI/Project/GDA/train_temp_images_2/1710651067797.jpg to /content/drive/MyDrive/SuperAI/Project/GDA/GDA-OBB/images/train/1710651067797.jpg\n",
            "Copied /content/drive/MyDrive/SuperAI/Project/GDA/train_temp_OBBlabels_2/1710651067863.txt to /content/drive/MyDrive/SuperAI/Project/GDA/GDA-OBB/labels/train/1710651067863.txt\n",
            "Copied /content/drive/MyDrive/SuperAI/Project/GDA/train_temp_images_1/0121.jpg to /content/drive/MyDrive/SuperAI/Project/GDA/GDA-OBB/images/train/0121.jpg\n",
            "Copied /content/drive/MyDrive/SuperAI/Project/GDA/train_temp_OBBlabels_1/0097.txt to /content/drive/MyDrive/SuperAI/Project/GDA/GDA-OBB/labels/train/0097.txt\n",
            "Copied /content/drive/MyDrive/SuperAI/Project/GDA/train_temp_images_1/0113.jpg to /content/drive/MyDrive/SuperAI/Project/GDA/GDA-OBB/images/train/0113.jpg\n",
            "Copied /content/drive/MyDrive/SuperAI/Project/GDA/train_temp_OBBlabels_1/0109.txt to /content/drive/MyDrive/SuperAI/Project/GDA/GDA-OBB/labels/train/0109.txt\n",
            "Copied /content/drive/MyDrive/SuperAI/Project/GDA/train_temp_images_1/0073.jpg to /content/drive/MyDrive/SuperAI/Project/GDA/GDA-OBB/images/train/0073.jpg\n",
            "Copied /content/drive/MyDrive/SuperAI/Project/GDA/train_temp_OBBlabels_1/0018.txt to /content/drive/MyDrive/SuperAI/Project/GDA/GDA-OBB/labels/train/0018.txt\n",
            "Copied /content/drive/MyDrive/SuperAI/Project/GDA/train_temp_images_2/IMG20240316182243.jpg to /content/drive/MyDrive/SuperAI/Project/GDA/GDA-OBB/images/train/IMG20240316182243.jpg\n",
            "Copied /content/drive/MyDrive/SuperAI/Project/GDA/train_temp_OBBlabels_2/1710651085757.txt to /content/drive/MyDrive/SuperAI/Project/GDA/GDA-OBB/labels/train/1710651085757.txt\n",
            "Copied /content/drive/MyDrive/SuperAI/Project/GDA/train_temp_images_2/1710651067733.jpg to /content/drive/MyDrive/SuperAI/Project/GDA/GDA-OBB/images/train/1710651067733.jpg\n",
            "Copied /content/drive/MyDrive/SuperAI/Project/GDA/train_temp_OBBlabels_2/20240315_182758.txt to /content/drive/MyDrive/SuperAI/Project/GDA/GDA-OBB/labels/train/20240315_182758.txt\n",
            "Copied /content/drive/MyDrive/SuperAI/Project/GDA/train_temp_images_2/IMG20240316181830.jpg to /content/drive/MyDrive/SuperAI/Project/GDA/GDA-OBB/images/train/IMG20240316181830.jpg\n",
            "Copied /content/drive/MyDrive/SuperAI/Project/GDA/train_temp_OBBlabels_2/1710651085715.txt to /content/drive/MyDrive/SuperAI/Project/GDA/GDA-OBB/labels/train/1710651085715.txt\n",
            "Copied /content/drive/MyDrive/SuperAI/Project/GDA/train_temp_images_1/0104.jpg to /content/drive/MyDrive/SuperAI/Project/GDA/GDA-OBB/images/train/0104.jpg\n",
            "Copied /content/drive/MyDrive/SuperAI/Project/GDA/train_temp_OBBlabels_1/0115.txt to /content/drive/MyDrive/SuperAI/Project/GDA/GDA-OBB/labels/train/0115.txt\n",
            "Copied /content/drive/MyDrive/SuperAI/Project/GDA/train_temp_images_1/0090.jpg to /content/drive/MyDrive/SuperAI/Project/GDA/GDA-OBB/images/train/0090.jpg\n",
            "Copied /content/drive/MyDrive/SuperAI/Project/GDA/train_temp_OBBlabels_1/0023.txt to /content/drive/MyDrive/SuperAI/Project/GDA/GDA-OBB/labels/train/0023.txt\n",
            "Copied /content/drive/MyDrive/SuperAI/Project/GDA/train_temp_images_2/20240315_182038.jpg to /content/drive/MyDrive/SuperAI/Project/GDA/GDA-OBB/images/train/20240315_182038.jpg\n",
            "Copied /content/drive/MyDrive/SuperAI/Project/GDA/train_temp_OBBlabels_2/20240315_182121.txt to /content/drive/MyDrive/SuperAI/Project/GDA/GDA-OBB/labels/train/20240315_182121.txt\n",
            "Copied /content/drive/MyDrive/SuperAI/Project/GDA/train_temp_images_1/0017.jpg to /content/drive/MyDrive/SuperAI/Project/GDA/GDA-OBB/images/train/0017.jpg\n",
            "Copied /content/drive/MyDrive/SuperAI/Project/GDA/train_temp_OBBlabels_1/0047.txt to /content/drive/MyDrive/SuperAI/Project/GDA/GDA-OBB/labels/train/0047.txt\n",
            "Copied /content/drive/MyDrive/SuperAI/Project/GDA/train_temp_images_2/IMG20240316181104.jpg to /content/drive/MyDrive/SuperAI/Project/GDA/GDA-OBB/images/train/IMG20240316181104.jpg\n",
            "Copied /content/drive/MyDrive/SuperAI/Project/GDA/train_temp_OBBlabels_2/IMG20240316181435.txt to /content/drive/MyDrive/SuperAI/Project/GDA/GDA-OBB/labels/train/IMG20240316181435.txt\n",
            "Copied /content/drive/MyDrive/SuperAI/Project/GDA/train_temp_images_1/0015.jpg to /content/drive/MyDrive/SuperAI/Project/GDA/GDA-OBB/images/train/0015.jpg\n",
            "Copied /content/drive/MyDrive/SuperAI/Project/GDA/train_temp_OBBlabels_1/0083.txt to /content/drive/MyDrive/SuperAI/Project/GDA/GDA-OBB/labels/train/0083.txt\n",
            "Copied /content/drive/MyDrive/SuperAI/Project/GDA/train_temp_images_1/0063.jpg to /content/drive/MyDrive/SuperAI/Project/GDA/GDA-OBB/images/train/0063.jpg\n",
            "Copied /content/drive/MyDrive/SuperAI/Project/GDA/train_temp_OBBlabels_1/0032.txt to /content/drive/MyDrive/SuperAI/Project/GDA/GDA-OBB/labels/train/0032.txt\n",
            "Copied /content/drive/MyDrive/SuperAI/Project/GDA/train_temp_images_1/0081.jpg to /content/drive/MyDrive/SuperAI/Project/GDA/GDA-OBB/images/train/0081.jpg\n",
            "Copied /content/drive/MyDrive/SuperAI/Project/GDA/train_temp_OBBlabels_1/0048.txt to /content/drive/MyDrive/SuperAI/Project/GDA/GDA-OBB/labels/train/0048.txt\n",
            "Copied /content/drive/MyDrive/SuperAI/Project/GDA/train_temp_images_1/0107.jpg to /content/drive/MyDrive/SuperAI/Project/GDA/GDA-OBB/images/train/0107.jpg\n",
            "Copied /content/drive/MyDrive/SuperAI/Project/GDA/train_temp_OBBlabels_1/0062.txt to /content/drive/MyDrive/SuperAI/Project/GDA/GDA-OBB/labels/train/0062.txt\n",
            "Copied /content/drive/MyDrive/SuperAI/Project/GDA/train_temp_images_1/0031.jpg to /content/drive/MyDrive/SuperAI/Project/GDA/GDA-OBB/images/train/0031.jpg\n",
            "Copied /content/drive/MyDrive/SuperAI/Project/GDA/train_temp_OBBlabels_1/0031.txt to /content/drive/MyDrive/SuperAI/Project/GDA/GDA-OBB/labels/train/0031.txt\n",
            "Copied /content/drive/MyDrive/SuperAI/Project/GDA/train_temp_images_2/IMG20240316181732.jpg to /content/drive/MyDrive/SuperAI/Project/GDA/GDA-OBB/images/train/IMG20240316181732.jpg\n",
            "Copied /content/drive/MyDrive/SuperAI/Project/GDA/train_temp_OBBlabels_2/IMG20240316182712.txt to /content/drive/MyDrive/SuperAI/Project/GDA/GDA-OBB/labels/train/IMG20240316182712.txt\n",
            "Copied /content/drive/MyDrive/SuperAI/Project/GDA/train_temp_images_2/1710651084526.jpg to /content/drive/MyDrive/SuperAI/Project/GDA/GDA-OBB/images/train/1710651084526.jpg\n",
            "Copied /content/drive/MyDrive/SuperAI/Project/GDA/train_temp_OBBlabels_2/20240316_181311.txt to /content/drive/MyDrive/SuperAI/Project/GDA/GDA-OBB/labels/train/20240316_181311.txt\n",
            "Copied /content/drive/MyDrive/SuperAI/Project/GDA/train_temp_images_1/0004.jpg to /content/drive/MyDrive/SuperAI/Project/GDA/GDA-OBB/images/train/0004.jpg\n",
            "Copied /content/drive/MyDrive/SuperAI/Project/GDA/train_temp_OBBlabels_1/0120.txt to /content/drive/MyDrive/SuperAI/Project/GDA/GDA-OBB/labels/train/0120.txt\n",
            "Copied /content/drive/MyDrive/SuperAI/Project/GDA/train_temp_images_2/IMG20240316181208.jpg to /content/drive/MyDrive/SuperAI/Project/GDA/GDA-OBB/images/train/IMG20240316181208.jpg\n",
            "Copied /content/drive/MyDrive/SuperAI/Project/GDA/train_temp_OBBlabels_2/IMG20240316182405.txt to /content/drive/MyDrive/SuperAI/Project/GDA/GDA-OBB/labels/train/IMG20240316182405.txt\n",
            "Copied /content/drive/MyDrive/SuperAI/Project/GDA/train_temp_images_1/0133.jpg to /content/drive/MyDrive/SuperAI/Project/GDA/GDA-OBB/images/train/0133.jpg\n",
            "Copied /content/drive/MyDrive/SuperAI/Project/GDA/train_temp_OBBlabels_1/0060.txt to /content/drive/MyDrive/SuperAI/Project/GDA/GDA-OBB/labels/train/0060.txt\n",
            "Copied /content/drive/MyDrive/SuperAI/Project/GDA/train_temp_images_1/0022.jpg to /content/drive/MyDrive/SuperAI/Project/GDA/GDA-OBB/images/train/0022.jpg\n",
            "Copied /content/drive/MyDrive/SuperAI/Project/GDA/train_temp_OBBlabels_1/0078.txt to /content/drive/MyDrive/SuperAI/Project/GDA/GDA-OBB/labels/train/0078.txt\n",
            "Copied /content/drive/MyDrive/SuperAI/Project/GDA/train_temp_images_2/1710651067863.jpg to /content/drive/MyDrive/SuperAI/Project/GDA/GDA-OBB/images/train/1710651067863.jpg\n",
            "Copied /content/drive/MyDrive/SuperAI/Project/GDA/train_temp_OBBlabels_2/20240316_182403.txt to /content/drive/MyDrive/SuperAI/Project/GDA/GDA-OBB/labels/train/20240316_182403.txt\n",
            "Copied /content/drive/MyDrive/SuperAI/Project/GDA/train_temp_images_2/20240315_182121.jpg to /content/drive/MyDrive/SuperAI/Project/GDA/GDA-OBB/images/train/20240315_182121.jpg\n",
            "Copied /content/drive/MyDrive/SuperAI/Project/GDA/train_temp_OBBlabels_2/20240315_182804.txt to /content/drive/MyDrive/SuperAI/Project/GDA/GDA-OBB/labels/train/20240315_182804.txt\n",
            "Copied /content/drive/MyDrive/SuperAI/Project/GDA/train_temp_images_2/20240315_182240.jpg to /content/drive/MyDrive/SuperAI/Project/GDA/GDA-OBB/images/train/20240315_182240.jpg\n",
            "Copied /content/drive/MyDrive/SuperAI/Project/GDA/train_temp_OBBlabels_2/20240315_182038.txt to /content/drive/MyDrive/SuperAI/Project/GDA/GDA-OBB/labels/train/20240315_182038.txt\n",
            "Copied /content/drive/MyDrive/SuperAI/Project/GDA/train_temp_images_2/20240316_181734.jpg to /content/drive/MyDrive/SuperAI/Project/GDA/GDA-OBB/images/train/20240316_181734.jpg\n",
            "Copied /content/drive/MyDrive/SuperAI/Project/GDA/train_temp_OBBlabels_2/1710651085619.txt to /content/drive/MyDrive/SuperAI/Project/GDA/GDA-OBB/labels/train/1710651085619.txt\n",
            "Copied /content/drive/MyDrive/SuperAI/Project/GDA/train_temp_images_1/0078.jpg to /content/drive/MyDrive/SuperAI/Project/GDA/GDA-OBB/images/train/0078.jpg\n",
            "Copied /content/drive/MyDrive/SuperAI/Project/GDA/train_temp_OBBlabels_1/0122.txt to /content/drive/MyDrive/SuperAI/Project/GDA/GDA-OBB/labels/train/0122.txt\n",
            "Copied /content/drive/MyDrive/SuperAI/Project/GDA/train_temp_images_1/0037.jpg to /content/drive/MyDrive/SuperAI/Project/GDA/GDA-OBB/images/train/0037.jpg\n",
            "Copied /content/drive/MyDrive/SuperAI/Project/GDA/train_temp_OBBlabels_1/0119.txt to /content/drive/MyDrive/SuperAI/Project/GDA/GDA-OBB/labels/train/0119.txt\n",
            "Copied /content/drive/MyDrive/SuperAI/Project/GDA/train_temp_images_2/20240316_181341.jpg to /content/drive/MyDrive/SuperAI/Project/GDA/GDA-OBB/images/train/20240316_181341.jpg\n",
            "Copied /content/drive/MyDrive/SuperAI/Project/GDA/train_temp_OBBlabels_2/20240316_181451.txt to /content/drive/MyDrive/SuperAI/Project/GDA/GDA-OBB/labels/train/20240316_181451.txt\n",
            "Copied /content/drive/MyDrive/SuperAI/Project/GDA/train_temp_images_2/20240316_182251.jpg to /content/drive/MyDrive/SuperAI/Project/GDA/GDA-OBB/images/train/20240316_182251.jpg\n",
            "Copied /content/drive/MyDrive/SuperAI/Project/GDA/train_temp_OBBlabels_2/IMG20240316181431.txt to /content/drive/MyDrive/SuperAI/Project/GDA/GDA-OBB/labels/train/IMG20240316181431.txt\n",
            "Copied /content/drive/MyDrive/SuperAI/Project/GDA/train_temp_images_1/0106.jpg to /content/drive/MyDrive/SuperAI/Project/GDA/GDA-OBB/images/train/0106.jpg\n",
            "Copied /content/drive/MyDrive/SuperAI/Project/GDA/train_temp_OBBlabels_1/0111.txt to /content/drive/MyDrive/SuperAI/Project/GDA/GDA-OBB/labels/train/0111.txt\n",
            "Copied /content/drive/MyDrive/SuperAI/Project/GDA/train_temp_images_1/0071.jpg to /content/drive/MyDrive/SuperAI/Project/GDA/GDA-OBB/images/train/0071.jpg\n",
            "Copied /content/drive/MyDrive/SuperAI/Project/GDA/train_temp_OBBlabels_1/0104.txt to /content/drive/MyDrive/SuperAI/Project/GDA/GDA-OBB/labels/train/0104.txt\n",
            "Copied /content/drive/MyDrive/SuperAI/Project/GDA/train_temp_images_2/20240315_181915.jpg to /content/drive/MyDrive/SuperAI/Project/GDA/GDA-OBB/images/train/20240315_181915.jpg\n",
            "Copied /content/drive/MyDrive/SuperAI/Project/GDA/train_temp_OBBlabels_2/IMG20240316181208.txt to /content/drive/MyDrive/SuperAI/Project/GDA/GDA-OBB/labels/train/IMG20240316181208.txt\n",
            "Copied /content/drive/MyDrive/SuperAI/Project/GDA/train_temp_images_1/0111.jpg to /content/drive/MyDrive/SuperAI/Project/GDA/GDA-OBB/images/train/0111.jpg\n",
            "Copied /content/drive/MyDrive/SuperAI/Project/GDA/train_temp_OBBlabels_1/0005.txt to /content/drive/MyDrive/SuperAI/Project/GDA/GDA-OBB/labels/train/0005.txt\n",
            "Copied /content/drive/MyDrive/SuperAI/Project/GDA/train_temp_images_2/20240315_182754.jpg to /content/drive/MyDrive/SuperAI/Project/GDA/GDA-OBB/images/train/20240315_182754.jpg\n",
            "Copied /content/drive/MyDrive/SuperAI/Project/GDA/train_temp_OBBlabels_2/20240315_182225.txt to /content/drive/MyDrive/SuperAI/Project/GDA/GDA-OBB/labels/train/20240315_182225.txt\n",
            "Copied /content/drive/MyDrive/SuperAI/Project/GDA/train_temp_images_2/20240315_182225.jpg to /content/drive/MyDrive/SuperAI/Project/GDA/GDA-OBB/images/train/20240315_182225.jpg\n",
            "Copied /content/drive/MyDrive/SuperAI/Project/GDA/train_temp_OBBlabels_2/20240316_181341.txt to /content/drive/MyDrive/SuperAI/Project/GDA/GDA-OBB/labels/train/20240316_181341.txt\n",
            "Copied /content/drive/MyDrive/SuperAI/Project/GDA/train_temp_images_2/IMG20240316182712.jpg to /content/drive/MyDrive/SuperAI/Project/GDA/GDA-OBB/images/val/IMG20240316182712.jpg\n",
            "Copied /content/drive/MyDrive/SuperAI/Project/GDA/train_temp_OBBlabels_2/20240315_182259.txt to /content/drive/MyDrive/SuperAI/Project/GDA/GDA-OBB/labels/val/20240315_182259.txt\n",
            "Copied /content/drive/MyDrive/SuperAI/Project/GDA/train_temp_images_2/20240316_181657.jpg to /content/drive/MyDrive/SuperAI/Project/GDA/GDA-OBB/images/val/20240316_181657.jpg\n",
            "Copied /content/drive/MyDrive/SuperAI/Project/GDA/train_temp_OBBlabels_2/20240316_181321.txt to /content/drive/MyDrive/SuperAI/Project/GDA/GDA-OBB/labels/val/20240316_181321.txt\n",
            "Copied /content/drive/MyDrive/SuperAI/Project/GDA/train_temp_images_2/1710651084849.jpg to /content/drive/MyDrive/SuperAI/Project/GDA/GDA-OBB/images/val/1710651084849.jpg\n",
            "Copied /content/drive/MyDrive/SuperAI/Project/GDA/train_temp_OBBlabels_2/20240316_182042.txt to /content/drive/MyDrive/SuperAI/Project/GDA/GDA-OBB/labels/val/20240316_182042.txt\n",
            "Copied /content/drive/MyDrive/SuperAI/Project/GDA/train_temp_images_1/0069.jpg to /content/drive/MyDrive/SuperAI/Project/GDA/GDA-OBB/images/val/0069.jpg\n",
            "Copied /content/drive/MyDrive/SuperAI/Project/GDA/train_temp_OBBlabels_1/0016.txt to /content/drive/MyDrive/SuperAI/Project/GDA/GDA-OBB/labels/val/0016.txt\n",
            "Copied /content/drive/MyDrive/SuperAI/Project/GDA/train_temp_images_2/20240315_182750.jpg to /content/drive/MyDrive/SuperAI/Project/GDA/GDA-OBB/images/val/20240315_182750.jpg\n",
            "Copied /content/drive/MyDrive/SuperAI/Project/GDA/train_temp_OBBlabels_2/1710651066600.txt to /content/drive/MyDrive/SuperAI/Project/GDA/GDA-OBB/labels/val/1710651066600.txt\n",
            "Copied /content/drive/MyDrive/SuperAI/Project/GDA/train_temp_images_1/0040.jpg to /content/drive/MyDrive/SuperAI/Project/GDA/GDA-OBB/images/val/0040.jpg\n",
            "Copied /content/drive/MyDrive/SuperAI/Project/GDA/train_temp_OBBlabels_1/0026.txt to /content/drive/MyDrive/SuperAI/Project/GDA/GDA-OBB/labels/val/0026.txt\n",
            "Copied /content/drive/MyDrive/SuperAI/Project/GDA/train_temp_images_2/IMG20240316181431.jpg to /content/drive/MyDrive/SuperAI/Project/GDA/GDA-OBB/images/val/IMG20240316181431.jpg\n",
            "Copied /content/drive/MyDrive/SuperAI/Project/GDA/train_temp_OBBlabels_2/IMG20240316182243.txt to /content/drive/MyDrive/SuperAI/Project/GDA/GDA-OBB/labels/val/IMG20240316182243.txt\n",
            "Copied /content/drive/MyDrive/SuperAI/Project/GDA/train_temp_images_1/0086.jpg to /content/drive/MyDrive/SuperAI/Project/GDA/GDA-OBB/images/val/0086.jpg\n",
            "Copied /content/drive/MyDrive/SuperAI/Project/GDA/train_temp_OBBlabels_1/0102.txt to /content/drive/MyDrive/SuperAI/Project/GDA/GDA-OBB/labels/val/0102.txt\n",
            "Copied /content/drive/MyDrive/SuperAI/Project/GDA/train_temp_images_2/20240315_182246.jpg to /content/drive/MyDrive/SuperAI/Project/GDA/GDA-OBB/images/val/20240315_182246.jpg\n",
            "Copied /content/drive/MyDrive/SuperAI/Project/GDA/train_temp_OBBlabels_2/20240315_182211.txt to /content/drive/MyDrive/SuperAI/Project/GDA/GDA-OBB/labels/val/20240315_182211.txt\n",
            "Copied /content/drive/MyDrive/SuperAI/Project/GDA/train_temp_images_2/1710651085210.jpg to /content/drive/MyDrive/SuperAI/Project/GDA/GDA-OBB/images/val/1710651085210.jpg\n",
            "Copied /content/drive/MyDrive/SuperAI/Project/GDA/train_temp_OBBlabels_2/1710651067797.txt to /content/drive/MyDrive/SuperAI/Project/GDA/GDA-OBB/labels/val/1710651067797.txt\n",
            "Copied /content/drive/MyDrive/SuperAI/Project/GDA/train_temp_images_1/0112.jpg to /content/drive/MyDrive/SuperAI/Project/GDA/GDA-OBB/images/val/0112.jpg\n",
            "Copied /content/drive/MyDrive/SuperAI/Project/GDA/train_temp_OBBlabels_1/0043.txt to /content/drive/MyDrive/SuperAI/Project/GDA/GDA-OBB/labels/val/0043.txt\n",
            "Copied /content/drive/MyDrive/SuperAI/Project/GDA/train_temp_images_1/0065.jpg to /content/drive/MyDrive/SuperAI/Project/GDA/GDA-OBB/images/val/0065.jpg\n",
            "Copied /content/drive/MyDrive/SuperAI/Project/GDA/train_temp_OBBlabels_1/0004.txt to /content/drive/MyDrive/SuperAI/Project/GDA/GDA-OBB/labels/val/0004.txt\n",
            "Copied /content/drive/MyDrive/SuperAI/Project/GDA/train_temp_images_1/0115.jpg to /content/drive/MyDrive/SuperAI/Project/GDA/GDA-OBB/images/val/0115.jpg\n",
            "Copied /content/drive/MyDrive/SuperAI/Project/GDA/train_temp_OBBlabels_1/0002.txt to /content/drive/MyDrive/SuperAI/Project/GDA/GDA-OBB/labels/val/0002.txt\n",
            "Copied /content/drive/MyDrive/SuperAI/Project/GDA/train_temp_images_1/0085.jpg to /content/drive/MyDrive/SuperAI/Project/GDA/GDA-OBB/images/val/0085.jpg\n",
            "Copied /content/drive/MyDrive/SuperAI/Project/GDA/train_temp_OBBlabels_1/0127.txt to /content/drive/MyDrive/SuperAI/Project/GDA/GDA-OBB/labels/val/0127.txt\n",
            "Copied /content/drive/MyDrive/SuperAI/Project/GDA/train_temp_images_1/0083.jpg to /content/drive/MyDrive/SuperAI/Project/GDA/GDA-OBB/images/val/0083.jpg\n",
            "Copied /content/drive/MyDrive/SuperAI/Project/GDA/train_temp_OBBlabels_1/0090.txt to /content/drive/MyDrive/SuperAI/Project/GDA/GDA-OBB/labels/val/0090.txt\n",
            "Copied /content/drive/MyDrive/SuperAI/Project/GDA/train_temp_images_1/0018.jpg to /content/drive/MyDrive/SuperAI/Project/GDA/GDA-OBB/images/val/0018.jpg\n",
            "Copied /content/drive/MyDrive/SuperAI/Project/GDA/train_temp_OBBlabels_1/0071.txt to /content/drive/MyDrive/SuperAI/Project/GDA/GDA-OBB/labels/val/0071.txt\n",
            "Copied /content/drive/MyDrive/SuperAI/Project/GDA/train_temp_images_2/1710651085619.jpg to /content/drive/MyDrive/SuperAI/Project/GDA/GDA-OBB/images/val/1710651085619.jpg\n",
            "Copied /content/drive/MyDrive/SuperAI/Project/GDA/train_temp_OBBlabels_2/1710651065474.txt to /content/drive/MyDrive/SuperAI/Project/GDA/GDA-OBB/labels/val/1710651065474.txt\n",
            "Copied /content/drive/MyDrive/SuperAI/Project/GDA/train_temp_images_2/20240315_182112.jpg to /content/drive/MyDrive/SuperAI/Project/GDA/GDA-OBB/images/val/20240315_182112.jpg\n",
            "Copied /content/drive/MyDrive/SuperAI/Project/GDA/train_temp_OBBlabels_2/20240315_182254.txt to /content/drive/MyDrive/SuperAI/Project/GDA/GDA-OBB/labels/val/20240315_182254.txt\n",
            "Copied /content/drive/MyDrive/SuperAI/Project/GDA/train_temp_images_2/IMG20240316182204.jpg to /content/drive/MyDrive/SuperAI/Project/GDA/GDA-OBB/images/val/IMG20240316182204.jpg\n",
            "Copied /content/drive/MyDrive/SuperAI/Project/GDA/train_temp_OBBlabels_2/IMG20240316181732.txt to /content/drive/MyDrive/SuperAI/Project/GDA/GDA-OBB/labels/val/IMG20240316181732.txt\n",
            "Copied /content/drive/MyDrive/SuperAI/Project/GDA/train_temp_images_1/0116.jpg to /content/drive/MyDrive/SuperAI/Project/GDA/GDA-OBB/images/val/0116.jpg\n",
            "Copied /content/drive/MyDrive/SuperAI/Project/GDA/train_temp_OBBlabels_1/0116.txt to /content/drive/MyDrive/SuperAI/Project/GDA/GDA-OBB/labels/val/0116.txt\n",
            "Copied /content/drive/MyDrive/SuperAI/Project/GDA/train_temp_images_1/0021.jpg to /content/drive/MyDrive/SuperAI/Project/GDA/GDA-OBB/images/val/0021.jpg\n",
            "Copied /content/drive/MyDrive/SuperAI/Project/GDA/train_temp_OBBlabels_1/0054.txt to /content/drive/MyDrive/SuperAI/Project/GDA/GDA-OBB/labels/val/0054.txt\n",
            "Copied /content/drive/MyDrive/SuperAI/Project/GDA/train_temp_images_1/0114.jpg to /content/drive/MyDrive/SuperAI/Project/GDA/GDA-OBB/images/val/0114.jpg\n",
            "Copied /content/drive/MyDrive/SuperAI/Project/GDA/train_temp_OBBlabels_1/0058.txt to /content/drive/MyDrive/SuperAI/Project/GDA/GDA-OBB/labels/val/0058.txt\n",
            "Copied /content/drive/MyDrive/SuperAI/Project/GDA/train_temp_images_1/0117.jpg to /content/drive/MyDrive/SuperAI/Project/GDA/GDA-OBB/images/val/0117.jpg\n",
            "Copied /content/drive/MyDrive/SuperAI/Project/GDA/train_temp_OBBlabels_1/0056.txt to /content/drive/MyDrive/SuperAI/Project/GDA/GDA-OBB/labels/val/0056.txt\n",
            "Copied /content/drive/MyDrive/SuperAI/Project/GDA/train_temp_images_1/0109.jpg to /content/drive/MyDrive/SuperAI/Project/GDA/GDA-OBB/images/val/0109.jpg\n",
            "Copied /content/drive/MyDrive/SuperAI/Project/GDA/train_temp_OBBlabels_1/0010.txt to /content/drive/MyDrive/SuperAI/Project/GDA/GDA-OBB/labels/val/0010.txt\n",
            "Copied /content/drive/MyDrive/SuperAI/Project/GDA/train_temp_images_1/0056.jpg to /content/drive/MyDrive/SuperAI/Project/GDA/GDA-OBB/images/val/0056.jpg\n",
            "Copied /content/drive/MyDrive/SuperAI/Project/GDA/train_temp_OBBlabels_1/0017.txt to /content/drive/MyDrive/SuperAI/Project/GDA/GDA-OBB/labels/val/0017.txt\n",
            "Copied /content/drive/MyDrive/SuperAI/Project/GDA/train_temp_images_2/IMG20240316181909.jpg to /content/drive/MyDrive/SuperAI/Project/GDA/GDA-OBB/images/val/IMG20240316181909.jpg\n",
            "Copied /content/drive/MyDrive/SuperAI/Project/GDA/train_temp_OBBlabels_2/IMG20240316182034.txt to /content/drive/MyDrive/SuperAI/Project/GDA/GDA-OBB/labels/val/IMG20240316182034.txt\n",
            "Copied /content/drive/MyDrive/SuperAI/Project/GDA/train_temp_images_2/20240315_182149.jpg to /content/drive/MyDrive/SuperAI/Project/GDA/GDA-OBB/images/val/20240315_182149.jpg\n",
            "Copied /content/drive/MyDrive/SuperAI/Project/GDA/train_temp_OBBlabels_2/20240316_181811.txt to /content/drive/MyDrive/SuperAI/Project/GDA/GDA-OBB/labels/val/20240316_181811.txt\n",
            "Copied /content/drive/MyDrive/SuperAI/Project/GDA/train_temp_images_1/0080.jpg to /content/drive/MyDrive/SuperAI/Project/GDA/GDA-OBB/images/val/0080.jpg\n",
            "Copied /content/drive/MyDrive/SuperAI/Project/GDA/train_temp_OBBlabels_1/0036.txt to /content/drive/MyDrive/SuperAI/Project/GDA/GDA-OBB/labels/val/0036.txt\n",
            "Copied /content/drive/MyDrive/SuperAI/Project/GDA/train_temp_images_2/1710651083361.jpg to /content/drive/MyDrive/SuperAI/Project/GDA/GDA-OBB/images/val/1710651083361.jpg\n",
            "Copied /content/drive/MyDrive/SuperAI/Project/GDA/train_temp_OBBlabels_2/20240315_182240.txt to /content/drive/MyDrive/SuperAI/Project/GDA/GDA-OBB/labels/val/20240315_182240.txt\n",
            "Copied /content/drive/MyDrive/SuperAI/Project/GDA/train_temp_images_2/IMG20240316181131.jpg to /content/drive/MyDrive/SuperAI/Project/GDA/GDA-OBB/images/val/IMG20240316181131.jpg\n",
            "Copied /content/drive/MyDrive/SuperAI/Project/GDA/train_temp_OBBlabels_2/IMG20240316181830.txt to /content/drive/MyDrive/SuperAI/Project/GDA/GDA-OBB/labels/val/IMG20240316181830.txt\n",
            "Copied /content/drive/MyDrive/SuperAI/Project/GDA/train_temp_images_2/1710651065898.jpg to /content/drive/MyDrive/SuperAI/Project/GDA/GDA-OBB/images/val/1710651065898.jpg\n",
            "Copied /content/drive/MyDrive/SuperAI/Project/GDA/train_temp_OBBlabels_2/1710651067733.txt to /content/drive/MyDrive/SuperAI/Project/GDA/GDA-OBB/labels/val/1710651067733.txt\n",
            "Copied /content/drive/MyDrive/SuperAI/Project/GDA/train_temp_images_1/0025.jpg to /content/drive/MyDrive/SuperAI/Project/GDA/GDA-OBB/images/val/0025.jpg\n",
            "Copied /content/drive/MyDrive/SuperAI/Project/GDA/train_temp_OBBlabels_1/0088.txt to /content/drive/MyDrive/SuperAI/Project/GDA/GDA-OBB/labels/val/0088.txt\n",
            "Copied /content/drive/MyDrive/SuperAI/Project/GDA/train_temp_images_1/0092.jpg to /content/drive/MyDrive/SuperAI/Project/GDA/GDA-OBB/images/val/0092.jpg\n",
            "Copied /content/drive/MyDrive/SuperAI/Project/GDA/train_temp_OBBlabels_1/0001.txt to /content/drive/MyDrive/SuperAI/Project/GDA/GDA-OBB/labels/val/0001.txt\n"
          ]
        }
      ]
    },
    {
      "cell_type": "markdown",
      "source": [
        "# write YAML file"
      ],
      "metadata": {
        "id": "GijAOCmQeSFn"
      }
    },
    {
      "cell_type": "code",
      "source": [
        "# Content to be written to the YAML file\n",
        "yaml_content = \"\"\"# Train/val/test sets as 1) dir: path/to/imgs, 2) file: path/to/imgs.txt, or 3) list: [path/to/imgs1, path/to/imgs2, ..]\n",
        "path: /content/drive/MyDrive/SuperAI/Project/GDA/GDA-OBB # dataset root dir\n",
        "train: /content/drive/MyDrive/SuperAI/Project/GDA/GDA-OBB/images/train # train images (relative to 'path')\n",
        "val: /content/drive/MyDrive/SuperAI/Project/GDA/GDA-OBB/images/val # val images (relative to 'path')\n",
        "#test: /content/drive/MyDrive/SuperAI/Project/GDA/test # test images (optional)\n",
        "\n",
        "# Classes\n",
        "names:\n",
        "  0: Energy\n",
        "  1: Sugar\n",
        "  2: Fat\n",
        "  3: Sodium\n",
        "\"\"\"\n",
        "\n",
        "# Write to the YAML file\n",
        "with open('/content/drive/MyDrive/SuperAI/Project/GDA/GDA_yolo-obb.yaml', 'w') as file:\n",
        "    file.write(yaml_content)\n",
        "\n",
        "print('GDA_yolo-obb.yaml has been created.')\n"
      ],
      "metadata": {
        "colab": {
          "base_uri": "https://localhost:8080/"
        },
        "id": "8xcqMNFAeR0J",
        "outputId": "58f65f24-6584-4808-d767-2ffa167ed02d"
      },
      "execution_count": null,
      "outputs": [
        {
          "output_type": "stream",
          "name": "stdout",
          "text": [
            "GDA_yolo-obb.yaml has been created.\n"
          ]
        }
      ]
    },
    {
      "cell_type": "markdown",
      "source": [
        "# YOLO-OBB"
      ],
      "metadata": {
        "id": "KyHh2ry7cXxf"
      }
    },
    {
      "cell_type": "code",
      "source": [
        "# Install the ultralytics package from PyPI\n",
        "!pip install ultralytics"
      ],
      "metadata": {
        "colab": {
          "base_uri": "https://localhost:8080/"
        },
        "id": "CUnkCqK-49Mw",
        "outputId": "8ceb5af8-c676-4c17-ccfd-e0d142c1e746"
      },
      "execution_count": 3,
      "outputs": [
        {
          "output_type": "stream",
          "name": "stdout",
          "text": [
            "Collecting ultralytics\n",
            "  Downloading ultralytics-8.1.30-py3-none-any.whl (722 kB)\n",
            "\u001b[2K     \u001b[90m━━━━━━━━━━━━━━━━━━━━━━━━━━━━━━━━━━━━━━━━\u001b[0m \u001b[32m722.0/722.0 kB\u001b[0m \u001b[31m9.5 MB/s\u001b[0m eta \u001b[36m0:00:00\u001b[0m\n",
            "\u001b[?25hRequirement already satisfied: matplotlib>=3.3.0 in /usr/local/lib/python3.10/dist-packages (from ultralytics) (3.7.1)\n",
            "Requirement already satisfied: opencv-python>=4.6.0 in /usr/local/lib/python3.10/dist-packages (from ultralytics) (4.8.0.76)\n",
            "Requirement already satisfied: pillow>=7.1.2 in /usr/local/lib/python3.10/dist-packages (from ultralytics) (9.4.0)\n",
            "Requirement already satisfied: pyyaml>=5.3.1 in /usr/local/lib/python3.10/dist-packages (from ultralytics) (6.0.1)\n",
            "Requirement already satisfied: requests>=2.23.0 in /usr/local/lib/python3.10/dist-packages (from ultralytics) (2.31.0)\n",
            "Requirement already satisfied: scipy>=1.4.1 in /usr/local/lib/python3.10/dist-packages (from ultralytics) (1.11.4)\n",
            "Requirement already satisfied: torch>=1.8.0 in /usr/local/lib/python3.10/dist-packages (from ultralytics) (2.2.1+cu121)\n",
            "Requirement already satisfied: torchvision>=0.9.0 in /usr/local/lib/python3.10/dist-packages (from ultralytics) (0.17.1+cu121)\n",
            "Requirement already satisfied: tqdm>=4.64.0 in /usr/local/lib/python3.10/dist-packages (from ultralytics) (4.66.2)\n",
            "Requirement already satisfied: psutil in /usr/local/lib/python3.10/dist-packages (from ultralytics) (5.9.5)\n",
            "Requirement already satisfied: py-cpuinfo in /usr/local/lib/python3.10/dist-packages (from ultralytics) (9.0.0)\n",
            "Collecting thop>=0.1.1 (from ultralytics)\n",
            "  Downloading thop-0.1.1.post2209072238-py3-none-any.whl (15 kB)\n",
            "Requirement already satisfied: pandas>=1.1.4 in /usr/local/lib/python3.10/dist-packages (from ultralytics) (1.5.3)\n",
            "Requirement already satisfied: seaborn>=0.11.0 in /usr/local/lib/python3.10/dist-packages (from ultralytics) (0.13.1)\n",
            "Requirement already satisfied: contourpy>=1.0.1 in /usr/local/lib/python3.10/dist-packages (from matplotlib>=3.3.0->ultralytics) (1.2.0)\n",
            "Requirement already satisfied: cycler>=0.10 in /usr/local/lib/python3.10/dist-packages (from matplotlib>=3.3.0->ultralytics) (0.12.1)\n",
            "Requirement already satisfied: fonttools>=4.22.0 in /usr/local/lib/python3.10/dist-packages (from matplotlib>=3.3.0->ultralytics) (4.49.0)\n",
            "Requirement already satisfied: kiwisolver>=1.0.1 in /usr/local/lib/python3.10/dist-packages (from matplotlib>=3.3.0->ultralytics) (1.4.5)\n",
            "Requirement already satisfied: numpy>=1.20 in /usr/local/lib/python3.10/dist-packages (from matplotlib>=3.3.0->ultralytics) (1.25.2)\n",
            "Requirement already satisfied: packaging>=20.0 in /usr/local/lib/python3.10/dist-packages (from matplotlib>=3.3.0->ultralytics) (24.0)\n",
            "Requirement already satisfied: pyparsing>=2.3.1 in /usr/local/lib/python3.10/dist-packages (from matplotlib>=3.3.0->ultralytics) (3.1.2)\n",
            "Requirement already satisfied: python-dateutil>=2.7 in /usr/local/lib/python3.10/dist-packages (from matplotlib>=3.3.0->ultralytics) (2.8.2)\n",
            "Requirement already satisfied: pytz>=2020.1 in /usr/local/lib/python3.10/dist-packages (from pandas>=1.1.4->ultralytics) (2023.4)\n",
            "Requirement already satisfied: charset-normalizer<4,>=2 in /usr/local/lib/python3.10/dist-packages (from requests>=2.23.0->ultralytics) (3.3.2)\n",
            "Requirement already satisfied: idna<4,>=2.5 in /usr/local/lib/python3.10/dist-packages (from requests>=2.23.0->ultralytics) (3.6)\n",
            "Requirement already satisfied: urllib3<3,>=1.21.1 in /usr/local/lib/python3.10/dist-packages (from requests>=2.23.0->ultralytics) (2.0.7)\n",
            "Requirement already satisfied: certifi>=2017.4.17 in /usr/local/lib/python3.10/dist-packages (from requests>=2.23.0->ultralytics) (2024.2.2)\n",
            "Requirement already satisfied: filelock in /usr/local/lib/python3.10/dist-packages (from torch>=1.8.0->ultralytics) (3.13.1)\n",
            "Requirement already satisfied: typing-extensions>=4.8.0 in /usr/local/lib/python3.10/dist-packages (from torch>=1.8.0->ultralytics) (4.10.0)\n",
            "Requirement already satisfied: sympy in /usr/local/lib/python3.10/dist-packages (from torch>=1.8.0->ultralytics) (1.12)\n",
            "Requirement already satisfied: networkx in /usr/local/lib/python3.10/dist-packages (from torch>=1.8.0->ultralytics) (3.2.1)\n",
            "Requirement already satisfied: jinja2 in /usr/local/lib/python3.10/dist-packages (from torch>=1.8.0->ultralytics) (3.1.3)\n",
            "Requirement already satisfied: fsspec in /usr/local/lib/python3.10/dist-packages (from torch>=1.8.0->ultralytics) (2023.6.0)\n",
            "Collecting nvidia-cuda-nvrtc-cu12==12.1.105 (from torch>=1.8.0->ultralytics)\n",
            "  Downloading nvidia_cuda_nvrtc_cu12-12.1.105-py3-none-manylinux1_x86_64.whl (23.7 MB)\n",
            "\u001b[2K     \u001b[90m━━━━━━━━━━━━━━━━━━━━━━━━━━━━━━━━━━━━━━━━\u001b[0m \u001b[32m23.7/23.7 MB\u001b[0m \u001b[31m61.9 MB/s\u001b[0m eta \u001b[36m0:00:00\u001b[0m\n",
            "\u001b[?25hCollecting nvidia-cuda-runtime-cu12==12.1.105 (from torch>=1.8.0->ultralytics)\n",
            "  Downloading nvidia_cuda_runtime_cu12-12.1.105-py3-none-manylinux1_x86_64.whl (823 kB)\n",
            "\u001b[2K     \u001b[90m━━━━━━━━━━━━━━━━━━━━━━━━━━━━━━━━━━━━━━━━\u001b[0m \u001b[32m823.6/823.6 kB\u001b[0m \u001b[31m57.8 MB/s\u001b[0m eta \u001b[36m0:00:00\u001b[0m\n",
            "\u001b[?25hCollecting nvidia-cuda-cupti-cu12==12.1.105 (from torch>=1.8.0->ultralytics)\n",
            "  Downloading nvidia_cuda_cupti_cu12-12.1.105-py3-none-manylinux1_x86_64.whl (14.1 MB)\n",
            "\u001b[2K     \u001b[90m━━━━━━━━━━━━━━━━━━━━━━━━━━━━━━━━━━━━━━━━\u001b[0m \u001b[32m14.1/14.1 MB\u001b[0m \u001b[31m91.3 MB/s\u001b[0m eta \u001b[36m0:00:00\u001b[0m\n",
            "\u001b[?25hCollecting nvidia-cudnn-cu12==8.9.2.26 (from torch>=1.8.0->ultralytics)\n",
            "  Downloading nvidia_cudnn_cu12-8.9.2.26-py3-none-manylinux1_x86_64.whl (731.7 MB)\n",
            "\u001b[2K     \u001b[90m━━━━━━━━━━━━━━━━━━━━━━━━━━━━━━━━━━━━━━━━\u001b[0m \u001b[32m731.7/731.7 MB\u001b[0m \u001b[31m2.1 MB/s\u001b[0m eta \u001b[36m0:00:00\u001b[0m\n",
            "\u001b[?25hCollecting nvidia-cublas-cu12==12.1.3.1 (from torch>=1.8.0->ultralytics)\n",
            "  Downloading nvidia_cublas_cu12-12.1.3.1-py3-none-manylinux1_x86_64.whl (410.6 MB)\n",
            "\u001b[2K     \u001b[90m━━━━━━━━━━━━━━━━━━━━━━━━━━━━━━━━━━━━━━━━\u001b[0m \u001b[32m410.6/410.6 MB\u001b[0m \u001b[31m3.2 MB/s\u001b[0m eta \u001b[36m0:00:00\u001b[0m\n",
            "\u001b[?25hCollecting nvidia-cufft-cu12==11.0.2.54 (from torch>=1.8.0->ultralytics)\n",
            "  Downloading nvidia_cufft_cu12-11.0.2.54-py3-none-manylinux1_x86_64.whl (121.6 MB)\n",
            "\u001b[2K     \u001b[90m━━━━━━━━━━━━━━━━━━━━━━━━━━━━━━━━━━━━━━━━\u001b[0m \u001b[32m121.6/121.6 MB\u001b[0m \u001b[31m14.1 MB/s\u001b[0m eta \u001b[36m0:00:00\u001b[0m\n",
            "\u001b[?25hCollecting nvidia-curand-cu12==10.3.2.106 (from torch>=1.8.0->ultralytics)\n",
            "  Downloading nvidia_curand_cu12-10.3.2.106-py3-none-manylinux1_x86_64.whl (56.5 MB)\n",
            "\u001b[2K     \u001b[90m━━━━━━━━━━━━━━━━━━━━━━━━━━━━━━━━━━━━━━━━\u001b[0m \u001b[32m56.5/56.5 MB\u001b[0m \u001b[31m30.3 MB/s\u001b[0m eta \u001b[36m0:00:00\u001b[0m\n",
            "\u001b[?25hCollecting nvidia-cusolver-cu12==11.4.5.107 (from torch>=1.8.0->ultralytics)\n",
            "  Downloading nvidia_cusolver_cu12-11.4.5.107-py3-none-manylinux1_x86_64.whl (124.2 MB)\n",
            "\u001b[2K     \u001b[90m━━━━━━━━━━━━━━━━━━━━━━━━━━━━━━━━━━━━━━━━\u001b[0m \u001b[32m124.2/124.2 MB\u001b[0m \u001b[31m7.7 MB/s\u001b[0m eta \u001b[36m0:00:00\u001b[0m\n",
            "\u001b[?25hCollecting nvidia-cusparse-cu12==12.1.0.106 (from torch>=1.8.0->ultralytics)\n",
            "  Downloading nvidia_cusparse_cu12-12.1.0.106-py3-none-manylinux1_x86_64.whl (196.0 MB)\n",
            "\u001b[2K     \u001b[90m━━━━━━━━━━━━━━━━━━━━━━━━━━━━━━━━━━━━━━━━\u001b[0m \u001b[32m196.0/196.0 MB\u001b[0m \u001b[31m3.8 MB/s\u001b[0m eta \u001b[36m0:00:00\u001b[0m\n",
            "\u001b[?25hCollecting nvidia-nccl-cu12==2.19.3 (from torch>=1.8.0->ultralytics)\n",
            "  Downloading nvidia_nccl_cu12-2.19.3-py3-none-manylinux1_x86_64.whl (166.0 MB)\n",
            "\u001b[2K     \u001b[90m━━━━━━━━━━━━━━━━━━━━━━━━━━━━━━━━━━━━━━━━\u001b[0m \u001b[32m166.0/166.0 MB\u001b[0m \u001b[31m10.4 MB/s\u001b[0m eta \u001b[36m0:00:00\u001b[0m\n",
            "\u001b[?25hCollecting nvidia-nvtx-cu12==12.1.105 (from torch>=1.8.0->ultralytics)\n",
            "  Downloading nvidia_nvtx_cu12-12.1.105-py3-none-manylinux1_x86_64.whl (99 kB)\n",
            "\u001b[2K     \u001b[90m━━━━━━━━━━━━━━━━━━━━━━━━━━━━━━━━━━━━━━━━\u001b[0m \u001b[32m99.1/99.1 kB\u001b[0m \u001b[31m14.9 MB/s\u001b[0m eta \u001b[36m0:00:00\u001b[0m\n",
            "\u001b[?25hRequirement already satisfied: triton==2.2.0 in /usr/local/lib/python3.10/dist-packages (from torch>=1.8.0->ultralytics) (2.2.0)\n",
            "Collecting nvidia-nvjitlink-cu12 (from nvidia-cusolver-cu12==11.4.5.107->torch>=1.8.0->ultralytics)\n",
            "  Downloading nvidia_nvjitlink_cu12-12.4.99-py3-none-manylinux2014_x86_64.whl (21.1 MB)\n",
            "\u001b[2K     \u001b[90m━━━━━━━━━━━━━━━━━━━━━━━━━━━━━━━━━━━━━━━━\u001b[0m \u001b[32m21.1/21.1 MB\u001b[0m \u001b[31m81.9 MB/s\u001b[0m eta \u001b[36m0:00:00\u001b[0m\n",
            "\u001b[?25hRequirement already satisfied: six>=1.5 in /usr/local/lib/python3.10/dist-packages (from python-dateutil>=2.7->matplotlib>=3.3.0->ultralytics) (1.16.0)\n",
            "Requirement already satisfied: MarkupSafe>=2.0 in /usr/local/lib/python3.10/dist-packages (from jinja2->torch>=1.8.0->ultralytics) (2.1.5)\n",
            "Requirement already satisfied: mpmath>=0.19 in /usr/local/lib/python3.10/dist-packages (from sympy->torch>=1.8.0->ultralytics) (1.3.0)\n",
            "Installing collected packages: nvidia-nvtx-cu12, nvidia-nvjitlink-cu12, nvidia-nccl-cu12, nvidia-curand-cu12, nvidia-cufft-cu12, nvidia-cuda-runtime-cu12, nvidia-cuda-nvrtc-cu12, nvidia-cuda-cupti-cu12, nvidia-cublas-cu12, nvidia-cusparse-cu12, nvidia-cudnn-cu12, nvidia-cusolver-cu12, thop, ultralytics\n",
            "Successfully installed nvidia-cublas-cu12-12.1.3.1 nvidia-cuda-cupti-cu12-12.1.105 nvidia-cuda-nvrtc-cu12-12.1.105 nvidia-cuda-runtime-cu12-12.1.105 nvidia-cudnn-cu12-8.9.2.26 nvidia-cufft-cu12-11.0.2.54 nvidia-curand-cu12-10.3.2.106 nvidia-cusolver-cu12-11.4.5.107 nvidia-cusparse-cu12-12.1.0.106 nvidia-nccl-cu12-2.19.3 nvidia-nvjitlink-cu12-12.4.99 nvidia-nvtx-cu12-12.1.105 thop-0.1.1.post2209072238 ultralytics-8.1.30\n"
          ]
        }
      ]
    },
    {
      "cell_type": "code",
      "source": [
        "from ultralytics import YOLO\n",
        "\n",
        "# Create a new YOLOv8n-OBB model from scratch\n",
        "model = YOLO('yolov8l-obb.yaml') #YOLO('yolov8n-obb.yaml') # n, s, m, l\n",
        "\n",
        "# # Train the model on the GDA_yolo-obb.yaml dataset\n",
        "results = model.train(data='/content/drive/MyDrive/SuperAI/Project/GDA/GDA_yolo-obb.yaml', epochs=300, imgsz=800) #epochs=100, imgsz=640)"
      ],
      "metadata": {
        "colab": {
          "base_uri": "https://localhost:8080/"
        },
        "id": "gFoII38S5Ow9",
        "outputId": "8b104a66-ae1f-40b9-b3cd-5e04957c8781"
      },
      "execution_count": null,
      "outputs": [
        {
          "output_type": "stream",
          "name": "stdout",
          "text": [
            "Ultralytics YOLOv8.1.29 🚀 Python-3.10.12 torch-2.2.1+cu121 CUDA:0 (NVIDIA A100-SXM4-40GB, 40514MiB)\n",
            "\u001b[34m\u001b[1mengine/trainer: \u001b[0mtask=obb, mode=train, model=yolov8l-obb.yaml, data=/content/drive/MyDrive/SuperAI/Project/GDA/GDA_yolo-obb.yaml, epochs=300, time=None, patience=100, batch=16, imgsz=800, save=True, save_period=-1, cache=False, device=None, workers=8, project=None, name=train5, exist_ok=False, pretrained=True, optimizer=auto, verbose=True, seed=0, deterministic=True, single_cls=False, rect=False, cos_lr=False, close_mosaic=10, resume=False, amp=True, fraction=1.0, profile=False, freeze=None, multi_scale=False, overlap_mask=True, mask_ratio=4, dropout=0.0, val=True, split=val, save_json=False, save_hybrid=False, conf=None, iou=0.7, max_det=300, half=False, dnn=False, plots=True, source=None, vid_stride=1, stream_buffer=False, visualize=False, augment=False, agnostic_nms=False, classes=None, retina_masks=False, embed=None, show=False, save_frames=False, save_txt=False, save_conf=False, save_crop=False, show_labels=True, show_conf=True, show_boxes=True, line_width=None, format=torchscript, keras=False, optimize=False, int8=False, dynamic=False, simplify=False, opset=None, workspace=4, nms=False, lr0=0.01, lrf=0.01, momentum=0.937, weight_decay=0.0005, warmup_epochs=3.0, warmup_momentum=0.8, warmup_bias_lr=0.1, box=7.5, cls=0.5, dfl=1.5, pose=12.0, kobj=1.0, label_smoothing=0.0, nbs=64, hsv_h=0.015, hsv_s=0.7, hsv_v=0.4, degrees=0.0, translate=0.1, scale=0.5, shear=0.0, perspective=0.0, flipud=0.0, fliplr=0.5, mosaic=1.0, mixup=0.0, copy_paste=0.0, auto_augment=randaugment, erasing=0.4, crop_fraction=1.0, cfg=None, tracker=botsort.yaml, save_dir=runs/obb/train5\n",
            "Overriding model.yaml nc=80 with nc=4\n",
            "\n",
            "                   from  n    params  module                                       arguments                     \n",
            "  0                  -1  1      1856  ultralytics.nn.modules.conv.Conv             [3, 64, 3, 2]                 \n",
            "  1                  -1  1     73984  ultralytics.nn.modules.conv.Conv             [64, 128, 3, 2]               \n",
            "  2                  -1  3    279808  ultralytics.nn.modules.block.C2f             [128, 128, 3, True]           \n",
            "  3                  -1  1    295424  ultralytics.nn.modules.conv.Conv             [128, 256, 3, 2]              \n",
            "  4                  -1  6   2101248  ultralytics.nn.modules.block.C2f             [256, 256, 6, True]           \n",
            "  5                  -1  1   1180672  ultralytics.nn.modules.conv.Conv             [256, 512, 3, 2]              \n",
            "  6                  -1  6   8396800  ultralytics.nn.modules.block.C2f             [512, 512, 6, True]           \n",
            "  7                  -1  1   2360320  ultralytics.nn.modules.conv.Conv             [512, 512, 3, 2]              \n",
            "  8                  -1  3   4461568  ultralytics.nn.modules.block.C2f             [512, 512, 3, True]           \n",
            "  9                  -1  1    656896  ultralytics.nn.modules.block.SPPF            [512, 512, 5]                 \n",
            " 10                  -1  1         0  torch.nn.modules.upsampling.Upsample         [None, 2, 'nearest']          \n",
            " 11             [-1, 6]  1         0  ultralytics.nn.modules.conv.Concat           [1]                           \n",
            " 12                  -1  3   4723712  ultralytics.nn.modules.block.C2f             [1024, 512, 3]                \n",
            " 13                  -1  1         0  torch.nn.modules.upsampling.Upsample         [None, 2, 'nearest']          \n",
            " 14             [-1, 4]  1         0  ultralytics.nn.modules.conv.Concat           [1]                           \n",
            " 15                  -1  3   1247744  ultralytics.nn.modules.block.C2f             [768, 256, 3]                 \n",
            " 16                  -1  1    590336  ultralytics.nn.modules.conv.Conv             [256, 256, 3, 2]              \n",
            " 17            [-1, 12]  1         0  ultralytics.nn.modules.conv.Concat           [1]                           \n",
            " 18                  -1  3   4592640  ultralytics.nn.modules.block.C2f             [768, 512, 3]                 \n",
            " 19                  -1  1   2360320  ultralytics.nn.modules.conv.Conv             [512, 512, 3, 2]              \n",
            " 20             [-1, 9]  1         0  ultralytics.nn.modules.conv.Concat           [1]                           \n",
            " 21                  -1  3   4723712  ultralytics.nn.modules.block.C2f             [1024, 512, 3]                \n",
            " 22        [15, 18, 21]  1   6434719  ultralytics.nn.modules.head.OBB              [4, 1, [256, 512, 512]]       \n",
            "YOLOv8l-obb summary: 390 layers, 44481759 parameters, 44481743 gradients, 169.1 GFLOPs\n",
            "\n",
            "\u001b[34m\u001b[1mTensorBoard: \u001b[0mStart with 'tensorboard --logdir runs/obb/train5', view at http://localhost:6006/\n",
            "Freezing layer 'model.22.dfl.conv.weight'\n",
            "\u001b[34m\u001b[1mAMP: \u001b[0mrunning Automatic Mixed Precision (AMP) checks with YOLOv8n...\n",
            "\u001b[34m\u001b[1mAMP: \u001b[0mchecks passed ✅\n"
          ]
        },
        {
          "output_type": "stream",
          "name": "stderr",
          "text": [
            "\u001b[34m\u001b[1mtrain: \u001b[0mScanning /content/drive/MyDrive/SuperAI/Project/GDA/GDA-OBB/labels/train.cache... 99 images, 31 backgrounds, 0 corrupt: 100%|██████████| 130/130 [00:00<?, ?it/s]"
          ]
        },
        {
          "output_type": "stream",
          "name": "stdout",
          "text": [
            "\u001b[34m\u001b[1mtrain: \u001b[0mWARNING ⚠️ /content/drive/MyDrive/SuperAI/Project/GDA/GDA-OBB/images/train/0001.jpg: corrupt JPEG restored and saved\n",
            "\u001b[34m\u001b[1mtrain: \u001b[0mWARNING ⚠️ /content/drive/MyDrive/SuperAI/Project/GDA/GDA-OBB/images/train/0002.jpg: corrupt JPEG restored and saved\n",
            "\u001b[34m\u001b[1mtrain: \u001b[0mWARNING ⚠️ /content/drive/MyDrive/SuperAI/Project/GDA/GDA-OBB/images/train/0003.jpg: corrupt JPEG restored and saved\n",
            "\u001b[34m\u001b[1mtrain: \u001b[0mWARNING ⚠️ /content/drive/MyDrive/SuperAI/Project/GDA/GDA-OBB/images/train/0004.jpg: corrupt JPEG restored and saved\n",
            "\u001b[34m\u001b[1mtrain: \u001b[0mWARNING ⚠️ /content/drive/MyDrive/SuperAI/Project/GDA/GDA-OBB/images/train/0005.jpg: corrupt JPEG restored and saved\n",
            "\u001b[34m\u001b[1mtrain: \u001b[0mWARNING ⚠️ /content/drive/MyDrive/SuperAI/Project/GDA/GDA-OBB/images/train/0007.jpg: corrupt JPEG restored and saved\n",
            "\u001b[34m\u001b[1mtrain: \u001b[0mWARNING ⚠️ /content/drive/MyDrive/SuperAI/Project/GDA/GDA-OBB/images/train/0008.jpg: corrupt JPEG restored and saved\n",
            "\u001b[34m\u001b[1mtrain: \u001b[0mWARNING ⚠️ /content/drive/MyDrive/SuperAI/Project/GDA/GDA-OBB/images/train/0009.jpg: corrupt JPEG restored and saved\n",
            "\u001b[34m\u001b[1mtrain: \u001b[0mWARNING ⚠️ /content/drive/MyDrive/SuperAI/Project/GDA/GDA-OBB/images/train/0010.jpg: corrupt JPEG restored and saved\n",
            "\u001b[34m\u001b[1mtrain: \u001b[0mWARNING ⚠️ /content/drive/MyDrive/SuperAI/Project/GDA/GDA-OBB/images/train/0011.jpg: corrupt JPEG restored and saved\n",
            "\u001b[34m\u001b[1mtrain: \u001b[0mWARNING ⚠️ /content/drive/MyDrive/SuperAI/Project/GDA/GDA-OBB/images/train/0015.jpg: corrupt JPEG restored and saved\n",
            "\u001b[34m\u001b[1mtrain: \u001b[0mWARNING ⚠️ /content/drive/MyDrive/SuperAI/Project/GDA/GDA-OBB/images/train/0016.jpg: corrupt JPEG restored and saved\n",
            "\u001b[34m\u001b[1mtrain: \u001b[0mWARNING ⚠️ /content/drive/MyDrive/SuperAI/Project/GDA/GDA-OBB/images/train/0017.jpg: corrupt JPEG restored and saved\n",
            "\u001b[34m\u001b[1mtrain: \u001b[0mWARNING ⚠️ /content/drive/MyDrive/SuperAI/Project/GDA/GDA-OBB/images/train/0020.jpg: corrupt JPEG restored and saved\n",
            "\u001b[34m\u001b[1mtrain: \u001b[0mWARNING ⚠️ /content/drive/MyDrive/SuperAI/Project/GDA/GDA-OBB/images/train/0022.jpg: corrupt JPEG restored and saved\n",
            "\u001b[34m\u001b[1mtrain: \u001b[0mWARNING ⚠️ /content/drive/MyDrive/SuperAI/Project/GDA/GDA-OBB/images/train/0023.jpg: corrupt JPEG restored and saved\n",
            "\u001b[34m\u001b[1mtrain: \u001b[0mWARNING ⚠️ /content/drive/MyDrive/SuperAI/Project/GDA/GDA-OBB/images/train/0024.jpg: corrupt JPEG restored and saved\n",
            "\u001b[34m\u001b[1mtrain: \u001b[0mWARNING ⚠️ /content/drive/MyDrive/SuperAI/Project/GDA/GDA-OBB/images/train/0026.jpg: corrupt JPEG restored and saved\n",
            "\u001b[34m\u001b[1mtrain: \u001b[0mWARNING ⚠️ /content/drive/MyDrive/SuperAI/Project/GDA/GDA-OBB/images/train/0029.jpg: corrupt JPEG restored and saved\n",
            "\u001b[34m\u001b[1mtrain: \u001b[0mWARNING ⚠️ /content/drive/MyDrive/SuperAI/Project/GDA/GDA-OBB/images/train/0030.jpg: corrupt JPEG restored and saved\n",
            "\u001b[34m\u001b[1mtrain: \u001b[0mWARNING ⚠️ /content/drive/MyDrive/SuperAI/Project/GDA/GDA-OBB/images/train/0031.jpg: corrupt JPEG restored and saved\n",
            "\u001b[34m\u001b[1mtrain: \u001b[0mWARNING ⚠️ /content/drive/MyDrive/SuperAI/Project/GDA/GDA-OBB/images/train/0032.jpg: corrupt JPEG restored and saved\n",
            "\u001b[34m\u001b[1mtrain: \u001b[0mWARNING ⚠️ /content/drive/MyDrive/SuperAI/Project/GDA/GDA-OBB/images/train/0034.jpg: corrupt JPEG restored and saved\n",
            "\u001b[34m\u001b[1mtrain: \u001b[0mWARNING ⚠️ /content/drive/MyDrive/SuperAI/Project/GDA/GDA-OBB/images/train/0036.jpg: corrupt JPEG restored and saved\n",
            "\u001b[34m\u001b[1mtrain: \u001b[0mWARNING ⚠️ /content/drive/MyDrive/SuperAI/Project/GDA/GDA-OBB/images/train/0037.jpg: corrupt JPEG restored and saved\n",
            "\u001b[34m\u001b[1mtrain: \u001b[0mWARNING ⚠️ /content/drive/MyDrive/SuperAI/Project/GDA/GDA-OBB/images/train/0038.jpg: corrupt JPEG restored and saved\n",
            "\u001b[34m\u001b[1mtrain: \u001b[0mWARNING ⚠️ /content/drive/MyDrive/SuperAI/Project/GDA/GDA-OBB/images/train/0043.jpg: corrupt JPEG restored and saved\n",
            "\u001b[34m\u001b[1mtrain: \u001b[0mWARNING ⚠️ /content/drive/MyDrive/SuperAI/Project/GDA/GDA-OBB/images/train/0047.jpg: corrupt JPEG restored and saved\n",
            "\u001b[34m\u001b[1mtrain: \u001b[0mWARNING ⚠️ /content/drive/MyDrive/SuperAI/Project/GDA/GDA-OBB/images/train/0048.jpg: corrupt JPEG restored and saved\n",
            "\u001b[34m\u001b[1mtrain: \u001b[0mWARNING ⚠️ /content/drive/MyDrive/SuperAI/Project/GDA/GDA-OBB/images/train/0050.jpg: corrupt JPEG restored and saved\n",
            "\u001b[34m\u001b[1mtrain: \u001b[0mWARNING ⚠️ /content/drive/MyDrive/SuperAI/Project/GDA/GDA-OBB/images/train/0052.jpg: corrupt JPEG restored and saved\n",
            "\u001b[34m\u001b[1mtrain: \u001b[0mWARNING ⚠️ /content/drive/MyDrive/SuperAI/Project/GDA/GDA-OBB/images/train/0054.jpg: corrupt JPEG restored and saved\n",
            "\u001b[34m\u001b[1mtrain: \u001b[0mWARNING ⚠️ /content/drive/MyDrive/SuperAI/Project/GDA/GDA-OBB/images/train/0058.jpg: corrupt JPEG restored and saved\n",
            "\u001b[34m\u001b[1mtrain: \u001b[0mWARNING ⚠️ /content/drive/MyDrive/SuperAI/Project/GDA/GDA-OBB/images/train/0059.jpg: corrupt JPEG restored and saved\n",
            "\u001b[34m\u001b[1mtrain: \u001b[0mWARNING ⚠️ /content/drive/MyDrive/SuperAI/Project/GDA/GDA-OBB/images/train/0060.jpg: corrupt JPEG restored and saved\n",
            "\u001b[34m\u001b[1mtrain: \u001b[0mWARNING ⚠️ /content/drive/MyDrive/SuperAI/Project/GDA/GDA-OBB/images/train/0062.jpg: corrupt JPEG restored and saved\n",
            "\u001b[34m\u001b[1mtrain: \u001b[0mWARNING ⚠️ /content/drive/MyDrive/SuperAI/Project/GDA/GDA-OBB/images/train/0063.jpg: corrupt JPEG restored and saved\n",
            "\u001b[34m\u001b[1mtrain: \u001b[0mWARNING ⚠️ /content/drive/MyDrive/SuperAI/Project/GDA/GDA-OBB/images/train/0067.jpg: corrupt JPEG restored and saved\n",
            "\u001b[34m\u001b[1mtrain: \u001b[0mWARNING ⚠️ /content/drive/MyDrive/SuperAI/Project/GDA/GDA-OBB/images/train/0071.jpg: corrupt JPEG restored and saved\n",
            "\u001b[34m\u001b[1mtrain: \u001b[0mWARNING ⚠️ /content/drive/MyDrive/SuperAI/Project/GDA/GDA-OBB/images/train/0073.jpg: corrupt JPEG restored and saved\n",
            "\u001b[34m\u001b[1mtrain: \u001b[0mWARNING ⚠️ /content/drive/MyDrive/SuperAI/Project/GDA/GDA-OBB/images/train/0075.jpg: corrupt JPEG restored and saved\n",
            "\u001b[34m\u001b[1mtrain: \u001b[0mWARNING ⚠️ /content/drive/MyDrive/SuperAI/Project/GDA/GDA-OBB/images/train/0077.jpg: corrupt JPEG restored and saved\n",
            "\u001b[34m\u001b[1mtrain: \u001b[0mWARNING ⚠️ /content/drive/MyDrive/SuperAI/Project/GDA/GDA-OBB/images/train/0078.jpg: corrupt JPEG restored and saved\n",
            "\u001b[34m\u001b[1mtrain: \u001b[0mWARNING ⚠️ /content/drive/MyDrive/SuperAI/Project/GDA/GDA-OBB/images/train/0081.jpg: corrupt JPEG restored and saved\n",
            "\u001b[34m\u001b[1mtrain: \u001b[0mWARNING ⚠️ /content/drive/MyDrive/SuperAI/Project/GDA/GDA-OBB/images/train/0082.jpg: corrupt JPEG restored and saved\n",
            "\u001b[34m\u001b[1mtrain: \u001b[0mWARNING ⚠️ /content/drive/MyDrive/SuperAI/Project/GDA/GDA-OBB/images/train/0084.jpg: corrupt JPEG restored and saved\n",
            "\u001b[34m\u001b[1mtrain: \u001b[0mWARNING ⚠️ /content/drive/MyDrive/SuperAI/Project/GDA/GDA-OBB/images/train/0102.jpg: corrupt JPEG restored and saved\n",
            "\u001b[34m\u001b[1mtrain: \u001b[0mWARNING ⚠️ /content/drive/MyDrive/SuperAI/Project/GDA/GDA-OBB/images/train/0104.jpg: corrupt JPEG restored and saved\n",
            "\u001b[34m\u001b[1mtrain: \u001b[0mWARNING ⚠️ /content/drive/MyDrive/SuperAI/Project/GDA/GDA-OBB/images/train/0106.jpg: corrupt JPEG restored and saved\n",
            "\u001b[34m\u001b[1mtrain: \u001b[0mWARNING ⚠️ /content/drive/MyDrive/SuperAI/Project/GDA/GDA-OBB/images/train/0107.jpg: corrupt JPEG restored and saved\n",
            "\u001b[34m\u001b[1mtrain: \u001b[0mWARNING ⚠️ /content/drive/MyDrive/SuperAI/Project/GDA/GDA-OBB/images/train/0108.jpg: corrupt JPEG restored and saved\n",
            "\u001b[34m\u001b[1mtrain: \u001b[0mWARNING ⚠️ /content/drive/MyDrive/SuperAI/Project/GDA/GDA-OBB/images/train/0110.jpg: corrupt JPEG restored and saved\n",
            "\u001b[34m\u001b[1mtrain: \u001b[0mWARNING ⚠️ /content/drive/MyDrive/SuperAI/Project/GDA/GDA-OBB/images/train/0111.jpg: corrupt JPEG restored and saved\n",
            "\u001b[34m\u001b[1mtrain: \u001b[0mWARNING ⚠️ /content/drive/MyDrive/SuperAI/Project/GDA/GDA-OBB/images/train/0113.jpg: corrupt JPEG restored and saved\n",
            "\u001b[34m\u001b[1mtrain: \u001b[0mWARNING ⚠️ /content/drive/MyDrive/SuperAI/Project/GDA/GDA-OBB/images/train/0118.jpg: corrupt JPEG restored and saved\n",
            "\u001b[34m\u001b[1mtrain: \u001b[0mWARNING ⚠️ /content/drive/MyDrive/SuperAI/Project/GDA/GDA-OBB/images/train/0119.jpg: corrupt JPEG restored and saved\n",
            "\u001b[34m\u001b[1mtrain: \u001b[0mWARNING ⚠️ /content/drive/MyDrive/SuperAI/Project/GDA/GDA-OBB/images/train/0120.jpg: corrupt JPEG restored and saved\n",
            "\u001b[34m\u001b[1mtrain: \u001b[0mWARNING ⚠️ /content/drive/MyDrive/SuperAI/Project/GDA/GDA-OBB/images/train/0121.jpg: corrupt JPEG restored and saved\n",
            "\u001b[34m\u001b[1mtrain: \u001b[0mWARNING ⚠️ /content/drive/MyDrive/SuperAI/Project/GDA/GDA-OBB/images/train/0122.jpg: corrupt JPEG restored and saved\n",
            "\u001b[34m\u001b[1mtrain: \u001b[0mWARNING ⚠️ /content/drive/MyDrive/SuperAI/Project/GDA/GDA-OBB/images/train/0125.jpg: corrupt JPEG restored and saved\n",
            "\u001b[34m\u001b[1mtrain: \u001b[0mWARNING ⚠️ /content/drive/MyDrive/SuperAI/Project/GDA/GDA-OBB/images/train/0127.jpg: corrupt JPEG restored and saved\n",
            "\u001b[34m\u001b[1mtrain: \u001b[0mWARNING ⚠️ /content/drive/MyDrive/SuperAI/Project/GDA/GDA-OBB/images/train/0129.jpg: corrupt JPEG restored and saved\n",
            "\u001b[34m\u001b[1mtrain: \u001b[0mWARNING ⚠️ /content/drive/MyDrive/SuperAI/Project/GDA/GDA-OBB/images/train/0131.jpg: corrupt JPEG restored and saved\n",
            "\u001b[34m\u001b[1mtrain: \u001b[0mWARNING ⚠️ /content/drive/MyDrive/SuperAI/Project/GDA/GDA-OBB/images/train/0133.jpg: corrupt JPEG restored and saved\n",
            "\u001b[34m\u001b[1mtrain: \u001b[0mWARNING ⚠️ /content/drive/MyDrive/SuperAI/Project/GDA/GDA-OBB/images/train/20240315_181811.jpg: corrupt JPEG restored and saved\n",
            "\u001b[34m\u001b[1mtrain: \u001b[0mWARNING ⚠️ /content/drive/MyDrive/SuperAI/Project/GDA/GDA-OBB/images/train/20240315_181915.jpg: corrupt JPEG restored and saved\n",
            "\u001b[34m\u001b[1mtrain: \u001b[0mWARNING ⚠️ /content/drive/MyDrive/SuperAI/Project/GDA/GDA-OBB/images/train/20240315_182038.jpg: corrupt JPEG restored and saved\n",
            "\u001b[34m\u001b[1mtrain: \u001b[0mWARNING ⚠️ /content/drive/MyDrive/SuperAI/Project/GDA/GDA-OBB/images/train/20240315_182121.jpg: corrupt JPEG restored and saved\n",
            "\u001b[34m\u001b[1mtrain: \u001b[0mWARNING ⚠️ /content/drive/MyDrive/SuperAI/Project/GDA/GDA-OBB/images/train/20240315_182133.jpg: corrupt JPEG restored and saved\n",
            "\u001b[34m\u001b[1mtrain: \u001b[0mWARNING ⚠️ /content/drive/MyDrive/SuperAI/Project/GDA/GDA-OBB/images/train/20240315_182211.jpg: corrupt JPEG restored and saved\n",
            "\u001b[34m\u001b[1mtrain: \u001b[0mWARNING ⚠️ /content/drive/MyDrive/SuperAI/Project/GDA/GDA-OBB/images/train/20240315_182225.jpg: corrupt JPEG restored and saved\n",
            "\u001b[34m\u001b[1mtrain: \u001b[0mWARNING ⚠️ /content/drive/MyDrive/SuperAI/Project/GDA/GDA-OBB/images/train/20240315_182240.jpg: corrupt JPEG restored and saved\n",
            "\u001b[34m\u001b[1mtrain: \u001b[0mWARNING ⚠️ /content/drive/MyDrive/SuperAI/Project/GDA/GDA-OBB/images/train/20240315_182254.jpg: corrupt JPEG restored and saved\n",
            "\u001b[34m\u001b[1mtrain: \u001b[0mWARNING ⚠️ /content/drive/MyDrive/SuperAI/Project/GDA/GDA-OBB/images/train/20240315_182259.jpg: corrupt JPEG restored and saved\n",
            "\u001b[34m\u001b[1mtrain: \u001b[0mWARNING ⚠️ /content/drive/MyDrive/SuperAI/Project/GDA/GDA-OBB/images/train/20240315_182754.jpg: corrupt JPEG restored and saved\n",
            "\u001b[34m\u001b[1mtrain: \u001b[0mWARNING ⚠️ /content/drive/MyDrive/SuperAI/Project/GDA/GDA-OBB/images/train/20240315_182758.jpg: corrupt JPEG restored and saved\n",
            "\u001b[34m\u001b[1mtrain: \u001b[0mWARNING ⚠️ /content/drive/MyDrive/SuperAI/Project/GDA/GDA-OBB/images/train/20240315_182804.jpg: corrupt JPEG restored and saved\n",
            "\u001b[34m\u001b[1mtrain: \u001b[0mWARNING ⚠️ /content/drive/MyDrive/SuperAI/Project/GDA/GDA-OBB/images/train/20240315_182809.jpg: corrupt JPEG restored and saved\n",
            "\u001b[34m\u001b[1mtrain: \u001b[0mWARNING ⚠️ /content/drive/MyDrive/SuperAI/Project/GDA/GDA-OBB/images/train/20240316_181117.jpg: corrupt JPEG restored and saved\n",
            "\u001b[34m\u001b[1mtrain: \u001b[0mWARNING ⚠️ /content/drive/MyDrive/SuperAI/Project/GDA/GDA-OBB/images/train/20240316_181126.jpg: corrupt JPEG restored and saved\n",
            "\u001b[34m\u001b[1mtrain: \u001b[0mWARNING ⚠️ /content/drive/MyDrive/SuperAI/Project/GDA/GDA-OBB/images/train/20240316_181311.jpg: corrupt JPEG restored and saved\n",
            "\u001b[34m\u001b[1mtrain: \u001b[0mWARNING ⚠️ /content/drive/MyDrive/SuperAI/Project/GDA/GDA-OBB/images/train/20240316_181321.jpg: corrupt JPEG restored and saved\n",
            "\u001b[34m\u001b[1mtrain: \u001b[0mWARNING ⚠️ /content/drive/MyDrive/SuperAI/Project/GDA/GDA-OBB/images/train/20240316_181330.jpg: corrupt JPEG restored and saved\n",
            "\u001b[34m\u001b[1mtrain: \u001b[0mWARNING ⚠️ /content/drive/MyDrive/SuperAI/Project/GDA/GDA-OBB/images/train/20240316_181341.jpg: corrupt JPEG restored and saved\n",
            "\u001b[34m\u001b[1mtrain: \u001b[0mWARNING ⚠️ /content/drive/MyDrive/SuperAI/Project/GDA/GDA-OBB/images/train/20240316_181429.jpg: corrupt JPEG restored and saved\n",
            "\u001b[34m\u001b[1mtrain: \u001b[0mWARNING ⚠️ /content/drive/MyDrive/SuperAI/Project/GDA/GDA-OBB/images/train/20240316_181435.jpg: corrupt JPEG restored and saved\n",
            "\u001b[34m\u001b[1mtrain: \u001b[0mWARNING ⚠️ /content/drive/MyDrive/SuperAI/Project/GDA/GDA-OBB/images/train/20240316_181451.jpg: corrupt JPEG restored and saved\n",
            "\u001b[34m\u001b[1mtrain: \u001b[0mWARNING ⚠️ /content/drive/MyDrive/SuperAI/Project/GDA/GDA-OBB/images/train/20240316_181558.jpg: corrupt JPEG restored and saved\n",
            "\u001b[34m\u001b[1mtrain: \u001b[0mWARNING ⚠️ /content/drive/MyDrive/SuperAI/Project/GDA/GDA-OBB/images/train/20240316_181706.jpg: corrupt JPEG restored and saved\n",
            "\u001b[34m\u001b[1mtrain: \u001b[0mWARNING ⚠️ /content/drive/MyDrive/SuperAI/Project/GDA/GDA-OBB/images/train/20240316_181734.jpg: corrupt JPEG restored and saved\n",
            "\u001b[34m\u001b[1mtrain: \u001b[0mWARNING ⚠️ /content/drive/MyDrive/SuperAI/Project/GDA/GDA-OBB/images/train/20240316_181811.jpg: corrupt JPEG restored and saved\n",
            "\u001b[34m\u001b[1mtrain: \u001b[0mWARNING ⚠️ /content/drive/MyDrive/SuperAI/Project/GDA/GDA-OBB/images/train/20240316_182042.jpg: corrupt JPEG restored and saved\n",
            "\u001b[34m\u001b[1mtrain: \u001b[0mWARNING ⚠️ /content/drive/MyDrive/SuperAI/Project/GDA/GDA-OBB/images/train/20240316_182137.jpg: corrupt JPEG restored and saved\n",
            "\u001b[34m\u001b[1mtrain: \u001b[0mWARNING ⚠️ /content/drive/MyDrive/SuperAI/Project/GDA/GDA-OBB/images/train/20240316_182251.jpg: corrupt JPEG restored and saved\n",
            "\u001b[34m\u001b[1mtrain: \u001b[0mWARNING ⚠️ /content/drive/MyDrive/SuperAI/Project/GDA/GDA-OBB/images/train/20240316_182403.jpg: corrupt JPEG restored and saved\n",
            "\u001b[34m\u001b[1mtrain: \u001b[0mWARNING ⚠️ /content/drive/MyDrive/SuperAI/Project/GDA/GDA-OBB/images/train/20240316_182637.jpg: corrupt JPEG restored and saved\n",
            "\u001b[34m\u001b[1mtrain: \u001b[0mWARNING ⚠️ /content/drive/MyDrive/SuperAI/Project/GDA/GDA-OBB/images/train/20240316_182726.jpg: corrupt JPEG restored and saved\n",
            "\u001b[34m\u001b[1mtrain: \u001b[0mWARNING ⚠️ /content/drive/MyDrive/SuperAI/Project/GDA/GDA-OBB/images/train/IMG20240315125457.jpg: corrupt JPEG restored and saved\n",
            "\u001b[34m\u001b[1mtrain: \u001b[0mWARNING ⚠️ /content/drive/MyDrive/SuperAI/Project/GDA/GDA-OBB/images/train/IMG20240316181104.jpg: corrupt JPEG restored and saved\n",
            "\u001b[34m\u001b[1mtrain: \u001b[0mWARNING ⚠️ /content/drive/MyDrive/SuperAI/Project/GDA/GDA-OBB/images/train/IMG20240316181208.jpg: corrupt JPEG restored and saved\n",
            "\u001b[34m\u001b[1mtrain: \u001b[0mWARNING ⚠️ /content/drive/MyDrive/SuperAI/Project/GDA/GDA-OBB/images/train/IMG20240316181435.jpg: corrupt JPEG restored and saved\n",
            "\u001b[34m\u001b[1mtrain: \u001b[0mWARNING ⚠️ /content/drive/MyDrive/SuperAI/Project/GDA/GDA-OBB/images/train/IMG20240316181638.jpg: corrupt JPEG restored and saved\n",
            "\u001b[34m\u001b[1mtrain: \u001b[0mWARNING ⚠️ /content/drive/MyDrive/SuperAI/Project/GDA/GDA-OBB/images/train/IMG20240316181732.jpg: corrupt JPEG restored and saved\n",
            "\u001b[34m\u001b[1mtrain: \u001b[0mWARNING ⚠️ /content/drive/MyDrive/SuperAI/Project/GDA/GDA-OBB/images/train/IMG20240316181830.jpg: corrupt JPEG restored and saved\n",
            "\u001b[34m\u001b[1mtrain: \u001b[0mWARNING ⚠️ /content/drive/MyDrive/SuperAI/Project/GDA/GDA-OBB/images/train/IMG20240316182034.jpg: corrupt JPEG restored and saved\n",
            "\u001b[34m\u001b[1mtrain: \u001b[0mWARNING ⚠️ /content/drive/MyDrive/SuperAI/Project/GDA/GDA-OBB/images/train/IMG20240316182130.jpg: corrupt JPEG restored and saved\n",
            "\u001b[34m\u001b[1mtrain: \u001b[0mWARNING ⚠️ /content/drive/MyDrive/SuperAI/Project/GDA/GDA-OBB/images/train/IMG20240316182243.jpg: corrupt JPEG restored and saved\n",
            "\u001b[34m\u001b[1mtrain: \u001b[0mWARNING ⚠️ /content/drive/MyDrive/SuperAI/Project/GDA/GDA-OBB/images/train/IMG20240316182405.jpg: corrupt JPEG restored and saved\n",
            "\u001b[34m\u001b[1mtrain: \u001b[0mWARNING ⚠️ /content/drive/MyDrive/SuperAI/Project/GDA/GDA-OBB/images/train/IMG_20240315_125548.jpg: corrupt JPEG restored and saved\n",
            "\u001b[34m\u001b[1malbumentations: \u001b[0mBlur(p=0.01, blur_limit=(3, 7)), MedianBlur(p=0.01, blur_limit=(3, 7)), ToGray(p=0.01), CLAHE(p=0.01, clip_limit=(1, 4.0), tile_grid_size=(8, 8))\n"
          ]
        },
        {
          "output_type": "stream",
          "name": "stderr",
          "text": [
            "\n",
            "\u001b[34m\u001b[1mval: \u001b[0mScanning /content/drive/MyDrive/SuperAI/Project/GDA/GDA-OBB/labels/val.cache... 2 images, 31 backgrounds, 0 corrupt: 100%|██████████| 33/33 [00:00<?, ?it/s]"
          ]
        },
        {
          "output_type": "stream",
          "name": "stdout",
          "text": [
            "\u001b[34m\u001b[1mval: \u001b[0mWARNING ⚠️ /content/drive/MyDrive/SuperAI/Project/GDA/GDA-OBB/images/val/0018.jpg: corrupt JPEG restored and saved\n",
            "\u001b[34m\u001b[1mval: \u001b[0mWARNING ⚠️ /content/drive/MyDrive/SuperAI/Project/GDA/GDA-OBB/images/val/0021.jpg: corrupt JPEG restored and saved\n",
            "\u001b[34m\u001b[1mval: \u001b[0mWARNING ⚠️ /content/drive/MyDrive/SuperAI/Project/GDA/GDA-OBB/images/val/0025.jpg: corrupt JPEG restored and saved\n",
            "\u001b[34m\u001b[1mval: \u001b[0mWARNING ⚠️ /content/drive/MyDrive/SuperAI/Project/GDA/GDA-OBB/images/val/0040.jpg: corrupt JPEG restored and saved\n",
            "\u001b[34m\u001b[1mval: \u001b[0mWARNING ⚠️ /content/drive/MyDrive/SuperAI/Project/GDA/GDA-OBB/images/val/0056.jpg: corrupt JPEG restored and saved\n",
            "\u001b[34m\u001b[1mval: \u001b[0mWARNING ⚠️ /content/drive/MyDrive/SuperAI/Project/GDA/GDA-OBB/images/val/0065.jpg: corrupt JPEG restored and saved\n",
            "\u001b[34m\u001b[1mval: \u001b[0mWARNING ⚠️ /content/drive/MyDrive/SuperAI/Project/GDA/GDA-OBB/images/val/0069.jpg: corrupt JPEG restored and saved\n",
            "\u001b[34m\u001b[1mval: \u001b[0mWARNING ⚠️ /content/drive/MyDrive/SuperAI/Project/GDA/GDA-OBB/images/val/0080.jpg: corrupt JPEG restored and saved\n",
            "\u001b[34m\u001b[1mval: \u001b[0mWARNING ⚠️ /content/drive/MyDrive/SuperAI/Project/GDA/GDA-OBB/images/val/0083.jpg: corrupt JPEG restored and saved\n",
            "\u001b[34m\u001b[1mval: \u001b[0mWARNING ⚠️ /content/drive/MyDrive/SuperAI/Project/GDA/GDA-OBB/images/val/0085.jpg: corrupt JPEG restored and saved\n",
            "\u001b[34m\u001b[1mval: \u001b[0mWARNING ⚠️ /content/drive/MyDrive/SuperAI/Project/GDA/GDA-OBB/images/val/0086.jpg: corrupt JPEG restored and saved\n",
            "\u001b[34m\u001b[1mval: \u001b[0mWARNING ⚠️ /content/drive/MyDrive/SuperAI/Project/GDA/GDA-OBB/images/val/0109.jpg: corrupt JPEG restored and saved\n",
            "\u001b[34m\u001b[1mval: \u001b[0mWARNING ⚠️ /content/drive/MyDrive/SuperAI/Project/GDA/GDA-OBB/images/val/0112.jpg: corrupt JPEG restored and saved\n",
            "\u001b[34m\u001b[1mval: \u001b[0mWARNING ⚠️ /content/drive/MyDrive/SuperAI/Project/GDA/GDA-OBB/images/val/0114.jpg: corrupt JPEG restored and saved\n",
            "\u001b[34m\u001b[1mval: \u001b[0mWARNING ⚠️ /content/drive/MyDrive/SuperAI/Project/GDA/GDA-OBB/images/val/0115.jpg: corrupt JPEG restored and saved\n",
            "\u001b[34m\u001b[1mval: \u001b[0mWARNING ⚠️ /content/drive/MyDrive/SuperAI/Project/GDA/GDA-OBB/images/val/0116.jpg: corrupt JPEG restored and saved\n",
            "\u001b[34m\u001b[1mval: \u001b[0mWARNING ⚠️ /content/drive/MyDrive/SuperAI/Project/GDA/GDA-OBB/images/val/0117.jpg: corrupt JPEG restored and saved\n",
            "\u001b[34m\u001b[1mval: \u001b[0mWARNING ⚠️ /content/drive/MyDrive/SuperAI/Project/GDA/GDA-OBB/images/val/20240315_182112.jpg: corrupt JPEG restored and saved\n",
            "\u001b[34m\u001b[1mval: \u001b[0mWARNING ⚠️ /content/drive/MyDrive/SuperAI/Project/GDA/GDA-OBB/images/val/20240315_182149.jpg: corrupt JPEG restored and saved\n",
            "\u001b[34m\u001b[1mval: \u001b[0mWARNING ⚠️ /content/drive/MyDrive/SuperAI/Project/GDA/GDA-OBB/images/val/20240315_182246.jpg: corrupt JPEG restored and saved\n",
            "\u001b[34m\u001b[1mval: \u001b[0mWARNING ⚠️ /content/drive/MyDrive/SuperAI/Project/GDA/GDA-OBB/images/val/20240315_182750.jpg: corrupt JPEG restored and saved\n",
            "\u001b[34m\u001b[1mval: \u001b[0mWARNING ⚠️ /content/drive/MyDrive/SuperAI/Project/GDA/GDA-OBB/images/val/20240316_181657.jpg: corrupt JPEG restored and saved\n",
            "\u001b[34m\u001b[1mval: \u001b[0mWARNING ⚠️ /content/drive/MyDrive/SuperAI/Project/GDA/GDA-OBB/images/val/IMG20240316181131.jpg: corrupt JPEG restored and saved\n",
            "\u001b[34m\u001b[1mval: \u001b[0mWARNING ⚠️ /content/drive/MyDrive/SuperAI/Project/GDA/GDA-OBB/images/val/IMG20240316181431.jpg: corrupt JPEG restored and saved\n",
            "\u001b[34m\u001b[1mval: \u001b[0mWARNING ⚠️ /content/drive/MyDrive/SuperAI/Project/GDA/GDA-OBB/images/val/IMG20240316181909.jpg: corrupt JPEG restored and saved\n",
            "\u001b[34m\u001b[1mval: \u001b[0mWARNING ⚠️ /content/drive/MyDrive/SuperAI/Project/GDA/GDA-OBB/images/val/IMG20240316182204.jpg: corrupt JPEG restored and saved\n",
            "\u001b[34m\u001b[1mval: \u001b[0mWARNING ⚠️ /content/drive/MyDrive/SuperAI/Project/GDA/GDA-OBB/images/val/IMG20240316182712.jpg: corrupt JPEG restored and saved\n"
          ]
        },
        {
          "output_type": "stream",
          "name": "stderr",
          "text": [
            "\n"
          ]
        },
        {
          "output_type": "stream",
          "name": "stdout",
          "text": [
            "Plotting labels to runs/obb/train5/labels.jpg... \n",
            "\u001b[34m\u001b[1moptimizer:\u001b[0m 'optimizer=auto' found, ignoring 'lr0=0.01' and 'momentum=0.937' and determining best 'optimizer', 'lr0' and 'momentum' automatically... \n",
            "\u001b[34m\u001b[1moptimizer:\u001b[0m AdamW(lr=0.00125, momentum=0.9) with parameter groups 103 weight(decay=0.0), 113 weight(decay=0.0005), 112 bias(decay=0.0)\n",
            "\u001b[34m\u001b[1mTensorBoard: \u001b[0mmodel graph visualization added ✅\n",
            "Image sizes 800 train, 800 val\n",
            "Using 8 dataloader workers\n",
            "Logging results to \u001b[1mruns/obb/train5\u001b[0m\n",
            "Starting training for 300 epochs...\n",
            "\n",
            "      Epoch    GPU_mem   box_loss   cls_loss   dfl_loss  Instances       Size\n"
          ]
        },
        {
          "output_type": "stream",
          "name": "stderr",
          "text": [
            "      1/300      16.8G      3.391       7.49       3.91          0        800: 100%|██████████| 9/9 [00:05<00:00,  1.79it/s]\n",
            "                 Class     Images  Instances      Box(P          R      mAP50  mAP50-95): 100%|██████████| 3/3 [00:00<00:00,  3.09it/s]"
          ]
        },
        {
          "output_type": "stream",
          "name": "stdout",
          "text": [
            "                   all         33          8          0          0          0          0\n"
          ]
        },
        {
          "output_type": "stream",
          "name": "stderr",
          "text": [
            "\n"
          ]
        },
        {
          "output_type": "stream",
          "name": "stdout",
          "text": [
            "\n",
            "      Epoch    GPU_mem   box_loss   cls_loss   dfl_loss  Instances       Size\n"
          ]
        },
        {
          "output_type": "stream",
          "name": "stderr",
          "text": [
            "      2/300        17G      3.788      4.578      4.164         14        800: 100%|██████████| 9/9 [00:02<00:00,  3.67it/s]\n",
            "                 Class     Images  Instances      Box(P          R      mAP50  mAP50-95): 100%|██████████| 3/3 [00:00<00:00,  6.12it/s]"
          ]
        },
        {
          "output_type": "stream",
          "name": "stdout",
          "text": [
            "                   all         33          8          0          0          0          0\n"
          ]
        },
        {
          "output_type": "stream",
          "name": "stderr",
          "text": [
            "\n"
          ]
        },
        {
          "output_type": "stream",
          "name": "stdout",
          "text": [
            "\n",
            "      Epoch    GPU_mem   box_loss   cls_loss   dfl_loss  Instances       Size\n"
          ]
        },
        {
          "output_type": "stream",
          "name": "stderr",
          "text": [
            "      3/300      17.1G      2.998      4.114       3.69          4        800: 100%|██████████| 9/9 [00:02<00:00,  3.41it/s]\n",
            "                 Class     Images  Instances      Box(P          R      mAP50  mAP50-95): 100%|██████████| 3/3 [00:00<00:00,  7.57it/s]"
          ]
        },
        {
          "output_type": "stream",
          "name": "stdout",
          "text": [
            "                   all         33          8          0          0          0          0\n"
          ]
        },
        {
          "output_type": "stream",
          "name": "stderr",
          "text": [
            "\n"
          ]
        },
        {
          "output_type": "stream",
          "name": "stdout",
          "text": [
            "\n",
            "      Epoch    GPU_mem   box_loss   cls_loss   dfl_loss  Instances       Size\n"
          ]
        },
        {
          "output_type": "stream",
          "name": "stderr",
          "text": [
            "      4/300        17G      2.643      3.842      3.685         11        800: 100%|██████████| 9/9 [00:02<00:00,  3.65it/s]\n",
            "                 Class     Images  Instances      Box(P          R      mAP50  mAP50-95): 100%|██████████| 3/3 [00:00<00:00,  7.66it/s]"
          ]
        },
        {
          "output_type": "stream",
          "name": "stdout",
          "text": [
            "                   all         33          8          0          0          0          0\n"
          ]
        },
        {
          "output_type": "stream",
          "name": "stderr",
          "text": [
            "\n"
          ]
        },
        {
          "output_type": "stream",
          "name": "stdout",
          "text": [
            "\n",
            "      Epoch    GPU_mem   box_loss   cls_loss   dfl_loss  Instances       Size\n"
          ]
        },
        {
          "output_type": "stream",
          "name": "stderr",
          "text": [
            "      5/300      16.5G      2.656      3.513       3.51         27        800: 100%|██████████| 9/9 [00:02<00:00,  3.60it/s]\n",
            "                 Class     Images  Instances      Box(P          R      mAP50  mAP50-95): 100%|██████████| 3/3 [00:00<00:00,  9.22it/s]"
          ]
        },
        {
          "output_type": "stream",
          "name": "stdout",
          "text": [
            "                   all         33          8          0          0          0          0\n"
          ]
        },
        {
          "output_type": "stream",
          "name": "stderr",
          "text": [
            "\n"
          ]
        },
        {
          "output_type": "stream",
          "name": "stdout",
          "text": [
            "\n",
            "      Epoch    GPU_mem   box_loss   cls_loss   dfl_loss  Instances       Size\n"
          ]
        },
        {
          "output_type": "stream",
          "name": "stderr",
          "text": [
            "      6/300      16.5G      2.457      3.283      3.406         15        800: 100%|██████████| 9/9 [00:02<00:00,  3.95it/s]\n",
            "                 Class     Images  Instances      Box(P          R      mAP50  mAP50-95): 100%|██████████| 3/3 [00:00<00:00,  5.22it/s]"
          ]
        },
        {
          "output_type": "stream",
          "name": "stdout",
          "text": [
            "                   all         33          8          0          0          0          0\n"
          ]
        },
        {
          "output_type": "stream",
          "name": "stderr",
          "text": [
            "\n"
          ]
        },
        {
          "output_type": "stream",
          "name": "stdout",
          "text": [
            "\n",
            "      Epoch    GPU_mem   box_loss   cls_loss   dfl_loss  Instances       Size\n"
          ]
        },
        {
          "output_type": "stream",
          "name": "stderr",
          "text": [
            "      7/300      16.5G      2.377      3.303      3.255         20        800: 100%|██████████| 9/9 [00:02<00:00,  4.05it/s]\n",
            "                 Class     Images  Instances      Box(P          R      mAP50  mAP50-95): 100%|██████████| 3/3 [00:00<00:00,  8.57it/s]"
          ]
        },
        {
          "output_type": "stream",
          "name": "stdout",
          "text": [
            "                   all         33          8          0          0          0          0\n"
          ]
        },
        {
          "output_type": "stream",
          "name": "stderr",
          "text": [
            "\n"
          ]
        },
        {
          "output_type": "stream",
          "name": "stdout",
          "text": [
            "\n",
            "      Epoch    GPU_mem   box_loss   cls_loss   dfl_loss  Instances       Size\n"
          ]
        },
        {
          "output_type": "stream",
          "name": "stderr",
          "text": [
            "      8/300      16.5G      2.279      3.149      3.237         20        800: 100%|██████████| 9/9 [00:02<00:00,  3.71it/s]\n",
            "                 Class     Images  Instances      Box(P          R      mAP50  mAP50-95): 100%|██████████| 3/3 [00:00<00:00, 10.46it/s]"
          ]
        },
        {
          "output_type": "stream",
          "name": "stdout",
          "text": [
            "                   all         33          8          0          0          0          0\n"
          ]
        },
        {
          "output_type": "stream",
          "name": "stderr",
          "text": [
            "\n"
          ]
        },
        {
          "output_type": "stream",
          "name": "stdout",
          "text": [
            "\n",
            "      Epoch    GPU_mem   box_loss   cls_loss   dfl_loss  Instances       Size\n"
          ]
        },
        {
          "output_type": "stream",
          "name": "stderr",
          "text": [
            "      9/300        17G      2.132      2.937      3.193         16        800: 100%|██████████| 9/9 [00:02<00:00,  4.04it/s]\n",
            "                 Class     Images  Instances      Box(P          R      mAP50  mAP50-95): 100%|██████████| 3/3 [00:00<00:00,  8.83it/s]"
          ]
        },
        {
          "output_type": "stream",
          "name": "stdout",
          "text": [
            "                   all         33          8          0          0          0          0\n"
          ]
        },
        {
          "output_type": "stream",
          "name": "stderr",
          "text": [
            "\n"
          ]
        },
        {
          "output_type": "stream",
          "name": "stdout",
          "text": [
            "\n",
            "      Epoch    GPU_mem   box_loss   cls_loss   dfl_loss  Instances       Size\n"
          ]
        },
        {
          "output_type": "stream",
          "name": "stderr",
          "text": [
            "     10/300      16.5G      2.067      2.835      3.104         13        800: 100%|██████████| 9/9 [00:02<00:00,  4.03it/s]\n",
            "                 Class     Images  Instances      Box(P          R      mAP50  mAP50-95): 100%|██████████| 3/3 [00:00<00:00,  8.47it/s]"
          ]
        },
        {
          "output_type": "stream",
          "name": "stdout",
          "text": [
            "                   all         33          8          0          0          0          0\n"
          ]
        },
        {
          "output_type": "stream",
          "name": "stderr",
          "text": [
            "\n"
          ]
        },
        {
          "output_type": "stream",
          "name": "stdout",
          "text": [
            "\n",
            "      Epoch    GPU_mem   box_loss   cls_loss   dfl_loss  Instances       Size\n"
          ]
        },
        {
          "output_type": "stream",
          "name": "stderr",
          "text": [
            "     11/300      16.6G      2.025      2.835      3.014         15        800: 100%|██████████| 9/9 [00:02<00:00,  3.98it/s]\n",
            "                 Class     Images  Instances      Box(P          R      mAP50  mAP50-95): 100%|██████████| 3/3 [00:00<00:00,  9.16it/s]"
          ]
        },
        {
          "output_type": "stream",
          "name": "stdout",
          "text": [
            "                   all         33          8          0          0          0          0\n"
          ]
        },
        {
          "output_type": "stream",
          "name": "stderr",
          "text": [
            "\n"
          ]
        },
        {
          "output_type": "stream",
          "name": "stdout",
          "text": [
            "\n",
            "      Epoch    GPU_mem   box_loss   cls_loss   dfl_loss  Instances       Size\n"
          ]
        },
        {
          "output_type": "stream",
          "name": "stderr",
          "text": [
            "     12/300      16.6G      1.942      2.992      3.013         11        800: 100%|██████████| 9/9 [00:02<00:00,  3.95it/s]\n",
            "                 Class     Images  Instances      Box(P          R      mAP50  mAP50-95): 100%|██████████| 3/3 [00:00<00:00, 10.65it/s]"
          ]
        },
        {
          "output_type": "stream",
          "name": "stdout",
          "text": [
            "                   all         33          8          0          0          0          0\n"
          ]
        },
        {
          "output_type": "stream",
          "name": "stderr",
          "text": [
            "\n"
          ]
        },
        {
          "output_type": "stream",
          "name": "stdout",
          "text": [
            "\n",
            "      Epoch    GPU_mem   box_loss   cls_loss   dfl_loss  Instances       Size\n"
          ]
        },
        {
          "output_type": "stream",
          "name": "stderr",
          "text": [
            "     13/300      16.5G      1.882      2.782      2.879         12        800: 100%|██████████| 9/9 [00:02<00:00,  4.00it/s]\n",
            "                 Class     Images  Instances      Box(P          R      mAP50  mAP50-95): 100%|██████████| 3/3 [00:00<00:00,  9.98it/s]"
          ]
        },
        {
          "output_type": "stream",
          "name": "stdout",
          "text": [
            "                   all         33          8          0          0          0          0\n"
          ]
        },
        {
          "output_type": "stream",
          "name": "stderr",
          "text": [
            "\n"
          ]
        },
        {
          "output_type": "stream",
          "name": "stdout",
          "text": [
            "\n",
            "      Epoch    GPU_mem   box_loss   cls_loss   dfl_loss  Instances       Size\n"
          ]
        },
        {
          "output_type": "stream",
          "name": "stderr",
          "text": [
            "     14/300      16.5G      1.922      2.867      2.973          8        800: 100%|██████████| 9/9 [00:02<00:00,  3.99it/s]\n",
            "                 Class     Images  Instances      Box(P          R      mAP50  mAP50-95): 100%|██████████| 3/3 [00:00<00:00, 10.56it/s]"
          ]
        },
        {
          "output_type": "stream",
          "name": "stdout",
          "text": [
            "                   all         33          8          0          0          0          0\n"
          ]
        },
        {
          "output_type": "stream",
          "name": "stderr",
          "text": [
            "\n"
          ]
        },
        {
          "output_type": "stream",
          "name": "stdout",
          "text": [
            "\n",
            "      Epoch    GPU_mem   box_loss   cls_loss   dfl_loss  Instances       Size\n"
          ]
        },
        {
          "output_type": "stream",
          "name": "stderr",
          "text": [
            "     15/300      17.1G      1.903      2.852      2.929          8        800: 100%|██████████| 9/9 [00:02<00:00,  3.99it/s]\n",
            "                 Class     Images  Instances      Box(P          R      mAP50  mAP50-95): 100%|██████████| 3/3 [00:00<00:00,  9.37it/s]"
          ]
        },
        {
          "output_type": "stream",
          "name": "stdout",
          "text": [
            "                   all         33          8   0.000575      0.125   0.000587   0.000235\n"
          ]
        },
        {
          "output_type": "stream",
          "name": "stderr",
          "text": [
            "\n"
          ]
        },
        {
          "output_type": "stream",
          "name": "stdout",
          "text": [
            "\n",
            "      Epoch    GPU_mem   box_loss   cls_loss   dfl_loss  Instances       Size\n"
          ]
        },
        {
          "output_type": "stream",
          "name": "stderr",
          "text": [
            "     16/300      17.1G      1.738      2.566      2.868         10        800: 100%|██████████| 9/9 [00:02<00:00,  3.99it/s]\n",
            "                 Class     Images  Instances      Box(P          R      mAP50  mAP50-95): 100%|██████████| 3/3 [00:00<00:00,  9.13it/s]"
          ]
        },
        {
          "output_type": "stream",
          "name": "stdout",
          "text": [
            "                   all         33          8    0.00482      0.125    0.00303   0.000574\n"
          ]
        },
        {
          "output_type": "stream",
          "name": "stderr",
          "text": [
            "\n"
          ]
        },
        {
          "output_type": "stream",
          "name": "stdout",
          "text": [
            "\n",
            "      Epoch    GPU_mem   box_loss   cls_loss   dfl_loss  Instances       Size\n"
          ]
        },
        {
          "output_type": "stream",
          "name": "stderr",
          "text": [
            "     17/300      16.5G      1.767      2.412      2.849         17        800: 100%|██████████| 9/9 [00:02<00:00,  4.07it/s]\n",
            "                 Class     Images  Instances      Box(P          R      mAP50  mAP50-95): 100%|██████████| 3/3 [00:00<00:00,  9.08it/s]"
          ]
        },
        {
          "output_type": "stream",
          "name": "stdout",
          "text": [
            "                   all         33          8   0.000489      0.125   0.000893   0.000179\n"
          ]
        },
        {
          "output_type": "stream",
          "name": "stderr",
          "text": [
            "\n"
          ]
        },
        {
          "output_type": "stream",
          "name": "stdout",
          "text": [
            "\n",
            "      Epoch    GPU_mem   box_loss   cls_loss   dfl_loss  Instances       Size\n"
          ]
        },
        {
          "output_type": "stream",
          "name": "stderr",
          "text": [
            "     18/300      16.5G      1.817      2.394      2.893         13        800: 100%|██████████| 9/9 [00:02<00:00,  3.96it/s]\n",
            "                 Class     Images  Instances      Box(P          R      mAP50  mAP50-95): 100%|██████████| 3/3 [00:00<00:00, 10.57it/s]"
          ]
        },
        {
          "output_type": "stream",
          "name": "stdout",
          "text": [
            "                   all         33          8   0.000489      0.125   0.000893   0.000179\n"
          ]
        },
        {
          "output_type": "stream",
          "name": "stderr",
          "text": [
            "\n"
          ]
        },
        {
          "output_type": "stream",
          "name": "stdout",
          "text": [
            "\n",
            "      Epoch    GPU_mem   box_loss   cls_loss   dfl_loss  Instances       Size\n"
          ]
        },
        {
          "output_type": "stream",
          "name": "stderr",
          "text": [
            "     19/300      16.6G      1.889      2.396      2.844         14        800: 100%|██████████| 9/9 [00:02<00:00,  4.11it/s]\n",
            "                 Class     Images  Instances      Box(P          R      mAP50  mAP50-95): 100%|██████████| 3/3 [00:00<00:00, 10.79it/s]"
          ]
        },
        {
          "output_type": "stream",
          "name": "stdout",
          "text": [
            "                   all         33          8   0.000489      0.125   0.000893   0.000179\n"
          ]
        },
        {
          "output_type": "stream",
          "name": "stderr",
          "text": [
            "\n"
          ]
        },
        {
          "output_type": "stream",
          "name": "stdout",
          "text": [
            "\n",
            "      Epoch    GPU_mem   box_loss   cls_loss   dfl_loss  Instances       Size\n"
          ]
        },
        {
          "output_type": "stream",
          "name": "stderr",
          "text": [
            "     20/300      16.6G      1.726      2.385      2.817         17        800: 100%|██████████| 9/9 [00:02<00:00,  3.98it/s]\n",
            "                 Class     Images  Instances      Box(P          R      mAP50  mAP50-95): 100%|██████████| 3/3 [00:00<00:00,  7.96it/s]"
          ]
        },
        {
          "output_type": "stream",
          "name": "stdout",
          "text": [
            "                   all         33          8     0.0273       0.25     0.0287     0.0192\n"
          ]
        },
        {
          "output_type": "stream",
          "name": "stderr",
          "text": [
            "\n"
          ]
        },
        {
          "output_type": "stream",
          "name": "stdout",
          "text": [
            "\n",
            "      Epoch    GPU_mem   box_loss   cls_loss   dfl_loss  Instances       Size\n"
          ]
        },
        {
          "output_type": "stream",
          "name": "stderr",
          "text": [
            "     21/300      16.5G      1.665      2.255      2.664          4        800: 100%|██████████| 9/9 [00:02<00:00,  4.04it/s]\n",
            "                 Class     Images  Instances      Box(P          R      mAP50  mAP50-95): 100%|██████████| 3/3 [00:00<00:00, 10.00it/s]"
          ]
        },
        {
          "output_type": "stream",
          "name": "stdout",
          "text": [
            "                   all         33          8     0.0139       0.25     0.0176     0.0109\n"
          ]
        },
        {
          "output_type": "stream",
          "name": "stderr",
          "text": [
            "\n"
          ]
        },
        {
          "output_type": "stream",
          "name": "stdout",
          "text": [
            "\n",
            "      Epoch    GPU_mem   box_loss   cls_loss   dfl_loss  Instances       Size\n"
          ]
        },
        {
          "output_type": "stream",
          "name": "stderr",
          "text": [
            "     22/300      16.5G       1.63      2.133      2.552         12        800: 100%|██████████| 9/9 [00:02<00:00,  3.99it/s]\n",
            "                 Class     Images  Instances      Box(P          R      mAP50  mAP50-95): 100%|██████████| 3/3 [00:00<00:00,  6.36it/s]"
          ]
        },
        {
          "output_type": "stream",
          "name": "stdout",
          "text": [
            "                   all         33          8     0.0226       0.25     0.0159    0.00953\n"
          ]
        },
        {
          "output_type": "stream",
          "name": "stderr",
          "text": [
            "\n"
          ]
        },
        {
          "output_type": "stream",
          "name": "stdout",
          "text": [
            "\n",
            "      Epoch    GPU_mem   box_loss   cls_loss   dfl_loss  Instances       Size\n"
          ]
        },
        {
          "output_type": "stream",
          "name": "stderr",
          "text": [
            "     23/300      16.6G      1.686      2.321      2.823         12        800: 100%|██████████| 9/9 [00:02<00:00,  4.04it/s]\n",
            "                 Class     Images  Instances      Box(P          R      mAP50  mAP50-95): 100%|██████████| 3/3 [00:00<00:00,  4.77it/s]"
          ]
        },
        {
          "output_type": "stream",
          "name": "stdout",
          "text": [
            "                   all         33          8     0.0196      0.375     0.0115    0.00919\n"
          ]
        },
        {
          "output_type": "stream",
          "name": "stderr",
          "text": [
            "\n"
          ]
        },
        {
          "output_type": "stream",
          "name": "stdout",
          "text": [
            "\n",
            "      Epoch    GPU_mem   box_loss   cls_loss   dfl_loss  Instances       Size\n"
          ]
        },
        {
          "output_type": "stream",
          "name": "stderr",
          "text": [
            "     24/300      17.1G       1.65      2.212      2.673          7        800: 100%|██████████| 9/9 [00:02<00:00,  4.04it/s]\n",
            "                 Class     Images  Instances      Box(P          R      mAP50  mAP50-95): 100%|██████████| 3/3 [00:00<00:00,  9.69it/s]"
          ]
        },
        {
          "output_type": "stream",
          "name": "stdout",
          "text": [
            "                   all         33          8      0.771      0.125      0.031     0.0163\n"
          ]
        },
        {
          "output_type": "stream",
          "name": "stderr",
          "text": [
            "\n"
          ]
        },
        {
          "output_type": "stream",
          "name": "stdout",
          "text": [
            "\n",
            "      Epoch    GPU_mem   box_loss   cls_loss   dfl_loss  Instances       Size\n"
          ]
        },
        {
          "output_type": "stream",
          "name": "stderr",
          "text": [
            "     25/300        17G      1.465      2.138      2.574          4        800: 100%|██████████| 9/9 [00:02<00:00,  4.12it/s]\n",
            "                 Class     Images  Instances      Box(P          R      mAP50  mAP50-95): 100%|██████████| 3/3 [00:00<00:00,  9.75it/s]"
          ]
        },
        {
          "output_type": "stream",
          "name": "stdout",
          "text": [
            "                   all         33          8     0.0297       0.25     0.0487      0.038\n"
          ]
        },
        {
          "output_type": "stream",
          "name": "stderr",
          "text": [
            "\n"
          ]
        },
        {
          "output_type": "stream",
          "name": "stdout",
          "text": [
            "\n",
            "      Epoch    GPU_mem   box_loss   cls_loss   dfl_loss  Instances       Size\n"
          ]
        },
        {
          "output_type": "stream",
          "name": "stderr",
          "text": [
            "     26/300      16.6G      1.436      2.028      2.682         20        800: 100%|██████████| 9/9 [00:02<00:00,  4.10it/s]\n",
            "                 Class     Images  Instances      Box(P          R      mAP50  mAP50-95): 100%|██████████| 3/3 [00:00<00:00,  9.91it/s]"
          ]
        },
        {
          "output_type": "stream",
          "name": "stdout",
          "text": [
            "                   all         33          8     0.0248       0.75     0.0483     0.0287\n"
          ]
        },
        {
          "output_type": "stream",
          "name": "stderr",
          "text": [
            "\n"
          ]
        },
        {
          "output_type": "stream",
          "name": "stdout",
          "text": [
            "\n",
            "      Epoch    GPU_mem   box_loss   cls_loss   dfl_loss  Instances       Size\n"
          ]
        },
        {
          "output_type": "stream",
          "name": "stderr",
          "text": [
            "     27/300      16.6G      1.396      1.935      2.637          8        800: 100%|██████████| 9/9 [00:02<00:00,  4.04it/s]\n",
            "                 Class     Images  Instances      Box(P          R      mAP50  mAP50-95): 100%|██████████| 3/3 [00:00<00:00,  9.91it/s]"
          ]
        },
        {
          "output_type": "stream",
          "name": "stdout",
          "text": [
            "                   all         33          8      0.284      0.125     0.0586     0.0439\n"
          ]
        },
        {
          "output_type": "stream",
          "name": "stderr",
          "text": [
            "\n"
          ]
        },
        {
          "output_type": "stream",
          "name": "stdout",
          "text": [
            "\n",
            "      Epoch    GPU_mem   box_loss   cls_loss   dfl_loss  Instances       Size\n"
          ]
        },
        {
          "output_type": "stream",
          "name": "stderr",
          "text": [
            "     28/300      16.6G      1.442      2.155      2.541         16        800: 100%|██████████| 9/9 [00:02<00:00,  3.98it/s]\n",
            "                 Class     Images  Instances      Box(P          R      mAP50  mAP50-95): 100%|██████████| 3/3 [00:00<00:00,  9.73it/s]"
          ]
        },
        {
          "output_type": "stream",
          "name": "stdout",
          "text": [
            "                   all         33          8      0.319      0.125      0.221      0.196\n"
          ]
        },
        {
          "output_type": "stream",
          "name": "stderr",
          "text": [
            "\n"
          ]
        },
        {
          "output_type": "stream",
          "name": "stdout",
          "text": [
            "\n",
            "      Epoch    GPU_mem   box_loss   cls_loss   dfl_loss  Instances       Size\n"
          ]
        },
        {
          "output_type": "stream",
          "name": "stderr",
          "text": [
            "     29/300      16.5G      1.298      1.974       2.54          8        800: 100%|██████████| 9/9 [00:02<00:00,  4.07it/s]\n",
            "                 Class     Images  Instances      Box(P          R      mAP50  mAP50-95): 100%|██████████| 3/3 [00:00<00:00,  9.97it/s]"
          ]
        },
        {
          "output_type": "stream",
          "name": "stdout",
          "text": [
            "                   all         33          8     0.0495       0.75     0.0712     0.0531\n"
          ]
        },
        {
          "output_type": "stream",
          "name": "stderr",
          "text": [
            "\n"
          ]
        },
        {
          "output_type": "stream",
          "name": "stdout",
          "text": [
            "\n",
            "      Epoch    GPU_mem   box_loss   cls_loss   dfl_loss  Instances       Size\n"
          ]
        },
        {
          "output_type": "stream",
          "name": "stderr",
          "text": [
            "     30/300      16.5G      1.295      1.809      2.636         12        800: 100%|██████████| 9/9 [00:02<00:00,  4.06it/s]\n",
            "                 Class     Images  Instances      Box(P          R      mAP50  mAP50-95): 100%|██████████| 3/3 [00:00<00:00,  9.45it/s]"
          ]
        },
        {
          "output_type": "stream",
          "name": "stdout",
          "text": [
            "                   all         33          8      0.303      0.125     0.0887     0.0771\n"
          ]
        },
        {
          "output_type": "stream",
          "name": "stderr",
          "text": [
            "\n"
          ]
        },
        {
          "output_type": "stream",
          "name": "stdout",
          "text": [
            "\n",
            "      Epoch    GPU_mem   box_loss   cls_loss   dfl_loss  Instances       Size\n"
          ]
        },
        {
          "output_type": "stream",
          "name": "stderr",
          "text": [
            "     31/300      16.6G       1.22        1.8       2.62         15        800: 100%|██████████| 9/9 [00:02<00:00,  4.04it/s]\n",
            "                 Class     Images  Instances      Box(P          R      mAP50  mAP50-95): 100%|██████████| 3/3 [00:00<00:00,  9.62it/s]"
          ]
        },
        {
          "output_type": "stream",
          "name": "stdout",
          "text": [
            "                   all         33          8      0.602      0.125      0.158      0.125\n"
          ]
        },
        {
          "output_type": "stream",
          "name": "stderr",
          "text": [
            "\n"
          ]
        },
        {
          "output_type": "stream",
          "name": "stdout",
          "text": [
            "\n",
            "      Epoch    GPU_mem   box_loss   cls_loss   dfl_loss  Instances       Size\n"
          ]
        },
        {
          "output_type": "stream",
          "name": "stderr",
          "text": [
            "     32/300      16.6G      1.188      1.788      2.741         10        800: 100%|██████████| 9/9 [00:02<00:00,  3.92it/s]\n",
            "                 Class     Images  Instances      Box(P          R      mAP50  mAP50-95): 100%|██████████| 3/3 [00:00<00:00,  9.12it/s]"
          ]
        },
        {
          "output_type": "stream",
          "name": "stdout",
          "text": [
            "                   all         33          8     0.0949      0.375     0.0917     0.0707\n"
          ]
        },
        {
          "output_type": "stream",
          "name": "stderr",
          "text": [
            "\n"
          ]
        },
        {
          "output_type": "stream",
          "name": "stdout",
          "text": [
            "\n",
            "      Epoch    GPU_mem   box_loss   cls_loss   dfl_loss  Instances       Size\n"
          ]
        },
        {
          "output_type": "stream",
          "name": "stderr",
          "text": [
            "     33/300      16.5G      1.107      1.775      2.433          7        800: 100%|██████████| 9/9 [00:02<00:00,  4.05it/s]\n",
            "                 Class     Images  Instances      Box(P          R      mAP50  mAP50-95): 100%|██████████| 3/3 [00:00<00:00, 10.28it/s]"
          ]
        },
        {
          "output_type": "stream",
          "name": "stdout",
          "text": [
            "                   all         33          8      0.186      0.657       0.15      0.121\n"
          ]
        },
        {
          "output_type": "stream",
          "name": "stderr",
          "text": [
            "\n"
          ]
        },
        {
          "output_type": "stream",
          "name": "stdout",
          "text": [
            "\n",
            "      Epoch    GPU_mem   box_loss   cls_loss   dfl_loss  Instances       Size\n"
          ]
        },
        {
          "output_type": "stream",
          "name": "stderr",
          "text": [
            "     34/300      16.5G       1.19        1.7      2.617         12        800: 100%|██████████| 9/9 [00:02<00:00,  4.07it/s]\n",
            "                 Class     Images  Instances      Box(P          R      mAP50  mAP50-95): 100%|██████████| 3/3 [00:00<00:00, 10.12it/s]"
          ]
        },
        {
          "output_type": "stream",
          "name": "stdout",
          "text": [
            "                   all         33          8      0.556       0.25      0.187      0.159\n"
          ]
        },
        {
          "output_type": "stream",
          "name": "stderr",
          "text": [
            "\n"
          ]
        },
        {
          "output_type": "stream",
          "name": "stdout",
          "text": [
            "\n",
            "      Epoch    GPU_mem   box_loss   cls_loss   dfl_loss  Instances       Size\n"
          ]
        },
        {
          "output_type": "stream",
          "name": "stderr",
          "text": [
            "     35/300      16.6G       1.22      1.789      2.555         15        800: 100%|██████████| 9/9 [00:02<00:00,  4.03it/s]\n",
            "                 Class     Images  Instances      Box(P          R      mAP50  mAP50-95): 100%|██████████| 3/3 [00:00<00:00,  8.58it/s]\n"
          ]
        },
        {
          "output_type": "stream",
          "name": "stdout",
          "text": [
            "                   all         33          8     0.0504      0.625     0.0944     0.0744\n",
            "\n",
            "      Epoch    GPU_mem   box_loss   cls_loss   dfl_loss  Instances       Size\n"
          ]
        },
        {
          "output_type": "stream",
          "name": "stderr",
          "text": [
            "     36/300      16.6G      1.153      1.668      2.381          8        800: 100%|██████████| 9/9 [00:02<00:00,  3.97it/s]\n",
            "                 Class     Images  Instances      Box(P          R      mAP50  mAP50-95): 100%|██████████| 3/3 [00:00<00:00,  9.40it/s]"
          ]
        },
        {
          "output_type": "stream",
          "name": "stdout",
          "text": [
            "                   all         33          8     0.0359      0.875     0.0579     0.0545\n"
          ]
        },
        {
          "output_type": "stream",
          "name": "stderr",
          "text": [
            "\n"
          ]
        },
        {
          "output_type": "stream",
          "name": "stdout",
          "text": [
            "\n",
            "      Epoch    GPU_mem   box_loss   cls_loss   dfl_loss  Instances       Size\n"
          ]
        },
        {
          "output_type": "stream",
          "name": "stderr",
          "text": [
            "     37/300      16.5G      1.152      1.675      2.474          8        800: 100%|██████████| 9/9 [00:02<00:00,  4.08it/s]\n",
            "                 Class     Images  Instances      Box(P          R      mAP50  mAP50-95): 100%|██████████| 3/3 [00:00<00:00,  9.51it/s]"
          ]
        },
        {
          "output_type": "stream",
          "name": "stdout",
          "text": [
            "                   all         33          8     0.0274        0.5      0.058     0.0537\n"
          ]
        },
        {
          "output_type": "stream",
          "name": "stderr",
          "text": [
            "\n"
          ]
        },
        {
          "output_type": "stream",
          "name": "stdout",
          "text": [
            "\n",
            "      Epoch    GPU_mem   box_loss   cls_loss   dfl_loss  Instances       Size\n"
          ]
        },
        {
          "output_type": "stream",
          "name": "stderr",
          "text": [
            "     38/300      16.5G      1.052      1.636      2.488         16        800: 100%|██████████| 9/9 [00:02<00:00,  4.02it/s]\n",
            "                 Class     Images  Instances      Box(P          R      mAP50  mAP50-95): 100%|██████████| 3/3 [00:00<00:00,  9.25it/s]\n"
          ]
        },
        {
          "output_type": "stream",
          "name": "stdout",
          "text": [
            "                   all         33          8     0.0568        0.5     0.0999      0.077\n",
            "\n",
            "      Epoch    GPU_mem   box_loss   cls_loss   dfl_loss  Instances       Size\n"
          ]
        },
        {
          "output_type": "stream",
          "name": "stderr",
          "text": [
            "     39/300      16.6G      1.094      1.631      2.331         11        800: 100%|██████████| 9/9 [00:02<00:00,  4.05it/s]\n",
            "                 Class     Images  Instances      Box(P          R      mAP50  mAP50-95): 100%|██████████| 3/3 [00:00<00:00, 10.45it/s]"
          ]
        },
        {
          "output_type": "stream",
          "name": "stdout",
          "text": [
            "                   all         33          8     0.0453      0.625     0.0993       0.09\n"
          ]
        },
        {
          "output_type": "stream",
          "name": "stderr",
          "text": [
            "\n"
          ]
        },
        {
          "output_type": "stream",
          "name": "stdout",
          "text": [
            "\n",
            "      Epoch    GPU_mem   box_loss   cls_loss   dfl_loss  Instances       Size\n"
          ]
        },
        {
          "output_type": "stream",
          "name": "stderr",
          "text": [
            "     40/300      16.6G      1.032      1.563      2.544          9        800: 100%|██████████| 9/9 [00:02<00:00,  4.01it/s]\n",
            "                 Class     Images  Instances      Box(P          R      mAP50  mAP50-95): 100%|██████████| 3/3 [00:00<00:00, 10.13it/s]"
          ]
        },
        {
          "output_type": "stream",
          "name": "stdout",
          "text": [
            "                   all         33          8     0.0291      0.625     0.0434     0.0362\n"
          ]
        },
        {
          "output_type": "stream",
          "name": "stderr",
          "text": [
            "\n"
          ]
        },
        {
          "output_type": "stream",
          "name": "stdout",
          "text": [
            "\n",
            "      Epoch    GPU_mem   box_loss   cls_loss   dfl_loss  Instances       Size\n"
          ]
        },
        {
          "output_type": "stream",
          "name": "stderr",
          "text": [
            "     41/300      16.5G      1.162      1.734      2.511          8        800: 100%|██████████| 9/9 [00:02<00:00,  3.99it/s]\n",
            "                 Class     Images  Instances      Box(P          R      mAP50  mAP50-95): 100%|██████████| 3/3 [00:00<00:00,  7.43it/s]"
          ]
        },
        {
          "output_type": "stream",
          "name": "stdout",
          "text": [
            "                   all         33          8     0.0526      0.375     0.0529     0.0476\n"
          ]
        },
        {
          "output_type": "stream",
          "name": "stderr",
          "text": [
            "\n"
          ]
        },
        {
          "output_type": "stream",
          "name": "stdout",
          "text": [
            "\n",
            "      Epoch    GPU_mem   box_loss   cls_loss   dfl_loss  Instances       Size\n"
          ]
        },
        {
          "output_type": "stream",
          "name": "stderr",
          "text": [
            "     42/300      16.6G      1.032      1.642      2.456          8        800: 100%|██████████| 9/9 [00:02<00:00,  4.04it/s]\n",
            "                 Class     Images  Instances      Box(P          R      mAP50  mAP50-95): 100%|██████████| 3/3 [00:00<00:00,  9.76it/s]"
          ]
        },
        {
          "output_type": "stream",
          "name": "stdout",
          "text": [
            "                   all         33          8     0.0282          1     0.0546     0.0491\n"
          ]
        },
        {
          "output_type": "stream",
          "name": "stderr",
          "text": [
            "\n"
          ]
        },
        {
          "output_type": "stream",
          "name": "stdout",
          "text": [
            "\n",
            "      Epoch    GPU_mem   box_loss   cls_loss   dfl_loss  Instances       Size\n"
          ]
        },
        {
          "output_type": "stream",
          "name": "stderr",
          "text": [
            "     43/300      17.1G     0.9115       1.48      2.467          8        800: 100%|██████████| 9/9 [00:02<00:00,  4.07it/s]\n",
            "                 Class     Images  Instances      Box(P          R      mAP50  mAP50-95): 100%|██████████| 3/3 [00:00<00:00,  9.67it/s]"
          ]
        },
        {
          "output_type": "stream",
          "name": "stdout",
          "text": [
            "                   all         33          8     0.0357      0.818     0.0706      0.059\n"
          ]
        },
        {
          "output_type": "stream",
          "name": "stderr",
          "text": [
            "\n"
          ]
        },
        {
          "output_type": "stream",
          "name": "stdout",
          "text": [
            "\n",
            "      Epoch    GPU_mem   box_loss   cls_loss   dfl_loss  Instances       Size\n"
          ]
        },
        {
          "output_type": "stream",
          "name": "stderr",
          "text": [
            "     44/300      16.6G      1.092      1.625      2.429         27        800: 100%|██████████| 9/9 [00:02<00:00,  3.86it/s]\n",
            "                 Class     Images  Instances      Box(P          R      mAP50  mAP50-95): 100%|██████████| 3/3 [00:00<00:00,  9.96it/s]"
          ]
        },
        {
          "output_type": "stream",
          "name": "stdout",
          "text": [
            "                   all         33          8     0.0694        0.5      0.177      0.159\n"
          ]
        },
        {
          "output_type": "stream",
          "name": "stderr",
          "text": [
            "\n"
          ]
        },
        {
          "output_type": "stream",
          "name": "stdout",
          "text": [
            "\n",
            "      Epoch    GPU_mem   box_loss   cls_loss   dfl_loss  Instances       Size\n"
          ]
        },
        {
          "output_type": "stream",
          "name": "stderr",
          "text": [
            "     45/300      16.5G      1.047      1.558        2.4         19        800: 100%|██████████| 9/9 [00:02<00:00,  4.07it/s]\n",
            "                 Class     Images  Instances      Box(P          R      mAP50  mAP50-95): 100%|██████████| 3/3 [00:00<00:00,  9.65it/s]"
          ]
        },
        {
          "output_type": "stream",
          "name": "stdout",
          "text": [
            "                   all         33          8      0.105      0.375      0.137      0.121\n"
          ]
        },
        {
          "output_type": "stream",
          "name": "stderr",
          "text": [
            "\n"
          ]
        },
        {
          "output_type": "stream",
          "name": "stdout",
          "text": [
            "\n",
            "      Epoch    GPU_mem   box_loss   cls_loss   dfl_loss  Instances       Size\n"
          ]
        },
        {
          "output_type": "stream",
          "name": "stderr",
          "text": [
            "     46/300      16.5G      1.005      1.528      2.493         13        800: 100%|██████████| 9/9 [00:02<00:00,  4.07it/s]\n",
            "                 Class     Images  Instances      Box(P          R      mAP50  mAP50-95): 100%|██████████| 3/3 [00:00<00:00, 10.41it/s]"
          ]
        },
        {
          "output_type": "stream",
          "name": "stdout",
          "text": [
            "                   all         33          8     0.0595      0.375       0.14      0.126\n"
          ]
        },
        {
          "output_type": "stream",
          "name": "stderr",
          "text": [
            "\n"
          ]
        },
        {
          "output_type": "stream",
          "name": "stdout",
          "text": [
            "\n",
            "      Epoch    GPU_mem   box_loss   cls_loss   dfl_loss  Instances       Size\n"
          ]
        },
        {
          "output_type": "stream",
          "name": "stderr",
          "text": [
            "     47/300      16.6G     0.8517      1.474      2.455         12        800: 100%|██████████| 9/9 [00:02<00:00,  3.94it/s]\n",
            "                 Class     Images  Instances      Box(P          R      mAP50  mAP50-95): 100%|██████████| 3/3 [00:00<00:00, 10.37it/s]"
          ]
        },
        {
          "output_type": "stream",
          "name": "stdout",
          "text": [
            "                   all         33          8      0.541      0.375     0.0744     0.0709\n"
          ]
        },
        {
          "output_type": "stream",
          "name": "stderr",
          "text": [
            "\n"
          ]
        },
        {
          "output_type": "stream",
          "name": "stdout",
          "text": [
            "\n",
            "      Epoch    GPU_mem   box_loss   cls_loss   dfl_loss  Instances       Size\n"
          ]
        },
        {
          "output_type": "stream",
          "name": "stderr",
          "text": [
            "     48/300      16.6G     0.9136      1.499      2.299         13        800: 100%|██████████| 9/9 [00:02<00:00,  4.00it/s]\n",
            "                 Class     Images  Instances      Box(P          R      mAP50  mAP50-95): 100%|██████████| 3/3 [00:00<00:00,  9.96it/s]"
          ]
        },
        {
          "output_type": "stream",
          "name": "stdout",
          "text": [
            "                   all         33          8     0.0371       0.75     0.0503     0.0411\n"
          ]
        },
        {
          "output_type": "stream",
          "name": "stderr",
          "text": [
            "\n"
          ]
        },
        {
          "output_type": "stream",
          "name": "stdout",
          "text": [
            "\n",
            "      Epoch    GPU_mem   box_loss   cls_loss   dfl_loss  Instances       Size\n"
          ]
        },
        {
          "output_type": "stream",
          "name": "stderr",
          "text": [
            "     49/300      16.5G     0.8329      2.727      2.137          0        800: 100%|██████████| 9/9 [00:02<00:00,  4.04it/s]\n",
            "                 Class     Images  Instances      Box(P          R      mAP50  mAP50-95): 100%|██████████| 3/3 [00:00<00:00, 10.29it/s]"
          ]
        },
        {
          "output_type": "stream",
          "name": "stdout",
          "text": [
            "                   all         33          8     0.0821       0.75      0.132      0.108\n"
          ]
        },
        {
          "output_type": "stream",
          "name": "stderr",
          "text": [
            "\n"
          ]
        },
        {
          "output_type": "stream",
          "name": "stdout",
          "text": [
            "\n",
            "      Epoch    GPU_mem   box_loss   cls_loss   dfl_loss  Instances       Size\n"
          ]
        },
        {
          "output_type": "stream",
          "name": "stderr",
          "text": [
            "     50/300      16.5G      1.121      1.783      2.459          4        800: 100%|██████████| 9/9 [00:02<00:00,  4.01it/s]\n",
            "                 Class     Images  Instances      Box(P          R      mAP50  mAP50-95): 100%|██████████| 3/3 [00:00<00:00,  9.82it/s]"
          ]
        },
        {
          "output_type": "stream",
          "name": "stdout",
          "text": [
            "                   all         33          8      0.798      0.125      0.158      0.142\n"
          ]
        },
        {
          "output_type": "stream",
          "name": "stderr",
          "text": [
            "\n"
          ]
        },
        {
          "output_type": "stream",
          "name": "stdout",
          "text": [
            "\n",
            "      Epoch    GPU_mem   box_loss   cls_loss   dfl_loss  Instances       Size\n"
          ]
        },
        {
          "output_type": "stream",
          "name": "stderr",
          "text": [
            "     51/300      16.6G     0.9028      1.499      2.422          4        800: 100%|██████████| 9/9 [00:02<00:00,  4.05it/s]\n",
            "                 Class     Images  Instances      Box(P          R      mAP50  mAP50-95): 100%|██████████| 3/3 [00:00<00:00,  9.85it/s]"
          ]
        },
        {
          "output_type": "stream",
          "name": "stdout",
          "text": [
            "                   all         33          8     0.0472      0.875     0.0961     0.0871\n"
          ]
        },
        {
          "output_type": "stream",
          "name": "stderr",
          "text": [
            "\n"
          ]
        },
        {
          "output_type": "stream",
          "name": "stdout",
          "text": [
            "\n",
            "      Epoch    GPU_mem   box_loss   cls_loss   dfl_loss  Instances       Size\n"
          ]
        },
        {
          "output_type": "stream",
          "name": "stderr",
          "text": [
            "     52/300      16.6G     0.8313      1.435      2.326          7        800: 100%|██████████| 9/9 [00:02<00:00,  3.99it/s]\n",
            "                 Class     Images  Instances      Box(P          R      mAP50  mAP50-95): 100%|██████████| 3/3 [00:00<00:00, 10.46it/s]"
          ]
        },
        {
          "output_type": "stream",
          "name": "stdout",
          "text": [
            "                   all         33          8     0.0698        0.5      0.113      0.106\n"
          ]
        },
        {
          "output_type": "stream",
          "name": "stderr",
          "text": [
            "\n"
          ]
        },
        {
          "output_type": "stream",
          "name": "stdout",
          "text": [
            "\n",
            "      Epoch    GPU_mem   box_loss   cls_loss   dfl_loss  Instances       Size\n"
          ]
        },
        {
          "output_type": "stream",
          "name": "stderr",
          "text": [
            "     53/300      16.5G     0.8672      1.393      2.339          8        800: 100%|██████████| 9/9 [00:02<00:00,  4.01it/s]\n",
            "                 Class     Images  Instances      Box(P          R      mAP50  mAP50-95): 100%|██████████| 3/3 [00:00<00:00,  9.99it/s]"
          ]
        },
        {
          "output_type": "stream",
          "name": "stdout",
          "text": [
            "                   all         33          8     0.0476      0.875     0.0763     0.0688\n"
          ]
        },
        {
          "output_type": "stream",
          "name": "stderr",
          "text": [
            "\n"
          ]
        },
        {
          "output_type": "stream",
          "name": "stdout",
          "text": [
            "\n",
            "      Epoch    GPU_mem   box_loss   cls_loss   dfl_loss  Instances       Size\n"
          ]
        },
        {
          "output_type": "stream",
          "name": "stderr",
          "text": [
            "     54/300      16.5G       0.79      1.378      2.253          9        800: 100%|██████████| 9/9 [00:02<00:00,  4.00it/s]\n",
            "                 Class     Images  Instances      Box(P          R      mAP50  mAP50-95): 100%|██████████| 3/3 [00:00<00:00,  9.51it/s]"
          ]
        },
        {
          "output_type": "stream",
          "name": "stdout",
          "text": [
            "                   all         33          8      0.326      0.375      0.121      0.116\n"
          ]
        },
        {
          "output_type": "stream",
          "name": "stderr",
          "text": [
            "\n"
          ]
        },
        {
          "output_type": "stream",
          "name": "stdout",
          "text": [
            "\n",
            "      Epoch    GPU_mem   box_loss   cls_loss   dfl_loss  Instances       Size\n"
          ]
        },
        {
          "output_type": "stream",
          "name": "stderr",
          "text": [
            "     55/300      17.1G     0.8385      1.492       2.46         11        800: 100%|██████████| 9/9 [00:02<00:00,  4.07it/s]\n",
            "                 Class     Images  Instances      Box(P          R      mAP50  mAP50-95): 100%|██████████| 3/3 [00:00<00:00,  8.70it/s]"
          ]
        },
        {
          "output_type": "stream",
          "name": "stdout",
          "text": [
            "                   all         33          8      0.313        0.5       0.12      0.114\n"
          ]
        },
        {
          "output_type": "stream",
          "name": "stderr",
          "text": [
            "\n"
          ]
        },
        {
          "output_type": "stream",
          "name": "stdout",
          "text": [
            "\n",
            "      Epoch    GPU_mem   box_loss   cls_loss   dfl_loss  Instances       Size\n"
          ]
        },
        {
          "output_type": "stream",
          "name": "stderr",
          "text": [
            "     56/300      17.1G     0.8651      1.426      2.405         16        800: 100%|██████████| 9/9 [00:02<00:00,  3.96it/s]\n",
            "                 Class     Images  Instances      Box(P          R      mAP50  mAP50-95): 100%|██████████| 3/3 [00:00<00:00, 10.13it/s]"
          ]
        },
        {
          "output_type": "stream",
          "name": "stdout",
          "text": [
            "                   all         33          8     0.0575      0.875      0.223      0.206\n"
          ]
        },
        {
          "output_type": "stream",
          "name": "stderr",
          "text": [
            "\n"
          ]
        },
        {
          "output_type": "stream",
          "name": "stdout",
          "text": [
            "\n",
            "      Epoch    GPU_mem   box_loss   cls_loss   dfl_loss  Instances       Size\n"
          ]
        },
        {
          "output_type": "stream",
          "name": "stderr",
          "text": [
            "     57/300      16.5G     0.7647      1.347      2.353          8        800: 100%|██████████| 9/9 [00:02<00:00,  4.10it/s]\n",
            "                 Class     Images  Instances      Box(P          R      mAP50  mAP50-95): 100%|██████████| 3/3 [00:00<00:00,  9.84it/s]"
          ]
        },
        {
          "output_type": "stream",
          "name": "stdout",
          "text": [
            "                   all         33          8     0.0684          1      0.117      0.112\n"
          ]
        },
        {
          "output_type": "stream",
          "name": "stderr",
          "text": [
            "\n"
          ]
        },
        {
          "output_type": "stream",
          "name": "stdout",
          "text": [
            "\n",
            "      Epoch    GPU_mem   box_loss   cls_loss   dfl_loss  Instances       Size\n"
          ]
        },
        {
          "output_type": "stream",
          "name": "stderr",
          "text": [
            "     58/300      16.6G     0.6877      3.572      2.075          0        800: 100%|██████████| 9/9 [00:02<00:00,  4.06it/s]\n",
            "                 Class     Images  Instances      Box(P          R      mAP50  mAP50-95): 100%|██████████| 3/3 [00:00<00:00,  9.74it/s]"
          ]
        },
        {
          "output_type": "stream",
          "name": "stdout",
          "text": [
            "                   all         33          8     0.0675       0.75      0.126      0.114\n"
          ]
        },
        {
          "output_type": "stream",
          "name": "stderr",
          "text": [
            "\n"
          ]
        },
        {
          "output_type": "stream",
          "name": "stdout",
          "text": [
            "\n",
            "      Epoch    GPU_mem   box_loss   cls_loss   dfl_loss  Instances       Size\n"
          ]
        },
        {
          "output_type": "stream",
          "name": "stderr",
          "text": [
            "     59/300      16.6G     0.7955      1.303      2.291         12        800: 100%|██████████| 9/9 [00:02<00:00,  3.99it/s]\n",
            "                 Class     Images  Instances      Box(P          R      mAP50  mAP50-95): 100%|██████████| 3/3 [00:00<00:00,  9.88it/s]"
          ]
        },
        {
          "output_type": "stream",
          "name": "stdout",
          "text": [
            "                   all         33          8     0.0492      0.625     0.0965     0.0898\n"
          ]
        },
        {
          "output_type": "stream",
          "name": "stderr",
          "text": [
            "\n"
          ]
        },
        {
          "output_type": "stream",
          "name": "stdout",
          "text": [
            "\n",
            "      Epoch    GPU_mem   box_loss   cls_loss   dfl_loss  Instances       Size\n"
          ]
        },
        {
          "output_type": "stream",
          "name": "stderr",
          "text": [
            "     60/300      16.6G     0.6617      3.145      1.959          0        800: 100%|██████████| 9/9 [00:02<00:00,  3.99it/s]\n",
            "                 Class     Images  Instances      Box(P          R      mAP50  mAP50-95): 100%|██████████| 3/3 [00:00<00:00,  9.92it/s]"
          ]
        },
        {
          "output_type": "stream",
          "name": "stdout",
          "text": [
            "                   all         33          8     0.0427       0.75     0.0619     0.0574\n"
          ]
        },
        {
          "output_type": "stream",
          "name": "stderr",
          "text": [
            "\n"
          ]
        },
        {
          "output_type": "stream",
          "name": "stdout",
          "text": [
            "\n",
            "      Epoch    GPU_mem   box_loss   cls_loss   dfl_loss  Instances       Size\n"
          ]
        },
        {
          "output_type": "stream",
          "name": "stderr",
          "text": [
            "     61/300      16.5G     0.7426      1.464      2.406         11        800: 100%|██████████| 9/9 [00:02<00:00,  4.07it/s]\n",
            "                 Class     Images  Instances      Box(P          R      mAP50  mAP50-95): 100%|██████████| 3/3 [00:00<00:00,  9.69it/s]"
          ]
        },
        {
          "output_type": "stream",
          "name": "stdout",
          "text": [
            "                   all         33          8     0.0421      0.875      0.116      0.106\n"
          ]
        },
        {
          "output_type": "stream",
          "name": "stderr",
          "text": [
            "\n"
          ]
        },
        {
          "output_type": "stream",
          "name": "stdout",
          "text": [
            "\n",
            "      Epoch    GPU_mem   box_loss   cls_loss   dfl_loss  Instances       Size\n"
          ]
        },
        {
          "output_type": "stream",
          "name": "stderr",
          "text": [
            "     62/300      16.5G     0.7603      1.599      2.376          5        800: 100%|██████████| 9/9 [00:02<00:00,  4.02it/s]\n",
            "                 Class     Images  Instances      Box(P          R      mAP50  mAP50-95): 100%|██████████| 3/3 [00:00<00:00,  9.93it/s]"
          ]
        },
        {
          "output_type": "stream",
          "name": "stdout",
          "text": [
            "                   all         33          8     0.0958      0.375      0.279      0.277\n"
          ]
        },
        {
          "output_type": "stream",
          "name": "stderr",
          "text": [
            "\n"
          ]
        },
        {
          "output_type": "stream",
          "name": "stdout",
          "text": [
            "\n",
            "      Epoch    GPU_mem   box_loss   cls_loss   dfl_loss  Instances       Size\n"
          ]
        },
        {
          "output_type": "stream",
          "name": "stderr",
          "text": [
            "     63/300      16.6G     0.7184      1.393      2.363          9        800: 100%|██████████| 9/9 [00:02<00:00,  4.05it/s]\n",
            "                 Class     Images  Instances      Box(P          R      mAP50  mAP50-95): 100%|██████████| 3/3 [00:00<00:00, 10.17it/s]"
          ]
        },
        {
          "output_type": "stream",
          "name": "stdout",
          "text": [
            "                   all         33          8      0.302        0.5      0.151      0.134\n"
          ]
        },
        {
          "output_type": "stream",
          "name": "stderr",
          "text": [
            "\n"
          ]
        },
        {
          "output_type": "stream",
          "name": "stdout",
          "text": [
            "\n",
            "      Epoch    GPU_mem   box_loss   cls_loss   dfl_loss  Instances       Size\n"
          ]
        },
        {
          "output_type": "stream",
          "name": "stderr",
          "text": [
            "     64/300      16.6G      1.106      2.796      2.582          1        800: 100%|██████████| 9/9 [00:02<00:00,  3.99it/s]\n",
            "                 Class     Images  Instances      Box(P          R      mAP50  mAP50-95): 100%|██████████| 3/3 [00:00<00:00,  9.68it/s]"
          ]
        },
        {
          "output_type": "stream",
          "name": "stdout",
          "text": [
            "                   all         33          8     0.0316      0.875     0.0736     0.0689\n"
          ]
        },
        {
          "output_type": "stream",
          "name": "stderr",
          "text": [
            "\n"
          ]
        },
        {
          "output_type": "stream",
          "name": "stdout",
          "text": [
            "\n",
            "      Epoch    GPU_mem   box_loss   cls_loss   dfl_loss  Instances       Size\n"
          ]
        },
        {
          "output_type": "stream",
          "name": "stderr",
          "text": [
            "     65/300      16.5G     0.7869      1.402      2.294         16        800: 100%|██████████| 9/9 [00:02<00:00,  3.99it/s]\n",
            "                 Class     Images  Instances      Box(P          R      mAP50  mAP50-95): 100%|██████████| 3/3 [00:00<00:00,  8.47it/s]\n"
          ]
        },
        {
          "output_type": "stream",
          "name": "stdout",
          "text": [
            "                   all         33          8     0.0381      0.875     0.0646     0.0561\n",
            "\n",
            "      Epoch    GPU_mem   box_loss   cls_loss   dfl_loss  Instances       Size\n"
          ]
        },
        {
          "output_type": "stream",
          "name": "stderr",
          "text": [
            "     66/300      16.6G     0.6259      5.331      2.056          0        800: 100%|██████████| 9/9 [00:02<00:00,  4.08it/s]\n",
            "                 Class     Images  Instances      Box(P          R      mAP50  mAP50-95): 100%|██████████| 3/3 [00:00<00:00, 10.47it/s]"
          ]
        },
        {
          "output_type": "stream",
          "name": "stdout",
          "text": [
            "                   all         33          8     0.0589       0.25     0.0926     0.0879\n"
          ]
        },
        {
          "output_type": "stream",
          "name": "stderr",
          "text": [
            "\n"
          ]
        },
        {
          "output_type": "stream",
          "name": "stdout",
          "text": [
            "\n",
            "      Epoch    GPU_mem   box_loss   cls_loss   dfl_loss  Instances       Size\n"
          ]
        },
        {
          "output_type": "stream",
          "name": "stderr",
          "text": [
            "     67/300      16.5G     0.7459      1.277      2.183         20        800: 100%|██████████| 9/9 [00:02<00:00,  4.04it/s]\n",
            "                 Class     Images  Instances      Box(P          R      mAP50  mAP50-95): 100%|██████████| 3/3 [00:00<00:00,  9.40it/s]"
          ]
        },
        {
          "output_type": "stream",
          "name": "stdout",
          "text": [
            "                   all         33          8     0.0651      0.463       0.14      0.128\n"
          ]
        },
        {
          "output_type": "stream",
          "name": "stderr",
          "text": [
            "\n"
          ]
        },
        {
          "output_type": "stream",
          "name": "stdout",
          "text": [
            "\n",
            "      Epoch    GPU_mem   box_loss   cls_loss   dfl_loss  Instances       Size\n"
          ]
        },
        {
          "output_type": "stream",
          "name": "stderr",
          "text": [
            "     68/300      16.6G      0.678      1.299      2.291         22        800: 100%|██████████| 9/9 [00:02<00:00,  3.87it/s]\n",
            "                 Class     Images  Instances      Box(P          R      mAP50  mAP50-95): 100%|██████████| 3/3 [00:00<00:00, 10.31it/s]"
          ]
        },
        {
          "output_type": "stream",
          "name": "stdout",
          "text": [
            "                   all         33          8      0.474      0.625      0.347      0.337\n"
          ]
        },
        {
          "output_type": "stream",
          "name": "stderr",
          "text": [
            "\n"
          ]
        },
        {
          "output_type": "stream",
          "name": "stdout",
          "text": [
            "\n",
            "      Epoch    GPU_mem   box_loss   cls_loss   dfl_loss  Instances       Size\n"
          ]
        },
        {
          "output_type": "stream",
          "name": "stderr",
          "text": [
            "     69/300      16.5G     0.7343      1.268      2.226         20        800: 100%|██████████| 9/9 [00:02<00:00,  4.06it/s]\n",
            "                 Class     Images  Instances      Box(P          R      mAP50  mAP50-95): 100%|██████████| 3/3 [00:00<00:00,  9.55it/s]"
          ]
        },
        {
          "output_type": "stream",
          "name": "stdout",
          "text": [
            "                   all         33          8      0.119        0.5      0.284      0.278\n"
          ]
        },
        {
          "output_type": "stream",
          "name": "stderr",
          "text": [
            "\n"
          ]
        },
        {
          "output_type": "stream",
          "name": "stdout",
          "text": [
            "\n",
            "      Epoch    GPU_mem   box_loss   cls_loss   dfl_loss  Instances       Size\n"
          ]
        },
        {
          "output_type": "stream",
          "name": "stderr",
          "text": [
            "     70/300      16.6G     0.6406      1.221      2.359          8        800: 100%|██████████| 9/9 [00:02<00:00,  3.98it/s]\n",
            "                 Class     Images  Instances      Box(P          R      mAP50  mAP50-95): 100%|██████████| 3/3 [00:00<00:00,  9.48it/s]"
          ]
        },
        {
          "output_type": "stream",
          "name": "stdout",
          "text": [
            "                   all         33          8      0.363       0.25      0.308      0.293\n"
          ]
        },
        {
          "output_type": "stream",
          "name": "stderr",
          "text": [
            "\n"
          ]
        },
        {
          "output_type": "stream",
          "name": "stdout",
          "text": [
            "\n",
            "      Epoch    GPU_mem   box_loss   cls_loss   dfl_loss  Instances       Size\n"
          ]
        },
        {
          "output_type": "stream",
          "name": "stderr",
          "text": [
            "     71/300      16.6G     0.6312      1.252      2.228         12        800: 100%|██████████| 9/9 [00:02<00:00,  4.07it/s]\n",
            "                 Class     Images  Instances      Box(P          R      mAP50  mAP50-95): 100%|██████████| 3/3 [00:00<00:00, 10.24it/s]"
          ]
        },
        {
          "output_type": "stream",
          "name": "stdout",
          "text": [
            "                   all         33          8      0.108        0.5      0.165      0.159\n"
          ]
        },
        {
          "output_type": "stream",
          "name": "stderr",
          "text": [
            "\n"
          ]
        },
        {
          "output_type": "stream",
          "name": "stdout",
          "text": [
            "\n",
            "      Epoch    GPU_mem   box_loss   cls_loss   dfl_loss  Instances       Size\n"
          ]
        },
        {
          "output_type": "stream",
          "name": "stderr",
          "text": [
            "     72/300      16.6G      0.803      1.493      2.239          9        800: 100%|██████████| 9/9 [00:02<00:00,  4.02it/s]\n",
            "                 Class     Images  Instances      Box(P          R      mAP50  mAP50-95): 100%|██████████| 3/3 [00:00<00:00,  9.82it/s]"
          ]
        },
        {
          "output_type": "stream",
          "name": "stdout",
          "text": [
            "                   all         33          8     0.0533      0.625      0.109      0.101\n"
          ]
        },
        {
          "output_type": "stream",
          "name": "stderr",
          "text": [
            "\n"
          ]
        },
        {
          "output_type": "stream",
          "name": "stdout",
          "text": [
            "\n",
            "      Epoch    GPU_mem   box_loss   cls_loss   dfl_loss  Instances       Size\n"
          ]
        },
        {
          "output_type": "stream",
          "name": "stderr",
          "text": [
            "     73/300      16.5G      0.707      1.213      2.254          8        800: 100%|██████████| 9/9 [00:02<00:00,  4.00it/s]\n",
            "                 Class     Images  Instances      Box(P          R      mAP50  mAP50-95): 100%|██████████| 3/3 [00:00<00:00,  9.55it/s]"
          ]
        },
        {
          "output_type": "stream",
          "name": "stdout",
          "text": [
            "                   all         33          8     0.0466       0.75     0.0796      0.073\n"
          ]
        },
        {
          "output_type": "stream",
          "name": "stderr",
          "text": [
            "\n"
          ]
        },
        {
          "output_type": "stream",
          "name": "stdout",
          "text": [
            "\n",
            "      Epoch    GPU_mem   box_loss   cls_loss   dfl_loss  Instances       Size\n"
          ]
        },
        {
          "output_type": "stream",
          "name": "stderr",
          "text": [
            "     74/300      16.5G     0.6195      1.165      2.186         15        800: 100%|██████████| 9/9 [00:02<00:00,  4.07it/s]\n",
            "                 Class     Images  Instances      Box(P          R      mAP50  mAP50-95): 100%|██████████| 3/3 [00:00<00:00,  9.23it/s]\n"
          ]
        },
        {
          "output_type": "stream",
          "name": "stdout",
          "text": [
            "                   all         33          8     0.0563      0.875     0.0947     0.0905\n",
            "\n",
            "      Epoch    GPU_mem   box_loss   cls_loss   dfl_loss  Instances       Size\n"
          ]
        },
        {
          "output_type": "stream",
          "name": "stderr",
          "text": [
            "     75/300      16.6G      1.027      1.835      2.293          6        800: 100%|██████████| 9/9 [00:02<00:00,  4.01it/s]\n",
            "                 Class     Images  Instances      Box(P          R      mAP50  mAP50-95): 100%|██████████| 3/3 [00:00<00:00, 10.42it/s]"
          ]
        },
        {
          "output_type": "stream",
          "name": "stdout",
          "text": [
            "                   all         33          8      0.127      0.376      0.199       0.19\n"
          ]
        },
        {
          "output_type": "stream",
          "name": "stderr",
          "text": [
            "\n"
          ]
        },
        {
          "output_type": "stream",
          "name": "stdout",
          "text": [
            "\n",
            "      Epoch    GPU_mem   box_loss   cls_loss   dfl_loss  Instances       Size\n"
          ]
        },
        {
          "output_type": "stream",
          "name": "stderr",
          "text": [
            "     76/300      16.6G     0.6589      1.156      2.358         12        800: 100%|██████████| 9/9 [00:02<00:00,  3.90it/s]\n",
            "                 Class     Images  Instances      Box(P          R      mAP50  mAP50-95): 100%|██████████| 3/3 [00:00<00:00,  9.58it/s]"
          ]
        },
        {
          "output_type": "stream",
          "name": "stdout",
          "text": [
            "                   all         33          8      0.121       0.42      0.362      0.338\n"
          ]
        },
        {
          "output_type": "stream",
          "name": "stderr",
          "text": [
            "\n"
          ]
        },
        {
          "output_type": "stream",
          "name": "stdout",
          "text": [
            "\n",
            "      Epoch    GPU_mem   box_loss   cls_loss   dfl_loss  Instances       Size\n"
          ]
        },
        {
          "output_type": "stream",
          "name": "stderr",
          "text": [
            "     77/300      16.5G      0.613      6.011      1.927          0        800: 100%|██████████| 9/9 [00:02<00:00,  4.07it/s]\n",
            "                 Class     Images  Instances      Box(P          R      mAP50  mAP50-95): 100%|██████████| 3/3 [00:00<00:00, 10.36it/s]"
          ]
        },
        {
          "output_type": "stream",
          "name": "stdout",
          "text": [
            "                   all         33          8      0.105      0.875      0.256      0.239\n"
          ]
        },
        {
          "output_type": "stream",
          "name": "stderr",
          "text": [
            "\n"
          ]
        },
        {
          "output_type": "stream",
          "name": "stdout",
          "text": [
            "\n",
            "      Epoch    GPU_mem   box_loss   cls_loss   dfl_loss  Instances       Size\n"
          ]
        },
        {
          "output_type": "stream",
          "name": "stderr",
          "text": [
            "     78/300      16.5G     0.6869      1.103      2.247         19        800: 100%|██████████| 9/9 [00:02<00:00,  3.98it/s]\n",
            "                 Class     Images  Instances      Box(P          R      mAP50  mAP50-95): 100%|██████████| 3/3 [00:00<00:00,  9.41it/s]"
          ]
        },
        {
          "output_type": "stream",
          "name": "stdout",
          "text": [
            "                   all         33          8       0.16      0.375      0.377      0.359\n"
          ]
        },
        {
          "output_type": "stream",
          "name": "stderr",
          "text": [
            "\n"
          ]
        },
        {
          "output_type": "stream",
          "name": "stdout",
          "text": [
            "\n",
            "      Epoch    GPU_mem   box_loss   cls_loss   dfl_loss  Instances       Size\n"
          ]
        },
        {
          "output_type": "stream",
          "name": "stderr",
          "text": [
            "     79/300      17.1G     0.7196      1.204      2.176          8        800: 100%|██████████| 9/9 [00:02<00:00,  4.09it/s]\n",
            "                 Class     Images  Instances      Box(P          R      mAP50  mAP50-95): 100%|██████████| 3/3 [00:00<00:00,  9.77it/s]"
          ]
        },
        {
          "output_type": "stream",
          "name": "stdout",
          "text": [
            "                   all         33          8      0.469       0.25       0.36      0.345\n"
          ]
        },
        {
          "output_type": "stream",
          "name": "stderr",
          "text": [
            "\n"
          ]
        },
        {
          "output_type": "stream",
          "name": "stdout",
          "text": [
            "\n",
            "      Epoch    GPU_mem   box_loss   cls_loss   dfl_loss  Instances       Size\n"
          ]
        },
        {
          "output_type": "stream",
          "name": "stderr",
          "text": [
            "     80/300      17.1G     0.6594      1.259      2.341         12        800: 100%|██████████| 9/9 [00:02<00:00,  4.02it/s]\n",
            "                 Class     Images  Instances      Box(P          R      mAP50  mAP50-95): 100%|██████████| 3/3 [00:00<00:00,  9.12it/s]"
          ]
        },
        {
          "output_type": "stream",
          "name": "stdout",
          "text": [
            "                   all         33          8     0.0671       0.75      0.107        0.1\n"
          ]
        },
        {
          "output_type": "stream",
          "name": "stderr",
          "text": [
            "\n"
          ]
        },
        {
          "output_type": "stream",
          "name": "stdout",
          "text": [
            "\n",
            "      Epoch    GPU_mem   box_loss   cls_loss   dfl_loss  Instances       Size\n"
          ]
        },
        {
          "output_type": "stream",
          "name": "stderr",
          "text": [
            "     81/300      16.5G     0.6632      1.156      2.159         12        800: 100%|██████████| 9/9 [00:02<00:00,  4.05it/s]\n",
            "                 Class     Images  Instances      Box(P          R      mAP50  mAP50-95): 100%|██████████| 3/3 [00:00<00:00, 10.12it/s]"
          ]
        },
        {
          "output_type": "stream",
          "name": "stdout",
          "text": [
            "                   all         33          8     0.0929        0.5      0.158      0.154\n"
          ]
        },
        {
          "output_type": "stream",
          "name": "stderr",
          "text": [
            "\n"
          ]
        },
        {
          "output_type": "stream",
          "name": "stdout",
          "text": [
            "\n",
            "      Epoch    GPU_mem   box_loss   cls_loss   dfl_loss  Instances       Size\n"
          ]
        },
        {
          "output_type": "stream",
          "name": "stderr",
          "text": [
            "     82/300      16.6G     0.7388      1.206      2.331          4        800: 100%|██████████| 9/9 [00:02<00:00,  3.99it/s]\n",
            "                 Class     Images  Instances      Box(P          R      mAP50  mAP50-95): 100%|██████████| 3/3 [00:00<00:00, 10.50it/s]"
          ]
        },
        {
          "output_type": "stream",
          "name": "stdout",
          "text": [
            "                   all         33          8     0.0928        0.5      0.311      0.294\n"
          ]
        },
        {
          "output_type": "stream",
          "name": "stderr",
          "text": [
            "\n"
          ]
        },
        {
          "output_type": "stream",
          "name": "stdout",
          "text": [
            "\n",
            "      Epoch    GPU_mem   box_loss   cls_loss   dfl_loss  Instances       Size\n"
          ]
        },
        {
          "output_type": "stream",
          "name": "stderr",
          "text": [
            "     83/300      16.6G     0.8143      1.237      2.235          5        800: 100%|██████████| 9/9 [00:02<00:00,  4.02it/s]\n",
            "                 Class     Images  Instances      Box(P          R      mAP50  mAP50-95): 100%|██████████| 3/3 [00:00<00:00,  9.47it/s]"
          ]
        },
        {
          "output_type": "stream",
          "name": "stdout",
          "text": [
            "                   all         33          8      0.101      0.875      0.149      0.134\n"
          ]
        },
        {
          "output_type": "stream",
          "name": "stderr",
          "text": [
            "\n"
          ]
        },
        {
          "output_type": "stream",
          "name": "stdout",
          "text": [
            "\n",
            "      Epoch    GPU_mem   box_loss   cls_loss   dfl_loss  Instances       Size\n"
          ]
        },
        {
          "output_type": "stream",
          "name": "stderr",
          "text": [
            "     84/300      16.6G     0.6708      1.081      2.312          8        800: 100%|██████████| 9/9 [00:02<00:00,  4.01it/s]\n",
            "                 Class     Images  Instances      Box(P          R      mAP50  mAP50-95): 100%|██████████| 3/3 [00:00<00:00, 10.05it/s]"
          ]
        },
        {
          "output_type": "stream",
          "name": "stdout",
          "text": [
            "                   all         33          8     0.0664      0.875      0.169      0.156\n"
          ]
        },
        {
          "output_type": "stream",
          "name": "stderr",
          "text": [
            "\n"
          ]
        },
        {
          "output_type": "stream",
          "name": "stdout",
          "text": [
            "\n",
            "      Epoch    GPU_mem   box_loss   cls_loss   dfl_loss  Instances       Size\n"
          ]
        },
        {
          "output_type": "stream",
          "name": "stderr",
          "text": [
            "     85/300      16.5G     0.6204      1.094      2.158          8        800: 100%|██████████| 9/9 [00:02<00:00,  4.04it/s]\n",
            "                 Class     Images  Instances      Box(P          R      mAP50  mAP50-95): 100%|██████████| 3/3 [00:00<00:00, 10.11it/s]"
          ]
        },
        {
          "output_type": "stream",
          "name": "stdout",
          "text": [
            "                   all         33          8     0.0435      0.875     0.0969      0.091\n"
          ]
        },
        {
          "output_type": "stream",
          "name": "stderr",
          "text": [
            "\n"
          ]
        },
        {
          "output_type": "stream",
          "name": "stdout",
          "text": [
            "\n",
            "      Epoch    GPU_mem   box_loss   cls_loss   dfl_loss  Instances       Size\n"
          ]
        },
        {
          "output_type": "stream",
          "name": "stderr",
          "text": [
            "     86/300      16.5G     0.6689      1.085      2.373          4        800: 100%|██████████| 9/9 [00:02<00:00,  3.95it/s]\n",
            "                 Class     Images  Instances      Box(P          R      mAP50  mAP50-95): 100%|██████████| 3/3 [00:00<00:00,  9.52it/s]"
          ]
        },
        {
          "output_type": "stream",
          "name": "stdout",
          "text": [
            "                   all         33          8      0.562       0.25      0.202      0.198\n"
          ]
        },
        {
          "output_type": "stream",
          "name": "stderr",
          "text": [
            "\n"
          ]
        },
        {
          "output_type": "stream",
          "name": "stdout",
          "text": [
            "\n",
            "      Epoch    GPU_mem   box_loss   cls_loss   dfl_loss  Instances       Size\n"
          ]
        },
        {
          "output_type": "stream",
          "name": "stderr",
          "text": [
            "     87/300      16.6G     0.6787      1.048      2.153         12        800: 100%|██████████| 9/9 [00:02<00:00,  3.99it/s]\n",
            "                 Class     Images  Instances      Box(P          R      mAP50  mAP50-95): 100%|██████████| 3/3 [00:00<00:00, 10.37it/s]"
          ]
        },
        {
          "output_type": "stream",
          "name": "stdout",
          "text": [
            "                   all         33          8      0.608      0.375      0.218      0.216\n"
          ]
        },
        {
          "output_type": "stream",
          "name": "stderr",
          "text": [
            "\n"
          ]
        },
        {
          "output_type": "stream",
          "name": "stdout",
          "text": [
            "\n",
            "      Epoch    GPU_mem   box_loss   cls_loss   dfl_loss  Instances       Size\n"
          ]
        },
        {
          "output_type": "stream",
          "name": "stderr",
          "text": [
            "     88/300      16.6G     0.6643      1.073      2.153         25        800: 100%|██████████| 9/9 [00:02<00:00,  3.99it/s]\n",
            "                 Class     Images  Instances      Box(P          R      mAP50  mAP50-95): 100%|██████████| 3/3 [00:00<00:00,  9.86it/s]"
          ]
        },
        {
          "output_type": "stream",
          "name": "stdout",
          "text": [
            "                   all         33          8     0.0816      0.949      0.241      0.238\n"
          ]
        },
        {
          "output_type": "stream",
          "name": "stderr",
          "text": [
            "\n"
          ]
        },
        {
          "output_type": "stream",
          "name": "stdout",
          "text": [
            "\n",
            "      Epoch    GPU_mem   box_loss   cls_loss   dfl_loss  Instances       Size\n"
          ]
        },
        {
          "output_type": "stream",
          "name": "stderr",
          "text": [
            "     89/300      16.5G     0.6283      1.041      2.197          8        800: 100%|██████████| 9/9 [00:02<00:00,  4.01it/s]\n",
            "                 Class     Images  Instances      Box(P          R      mAP50  mAP50-95): 100%|██████████| 3/3 [00:00<00:00,  9.80it/s]"
          ]
        },
        {
          "output_type": "stream",
          "name": "stdout",
          "text": [
            "                   all         33          8     0.0924      0.375      0.212      0.195\n"
          ]
        },
        {
          "output_type": "stream",
          "name": "stderr",
          "text": [
            "\n"
          ]
        },
        {
          "output_type": "stream",
          "name": "stdout",
          "text": [
            "\n",
            "      Epoch    GPU_mem   box_loss   cls_loss   dfl_loss  Instances       Size\n"
          ]
        },
        {
          "output_type": "stream",
          "name": "stderr",
          "text": [
            "     90/300      16.5G     0.6146     0.9866       2.13         10        800: 100%|██████████| 9/9 [00:02<00:00,  4.05it/s]\n",
            "                 Class     Images  Instances      Box(P          R      mAP50  mAP50-95): 100%|██████████| 3/3 [00:00<00:00,  9.14it/s]"
          ]
        },
        {
          "output_type": "stream",
          "name": "stdout",
          "text": [
            "                   all         33          8      0.401      0.244      0.174      0.171\n"
          ]
        },
        {
          "output_type": "stream",
          "name": "stderr",
          "text": [
            "\n"
          ]
        },
        {
          "output_type": "stream",
          "name": "stdout",
          "text": [
            "\n",
            "      Epoch    GPU_mem   box_loss   cls_loss   dfl_loss  Instances       Size\n"
          ]
        },
        {
          "output_type": "stream",
          "name": "stderr",
          "text": [
            "     91/300      16.6G     0.6459      1.117      2.259          5        800: 100%|██████████| 9/9 [00:02<00:00,  4.06it/s]\n",
            "                 Class     Images  Instances      Box(P          R      mAP50  mAP50-95): 100%|██████████| 3/3 [00:00<00:00,  9.54it/s]"
          ]
        },
        {
          "output_type": "stream",
          "name": "stdout",
          "text": [
            "                   all         33          8       0.34       0.25      0.255      0.236\n"
          ]
        },
        {
          "output_type": "stream",
          "name": "stderr",
          "text": [
            "\n"
          ]
        },
        {
          "output_type": "stream",
          "name": "stdout",
          "text": [
            "\n",
            "      Epoch    GPU_mem   box_loss   cls_loss   dfl_loss  Instances       Size\n"
          ]
        },
        {
          "output_type": "stream",
          "name": "stderr",
          "text": [
            "     92/300      16.6G      0.705      1.025      2.372          8        800: 100%|██████████| 9/9 [00:02<00:00,  3.98it/s]\n",
            "                 Class     Images  Instances      Box(P          R      mAP50  mAP50-95): 100%|██████████| 3/3 [00:00<00:00,  8.51it/s]"
          ]
        },
        {
          "output_type": "stream",
          "name": "stdout",
          "text": [
            "                   all         33          8      0.123        0.5      0.184      0.173\n"
          ]
        },
        {
          "output_type": "stream",
          "name": "stderr",
          "text": [
            "\n"
          ]
        },
        {
          "output_type": "stream",
          "name": "stdout",
          "text": [
            "\n",
            "      Epoch    GPU_mem   box_loss   cls_loss   dfl_loss  Instances       Size\n"
          ]
        },
        {
          "output_type": "stream",
          "name": "stderr",
          "text": [
            "     93/300        17G     0.6529      1.019      2.212          9        800: 100%|██████████| 9/9 [00:02<00:00,  4.02it/s]\n",
            "                 Class     Images  Instances      Box(P          R      mAP50  mAP50-95): 100%|██████████| 3/3 [00:00<00:00,  9.62it/s]"
          ]
        },
        {
          "output_type": "stream",
          "name": "stdout",
          "text": [
            "                   all         33          8      0.132      0.375       0.25      0.233\n"
          ]
        },
        {
          "output_type": "stream",
          "name": "stderr",
          "text": [
            "\n"
          ]
        },
        {
          "output_type": "stream",
          "name": "stdout",
          "text": [
            "\n",
            "      Epoch    GPU_mem   box_loss   cls_loss   dfl_loss  Instances       Size\n"
          ]
        },
        {
          "output_type": "stream",
          "name": "stderr",
          "text": [
            "     94/300        17G     0.6402     0.9984      2.209         20        800: 100%|██████████| 9/9 [00:02<00:00,  3.97it/s]\n",
            "                 Class     Images  Instances      Box(P          R      mAP50  mAP50-95): 100%|██████████| 3/3 [00:00<00:00,  9.81it/s]"
          ]
        },
        {
          "output_type": "stream",
          "name": "stdout",
          "text": [
            "                   all         33          8     0.0554          1        0.1     0.0959\n"
          ]
        },
        {
          "output_type": "stream",
          "name": "stderr",
          "text": [
            "\n"
          ]
        },
        {
          "output_type": "stream",
          "name": "stdout",
          "text": [
            "\n",
            "      Epoch    GPU_mem   box_loss   cls_loss   dfl_loss  Instances       Size\n"
          ]
        },
        {
          "output_type": "stream",
          "name": "stderr",
          "text": [
            "     95/300      16.6G     0.6525      1.039      2.111         12        800: 100%|██████████| 9/9 [00:02<00:00,  4.01it/s]\n",
            "                 Class     Images  Instances      Box(P          R      mAP50  mAP50-95): 100%|██████████| 3/3 [00:00<00:00,  9.90it/s]"
          ]
        },
        {
          "output_type": "stream",
          "name": "stdout",
          "text": [
            "                   all         33          8     0.0647       0.75      0.116      0.105\n"
          ]
        },
        {
          "output_type": "stream",
          "name": "stderr",
          "text": [
            "\n"
          ]
        },
        {
          "output_type": "stream",
          "name": "stdout",
          "text": [
            "\n",
            "      Epoch    GPU_mem   box_loss   cls_loss   dfl_loss  Instances       Size\n"
          ]
        },
        {
          "output_type": "stream",
          "name": "stderr",
          "text": [
            "     96/300      16.6G     0.6564      1.122      2.235          8        800: 100%|██████████| 9/9 [00:02<00:00,  4.03it/s]\n",
            "                 Class     Images  Instances      Box(P          R      mAP50  mAP50-95): 100%|██████████| 3/3 [00:00<00:00, 10.13it/s]"
          ]
        },
        {
          "output_type": "stream",
          "name": "stdout",
          "text": [
            "                   all         33          8     0.0888       0.75      0.334      0.329\n"
          ]
        },
        {
          "output_type": "stream",
          "name": "stderr",
          "text": [
            "\n"
          ]
        },
        {
          "output_type": "stream",
          "name": "stdout",
          "text": [
            "\n",
            "      Epoch    GPU_mem   box_loss   cls_loss   dfl_loss  Instances       Size\n"
          ]
        },
        {
          "output_type": "stream",
          "name": "stderr",
          "text": [
            "     97/300      16.5G      0.641       1.01      2.161          5        800: 100%|██████████| 9/9 [00:02<00:00,  4.01it/s]\n",
            "                 Class     Images  Instances      Box(P          R      mAP50  mAP50-95): 100%|██████████| 3/3 [00:00<00:00,  8.58it/s]"
          ]
        },
        {
          "output_type": "stream",
          "name": "stdout",
          "text": [
            "                   all         33          8      0.114      0.706      0.178      0.172\n"
          ]
        },
        {
          "output_type": "stream",
          "name": "stderr",
          "text": [
            "\n"
          ]
        },
        {
          "output_type": "stream",
          "name": "stdout",
          "text": [
            "\n",
            "      Epoch    GPU_mem   box_loss   cls_loss   dfl_loss  Instances       Size\n"
          ]
        },
        {
          "output_type": "stream",
          "name": "stderr",
          "text": [
            "     98/300      16.5G     0.6727     0.9844       2.27          8        800: 100%|██████████| 9/9 [00:02<00:00,  4.08it/s]\n",
            "                 Class     Images  Instances      Box(P          R      mAP50  mAP50-95): 100%|██████████| 3/3 [00:00<00:00,  9.87it/s]"
          ]
        },
        {
          "output_type": "stream",
          "name": "stdout",
          "text": [
            "                   all         33          8      0.117      0.375      0.225      0.221\n"
          ]
        },
        {
          "output_type": "stream",
          "name": "stderr",
          "text": [
            "\n"
          ]
        },
        {
          "output_type": "stream",
          "name": "stdout",
          "text": [
            "\n",
            "      Epoch    GPU_mem   box_loss   cls_loss   dfl_loss  Instances       Size\n"
          ]
        },
        {
          "output_type": "stream",
          "name": "stderr",
          "text": [
            "     99/300      16.6G      0.621     0.9326      2.353         12        800: 100%|██████████| 9/9 [00:02<00:00,  4.03it/s]\n",
            "                 Class     Images  Instances      Box(P          R      mAP50  mAP50-95): 100%|██████████| 3/3 [00:00<00:00,  9.60it/s]"
          ]
        },
        {
          "output_type": "stream",
          "name": "stdout",
          "text": [
            "                   all         33          8     0.0936        0.5      0.147      0.143\n"
          ]
        },
        {
          "output_type": "stream",
          "name": "stderr",
          "text": [
            "\n"
          ]
        },
        {
          "output_type": "stream",
          "name": "stdout",
          "text": [
            "\n",
            "      Epoch    GPU_mem   box_loss   cls_loss   dfl_loss  Instances       Size\n"
          ]
        },
        {
          "output_type": "stream",
          "name": "stderr",
          "text": [
            "    100/300      16.6G     0.6742      1.013      2.257          8        800: 100%|██████████| 9/9 [00:02<00:00,  3.86it/s]\n",
            "                 Class     Images  Instances      Box(P          R      mAP50  mAP50-95): 100%|██████████| 3/3 [00:00<00:00,  8.17it/s]"
          ]
        },
        {
          "output_type": "stream",
          "name": "stdout",
          "text": [
            "                   all         33          8       0.11       0.75      0.198      0.178\n"
          ]
        },
        {
          "output_type": "stream",
          "name": "stderr",
          "text": [
            "\n"
          ]
        },
        {
          "output_type": "stream",
          "name": "stdout",
          "text": [
            "\n",
            "      Epoch    GPU_mem   box_loss   cls_loss   dfl_loss  Instances       Size\n"
          ]
        },
        {
          "output_type": "stream",
          "name": "stderr",
          "text": [
            "    101/300      16.5G     0.7083      1.002      2.218         10        800: 100%|██████████| 9/9 [00:02<00:00,  4.06it/s]\n",
            "                 Class     Images  Instances      Box(P          R      mAP50  mAP50-95): 100%|██████████| 3/3 [00:00<00:00,  9.23it/s]"
          ]
        },
        {
          "output_type": "stream",
          "name": "stdout",
          "text": [
            "                   all         33          8       0.13      0.516      0.363      0.327\n"
          ]
        },
        {
          "output_type": "stream",
          "name": "stderr",
          "text": [
            "\n"
          ]
        },
        {
          "output_type": "stream",
          "name": "stdout",
          "text": [
            "\n",
            "      Epoch    GPU_mem   box_loss   cls_loss   dfl_loss  Instances       Size\n"
          ]
        },
        {
          "output_type": "stream",
          "name": "stderr",
          "text": [
            "    102/300      16.5G     0.6632      0.951      2.246          8        800: 100%|██████████| 9/9 [00:02<00:00,  4.03it/s]\n",
            "                 Class     Images  Instances      Box(P          R      mAP50  mAP50-95): 100%|██████████| 3/3 [00:00<00:00,  9.97it/s]"
          ]
        },
        {
          "output_type": "stream",
          "name": "stdout",
          "text": [
            "                   all         33          8        0.4       0.25       0.36      0.356\n"
          ]
        },
        {
          "output_type": "stream",
          "name": "stderr",
          "text": [
            "\n"
          ]
        },
        {
          "output_type": "stream",
          "name": "stdout",
          "text": [
            "\n",
            "      Epoch    GPU_mem   box_loss   cls_loss   dfl_loss  Instances       Size\n"
          ]
        },
        {
          "output_type": "stream",
          "name": "stderr",
          "text": [
            "    103/300      16.6G      0.659     0.9463      2.365         10        800: 100%|██████████| 9/9 [00:02<00:00,  4.00it/s]\n",
            "                 Class     Images  Instances      Box(P          R      mAP50  mAP50-95): 100%|██████████| 3/3 [00:00<00:00,  9.52it/s]"
          ]
        },
        {
          "output_type": "stream",
          "name": "stdout",
          "text": [
            "                   all         33          8      0.109          1      0.356      0.336\n"
          ]
        },
        {
          "output_type": "stream",
          "name": "stderr",
          "text": [
            "\n"
          ]
        },
        {
          "output_type": "stream",
          "name": "stdout",
          "text": [
            "\n",
            "      Epoch    GPU_mem   box_loss   cls_loss   dfl_loss  Instances       Size\n"
          ]
        },
        {
          "output_type": "stream",
          "name": "stderr",
          "text": [
            "    104/300      16.6G      0.673      1.223      2.304          3        800: 100%|██████████| 9/9 [00:02<00:00,  4.03it/s]\n",
            "                 Class     Images  Instances      Box(P          R      mAP50  mAP50-95): 100%|██████████| 3/3 [00:00<00:00,  9.82it/s]"
          ]
        },
        {
          "output_type": "stream",
          "name": "stdout",
          "text": [
            "                   all         33          8      0.556      0.375      0.212      0.201\n"
          ]
        },
        {
          "output_type": "stream",
          "name": "stderr",
          "text": [
            "\n"
          ]
        },
        {
          "output_type": "stream",
          "name": "stdout",
          "text": [
            "\n",
            "      Epoch    GPU_mem   box_loss   cls_loss   dfl_loss  Instances       Size\n"
          ]
        },
        {
          "output_type": "stream",
          "name": "stderr",
          "text": [
            "    105/300      16.5G     0.5774     0.9559      2.407          8        800: 100%|██████████| 9/9 [00:02<00:00,  4.04it/s]\n",
            "                 Class     Images  Instances      Box(P          R      mAP50  mAP50-95): 100%|██████████| 3/3 [00:00<00:00,  9.27it/s]"
          ]
        },
        {
          "output_type": "stream",
          "name": "stdout",
          "text": [
            "                   all         33          8       0.11       0.75      0.287      0.283\n"
          ]
        },
        {
          "output_type": "stream",
          "name": "stderr",
          "text": [
            "\n"
          ]
        },
        {
          "output_type": "stream",
          "name": "stdout",
          "text": [
            "\n",
            "      Epoch    GPU_mem   box_loss   cls_loss   dfl_loss  Instances       Size\n"
          ]
        },
        {
          "output_type": "stream",
          "name": "stderr",
          "text": [
            "    106/300      16.6G     0.6376     0.9651      2.174         15        800: 100%|██████████| 9/9 [00:02<00:00,  4.01it/s]\n",
            "                 Class     Images  Instances      Box(P          R      mAP50  mAP50-95): 100%|██████████| 3/3 [00:00<00:00,  9.38it/s]"
          ]
        },
        {
          "output_type": "stream",
          "name": "stdout",
          "text": [
            "                   all         33          8      0.189      0.687      0.366      0.366\n"
          ]
        },
        {
          "output_type": "stream",
          "name": "stderr",
          "text": [
            "\n"
          ]
        },
        {
          "output_type": "stream",
          "name": "stdout",
          "text": [
            "\n",
            "      Epoch    GPU_mem   box_loss   cls_loss   dfl_loss  Instances       Size\n"
          ]
        },
        {
          "output_type": "stream",
          "name": "stderr",
          "text": [
            "    107/300      16.6G     0.5877     0.8814      2.093         12        800: 100%|██████████| 9/9 [00:02<00:00,  4.07it/s]\n",
            "                 Class     Images  Instances      Box(P          R      mAP50  mAP50-95): 100%|██████████| 3/3 [00:00<00:00, 10.15it/s]"
          ]
        },
        {
          "output_type": "stream",
          "name": "stdout",
          "text": [
            "                   all         33          8      0.141      0.776       0.32      0.317\n"
          ]
        },
        {
          "output_type": "stream",
          "name": "stderr",
          "text": [
            "\n"
          ]
        },
        {
          "output_type": "stream",
          "name": "stdout",
          "text": [
            "\n",
            "      Epoch    GPU_mem   box_loss   cls_loss   dfl_loss  Instances       Size\n"
          ]
        },
        {
          "output_type": "stream",
          "name": "stderr",
          "text": [
            "    108/300      16.6G      0.595      0.841       2.15         12        800: 100%|██████████| 9/9 [00:02<00:00,  3.86it/s]\n",
            "                 Class     Images  Instances      Box(P          R      mAP50  mAP50-95): 100%|██████████| 3/3 [00:00<00:00,  9.24it/s]"
          ]
        },
        {
          "output_type": "stream",
          "name": "stdout",
          "text": [
            "                   all         33          8     0.0803      0.749       0.13      0.125\n"
          ]
        },
        {
          "output_type": "stream",
          "name": "stderr",
          "text": [
            "\n"
          ]
        },
        {
          "output_type": "stream",
          "name": "stdout",
          "text": [
            "\n",
            "      Epoch    GPU_mem   box_loss   cls_loss   dfl_loss  Instances       Size\n"
          ]
        },
        {
          "output_type": "stream",
          "name": "stderr",
          "text": [
            "    109/300      16.5G     0.5965     0.8997      2.179         12        800: 100%|██████████| 9/9 [00:02<00:00,  4.07it/s]\n",
            "                 Class     Images  Instances      Box(P          R      mAP50  mAP50-95): 100%|██████████| 3/3 [00:00<00:00,  9.35it/s]"
          ]
        },
        {
          "output_type": "stream",
          "name": "stdout",
          "text": [
            "                   all         33          8      0.296      0.375     0.0918     0.0907\n"
          ]
        },
        {
          "output_type": "stream",
          "name": "stderr",
          "text": [
            "\n"
          ]
        },
        {
          "output_type": "stream",
          "name": "stdout",
          "text": [
            "\n",
            "      Epoch    GPU_mem   box_loss   cls_loss   dfl_loss  Instances       Size\n"
          ]
        },
        {
          "output_type": "stream",
          "name": "stderr",
          "text": [
            "    110/300      16.5G     0.5474     0.8785      2.139         12        800: 100%|██████████| 9/9 [00:02<00:00,  4.03it/s]\n",
            "                 Class     Images  Instances      Box(P          R      mAP50  mAP50-95): 100%|██████████| 3/3 [00:00<00:00,  9.80it/s]"
          ]
        },
        {
          "output_type": "stream",
          "name": "stdout",
          "text": [
            "                   all         33          8     0.0579       0.75       0.14      0.136\n"
          ]
        },
        {
          "output_type": "stream",
          "name": "stderr",
          "text": [
            "\n"
          ]
        },
        {
          "output_type": "stream",
          "name": "stdout",
          "text": [
            "\n",
            "      Epoch    GPU_mem   box_loss   cls_loss   dfl_loss  Instances       Size\n"
          ]
        },
        {
          "output_type": "stream",
          "name": "stderr",
          "text": [
            "    111/300      16.6G     0.6618     0.9592      2.143          8        800: 100%|██████████| 9/9 [00:02<00:00,  3.98it/s]\n",
            "                 Class     Images  Instances      Box(P          R      mAP50  mAP50-95): 100%|██████████| 3/3 [00:00<00:00,  9.30it/s]"
          ]
        },
        {
          "output_type": "stream",
          "name": "stdout",
          "text": [
            "                   all         33          8      0.058      0.875      0.111      0.107\n"
          ]
        },
        {
          "output_type": "stream",
          "name": "stderr",
          "text": [
            "\n"
          ]
        },
        {
          "output_type": "stream",
          "name": "stdout",
          "text": [
            "\n",
            "      Epoch    GPU_mem   box_loss   cls_loss   dfl_loss  Instances       Size\n"
          ]
        },
        {
          "output_type": "stream",
          "name": "stderr",
          "text": [
            "    112/300      16.6G     0.6091     0.9664      2.206         11        800: 100%|██████████| 9/9 [00:02<00:00,  3.99it/s]\n",
            "                 Class     Images  Instances      Box(P          R      mAP50  mAP50-95): 100%|██████████| 3/3 [00:00<00:00, 10.55it/s]"
          ]
        },
        {
          "output_type": "stream",
          "name": "stdout",
          "text": [
            "                   all         33          8      0.372      0.375      0.287      0.283\n"
          ]
        },
        {
          "output_type": "stream",
          "name": "stderr",
          "text": [
            "\n"
          ]
        },
        {
          "output_type": "stream",
          "name": "stdout",
          "text": [
            "\n",
            "      Epoch    GPU_mem   box_loss   cls_loss   dfl_loss  Instances       Size\n"
          ]
        },
        {
          "output_type": "stream",
          "name": "stderr",
          "text": [
            "    113/300      16.5G     0.5637     0.9662      2.104          4        800: 100%|██████████| 9/9 [00:02<00:00,  4.03it/s]\n",
            "                 Class     Images  Instances      Box(P          R      mAP50  mAP50-95): 100%|██████████| 3/3 [00:00<00:00, 10.34it/s]"
          ]
        },
        {
          "output_type": "stream",
          "name": "stdout",
          "text": [
            "                   all         33          8     0.0898      0.625      0.175      0.174\n"
          ]
        },
        {
          "output_type": "stream",
          "name": "stderr",
          "text": [
            "\n"
          ]
        },
        {
          "output_type": "stream",
          "name": "stdout",
          "text": [
            "\n",
            "      Epoch    GPU_mem   box_loss   cls_loss   dfl_loss  Instances       Size\n"
          ]
        },
        {
          "output_type": "stream",
          "name": "stderr",
          "text": [
            "    114/300      16.6G     0.5978     0.8982      2.212          4        800: 100%|██████████| 9/9 [00:02<00:00,  3.97it/s]\n",
            "                 Class     Images  Instances      Box(P          R      mAP50  mAP50-95): 100%|██████████| 3/3 [00:00<00:00,  9.56it/s]"
          ]
        },
        {
          "output_type": "stream",
          "name": "stdout",
          "text": [
            "                   all         33          8      0.365      0.625      0.159      0.157\n"
          ]
        },
        {
          "output_type": "stream",
          "name": "stderr",
          "text": [
            "\n"
          ]
        },
        {
          "output_type": "stream",
          "name": "stdout",
          "text": [
            "\n",
            "      Epoch    GPU_mem   box_loss   cls_loss   dfl_loss  Instances       Size\n"
          ]
        },
        {
          "output_type": "stream",
          "name": "stderr",
          "text": [
            "    115/300      16.6G     0.6179     0.8732      2.215          8        800: 100%|██████████| 9/9 [00:02<00:00,  4.03it/s]\n",
            "                 Class     Images  Instances      Box(P          R      mAP50  mAP50-95): 100%|██████████| 3/3 [00:00<00:00, 10.11it/s]"
          ]
        },
        {
          "output_type": "stream",
          "name": "stdout",
          "text": [
            "                   all         33          8       0.38      0.625      0.148      0.148\n"
          ]
        },
        {
          "output_type": "stream",
          "name": "stderr",
          "text": [
            "\n"
          ]
        },
        {
          "output_type": "stream",
          "name": "stdout",
          "text": [
            "\n",
            "      Epoch    GPU_mem   box_loss   cls_loss   dfl_loss  Instances       Size\n"
          ]
        },
        {
          "output_type": "stream",
          "name": "stderr",
          "text": [
            "    116/300      16.6G     0.5747     0.9158      2.144          4        800: 100%|██████████| 9/9 [00:02<00:00,  3.96it/s]\n",
            "                 Class     Images  Instances      Box(P          R      mAP50  mAP50-95): 100%|██████████| 3/3 [00:00<00:00,  9.48it/s]"
          ]
        },
        {
          "output_type": "stream",
          "name": "stdout",
          "text": [
            "                   all         33          8     0.0817          1      0.138      0.135\n"
          ]
        },
        {
          "output_type": "stream",
          "name": "stderr",
          "text": [
            "\n"
          ]
        },
        {
          "output_type": "stream",
          "name": "stdout",
          "text": [
            "\n",
            "      Epoch    GPU_mem   box_loss   cls_loss   dfl_loss  Instances       Size\n"
          ]
        },
        {
          "output_type": "stream",
          "name": "stderr",
          "text": [
            "    117/300      16.5G     0.6413     0.8536      2.209          8        800: 100%|██████████| 9/9 [00:02<00:00,  4.02it/s]\n",
            "                 Class     Images  Instances      Box(P          R      mAP50  mAP50-95): 100%|██████████| 3/3 [00:00<00:00,  9.57it/s]"
          ]
        },
        {
          "output_type": "stream",
          "name": "stdout",
          "text": [
            "                   all         33          8      0.395      0.375      0.217      0.217\n"
          ]
        },
        {
          "output_type": "stream",
          "name": "stderr",
          "text": [
            "\n"
          ]
        },
        {
          "output_type": "stream",
          "name": "stdout",
          "text": [
            "\n",
            "      Epoch    GPU_mem   box_loss   cls_loss   dfl_loss  Instances       Size\n"
          ]
        },
        {
          "output_type": "stream",
          "name": "stderr",
          "text": [
            "    118/300      16.6G     0.6312     0.9257       2.11         17        800: 100%|██████████| 9/9 [00:02<00:00,  4.00it/s]\n",
            "                 Class     Images  Instances      Box(P          R      mAP50  mAP50-95): 100%|██████████| 3/3 [00:00<00:00, 10.12it/s]"
          ]
        },
        {
          "output_type": "stream",
          "name": "stdout",
          "text": [
            "                   all         33          8     0.0893          1      0.194       0.19\n"
          ]
        },
        {
          "output_type": "stream",
          "name": "stderr",
          "text": [
            "\n"
          ]
        },
        {
          "output_type": "stream",
          "name": "stdout",
          "text": [
            "\n",
            "      Epoch    GPU_mem   box_loss   cls_loss   dfl_loss  Instances       Size\n"
          ]
        },
        {
          "output_type": "stream",
          "name": "stderr",
          "text": [
            "    119/300      16.6G     0.5669     0.8491      2.303         12        800: 100%|██████████| 9/9 [00:02<00:00,  4.01it/s]\n",
            "                 Class     Images  Instances      Box(P          R      mAP50  mAP50-95): 100%|██████████| 3/3 [00:00<00:00,  9.34it/s]"
          ]
        },
        {
          "output_type": "stream",
          "name": "stdout",
          "text": [
            "                   all         33          8     0.0986      0.959      0.207      0.207\n"
          ]
        },
        {
          "output_type": "stream",
          "name": "stderr",
          "text": [
            "\n"
          ]
        },
        {
          "output_type": "stream",
          "name": "stdout",
          "text": [
            "\n",
            "      Epoch    GPU_mem   box_loss   cls_loss   dfl_loss  Instances       Size\n"
          ]
        },
        {
          "output_type": "stream",
          "name": "stderr",
          "text": [
            "    120/300      16.6G     0.6066     0.8687      2.112          9        800: 100%|██████████| 9/9 [00:02<00:00,  3.97it/s]\n",
            "                 Class     Images  Instances      Box(P          R      mAP50  mAP50-95): 100%|██████████| 3/3 [00:00<00:00,  9.35it/s]"
          ]
        },
        {
          "output_type": "stream",
          "name": "stdout",
          "text": [
            "                   all         33          8      0.352      0.683      0.404      0.394\n"
          ]
        },
        {
          "output_type": "stream",
          "name": "stderr",
          "text": [
            "\n"
          ]
        },
        {
          "output_type": "stream",
          "name": "stdout",
          "text": [
            "\n",
            "      Epoch    GPU_mem   box_loss   cls_loss   dfl_loss  Instances       Size\n"
          ]
        },
        {
          "output_type": "stream",
          "name": "stderr",
          "text": [
            "    121/300      16.5G      0.565     0.9355      2.172         20        800: 100%|██████████| 9/9 [00:02<00:00,  4.09it/s]\n",
            "                 Class     Images  Instances      Box(P          R      mAP50  mAP50-95): 100%|██████████| 3/3 [00:00<00:00, 10.06it/s]"
          ]
        },
        {
          "output_type": "stream",
          "name": "stdout",
          "text": [
            "                   all         33          8      0.121      0.625      0.332      0.332\n"
          ]
        },
        {
          "output_type": "stream",
          "name": "stderr",
          "text": [
            "\n"
          ]
        },
        {
          "output_type": "stream",
          "name": "stdout",
          "text": [
            "\n",
            "      Epoch    GPU_mem   box_loss   cls_loss   dfl_loss  Instances       Size\n"
          ]
        },
        {
          "output_type": "stream",
          "name": "stderr",
          "text": [
            "    122/300      16.5G     0.6196     0.9053      2.218          8        800: 100%|██████████| 9/9 [00:02<00:00,  4.09it/s]\n",
            "                 Class     Images  Instances      Box(P          R      mAP50  mAP50-95): 100%|██████████| 3/3 [00:00<00:00,  9.43it/s]"
          ]
        },
        {
          "output_type": "stream",
          "name": "stdout",
          "text": [
            "                   all         33          8       0.35       0.75      0.292       0.29\n"
          ]
        },
        {
          "output_type": "stream",
          "name": "stderr",
          "text": [
            "\n"
          ]
        },
        {
          "output_type": "stream",
          "name": "stdout",
          "text": [
            "\n",
            "      Epoch    GPU_mem   box_loss   cls_loss   dfl_loss  Instances       Size\n"
          ]
        },
        {
          "output_type": "stream",
          "name": "stderr",
          "text": [
            "    123/300      16.6G     0.6174     0.9309      2.252          9        800: 100%|██████████| 9/9 [00:02<00:00,  4.05it/s]\n",
            "                 Class     Images  Instances      Box(P          R      mAP50  mAP50-95): 100%|██████████| 3/3 [00:00<00:00,  9.68it/s]"
          ]
        },
        {
          "output_type": "stream",
          "name": "stdout",
          "text": [
            "                   all         33          8     0.0763          1      0.236      0.229\n"
          ]
        },
        {
          "output_type": "stream",
          "name": "stderr",
          "text": [
            "\n"
          ]
        },
        {
          "output_type": "stream",
          "name": "stdout",
          "text": [
            "\n",
            "      Epoch    GPU_mem   box_loss   cls_loss   dfl_loss  Instances       Size\n"
          ]
        },
        {
          "output_type": "stream",
          "name": "stderr",
          "text": [
            "    124/300      16.6G     0.5472      0.894      2.148          8        800: 100%|██████████| 9/9 [00:02<00:00,  3.87it/s]\n",
            "                 Class     Images  Instances      Box(P          R      mAP50  mAP50-95): 100%|██████████| 3/3 [00:00<00:00,  9.61it/s]"
          ]
        },
        {
          "output_type": "stream",
          "name": "stdout",
          "text": [
            "                   all         33          8     0.0961      0.875      0.277      0.274\n"
          ]
        },
        {
          "output_type": "stream",
          "name": "stderr",
          "text": [
            "\n"
          ]
        },
        {
          "output_type": "stream",
          "name": "stdout",
          "text": [
            "\n",
            "      Epoch    GPU_mem   box_loss   cls_loss   dfl_loss  Instances       Size\n"
          ]
        },
        {
          "output_type": "stream",
          "name": "stderr",
          "text": [
            "    125/300      16.5G     0.5294      3.611      1.944          0        800: 100%|██████████| 9/9 [00:02<00:00,  4.06it/s]\n",
            "                 Class     Images  Instances      Box(P          R      mAP50  mAP50-95): 100%|██████████| 3/3 [00:00<00:00,  9.61it/s]"
          ]
        },
        {
          "output_type": "stream",
          "name": "stdout",
          "text": [
            "                   all         33          8      0.105      0.875       0.21       0.21\n"
          ]
        },
        {
          "output_type": "stream",
          "name": "stderr",
          "text": [
            "\n"
          ]
        },
        {
          "output_type": "stream",
          "name": "stdout",
          "text": [
            "\n",
            "      Epoch    GPU_mem   box_loss   cls_loss   dfl_loss  Instances       Size\n"
          ]
        },
        {
          "output_type": "stream",
          "name": "stderr",
          "text": [
            "    126/300      16.5G     0.6276     0.9082        2.3          7        800: 100%|██████████| 9/9 [00:02<00:00,  4.03it/s]\n",
            "                 Class     Images  Instances      Box(P          R      mAP50  mAP50-95): 100%|██████████| 3/3 [00:00<00:00, 10.00it/s]"
          ]
        },
        {
          "output_type": "stream",
          "name": "stdout",
          "text": [
            "                   all         33          8      0.328       0.75      0.175      0.168\n"
          ]
        },
        {
          "output_type": "stream",
          "name": "stderr",
          "text": [
            "\n"
          ]
        },
        {
          "output_type": "stream",
          "name": "stdout",
          "text": [
            "\n",
            "      Epoch    GPU_mem   box_loss   cls_loss   dfl_loss  Instances       Size\n"
          ]
        },
        {
          "output_type": "stream",
          "name": "stderr",
          "text": [
            "    127/300      16.6G     0.5176     0.9385      2.169          4        800: 100%|██████████| 9/9 [00:02<00:00,  3.96it/s]\n",
            "                 Class     Images  Instances      Box(P          R      mAP50  mAP50-95): 100%|██████████| 3/3 [00:00<00:00, 10.09it/s]"
          ]
        },
        {
          "output_type": "stream",
          "name": "stdout",
          "text": [
            "                   all         33          8     0.0843          1      0.147      0.137\n"
          ]
        },
        {
          "output_type": "stream",
          "name": "stderr",
          "text": [
            "\n"
          ]
        },
        {
          "output_type": "stream",
          "name": "stdout",
          "text": [
            "\n",
            "      Epoch    GPU_mem   box_loss   cls_loss   dfl_loss  Instances       Size\n"
          ]
        },
        {
          "output_type": "stream",
          "name": "stderr",
          "text": [
            "    128/300      16.6G     0.5641      1.002      2.212         14        800: 100%|██████████| 9/9 [00:02<00:00,  3.89it/s]\n",
            "                 Class     Images  Instances      Box(P          R      mAP50  mAP50-95): 100%|██████████| 3/3 [00:00<00:00,  8.24it/s]"
          ]
        },
        {
          "output_type": "stream",
          "name": "stdout",
          "text": [
            "                   all         33          8     0.0572      0.875      0.114       0.11\n"
          ]
        },
        {
          "output_type": "stream",
          "name": "stderr",
          "text": [
            "\n"
          ]
        },
        {
          "output_type": "stream",
          "name": "stdout",
          "text": [
            "\n",
            "      Epoch    GPU_mem   box_loss   cls_loss   dfl_loss  Instances       Size\n"
          ]
        },
        {
          "output_type": "stream",
          "name": "stderr",
          "text": [
            "    129/300      16.5G     0.5822     0.9293      2.329          4        800: 100%|██████████| 9/9 [00:02<00:00,  4.04it/s]\n",
            "                 Class     Images  Instances      Box(P          R      mAP50  mAP50-95): 100%|██████████| 3/3 [00:00<00:00,  8.72it/s]"
          ]
        },
        {
          "output_type": "stream",
          "name": "stdout",
          "text": [
            "                   all         33          8      0.092       0.75      0.155      0.149\n"
          ]
        },
        {
          "output_type": "stream",
          "name": "stderr",
          "text": [
            "\n"
          ]
        },
        {
          "output_type": "stream",
          "name": "stdout",
          "text": [
            "\n",
            "      Epoch    GPU_mem   box_loss   cls_loss   dfl_loss  Instances       Size\n"
          ]
        },
        {
          "output_type": "stream",
          "name": "stderr",
          "text": [
            "    130/300      16.5G     0.5267     0.9513      2.183          4        800: 100%|██████████| 9/9 [00:02<00:00,  3.97it/s]\n",
            "                 Class     Images  Instances      Box(P          R      mAP50  mAP50-95): 100%|██████████| 3/3 [00:00<00:00,  8.37it/s]"
          ]
        },
        {
          "output_type": "stream",
          "name": "stdout",
          "text": [
            "                   all         33          8     0.0642      0.625       0.16      0.154\n"
          ]
        },
        {
          "output_type": "stream",
          "name": "stderr",
          "text": [
            "\n"
          ]
        },
        {
          "output_type": "stream",
          "name": "stdout",
          "text": [
            "\n",
            "      Epoch    GPU_mem   box_loss   cls_loss   dfl_loss  Instances       Size\n"
          ]
        },
        {
          "output_type": "stream",
          "name": "stderr",
          "text": [
            "    131/300      16.6G     0.5335     0.8186      2.192         10        800: 100%|██████████| 9/9 [00:02<00:00,  4.10it/s]\n",
            "                 Class     Images  Instances      Box(P          R      mAP50  mAP50-95): 100%|██████████| 3/3 [00:00<00:00,  9.57it/s]"
          ]
        },
        {
          "output_type": "stream",
          "name": "stdout",
          "text": [
            "                   all         33          8     0.0756          1      0.119      0.119\n"
          ]
        },
        {
          "output_type": "stream",
          "name": "stderr",
          "text": [
            "\n"
          ]
        },
        {
          "output_type": "stream",
          "name": "stdout",
          "text": [
            "\n",
            "      Epoch    GPU_mem   box_loss   cls_loss   dfl_loss  Instances       Size\n"
          ]
        },
        {
          "output_type": "stream",
          "name": "stderr",
          "text": [
            "    132/300      16.6G     0.5663     0.8508      2.255          8        800: 100%|██████████| 9/9 [00:02<00:00,  3.99it/s]\n",
            "                 Class     Images  Instances      Box(P          R      mAP50  mAP50-95): 100%|██████████| 3/3 [00:00<00:00,  9.63it/s]"
          ]
        },
        {
          "output_type": "stream",
          "name": "stdout",
          "text": [
            "                   all         33          8     0.0828          1      0.158       0.15\n"
          ]
        },
        {
          "output_type": "stream",
          "name": "stderr",
          "text": [
            "\n"
          ]
        },
        {
          "output_type": "stream",
          "name": "stdout",
          "text": [
            "\n",
            "      Epoch    GPU_mem   box_loss   cls_loss   dfl_loss  Instances       Size\n"
          ]
        },
        {
          "output_type": "stream",
          "name": "stderr",
          "text": [
            "    133/300        17G     0.5116     0.7768      2.097         25        800: 100%|██████████| 9/9 [00:02<00:00,  4.05it/s]\n",
            "                 Class     Images  Instances      Box(P          R      mAP50  mAP50-95): 100%|██████████| 3/3 [00:00<00:00,  9.66it/s]"
          ]
        },
        {
          "output_type": "stream",
          "name": "stdout",
          "text": [
            "                   all         33          8      0.117      0.625      0.158      0.158\n"
          ]
        },
        {
          "output_type": "stream",
          "name": "stderr",
          "text": [
            "\n"
          ]
        },
        {
          "output_type": "stream",
          "name": "stdout",
          "text": [
            "\n",
            "      Epoch    GPU_mem   box_loss   cls_loss   dfl_loss  Instances       Size\n"
          ]
        },
        {
          "output_type": "stream",
          "name": "stderr",
          "text": [
            "    134/300      16.6G     0.5813     0.9027      2.265          7        800: 100%|██████████| 9/9 [00:02<00:00,  4.08it/s]\n",
            "                 Class     Images  Instances      Box(P          R      mAP50  mAP50-95): 100%|██████████| 3/3 [00:00<00:00,  9.22it/s]"
          ]
        },
        {
          "output_type": "stream",
          "name": "stdout",
          "text": [
            "                   all         33          8     0.0902       0.75      0.115      0.115\n"
          ]
        },
        {
          "output_type": "stream",
          "name": "stderr",
          "text": [
            "\n"
          ]
        },
        {
          "output_type": "stream",
          "name": "stdout",
          "text": [
            "\n",
            "      Epoch    GPU_mem   box_loss   cls_loss   dfl_loss  Instances       Size\n"
          ]
        },
        {
          "output_type": "stream",
          "name": "stderr",
          "text": [
            "    135/300      16.6G      0.625      0.958      2.314          4        800: 100%|██████████| 9/9 [00:02<00:00,  4.04it/s]\n",
            "                 Class     Images  Instances      Box(P          R      mAP50  mAP50-95): 100%|██████████| 3/3 [00:00<00:00, 10.27it/s]"
          ]
        },
        {
          "output_type": "stream",
          "name": "stdout",
          "text": [
            "                   all         33          8     0.0839          1      0.126      0.126\n"
          ]
        },
        {
          "output_type": "stream",
          "name": "stderr",
          "text": [
            "\n"
          ]
        },
        {
          "output_type": "stream",
          "name": "stdout",
          "text": [
            "\n",
            "      Epoch    GPU_mem   box_loss   cls_loss   dfl_loss  Instances       Size\n"
          ]
        },
        {
          "output_type": "stream",
          "name": "stderr",
          "text": [
            "    136/300      16.6G       1.03      3.635       2.54          1        800: 100%|██████████| 9/9 [00:02<00:00,  4.01it/s]\n",
            "                 Class     Images  Instances      Box(P          R      mAP50  mAP50-95): 100%|██████████| 3/3 [00:00<00:00,  9.36it/s]"
          ]
        },
        {
          "output_type": "stream",
          "name": "stdout",
          "text": [
            "                   all         33          8     0.0838      0.875      0.178      0.162\n"
          ]
        },
        {
          "output_type": "stream",
          "name": "stderr",
          "text": [
            "\n"
          ]
        },
        {
          "output_type": "stream",
          "name": "stdout",
          "text": [
            "\n",
            "      Epoch    GPU_mem   box_loss   cls_loss   dfl_loss  Instances       Size\n"
          ]
        },
        {
          "output_type": "stream",
          "name": "stderr",
          "text": [
            "    137/300      16.5G     0.7454      1.601      2.384          1        800: 100%|██████████| 9/9 [00:02<00:00,  4.07it/s]\n",
            "                 Class     Images  Instances      Box(P          R      mAP50  mAP50-95): 100%|██████████| 3/3 [00:00<00:00,  9.86it/s]"
          ]
        },
        {
          "output_type": "stream",
          "name": "stdout",
          "text": [
            "                   all         33          8     0.0787      0.625      0.139      0.137\n"
          ]
        },
        {
          "output_type": "stream",
          "name": "stderr",
          "text": [
            "\n"
          ]
        },
        {
          "output_type": "stream",
          "name": "stdout",
          "text": [
            "\n",
            "      Epoch    GPU_mem   box_loss   cls_loss   dfl_loss  Instances       Size\n"
          ]
        },
        {
          "output_type": "stream",
          "name": "stderr",
          "text": [
            "    138/300      16.6G     0.4946     0.8288      2.177          7        800: 100%|██████████| 9/9 [00:02<00:00,  4.01it/s]\n",
            "                 Class     Images  Instances      Box(P          R      mAP50  mAP50-95): 100%|██████████| 3/3 [00:00<00:00,  9.10it/s]"
          ]
        },
        {
          "output_type": "stream",
          "name": "stdout",
          "text": [
            "                   all         33          8      0.087      0.625      0.206      0.206\n"
          ]
        },
        {
          "output_type": "stream",
          "name": "stderr",
          "text": [
            "\n"
          ]
        },
        {
          "output_type": "stream",
          "name": "stdout",
          "text": [
            "\n",
            "      Epoch    GPU_mem   box_loss   cls_loss   dfl_loss  Instances       Size\n"
          ]
        },
        {
          "output_type": "stream",
          "name": "stderr",
          "text": [
            "    139/300      16.6G     0.5248     0.7671      2.114         13        800: 100%|██████████| 9/9 [00:02<00:00,  4.05it/s]\n",
            "                 Class     Images  Instances      Box(P          R      mAP50  mAP50-95): 100%|██████████| 3/3 [00:00<00:00,  8.06it/s]"
          ]
        },
        {
          "output_type": "stream",
          "name": "stdout",
          "text": [
            "                   all         33          8       0.11       0.84      0.147      0.144\n"
          ]
        },
        {
          "output_type": "stream",
          "name": "stderr",
          "text": [
            "\n"
          ]
        },
        {
          "output_type": "stream",
          "name": "stdout",
          "text": [
            "\n",
            "      Epoch    GPU_mem   box_loss   cls_loss   dfl_loss  Instances       Size\n"
          ]
        },
        {
          "output_type": "stream",
          "name": "stderr",
          "text": [
            "    140/300      16.6G      0.531     0.7639      2.189         11        800: 100%|██████████| 9/9 [00:02<00:00,  3.96it/s]\n",
            "                 Class     Images  Instances      Box(P          R      mAP50  mAP50-95): 100%|██████████| 3/3 [00:00<00:00,  9.69it/s]"
          ]
        },
        {
          "output_type": "stream",
          "name": "stdout",
          "text": [
            "                   all         33          8     0.0703          1      0.144      0.139\n"
          ]
        },
        {
          "output_type": "stream",
          "name": "stderr",
          "text": [
            "\n"
          ]
        },
        {
          "output_type": "stream",
          "name": "stdout",
          "text": [
            "\n",
            "      Epoch    GPU_mem   box_loss   cls_loss   dfl_loss  Instances       Size\n"
          ]
        },
        {
          "output_type": "stream",
          "name": "stderr",
          "text": [
            "    141/300      16.5G     0.5773     0.9645      2.137          4        800: 100%|██████████| 9/9 [00:02<00:00,  4.04it/s]\n",
            "                 Class     Images  Instances      Box(P          R      mAP50  mAP50-95): 100%|██████████| 3/3 [00:00<00:00,  9.44it/s]"
          ]
        },
        {
          "output_type": "stream",
          "name": "stdout",
          "text": [
            "                   all         33          8      0.301      0.375      0.136      0.134\n"
          ]
        },
        {
          "output_type": "stream",
          "name": "stderr",
          "text": [
            "\n"
          ]
        },
        {
          "output_type": "stream",
          "name": "stdout",
          "text": [
            "\n",
            "      Epoch    GPU_mem   box_loss   cls_loss   dfl_loss  Instances       Size\n"
          ]
        },
        {
          "output_type": "stream",
          "name": "stderr",
          "text": [
            "    142/300      16.6G     0.5143     0.8134       2.37          8        800: 100%|██████████| 9/9 [00:02<00:00,  4.07it/s]\n",
            "                 Class     Images  Instances      Box(P          R      mAP50  mAP50-95): 100%|██████████| 3/3 [00:00<00:00,  9.31it/s]\n"
          ]
        },
        {
          "output_type": "stream",
          "name": "stdout",
          "text": [
            "                   all         33          8     0.0734       0.75       0.13      0.124\n",
            "\n",
            "      Epoch    GPU_mem   box_loss   cls_loss   dfl_loss  Instances       Size\n"
          ]
        },
        {
          "output_type": "stream",
          "name": "stderr",
          "text": [
            "    143/300      16.6G     0.5019     0.7794      2.121          8        800: 100%|██████████| 9/9 [00:02<00:00,  4.02it/s]\n",
            "                 Class     Images  Instances      Box(P          R      mAP50  mAP50-95): 100%|██████████| 3/3 [00:00<00:00, 10.14it/s]"
          ]
        },
        {
          "output_type": "stream",
          "name": "stdout",
          "text": [
            "                   all         33          8     0.0841          1       0.12      0.118\n"
          ]
        },
        {
          "output_type": "stream",
          "name": "stderr",
          "text": [
            "\n"
          ]
        },
        {
          "output_type": "stream",
          "name": "stdout",
          "text": [
            "\n",
            "      Epoch    GPU_mem   box_loss   cls_loss   dfl_loss  Instances       Size\n"
          ]
        },
        {
          "output_type": "stream",
          "name": "stderr",
          "text": [
            "    144/300      16.6G     0.5386     0.7798      2.254          8        800: 100%|██████████| 9/9 [00:02<00:00,  3.99it/s]\n",
            "                 Class     Images  Instances      Box(P          R      mAP50  mAP50-95): 100%|██████████| 3/3 [00:00<00:00,  9.16it/s]\n"
          ]
        },
        {
          "output_type": "stream",
          "name": "stdout",
          "text": [
            "                   all         33          8      0.105          1      0.147      0.145\n",
            "\n",
            "      Epoch    GPU_mem   box_loss   cls_loss   dfl_loss  Instances       Size\n"
          ]
        },
        {
          "output_type": "stream",
          "name": "stderr",
          "text": [
            "    145/300        17G      0.498     0.8006      2.196          9        800: 100%|██████████| 9/9 [00:02<00:00,  4.09it/s]\n",
            "                 Class     Images  Instances      Box(P          R      mAP50  mAP50-95): 100%|██████████| 3/3 [00:00<00:00, 10.27it/s]"
          ]
        },
        {
          "output_type": "stream",
          "name": "stdout",
          "text": [
            "                   all         33          8      0.105      0.841      0.154      0.148\n"
          ]
        },
        {
          "output_type": "stream",
          "name": "stderr",
          "text": [
            "\n"
          ]
        },
        {
          "output_type": "stream",
          "name": "stdout",
          "text": [
            "\n",
            "      Epoch    GPU_mem   box_loss   cls_loss   dfl_loss  Instances       Size\n"
          ]
        },
        {
          "output_type": "stream",
          "name": "stderr",
          "text": [
            "    146/300      16.5G     0.5155      0.747      2.294          8        800: 100%|██████████| 9/9 [00:02<00:00,  3.93it/s]\n",
            "                 Class     Images  Instances      Box(P          R      mAP50  mAP50-95): 100%|██████████| 3/3 [00:00<00:00,  8.83it/s]\n"
          ]
        },
        {
          "output_type": "stream",
          "name": "stdout",
          "text": [
            "                   all         33          8     0.0678          1      0.114      0.111\n",
            "\n",
            "      Epoch    GPU_mem   box_loss   cls_loss   dfl_loss  Instances       Size\n"
          ]
        },
        {
          "output_type": "stream",
          "name": "stderr",
          "text": [
            "    147/300      16.6G     0.5487     0.7593      2.118         22        800: 100%|██████████| 9/9 [00:02<00:00,  4.07it/s]\n",
            "                 Class     Images  Instances      Box(P          R      mAP50  mAP50-95): 100%|██████████| 3/3 [00:00<00:00,  9.66it/s]"
          ]
        },
        {
          "output_type": "stream",
          "name": "stdout",
          "text": [
            "                   all         33          8     0.0795      0.812      0.102     0.0992\n"
          ]
        },
        {
          "output_type": "stream",
          "name": "stderr",
          "text": [
            "\n"
          ]
        },
        {
          "output_type": "stream",
          "name": "stdout",
          "text": [
            "\n",
            "      Epoch    GPU_mem   box_loss   cls_loss   dfl_loss  Instances       Size\n"
          ]
        },
        {
          "output_type": "stream",
          "name": "stderr",
          "text": [
            "    148/300      16.6G      0.504     0.7703      2.071          8        800: 100%|██████████| 9/9 [00:02<00:00,  3.97it/s]\n",
            "                 Class     Images  Instances      Box(P          R      mAP50  mAP50-95): 100%|██████████| 3/3 [00:00<00:00,  9.94it/s]"
          ]
        },
        {
          "output_type": "stream",
          "name": "stdout",
          "text": [
            "                   all         33          8     0.0721      0.875      0.135      0.129\n"
          ]
        },
        {
          "output_type": "stream",
          "name": "stderr",
          "text": [
            "\n"
          ]
        },
        {
          "output_type": "stream",
          "name": "stdout",
          "text": [
            "\n",
            "      Epoch    GPU_mem   box_loss   cls_loss   dfl_loss  Instances       Size\n"
          ]
        },
        {
          "output_type": "stream",
          "name": "stderr",
          "text": [
            "    149/300      16.5G     0.5416     0.7957      2.038         14        800: 100%|██████████| 9/9 [00:02<00:00,  4.06it/s]\n",
            "                 Class     Images  Instances      Box(P          R      mAP50  mAP50-95): 100%|██████████| 3/3 [00:00<00:00,  9.01it/s]"
          ]
        },
        {
          "output_type": "stream",
          "name": "stdout",
          "text": [
            "                   all         33          8      0.108      0.875      0.155      0.155\n"
          ]
        },
        {
          "output_type": "stream",
          "name": "stderr",
          "text": [
            "\n"
          ]
        },
        {
          "output_type": "stream",
          "name": "stdout",
          "text": [
            "\n",
            "      Epoch    GPU_mem   box_loss   cls_loss   dfl_loss  Instances       Size\n"
          ]
        },
        {
          "output_type": "stream",
          "name": "stderr",
          "text": [
            "    150/300      16.6G     0.4892     0.7556      2.163          4        800: 100%|██████████| 9/9 [00:02<00:00,  4.05it/s]\n",
            "                 Class     Images  Instances      Box(P          R      mAP50  mAP50-95): 100%|██████████| 3/3 [00:00<00:00,  9.30it/s]"
          ]
        },
        {
          "output_type": "stream",
          "name": "stdout",
          "text": [
            "                   all         33          8     0.0924          1      0.151      0.145\n"
          ]
        },
        {
          "output_type": "stream",
          "name": "stderr",
          "text": [
            "\n"
          ]
        },
        {
          "output_type": "stream",
          "name": "stdout",
          "text": [
            "\n",
            "      Epoch    GPU_mem   box_loss   cls_loss   dfl_loss  Instances       Size\n"
          ]
        },
        {
          "output_type": "stream",
          "name": "stderr",
          "text": [
            "    151/300      16.6G     0.4838     0.7515      2.076         16        800: 100%|██████████| 9/9 [00:02<00:00,  4.11it/s]\n",
            "                 Class     Images  Instances      Box(P          R      mAP50  mAP50-95): 100%|██████████| 3/3 [00:00<00:00,  9.20it/s]\n"
          ]
        },
        {
          "output_type": "stream",
          "name": "stdout",
          "text": [
            "                   all         33          8     0.0895          1       0.15      0.148\n",
            "\n",
            "      Epoch    GPU_mem   box_loss   cls_loss   dfl_loss  Instances       Size\n"
          ]
        },
        {
          "output_type": "stream",
          "name": "stderr",
          "text": [
            "    152/300      17.1G     0.4733     0.7234      2.223          4        800: 100%|██████████| 9/9 [00:02<00:00,  3.99it/s]\n",
            "                 Class     Images  Instances      Box(P          R      mAP50  mAP50-95): 100%|██████████| 3/3 [00:00<00:00, 10.51it/s]"
          ]
        },
        {
          "output_type": "stream",
          "name": "stdout",
          "text": [
            "                   all         33          8     0.0811          1      0.124      0.124\n"
          ]
        },
        {
          "output_type": "stream",
          "name": "stderr",
          "text": [
            "\n"
          ]
        },
        {
          "output_type": "stream",
          "name": "stdout",
          "text": [
            "\n",
            "      Epoch    GPU_mem   box_loss   cls_loss   dfl_loss  Instances       Size\n"
          ]
        },
        {
          "output_type": "stream",
          "name": "stderr",
          "text": [
            "    153/300      16.5G     0.4863     0.6732      2.185          7        800: 100%|██████████| 9/9 [00:02<00:00,  4.07it/s]\n",
            "                 Class     Images  Instances      Box(P          R      mAP50  mAP50-95): 100%|██████████| 3/3 [00:00<00:00,  9.63it/s]"
          ]
        },
        {
          "output_type": "stream",
          "name": "stdout",
          "text": [
            "                   all         33          8     0.0614          1      0.136      0.136\n"
          ]
        },
        {
          "output_type": "stream",
          "name": "stderr",
          "text": [
            "\n"
          ]
        },
        {
          "output_type": "stream",
          "name": "stdout",
          "text": [
            "\n",
            "      Epoch    GPU_mem   box_loss   cls_loss   dfl_loss  Instances       Size\n"
          ]
        },
        {
          "output_type": "stream",
          "name": "stderr",
          "text": [
            "    154/300      16.5G     0.4573     0.7106      2.215         16        800: 100%|██████████| 9/9 [00:02<00:00,  4.02it/s]\n",
            "                 Class     Images  Instances      Box(P          R      mAP50  mAP50-95): 100%|██████████| 3/3 [00:00<00:00,  9.09it/s]"
          ]
        },
        {
          "output_type": "stream",
          "name": "stdout",
          "text": [
            "                   all         33          8     0.0578       0.75      0.111       0.11\n"
          ]
        },
        {
          "output_type": "stream",
          "name": "stderr",
          "text": [
            "\n"
          ]
        },
        {
          "output_type": "stream",
          "name": "stdout",
          "text": [
            "\n",
            "      Epoch    GPU_mem   box_loss   cls_loss   dfl_loss  Instances       Size\n"
          ]
        },
        {
          "output_type": "stream",
          "name": "stderr",
          "text": [
            "    155/300      16.6G     0.5092     0.7266      2.084         18        800: 100%|██████████| 9/9 [00:02<00:00,  4.03it/s]\n",
            "                 Class     Images  Instances      Box(P          R      mAP50  mAP50-95): 100%|██████████| 3/3 [00:00<00:00,  9.51it/s]"
          ]
        },
        {
          "output_type": "stream",
          "name": "stdout",
          "text": [
            "                   all         33          8     0.0653          1       0.11      0.108\n"
          ]
        },
        {
          "output_type": "stream",
          "name": "stderr",
          "text": [
            "\n"
          ]
        },
        {
          "output_type": "stream",
          "name": "stdout",
          "text": [
            "\n",
            "      Epoch    GPU_mem   box_loss   cls_loss   dfl_loss  Instances       Size\n"
          ]
        },
        {
          "output_type": "stream",
          "name": "stderr",
          "text": [
            "    156/300      16.6G     0.5257     0.7939      2.001         27        800: 100%|██████████| 9/9 [00:02<00:00,  3.95it/s]\n",
            "                 Class     Images  Instances      Box(P          R      mAP50  mAP50-95): 100%|██████████| 3/3 [00:00<00:00,  9.94it/s]"
          ]
        },
        {
          "output_type": "stream",
          "name": "stdout",
          "text": [
            "                   all         33          8     0.0711          1      0.131      0.128\n"
          ]
        },
        {
          "output_type": "stream",
          "name": "stderr",
          "text": [
            "\n"
          ]
        },
        {
          "output_type": "stream",
          "name": "stdout",
          "text": [
            "\n",
            "      Epoch    GPU_mem   box_loss   cls_loss   dfl_loss  Instances       Size\n"
          ]
        },
        {
          "output_type": "stream",
          "name": "stderr",
          "text": [
            "    157/300      16.5G     0.5096     0.7723      2.058         12        800: 100%|██████████| 9/9 [00:02<00:00,  4.03it/s]\n",
            "                 Class     Images  Instances      Box(P          R      mAP50  mAP50-95): 100%|██████████| 3/3 [00:00<00:00,  8.98it/s]"
          ]
        },
        {
          "output_type": "stream",
          "name": "stdout",
          "text": [
            "                   all         33          8     0.0551          1     0.0959     0.0915\n"
          ]
        },
        {
          "output_type": "stream",
          "name": "stderr",
          "text": [
            "\n"
          ]
        },
        {
          "output_type": "stream",
          "name": "stdout",
          "text": [
            "\n",
            "      Epoch    GPU_mem   box_loss   cls_loss   dfl_loss  Instances       Size\n"
          ]
        },
        {
          "output_type": "stream",
          "name": "stderr",
          "text": [
            "    158/300      16.6G     0.5119     0.7683      2.144          9        800: 100%|██████████| 9/9 [00:02<00:00,  4.04it/s]\n",
            "                 Class     Images  Instances      Box(P          R      mAP50  mAP50-95): 100%|██████████| 3/3 [00:00<00:00,  9.68it/s]"
          ]
        },
        {
          "output_type": "stream",
          "name": "stdout",
          "text": [
            "                   all         33          8     0.0596          1     0.0973     0.0943\n"
          ]
        },
        {
          "output_type": "stream",
          "name": "stderr",
          "text": [
            "\n"
          ]
        },
        {
          "output_type": "stream",
          "name": "stdout",
          "text": [
            "\n",
            "      Epoch    GPU_mem   box_loss   cls_loss   dfl_loss  Instances       Size\n"
          ]
        },
        {
          "output_type": "stream",
          "name": "stderr",
          "text": [
            "    159/300      16.6G     0.4897     0.7158      2.125         16        800: 100%|██████████| 9/9 [00:02<00:00,  4.00it/s]\n",
            "                 Class     Images  Instances      Box(P          R      mAP50  mAP50-95): 100%|██████████| 3/3 [00:00<00:00,  9.74it/s]"
          ]
        },
        {
          "output_type": "stream",
          "name": "stdout",
          "text": [
            "                   all         33          8     0.0522      0.875      0.123      0.118\n"
          ]
        },
        {
          "output_type": "stream",
          "name": "stderr",
          "text": [
            "\n"
          ]
        },
        {
          "output_type": "stream",
          "name": "stdout",
          "text": [
            "\n",
            "      Epoch    GPU_mem   box_loss   cls_loss   dfl_loss  Instances       Size\n"
          ]
        },
        {
          "output_type": "stream",
          "name": "stderr",
          "text": [
            "    160/300      16.6G     0.4968     0.6799      2.172         11        800: 100%|██████████| 9/9 [00:02<00:00,  3.89it/s]\n",
            "                 Class     Images  Instances      Box(P          R      mAP50  mAP50-95): 100%|██████████| 3/3 [00:00<00:00,  9.44it/s]"
          ]
        },
        {
          "output_type": "stream",
          "name": "stdout",
          "text": [
            "                   all         33          8     0.0509       0.75       0.11      0.109\n"
          ]
        },
        {
          "output_type": "stream",
          "name": "stderr",
          "text": [
            "\n"
          ]
        },
        {
          "output_type": "stream",
          "name": "stdout",
          "text": [
            "\n",
            "      Epoch    GPU_mem   box_loss   cls_loss   dfl_loss  Instances       Size\n"
          ]
        },
        {
          "output_type": "stream",
          "name": "stderr",
          "text": [
            "    161/300      16.5G     0.4922     0.7575       2.13          5        800: 100%|██████████| 9/9 [00:02<00:00,  4.05it/s]\n",
            "                 Class     Images  Instances      Box(P          R      mAP50  mAP50-95): 100%|██████████| 3/3 [00:00<00:00,  8.55it/s]"
          ]
        },
        {
          "output_type": "stream",
          "name": "stdout",
          "text": [
            "                   all         33          8     0.0679       0.75      0.107      0.105\n"
          ]
        },
        {
          "output_type": "stream",
          "name": "stderr",
          "text": [
            "\n"
          ]
        },
        {
          "output_type": "stream",
          "name": "stdout",
          "text": [
            "\n",
            "      Epoch    GPU_mem   box_loss   cls_loss   dfl_loss  Instances       Size\n"
          ]
        },
        {
          "output_type": "stream",
          "name": "stderr",
          "text": [
            "    162/300      16.5G     0.4926     0.8738      2.188          4        800: 100%|██████████| 9/9 [00:02<00:00,  4.09it/s]\n",
            "                 Class     Images  Instances      Box(P          R      mAP50  mAP50-95): 100%|██████████| 3/3 [00:00<00:00,  9.08it/s]\n"
          ]
        },
        {
          "output_type": "stream",
          "name": "stdout",
          "text": [
            "                   all         33          8      0.173      0.625      0.211      0.207\n",
            "\n",
            "      Epoch    GPU_mem   box_loss   cls_loss   dfl_loss  Instances       Size\n"
          ]
        },
        {
          "output_type": "stream",
          "name": "stderr",
          "text": [
            "    163/300      16.6G     0.4863     0.7501      2.015          8        800: 100%|██████████| 9/9 [00:02<00:00,  3.98it/s]\n",
            "                 Class     Images  Instances      Box(P          R      mAP50  mAP50-95): 100%|██████████| 3/3 [00:00<00:00,  9.71it/s]"
          ]
        },
        {
          "output_type": "stream",
          "name": "stdout",
          "text": [
            "                   all         33          8      0.112      0.375      0.166      0.161\n"
          ]
        },
        {
          "output_type": "stream",
          "name": "stderr",
          "text": [
            "\n"
          ]
        },
        {
          "output_type": "stream",
          "name": "stdout",
          "text": [
            "\n",
            "      Epoch    GPU_mem   box_loss   cls_loss   dfl_loss  Instances       Size\n"
          ]
        },
        {
          "output_type": "stream",
          "name": "stderr",
          "text": [
            "    164/300      16.6G     0.5166     0.6977       2.08          8        800: 100%|██████████| 9/9 [00:02<00:00,  3.96it/s]\n",
            "                 Class     Images  Instances      Box(P          R      mAP50  mAP50-95): 100%|██████████| 3/3 [00:00<00:00,  9.70it/s]"
          ]
        },
        {
          "output_type": "stream",
          "name": "stdout",
          "text": [
            "                   all         33          8     0.0831          1      0.106      0.106\n"
          ]
        },
        {
          "output_type": "stream",
          "name": "stderr",
          "text": [
            "\n"
          ]
        },
        {
          "output_type": "stream",
          "name": "stdout",
          "text": [
            "\n",
            "      Epoch    GPU_mem   box_loss   cls_loss   dfl_loss  Instances       Size\n"
          ]
        },
        {
          "output_type": "stream",
          "name": "stderr",
          "text": [
            "    165/300      16.5G      0.511     0.7595      2.077          8        800: 100%|██████████| 9/9 [00:02<00:00,  3.99it/s]\n",
            "                 Class     Images  Instances      Box(P          R      mAP50  mAP50-95): 100%|██████████| 3/3 [00:00<00:00,  9.77it/s]"
          ]
        },
        {
          "output_type": "stream",
          "name": "stdout",
          "text": [
            "                   all         33          8     0.0767      0.875      0.119      0.119\n"
          ]
        },
        {
          "output_type": "stream",
          "name": "stderr",
          "text": [
            "\n"
          ]
        },
        {
          "output_type": "stream",
          "name": "stdout",
          "text": [
            "\n",
            "      Epoch    GPU_mem   box_loss   cls_loss   dfl_loss  Instances       Size\n"
          ]
        },
        {
          "output_type": "stream",
          "name": "stderr",
          "text": [
            "    166/300      16.5G     0.4556     0.7904      2.008          4        800: 100%|██████████| 9/9 [00:02<00:00,  4.06it/s]\n",
            "                 Class     Images  Instances      Box(P          R      mAP50  mAP50-95): 100%|██████████| 3/3 [00:00<00:00,  9.78it/s]"
          ]
        },
        {
          "output_type": "stream",
          "name": "stdout",
          "text": [
            "                   all         33          8     0.0779          1      0.133      0.127\n"
          ]
        },
        {
          "output_type": "stream",
          "name": "stderr",
          "text": [
            "\n"
          ]
        },
        {
          "output_type": "stream",
          "name": "stdout",
          "text": [
            "\n",
            "      Epoch    GPU_mem   box_loss   cls_loss   dfl_loss  Instances       Size\n"
          ]
        },
        {
          "output_type": "stream",
          "name": "stderr",
          "text": [
            "    167/300      16.6G     0.5226     0.9713        2.1          8        800: 100%|██████████| 9/9 [00:02<00:00,  4.10it/s]\n",
            "                 Class     Images  Instances      Box(P          R      mAP50  mAP50-95): 100%|██████████| 3/3 [00:00<00:00,  9.03it/s]"
          ]
        },
        {
          "output_type": "stream",
          "name": "stdout",
          "text": [
            "                   all         33          8     0.0672      0.875      0.101      0.101\n"
          ]
        },
        {
          "output_type": "stream",
          "name": "stderr",
          "text": [
            "\n"
          ]
        },
        {
          "output_type": "stream",
          "name": "stdout",
          "text": [
            "\n",
            "      Epoch    GPU_mem   box_loss   cls_loss   dfl_loss  Instances       Size\n"
          ]
        },
        {
          "output_type": "stream",
          "name": "stderr",
          "text": [
            "    168/300      16.6G       0.58     0.8689      2.054         14        800: 100%|██████████| 9/9 [00:02<00:00,  4.00it/s]\n",
            "                 Class     Images  Instances      Box(P          R      mAP50  mAP50-95): 100%|██████████| 3/3 [00:00<00:00, 10.07it/s]"
          ]
        },
        {
          "output_type": "stream",
          "name": "stdout",
          "text": [
            "                   all         33          8       0.11       0.75      0.122      0.121\n"
          ]
        },
        {
          "output_type": "stream",
          "name": "stderr",
          "text": [
            "\n"
          ]
        },
        {
          "output_type": "stream",
          "name": "stdout",
          "text": [
            "\n",
            "      Epoch    GPU_mem   box_loss   cls_loss   dfl_loss  Instances       Size\n"
          ]
        },
        {
          "output_type": "stream",
          "name": "stderr",
          "text": [
            "    169/300      16.5G     0.5019      0.882      2.125          8        800: 100%|██████████| 9/9 [00:02<00:00,  4.03it/s]\n",
            "                 Class     Images  Instances      Box(P          R      mAP50  mAP50-95): 100%|██████████| 3/3 [00:00<00:00, 10.13it/s]"
          ]
        },
        {
          "output_type": "stream",
          "name": "stdout",
          "text": [
            "                   all         33          8     0.0701      0.875      0.132      0.128\n"
          ]
        },
        {
          "output_type": "stream",
          "name": "stderr",
          "text": [
            "\n"
          ]
        },
        {
          "output_type": "stream",
          "name": "stdout",
          "text": [
            "\n",
            "      Epoch    GPU_mem   box_loss   cls_loss   dfl_loss  Instances       Size\n"
          ]
        },
        {
          "output_type": "stream",
          "name": "stderr",
          "text": [
            "    170/300      16.5G     0.5008      0.685      2.184          8        800: 100%|██████████| 9/9 [00:02<00:00,  4.09it/s]\n",
            "                 Class     Images  Instances      Box(P          R      mAP50  mAP50-95): 100%|██████████| 3/3 [00:00<00:00,  8.44it/s]"
          ]
        },
        {
          "output_type": "stream",
          "name": "stdout",
          "text": [
            "                   all         33          8     0.0878      0.958      0.143      0.141\n"
          ]
        },
        {
          "output_type": "stream",
          "name": "stderr",
          "text": [
            "\n"
          ]
        },
        {
          "output_type": "stream",
          "name": "stdout",
          "text": [
            "\n",
            "      Epoch    GPU_mem   box_loss   cls_loss   dfl_loss  Instances       Size\n"
          ]
        },
        {
          "output_type": "stream",
          "name": "stderr",
          "text": [
            "    171/300      16.6G     0.4947     0.7684      2.023         20        800: 100%|██████████| 9/9 [00:02<00:00,  4.00it/s]\n",
            "                 Class     Images  Instances      Box(P          R      mAP50  mAP50-95): 100%|██████████| 3/3 [00:00<00:00,  9.62it/s]"
          ]
        },
        {
          "output_type": "stream",
          "name": "stdout",
          "text": [
            "                   all         33          8     0.0818          1      0.146      0.146\n"
          ]
        },
        {
          "output_type": "stream",
          "name": "stderr",
          "text": [
            "\n"
          ]
        },
        {
          "output_type": "stream",
          "name": "stdout",
          "text": [
            "\n",
            "      Epoch    GPU_mem   box_loss   cls_loss   dfl_loss  Instances       Size\n"
          ]
        },
        {
          "output_type": "stream",
          "name": "stderr",
          "text": [
            "    172/300      16.6G     0.4949     0.7654      2.104          8        800: 100%|██████████| 9/9 [00:02<00:00,  4.01it/s]\n",
            "                 Class     Images  Instances      Box(P          R      mAP50  mAP50-95): 100%|██████████| 3/3 [00:00<00:00,  9.58it/s]"
          ]
        },
        {
          "output_type": "stream",
          "name": "stdout",
          "text": [
            "                   all         33          8      0.116      0.625      0.135      0.135\n"
          ]
        },
        {
          "output_type": "stream",
          "name": "stderr",
          "text": [
            "\n"
          ]
        },
        {
          "output_type": "stream",
          "name": "stdout",
          "text": [
            "\n",
            "      Epoch    GPU_mem   box_loss   cls_loss   dfl_loss  Instances       Size\n"
          ]
        },
        {
          "output_type": "stream",
          "name": "stderr",
          "text": [
            "    173/300      16.5G     0.4704     0.8299      2.054         11        800: 100%|██████████| 9/9 [00:02<00:00,  4.03it/s]\n",
            "                 Class     Images  Instances      Box(P          R      mAP50  mAP50-95): 100%|██████████| 3/3 [00:00<00:00,  9.70it/s]"
          ]
        },
        {
          "output_type": "stream",
          "name": "stdout",
          "text": [
            "                   all         33          8     0.0994      0.875      0.131      0.127\n"
          ]
        },
        {
          "output_type": "stream",
          "name": "stderr",
          "text": [
            "\n"
          ]
        },
        {
          "output_type": "stream",
          "name": "stdout",
          "text": [
            "\n",
            "      Epoch    GPU_mem   box_loss   cls_loss   dfl_loss  Instances       Size\n"
          ]
        },
        {
          "output_type": "stream",
          "name": "stderr",
          "text": [
            "    174/300      16.5G     0.5036     0.7826      2.143          5        800: 100%|██████████| 9/9 [00:02<00:00,  3.91it/s]\n",
            "                 Class     Images  Instances      Box(P          R      mAP50  mAP50-95): 100%|██████████| 3/3 [00:00<00:00,  9.59it/s]"
          ]
        },
        {
          "output_type": "stream",
          "name": "stdout",
          "text": [
            "                   all         33          8      0.102      0.875      0.149      0.149\n"
          ]
        },
        {
          "output_type": "stream",
          "name": "stderr",
          "text": [
            "\n"
          ]
        },
        {
          "output_type": "stream",
          "name": "stdout",
          "text": [
            "\n",
            "      Epoch    GPU_mem   box_loss   cls_loss   dfl_loss  Instances       Size\n"
          ]
        },
        {
          "output_type": "stream",
          "name": "stderr",
          "text": [
            "    175/300      16.6G     0.4461     0.7024      2.035         11        800: 100%|██████████| 9/9 [00:02<00:00,  4.04it/s]\n",
            "                 Class     Images  Instances      Box(P          R      mAP50  mAP50-95): 100%|██████████| 3/3 [00:00<00:00,  9.66it/s]"
          ]
        },
        {
          "output_type": "stream",
          "name": "stdout",
          "text": [
            "                   all         33          8     0.0799          1      0.145      0.144\n"
          ]
        },
        {
          "output_type": "stream",
          "name": "stderr",
          "text": [
            "\n"
          ]
        },
        {
          "output_type": "stream",
          "name": "stdout",
          "text": [
            "\n",
            "      Epoch    GPU_mem   box_loss   cls_loss   dfl_loss  Instances       Size\n"
          ]
        },
        {
          "output_type": "stream",
          "name": "stderr",
          "text": [
            "    176/300      16.6G     0.5228     0.7703      2.142          9        800: 100%|██████████| 9/9 [00:02<00:00,  3.97it/s]\n",
            "                 Class     Images  Instances      Box(P          R      mAP50  mAP50-95): 100%|██████████| 3/3 [00:00<00:00,  9.81it/s]"
          ]
        },
        {
          "output_type": "stream",
          "name": "stdout",
          "text": [
            "                   all         33          8      0.083          1      0.147      0.147\n"
          ]
        },
        {
          "output_type": "stream",
          "name": "stderr",
          "text": [
            "\n"
          ]
        },
        {
          "output_type": "stream",
          "name": "stdout",
          "text": [
            "\n",
            "      Epoch    GPU_mem   box_loss   cls_loss   dfl_loss  Instances       Size\n"
          ]
        },
        {
          "output_type": "stream",
          "name": "stderr",
          "text": [
            "    177/300      16.5G      0.427      1.417      1.837          0        800: 100%|██████████| 9/9 [00:02<00:00,  3.95it/s]\n",
            "                 Class     Images  Instances      Box(P          R      mAP50  mAP50-95): 100%|██████████| 3/3 [00:00<00:00,  9.06it/s]\n"
          ]
        },
        {
          "output_type": "stream",
          "name": "stdout",
          "text": [
            "                   all         33          8      0.116      0.875      0.156      0.152\n",
            "\n",
            "      Epoch    GPU_mem   box_loss   cls_loss   dfl_loss  Instances       Size\n"
          ]
        },
        {
          "output_type": "stream",
          "name": "stderr",
          "text": [
            "    178/300      16.5G     0.4885     0.8221       2.17          8        800: 100%|██████████| 9/9 [00:02<00:00,  4.04it/s]\n",
            "                 Class     Images  Instances      Box(P          R      mAP50  mAP50-95): 100%|██████████| 3/3 [00:00<00:00,  9.88it/s]"
          ]
        },
        {
          "output_type": "stream",
          "name": "stdout",
          "text": [
            "                   all         33          8     0.0976       0.75      0.138      0.133\n"
          ]
        },
        {
          "output_type": "stream",
          "name": "stderr",
          "text": [
            "\n"
          ]
        },
        {
          "output_type": "stream",
          "name": "stdout",
          "text": [
            "\n",
            "      Epoch    GPU_mem   box_loss   cls_loss   dfl_loss  Instances       Size\n"
          ]
        },
        {
          "output_type": "stream",
          "name": "stderr",
          "text": [
            "    179/300      16.6G     0.5105     0.7085      2.025          8        800: 100%|██████████| 9/9 [00:02<00:00,  3.99it/s]\n",
            "                 Class     Images  Instances      Box(P          R      mAP50  mAP50-95): 100%|██████████| 3/3 [00:00<00:00,  9.87it/s]"
          ]
        },
        {
          "output_type": "stream",
          "name": "stdout",
          "text": [
            "                   all         33          8     0.0697          1      0.104      0.102\n"
          ]
        },
        {
          "output_type": "stream",
          "name": "stderr",
          "text": [
            "\n"
          ]
        },
        {
          "output_type": "stream",
          "name": "stdout",
          "text": [
            "\n",
            "      Epoch    GPU_mem   box_loss   cls_loss   dfl_loss  Instances       Size\n"
          ]
        },
        {
          "output_type": "stream",
          "name": "stderr",
          "text": [
            "    180/300      16.6G      0.486      0.668      2.169          7        800: 100%|██████████| 9/9 [00:02<00:00,  3.92it/s]\n",
            "                 Class     Images  Instances      Box(P          R      mAP50  mAP50-95): 100%|██████████| 3/3 [00:00<00:00,  9.03it/s]\n"
          ]
        },
        {
          "output_type": "stream",
          "name": "stdout",
          "text": [
            "                   all         33          8     0.0847      0.625      0.124      0.119\n",
            "\n",
            "      Epoch    GPU_mem   box_loss   cls_loss   dfl_loss  Instances       Size\n"
          ]
        },
        {
          "output_type": "stream",
          "name": "stderr",
          "text": [
            "    181/300      16.5G     0.4365     0.5949      2.056         12        800: 100%|██████████| 9/9 [00:02<00:00,  4.05it/s]\n",
            "                 Class     Images  Instances      Box(P          R      mAP50  mAP50-95): 100%|██████████| 3/3 [00:00<00:00,  9.15it/s]\n"
          ]
        },
        {
          "output_type": "stream",
          "name": "stdout",
          "text": [
            "                   all         33          8     0.0916       0.75      0.161      0.161\n",
            "\n",
            "      Epoch    GPU_mem   box_loss   cls_loss   dfl_loss  Instances       Size\n"
          ]
        },
        {
          "output_type": "stream",
          "name": "stderr",
          "text": [
            "    182/300      16.5G     0.5057     0.7515      2.119         18        800: 100%|██████████| 9/9 [00:02<00:00,  4.06it/s]\n",
            "                 Class     Images  Instances      Box(P          R      mAP50  mAP50-95): 100%|██████████| 3/3 [00:00<00:00, 10.50it/s]"
          ]
        },
        {
          "output_type": "stream",
          "name": "stdout",
          "text": [
            "                   all         33          8       0.12      0.835       0.17      0.166\n"
          ]
        },
        {
          "output_type": "stream",
          "name": "stderr",
          "text": [
            "\n"
          ]
        },
        {
          "output_type": "stream",
          "name": "stdout",
          "text": [
            "\n",
            "      Epoch    GPU_mem   box_loss   cls_loss   dfl_loss  Instances       Size\n"
          ]
        },
        {
          "output_type": "stream",
          "name": "stderr",
          "text": [
            "    183/300      16.6G     0.4677     0.6627      2.061         12        800: 100%|██████████| 9/9 [00:02<00:00,  4.01it/s]\n",
            "                 Class     Images  Instances      Box(P          R      mAP50  mAP50-95): 100%|██████████| 3/3 [00:00<00:00, 10.37it/s]"
          ]
        },
        {
          "output_type": "stream",
          "name": "stdout",
          "text": [
            "                   all         33          8      0.129      0.856      0.195      0.195\n"
          ]
        },
        {
          "output_type": "stream",
          "name": "stderr",
          "text": [
            "\n"
          ]
        },
        {
          "output_type": "stream",
          "name": "stdout",
          "text": [
            "\n",
            "      Epoch    GPU_mem   box_loss   cls_loss   dfl_loss  Instances       Size\n"
          ]
        },
        {
          "output_type": "stream",
          "name": "stderr",
          "text": [
            "    184/300      16.6G     0.4675     0.8165      1.962          4        800: 100%|██████████| 9/9 [00:02<00:00,  3.95it/s]\n",
            "                 Class     Images  Instances      Box(P          R      mAP50  mAP50-95): 100%|██████████| 3/3 [00:00<00:00, 10.25it/s]"
          ]
        },
        {
          "output_type": "stream",
          "name": "stdout",
          "text": [
            "                   all         33          8     0.0969          1      0.271      0.271\n"
          ]
        },
        {
          "output_type": "stream",
          "name": "stderr",
          "text": [
            "\n"
          ]
        },
        {
          "output_type": "stream",
          "name": "stdout",
          "text": [
            "\n",
            "      Epoch    GPU_mem   box_loss   cls_loss   dfl_loss  Instances       Size\n"
          ]
        },
        {
          "output_type": "stream",
          "name": "stderr",
          "text": [
            "    185/300      16.5G     0.5424      0.678      2.164         16        800: 100%|██████████| 9/9 [00:02<00:00,  3.96it/s]\n",
            "                 Class     Images  Instances      Box(P          R      mAP50  mAP50-95): 100%|██████████| 3/3 [00:00<00:00,  9.69it/s]"
          ]
        },
        {
          "output_type": "stream",
          "name": "stdout",
          "text": [
            "                   all         33          8     0.0913      0.817      0.146      0.146\n"
          ]
        },
        {
          "output_type": "stream",
          "name": "stderr",
          "text": [
            "\n"
          ]
        },
        {
          "output_type": "stream",
          "name": "stdout",
          "text": [
            "\n",
            "      Epoch    GPU_mem   box_loss   cls_loss   dfl_loss  Instances       Size\n"
          ]
        },
        {
          "output_type": "stream",
          "name": "stderr",
          "text": [
            "    186/300      16.5G     0.5088       0.82      1.947          3        800: 100%|██████████| 9/9 [00:02<00:00,  4.02it/s]\n",
            "                 Class     Images  Instances      Box(P          R      mAP50  mAP50-95): 100%|██████████| 3/3 [00:00<00:00,  9.79it/s]"
          ]
        },
        {
          "output_type": "stream",
          "name": "stdout",
          "text": [
            "                   all         33          8     0.0995      0.875      0.137      0.137\n"
          ]
        },
        {
          "output_type": "stream",
          "name": "stderr",
          "text": [
            "\n"
          ]
        },
        {
          "output_type": "stream",
          "name": "stdout",
          "text": [
            "\n",
            "      Epoch    GPU_mem   box_loss   cls_loss   dfl_loss  Instances       Size\n"
          ]
        },
        {
          "output_type": "stream",
          "name": "stderr",
          "text": [
            "    187/300      16.6G     0.5137     0.6855      2.105         20        800: 100%|██████████| 9/9 [00:02<00:00,  4.06it/s]\n",
            "                 Class     Images  Instances      Box(P          R      mAP50  mAP50-95): 100%|██████████| 3/3 [00:00<00:00,  9.13it/s]"
          ]
        },
        {
          "output_type": "stream",
          "name": "stdout",
          "text": [
            "                   all         33          8     0.0985      0.915      0.169      0.159\n"
          ]
        },
        {
          "output_type": "stream",
          "name": "stderr",
          "text": [
            "\n"
          ]
        },
        {
          "output_type": "stream",
          "name": "stdout",
          "text": [
            "\n",
            "      Epoch    GPU_mem   box_loss   cls_loss   dfl_loss  Instances       Size\n"
          ]
        },
        {
          "output_type": "stream",
          "name": "stderr",
          "text": [
            "    188/300      16.6G     0.4237     0.6483      2.009         11        800: 100%|██████████| 9/9 [00:02<00:00,  3.90it/s]\n",
            "                 Class     Images  Instances      Box(P          R      mAP50  mAP50-95): 100%|██████████| 3/3 [00:00<00:00,  9.60it/s]"
          ]
        },
        {
          "output_type": "stream",
          "name": "stdout",
          "text": [
            "                   all         33          8      0.124      0.625      0.155      0.154\n"
          ]
        },
        {
          "output_type": "stream",
          "name": "stderr",
          "text": [
            "\n"
          ]
        },
        {
          "output_type": "stream",
          "name": "stdout",
          "text": [
            "\n",
            "      Epoch    GPU_mem   box_loss   cls_loss   dfl_loss  Instances       Size\n"
          ]
        },
        {
          "output_type": "stream",
          "name": "stderr",
          "text": [
            "    189/300      16.5G     0.4832     0.6353      2.033          8        800: 100%|██████████| 9/9 [00:02<00:00,  4.02it/s]\n",
            "                 Class     Images  Instances      Box(P          R      mAP50  mAP50-95): 100%|██████████| 3/3 [00:00<00:00, 10.11it/s]"
          ]
        },
        {
          "output_type": "stream",
          "name": "stdout",
          "text": [
            "                   all         33          8      0.127       0.75      0.199       0.19\n"
          ]
        },
        {
          "output_type": "stream",
          "name": "stderr",
          "text": [
            "\n"
          ]
        },
        {
          "output_type": "stream",
          "name": "stdout",
          "text": [
            "\n",
            "      Epoch    GPU_mem   box_loss   cls_loss   dfl_loss  Instances       Size\n"
          ]
        },
        {
          "output_type": "stream",
          "name": "stderr",
          "text": [
            "    190/300      16.5G     0.4817      0.659      2.139          4        800: 100%|██████████| 9/9 [00:02<00:00,  4.01it/s]\n",
            "                 Class     Images  Instances      Box(P          R      mAP50  mAP50-95): 100%|██████████| 3/3 [00:00<00:00,  9.56it/s]"
          ]
        },
        {
          "output_type": "stream",
          "name": "stdout",
          "text": [
            "                   all         33          8     0.0803      0.875      0.154       0.15\n"
          ]
        },
        {
          "output_type": "stream",
          "name": "stderr",
          "text": [
            "\n"
          ]
        },
        {
          "output_type": "stream",
          "name": "stdout",
          "text": [
            "\n",
            "      Epoch    GPU_mem   box_loss   cls_loss   dfl_loss  Instances       Size\n"
          ]
        },
        {
          "output_type": "stream",
          "name": "stderr",
          "text": [
            "    191/300      16.6G     0.4531     0.6717       2.21          4        800: 100%|██████████| 9/9 [00:02<00:00,  4.08it/s]\n",
            "                 Class     Images  Instances      Box(P          R      mAP50  mAP50-95): 100%|██████████| 3/3 [00:00<00:00,  7.85it/s]"
          ]
        },
        {
          "output_type": "stream",
          "name": "stdout",
          "text": [
            "                   all         33          8     0.0973          1      0.134      0.128\n"
          ]
        },
        {
          "output_type": "stream",
          "name": "stderr",
          "text": [
            "\n"
          ]
        },
        {
          "output_type": "stream",
          "name": "stdout",
          "text": [
            "\n",
            "      Epoch    GPU_mem   box_loss   cls_loss   dfl_loss  Instances       Size\n"
          ]
        },
        {
          "output_type": "stream",
          "name": "stderr",
          "text": [
            "    192/300      16.6G     0.4443     0.6086          2         16        800: 100%|██████████| 9/9 [00:02<00:00,  3.97it/s]\n",
            "                 Class     Images  Instances      Box(P          R      mAP50  mAP50-95): 100%|██████████| 3/3 [00:00<00:00, 10.23it/s]"
          ]
        },
        {
          "output_type": "stream",
          "name": "stdout",
          "text": [
            "                   all         33          8     0.0913          1      0.129      0.129\n"
          ]
        },
        {
          "output_type": "stream",
          "name": "stderr",
          "text": [
            "\n"
          ]
        },
        {
          "output_type": "stream",
          "name": "stdout",
          "text": [
            "\n",
            "      Epoch    GPU_mem   box_loss   cls_loss   dfl_loss  Instances       Size\n"
          ]
        },
        {
          "output_type": "stream",
          "name": "stderr",
          "text": [
            "    193/300      16.5G     0.4868     0.6332      2.291          4        800: 100%|██████████| 9/9 [00:02<00:00,  4.06it/s]\n",
            "                 Class     Images  Instances      Box(P          R      mAP50  mAP50-95): 100%|██████████| 3/3 [00:00<00:00,  9.79it/s]"
          ]
        },
        {
          "output_type": "stream",
          "name": "stdout",
          "text": [
            "                   all         33          8     0.0872       0.75      0.133      0.133\n"
          ]
        },
        {
          "output_type": "stream",
          "name": "stderr",
          "text": [
            "\n"
          ]
        },
        {
          "output_type": "stream",
          "name": "stdout",
          "text": [
            "\n",
            "      Epoch    GPU_mem   box_loss   cls_loss   dfl_loss  Instances       Size\n"
          ]
        },
        {
          "output_type": "stream",
          "name": "stderr",
          "text": [
            "    194/300      16.5G     0.4122      0.576      2.065         12        800: 100%|██████████| 9/9 [00:02<00:00,  3.94it/s]\n",
            "                 Class     Images  Instances      Box(P          R      mAP50  mAP50-95): 100%|██████████| 3/3 [00:00<00:00, 10.03it/s]"
          ]
        },
        {
          "output_type": "stream",
          "name": "stdout",
          "text": [
            "                   all         33          8     0.0914      0.845       0.12      0.118\n"
          ]
        },
        {
          "output_type": "stream",
          "name": "stderr",
          "text": [
            "\n"
          ]
        },
        {
          "output_type": "stream",
          "name": "stdout",
          "text": [
            "\n",
            "      Epoch    GPU_mem   box_loss   cls_loss   dfl_loss  Instances       Size\n"
          ]
        },
        {
          "output_type": "stream",
          "name": "stderr",
          "text": [
            "    195/300      17.1G      0.431     0.6099      2.049          5        800: 100%|██████████| 9/9 [00:02<00:00,  4.09it/s]\n",
            "                 Class     Images  Instances      Box(P          R      mAP50  mAP50-95): 100%|██████████| 3/3 [00:00<00:00,  9.51it/s]"
          ]
        },
        {
          "output_type": "stream",
          "name": "stdout",
          "text": [
            "                   all         33          8     0.0839          1      0.109      0.105\n"
          ]
        },
        {
          "output_type": "stream",
          "name": "stderr",
          "text": [
            "\n"
          ]
        },
        {
          "output_type": "stream",
          "name": "stdout",
          "text": [
            "\n",
            "      Epoch    GPU_mem   box_loss   cls_loss   dfl_loss  Instances       Size\n"
          ]
        },
        {
          "output_type": "stream",
          "name": "stderr",
          "text": [
            "    196/300      17.1G     0.4533     0.6438      2.003         10        800: 100%|██████████| 9/9 [00:02<00:00,  3.97it/s]\n",
            "                 Class     Images  Instances      Box(P          R      mAP50  mAP50-95): 100%|██████████| 3/3 [00:00<00:00,  9.42it/s]"
          ]
        },
        {
          "output_type": "stream",
          "name": "stdout",
          "text": [
            "                   all         33          8     0.0961      0.625      0.152      0.152\n"
          ]
        },
        {
          "output_type": "stream",
          "name": "stderr",
          "text": [
            "\n"
          ]
        },
        {
          "output_type": "stream",
          "name": "stdout",
          "text": [
            "\n",
            "      Epoch    GPU_mem   box_loss   cls_loss   dfl_loss  Instances       Size\n"
          ]
        },
        {
          "output_type": "stream",
          "name": "stderr",
          "text": [
            "    197/300      16.5G     0.4302     0.6008      2.088          8        800: 100%|██████████| 9/9 [00:02<00:00,  4.08it/s]\n",
            "                 Class     Images  Instances      Box(P          R      mAP50  mAP50-95): 100%|██████████| 3/3 [00:00<00:00,  9.41it/s]"
          ]
        },
        {
          "output_type": "stream",
          "name": "stdout",
          "text": [
            "                   all         33          8     0.0987       0.75      0.188      0.188\n"
          ]
        },
        {
          "output_type": "stream",
          "name": "stderr",
          "text": [
            "\n"
          ]
        },
        {
          "output_type": "stream",
          "name": "stdout",
          "text": [
            "\n",
            "      Epoch    GPU_mem   box_loss   cls_loss   dfl_loss  Instances       Size\n"
          ]
        },
        {
          "output_type": "stream",
          "name": "stderr",
          "text": [
            "    198/300      16.6G     0.4127     0.6525      2.218          8        800: 100%|██████████| 9/9 [00:02<00:00,  4.06it/s]\n",
            "                 Class     Images  Instances      Box(P          R      mAP50  mAP50-95): 100%|██████████| 3/3 [00:00<00:00, 10.22it/s]"
          ]
        },
        {
          "output_type": "stream",
          "name": "stdout",
          "text": [
            "                   all         33          8     0.0869          1      0.133      0.133\n"
          ]
        },
        {
          "output_type": "stream",
          "name": "stderr",
          "text": [
            "\n"
          ]
        },
        {
          "output_type": "stream",
          "name": "stdout",
          "text": [
            "\n",
            "      Epoch    GPU_mem   box_loss   cls_loss   dfl_loss  Instances       Size\n"
          ]
        },
        {
          "output_type": "stream",
          "name": "stderr",
          "text": [
            "    199/300      16.6G     0.4618     0.5985      1.946         14        800: 100%|██████████| 9/9 [00:02<00:00,  4.04it/s]\n",
            "                 Class     Images  Instances      Box(P          R      mAP50  mAP50-95): 100%|██████████| 3/3 [00:00<00:00,  9.26it/s]\n"
          ]
        },
        {
          "output_type": "stream",
          "name": "stdout",
          "text": [
            "                   all         33          8     0.0715          1     0.0924     0.0905\n",
            "\n",
            "      Epoch    GPU_mem   box_loss   cls_loss   dfl_loss  Instances       Size\n"
          ]
        },
        {
          "output_type": "stream",
          "name": "stderr",
          "text": [
            "    200/300      16.6G     0.4394     0.6055      2.063         32        800: 100%|██████████| 9/9 [00:02<00:00,  3.94it/s]\n",
            "                 Class     Images  Instances      Box(P          R      mAP50  mAP50-95): 100%|██████████| 3/3 [00:00<00:00,  9.81it/s]"
          ]
        },
        {
          "output_type": "stream",
          "name": "stdout",
          "text": [
            "                   all         33          8     0.0725      0.993     0.0956     0.0926\n"
          ]
        },
        {
          "output_type": "stream",
          "name": "stderr",
          "text": [
            "\n"
          ]
        },
        {
          "output_type": "stream",
          "name": "stdout",
          "text": [
            "\n",
            "      Epoch    GPU_mem   box_loss   cls_loss   dfl_loss  Instances       Size\n"
          ]
        },
        {
          "output_type": "stream",
          "name": "stderr",
          "text": [
            "    201/300      16.5G     0.4523     0.5615      2.011          8        800: 100%|██████████| 9/9 [00:02<00:00,  4.00it/s]\n",
            "                 Class     Images  Instances      Box(P          R      mAP50  mAP50-95): 100%|██████████| 3/3 [00:00<00:00,  9.24it/s]"
          ]
        },
        {
          "output_type": "stream",
          "name": "stdout",
          "text": [
            "                   all         33          8     0.0937      0.875      0.147      0.145\n"
          ]
        },
        {
          "output_type": "stream",
          "name": "stderr",
          "text": [
            "\n"
          ]
        },
        {
          "output_type": "stream",
          "name": "stdout",
          "text": [
            "\n",
            "      Epoch    GPU_mem   box_loss   cls_loss   dfl_loss  Instances       Size\n"
          ]
        },
        {
          "output_type": "stream",
          "name": "stderr",
          "text": [
            "    202/300      16.5G      0.429     0.6996      2.129          7        800: 100%|██████████| 9/9 [00:02<00:00,  4.03it/s]\n",
            "                 Class     Images  Instances      Box(P          R      mAP50  mAP50-95): 100%|██████████| 3/3 [00:00<00:00,  9.53it/s]"
          ]
        },
        {
          "output_type": "stream",
          "name": "stdout",
          "text": [
            "                   all         33          8     0.0857      0.875      0.171      0.171\n"
          ]
        },
        {
          "output_type": "stream",
          "name": "stderr",
          "text": [
            "\n"
          ]
        },
        {
          "output_type": "stream",
          "name": "stdout",
          "text": [
            "\n",
            "      Epoch    GPU_mem   box_loss   cls_loss   dfl_loss  Instances       Size\n"
          ]
        },
        {
          "output_type": "stream",
          "name": "stderr",
          "text": [
            "    203/300      16.6G     0.4783     0.6487      2.056          8        800: 100%|██████████| 9/9 [00:02<00:00,  4.06it/s]\n",
            "                 Class     Images  Instances      Box(P          R      mAP50  mAP50-95): 100%|██████████| 3/3 [00:00<00:00, 10.57it/s]"
          ]
        },
        {
          "output_type": "stream",
          "name": "stdout",
          "text": [
            "                   all         33          8     0.0708          1      0.131      0.129\n"
          ]
        },
        {
          "output_type": "stream",
          "name": "stderr",
          "text": [
            "\n"
          ]
        },
        {
          "output_type": "stream",
          "name": "stdout",
          "text": [
            "\n",
            "      Epoch    GPU_mem   box_loss   cls_loss   dfl_loss  Instances       Size\n"
          ]
        },
        {
          "output_type": "stream",
          "name": "stderr",
          "text": [
            "    204/300      16.6G      0.444     0.6255      2.026         12        800: 100%|██████████| 9/9 [00:02<00:00,  3.84it/s]\n",
            "                 Class     Images  Instances      Box(P          R      mAP50  mAP50-95): 100%|██████████| 3/3 [00:00<00:00,  9.28it/s]"
          ]
        },
        {
          "output_type": "stream",
          "name": "stdout",
          "text": [
            "                   all         33          8     0.0788          1      0.101      0.101\n"
          ]
        },
        {
          "output_type": "stream",
          "name": "stderr",
          "text": [
            "\n"
          ]
        },
        {
          "output_type": "stream",
          "name": "stdout",
          "text": [
            "\n",
            "      Epoch    GPU_mem   box_loss   cls_loss   dfl_loss  Instances       Size\n"
          ]
        },
        {
          "output_type": "stream",
          "name": "stderr",
          "text": [
            "    205/300      16.5G     0.4085     0.6054      2.152          7        800: 100%|██████████| 9/9 [00:02<00:00,  4.00it/s]\n",
            "                 Class     Images  Instances      Box(P          R      mAP50  mAP50-95): 100%|██████████| 3/3 [00:00<00:00,  9.27it/s]"
          ]
        },
        {
          "output_type": "stream",
          "name": "stdout",
          "text": [
            "                   all         33          8      0.147          1      0.239      0.233\n"
          ]
        },
        {
          "output_type": "stream",
          "name": "stderr",
          "text": [
            "\n"
          ]
        },
        {
          "output_type": "stream",
          "name": "stdout",
          "text": [
            "\n",
            "      Epoch    GPU_mem   box_loss   cls_loss   dfl_loss  Instances       Size\n"
          ]
        },
        {
          "output_type": "stream",
          "name": "stderr",
          "text": [
            "    206/300      16.5G     0.4412     0.5948      1.999          8        800: 100%|██████████| 9/9 [00:02<00:00,  4.04it/s]\n",
            "                 Class     Images  Instances      Box(P          R      mAP50  mAP50-95): 100%|██████████| 3/3 [00:00<00:00,  9.98it/s]"
          ]
        },
        {
          "output_type": "stream",
          "name": "stdout",
          "text": [
            "                   all         33          8       0.14          1      0.243      0.239\n"
          ]
        },
        {
          "output_type": "stream",
          "name": "stderr",
          "text": [
            "\n"
          ]
        },
        {
          "output_type": "stream",
          "name": "stdout",
          "text": [
            "\n",
            "      Epoch    GPU_mem   box_loss   cls_loss   dfl_loss  Instances       Size\n"
          ]
        },
        {
          "output_type": "stream",
          "name": "stderr",
          "text": [
            "    207/300      17.1G     0.4451     0.7211       2.11          6        800: 100%|██████████| 9/9 [00:02<00:00,  3.92it/s]\n",
            "                 Class     Images  Instances      Box(P          R      mAP50  mAP50-95): 100%|██████████| 3/3 [00:00<00:00,  8.35it/s]"
          ]
        },
        {
          "output_type": "stream",
          "name": "stdout",
          "text": [
            "                   all         33          8      0.112      0.857      0.207      0.207\n"
          ]
        },
        {
          "output_type": "stream",
          "name": "stderr",
          "text": [
            "\n"
          ]
        },
        {
          "output_type": "stream",
          "name": "stdout",
          "text": [
            "\n",
            "      Epoch    GPU_mem   box_loss   cls_loss   dfl_loss  Instances       Size\n"
          ]
        },
        {
          "output_type": "stream",
          "name": "stderr",
          "text": [
            "    208/300      17.1G     0.4163     0.5523      2.045          4        800: 100%|██████████| 9/9 [00:02<00:00,  3.95it/s]\n",
            "                 Class     Images  Instances      Box(P          R      mAP50  mAP50-95): 100%|██████████| 3/3 [00:00<00:00, 10.13it/s]"
          ]
        },
        {
          "output_type": "stream",
          "name": "stdout",
          "text": [
            "                   all         33          8     0.0825          1      0.141      0.141\n"
          ]
        },
        {
          "output_type": "stream",
          "name": "stderr",
          "text": [
            "\n"
          ]
        },
        {
          "output_type": "stream",
          "name": "stdout",
          "text": [
            "\n",
            "      Epoch    GPU_mem   box_loss   cls_loss   dfl_loss  Instances       Size\n"
          ]
        },
        {
          "output_type": "stream",
          "name": "stderr",
          "text": [
            "    209/300      16.5G     0.4501     0.6183      2.042         10        800: 100%|██████████| 9/9 [00:02<00:00,  4.07it/s]\n",
            "                 Class     Images  Instances      Box(P          R      mAP50  mAP50-95): 100%|██████████| 3/3 [00:00<00:00,  9.77it/s]"
          ]
        },
        {
          "output_type": "stream",
          "name": "stdout",
          "text": [
            "                   all         33          8     0.0785          1      0.162      0.162\n"
          ]
        },
        {
          "output_type": "stream",
          "name": "stderr",
          "text": [
            "\n"
          ]
        },
        {
          "output_type": "stream",
          "name": "stdout",
          "text": [
            "\n",
            "      Epoch    GPU_mem   box_loss   cls_loss   dfl_loss  Instances       Size\n"
          ]
        },
        {
          "output_type": "stream",
          "name": "stderr",
          "text": [
            "    210/300      16.5G     0.4126     0.5486      2.261          4        800: 100%|██████████| 9/9 [00:02<00:00,  3.92it/s]\n",
            "                 Class     Images  Instances      Box(P          R      mAP50  mAP50-95): 100%|██████████| 3/3 [00:00<00:00,  9.69it/s]"
          ]
        },
        {
          "output_type": "stream",
          "name": "stdout",
          "text": [
            "                   all         33          8     0.0768          1      0.168      0.168\n"
          ]
        },
        {
          "output_type": "stream",
          "name": "stderr",
          "text": [
            "\n"
          ]
        },
        {
          "output_type": "stream",
          "name": "stdout",
          "text": [
            "\n",
            "      Epoch    GPU_mem   box_loss   cls_loss   dfl_loss  Instances       Size\n"
          ]
        },
        {
          "output_type": "stream",
          "name": "stderr",
          "text": [
            "    211/300      16.6G     0.4512     0.6234      2.063          9        800: 100%|██████████| 9/9 [00:02<00:00,  4.02it/s]\n",
            "                 Class     Images  Instances      Box(P          R      mAP50  mAP50-95): 100%|██████████| 3/3 [00:00<00:00, 10.22it/s]"
          ]
        },
        {
          "output_type": "stream",
          "name": "stdout",
          "text": [
            "                   all         33          8     0.0876        0.5       0.16       0.16\n"
          ]
        },
        {
          "output_type": "stream",
          "name": "stderr",
          "text": [
            "\n"
          ]
        },
        {
          "output_type": "stream",
          "name": "stdout",
          "text": [
            "\n",
            "      Epoch    GPU_mem   box_loss   cls_loss   dfl_loss  Instances       Size\n"
          ]
        },
        {
          "output_type": "stream",
          "name": "stderr",
          "text": [
            "    212/300      16.6G     0.4569     0.5885      2.106          6        800: 100%|██████████| 9/9 [00:02<00:00,  3.96it/s]\n",
            "                 Class     Images  Instances      Box(P          R      mAP50  mAP50-95): 100%|██████████| 3/3 [00:00<00:00,  9.47it/s]"
          ]
        },
        {
          "output_type": "stream",
          "name": "stdout",
          "text": [
            "                   all         33          8     0.0691        0.5      0.141      0.137\n"
          ]
        },
        {
          "output_type": "stream",
          "name": "stderr",
          "text": [
            "\n"
          ]
        },
        {
          "output_type": "stream",
          "name": "stdout",
          "text": [
            "\n",
            "      Epoch    GPU_mem   box_loss   cls_loss   dfl_loss  Instances       Size\n"
          ]
        },
        {
          "output_type": "stream",
          "name": "stderr",
          "text": [
            "    213/300      16.5G     0.4185     0.5818      2.037          5        800: 100%|██████████| 9/9 [00:02<00:00,  3.97it/s]\n",
            "                 Class     Images  Instances      Box(P          R      mAP50  mAP50-95): 100%|██████████| 3/3 [00:00<00:00,  9.12it/s]"
          ]
        },
        {
          "output_type": "stream",
          "name": "stdout",
          "text": [
            "                   all         33          8     0.0853      0.875      0.197      0.189\n"
          ]
        },
        {
          "output_type": "stream",
          "name": "stderr",
          "text": [
            "\n"
          ]
        },
        {
          "output_type": "stream",
          "name": "stdout",
          "text": [
            "\n",
            "      Epoch    GPU_mem   box_loss   cls_loss   dfl_loss  Instances       Size\n"
          ]
        },
        {
          "output_type": "stream",
          "name": "stderr",
          "text": [
            "    214/300      16.5G     0.4644      0.623      1.957         32        800: 100%|██████████| 9/9 [00:02<00:00,  4.05it/s]\n",
            "                 Class     Images  Instances      Box(P          R      mAP50  mAP50-95): 100%|██████████| 3/3 [00:00<00:00,  9.42it/s]"
          ]
        },
        {
          "output_type": "stream",
          "name": "stdout",
          "text": [
            "                   all         33          8      0.102          1      0.179      0.177\n"
          ]
        },
        {
          "output_type": "stream",
          "name": "stderr",
          "text": [
            "\n"
          ]
        },
        {
          "output_type": "stream",
          "name": "stdout",
          "text": [
            "\n",
            "      Epoch    GPU_mem   box_loss   cls_loss   dfl_loss  Instances       Size\n"
          ]
        },
        {
          "output_type": "stream",
          "name": "stderr",
          "text": [
            "    215/300      16.6G     0.4408     0.5519      2.017          8        800: 100%|██████████| 9/9 [00:02<00:00,  4.07it/s]\n",
            "                 Class     Images  Instances      Box(P          R      mAP50  mAP50-95): 100%|██████████| 3/3 [00:00<00:00, 10.14it/s]"
          ]
        },
        {
          "output_type": "stream",
          "name": "stdout",
          "text": [
            "                   all         33          8     0.0974       0.75      0.166      0.156\n"
          ]
        },
        {
          "output_type": "stream",
          "name": "stderr",
          "text": [
            "\n"
          ]
        },
        {
          "output_type": "stream",
          "name": "stdout",
          "text": [
            "\n",
            "      Epoch    GPU_mem   box_loss   cls_loss   dfl_loss  Instances       Size\n"
          ]
        },
        {
          "output_type": "stream",
          "name": "stderr",
          "text": [
            "    216/300      16.6G     0.5737     0.7561      2.337          5        800: 100%|██████████| 9/9 [00:02<00:00,  3.99it/s]\n",
            "                 Class     Images  Instances      Box(P          R      mAP50  mAP50-95): 100%|██████████| 3/3 [00:00<00:00, 10.07it/s]"
          ]
        },
        {
          "output_type": "stream",
          "name": "stdout",
          "text": [
            "                   all         33          8     0.0771          1      0.109      0.108\n"
          ]
        },
        {
          "output_type": "stream",
          "name": "stderr",
          "text": [
            "\n"
          ]
        },
        {
          "output_type": "stream",
          "name": "stdout",
          "text": [
            "\n",
            "      Epoch    GPU_mem   box_loss   cls_loss   dfl_loss  Instances       Size\n"
          ]
        },
        {
          "output_type": "stream",
          "name": "stderr",
          "text": [
            "    217/300      16.5G     0.4518      0.746       1.92         11        800: 100%|██████████| 9/9 [00:02<00:00,  4.05it/s]\n",
            "                 Class     Images  Instances      Box(P          R      mAP50  mAP50-95): 100%|██████████| 3/3 [00:00<00:00,  9.84it/s]"
          ]
        },
        {
          "output_type": "stream",
          "name": "stdout",
          "text": [
            "                   all         33          8     0.0672      0.875      0.125      0.125\n"
          ]
        },
        {
          "output_type": "stream",
          "name": "stderr",
          "text": [
            "\n"
          ]
        },
        {
          "output_type": "stream",
          "name": "stdout",
          "text": [
            "\n",
            "      Epoch    GPU_mem   box_loss   cls_loss   dfl_loss  Instances       Size\n"
          ]
        },
        {
          "output_type": "stream",
          "name": "stderr",
          "text": [
            "    218/300      16.5G     0.4128     0.5888      2.068          8        800: 100%|██████████| 9/9 [00:02<00:00,  4.01it/s]\n",
            "                 Class     Images  Instances      Box(P          R      mAP50  mAP50-95): 100%|██████████| 3/3 [00:00<00:00,  9.52it/s]"
          ]
        },
        {
          "output_type": "stream",
          "name": "stdout",
          "text": [
            "                   all         33          8     0.0593          1      0.141      0.139\n"
          ]
        },
        {
          "output_type": "stream",
          "name": "stderr",
          "text": [
            "\n"
          ]
        },
        {
          "output_type": "stream",
          "name": "stdout",
          "text": [
            "\n",
            "      Epoch    GPU_mem   box_loss   cls_loss   dfl_loss  Instances       Size\n"
          ]
        },
        {
          "output_type": "stream",
          "name": "stderr",
          "text": [
            "    219/300      16.6G     0.3942     0.5695      2.026         24        800: 100%|██████████| 9/9 [00:02<00:00,  4.00it/s]\n",
            "                 Class     Images  Instances      Box(P          R      mAP50  mAP50-95): 100%|██████████| 3/3 [00:00<00:00,  9.42it/s]"
          ]
        },
        {
          "output_type": "stream",
          "name": "stdout",
          "text": [
            "                   all         33          8      0.108        0.5      0.168      0.168\n"
          ]
        },
        {
          "output_type": "stream",
          "name": "stderr",
          "text": [
            "\n"
          ]
        },
        {
          "output_type": "stream",
          "name": "stdout",
          "text": [
            "\n",
            "      Epoch    GPU_mem   box_loss   cls_loss   dfl_loss  Instances       Size\n"
          ]
        },
        {
          "output_type": "stream",
          "name": "stderr",
          "text": [
            "    220/300      16.6G     0.4407     0.6009      1.999         14        800: 100%|██████████| 9/9 [00:02<00:00,  3.99it/s]\n",
            "                 Class     Images  Instances      Box(P          R      mAP50  mAP50-95): 100%|██████████| 3/3 [00:00<00:00, 10.02it/s]"
          ]
        },
        {
          "output_type": "stream",
          "name": "stdout",
          "text": [
            "                   all         33          8     0.0682          1      0.153      0.152\n",
            "Stopping training early as no improvement observed in last 100 epochs. Best results observed at epoch 120, best model saved as best.pt.\n",
            "To update EarlyStopping(patience=100) pass a new patience value, i.e. `patience=300` or use `patience=0` to disable EarlyStopping.\n"
          ]
        },
        {
          "output_type": "stream",
          "name": "stderr",
          "text": [
            "\n"
          ]
        },
        {
          "output_type": "stream",
          "name": "stdout",
          "text": [
            "\n",
            "220 epochs completed in 0.320 hours.\n",
            "Optimizer stripped from runs/obb/train5/weights/last.pt, 89.4MB\n",
            "Optimizer stripped from runs/obb/train5/weights/best.pt, 89.4MB\n",
            "\n",
            "Validating runs/obb/train5/weights/best.pt...\n",
            "Ultralytics YOLOv8.1.29 🚀 Python-3.10.12 torch-2.2.1+cu121 CUDA:0 (NVIDIA A100-SXM4-40GB, 40514MiB)\n",
            "YOLOv8l-obb summary (fused): 287 layers, 44458143 parameters, 0 gradients, 168.5 GFLOPs\n"
          ]
        },
        {
          "output_type": "stream",
          "name": "stderr",
          "text": [
            "                 Class     Images  Instances      Box(P          R      mAP50  mAP50-95): 100%|██████████| 3/3 [00:00<00:00,  8.19it/s]\n"
          ]
        },
        {
          "output_type": "stream",
          "name": "stdout",
          "text": [
            "                   all         33          8      0.351      0.683      0.404      0.394\n",
            "                Energy         33          2      0.166          1      0.199      0.179\n",
            "                 Sugar         33          2      0.113          1      0.662      0.662\n",
            "                   Fat         33          2      0.126      0.733      0.578      0.578\n",
            "                Sodium         33          2          1          0      0.176      0.159\n",
            "Speed: 0.2ms preprocess, 7.5ms inference, 0.0ms loss, 2.3ms postprocess per image\n",
            "Results saved to \u001b[1mruns/obb/train5\u001b[0m\n"
          ]
        }
      ]
    },
    {
      "cell_type": "code",
      "source": [
        "!cp -r /content/runs/obb/train5 /content/drive/MyDrive/SuperAI/Project/GDA/GDA-OBB/18032024/yolov8l-obb/train5"
      ],
      "metadata": {
        "id": "CsuslKmP-667"
      },
      "execution_count": null,
      "outputs": []
    },
    {
      "cell_type": "markdown",
      "source": [
        "๒"
      ],
      "metadata": {
        "id": "tB20gTIts6W4"
      }
    },
    {
      "cell_type": "markdown",
      "source": [
        "---"
      ],
      "metadata": {
        "id": "NvShIRkvzXfI"
      }
    },
    {
      "cell_type": "markdown",
      "source": [
        "# **Testing**"
      ],
      "metadata": {
        "id": "IJBYHWI6QxvT"
      }
    },
    {
      "cell_type": "code",
      "source": [
        "!pip install ultralytics"
      ],
      "metadata": {
        "colab": {
          "base_uri": "https://localhost:8080/"
        },
        "id": "cGf8MBh7T1VS",
        "outputId": "7cc545a2-235a-4812-ed11-1e1c836980ac"
      },
      "execution_count": null,
      "outputs": [
        {
          "output_type": "stream",
          "name": "stdout",
          "text": [
            "Collecting ultralytics\n",
            "  Downloading ultralytics-8.1.29-py3-none-any.whl (721 kB)\n",
            "\u001b[?25l     \u001b[90m━━━━━━━━━━━━━━━━━━━━━━━━━━━━━━━━━━━━━━━━\u001b[0m \u001b[32m0.0/721.3 kB\u001b[0m \u001b[31m?\u001b[0m eta \u001b[36m-:--:--\u001b[0m\r\u001b[2K     \u001b[91m━━━━━━━━━━━━━━\u001b[0m\u001b[90m╺\u001b[0m\u001b[90m━━━━━━━━━━━━━━━━━━━━━━━━━\u001b[0m \u001b[32m256.0/721.3 kB\u001b[0m \u001b[31m7.4 MB/s\u001b[0m eta \u001b[36m0:00:01\u001b[0m\r\u001b[2K     \u001b[90m━━━━━━━━━━━━━━━━━━━━━━━━━━━━━━━━━━━━━━━━\u001b[0m \u001b[32m721.3/721.3 kB\u001b[0m \u001b[31m12.4 MB/s\u001b[0m eta \u001b[36m0:00:00\u001b[0m\n",
            "\u001b[?25hRequirement already satisfied: matplotlib>=3.3.0 in /usr/local/lib/python3.10/dist-packages (from ultralytics) (3.7.1)\n",
            "Requirement already satisfied: opencv-python>=4.6.0 in /usr/local/lib/python3.10/dist-packages (from ultralytics) (4.8.0.76)\n",
            "Requirement already satisfied: pillow>=7.1.2 in /usr/local/lib/python3.10/dist-packages (from ultralytics) (9.4.0)\n",
            "Requirement already satisfied: pyyaml>=5.3.1 in /usr/local/lib/python3.10/dist-packages (from ultralytics) (6.0.1)\n",
            "Requirement already satisfied: requests>=2.23.0 in /usr/local/lib/python3.10/dist-packages (from ultralytics) (2.31.0)\n",
            "Requirement already satisfied: scipy>=1.4.1 in /usr/local/lib/python3.10/dist-packages (from ultralytics) (1.11.4)\n",
            "Requirement already satisfied: torch>=1.8.0 in /usr/local/lib/python3.10/dist-packages (from ultralytics) (2.2.1+cu121)\n",
            "Requirement already satisfied: torchvision>=0.9.0 in /usr/local/lib/python3.10/dist-packages (from ultralytics) (0.17.1+cu121)\n",
            "Requirement already satisfied: tqdm>=4.64.0 in /usr/local/lib/python3.10/dist-packages (from ultralytics) (4.66.2)\n",
            "Requirement already satisfied: psutil in /usr/local/lib/python3.10/dist-packages (from ultralytics) (5.9.5)\n",
            "Requirement already satisfied: py-cpuinfo in /usr/local/lib/python3.10/dist-packages (from ultralytics) (9.0.0)\n",
            "Collecting thop>=0.1.1 (from ultralytics)\n",
            "  Downloading thop-0.1.1.post2209072238-py3-none-any.whl (15 kB)\n",
            "Requirement already satisfied: pandas>=1.1.4 in /usr/local/lib/python3.10/dist-packages (from ultralytics) (1.5.3)\n",
            "Requirement already satisfied: seaborn>=0.11.0 in /usr/local/lib/python3.10/dist-packages (from ultralytics) (0.13.1)\n",
            "Requirement already satisfied: contourpy>=1.0.1 in /usr/local/lib/python3.10/dist-packages (from matplotlib>=3.3.0->ultralytics) (1.2.0)\n",
            "Requirement already satisfied: cycler>=0.10 in /usr/local/lib/python3.10/dist-packages (from matplotlib>=3.3.0->ultralytics) (0.12.1)\n",
            "Requirement already satisfied: fonttools>=4.22.0 in /usr/local/lib/python3.10/dist-packages (from matplotlib>=3.3.0->ultralytics) (4.49.0)\n",
            "Requirement already satisfied: kiwisolver>=1.0.1 in /usr/local/lib/python3.10/dist-packages (from matplotlib>=3.3.0->ultralytics) (1.4.5)\n",
            "Requirement already satisfied: numpy>=1.20 in /usr/local/lib/python3.10/dist-packages (from matplotlib>=3.3.0->ultralytics) (1.25.2)\n",
            "Requirement already satisfied: packaging>=20.0 in /usr/local/lib/python3.10/dist-packages (from matplotlib>=3.3.0->ultralytics) (24.0)\n",
            "Requirement already satisfied: pyparsing>=2.3.1 in /usr/local/lib/python3.10/dist-packages (from matplotlib>=3.3.0->ultralytics) (3.1.2)\n",
            "Requirement already satisfied: python-dateutil>=2.7 in /usr/local/lib/python3.10/dist-packages (from matplotlib>=3.3.0->ultralytics) (2.8.2)\n",
            "Requirement already satisfied: pytz>=2020.1 in /usr/local/lib/python3.10/dist-packages (from pandas>=1.1.4->ultralytics) (2023.4)\n",
            "Requirement already satisfied: charset-normalizer<4,>=2 in /usr/local/lib/python3.10/dist-packages (from requests>=2.23.0->ultralytics) (3.3.2)\n",
            "Requirement already satisfied: idna<4,>=2.5 in /usr/local/lib/python3.10/dist-packages (from requests>=2.23.0->ultralytics) (3.6)\n",
            "Requirement already satisfied: urllib3<3,>=1.21.1 in /usr/local/lib/python3.10/dist-packages (from requests>=2.23.0->ultralytics) (2.0.7)\n",
            "Requirement already satisfied: certifi>=2017.4.17 in /usr/local/lib/python3.10/dist-packages (from requests>=2.23.0->ultralytics) (2024.2.2)\n",
            "Requirement already satisfied: filelock in /usr/local/lib/python3.10/dist-packages (from torch>=1.8.0->ultralytics) (3.13.1)\n",
            "Requirement already satisfied: typing-extensions>=4.8.0 in /usr/local/lib/python3.10/dist-packages (from torch>=1.8.0->ultralytics) (4.10.0)\n",
            "Requirement already satisfied: sympy in /usr/local/lib/python3.10/dist-packages (from torch>=1.8.0->ultralytics) (1.12)\n",
            "Requirement already satisfied: networkx in /usr/local/lib/python3.10/dist-packages (from torch>=1.8.0->ultralytics) (3.2.1)\n",
            "Requirement already satisfied: jinja2 in /usr/local/lib/python3.10/dist-packages (from torch>=1.8.0->ultralytics) (3.1.3)\n",
            "Requirement already satisfied: fsspec in /usr/local/lib/python3.10/dist-packages (from torch>=1.8.0->ultralytics) (2023.6.0)\n",
            "Collecting nvidia-cuda-nvrtc-cu12==12.1.105 (from torch>=1.8.0->ultralytics)\n",
            "  Downloading nvidia_cuda_nvrtc_cu12-12.1.105-py3-none-manylinux1_x86_64.whl (23.7 MB)\n",
            "\u001b[2K     \u001b[90m━━━━━━━━━━━━━━━━━━━━━━━━━━━━━━━━━━━━━━━━\u001b[0m \u001b[32m23.7/23.7 MB\u001b[0m \u001b[31m66.5 MB/s\u001b[0m eta \u001b[36m0:00:00\u001b[0m\n",
            "\u001b[?25hCollecting nvidia-cuda-runtime-cu12==12.1.105 (from torch>=1.8.0->ultralytics)\n",
            "  Downloading nvidia_cuda_runtime_cu12-12.1.105-py3-none-manylinux1_x86_64.whl (823 kB)\n",
            "\u001b[2K     \u001b[90m━━━━━━━━━━━━━━━━━━━━━━━━━━━━━━━━━━━━━━━━\u001b[0m \u001b[32m823.6/823.6 kB\u001b[0m \u001b[31m59.9 MB/s\u001b[0m eta \u001b[36m0:00:00\u001b[0m\n",
            "\u001b[?25hCollecting nvidia-cuda-cupti-cu12==12.1.105 (from torch>=1.8.0->ultralytics)\n",
            "  Downloading nvidia_cuda_cupti_cu12-12.1.105-py3-none-manylinux1_x86_64.whl (14.1 MB)\n",
            "\u001b[2K     \u001b[90m━━━━━━━━━━━━━━━━━━━━━━━━━━━━━━━━━━━━━━━━\u001b[0m \u001b[32m14.1/14.1 MB\u001b[0m \u001b[31m86.6 MB/s\u001b[0m eta \u001b[36m0:00:00\u001b[0m\n",
            "\u001b[?25hCollecting nvidia-cudnn-cu12==8.9.2.26 (from torch>=1.8.0->ultralytics)\n",
            "  Downloading nvidia_cudnn_cu12-8.9.2.26-py3-none-manylinux1_x86_64.whl (731.7 MB)\n",
            "\u001b[2K     \u001b[90m━━━━━━━━━━━━━━━━━━━━━━━━━━━━━━━━━━━━━━━━\u001b[0m \u001b[32m731.7/731.7 MB\u001b[0m \u001b[31m2.4 MB/s\u001b[0m eta \u001b[36m0:00:00\u001b[0m\n",
            "\u001b[?25hCollecting nvidia-cublas-cu12==12.1.3.1 (from torch>=1.8.0->ultralytics)\n",
            "  Downloading nvidia_cublas_cu12-12.1.3.1-py3-none-manylinux1_x86_64.whl (410.6 MB)\n",
            "\u001b[2K     \u001b[90m━━━━━━━━━━━━━━━━━━━━━━━━━━━━━━━━━━━━━━━━\u001b[0m \u001b[32m410.6/410.6 MB\u001b[0m \u001b[31m3.1 MB/s\u001b[0m eta \u001b[36m0:00:00\u001b[0m\n",
            "\u001b[?25hCollecting nvidia-cufft-cu12==11.0.2.54 (from torch>=1.8.0->ultralytics)\n",
            "  Downloading nvidia_cufft_cu12-11.0.2.54-py3-none-manylinux1_x86_64.whl (121.6 MB)\n",
            "\u001b[2K     \u001b[90m━━━━━━━━━━━━━━━━━━━━━━━━━━━━━━━━━━━━━━━━\u001b[0m \u001b[32m121.6/121.6 MB\u001b[0m \u001b[31m14.0 MB/s\u001b[0m eta \u001b[36m0:00:00\u001b[0m\n",
            "\u001b[?25hCollecting nvidia-curand-cu12==10.3.2.106 (from torch>=1.8.0->ultralytics)\n",
            "  Downloading nvidia_curand_cu12-10.3.2.106-py3-none-manylinux1_x86_64.whl (56.5 MB)\n",
            "\u001b[2K     \u001b[90m━━━━━━━━━━━━━━━━━━━━━━━━━━━━━━━━━━━━━━━━\u001b[0m \u001b[32m56.5/56.5 MB\u001b[0m \u001b[31m30.4 MB/s\u001b[0m eta \u001b[36m0:00:00\u001b[0m\n",
            "\u001b[?25hCollecting nvidia-cusolver-cu12==11.4.5.107 (from torch>=1.8.0->ultralytics)\n",
            "  Downloading nvidia_cusolver_cu12-11.4.5.107-py3-none-manylinux1_x86_64.whl (124.2 MB)\n",
            "\u001b[2K     \u001b[90m━━━━━━━━━━━━━━━━━━━━━━━━━━━━━━━━━━━━━━━━\u001b[0m \u001b[32m124.2/124.2 MB\u001b[0m \u001b[31m7.6 MB/s\u001b[0m eta \u001b[36m0:00:00\u001b[0m\n",
            "\u001b[?25hCollecting nvidia-cusparse-cu12==12.1.0.106 (from torch>=1.8.0->ultralytics)\n",
            "  Downloading nvidia_cusparse_cu12-12.1.0.106-py3-none-manylinux1_x86_64.whl (196.0 MB)\n",
            "\u001b[2K     \u001b[90m━━━━━━━━━━━━━━━━━━━━━━━━━━━━━━━━━━━━━━━━\u001b[0m \u001b[32m196.0/196.0 MB\u001b[0m \u001b[31m4.0 MB/s\u001b[0m eta \u001b[36m0:00:00\u001b[0m\n",
            "\u001b[?25hCollecting nvidia-nccl-cu12==2.19.3 (from torch>=1.8.0->ultralytics)\n",
            "  Downloading nvidia_nccl_cu12-2.19.3-py3-none-manylinux1_x86_64.whl (166.0 MB)\n",
            "\u001b[2K     \u001b[90m━━━━━━━━━━━━━━━━━━━━━━━━━━━━━━━━━━━━━━━━\u001b[0m \u001b[32m166.0/166.0 MB\u001b[0m \u001b[31m11.2 MB/s\u001b[0m eta \u001b[36m0:00:00\u001b[0m\n",
            "\u001b[?25hCollecting nvidia-nvtx-cu12==12.1.105 (from torch>=1.8.0->ultralytics)\n",
            "  Downloading nvidia_nvtx_cu12-12.1.105-py3-none-manylinux1_x86_64.whl (99 kB)\n",
            "\u001b[2K     \u001b[90m━━━━━━━━━━━━━━━━━━━━━━━━━━━━━━━━━━━━━━━━\u001b[0m \u001b[32m99.1/99.1 kB\u001b[0m \u001b[31m15.8 MB/s\u001b[0m eta \u001b[36m0:00:00\u001b[0m\n",
            "\u001b[?25hRequirement already satisfied: triton==2.2.0 in /usr/local/lib/python3.10/dist-packages (from torch>=1.8.0->ultralytics) (2.2.0)\n",
            "Collecting nvidia-nvjitlink-cu12 (from nvidia-cusolver-cu12==11.4.5.107->torch>=1.8.0->ultralytics)\n",
            "  Downloading nvidia_nvjitlink_cu12-12.4.99-py3-none-manylinux2014_x86_64.whl (21.1 MB)\n",
            "\u001b[2K     \u001b[90m━━━━━━━━━━━━━━━━━━━━━━━━━━━━━━━━━━━━━━━━\u001b[0m \u001b[32m21.1/21.1 MB\u001b[0m \u001b[31m86.9 MB/s\u001b[0m eta \u001b[36m0:00:00\u001b[0m\n",
            "\u001b[?25hRequirement already satisfied: six>=1.5 in /usr/local/lib/python3.10/dist-packages (from python-dateutil>=2.7->matplotlib>=3.3.0->ultralytics) (1.16.0)\n",
            "Requirement already satisfied: MarkupSafe>=2.0 in /usr/local/lib/python3.10/dist-packages (from jinja2->torch>=1.8.0->ultralytics) (2.1.5)\n",
            "Requirement already satisfied: mpmath>=0.19 in /usr/local/lib/python3.10/dist-packages (from sympy->torch>=1.8.0->ultralytics) (1.3.0)\n",
            "Installing collected packages: nvidia-nvtx-cu12, nvidia-nvjitlink-cu12, nvidia-nccl-cu12, nvidia-curand-cu12, nvidia-cufft-cu12, nvidia-cuda-runtime-cu12, nvidia-cuda-nvrtc-cu12, nvidia-cuda-cupti-cu12, nvidia-cublas-cu12, nvidia-cusparse-cu12, nvidia-cudnn-cu12, nvidia-cusolver-cu12, thop, ultralytics\n",
            "Successfully installed nvidia-cublas-cu12-12.1.3.1 nvidia-cuda-cupti-cu12-12.1.105 nvidia-cuda-nvrtc-cu12-12.1.105 nvidia-cuda-runtime-cu12-12.1.105 nvidia-cudnn-cu12-8.9.2.26 nvidia-cufft-cu12-11.0.2.54 nvidia-curand-cu12-10.3.2.106 nvidia-cusolver-cu12-11.4.5.107 nvidia-cusparse-cu12-12.1.0.106 nvidia-nccl-cu12-2.19.3 nvidia-nvjitlink-cu12-12.4.99 nvidia-nvtx-cu12-12.1.105 thop-0.1.1.post2209072238 ultralytics-8.1.29\n"
          ]
        }
      ]
    },
    {
      "cell_type": "code",
      "source": [
        "from ultralytics import YOLO\n",
        "\n",
        "# Load the trained model\n",
        "# model = YOLO('/content/drive/MyDrive/SuperAI/Project/GDA/GDA-OBB/18032024/train/weights/best.pt')\n",
        "model = YOLO('/content/drive/MyDrive/SuperAI/Project/GDA/GDA-OBB/18032024/yolov8l-obb/train_ep-300_sz-800/weights/best.pt')\n"
      ],
      "metadata": {
        "id": "bOMLzrRezZoH"
      },
      "execution_count": null,
      "outputs": []
    },
    {
      "cell_type": "code",
      "source": [
        "# Perform inference on an image or a directory of images\n",
        "# results = model.predict('/content/drive/MyDrive/SuperAI/Project/GDA/test')\n",
        "results = model.predict('/content/drive/MyDrive/SuperAI/Project/GDA/GDA-OBB/images/train')"
      ],
      "metadata": {
        "id": "qhN7zcSXTyo7",
        "colab": {
          "base_uri": "https://localhost:8080/"
        },
        "outputId": "edd58256-9926-4064-cf6a-c8a44771f196"
      },
      "execution_count": null,
      "outputs": [
        {
          "output_type": "stream",
          "name": "stdout",
          "text": [
            "\n",
            "image 1/130 /content/drive/MyDrive/SuperAI/Project/GDA/GDA-OBB/images/train/0001.jpg: 800x608 82.8ms\n",
            "image 2/130 /content/drive/MyDrive/SuperAI/Project/GDA/GDA-OBB/images/train/0002.jpg: 800x608 82.8ms\n",
            "image 3/130 /content/drive/MyDrive/SuperAI/Project/GDA/GDA-OBB/images/train/0003.jpg: 800x608 83.1ms\n",
            "image 4/130 /content/drive/MyDrive/SuperAI/Project/GDA/GDA-OBB/images/train/0004.jpg: 800x608 82.8ms\n",
            "image 5/130 /content/drive/MyDrive/SuperAI/Project/GDA/GDA-OBB/images/train/0005.jpg: 800x608 79.3ms\n",
            "image 6/130 /content/drive/MyDrive/SuperAI/Project/GDA/GDA-OBB/images/train/0007.jpg: 608x800 82.1ms\n",
            "image 7/130 /content/drive/MyDrive/SuperAI/Project/GDA/GDA-OBB/images/train/0008.jpg: 800x608 84.0ms\n",
            "image 8/130 /content/drive/MyDrive/SuperAI/Project/GDA/GDA-OBB/images/train/0009.jpg: 800x608 79.3ms\n",
            "image 9/130 /content/drive/MyDrive/SuperAI/Project/GDA/GDA-OBB/images/train/0010.jpg: 608x800 79.6ms\n",
            "image 10/130 /content/drive/MyDrive/SuperAI/Project/GDA/GDA-OBB/images/train/0011.jpg: 608x800 78.5ms\n",
            "image 11/130 /content/drive/MyDrive/SuperAI/Project/GDA/GDA-OBB/images/train/0015.jpg: 608x800 78.5ms\n",
            "image 12/130 /content/drive/MyDrive/SuperAI/Project/GDA/GDA-OBB/images/train/0016.jpg: 608x800 78.5ms\n",
            "image 13/130 /content/drive/MyDrive/SuperAI/Project/GDA/GDA-OBB/images/train/0017.jpg: 608x800 78.4ms\n",
            "image 14/130 /content/drive/MyDrive/SuperAI/Project/GDA/GDA-OBB/images/train/0020.jpg: 800x608 83.8ms\n",
            "image 15/130 /content/drive/MyDrive/SuperAI/Project/GDA/GDA-OBB/images/train/0022.jpg: 800x608 79.3ms\n",
            "image 16/130 /content/drive/MyDrive/SuperAI/Project/GDA/GDA-OBB/images/train/0023.jpg: 800x608 82.8ms\n",
            "image 17/130 /content/drive/MyDrive/SuperAI/Project/GDA/GDA-OBB/images/train/0024.jpg: 800x608 82.9ms\n",
            "image 18/130 /content/drive/MyDrive/SuperAI/Project/GDA/GDA-OBB/images/train/0026.jpg: 800x608 82.8ms\n",
            "image 19/130 /content/drive/MyDrive/SuperAI/Project/GDA/GDA-OBB/images/train/0029.jpg: 800x608 79.3ms\n",
            "image 20/130 /content/drive/MyDrive/SuperAI/Project/GDA/GDA-OBB/images/train/0030.jpg: 800x608 82.8ms\n",
            "image 21/130 /content/drive/MyDrive/SuperAI/Project/GDA/GDA-OBB/images/train/0031.jpg: 800x608 79.3ms\n",
            "image 22/130 /content/drive/MyDrive/SuperAI/Project/GDA/GDA-OBB/images/train/0032.jpg: 800x608 82.8ms\n",
            "image 23/130 /content/drive/MyDrive/SuperAI/Project/GDA/GDA-OBB/images/train/0034.jpg: 800x608 82.8ms\n",
            "image 24/130 /content/drive/MyDrive/SuperAI/Project/GDA/GDA-OBB/images/train/0036.jpg: 800x608 79.3ms\n",
            "image 25/130 /content/drive/MyDrive/SuperAI/Project/GDA/GDA-OBB/images/train/0037.jpg: 800x608 82.8ms\n",
            "image 26/130 /content/drive/MyDrive/SuperAI/Project/GDA/GDA-OBB/images/train/0038.jpg: 800x608 82.8ms\n",
            "image 27/130 /content/drive/MyDrive/SuperAI/Project/GDA/GDA-OBB/images/train/0043.jpg: 800x608 79.3ms\n",
            "image 28/130 /content/drive/MyDrive/SuperAI/Project/GDA/GDA-OBB/images/train/0047.jpg: 800x608 82.8ms\n",
            "image 29/130 /content/drive/MyDrive/SuperAI/Project/GDA/GDA-OBB/images/train/0048.jpg: 800x608 82.8ms\n",
            "image 30/130 /content/drive/MyDrive/SuperAI/Project/GDA/GDA-OBB/images/train/0050.jpg: 800x608 79.3ms\n",
            "image 31/130 /content/drive/MyDrive/SuperAI/Project/GDA/GDA-OBB/images/train/0052.jpg: 800x608 82.8ms\n",
            "image 32/130 /content/drive/MyDrive/SuperAI/Project/GDA/GDA-OBB/images/train/0054.jpg: 800x608 79.3ms\n",
            "image 33/130 /content/drive/MyDrive/SuperAI/Project/GDA/GDA-OBB/images/train/0058.jpg: 800x608 82.8ms\n",
            "image 34/130 /content/drive/MyDrive/SuperAI/Project/GDA/GDA-OBB/images/train/0059.jpg: 800x608 82.8ms\n",
            "image 35/130 /content/drive/MyDrive/SuperAI/Project/GDA/GDA-OBB/images/train/0060.jpg: 800x608 82.9ms\n",
            "image 36/130 /content/drive/MyDrive/SuperAI/Project/GDA/GDA-OBB/images/train/0062.jpg: 800x608 82.8ms\n",
            "image 37/130 /content/drive/MyDrive/SuperAI/Project/GDA/GDA-OBB/images/train/0063.jpg: 800x608 82.8ms\n",
            "image 38/130 /content/drive/MyDrive/SuperAI/Project/GDA/GDA-OBB/images/train/0067.jpg: 800x608 82.8ms\n",
            "image 39/130 /content/drive/MyDrive/SuperAI/Project/GDA/GDA-OBB/images/train/0071.jpg: 800x608 82.9ms\n",
            "image 40/130 /content/drive/MyDrive/SuperAI/Project/GDA/GDA-OBB/images/train/0073.jpg: 800x608 79.4ms\n",
            "image 41/130 /content/drive/MyDrive/SuperAI/Project/GDA/GDA-OBB/images/train/0075.jpg: 800x608 82.9ms\n",
            "image 42/130 /content/drive/MyDrive/SuperAI/Project/GDA/GDA-OBB/images/train/0077.jpg: 800x608 82.8ms\n",
            "image 43/130 /content/drive/MyDrive/SuperAI/Project/GDA/GDA-OBB/images/train/0078.jpg: 800x608 82.8ms\n",
            "image 44/130 /content/drive/MyDrive/SuperAI/Project/GDA/GDA-OBB/images/train/0081.jpg: 800x608 82.8ms\n",
            "image 45/130 /content/drive/MyDrive/SuperAI/Project/GDA/GDA-OBB/images/train/0082.jpg: 800x608 82.8ms\n",
            "image 46/130 /content/drive/MyDrive/SuperAI/Project/GDA/GDA-OBB/images/train/0084.jpg: 800x608 79.3ms\n",
            "image 47/130 /content/drive/MyDrive/SuperAI/Project/GDA/GDA-OBB/images/train/0087.jpg: 800x384 87.8ms\n",
            "image 48/130 /content/drive/MyDrive/SuperAI/Project/GDA/GDA-OBB/images/train/0088.jpg: 800x384 33.7ms\n",
            "image 49/130 /content/drive/MyDrive/SuperAI/Project/GDA/GDA-OBB/images/train/0090.jpg: 800x384 33.7ms\n",
            "image 50/130 /content/drive/MyDrive/SuperAI/Project/GDA/GDA-OBB/images/train/0093.jpg: 800x384 33.5ms\n",
            "image 51/130 /content/drive/MyDrive/SuperAI/Project/GDA/GDA-OBB/images/train/0095.jpg: 800x384 28.2ms\n",
            "image 52/130 /content/drive/MyDrive/SuperAI/Project/GDA/GDA-OBB/images/train/0097.jpg: 800x384 28.3ms\n",
            "image 53/130 /content/drive/MyDrive/SuperAI/Project/GDA/GDA-OBB/images/train/0099.jpg: 800x384 27.5ms\n",
            "image 54/130 /content/drive/MyDrive/SuperAI/Project/GDA/GDA-OBB/images/train/0100.jpg: 800x384 27.1ms\n",
            "image 55/130 /content/drive/MyDrive/SuperAI/Project/GDA/GDA-OBB/images/train/0102.jpg: 800x608 43.1ms\n",
            "image 56/130 /content/drive/MyDrive/SuperAI/Project/GDA/GDA-OBB/images/train/0104.jpg: 800x608 82.8ms\n",
            "image 57/130 /content/drive/MyDrive/SuperAI/Project/GDA/GDA-OBB/images/train/0106.jpg: 800x608 79.3ms\n",
            "image 58/130 /content/drive/MyDrive/SuperAI/Project/GDA/GDA-OBB/images/train/0107.jpg: 800x608 82.8ms\n",
            "image 59/130 /content/drive/MyDrive/SuperAI/Project/GDA/GDA-OBB/images/train/0108.jpg: 800x608 79.3ms\n",
            "image 60/130 /content/drive/MyDrive/SuperAI/Project/GDA/GDA-OBB/images/train/0110.jpg: 800x608 82.8ms\n",
            "image 61/130 /content/drive/MyDrive/SuperAI/Project/GDA/GDA-OBB/images/train/0111.jpg: 800x608 79.3ms\n",
            "image 62/130 /content/drive/MyDrive/SuperAI/Project/GDA/GDA-OBB/images/train/0113.jpg: 608x800 79.9ms\n",
            "image 63/130 /content/drive/MyDrive/SuperAI/Project/GDA/GDA-OBB/images/train/0118.jpg: 800x608 84.0ms\n",
            "image 64/130 /content/drive/MyDrive/SuperAI/Project/GDA/GDA-OBB/images/train/0119.jpg: 800x608 82.9ms\n",
            "image 65/130 /content/drive/MyDrive/SuperAI/Project/GDA/GDA-OBB/images/train/0120.jpg: 800x608 82.9ms\n",
            "image 66/130 /content/drive/MyDrive/SuperAI/Project/GDA/GDA-OBB/images/train/0121.jpg: 800x608 79.3ms\n",
            "image 67/130 /content/drive/MyDrive/SuperAI/Project/GDA/GDA-OBB/images/train/0122.jpg: 800x608 83.0ms\n",
            "image 68/130 /content/drive/MyDrive/SuperAI/Project/GDA/GDA-OBB/images/train/0125.jpg: 800x608 79.3ms\n",
            "image 69/130 /content/drive/MyDrive/SuperAI/Project/GDA/GDA-OBB/images/train/0127.jpg: 800x608 82.8ms\n",
            "image 70/130 /content/drive/MyDrive/SuperAI/Project/GDA/GDA-OBB/images/train/0129.jpg: 800x608 79.3ms\n",
            "image 71/130 /content/drive/MyDrive/SuperAI/Project/GDA/GDA-OBB/images/train/0131.jpg: 800x608 82.8ms\n",
            "image 72/130 /content/drive/MyDrive/SuperAI/Project/GDA/GDA-OBB/images/train/0133.jpg: 800x608 82.9ms\n",
            "image 73/130 /content/drive/MyDrive/SuperAI/Project/GDA/GDA-OBB/images/train/1710651065474.jpg: 800x608 82.7ms\n",
            "image 74/130 /content/drive/MyDrive/SuperAI/Project/GDA/GDA-OBB/images/train/1710651066600.jpg: 800x608 63.1ms\n",
            "image 75/130 /content/drive/MyDrive/SuperAI/Project/GDA/GDA-OBB/images/train/1710651066958.jpg: 800x608 51.1ms\n",
            "image 76/130 /content/drive/MyDrive/SuperAI/Project/GDA/GDA-OBB/images/train/1710651067622.jpg: 800x608 50.0ms\n",
            "image 77/130 /content/drive/MyDrive/SuperAI/Project/GDA/GDA-OBB/images/train/1710651067733.jpg: 800x608 41.8ms\n",
            "image 78/130 /content/drive/MyDrive/SuperAI/Project/GDA/GDA-OBB/images/train/1710651067797.jpg: 800x608 39.9ms\n",
            "image 79/130 /content/drive/MyDrive/SuperAI/Project/GDA/GDA-OBB/images/train/1710651067863.jpg: 800x608 41.4ms\n",
            "image 80/130 /content/drive/MyDrive/SuperAI/Project/GDA/GDA-OBB/images/train/1710651083794.jpg: 800x608 42.0ms\n",
            "image 81/130 /content/drive/MyDrive/SuperAI/Project/GDA/GDA-OBB/images/train/1710651084145.jpg: 800x608 40.8ms\n",
            "image 82/130 /content/drive/MyDrive/SuperAI/Project/GDA/GDA-OBB/images/train/1710651084526.jpg: 800x608 41.3ms\n",
            "image 83/130 /content/drive/MyDrive/SuperAI/Project/GDA/GDA-OBB/images/train/1710651085715.jpg: 800x608 40.4ms\n",
            "image 84/130 /content/drive/MyDrive/SuperAI/Project/GDA/GDA-OBB/images/train/1710651085757.jpg: 800x608 41.5ms\n",
            "image 85/130 /content/drive/MyDrive/SuperAI/Project/GDA/GDA-OBB/images/train/1710651085799.jpg: 800x608 40.6ms\n",
            "image 86/130 /content/drive/MyDrive/SuperAI/Project/GDA/GDA-OBB/images/train/20240315_181811.jpg: 800x608 39.1ms\n",
            "image 87/130 /content/drive/MyDrive/SuperAI/Project/GDA/GDA-OBB/images/train/20240315_181915.jpg: 800x608 79.2ms\n",
            "image 88/130 /content/drive/MyDrive/SuperAI/Project/GDA/GDA-OBB/images/train/20240315_182038.jpg: 800x608 82.8ms\n",
            "image 89/130 /content/drive/MyDrive/SuperAI/Project/GDA/GDA-OBB/images/train/20240315_182121.jpg: 800x608 82.8ms\n",
            "image 90/130 /content/drive/MyDrive/SuperAI/Project/GDA/GDA-OBB/images/train/20240315_182133.jpg: 800x608 82.8ms\n",
            "image 91/130 /content/drive/MyDrive/SuperAI/Project/GDA/GDA-OBB/images/train/20240315_182211.jpg: 800x608 79.3ms\n",
            "image 92/130 /content/drive/MyDrive/SuperAI/Project/GDA/GDA-OBB/images/train/20240315_182225.jpg: 800x608 82.8ms\n",
            "image 93/130 /content/drive/MyDrive/SuperAI/Project/GDA/GDA-OBB/images/train/20240315_182240.jpg: 800x608 79.3ms\n",
            "image 94/130 /content/drive/MyDrive/SuperAI/Project/GDA/GDA-OBB/images/train/20240315_182254.jpg: 800x608 82.9ms\n",
            "image 95/130 /content/drive/MyDrive/SuperAI/Project/GDA/GDA-OBB/images/train/20240315_182259.jpg: 800x608 82.8ms\n",
            "image 96/130 /content/drive/MyDrive/SuperAI/Project/GDA/GDA-OBB/images/train/20240315_182754.jpg: 800x608 79.3ms\n",
            "image 97/130 /content/drive/MyDrive/SuperAI/Project/GDA/GDA-OBB/images/train/20240315_182758.jpg: 800x608 82.8ms\n",
            "image 98/130 /content/drive/MyDrive/SuperAI/Project/GDA/GDA-OBB/images/train/20240315_182804.jpg: 800x608 82.8ms\n",
            "image 99/130 /content/drive/MyDrive/SuperAI/Project/GDA/GDA-OBB/images/train/20240315_182809.jpg: 800x608 82.8ms\n",
            "image 100/130 /content/drive/MyDrive/SuperAI/Project/GDA/GDA-OBB/images/train/20240316_181117.jpg: 800x608 82.9ms\n",
            "image 101/130 /content/drive/MyDrive/SuperAI/Project/GDA/GDA-OBB/images/train/20240316_181126.jpg: 800x608 82.8ms\n",
            "image 102/130 /content/drive/MyDrive/SuperAI/Project/GDA/GDA-OBB/images/train/20240316_181311.jpg: 800x608 82.9ms\n",
            "image 103/130 /content/drive/MyDrive/SuperAI/Project/GDA/GDA-OBB/images/train/20240316_181321.jpg: 800x608 79.3ms\n",
            "image 104/130 /content/drive/MyDrive/SuperAI/Project/GDA/GDA-OBB/images/train/20240316_181330.jpg: 800x608 82.8ms\n",
            "image 105/130 /content/drive/MyDrive/SuperAI/Project/GDA/GDA-OBB/images/train/20240316_181341.jpg: 800x608 82.8ms\n",
            "image 106/130 /content/drive/MyDrive/SuperAI/Project/GDA/GDA-OBB/images/train/20240316_181429.jpg: 800x608 82.8ms\n",
            "image 107/130 /content/drive/MyDrive/SuperAI/Project/GDA/GDA-OBB/images/train/20240316_181435.jpg: 800x608 79.3ms\n",
            "image 108/130 /content/drive/MyDrive/SuperAI/Project/GDA/GDA-OBB/images/train/20240316_181451.jpg: 800x608 82.8ms\n",
            "image 109/130 /content/drive/MyDrive/SuperAI/Project/GDA/GDA-OBB/images/train/20240316_181558.jpg: 800x608 79.3ms\n",
            "image 110/130 /content/drive/MyDrive/SuperAI/Project/GDA/GDA-OBB/images/train/20240316_181706.jpg: 800x608 82.8ms\n",
            "image 111/130 /content/drive/MyDrive/SuperAI/Project/GDA/GDA-OBB/images/train/20240316_181734.jpg: 608x800 76.4ms\n",
            "image 112/130 /content/drive/MyDrive/SuperAI/Project/GDA/GDA-OBB/images/train/20240316_181811.jpg: 800x608 84.1ms\n",
            "image 113/130 /content/drive/MyDrive/SuperAI/Project/GDA/GDA-OBB/images/train/20240316_182042.jpg: 800x608 82.8ms\n",
            "image 114/130 /content/drive/MyDrive/SuperAI/Project/GDA/GDA-OBB/images/train/20240316_182137.jpg: 800x608 79.3ms\n",
            "image 115/130 /content/drive/MyDrive/SuperAI/Project/GDA/GDA-OBB/images/train/20240316_182251.jpg: 800x608 82.8ms\n",
            "image 116/130 /content/drive/MyDrive/SuperAI/Project/GDA/GDA-OBB/images/train/20240316_182403.jpg: 800x608 79.3ms\n",
            "image 117/130 /content/drive/MyDrive/SuperAI/Project/GDA/GDA-OBB/images/train/20240316_182637.jpg: 800x608 82.8ms\n",
            "image 118/130 /content/drive/MyDrive/SuperAI/Project/GDA/GDA-OBB/images/train/20240316_182726.jpg: 800x608 79.3ms\n",
            "image 119/130 /content/drive/MyDrive/SuperAI/Project/GDA/GDA-OBB/images/train/IMG20240315125457.jpg: 800x608 83.3ms\n",
            "image 120/130 /content/drive/MyDrive/SuperAI/Project/GDA/GDA-OBB/images/train/IMG20240316181104.jpg: 800x608 79.3ms\n",
            "image 121/130 /content/drive/MyDrive/SuperAI/Project/GDA/GDA-OBB/images/train/IMG20240316181208.jpg: 800x608 82.8ms\n",
            "image 122/130 /content/drive/MyDrive/SuperAI/Project/GDA/GDA-OBB/images/train/IMG20240316181435.jpg: 800x608 82.9ms\n",
            "image 123/130 /content/drive/MyDrive/SuperAI/Project/GDA/GDA-OBB/images/train/IMG20240316181638.jpg: 800x608 79.3ms\n",
            "image 124/130 /content/drive/MyDrive/SuperAI/Project/GDA/GDA-OBB/images/train/IMG20240316181732.jpg: 800x608 82.9ms\n",
            "image 125/130 /content/drive/MyDrive/SuperAI/Project/GDA/GDA-OBB/images/train/IMG20240316181830.jpg: 608x800 79.3ms\n",
            "image 126/130 /content/drive/MyDrive/SuperAI/Project/GDA/GDA-OBB/images/train/IMG20240316182034.jpg: 800x608 83.9ms\n",
            "image 127/130 /content/drive/MyDrive/SuperAI/Project/GDA/GDA-OBB/images/train/IMG20240316182130.jpg: 608x800 78.1ms\n",
            "image 128/130 /content/drive/MyDrive/SuperAI/Project/GDA/GDA-OBB/images/train/IMG20240316182243.jpg: 608x800 78.5ms\n",
            "image 129/130 /content/drive/MyDrive/SuperAI/Project/GDA/GDA-OBB/images/train/IMG20240316182405.jpg: 800x608 84.9ms\n",
            "image 130/130 /content/drive/MyDrive/SuperAI/Project/GDA/GDA-OBB/images/train/IMG_20240315_125548.jpg: 800x608 79.3ms\n",
            "Speed: 4.1ms preprocess, 74.8ms inference, 2.6ms postprocess per image at shape (1, 3, 800, 608)\n"
          ]
        }
      ]
    },
    {
      "cell_type": "markdown",
      "source": [
        "# Crops and draw OBB"
      ],
      "metadata": {
        "id": "0tUyILUxMT4D"
      }
    },
    {
      "cell_type": "markdown",
      "source": [
        "###  plot only one oriented bounding box (OBB) per class"
      ],
      "metadata": {
        "id": "-RdsOOmatBme"
      }
    },
    {
      "cell_type": "code",
      "source": [
        "import cv2\n",
        "import numpy as np\n",
        "import os\n",
        "\n",
        "def save_crops_and_draw_obb(result, save_dir, crops_dir):\n",
        "    os.makedirs(save_dir, exist_ok=True)\n",
        "    os.makedirs(crops_dir, exist_ok=True)\n",
        "\n",
        "    colors = {0: (0, 0, 255),    # Red\n",
        "              1: (255, 255, 100), # Blue\n",
        "              2: (0, 255, 255),  # Green\n",
        "              3: (147, 100, 200)}  # Pink\n",
        "\n",
        "    orig_image_for_cropping = result.orig_img.copy()\n",
        "    image_for_drawing = result.orig_img.copy()\n",
        "\n",
        "    drawn_classes = set()  # Track drawn classes to ensure only one OBB per class\n",
        "\n",
        "    if result.obb.xyxyxyxy.numel() > 0:\n",
        "        obbs = result.obb.xyxyxyxy.cpu().numpy()\n",
        "        aabbs = result.obb.xyxy.cpu().numpy()\n",
        "        classes = result.obb.cls.cpu().numpy()\n",
        "        confidences = result.obb.conf.cpu().numpy()\n",
        "\n",
        "        original_basename = os.path.splitext(os.path.basename(result.path))[0]\n",
        "\n",
        "        for i, (obb, aabb, cls_id, conf) in enumerate(zip(obbs, aabbs, classes, confidences)):\n",
        "            if conf >= 0.2 and cls_id not in drawn_classes:\n",
        "                # Mark the class as drawn\n",
        "                drawn_classes.add(cls_id)\n",
        "\n",
        "                crop_filename = f\"{original_basename}_class_{cls_id}_crop_{i}.jpg\"\n",
        "                crop_path = os.path.join(crops_dir, crop_filename)\n",
        "                x1, y1, x2, y2 = map(int, aabb)\n",
        "\n",
        "                if x1 < x2 and y1 < y2 and x1 >= 0 and y1 >= 0 and x2 <= orig_image_for_cropping.shape[1] and y2 <= orig_image_for_cropping.shape[0]:\n",
        "                    crop = orig_image_for_cropping[y1:y2, x1:x2]\n",
        "                    if crop.size > 0:\n",
        "                        cv2.imwrite(crop_path, crop)\n",
        "                    else:\n",
        "                        print(f\"Empty crop detected for image {crop_filename}, skipping.\")\n",
        "                else:\n",
        "                    print(f\"Invalid crop coordinates for image {crop_filename}, skipping.\")\n",
        "\n",
        "                color = colors.get(cls_id, (255, 255, 255))\n",
        "                print(f\"Image: {crop_filename}, Class: {cls_id}, Confidence: {conf:.2f}\")\n",
        "                points = obb.reshape((-1, 1, 2)).astype(np.int32)\n",
        "                cv2.polylines(image_for_drawing, [points], isClosed=True, color=color, thickness=10)\n",
        "            elif conf >= 0.2:\n",
        "                print(f\"Class {cls_id} already drawn, skipping additional OBB.\")\n",
        "            else:\n",
        "                print(f\"Confidence is {conf:.2f} (Class {cls_id}), skipping additional OBB.\")\n",
        "\n",
        "\n",
        "    save_path = os.path.join(save_dir, os.path.basename(result.path))\n",
        "    cv2.imwrite(save_path, image_for_drawing)\n",
        "\n",
        "\n",
        "# Assuming `results` is defined and contains the results you want to process\n",
        "# save_dir = '/content/drive/MyDrive/SuperAI/Project/GDA/GDA-OBB/18032024/yolov8l-obb/test-obb_results'\n",
        "# crops_dir = '/content/drive/MyDrive/SuperAI/Project/GDA/GDA-OBB/18032024/yolov8l-obb/test-crops'\n",
        "save_dir = '/content/drive/MyDrive/SuperAI/Project/GDA/GDA-OBB/18032024/yolov8l-obb/train-obb_results'\n",
        "crops_dir = '/content/drive/MyDrive/SuperAI/Project/GDA/GDA-OBB/18032024/yolov8l-obb/train-crops'\n",
        "\n",
        "for result in results:\n",
        "    save_crops_and_draw_obb(result, save_dir, crops_dir)\n"
      ],
      "metadata": {
        "colab": {
          "base_uri": "https://localhost:8080/"
        },
        "id": "RaCjTrWdskNd",
        "outputId": "8acdde67-af31-4bd3-9f21-ca5558e70084"
      },
      "execution_count": null,
      "outputs": [
        {
          "output_type": "stream",
          "name": "stdout",
          "text": [
            "Image: 0001_class_1.0_crop_0.jpg, Class: 1.0, Confidence: 0.75\n",
            "Image: 0001_class_0.0_crop_1.jpg, Class: 0.0, Confidence: 0.74\n",
            "Image: 0001_class_2.0_crop_2.jpg, Class: 2.0, Confidence: 0.57\n",
            "Image: 0001_class_3.0_crop_3.jpg, Class: 3.0, Confidence: 0.55\n",
            "Image: 0002_class_2.0_crop_0.jpg, Class: 2.0, Confidence: 0.83\n",
            "Image: 0002_class_1.0_crop_1.jpg, Class: 1.0, Confidence: 0.78\n",
            "Image: 0002_class_0.0_crop_2.jpg, Class: 0.0, Confidence: 0.78\n",
            "Image: 0002_class_3.0_crop_3.jpg, Class: 3.0, Confidence: 0.52\n",
            "Class 0.0 already drawn, skipping additional OBB.\n",
            "Image: 0003_class_1.0_crop_0.jpg, Class: 1.0, Confidence: 0.73\n",
            "Image: 0003_class_0.0_crop_1.jpg, Class: 0.0, Confidence: 0.71\n",
            "Image: 0003_class_3.0_crop_2.jpg, Class: 3.0, Confidence: 0.64\n",
            "Image: 0003_class_2.0_crop_3.jpg, Class: 2.0, Confidence: 0.62\n",
            "Image: 0004_class_0.0_crop_0.jpg, Class: 0.0, Confidence: 0.83\n",
            "Image: 0004_class_1.0_crop_1.jpg, Class: 1.0, Confidence: 0.83\n",
            "Image: 0004_class_2.0_crop_2.jpg, Class: 2.0, Confidence: 0.78\n",
            "Image: 0004_class_3.0_crop_3.jpg, Class: 3.0, Confidence: 0.55\n",
            "Image: 0005_class_1.0_crop_0.jpg, Class: 1.0, Confidence: 0.67\n",
            "Image: 0005_class_0.0_crop_1.jpg, Class: 0.0, Confidence: 0.66\n",
            "Class 0.0 already drawn, skipping additional OBB.\n",
            "Image: 0005_class_2.0_crop_3.jpg, Class: 2.0, Confidence: 0.59\n",
            "Class 2.0 already drawn, skipping additional OBB.\n",
            "Image: 0007_class_1.0_crop_0.jpg, Class: 1.0, Confidence: 0.88\n",
            "Image: 0007_class_0.0_crop_1.jpg, Class: 0.0, Confidence: 0.83\n",
            "Image: 0007_class_3.0_crop_2.jpg, Class: 3.0, Confidence: 0.68\n",
            "Image: 0007_class_2.0_crop_3.jpg, Class: 2.0, Confidence: 0.66\n",
            "Image: 0008_class_0.0_crop_0.jpg, Class: 0.0, Confidence: 0.90\n",
            "Image: 0008_class_1.0_crop_1.jpg, Class: 1.0, Confidence: 0.88\n",
            "Image: 0008_class_2.0_crop_2.jpg, Class: 2.0, Confidence: 0.85\n",
            "Image: 0008_class_3.0_crop_3.jpg, Class: 3.0, Confidence: 0.64\n",
            "Class 2.0 already drawn, skipping additional OBB.\n",
            "Image: 0009_class_0.0_crop_0.jpg, Class: 0.0, Confidence: 0.88\n",
            "Image: 0009_class_1.0_crop_1.jpg, Class: 1.0, Confidence: 0.85\n",
            "Image: 0009_class_2.0_crop_2.jpg, Class: 2.0, Confidence: 0.82\n",
            "Image: 0009_class_3.0_crop_3.jpg, Class: 3.0, Confidence: 0.55\n",
            "Image: 0010_class_1.0_crop_0.jpg, Class: 1.0, Confidence: 0.88\n",
            "Image: 0010_class_3.0_crop_1.jpg, Class: 3.0, Confidence: 0.78\n",
            "Image: 0010_class_2.0_crop_2.jpg, Class: 2.0, Confidence: 0.78\n",
            "Image: 0010_class_0.0_crop_3.jpg, Class: 0.0, Confidence: 0.73\n",
            "Image: 0011_class_1.0_crop_0.jpg, Class: 1.0, Confidence: 0.74\n",
            "Image: 0011_class_0.0_crop_1.jpg, Class: 0.0, Confidence: 0.61\n",
            "Image: 0011_class_3.0_crop_2.jpg, Class: 3.0, Confidence: 0.60\n",
            "Image: 0011_class_2.0_crop_3.jpg, Class: 2.0, Confidence: 0.41\n",
            "Image: 0015_class_1.0_crop_0.jpg, Class: 1.0, Confidence: 0.78\n",
            "Image: 0015_class_0.0_crop_1.jpg, Class: 0.0, Confidence: 0.76\n",
            "Class 1.0 already drawn, skipping additional OBB.\n",
            "Image: 0015_class_2.0_crop_3.jpg, Class: 2.0, Confidence: 0.46\n",
            "Image: 0015_class_3.0_crop_4.jpg, Class: 3.0, Confidence: 0.45\n",
            "Class 0.0 already drawn, skipping additional OBB.\n",
            "Image: 0016_class_1.0_crop_0.jpg, Class: 1.0, Confidence: 0.84\n",
            "Image: 0016_class_2.0_crop_1.jpg, Class: 2.0, Confidence: 0.68\n",
            "Image: 0016_class_0.0_crop_2.jpg, Class: 0.0, Confidence: 0.68\n",
            "Image: 0016_class_3.0_crop_3.jpg, Class: 3.0, Confidence: 0.55\n",
            "Image: 0017_class_3.0_crop_0.jpg, Class: 3.0, Confidence: 0.73\n",
            "Image: 0017_class_1.0_crop_1.jpg, Class: 1.0, Confidence: 0.68\n",
            "Image: 0017_class_0.0_crop_2.jpg, Class: 0.0, Confidence: 0.67\n",
            "Image: 0017_class_2.0_crop_3.jpg, Class: 2.0, Confidence: 0.66\n",
            "Image: 0020_class_1.0_crop_0.jpg, Class: 1.0, Confidence: 0.92\n",
            "Image: 0020_class_0.0_crop_1.jpg, Class: 0.0, Confidence: 0.85\n",
            "Image: 0020_class_2.0_crop_2.jpg, Class: 2.0, Confidence: 0.75\n",
            "Image: 0020_class_3.0_crop_3.jpg, Class: 3.0, Confidence: 0.68\n",
            "Image: 0022_class_1.0_crop_0.jpg, Class: 1.0, Confidence: 0.87\n",
            "Image: 0022_class_2.0_crop_1.jpg, Class: 2.0, Confidence: 0.75\n",
            "Image: 0022_class_0.0_crop_2.jpg, Class: 0.0, Confidence: 0.74\n",
            "Image: 0022_class_3.0_crop_3.jpg, Class: 3.0, Confidence: 0.73\n",
            "Image: 0023_class_3.0_crop_0.jpg, Class: 3.0, Confidence: 0.68\n",
            "Image: 0023_class_2.0_crop_1.jpg, Class: 2.0, Confidence: 0.56\n",
            "Image: 0023_class_1.0_crop_2.jpg, Class: 1.0, Confidence: 0.49\n",
            "Image: 0023_class_0.0_crop_3.jpg, Class: 0.0, Confidence: 0.30\n",
            "Class 1.0 already drawn, skipping additional OBB.\n",
            "Image: 0024_class_0.0_crop_0.jpg, Class: 0.0, Confidence: 0.81\n",
            "Image: 0024_class_1.0_crop_1.jpg, Class: 1.0, Confidence: 0.80\n",
            "Image: 0024_class_3.0_crop_2.jpg, Class: 3.0, Confidence: 0.68\n",
            "Image: 0024_class_2.0_crop_3.jpg, Class: 2.0, Confidence: 0.54\n",
            "Image: 0026_class_1.0_crop_0.jpg, Class: 1.0, Confidence: 0.76\n",
            "Image: 0026_class_2.0_crop_1.jpg, Class: 2.0, Confidence: 0.70\n",
            "Image: 0026_class_0.0_crop_2.jpg, Class: 0.0, Confidence: 0.62\n",
            "Image: 0026_class_3.0_crop_3.jpg, Class: 3.0, Confidence: 0.45\n",
            "Image: 0029_class_1.0_crop_0.jpg, Class: 1.0, Confidence: 0.80\n",
            "Image: 0029_class_0.0_crop_1.jpg, Class: 0.0, Confidence: 0.67\n",
            "Image: 0029_class_3.0_crop_2.jpg, Class: 3.0, Confidence: 0.64\n",
            "Image: 0029_class_2.0_crop_3.jpg, Class: 2.0, Confidence: 0.54\n",
            "Image: 0030_class_0.0_crop_0.jpg, Class: 0.0, Confidence: 0.66\n",
            "Image: 0030_class_2.0_crop_1.jpg, Class: 2.0, Confidence: 0.65\n",
            "Image: 0030_class_1.0_crop_2.jpg, Class: 1.0, Confidence: 0.53\n",
            "Class 0.0 already drawn, skipping additional OBB.\n",
            "Image: 0031_class_1.0_crop_0.jpg, Class: 1.0, Confidence: 0.86\n",
            "Image: 0031_class_0.0_crop_1.jpg, Class: 0.0, Confidence: 0.70\n",
            "Image: 0031_class_3.0_crop_2.jpg, Class: 3.0, Confidence: 0.65\n",
            "Image: 0031_class_2.0_crop_3.jpg, Class: 2.0, Confidence: 0.64\n",
            "Image: 0032_class_0.0_crop_0.jpg, Class: 0.0, Confidence: 0.86\n",
            "Image: 0032_class_1.0_crop_1.jpg, Class: 1.0, Confidence: 0.81\n",
            "Image: 0032_class_3.0_crop_2.jpg, Class: 3.0, Confidence: 0.76\n",
            "Image: 0032_class_2.0_crop_3.jpg, Class: 2.0, Confidence: 0.72\n",
            "Image: 0034_class_1.0_crop_0.jpg, Class: 1.0, Confidence: 0.92\n",
            "Image: 0034_class_2.0_crop_1.jpg, Class: 2.0, Confidence: 0.89\n",
            "Image: 0034_class_0.0_crop_2.jpg, Class: 0.0, Confidence: 0.81\n",
            "Image: 0034_class_3.0_crop_3.jpg, Class: 3.0, Confidence: 0.67\n",
            "Image: 0036_class_2.0_crop_0.jpg, Class: 2.0, Confidence: 0.84\n",
            "Image: 0036_class_0.0_crop_1.jpg, Class: 0.0, Confidence: 0.75\n",
            "Image: 0036_class_3.0_crop_2.jpg, Class: 3.0, Confidence: 0.62\n",
            "Image: 0036_class_1.0_crop_3.jpg, Class: 1.0, Confidence: 0.50\n",
            "Class 2.0 already drawn, skipping additional OBB.\n",
            "Image: 0037_class_1.0_crop_0.jpg, Class: 1.0, Confidence: 0.88\n",
            "Image: 0037_class_3.0_crop_1.jpg, Class: 3.0, Confidence: 0.76\n",
            "Image: 0037_class_0.0_crop_2.jpg, Class: 0.0, Confidence: 0.72\n",
            "Image: 0037_class_2.0_crop_3.jpg, Class: 2.0, Confidence: 0.70\n",
            "Image: 0038_class_2.0_crop_0.jpg, Class: 2.0, Confidence: 0.83\n",
            "Image: 0038_class_0.0_crop_1.jpg, Class: 0.0, Confidence: 0.77\n",
            "Image: 0038_class_1.0_crop_2.jpg, Class: 1.0, Confidence: 0.60\n",
            "Image: 0038_class_3.0_crop_3.jpg, Class: 3.0, Confidence: 0.59\n",
            "Image: 0043_class_2.0_crop_0.jpg, Class: 2.0, Confidence: 0.76\n",
            "Image: 0043_class_0.0_crop_1.jpg, Class: 0.0, Confidence: 0.71\n",
            "Image: 0043_class_1.0_crop_2.jpg, Class: 1.0, Confidence: 0.47\n",
            "Image: 0043_class_3.0_crop_3.jpg, Class: 3.0, Confidence: 0.46\n",
            "Class 2.0 already drawn, skipping additional OBB.\n",
            "Class 0.0 already drawn, skipping additional OBB.\n",
            "Image: 0047_class_2.0_crop_0.jpg, Class: 2.0, Confidence: 0.79\n",
            "Image: 0047_class_3.0_crop_1.jpg, Class: 3.0, Confidence: 0.78\n",
            "Image: 0047_class_0.0_crop_2.jpg, Class: 0.0, Confidence: 0.76\n",
            "Image: 0047_class_1.0_crop_3.jpg, Class: 1.0, Confidence: 0.75\n",
            "Image: 0048_class_2.0_crop_0.jpg, Class: 2.0, Confidence: 0.83\n",
            "Image: 0048_class_0.0_crop_1.jpg, Class: 0.0, Confidence: 0.77\n",
            "Image: 0048_class_3.0_crop_2.jpg, Class: 3.0, Confidence: 0.69\n",
            "Image: 0048_class_1.0_crop_3.jpg, Class: 1.0, Confidence: 0.68\n",
            "Image: 0050_class_2.0_crop_0.jpg, Class: 2.0, Confidence: 0.71\n",
            "Image: 0050_class_0.0_crop_1.jpg, Class: 0.0, Confidence: 0.66\n",
            "Image: 0050_class_1.0_crop_2.jpg, Class: 1.0, Confidence: 0.52\n",
            "Image: 0050_class_3.0_crop_3.jpg, Class: 3.0, Confidence: 0.49\n",
            "Class 0.0 already drawn, skipping additional OBB.\n",
            "Image: 0052_class_1.0_crop_0.jpg, Class: 1.0, Confidence: 0.88\n",
            "Image: 0052_class_0.0_crop_1.jpg, Class: 0.0, Confidence: 0.88\n",
            "Image: 0052_class_3.0_crop_2.jpg, Class: 3.0, Confidence: 0.79\n",
            "Image: 0052_class_2.0_crop_3.jpg, Class: 2.0, Confidence: 0.75\n",
            "Image: 0054_class_1.0_crop_0.jpg, Class: 1.0, Confidence: 0.87\n",
            "Image: 0054_class_0.0_crop_1.jpg, Class: 0.0, Confidence: 0.85\n",
            "Image: 0054_class_2.0_crop_2.jpg, Class: 2.0, Confidence: 0.81\n",
            "Image: 0054_class_3.0_crop_3.jpg, Class: 3.0, Confidence: 0.72\n",
            "Image: 0058_class_1.0_crop_0.jpg, Class: 1.0, Confidence: 0.80\n",
            "Image: 0058_class_0.0_crop_1.jpg, Class: 0.0, Confidence: 0.80\n",
            "Image: 0058_class_2.0_crop_2.jpg, Class: 2.0, Confidence: 0.68\n",
            "Image: 0058_class_3.0_crop_3.jpg, Class: 3.0, Confidence: 0.60\n",
            "Image: 0059_class_1.0_crop_0.jpg, Class: 1.0, Confidence: 0.85\n",
            "Image: 0059_class_0.0_crop_1.jpg, Class: 0.0, Confidence: 0.84\n",
            "Image: 0059_class_3.0_crop_2.jpg, Class: 3.0, Confidence: 0.72\n",
            "Image: 0059_class_2.0_crop_3.jpg, Class: 2.0, Confidence: 0.66\n",
            "Image: 0060_class_1.0_crop_0.jpg, Class: 1.0, Confidence: 0.88\n",
            "Image: 0060_class_0.0_crop_1.jpg, Class: 0.0, Confidence: 0.86\n",
            "Image: 0060_class_2.0_crop_2.jpg, Class: 2.0, Confidence: 0.80\n",
            "Image: 0060_class_3.0_crop_3.jpg, Class: 3.0, Confidence: 0.62\n",
            "Image: 0062_class_1.0_crop_0.jpg, Class: 1.0, Confidence: 0.90\n",
            "Image: 0062_class_0.0_crop_1.jpg, Class: 0.0, Confidence: 0.79\n",
            "Image: 0062_class_2.0_crop_2.jpg, Class: 2.0, Confidence: 0.79\n",
            "Image: 0062_class_3.0_crop_3.jpg, Class: 3.0, Confidence: 0.59\n",
            "Image: 0063_class_1.0_crop_0.jpg, Class: 1.0, Confidence: 0.92\n",
            "Image: 0063_class_2.0_crop_1.jpg, Class: 2.0, Confidence: 0.86\n",
            "Image: 0063_class_0.0_crop_2.jpg, Class: 0.0, Confidence: 0.84\n",
            "Image: 0063_class_3.0_crop_3.jpg, Class: 3.0, Confidence: 0.67\n",
            "Image: 0067_class_1.0_crop_0.jpg, Class: 1.0, Confidence: 0.92\n",
            "Image: 0067_class_0.0_crop_1.jpg, Class: 0.0, Confidence: 0.88\n",
            "Image: 0067_class_3.0_crop_2.jpg, Class: 3.0, Confidence: 0.84\n",
            "Image: 0067_class_2.0_crop_3.jpg, Class: 2.0, Confidence: 0.82\n",
            "Image: 0071_class_3.0_crop_0.jpg, Class: 3.0, Confidence: 0.80\n",
            "Image: 0071_class_0.0_crop_1.jpg, Class: 0.0, Confidence: 0.59\n",
            "Image: 0071_class_1.0_crop_2.jpg, Class: 1.0, Confidence: 0.59\n",
            "Image: 0071_class_2.0_crop_3.jpg, Class: 2.0, Confidence: 0.52\n",
            "Image: 0073_class_1.0_crop_0.jpg, Class: 1.0, Confidence: 0.80\n",
            "Image: 0073_class_2.0_crop_1.jpg, Class: 2.0, Confidence: 0.70\n",
            "Image: 0073_class_0.0_crop_2.jpg, Class: 0.0, Confidence: 0.68\n",
            "Image: 0073_class_3.0_crop_3.jpg, Class: 3.0, Confidence: 0.66\n",
            "Image: 0075_class_0.0_crop_0.jpg, Class: 0.0, Confidence: 0.86\n",
            "Image: 0075_class_1.0_crop_1.jpg, Class: 1.0, Confidence: 0.85\n",
            "Image: 0075_class_2.0_crop_2.jpg, Class: 2.0, Confidence: 0.82\n",
            "Image: 0075_class_3.0_crop_3.jpg, Class: 3.0, Confidence: 0.42\n",
            "Class 0.0 already drawn, skipping additional OBB.\n",
            "Image: 0077_class_1.0_crop_0.jpg, Class: 1.0, Confidence: 0.84\n",
            "Image: 0077_class_0.0_crop_1.jpg, Class: 0.0, Confidence: 0.83\n",
            "Image: 0077_class_2.0_crop_2.jpg, Class: 2.0, Confidence: 0.80\n",
            "Image: 0077_class_3.0_crop_3.jpg, Class: 3.0, Confidence: 0.52\n",
            "Image: 0078_class_1.0_crop_0.jpg, Class: 1.0, Confidence: 0.88\n",
            "Image: 0078_class_0.0_crop_1.jpg, Class: 0.0, Confidence: 0.84\n",
            "Image: 0078_class_2.0_crop_2.jpg, Class: 2.0, Confidence: 0.82\n",
            "Image: 0078_class_3.0_crop_3.jpg, Class: 3.0, Confidence: 0.63\n",
            "Image: 0081_class_0.0_crop_0.jpg, Class: 0.0, Confidence: 0.85\n",
            "Image: 0081_class_1.0_crop_1.jpg, Class: 1.0, Confidence: 0.62\n",
            "Image: 0081_class_2.0_crop_2.jpg, Class: 2.0, Confidence: 0.59\n",
            "Class 0.0 already drawn, skipping additional OBB.\n",
            "Image: 0082_class_1.0_crop_0.jpg, Class: 1.0, Confidence: 0.86\n",
            "Image: 0082_class_3.0_crop_1.jpg, Class: 3.0, Confidence: 0.79\n",
            "Image: 0082_class_0.0_crop_2.jpg, Class: 0.0, Confidence: 0.73\n",
            "Image: 0082_class_2.0_crop_3.jpg, Class: 2.0, Confidence: 0.70\n",
            "Class 3.0 already drawn, skipping additional OBB.\n",
            "Image: 0084_class_2.0_crop_0.jpg, Class: 2.0, Confidence: 0.68\n",
            "Image: 0084_class_3.0_crop_1.jpg, Class: 3.0, Confidence: 0.67\n",
            "Image: 0084_class_1.0_crop_2.jpg, Class: 1.0, Confidence: 0.52\n",
            "Image: 0084_class_0.0_crop_3.jpg, Class: 0.0, Confidence: 0.46\n",
            "Image: 0087_class_1.0_crop_0.jpg, Class: 1.0, Confidence: 0.81\n",
            "Image: 0087_class_0.0_crop_1.jpg, Class: 0.0, Confidence: 0.59\n",
            "Image: 0087_class_2.0_crop_2.jpg, Class: 2.0, Confidence: 0.55\n",
            "Image: 0087_class_3.0_crop_3.jpg, Class: 3.0, Confidence: 0.50\n",
            "Image: 0088_class_1.0_crop_0.jpg, Class: 1.0, Confidence: 0.85\n",
            "Image: 0088_class_0.0_crop_1.jpg, Class: 0.0, Confidence: 0.84\n",
            "Image: 0088_class_3.0_crop_2.jpg, Class: 3.0, Confidence: 0.56\n",
            "Image: 0088_class_2.0_crop_3.jpg, Class: 2.0, Confidence: 0.52\n",
            "Image: 0090_class_1.0_crop_0.jpg, Class: 1.0, Confidence: 0.80\n",
            "Image: 0090_class_0.0_crop_1.jpg, Class: 0.0, Confidence: 0.71\n",
            "Image: 0090_class_3.0_crop_2.jpg, Class: 3.0, Confidence: 0.64\n",
            "Image: 0090_class_2.0_crop_3.jpg, Class: 2.0, Confidence: 0.59\n",
            "Image: 0093_class_1.0_crop_0.jpg, Class: 1.0, Confidence: 0.54\n",
            "Image: 0093_class_0.0_crop_1.jpg, Class: 0.0, Confidence: 0.44\n",
            "Class 0.0 already drawn, skipping additional OBB.\n",
            "Class 1.0 already drawn, skipping additional OBB.\n",
            "Image: 0093_class_2.0_crop_4.jpg, Class: 2.0, Confidence: 0.34\n",
            "Image: 0093_class_3.0_crop_5.jpg, Class: 3.0, Confidence: 0.34\n",
            "Class 3.0 already drawn, skipping additional OBB.\n",
            "Image: 0095_class_1.0_crop_0.jpg, Class: 1.0, Confidence: 0.87\n",
            "Image: 0095_class_3.0_crop_1.jpg, Class: 3.0, Confidence: 0.69\n",
            "Image: 0095_class_2.0_crop_2.jpg, Class: 2.0, Confidence: 0.68\n",
            "Image: 0095_class_0.0_crop_3.jpg, Class: 0.0, Confidence: 0.65\n",
            "Image: 0097_class_3.0_crop_0.jpg, Class: 3.0, Confidence: 0.77\n",
            "Image: 0097_class_1.0_crop_1.jpg, Class: 1.0, Confidence: 0.61\n",
            "Image: 0097_class_2.0_crop_2.jpg, Class: 2.0, Confidence: 0.53\n",
            "Image: 0097_class_0.0_crop_3.jpg, Class: 0.0, Confidence: 0.44\n",
            "Class 2.0 already drawn, skipping additional OBB.\n",
            "Class 3.0 already drawn, skipping additional OBB.\n",
            "Image: 0099_class_1.0_crop_0.jpg, Class: 1.0, Confidence: 0.71\n",
            "Image: 0099_class_0.0_crop_1.jpg, Class: 0.0, Confidence: 0.54\n",
            "Class 0.0 already drawn, skipping additional OBB.\n",
            "Image: 0099_class_2.0_crop_3.jpg, Class: 2.0, Confidence: 0.46\n",
            "Class 1.0 already drawn, skipping additional OBB.\n",
            "Image: 0100_class_1.0_crop_0.jpg, Class: 1.0, Confidence: 0.86\n",
            "Image: 0100_class_2.0_crop_1.jpg, Class: 2.0, Confidence: 0.60\n",
            "Image: 0100_class_3.0_crop_2.jpg, Class: 3.0, Confidence: 0.60\n",
            "Image: 0100_class_0.0_crop_3.jpg, Class: 0.0, Confidence: 0.55\n",
            "Image: 0102_class_0.0_crop_0.jpg, Class: 0.0, Confidence: 0.87\n",
            "Image: 0102_class_2.0_crop_1.jpg, Class: 2.0, Confidence: 0.79\n",
            "Image: 0102_class_1.0_crop_2.jpg, Class: 1.0, Confidence: 0.73\n",
            "Image: 0102_class_3.0_crop_3.jpg, Class: 3.0, Confidence: 0.39\n",
            "Class 0.0 already drawn, skipping additional OBB.\n",
            "Image: 0104_class_2.0_crop_0.jpg, Class: 2.0, Confidence: 0.85\n",
            "Image: 0104_class_1.0_crop_1.jpg, Class: 1.0, Confidence: 0.85\n",
            "Image: 0104_class_3.0_crop_2.jpg, Class: 3.0, Confidence: 0.69\n",
            "Image: 0104_class_0.0_crop_3.jpg, Class: 0.0, Confidence: 0.65\n",
            "Image: 0106_class_1.0_crop_0.jpg, Class: 1.0, Confidence: 0.47\n",
            "Image: 0106_class_3.0_crop_1.jpg, Class: 3.0, Confidence: 0.43\n",
            "Class 1.0 already drawn, skipping additional OBB.\n",
            "Image: 0106_class_0.0_crop_3.jpg, Class: 0.0, Confidence: 0.31\n",
            "Image: 0106_class_2.0_crop_4.jpg, Class: 2.0, Confidence: 0.30\n",
            "Class 1.0 already drawn, skipping additional OBB.\n",
            "Image: 0107_class_1.0_crop_0.jpg, Class: 1.0, Confidence: 0.82\n",
            "Image: 0107_class_2.0_crop_1.jpg, Class: 2.0, Confidence: 0.80\n",
            "Image: 0107_class_3.0_crop_2.jpg, Class: 3.0, Confidence: 0.68\n",
            "Image: 0107_class_0.0_crop_3.jpg, Class: 0.0, Confidence: 0.66\n",
            "Image: 0108_class_1.0_crop_0.jpg, Class: 1.0, Confidence: 0.81\n",
            "Image: 0108_class_2.0_crop_1.jpg, Class: 2.0, Confidence: 0.80\n",
            "Image: 0108_class_0.0_crop_2.jpg, Class: 0.0, Confidence: 0.77\n",
            "Image: 0108_class_3.0_crop_3.jpg, Class: 3.0, Confidence: 0.73\n",
            "Class 3.0 already drawn, skipping additional OBB.\n",
            "Class 2.0 already drawn, skipping additional OBB.\n",
            "Image: 0110_class_1.0_crop_0.jpg, Class: 1.0, Confidence: 0.75\n",
            "Image: 0110_class_3.0_crop_1.jpg, Class: 3.0, Confidence: 0.72\n",
            "Class 3.0 already drawn, skipping additional OBB.\n",
            "Image: 0110_class_0.0_crop_3.jpg, Class: 0.0, Confidence: 0.64\n",
            "Image: 0110_class_2.0_crop_4.jpg, Class: 2.0, Confidence: 0.63\n",
            "Class 1.0 already drawn, skipping additional OBB.\n",
            "Class 0.0 already drawn, skipping additional OBB.\n",
            "Image: 0111_class_0.0_crop_0.jpg, Class: 0.0, Confidence: 0.88\n",
            "Image: 0111_class_1.0_crop_1.jpg, Class: 1.0, Confidence: 0.84\n",
            "Image: 0111_class_2.0_crop_2.jpg, Class: 2.0, Confidence: 0.81\n",
            "Image: 0111_class_3.0_crop_3.jpg, Class: 3.0, Confidence: 0.64\n",
            "Image: 0113_class_0.0_crop_0.jpg, Class: 0.0, Confidence: 0.88\n",
            "Image: 0113_class_2.0_crop_1.jpg, Class: 2.0, Confidence: 0.85\n",
            "Image: 0113_class_1.0_crop_2.jpg, Class: 1.0, Confidence: 0.82\n",
            "Image: 0113_class_3.0_crop_3.jpg, Class: 3.0, Confidence: 0.58\n",
            "Image: 0118_class_0.0_crop_0.jpg, Class: 0.0, Confidence: 0.85\n",
            "Image: 0118_class_2.0_crop_1.jpg, Class: 2.0, Confidence: 0.82\n",
            "Image: 0118_class_1.0_crop_2.jpg, Class: 1.0, Confidence: 0.80\n",
            "Image: 0118_class_3.0_crop_3.jpg, Class: 3.0, Confidence: 0.61\n",
            "Image: 0119_class_1.0_crop_0.jpg, Class: 1.0, Confidence: 0.81\n",
            "Image: 0119_class_3.0_crop_1.jpg, Class: 3.0, Confidence: 0.78\n",
            "Image: 0119_class_0.0_crop_2.jpg, Class: 0.0, Confidence: 0.73\n",
            "Image: 0119_class_2.0_crop_3.jpg, Class: 2.0, Confidence: 0.61\n",
            "Image: 0120_class_1.0_crop_0.jpg, Class: 1.0, Confidence: 0.89\n",
            "Image: 0120_class_0.0_crop_1.jpg, Class: 0.0, Confidence: 0.88\n",
            "Image: 0120_class_2.0_crop_2.jpg, Class: 2.0, Confidence: 0.82\n",
            "Image: 0120_class_3.0_crop_3.jpg, Class: 3.0, Confidence: 0.51\n",
            "Image: 0121_class_1.0_crop_0.jpg, Class: 1.0, Confidence: 0.86\n",
            "Image: 0121_class_0.0_crop_1.jpg, Class: 0.0, Confidence: 0.77\n",
            "Image: 0121_class_2.0_crop_2.jpg, Class: 2.0, Confidence: 0.75\n",
            "Image: 0121_class_3.0_crop_3.jpg, Class: 3.0, Confidence: 0.46\n",
            "Class 0.0 already drawn, skipping additional OBB.\n",
            "Image: 0122_class_1.0_crop_0.jpg, Class: 1.0, Confidence: 0.88\n",
            "Image: 0122_class_2.0_crop_1.jpg, Class: 2.0, Confidence: 0.80\n",
            "Image: 0122_class_0.0_crop_2.jpg, Class: 0.0, Confidence: 0.77\n",
            "Image: 0122_class_3.0_crop_3.jpg, Class: 3.0, Confidence: 0.44\n",
            "Class 0.0 already drawn, skipping additional OBB.\n",
            "Image: 0125_class_2.0_crop_0.jpg, Class: 2.0, Confidence: 0.86\n",
            "Image: 0125_class_1.0_crop_1.jpg, Class: 1.0, Confidence: 0.80\n",
            "Image: 0125_class_3.0_crop_2.jpg, Class: 3.0, Confidence: 0.78\n",
            "Image: 0125_class_0.0_crop_3.jpg, Class: 0.0, Confidence: 0.50\n",
            "Image: 0127_class_1.0_crop_0.jpg, Class: 1.0, Confidence: 0.86\n",
            "Image: 0127_class_2.0_crop_1.jpg, Class: 2.0, Confidence: 0.78\n",
            "Image: 0127_class_0.0_crop_2.jpg, Class: 0.0, Confidence: 0.72\n",
            "Class 0.0 already drawn, skipping additional OBB.\n",
            "Image: 0127_class_3.0_crop_4.jpg, Class: 3.0, Confidence: 0.27\n",
            "Image: 0129_class_1.0_crop_0.jpg, Class: 1.0, Confidence: 0.86\n",
            "Image: 0129_class_2.0_crop_1.jpg, Class: 2.0, Confidence: 0.85\n",
            "Image: 0129_class_0.0_crop_2.jpg, Class: 0.0, Confidence: 0.79\n",
            "Image: 0129_class_3.0_crop_3.jpg, Class: 3.0, Confidence: 0.68\n",
            "Image: 0131_class_1.0_crop_0.jpg, Class: 1.0, Confidence: 0.85\n",
            "Image: 0131_class_2.0_crop_1.jpg, Class: 2.0, Confidence: 0.81\n",
            "Image: 0131_class_0.0_crop_2.jpg, Class: 0.0, Confidence: 0.77\n",
            "Class 0.0 already drawn, skipping additional OBB.\n",
            "Image: 0133_class_1.0_crop_0.jpg, Class: 1.0, Confidence: 0.88\n",
            "Image: 0133_class_2.0_crop_1.jpg, Class: 2.0, Confidence: 0.84\n",
            "Image: 0133_class_0.0_crop_2.jpg, Class: 0.0, Confidence: 0.71\n",
            "Image: 0133_class_3.0_crop_3.jpg, Class: 3.0, Confidence: 0.51\n",
            "Image: 1710651065474_class_0.0_crop_0.jpg, Class: 0.0, Confidence: 0.81\n",
            "Image: 1710651065474_class_2.0_crop_1.jpg, Class: 2.0, Confidence: 0.79\n",
            "Image: 1710651065474_class_1.0_crop_2.jpg, Class: 1.0, Confidence: 0.78\n",
            "Image: 1710651065474_class_3.0_crop_3.jpg, Class: 3.0, Confidence: 0.63\n",
            "Image: 1710651066600_class_0.0_crop_0.jpg, Class: 0.0, Confidence: 0.83\n",
            "Image: 1710651066600_class_2.0_crop_1.jpg, Class: 2.0, Confidence: 0.80\n",
            "Image: 1710651066600_class_1.0_crop_2.jpg, Class: 1.0, Confidence: 0.74\n",
            "Image: 1710651066600_class_3.0_crop_3.jpg, Class: 3.0, Confidence: 0.49\n",
            "Image: 1710651066958_class_1.0_crop_0.jpg, Class: 1.0, Confidence: 0.77\n",
            "Image: 1710651066958_class_2.0_crop_1.jpg, Class: 2.0, Confidence: 0.75\n",
            "Image: 1710651066958_class_0.0_crop_2.jpg, Class: 0.0, Confidence: 0.73\n",
            "Image: 1710651066958_class_3.0_crop_3.jpg, Class: 3.0, Confidence: 0.39\n",
            "Class 0.0 already drawn, skipping additional OBB.\n",
            "Image: 1710651067622_class_1.0_crop_0.jpg, Class: 1.0, Confidence: 0.89\n",
            "Image: 1710651067622_class_2.0_crop_1.jpg, Class: 2.0, Confidence: 0.85\n",
            "Image: 1710651067622_class_0.0_crop_2.jpg, Class: 0.0, Confidence: 0.80\n",
            "Image: 1710651067622_class_3.0_crop_3.jpg, Class: 3.0, Confidence: 0.63\n",
            "Image: 1710651067733_class_2.0_crop_0.jpg, Class: 2.0, Confidence: 0.77\n",
            "Image: 1710651067733_class_3.0_crop_1.jpg, Class: 3.0, Confidence: 0.61\n",
            "Image: 1710651067733_class_1.0_crop_2.jpg, Class: 1.0, Confidence: 0.53\n",
            "Image: 1710651067733_class_0.0_crop_3.jpg, Class: 0.0, Confidence: 0.50\n",
            "Class 0.0 already drawn, skipping additional OBB.\n",
            "Image: 1710651067797_class_1.0_crop_0.jpg, Class: 1.0, Confidence: 0.72\n",
            "Image: 1710651067797_class_0.0_crop_1.jpg, Class: 0.0, Confidence: 0.71\n",
            "Class 0.0 already drawn, skipping additional OBB.\n",
            "Image: 1710651067797_class_2.0_crop_3.jpg, Class: 2.0, Confidence: 0.57\n",
            "Class 1.0 already drawn, skipping additional OBB.\n",
            "Image: 1710651067863_class_2.0_crop_0.jpg, Class: 2.0, Confidence: 0.87\n",
            "Image: 1710651067863_class_0.0_crop_1.jpg, Class: 0.0, Confidence: 0.86\n",
            "Image: 1710651067863_class_1.0_crop_2.jpg, Class: 1.0, Confidence: 0.85\n",
            "Image: 1710651067863_class_3.0_crop_3.jpg, Class: 3.0, Confidence: 0.59\n",
            "Image: 1710651083794_class_1.0_crop_0.jpg, Class: 1.0, Confidence: 0.86\n",
            "Image: 1710651083794_class_2.0_crop_1.jpg, Class: 2.0, Confidence: 0.82\n",
            "Image: 1710651083794_class_0.0_crop_2.jpg, Class: 0.0, Confidence: 0.74\n",
            "Image: 1710651083794_class_3.0_crop_3.jpg, Class: 3.0, Confidence: 0.57\n",
            "Image: 1710651084145_class_2.0_crop_0.jpg, Class: 2.0, Confidence: 0.74\n",
            "Image: 1710651084145_class_3.0_crop_1.jpg, Class: 3.0, Confidence: 0.50\n",
            "Image: 1710651084145_class_0.0_crop_2.jpg, Class: 0.0, Confidence: 0.44\n",
            "Class 0.0 already drawn, skipping additional OBB.\n",
            "Class 2.0 already drawn, skipping additional OBB.\n",
            "Image: 1710651084145_class_1.0_crop_5.jpg, Class: 1.0, Confidence: 0.38\n",
            "Class 3.0 already drawn, skipping additional OBB.\n",
            "Image: 1710651084526_class_2.0_crop_0.jpg, Class: 2.0, Confidence: 0.87\n",
            "Image: 1710651084526_class_1.0_crop_1.jpg, Class: 1.0, Confidence: 0.86\n",
            "Image: 1710651084526_class_0.0_crop_2.jpg, Class: 0.0, Confidence: 0.58\n",
            "Image: 1710651084526_class_3.0_crop_3.jpg, Class: 3.0, Confidence: 0.44\n",
            "Class 0.0 already drawn, skipping additional OBB.\n",
            "Class 0.0 already drawn, skipping additional OBB.\n",
            "Image: 1710651085715_class_0.0_crop_0.jpg, Class: 0.0, Confidence: 0.89\n",
            "Image: 1710651085715_class_2.0_crop_1.jpg, Class: 2.0, Confidence: 0.88\n",
            "Image: 1710651085715_class_1.0_crop_2.jpg, Class: 1.0, Confidence: 0.84\n",
            "Image: 1710651085715_class_3.0_crop_3.jpg, Class: 3.0, Confidence: 0.59\n",
            "Image: 1710651085757_class_1.0_crop_0.jpg, Class: 1.0, Confidence: 0.86\n",
            "Image: 1710651085757_class_2.0_crop_1.jpg, Class: 2.0, Confidence: 0.84\n",
            "Image: 1710651085757_class_0.0_crop_2.jpg, Class: 0.0, Confidence: 0.84\n",
            "Image: 1710651085757_class_3.0_crop_3.jpg, Class: 3.0, Confidence: 0.71\n",
            "Image: 1710651085799_class_1.0_crop_0.jpg, Class: 1.0, Confidence: 0.87\n",
            "Image: 1710651085799_class_0.0_crop_1.jpg, Class: 0.0, Confidence: 0.85\n",
            "Image: 1710651085799_class_2.0_crop_2.jpg, Class: 2.0, Confidence: 0.85\n",
            "Image: 1710651085799_class_3.0_crop_3.jpg, Class: 3.0, Confidence: 0.68\n",
            "Image: 20240315_181811_class_1.0_crop_0.jpg, Class: 1.0, Confidence: 0.91\n",
            "Image: 20240315_181811_class_0.0_crop_1.jpg, Class: 0.0, Confidence: 0.86\n",
            "Image: 20240315_181811_class_3.0_crop_2.jpg, Class: 3.0, Confidence: 0.77\n",
            "Image: 20240315_181811_class_2.0_crop_3.jpg, Class: 2.0, Confidence: 0.73\n",
            "Image: 20240315_181915_class_0.0_crop_0.jpg, Class: 0.0, Confidence: 0.88\n",
            "Image: 20240315_181915_class_2.0_crop_1.jpg, Class: 2.0, Confidence: 0.78\n",
            "Image: 20240315_181915_class_1.0_crop_2.jpg, Class: 1.0, Confidence: 0.78\n",
            "Class 0.0 already drawn, skipping additional OBB.\n",
            "Image: 20240315_182038_class_0.0_crop_0.jpg, Class: 0.0, Confidence: 0.79\n",
            "Image: 20240315_182038_class_1.0_crop_1.jpg, Class: 1.0, Confidence: 0.78\n",
            "Image: 20240315_182038_class_2.0_crop_2.jpg, Class: 2.0, Confidence: 0.77\n",
            "Image: 20240315_182038_class_3.0_crop_3.jpg, Class: 3.0, Confidence: 0.64\n",
            "Image: 20240315_182121_class_1.0_crop_0.jpg, Class: 1.0, Confidence: 0.87\n",
            "Image: 20240315_182121_class_0.0_crop_1.jpg, Class: 0.0, Confidence: 0.85\n",
            "Image: 20240315_182121_class_2.0_crop_2.jpg, Class: 2.0, Confidence: 0.78\n",
            "Image: 20240315_182121_class_3.0_crop_3.jpg, Class: 3.0, Confidence: 0.41\n",
            "Image: 20240315_182133_class_0.0_crop_0.jpg, Class: 0.0, Confidence: 0.91\n",
            "Image: 20240315_182133_class_1.0_crop_1.jpg, Class: 1.0, Confidence: 0.89\n",
            "Image: 20240315_182133_class_2.0_crop_2.jpg, Class: 2.0, Confidence: 0.86\n",
            "Image: 20240315_182133_class_3.0_crop_3.jpg, Class: 3.0, Confidence: 0.42\n",
            "Class 0.0 already drawn, skipping additional OBB.\n",
            "Image: 20240315_182211_class_0.0_crop_0.jpg, Class: 0.0, Confidence: 0.73\n",
            "Image: 20240315_182211_class_1.0_crop_1.jpg, Class: 1.0, Confidence: 0.70\n",
            "Image: 20240315_182211_class_2.0_crop_2.jpg, Class: 2.0, Confidence: 0.54\n",
            "Class 0.0 already drawn, skipping additional OBB.\n",
            "Image: 20240315_182225_class_1.0_crop_0.jpg, Class: 1.0, Confidence: 0.85\n",
            "Image: 20240315_182225_class_0.0_crop_1.jpg, Class: 0.0, Confidence: 0.77\n",
            "Image: 20240315_182225_class_2.0_crop_2.jpg, Class: 2.0, Confidence: 0.73\n",
            "Image: 20240315_182225_class_3.0_crop_3.jpg, Class: 3.0, Confidence: 0.36\n",
            "Image: 20240315_182240_class_1.0_crop_0.jpg, Class: 1.0, Confidence: 0.83\n",
            "Image: 20240315_182240_class_0.0_crop_1.jpg, Class: 0.0, Confidence: 0.73\n",
            "Image: 20240315_182240_class_2.0_crop_2.jpg, Class: 2.0, Confidence: 0.70\n",
            "Image: 20240315_182240_class_3.0_crop_3.jpg, Class: 3.0, Confidence: 0.48\n",
            "Image: 20240315_182254_class_1.0_crop_0.jpg, Class: 1.0, Confidence: 0.83\n",
            "Image: 20240315_182254_class_2.0_crop_1.jpg, Class: 2.0, Confidence: 0.79\n",
            "Image: 20240315_182254_class_0.0_crop_2.jpg, Class: 0.0, Confidence: 0.77\n",
            "Class 0.0 already drawn, skipping additional OBB.\n",
            "Image: 20240315_182254_class_3.0_crop_4.jpg, Class: 3.0, Confidence: 0.38\n",
            "Image: 20240315_182259_class_2.0_crop_0.jpg, Class: 2.0, Confidence: 0.78\n",
            "Image: 20240315_182259_class_1.0_crop_1.jpg, Class: 1.0, Confidence: 0.73\n",
            "Image: 20240315_182259_class_0.0_crop_2.jpg, Class: 0.0, Confidence: 0.71\n",
            "Class 0.0 already drawn, skipping additional OBB.\n",
            "Image: 20240315_182259_class_3.0_crop_4.jpg, Class: 3.0, Confidence: 0.61\n",
            "Class 2.0 already drawn, skipping additional OBB.\n",
            "Class 1.0 already drawn, skipping additional OBB.\n",
            "Class 3.0 already drawn, skipping additional OBB.\n",
            "Class 0.0 already drawn, skipping additional OBB.\n",
            "Image: 20240315_182754_class_0.0_crop_0.jpg, Class: 0.0, Confidence: 0.89\n",
            "Image: 20240315_182754_class_1.0_crop_1.jpg, Class: 1.0, Confidence: 0.87\n",
            "Image: 20240315_182754_class_2.0_crop_2.jpg, Class: 2.0, Confidence: 0.83\n",
            "Class 0.0 already drawn, skipping additional OBB.\n",
            "Image: 20240315_182754_class_3.0_crop_4.jpg, Class: 3.0, Confidence: 0.37\n",
            "Image: 20240315_182758_class_2.0_crop_0.jpg, Class: 2.0, Confidence: 0.86\n",
            "Image: 20240315_182758_class_1.0_crop_1.jpg, Class: 1.0, Confidence: 0.80\n",
            "Image: 20240315_182758_class_0.0_crop_2.jpg, Class: 0.0, Confidence: 0.78\n",
            "Image: 20240315_182758_class_3.0_crop_3.jpg, Class: 3.0, Confidence: 0.51\n",
            "Class 0.0 already drawn, skipping additional OBB.\n",
            "Image: 20240315_182804_class_0.0_crop_0.jpg, Class: 0.0, Confidence: 0.92\n",
            "Image: 20240315_182804_class_1.0_crop_1.jpg, Class: 1.0, Confidence: 0.88\n",
            "Image: 20240315_182804_class_2.0_crop_2.jpg, Class: 2.0, Confidence: 0.80\n",
            "Image: 20240315_182804_class_3.0_crop_3.jpg, Class: 3.0, Confidence: 0.41\n",
            "Class 0.0 already drawn, skipping additional OBB.\n",
            "Image: 20240315_182809_class_2.0_crop_0.jpg, Class: 2.0, Confidence: 0.83\n",
            "Image: 20240315_182809_class_1.0_crop_1.jpg, Class: 1.0, Confidence: 0.82\n",
            "Image: 20240315_182809_class_0.0_crop_2.jpg, Class: 0.0, Confidence: 0.64\n",
            "Image: 20240315_182809_class_3.0_crop_3.jpg, Class: 3.0, Confidence: 0.47\n",
            "Image: 20240316_181117_class_1.0_crop_0.jpg, Class: 1.0, Confidence: 0.82\n",
            "Image: 20240316_181117_class_0.0_crop_1.jpg, Class: 0.0, Confidence: 0.74\n",
            "Image: 20240316_181117_class_2.0_crop_2.jpg, Class: 2.0, Confidence: 0.72\n",
            "Image: 20240316_181117_class_3.0_crop_3.jpg, Class: 3.0, Confidence: 0.50\n",
            "Image: 20240316_181126_class_1.0_crop_0.jpg, Class: 1.0, Confidence: 0.83\n",
            "Image: 20240316_181126_class_0.0_crop_1.jpg, Class: 0.0, Confidence: 0.81\n",
            "Image: 20240316_181126_class_2.0_crop_2.jpg, Class: 2.0, Confidence: 0.77\n",
            "Image: 20240316_181126_class_3.0_crop_3.jpg, Class: 3.0, Confidence: 0.66\n",
            "Image: 20240316_181311_class_0.0_crop_0.jpg, Class: 0.0, Confidence: 0.82\n",
            "Image: 20240316_181311_class_1.0_crop_1.jpg, Class: 1.0, Confidence: 0.81\n",
            "Image: 20240316_181311_class_2.0_crop_2.jpg, Class: 2.0, Confidence: 0.80\n",
            "Image: 20240316_181311_class_3.0_crop_3.jpg, Class: 3.0, Confidence: 0.59\n",
            "Image: 20240316_181321_class_1.0_crop_0.jpg, Class: 1.0, Confidence: 0.87\n",
            "Image: 20240316_181321_class_0.0_crop_1.jpg, Class: 0.0, Confidence: 0.86\n",
            "Image: 20240316_181321_class_2.0_crop_2.jpg, Class: 2.0, Confidence: 0.79\n",
            "Class 0.0 already drawn, skipping additional OBB.\n",
            "Image: 20240316_181330_class_1.0_crop_0.jpg, Class: 1.0, Confidence: 0.80\n",
            "Image: 20240316_181330_class_2.0_crop_1.jpg, Class: 2.0, Confidence: 0.78\n",
            "Image: 20240316_181330_class_0.0_crop_2.jpg, Class: 0.0, Confidence: 0.77\n",
            "Image: 20240316_181330_class_3.0_crop_3.jpg, Class: 3.0, Confidence: 0.47\n",
            "Image: 20240316_181341_class_2.0_crop_0.jpg, Class: 2.0, Confidence: 0.84\n",
            "Image: 20240316_181341_class_1.0_crop_1.jpg, Class: 1.0, Confidence: 0.83\n",
            "Image: 20240316_181341_class_0.0_crop_2.jpg, Class: 0.0, Confidence: 0.81\n",
            "Image: 20240316_181341_class_3.0_crop_3.jpg, Class: 3.0, Confidence: 0.52\n",
            "Image: 20240316_181429_class_0.0_crop_0.jpg, Class: 0.0, Confidence: 0.91\n",
            "Image: 20240316_181429_class_1.0_crop_1.jpg, Class: 1.0, Confidence: 0.89\n",
            "Image: 20240316_181429_class_2.0_crop_2.jpg, Class: 2.0, Confidence: 0.82\n",
            "Image: 20240316_181429_class_3.0_crop_3.jpg, Class: 3.0, Confidence: 0.45\n",
            "Image: 20240316_181435_class_0.0_crop_0.jpg, Class: 0.0, Confidence: 0.83\n",
            "Image: 20240316_181435_class_2.0_crop_1.jpg, Class: 2.0, Confidence: 0.81\n",
            "Image: 20240316_181435_class_1.0_crop_2.jpg, Class: 1.0, Confidence: 0.78\n",
            "Class 0.0 already drawn, skipping additional OBB.\n",
            "Image: 20240316_181435_class_3.0_crop_4.jpg, Class: 3.0, Confidence: 0.31\n",
            "Image: 20240316_181451_class_0.0_crop_0.jpg, Class: 0.0, Confidence: 0.89\n",
            "Image: 20240316_181451_class_1.0_crop_1.jpg, Class: 1.0, Confidence: 0.86\n",
            "Image: 20240316_181451_class_2.0_crop_2.jpg, Class: 2.0, Confidence: 0.83\n",
            "Image: 20240316_181451_class_3.0_crop_3.jpg, Class: 3.0, Confidence: 0.58\n",
            "Image: 20240316_181558_class_2.0_crop_0.jpg, Class: 2.0, Confidence: 0.85\n",
            "Image: 20240316_181558_class_1.0_crop_1.jpg, Class: 1.0, Confidence: 0.82\n",
            "Image: 20240316_181558_class_0.0_crop_2.jpg, Class: 0.0, Confidence: 0.73\n",
            "Image: 20240316_181558_class_3.0_crop_3.jpg, Class: 3.0, Confidence: 0.51\n",
            "Class 0.0 already drawn, skipping additional OBB.\n",
            "Image: 20240316_181706_class_0.0_crop_0.jpg, Class: 0.0, Confidence: 0.87\n",
            "Image: 20240316_181706_class_2.0_crop_1.jpg, Class: 2.0, Confidence: 0.84\n",
            "Image: 20240316_181706_class_1.0_crop_2.jpg, Class: 1.0, Confidence: 0.81\n",
            "Image: 20240316_181706_class_3.0_crop_3.jpg, Class: 3.0, Confidence: 0.68\n",
            "Image: 20240316_181734_class_1.0_crop_0.jpg, Class: 1.0, Confidence: 0.38\n",
            "Image: 20240316_181811_class_0.0_crop_0.jpg, Class: 0.0, Confidence: 0.82\n",
            "Image: 20240316_181811_class_2.0_crop_1.jpg, Class: 2.0, Confidence: 0.77\n",
            "Image: 20240316_181811_class_1.0_crop_2.jpg, Class: 1.0, Confidence: 0.68\n",
            "Class 0.0 already drawn, skipping additional OBB.\n",
            "Class 2.0 already drawn, skipping additional OBB.\n",
            "Image: 20240316_181811_class_3.0_crop_5.jpg, Class: 3.0, Confidence: 0.26\n",
            "Image: 20240316_182042_class_1.0_crop_0.jpg, Class: 1.0, Confidence: 0.88\n",
            "Image: 20240316_182042_class_0.0_crop_1.jpg, Class: 0.0, Confidence: 0.85\n",
            "Image: 20240316_182042_class_2.0_crop_2.jpg, Class: 2.0, Confidence: 0.83\n",
            "Image: 20240316_182042_class_3.0_crop_3.jpg, Class: 3.0, Confidence: 0.74\n",
            "Image: 20240316_182137_class_1.0_crop_0.jpg, Class: 1.0, Confidence: 0.87\n",
            "Image: 20240316_182137_class_2.0_crop_1.jpg, Class: 2.0, Confidence: 0.85\n",
            "Image: 20240316_182137_class_0.0_crop_2.jpg, Class: 0.0, Confidence: 0.72\n",
            "Image: 20240316_182137_class_3.0_crop_3.jpg, Class: 3.0, Confidence: 0.71\n",
            "Class 2.0 already drawn, skipping additional OBB.\n",
            "Class 0.0 already drawn, skipping additional OBB.\n",
            "Class 2.0 already drawn, skipping additional OBB.\n",
            "Image: 20240316_182251_class_0.0_crop_0.jpg, Class: 0.0, Confidence: 0.86\n",
            "Image: 20240316_182251_class_2.0_crop_1.jpg, Class: 2.0, Confidence: 0.85\n",
            "Image: 20240316_182251_class_1.0_crop_2.jpg, Class: 1.0, Confidence: 0.81\n",
            "Class 0.0 already drawn, skipping additional OBB.\n",
            "Image: 20240316_182251_class_3.0_crop_4.jpg, Class: 3.0, Confidence: 0.31\n",
            "Image: 20240316_182403_class_0.0_crop_0.jpg, Class: 0.0, Confidence: 0.91\n",
            "Image: 20240316_182403_class_2.0_crop_1.jpg, Class: 2.0, Confidence: 0.84\n",
            "Image: 20240316_182403_class_1.0_crop_2.jpg, Class: 1.0, Confidence: 0.75\n",
            "Image: 20240316_182403_class_3.0_crop_3.jpg, Class: 3.0, Confidence: 0.67\n",
            "Image: 20240316_182637_class_0.0_crop_0.jpg, Class: 0.0, Confidence: 0.86\n",
            "Image: 20240316_182637_class_1.0_crop_1.jpg, Class: 1.0, Confidence: 0.76\n",
            "Image: 20240316_182637_class_2.0_crop_2.jpg, Class: 2.0, Confidence: 0.69\n",
            "Image: 20240316_182637_class_3.0_crop_3.jpg, Class: 3.0, Confidence: 0.36\n",
            "Image: 20240316_182726_class_2.0_crop_0.jpg, Class: 2.0, Confidence: 0.85\n",
            "Image: 20240316_182726_class_1.0_crop_1.jpg, Class: 1.0, Confidence: 0.81\n",
            "Image: 20240316_182726_class_3.0_crop_2.jpg, Class: 3.0, Confidence: 0.64\n",
            "Image: 20240316_182726_class_0.0_crop_3.jpg, Class: 0.0, Confidence: 0.50\n",
            "Image: IMG20240315125457_class_1.0_crop_0.jpg, Class: 1.0, Confidence: 0.85\n",
            "Image: IMG20240315125457_class_0.0_crop_1.jpg, Class: 0.0, Confidence: 0.82\n",
            "Image: IMG20240315125457_class_2.0_crop_2.jpg, Class: 2.0, Confidence: 0.65\n",
            "Class 0.0 already drawn, skipping additional OBB.\n",
            "Image: IMG20240316181104_class_1.0_crop_0.jpg, Class: 1.0, Confidence: 0.68\n",
            "Image: IMG20240316181104_class_0.0_crop_1.jpg, Class: 0.0, Confidence: 0.64\n",
            "Image: IMG20240316181104_class_2.0_crop_2.jpg, Class: 2.0, Confidence: 0.62\n",
            "Image: IMG20240316181104_class_3.0_crop_3.jpg, Class: 3.0, Confidence: 0.51\n",
            "Class 3.0 already drawn, skipping additional OBB.\n",
            "Image: IMG20240316181208_class_0.0_crop_0.jpg, Class: 0.0, Confidence: 0.81\n",
            "Image: IMG20240316181208_class_1.0_crop_1.jpg, Class: 1.0, Confidence: 0.71\n",
            "Image: IMG20240316181208_class_3.0_crop_2.jpg, Class: 3.0, Confidence: 0.46\n",
            "Image: IMG20240316181208_class_2.0_crop_3.jpg, Class: 2.0, Confidence: 0.41\n",
            "Class 1.0 already drawn, skipping additional OBB.\n",
            "Image: IMG20240316181435_class_1.0_crop_0.jpg, Class: 1.0, Confidence: 0.88\n",
            "Class 1.0 already drawn, skipping additional OBB.\n",
            "Image: IMG20240316181435_class_0.0_crop_2.jpg, Class: 0.0, Confidence: 0.76\n",
            "Image: IMG20240316181435_class_3.0_crop_3.jpg, Class: 3.0, Confidence: 0.74\n",
            "Class 0.0 already drawn, skipping additional OBB.\n",
            "Image: IMG20240316181435_class_2.0_crop_5.jpg, Class: 2.0, Confidence: 0.65\n",
            "Class 2.0 already drawn, skipping additional OBB.\n",
            "Class 3.0 already drawn, skipping additional OBB.\n",
            "Image: IMG20240316181638_class_3.0_crop_0.jpg, Class: 3.0, Confidence: 0.75\n",
            "Image: IMG20240316181638_class_1.0_crop_1.jpg, Class: 1.0, Confidence: 0.60\n",
            "Image: IMG20240316181638_class_0.0_crop_2.jpg, Class: 0.0, Confidence: 0.57\n",
            "Image: IMG20240316181638_class_2.0_crop_3.jpg, Class: 2.0, Confidence: 0.52\n",
            "Image: IMG20240316181732_class_0.0_crop_0.jpg, Class: 0.0, Confidence: 0.50\n",
            "Image: IMG20240316181732_class_1.0_crop_1.jpg, Class: 1.0, Confidence: 0.46\n",
            "Class 0.0 already drawn, skipping additional OBB.\n",
            "Image: IMG20240316181732_class_2.0_crop_3.jpg, Class: 2.0, Confidence: 0.40\n",
            "Image: IMG20240316181830_class_1.0_crop_0.jpg, Class: 1.0, Confidence: 0.83\n",
            "Image: IMG20240316181830_class_0.0_crop_1.jpg, Class: 0.0, Confidence: 0.79\n",
            "Image: IMG20240316181830_class_2.0_crop_2.jpg, Class: 2.0, Confidence: 0.57\n",
            "Image: IMG20240316181830_class_3.0_crop_3.jpg, Class: 3.0, Confidence: 0.27\n",
            "Image: IMG20240316182034_class_1.0_crop_0.jpg, Class: 1.0, Confidence: 0.74\n",
            "Image: IMG20240316182034_class_2.0_crop_1.jpg, Class: 2.0, Confidence: 0.71\n",
            "Image: IMG20240316182034_class_0.0_crop_2.jpg, Class: 0.0, Confidence: 0.70\n",
            "Image: IMG20240316182034_class_3.0_crop_3.jpg, Class: 3.0, Confidence: 0.57\n",
            "Image: IMG20240316182130_class_1.0_crop_0.jpg, Class: 1.0, Confidence: 0.75\n",
            "Image: IMG20240316182130_class_0.0_crop_1.jpg, Class: 0.0, Confidence: 0.75\n",
            "Image: IMG20240316182130_class_3.0_crop_2.jpg, Class: 3.0, Confidence: 0.67\n",
            "Image: IMG20240316182130_class_2.0_crop_3.jpg, Class: 2.0, Confidence: 0.51\n",
            "Image: IMG20240316182243_class_1.0_crop_0.jpg, Class: 1.0, Confidence: 0.90\n",
            "Image: IMG20240316182243_class_0.0_crop_1.jpg, Class: 0.0, Confidence: 0.81\n",
            "Image: IMG20240316182243_class_3.0_crop_2.jpg, Class: 3.0, Confidence: 0.73\n",
            "Image: IMG20240316182243_class_2.0_crop_3.jpg, Class: 2.0, Confidence: 0.57\n",
            "Image: IMG20240316182405_class_0.0_crop_0.jpg, Class: 0.0, Confidence: 0.85\n",
            "Image: IMG20240316182405_class_1.0_crop_1.jpg, Class: 1.0, Confidence: 0.83\n",
            "Image: IMG20240316182405_class_2.0_crop_2.jpg, Class: 2.0, Confidence: 0.74\n",
            "Image: IMG20240316182405_class_3.0_crop_3.jpg, Class: 3.0, Confidence: 0.49\n",
            "Image: IMG_20240315_125548_class_1.0_crop_0.jpg, Class: 1.0, Confidence: 0.88\n",
            "Image: IMG_20240315_125548_class_0.0_crop_1.jpg, Class: 0.0, Confidence: 0.83\n",
            "Image: IMG_20240315_125548_class_2.0_crop_2.jpg, Class: 2.0, Confidence: 0.77\n",
            "Image: IMG_20240315_125548_class_3.0_crop_3.jpg, Class: 3.0, Confidence: 0.56\n"
          ]
        }
      ]
    },
    {
      "cell_type": "markdown",
      "source": [
        "------"
      ],
      "metadata": {
        "id": "7DJB_ka1zZGX"
      }
    },
    {
      "cell_type": "markdown",
      "source": [
        "# Preprocessing before OCR"
      ],
      "metadata": {
        "id": "sMWGrJFwXxhy"
      }
    },
    {
      "cell_type": "markdown",
      "source": [
        "## import cropped images"
      ],
      "metadata": {
        "id": "hVOOfGRmcamC"
      }
    },
    {
      "cell_type": "code",
      "source": [
        "import cv2\n",
        "import os\n",
        "\n",
        "def load_cropped_images(crops_dir):\n",
        "    \"\"\"\n",
        "    Loads all cropped images from a specified directory.\n",
        "\n",
        "    Parameters:\n",
        "    - crops_dir: Directory where the cropped images are saved.\n",
        "\n",
        "    Returns:\n",
        "    - A list of tuples, each containing the filename and the corresponding loaded image.\n",
        "    \"\"\"\n",
        "    cropped_images = []\n",
        "    for filename in os.listdir(crops_dir):\n",
        "        if filename.endswith(\".jpg\") or filename.endswith(\".png\"):  # Check for image files\n",
        "            file_path = os.path.join(crops_dir, filename)\n",
        "            image = cv2.imread(file_path)\n",
        "            if image is not None:\n",
        "                cropped_images.append((filename, image))\n",
        "            else:\n",
        "                print(f\"Warning: Could not load image {filename}\")\n",
        "    return cropped_images"
      ],
      "metadata": {
        "id": "eH-rU546XxKF"
      },
      "execution_count": 4,
      "outputs": []
    },
    {
      "cell_type": "code",
      "source": [
        "from google.colab.patches import cv2_imshow\n",
        "\n",
        "# Specify the directory where your cropped images are saved\n",
        "crops_dir = '/content/drive/MyDrive/SuperAI/Project/GDA/GDA-OBB/18032024/yolov8l-obb/train-crops'\n",
        "\n",
        "# Load the cropped images\n",
        "cropped_images = load_cropped_images(crops_dir)\n",
        "\n",
        "# Assuming 'cropped_images' contains your loaded images as before\n",
        "if cropped_images:\n",
        "    filename, image = cropped_images[80]\n",
        "    print(f\"Displaying {filename}\")\n",
        "    cv2_imshow(image)  # Use cv2_imshow instead of cv2.imshow in Colab\n",
        "else:\n",
        "    print(\"No cropped images were loaded.\")"
      ],
      "metadata": {
        "colab": {
          "base_uri": "https://localhost:8080/",
          "height": 226
        },
        "id": "iHnD6oS4ckku",
        "outputId": "09d7be3f-b83b-4fca-e433-c44170ffd756"
      },
      "execution_count": 6,
      "outputs": [
        {
          "output_type": "stream",
          "name": "stdout",
          "text": [
            "Displaying 0031_class_3.0_crop_2.jpg\n"
          ]
        },
        {
          "output_type": "display_data",
          "data": {
            "text/plain": [
              "<PIL.Image.Image image mode=RGB size=175x192>"
            ],
            "image/png": "[encoded data removed]"
          },
          "metadata": {}
        }
      ]
    },
    {
      "cell_type": "code",
      "source": [
        "len(cropped_images)"
      ],
      "metadata": {
        "colab": {
          "base_uri": "https://localhost:8080/"
        },
        "id": "T7bm3ZSyb6Id",
        "outputId": "68181220-08c8-4c08-d912-a1b7acab996a"
      },
      "execution_count": 7,
      "outputs": [
        {
          "output_type": "execute_result",
          "data": {
            "text/plain": [
              "506"
            ]
          },
          "metadata": {},
          "execution_count": 7
        }
      ]
    },
    {
      "cell_type": "markdown",
      "source": [
        "## Preprocessing"
      ],
      "metadata": {
        "id": "lnAMppMW5Mdp"
      }
    },
    {
      "cell_type": "code",
      "source": [
        "filename, img = cropped_images[80]\n",
        "cv2_imshow(img)"
      ],
      "metadata": {
        "id": "R8DKJBDlce_I",
        "colab": {
          "base_uri": "https://localhost:8080/",
          "height": 209
        },
        "outputId": "302a6730-f169-4163-89a0-5af2de54b552"
      },
      "execution_count": 8,
      "outputs": [
        {
          "output_type": "display_data",
          "data": {
            "text/plain": [
              "<PIL.Image.Image image mode=RGB size=175x192>"
            ],
            "image/png": "[encoded data removed]"
          },
          "metadata": {}
        }
      ]
    },
    {
      "cell_type": "code",
      "source": [
        "# grayscale\n",
        "def img2gray(img):\n",
        "    img = cv2.fastNlMeansDenoisingColored(img, None, 5, 5, 7, 21)\n",
        "    gray = cv2.cvtColor(img, cv2.COLOR_BGR2GRAY)\n",
        "    return gray\n",
        "\n",
        "gray = img2gray(img)\n",
        "cv2_imshow(gray)"
      ],
      "metadata": {
        "id": "wMCP3opMeVKv",
        "colab": {
          "base_uri": "https://localhost:8080/",
          "height": 209
        },
        "outputId": "112cf7be-f241-4ece-fe53-1e3ee5adafe0"
      },
      "execution_count": 9,
      "outputs": [
        {
          "output_type": "display_data",
          "data": {
            "text/plain": [
              "<PIL.Image.Image image mode=L size=175x192>"
            ],
            "image/png": "[encoded data removed]"
          },
          "metadata": {}
        }
      ]
    },
    {
      "cell_type": "markdown",
      "source": [
        "---"
      ],
      "metadata": {
        "id": "UiMEdCnOeUad"
      }
    },
    {
      "cell_type": "markdown",
      "source": [
        "# OCR part"
      ],
      "metadata": {
        "id": "ZvknrI-fs1pC"
      }
    },
    {
      "cell_type": "code",
      "source": [
        "! pip install -q pytesseract\n",
        "! apt install -qq tesseract-ocr tesseract-ocr-tha"
      ],
      "metadata": {
        "colab": {
          "base_uri": "https://localhost:8080/"
        },
        "id": "SJRPr15-xvG3",
        "outputId": "a8ab8c05-32ef-4b1b-c4a7-d63ddb083211"
      },
      "execution_count": 139,
      "outputs": [
        {
          "output_type": "stream",
          "name": "stdout",
          "text": [
            "The following additional packages will be installed:\n",
            "  tesseract-ocr-eng tesseract-ocr-osd\n",
            "The following NEW packages will be installed:\n",
            "  tesseract-ocr tesseract-ocr-eng tesseract-ocr-osd tesseract-ocr-tha\n",
            "0 upgraded, 4 newly installed, 0 to remove and 39 not upgraded.\n",
            "Need to get 5,715 kB of archives.\n",
            "After this operation, 16.7 MB of additional disk space will be used.\n",
            "Selecting previously unselected package tesseract-ocr-eng.\n",
            "(Reading database ... 121753 files and directories currently installed.)\n",
            "Preparing to unpack .../tesseract-ocr-eng_1%3a4.00~git30-7274cfa-1.1_all.deb ...\n",
            "Unpacking tesseract-ocr-eng (1:4.00~git30-7274cfa-1.1) ...\n",
            "Selecting previously unselected package tesseract-ocr-osd.\n",
            "Preparing to unpack .../tesseract-ocr-osd_1%3a4.00~git30-7274cfa-1.1_all.deb ...\n",
            "Unpacking tesseract-ocr-osd (1:4.00~git30-7274cfa-1.1) ...\n",
            "Selecting previously unselected package tesseract-ocr.\n",
            "Preparing to unpack .../tesseract-ocr_4.1.1-2.1build1_amd64.deb ...\n",
            "Unpacking tesseract-ocr (4.1.1-2.1build1) ...\n",
            "Selecting previously unselected package tesseract-ocr-tha.\n",
            "Preparing to unpack .../tesseract-ocr-tha_1%3a4.00~git30-7274cfa-1.1_all.deb ...\n",
            "Unpacking tesseract-ocr-tha (1:4.00~git30-7274cfa-1.1) ...\n",
            "Setting up tesseract-ocr-eng (1:4.00~git30-7274cfa-1.1) ...\n",
            "Setting up tesseract-ocr-tha (1:4.00~git30-7274cfa-1.1) ...\n",
            "Setting up tesseract-ocr-osd (1:4.00~git30-7274cfa-1.1) ...\n",
            "Setting up tesseract-ocr (4.1.1-2.1build1) ...\n",
            "Processing triggers for man-db (2.10.2-1) ...\n"
          ]
        }
      ]
    },
    {
      "cell_type": "code",
      "source": [
        "!pip install easyocr"
      ],
      "metadata": {
        "colab": {
          "base_uri": "https://localhost:8080/"
        },
        "id": "9IUVKPQbymqC",
        "outputId": "edb3ffea-7a8c-41d9-b5e5-e538980c71f8"
      },
      "execution_count": 10,
      "outputs": [
        {
          "output_type": "stream",
          "name": "stdout",
          "text": [
            "Collecting easyocr\n",
            "  Downloading easyocr-1.7.1-py3-none-any.whl (2.9 MB)\n",
            "\u001b[2K     \u001b[90m━━━━━━━━━━━━━━━━━━━━━━━━━━━━━━━━━━━━━━━━\u001b[0m \u001b[32m2.9/2.9 MB\u001b[0m \u001b[31m13.5 MB/s\u001b[0m eta \u001b[36m0:00:00\u001b[0m\n",
            "\u001b[?25hRequirement already satisfied: torch in /usr/local/lib/python3.10/dist-packages (from easyocr) (2.2.1+cu121)\n",
            "Requirement already satisfied: torchvision>=0.5 in /usr/local/lib/python3.10/dist-packages (from easyocr) (0.17.1+cu121)\n",
            "Requirement already satisfied: opencv-python-headless in /usr/local/lib/python3.10/dist-packages (from easyocr) (4.9.0.80)\n",
            "Requirement already satisfied: scipy in /usr/local/lib/python3.10/dist-packages (from easyocr) (1.11.4)\n",
            "Requirement already satisfied: numpy in /usr/local/lib/python3.10/dist-packages (from easyocr) (1.25.2)\n",
            "Requirement already satisfied: Pillow in /usr/local/lib/python3.10/dist-packages (from easyocr) (9.4.0)\n",
            "Requirement already satisfied: scikit-image in /usr/local/lib/python3.10/dist-packages (from easyocr) (0.19.3)\n",
            "Collecting python-bidi (from easyocr)\n",
            "  Downloading python_bidi-0.4.2-py2.py3-none-any.whl (30 kB)\n",
            "Requirement already satisfied: PyYAML in /usr/local/lib/python3.10/dist-packages (from easyocr) (6.0.1)\n",
            "Requirement already satisfied: Shapely in /usr/local/lib/python3.10/dist-packages (from easyocr) (2.0.3)\n",
            "Collecting pyclipper (from easyocr)\n",
            "  Downloading pyclipper-1.3.0.post5-cp310-cp310-manylinux_2_12_x86_64.manylinux2010_x86_64.whl (908 kB)\n",
            "\u001b[2K     \u001b[90m━━━━━━━━━━━━━━━━━━━━━━━━━━━━━━━━━━━━━━━━\u001b[0m \u001b[32m908.3/908.3 kB\u001b[0m \u001b[31m20.4 MB/s\u001b[0m eta \u001b[36m0:00:00\u001b[0m\n",
            "\u001b[?25hCollecting ninja (from easyocr)\n",
            "  Downloading ninja-1.11.1.1-py2.py3-none-manylinux1_x86_64.manylinux_2_5_x86_64.whl (307 kB)\n",
            "\u001b[2K     \u001b[90m━━━━━━━━━━━━━━━━━━━━━━━━━━━━━━━━━━━━━━━━\u001b[0m \u001b[32m307.2/307.2 kB\u001b[0m \u001b[31m20.0 MB/s\u001b[0m eta \u001b[36m0:00:00\u001b[0m\n",
            "\u001b[?25hRequirement already satisfied: filelock in /usr/local/lib/python3.10/dist-packages (from torch->easyocr) (3.13.1)\n",
            "Requirement already satisfied: typing-extensions>=4.8.0 in /usr/local/lib/python3.10/dist-packages (from torch->easyocr) (4.10.0)\n",
            "Requirement already satisfied: sympy in /usr/local/lib/python3.10/dist-packages (from torch->easyocr) (1.12)\n",
            "Requirement already satisfied: networkx in /usr/local/lib/python3.10/dist-packages (from torch->easyocr) (3.2.1)\n",
            "Requirement already satisfied: jinja2 in /usr/local/lib/python3.10/dist-packages (from torch->easyocr) (3.1.3)\n",
            "Requirement already satisfied: fsspec in /usr/local/lib/python3.10/dist-packages (from torch->easyocr) (2023.6.0)\n",
            "Requirement already satisfied: nvidia-cuda-nvrtc-cu12==12.1.105 in /usr/local/lib/python3.10/dist-packages (from torch->easyocr) (12.1.105)\n",
            "Requirement already satisfied: nvidia-cuda-runtime-cu12==12.1.105 in /usr/local/lib/python3.10/dist-packages (from torch->easyocr) (12.1.105)\n",
            "Requirement already satisfied: nvidia-cuda-cupti-cu12==12.1.105 in /usr/local/lib/python3.10/dist-packages (from torch->easyocr) (12.1.105)\n",
            "Requirement already satisfied: nvidia-cudnn-cu12==8.9.2.26 in /usr/local/lib/python3.10/dist-packages (from torch->easyocr) (8.9.2.26)\n",
            "Requirement already satisfied: nvidia-cublas-cu12==12.1.3.1 in /usr/local/lib/python3.10/dist-packages (from torch->easyocr) (12.1.3.1)\n",
            "Requirement already satisfied: nvidia-cufft-cu12==11.0.2.54 in /usr/local/lib/python3.10/dist-packages (from torch->easyocr) (11.0.2.54)\n",
            "Requirement already satisfied: nvidia-curand-cu12==10.3.2.106 in /usr/local/lib/python3.10/dist-packages (from torch->easyocr) (10.3.2.106)\n",
            "Requirement already satisfied: nvidia-cusolver-cu12==11.4.5.107 in /usr/local/lib/python3.10/dist-packages (from torch->easyocr) (11.4.5.107)\n",
            "Requirement already satisfied: nvidia-cusparse-cu12==12.1.0.106 in /usr/local/lib/python3.10/dist-packages (from torch->easyocr) (12.1.0.106)\n",
            "Requirement already satisfied: nvidia-nccl-cu12==2.19.3 in /usr/local/lib/python3.10/dist-packages (from torch->easyocr) (2.19.3)\n",
            "Requirement already satisfied: nvidia-nvtx-cu12==12.1.105 in /usr/local/lib/python3.10/dist-packages (from torch->easyocr) (12.1.105)\n",
            "Requirement already satisfied: triton==2.2.0 in /usr/local/lib/python3.10/dist-packages (from torch->easyocr) (2.2.0)\n",
            "Requirement already satisfied: nvidia-nvjitlink-cu12 in /usr/local/lib/python3.10/dist-packages (from nvidia-cusolver-cu12==11.4.5.107->torch->easyocr) (12.4.99)\n",
            "Requirement already satisfied: six in /usr/local/lib/python3.10/dist-packages (from python-bidi->easyocr) (1.16.0)\n",
            "Requirement already satisfied: imageio>=2.4.1 in /usr/local/lib/python3.10/dist-packages (from scikit-image->easyocr) (2.31.6)\n",
            "Requirement already satisfied: tifffile>=2019.7.26 in /usr/local/lib/python3.10/dist-packages (from scikit-image->easyocr) (2024.2.12)\n",
            "Requirement already satisfied: PyWavelets>=1.1.1 in /usr/local/lib/python3.10/dist-packages (from scikit-image->easyocr) (1.5.0)\n",
            "Requirement already satisfied: packaging>=20.0 in /usr/local/lib/python3.10/dist-packages (from scikit-image->easyocr) (24.0)\n",
            "Requirement already satisfied: MarkupSafe>=2.0 in /usr/local/lib/python3.10/dist-packages (from jinja2->torch->easyocr) (2.1.5)\n",
            "Requirement already satisfied: mpmath>=0.19 in /usr/local/lib/python3.10/dist-packages (from sympy->torch->easyocr) (1.3.0)\n",
            "Installing collected packages: pyclipper, ninja, python-bidi, easyocr\n",
            "Successfully installed easyocr-1.7.1 ninja-1.11.1.1 pyclipper-1.3.0.post5 python-bidi-0.4.2\n"
          ]
        }
      ]
    },
    {
      "cell_type": "code",
      "source": [
        "import pytesseract\n",
        "import easyocr"
      ],
      "metadata": {
        "id": "YKIfJfb2y1vN"
      },
      "execution_count": 140,
      "outputs": []
    },
    {
      "cell_type": "code",
      "source": [
        "def img2text(img):\n",
        "    # text = pytesseract.image_to_string(img, lang='tha', config='--oem 3 --psm 6')\n",
        "    reader = easyocr.Reader(['th'])\n",
        "    text_list = reader.readtext(img)\n",
        "    text = ' '.join([result[1] for result in text_list]) # Extract text from each result tuple and join them into a single string\n",
        "    return text\n",
        "\n",
        "text = img2text(gray)\n",
        "text"
      ],
      "metadata": {
        "id": "SxNLMRRPEJdC",
        "colab": {
          "base_uri": "https://localhost:8080/",
          "height": 35
        },
        "outputId": "14375efd-b5a7-484c-87cf-e2f77e017f3b"
      },
      "execution_count": 144,
      "outputs": [
        {
          "output_type": "execute_result",
          "data": {
            "text/plain": [
              "'ไค ว0 วิออิาณุ %'"
            ],
            "application/vnd.google.colaboratory.intrinsic+json": {
              "type": "string"
            }
          },
          "metadata": {},
          "execution_count": 144
        }
      ]
    },
    {
      "cell_type": "code",
      "source": [
        "import re\n",
        "def extract_1stnum(text):\n",
        "    # Regular expression pattern for matching numbers\n",
        "    pattern = r'\\b\\d+\\b'  # This pattern matches whole numbers (no decimal points)\n",
        "\n",
        "    # Use re.findall() to find all occurrences of the pattern\n",
        "    numbers = re.findall(pattern, text)\n",
        "\n",
        "    # Check if we found any numbers, and if so, return the first one\n",
        "    if numbers:\n",
        "        # Convert the extracted strings to integers and return the first one\n",
        "        return int(numbers[0])\n",
        "    else:\n",
        "        # If no numbers found, return None or some other indicator\n",
        "        return 'N/A'\n",
        "\n",
        "print(extract_1stnum(text))"
      ],
      "metadata": {
        "colab": {
          "base_uri": "https://localhost:8080/"
        },
        "id": "Mx_80mdXNVvA",
        "outputId": "144a0d4e-9829-42be-860d-60184a3a9cc3"
      },
      "execution_count": 37,
      "outputs": [
        {
          "output_type": "stream",
          "name": "stdout",
          "text": [
            "N/A\n"
          ]
        }
      ]
    },
    {
      "cell_type": "markdown",
      "source": [
        "### Extract only 1st number"
      ],
      "metadata": {
        "id": "b4aD4LNK3EQ4"
      }
    },
    {
      "cell_type": "code",
      "source": [
        "# Assume 'results' is the list of OCR results\n",
        "first_number = next((text for bbox, text, prob in results if text.isdigit()), None)\n",
        "\n",
        "if first_number:\n",
        "    print(f\"Detected Number: {first_number}\")\n",
        "else:\n",
        "    print(\"No numbers detected.\")\n"
      ],
      "metadata": {
        "id": "ud5newQm-l8t",
        "colab": {
          "base_uri": "https://localhost:8080/",
          "height": 332
        },
        "outputId": "8b3a1893-dc7f-4307-eb2c-f428ab300dfa"
      },
      "execution_count": 15,
      "outputs": [
        {
          "output_type": "error",
          "ename": "ValueError",
          "evalue": "not enough values to unpack (expected 3, got 1)",
          "traceback": [
            "\u001b[0;31m---------------------------------------------------------------------------\u001b[0m",
            "\u001b[0;31mValueError\u001b[0m                                Traceback (most recent call last)",
            "\u001b[0;32m<ipython-input-15-8b8b011990da>\u001b[0m in \u001b[0;36m<cell line: 2>\u001b[0;34m()\u001b[0m\n\u001b[1;32m      1\u001b[0m \u001b[0;31m# Assume 'results' is the list of OCR results\u001b[0m\u001b[0;34m\u001b[0m\u001b[0;34m\u001b[0m\u001b[0m\n\u001b[0;32m----> 2\u001b[0;31m \u001b[0mfirst_number\u001b[0m \u001b[0;34m=\u001b[0m \u001b[0mnext\u001b[0m\u001b[0;34m(\u001b[0m\u001b[0;34m(\u001b[0m\u001b[0mtext\u001b[0m \u001b[0;32mfor\u001b[0m \u001b[0mbbox\u001b[0m\u001b[0;34m,\u001b[0m \u001b[0mtext\u001b[0m\u001b[0;34m,\u001b[0m \u001b[0mprob\u001b[0m \u001b[0;32min\u001b[0m \u001b[0mtext\u001b[0m \u001b[0;32mif\u001b[0m \u001b[0mtext\u001b[0m\u001b[0;34m.\u001b[0m\u001b[0misdigit\u001b[0m\u001b[0;34m(\u001b[0m\u001b[0;34m)\u001b[0m\u001b[0;34m)\u001b[0m\u001b[0;34m,\u001b[0m \u001b[0;32mNone\u001b[0m\u001b[0;34m)\u001b[0m\u001b[0;34m\u001b[0m\u001b[0;34m\u001b[0m\u001b[0m\n\u001b[0m\u001b[1;32m      3\u001b[0m \u001b[0;34m\u001b[0m\u001b[0m\n\u001b[1;32m      4\u001b[0m \u001b[0;32mif\u001b[0m \u001b[0mfirst_number\u001b[0m\u001b[0;34m:\u001b[0m\u001b[0;34m\u001b[0m\u001b[0;34m\u001b[0m\u001b[0m\n\u001b[1;32m      5\u001b[0m     \u001b[0mprint\u001b[0m\u001b[0;34m(\u001b[0m\u001b[0;34mf\"Detected Number: {first_number}\"\u001b[0m\u001b[0;34m)\u001b[0m\u001b[0;34m\u001b[0m\u001b[0;34m\u001b[0m\u001b[0m\n",
            "\u001b[0;32m<ipython-input-15-8b8b011990da>\u001b[0m in \u001b[0;36m<genexpr>\u001b[0;34m(.0)\u001b[0m\n\u001b[1;32m      1\u001b[0m \u001b[0;31m# Assume 'results' is the list of OCR results\u001b[0m\u001b[0;34m\u001b[0m\u001b[0;34m\u001b[0m\u001b[0m\n\u001b[0;32m----> 2\u001b[0;31m \u001b[0mfirst_number\u001b[0m \u001b[0;34m=\u001b[0m \u001b[0mnext\u001b[0m\u001b[0;34m(\u001b[0m\u001b[0;34m(\u001b[0m\u001b[0mtext\u001b[0m \u001b[0;32mfor\u001b[0m \u001b[0mbbox\u001b[0m\u001b[0;34m,\u001b[0m \u001b[0mtext\u001b[0m\u001b[0;34m,\u001b[0m \u001b[0mprob\u001b[0m \u001b[0;32min\u001b[0m \u001b[0mtext\u001b[0m \u001b[0;32mif\u001b[0m \u001b[0mtext\u001b[0m\u001b[0;34m.\u001b[0m\u001b[0misdigit\u001b[0m\u001b[0;34m(\u001b[0m\u001b[0;34m)\u001b[0m\u001b[0;34m)\u001b[0m\u001b[0;34m,\u001b[0m \u001b[0;32mNone\u001b[0m\u001b[0;34m)\u001b[0m\u001b[0;34m\u001b[0m\u001b[0;34m\u001b[0m\u001b[0m\n\u001b[0m\u001b[1;32m      3\u001b[0m \u001b[0;34m\u001b[0m\u001b[0m\n\u001b[1;32m      4\u001b[0m \u001b[0;32mif\u001b[0m \u001b[0mfirst_number\u001b[0m\u001b[0;34m:\u001b[0m\u001b[0;34m\u001b[0m\u001b[0;34m\u001b[0m\u001b[0m\n\u001b[1;32m      5\u001b[0m     \u001b[0mprint\u001b[0m\u001b[0;34m(\u001b[0m\u001b[0;34mf\"Detected Number: {first_number}\"\u001b[0m\u001b[0;34m)\u001b[0m\u001b[0;34m\u001b[0m\u001b[0;34m\u001b[0m\u001b[0m\n",
            "\u001b[0;31mValueError\u001b[0m: not enough values to unpack (expected 3, got 1)"
          ]
        }
      ]
    },
    {
      "cell_type": "markdown",
      "source": [
        "---"
      ],
      "metadata": {
        "id": "pjhMaqnL5AOe"
      }
    },
    {
      "cell_type": "markdown",
      "source": [
        "---"
      ],
      "metadata": {
        "id": "cqkPNnet4Sxb"
      }
    },
    {
      "cell_type": "markdown",
      "source": [
        "# Inference"
      ],
      "metadata": {
        "id": "OukQneXY4T4W"
      }
    },
    {
      "cell_type": "markdown",
      "source": [
        "**Goal:**\n",
        "\n",
        "- input 1 package image\n",
        "- get values of GDA (Energy, Sugar, Fat, Sodium)\n",
        "- save value to json\n"
      ],
      "metadata": {
        "id": "RhbYCBHJ4Wun"
      }
    },
    {
      "cell_type": "markdown",
      "source": [
        "### install libraries"
      ],
      "metadata": {
        "id": "cxrul1nJ42YV"
      }
    },
    {
      "cell_type": "code",
      "source": [
        "!pip install ultralytics\n",
        "!pip install easyocr"
      ],
      "metadata": {
        "colab": {
          "base_uri": "https://localhost:8080/"
        },
        "id": "ct0LnTgt4TU7",
        "outputId": "7ba695f3-b004-486c-cc97-52666a039553"
      },
      "execution_count": null,
      "outputs": [
        {
          "output_type": "stream",
          "name": "stdout",
          "text": [
            "Requirement already satisfied: ultralytics in /usr/local/lib/python3.10/dist-packages (8.1.29)\n",
            "Requirement already satisfied: matplotlib>=3.3.0 in /usr/local/lib/python3.10/dist-packages (from ultralytics) (3.7.1)\n",
            "Requirement already satisfied: opencv-python>=4.6.0 in /usr/local/lib/python3.10/dist-packages (from ultralytics) (4.8.0.76)\n",
            "Requirement already satisfied: pillow>=7.1.2 in /usr/local/lib/python3.10/dist-packages (from ultralytics) (9.4.0)\n",
            "Requirement already satisfied: pyyaml>=5.3.1 in /usr/local/lib/python3.10/dist-packages (from ultralytics) (6.0.1)\n",
            "Requirement already satisfied: requests>=2.23.0 in /usr/local/lib/python3.10/dist-packages (from ultralytics) (2.31.0)\n",
            "Requirement already satisfied: scipy>=1.4.1 in /usr/local/lib/python3.10/dist-packages (from ultralytics) (1.11.4)\n",
            "Requirement already satisfied: torch>=1.8.0 in /usr/local/lib/python3.10/dist-packages (from ultralytics) (2.2.1+cu121)\n",
            "Requirement already satisfied: torchvision>=0.9.0 in /usr/local/lib/python3.10/dist-packages (from ultralytics) (0.17.1+cu121)\n",
            "Requirement already satisfied: tqdm>=4.64.0 in /usr/local/lib/python3.10/dist-packages (from ultralytics) (4.66.2)\n",
            "Requirement already satisfied: psutil in /usr/local/lib/python3.10/dist-packages (from ultralytics) (5.9.5)\n",
            "Requirement already satisfied: py-cpuinfo in /usr/local/lib/python3.10/dist-packages (from ultralytics) (9.0.0)\n",
            "Requirement already satisfied: thop>=0.1.1 in /usr/local/lib/python3.10/dist-packages (from ultralytics) (0.1.1.post2209072238)\n",
            "Requirement already satisfied: pandas>=1.1.4 in /usr/local/lib/python3.10/dist-packages (from ultralytics) (1.5.3)\n",
            "Requirement already satisfied: seaborn>=0.11.0 in /usr/local/lib/python3.10/dist-packages (from ultralytics) (0.13.1)\n",
            "Requirement already satisfied: contourpy>=1.0.1 in /usr/local/lib/python3.10/dist-packages (from matplotlib>=3.3.0->ultralytics) (1.2.0)\n",
            "Requirement already satisfied: cycler>=0.10 in /usr/local/lib/python3.10/dist-packages (from matplotlib>=3.3.0->ultralytics) (0.12.1)\n",
            "Requirement already satisfied: fonttools>=4.22.0 in /usr/local/lib/python3.10/dist-packages (from matplotlib>=3.3.0->ultralytics) (4.49.0)\n",
            "Requirement already satisfied: kiwisolver>=1.0.1 in /usr/local/lib/python3.10/dist-packages (from matplotlib>=3.3.0->ultralytics) (1.4.5)\n",
            "Requirement already satisfied: numpy>=1.20 in /usr/local/lib/python3.10/dist-packages (from matplotlib>=3.3.0->ultralytics) (1.25.2)\n",
            "Requirement already satisfied: packaging>=20.0 in /usr/local/lib/python3.10/dist-packages (from matplotlib>=3.3.0->ultralytics) (24.0)\n",
            "Requirement already satisfied: pyparsing>=2.3.1 in /usr/local/lib/python3.10/dist-packages (from matplotlib>=3.3.0->ultralytics) (3.1.2)\n",
            "Requirement already satisfied: python-dateutil>=2.7 in /usr/local/lib/python3.10/dist-packages (from matplotlib>=3.3.0->ultralytics) (2.8.2)\n",
            "Requirement already satisfied: pytz>=2020.1 in /usr/local/lib/python3.10/dist-packages (from pandas>=1.1.4->ultralytics) (2023.4)\n",
            "Requirement already satisfied: charset-normalizer<4,>=2 in /usr/local/lib/python3.10/dist-packages (from requests>=2.23.0->ultralytics) (3.3.2)\n",
            "Requirement already satisfied: idna<4,>=2.5 in /usr/local/lib/python3.10/dist-packages (from requests>=2.23.0->ultralytics) (3.6)\n",
            "Requirement already satisfied: urllib3<3,>=1.21.1 in /usr/local/lib/python3.10/dist-packages (from requests>=2.23.0->ultralytics) (2.0.7)\n",
            "Requirement already satisfied: certifi>=2017.4.17 in /usr/local/lib/python3.10/dist-packages (from requests>=2.23.0->ultralytics) (2024.2.2)\n",
            "Requirement already satisfied: filelock in /usr/local/lib/python3.10/dist-packages (from torch>=1.8.0->ultralytics) (3.13.1)\n",
            "Requirement already satisfied: typing-extensions>=4.8.0 in /usr/local/lib/python3.10/dist-packages (from torch>=1.8.0->ultralytics) (4.10.0)\n",
            "Requirement already satisfied: sympy in /usr/local/lib/python3.10/dist-packages (from torch>=1.8.0->ultralytics) (1.12)\n",
            "Requirement already satisfied: networkx in /usr/local/lib/python3.10/dist-packages (from torch>=1.8.0->ultralytics) (3.2.1)\n",
            "Requirement already satisfied: jinja2 in /usr/local/lib/python3.10/dist-packages (from torch>=1.8.0->ultralytics) (3.1.3)\n",
            "Requirement already satisfied: fsspec in /usr/local/lib/python3.10/dist-packages (from torch>=1.8.0->ultralytics) (2023.6.0)\n",
            "Requirement already satisfied: nvidia-cuda-nvrtc-cu12==12.1.105 in /usr/local/lib/python3.10/dist-packages (from torch>=1.8.0->ultralytics) (12.1.105)\n",
            "Requirement already satisfied: nvidia-cuda-runtime-cu12==12.1.105 in /usr/local/lib/python3.10/dist-packages (from torch>=1.8.0->ultralytics) (12.1.105)\n",
            "Requirement already satisfied: nvidia-cuda-cupti-cu12==12.1.105 in /usr/local/lib/python3.10/dist-packages (from torch>=1.8.0->ultralytics) (12.1.105)\n",
            "Requirement already satisfied: nvidia-cudnn-cu12==8.9.2.26 in /usr/local/lib/python3.10/dist-packages (from torch>=1.8.0->ultralytics) (8.9.2.26)\n",
            "Requirement already satisfied: nvidia-cublas-cu12==12.1.3.1 in /usr/local/lib/python3.10/dist-packages (from torch>=1.8.0->ultralytics) (12.1.3.1)\n",
            "Requirement already satisfied: nvidia-cufft-cu12==11.0.2.54 in /usr/local/lib/python3.10/dist-packages (from torch>=1.8.0->ultralytics) (11.0.2.54)\n",
            "Requirement already satisfied: nvidia-curand-cu12==10.3.2.106 in /usr/local/lib/python3.10/dist-packages (from torch>=1.8.0->ultralytics) (10.3.2.106)\n",
            "Requirement already satisfied: nvidia-cusolver-cu12==11.4.5.107 in /usr/local/lib/python3.10/dist-packages (from torch>=1.8.0->ultralytics) (11.4.5.107)\n",
            "Requirement already satisfied: nvidia-cusparse-cu12==12.1.0.106 in /usr/local/lib/python3.10/dist-packages (from torch>=1.8.0->ultralytics) (12.1.0.106)\n",
            "Requirement already satisfied: nvidia-nccl-cu12==2.19.3 in /usr/local/lib/python3.10/dist-packages (from torch>=1.8.0->ultralytics) (2.19.3)\n",
            "Requirement already satisfied: nvidia-nvtx-cu12==12.1.105 in /usr/local/lib/python3.10/dist-packages (from torch>=1.8.0->ultralytics) (12.1.105)\n",
            "Requirement already satisfied: triton==2.2.0 in /usr/local/lib/python3.10/dist-packages (from torch>=1.8.0->ultralytics) (2.2.0)\n",
            "Requirement already satisfied: nvidia-nvjitlink-cu12 in /usr/local/lib/python3.10/dist-packages (from nvidia-cusolver-cu12==11.4.5.107->torch>=1.8.0->ultralytics) (12.4.99)\n",
            "Requirement already satisfied: six>=1.5 in /usr/local/lib/python3.10/dist-packages (from python-dateutil>=2.7->matplotlib>=3.3.0->ultralytics) (1.16.0)\n",
            "Requirement already satisfied: MarkupSafe>=2.0 in /usr/local/lib/python3.10/dist-packages (from jinja2->torch>=1.8.0->ultralytics) (2.1.5)\n",
            "Requirement already satisfied: mpmath>=0.19 in /usr/local/lib/python3.10/dist-packages (from sympy->torch>=1.8.0->ultralytics) (1.3.0)\n",
            "Requirement already satisfied: easyocr in /usr/local/lib/python3.10/dist-packages (1.7.1)\n",
            "Requirement already satisfied: torch in /usr/local/lib/python3.10/dist-packages (from easyocr) (2.2.1+cu121)\n",
            "Requirement already satisfied: torchvision>=0.5 in /usr/local/lib/python3.10/dist-packages (from easyocr) (0.17.1+cu121)\n",
            "Requirement already satisfied: opencv-python-headless in /usr/local/lib/python3.10/dist-packages (from easyocr) (4.9.0.80)\n",
            "Requirement already satisfied: scipy in /usr/local/lib/python3.10/dist-packages (from easyocr) (1.11.4)\n",
            "Requirement already satisfied: numpy in /usr/local/lib/python3.10/dist-packages (from easyocr) (1.25.2)\n",
            "Requirement already satisfied: Pillow in /usr/local/lib/python3.10/dist-packages (from easyocr) (9.4.0)\n",
            "Requirement already satisfied: scikit-image in /usr/local/lib/python3.10/dist-packages (from easyocr) (0.19.3)\n",
            "Requirement already satisfied: python-bidi in /usr/local/lib/python3.10/dist-packages (from easyocr) (0.4.2)\n",
            "Requirement already satisfied: PyYAML in /usr/local/lib/python3.10/dist-packages (from easyocr) (6.0.1)\n",
            "Requirement already satisfied: Shapely in /usr/local/lib/python3.10/dist-packages (from easyocr) (2.0.3)\n",
            "Requirement already satisfied: pyclipper in /usr/local/lib/python3.10/dist-packages (from easyocr) (1.3.0.post5)\n",
            "Requirement already satisfied: ninja in /usr/local/lib/python3.10/dist-packages (from easyocr) (1.11.1.1)\n",
            "Requirement already satisfied: filelock in /usr/local/lib/python3.10/dist-packages (from torch->easyocr) (3.13.1)\n",
            "Requirement already satisfied: typing-extensions>=4.8.0 in /usr/local/lib/python3.10/dist-packages (from torch->easyocr) (4.10.0)\n",
            "Requirement already satisfied: sympy in /usr/local/lib/python3.10/dist-packages (from torch->easyocr) (1.12)\n",
            "Requirement already satisfied: networkx in /usr/local/lib/python3.10/dist-packages (from torch->easyocr) (3.2.1)\n",
            "Requirement already satisfied: jinja2 in /usr/local/lib/python3.10/dist-packages (from torch->easyocr) (3.1.3)\n",
            "Requirement already satisfied: fsspec in /usr/local/lib/python3.10/dist-packages (from torch->easyocr) (2023.6.0)\n",
            "Requirement already satisfied: nvidia-cuda-nvrtc-cu12==12.1.105 in /usr/local/lib/python3.10/dist-packages (from torch->easyocr) (12.1.105)\n",
            "Requirement already satisfied: nvidia-cuda-runtime-cu12==12.1.105 in /usr/local/lib/python3.10/dist-packages (from torch->easyocr) (12.1.105)\n",
            "Requirement already satisfied: nvidia-cuda-cupti-cu12==12.1.105 in /usr/local/lib/python3.10/dist-packages (from torch->easyocr) (12.1.105)\n",
            "Requirement already satisfied: nvidia-cudnn-cu12==8.9.2.26 in /usr/local/lib/python3.10/dist-packages (from torch->easyocr) (8.9.2.26)\n",
            "Requirement already satisfied: nvidia-cublas-cu12==12.1.3.1 in /usr/local/lib/python3.10/dist-packages (from torch->easyocr) (12.1.3.1)\n",
            "Requirement already satisfied: nvidia-cufft-cu12==11.0.2.54 in /usr/local/lib/python3.10/dist-packages (from torch->easyocr) (11.0.2.54)\n",
            "Requirement already satisfied: nvidia-curand-cu12==10.3.2.106 in /usr/local/lib/python3.10/dist-packages (from torch->easyocr) (10.3.2.106)\n",
            "Requirement already satisfied: nvidia-cusolver-cu12==11.4.5.107 in /usr/local/lib/python3.10/dist-packages (from torch->easyocr) (11.4.5.107)\n",
            "Requirement already satisfied: nvidia-cusparse-cu12==12.1.0.106 in /usr/local/lib/python3.10/dist-packages (from torch->easyocr) (12.1.0.106)\n",
            "Requirement already satisfied: nvidia-nccl-cu12==2.19.3 in /usr/local/lib/python3.10/dist-packages (from torch->easyocr) (2.19.3)\n",
            "Requirement already satisfied: nvidia-nvtx-cu12==12.1.105 in /usr/local/lib/python3.10/dist-packages (from torch->easyocr) (12.1.105)\n",
            "Requirement already satisfied: triton==2.2.0 in /usr/local/lib/python3.10/dist-packages (from torch->easyocr) (2.2.0)\n",
            "Requirement already satisfied: nvidia-nvjitlink-cu12 in /usr/local/lib/python3.10/dist-packages (from nvidia-cusolver-cu12==11.4.5.107->torch->easyocr) (12.4.99)\n",
            "Requirement already satisfied: six in /usr/local/lib/python3.10/dist-packages (from python-bidi->easyocr) (1.16.0)\n",
            "Requirement already satisfied: imageio>=2.4.1 in /usr/local/lib/python3.10/dist-packages (from scikit-image->easyocr) (2.31.6)\n",
            "Requirement already satisfied: tifffile>=2019.7.26 in /usr/local/lib/python3.10/dist-packages (from scikit-image->easyocr) (2024.2.12)\n",
            "Requirement already satisfied: PyWavelets>=1.1.1 in /usr/local/lib/python3.10/dist-packages (from scikit-image->easyocr) (1.5.0)\n",
            "Requirement already satisfied: packaging>=20.0 in /usr/local/lib/python3.10/dist-packages (from scikit-image->easyocr) (24.0)\n",
            "Requirement already satisfied: MarkupSafe>=2.0 in /usr/local/lib/python3.10/dist-packages (from jinja2->torch->easyocr) (2.1.5)\n",
            "Requirement already satisfied: mpmath>=0.19 in /usr/local/lib/python3.10/dist-packages (from sympy->torch->easyocr) (1.3.0)\n"
          ]
        }
      ]
    },
    {
      "cell_type": "code",
      "source": [
        "from ultralytics import YOLO\n",
        "import cv2\n",
        "import os\n",
        "import numpy as np\n",
        "\n",
        "# Load the model\n",
        "model = YOLO('/content/drive/MyDrive/SuperAI/Project/GDA/GDA-OBB/18032024/yolov8l-obb/train_ep-300_sz-800/weights/best.pt')\n",
        "\n",
        "# Predict on a single image\n",
        "results = model.predict('/content/drive/MyDrive/SuperAI/Project/GDA/GDA-OBB/images/val/0025.jpg')  # Specify your image path"
      ],
      "metadata": {
        "colab": {
          "base_uri": "https://localhost:8080/"
        },
        "id": "I87j0tXA5iGQ",
        "outputId": "6ec78db3-899f-465f-c793-0fa0d7c70ecf"
      },
      "execution_count": 214,
      "outputs": [
        {
          "output_type": "stream",
          "name": "stdout",
          "text": [
            "\n",
            "image 1/1 /content/drive/MyDrive/SuperAI/Project/GDA/GDA-OBB/images/val/0025.jpg: 800x608 64.9ms\n",
            "Speed: 4.3ms preprocess, 64.9ms inference, 2.4ms postprocess per image at shape (1, 3, 800, 608)\n"
          ]
        }
      ]
    },
    {
      "cell_type": "code",
      "source": [
        "def process_results(result):\n",
        "    # Define colors for each label in BGR format\n",
        "    colors = {0: (0, 0, 255),    # Red\n",
        "              1: (255, 255, 100), # Blue\n",
        "              2: (0, 255, 255),  # Green\n",
        "              3: (147, 100, 200)}  # Pink\n",
        "\n",
        "    # Copy the original image for cropping and annotating\n",
        "    orig_image_for_cropping = result.orig_img.copy()\n",
        "    image_for_drawing = result.orig_img.copy()\n",
        "\n",
        "    # Dictionary to hold crops\n",
        "    cropped_images = {}\n",
        "\n",
        "    # Track drawn classes to ensure only one OBB per class\n",
        "    drawn_classes = set()\n",
        "\n",
        "    if result.obb.xyxyxyxy.numel() > 0:\n",
        "        obbs = result.obb.xyxyxyxy.cpu().numpy()\n",
        "        aabbs = result.obb.xyxy.cpu().numpy()\n",
        "        classes = result.obb.cls.cpu().numpy()\n",
        "        confidences = result.obb.conf.cpu().numpy()\n",
        "\n",
        "        # Iterate over detections\n",
        "        for i, (obb, aabb, cls_id, conf) in enumerate(zip(obbs, aabbs, classes, confidences)):\n",
        "            if conf >= 0.2 and cls_id not in drawn_classes:\n",
        "                # Mark the class as drawn\n",
        "                drawn_classes.add(cls_id)\n",
        "\n",
        "                x1, y1, x2, y2 = map(int, aabb)\n",
        "\n",
        "                if x1 < x2 and y1 < y2 and x1 >= 0 and y1 >= 0 and x2 <= orig_image_for_cropping.shape[1] and y2 <= orig_image_for_cropping.shape[0]:\n",
        "                    crop = orig_image_for_cropping[y1:y2, x1:x2]\n",
        "                    if crop.size > 0:\n",
        "                        cropped_images[cls_id] = crop\n",
        "\n",
        "                # Draw OBB on the original image\n",
        "                color = colors.get(cls_id, (255, 255, 255))\n",
        "                points = obb.reshape((-1, 1, 2)).astype(np.int32)\n",
        "                cv2.polylines(image_for_drawing, [points], isClosed=True, color=color, thickness=2)\n",
        "\n",
        "    return cropped_images, image_for_drawing\n",
        "\n",
        "# Process the prediction and get the crops and annotated image\n",
        "for result in results:\n",
        "    crops, annotated_image = process_results(result)"
      ],
      "metadata": {
        "id": "PkcWGTGj54PA"
      },
      "execution_count": 215,
      "outputs": []
    },
    {
      "cell_type": "code",
      "source": [
        "import easyocr\n",
        "import re\n",
        "\n",
        "def img2gray(img):\n",
        "    img = cv2.fastNlMeansDenoisingColored(img, None, 5, 5, 7, 21)\n",
        "    gray = cv2.cvtColor(img, cv2.COLOR_BGR2GRAY)\n",
        "    return gray\n",
        "\n",
        "def img2text(img):\n",
        "    reader = easyocr.Reader(['en'])\n",
        "    text_list = reader.readtext(img)\n",
        "    text = ' '.join([result[1] for result in text_list]) # Extract text from each result tuple and join them into a single string\n",
        "    return text\n",
        "\n",
        "def extract_1stnum(text):\n",
        "    # Regular expression pattern for matching numbers\n",
        "    pattern = r'\\b\\d+\\b'  # This pattern matches whole numbers (no decimal points)\n",
        "\n",
        "    # Use re.findall() to find all occurrences of the pattern\n",
        "    numbers = re.findall(pattern, text)\n",
        "\n",
        "    # Check if any numbers were found\n",
        "    if numbers:\n",
        "        # Convert the first extracted string to an integer and return it\n",
        "        return int(numbers[0])\n",
        "    else:\n",
        "        # Return None (or another appropriate value) if no numbers were found\n",
        "        return 'N/A'"
      ],
      "metadata": {
        "id": "w1vNDMH7JR8I"
      },
      "execution_count": 204,
      "outputs": []
    },
    {
      "cell_type": "code",
      "source": [
        "def remove_noise_and_convert_to_bw(crop, focus_height_proportion=0.5):\n",
        "    # Assume crop is already loaded as an image\n",
        "\n",
        "    # Convert crop image to grayscale\n",
        "    gray_full = cv2.cvtColor(crop, cv2.COLOR_BGR2GRAY)\n",
        "\n",
        "    # Apply a Gaussian blur to the full image to blur everything\n",
        "    blurred_full = cv2.GaussianBlur(gray_full, (25, 25), 0)\n",
        "\n",
        "    # Determine the height of the region of interest based on proportion\n",
        "    h, w = gray_full.shape\n",
        "    roi_height = int(h * focus_height_proportion)\n",
        "    roi_y_start = (h - roi_height) // 2\n",
        "\n",
        "    # Extract the region of interest from the grayscale image\n",
        "    roi_gray = gray_full[roi_y_start:roi_y_start + roi_height, :]\n",
        "\n",
        "    # Apply CLAHE to the grayscale ROI to reduce noise and enhance contrast\n",
        "    clahe = cv2.createCLAHE(clipLimit=5.0, tileGridSize=(8, 8))\n",
        "    clahe_roi = clahe.apply(roi_gray)\n",
        "\n",
        "    # Combine the original grayscale image with the CLAHE enhanced center strip\n",
        "    enhanced_gray = blurred_full.copy()\n",
        "    enhanced_gray[roi_y_start:roi_y_start + roi_height, :] = clahe_roi\n",
        "\n",
        "    # Apply a median filter to reduce noise throughout the image\n",
        "    noise_reduced = cv2.medianBlur(enhanced_gray, 3)\n",
        "\n",
        "    # Perform dilation followed by erosion to close holes within foreground objects\n",
        "    kernel = np.ones((2, 2), np.uint8)\n",
        "    dilation = cv2.dilate(noise_reduced, kernel, iterations=3)\n",
        "    erosion = cv2.erode(dilation, kernel, iterations=1)\n",
        "    dilation = cv2.dilate(erosion, kernel, iterations=2)\n",
        "    erosion = cv2.erode(dilation, kernel, iterations=2)\n",
        "\n",
        "    # Convert the image to black and white\n",
        "    # _, bw_image = cv2.threshold(erosion, 125, 255, cv2.THRESH_BINARY + cv2.THRESH_OTSU)\n",
        "\n",
        "    return erosion\n"
      ],
      "metadata": {
        "id": "JLxmRTBbI5ez"
      },
      "execution_count": 212,
      "outputs": []
    },
    {
      "cell_type": "code",
      "source": [
        "from google.colab.patches import cv2_imshow\n",
        "\n",
        "\n",
        "# Initialize a dictionary to store the values\n",
        "nutritional_values = {}\n",
        "\n",
        "for cls_id, crop in crops.items():\n",
        "    gray = img2gray(crop)\n",
        "    bw_image  = remove_noise_and_convert_to_bw(crop)\n",
        "\n",
        "    text = img2text(bw_image)\n",
        "\n",
        "    val = extract_1stnum(text)\n",
        "    print(f\"Class:{cls_id}, \\nValue:{val}, \\nCrop:\")\n",
        "\n",
        "    if cls_id == 0:\n",
        "      nutritional_values['Energy'] = val\n",
        "      print(f\"พลังงาน {val} กิโลแคลอรี\")\n",
        "    elif cls_id == 1:\n",
        "      nutritional_values['Sugar'] = val\n",
        "      print(f\"น้ำตาล {val} กรัม\")\n",
        "    elif cls_id == 2:\n",
        "      nutritional_values['Fat'] = val\n",
        "      print(f\"ไขมัน {val} กรัม\")\n",
        "    elif cls_id == 3:\n",
        "      nutritional_values['Sodium'] = val\n",
        "      print(f\"โซเดียม {val} มิลลิกรัม\")\n",
        "\n",
        "    cv2_imshow(crop)\n",
        "    cv2_imshow(bw_image)"
      ],
      "metadata": {
        "colab": {
          "base_uri": "https://localhost:8080/",
          "height": 1000
        },
        "id": "VZQHflmjHLbq",
        "outputId": "4e850d72-6ea0-4d2d-d169-1958bbd9fc13"
      },
      "execution_count": 216,
      "outputs": [
        {
          "output_type": "stream",
          "name": "stdout",
          "text": [
            "Class:1.0, \n",
            "Value:10, \n",
            "Crop:\n",
            "น้ำตาล 10 กรัม\n"
          ]
        },
        {
          "output_type": "display_data",
          "data": {
            "text/plain": [
              "<PIL.Image.Image image mode=RGB size=134x179>"
            ],
            "image/png": "[encoded data removed]"
          },
          "metadata": {}
        },
        {
          "output_type": "display_data",
          "data": {
            "text/plain": [
              "<PIL.Image.Image image mode=L size=134x179>"
            ],
            "image/png": "[encoded data removed]"
          },
          "metadata": {}
        },
        {
          "output_type": "stream",
          "name": "stdout",
          "text": [
            "Class:0.0, \n",
            "Value:950, \n",
            "Crop:\n",
            "พลังงาน 950 กิโลแคลอรี\n"
          ]
        },
        {
          "output_type": "display_data",
          "data": {
            "text/plain": [
              "<PIL.Image.Image image mode=RGB size=157x178>"
            ],
            "image/png": "[encoded data removed]"
          },
          "metadata": {}
        },
        {
          "output_type": "display_data",
          "data": {
            "text/plain": [
              "<PIL.Image.Image image mode=L size=157x178>"
            ],
            "image/png": "[encoded data removed]"
          },
          "metadata": {}
        },
        {
          "output_type": "stream",
          "name": "stdout",
          "text": [
            "Class:2.0, \n",
            "Value:75, \n",
            "Crop:\n",
            "ไขมัน 75 กรัม\n"
          ]
        },
        {
          "output_type": "display_data",
          "data": {
            "text/plain": [
              "<PIL.Image.Image image mode=RGB size=123x197>"
            ],
            "image/png": "[encoded data removed]"
          },
          "metadata": {}
        },
        {
          "output_type": "display_data",
          "data": {
            "text/plain": [
              "<PIL.Image.Image image mode=L size=123x197>"
            ],
            "image/png": "[encoded data removed]"
          },
          "metadata": {}
        },
        {
          "output_type": "stream",
          "name": "stdout",
          "text": [
            "Class:3.0, \n",
            "Value:75, \n",
            "Crop:\n",
            "โซเดียม 75 มิลลิกรัม\n"
          ]
        },
        {
          "output_type": "display_data",
          "data": {
            "text/plain": [
              "<PIL.Image.Image image mode=RGB size=121x186>"
            ],
            "image/png": "[encoded data removed]"
          },
          "metadata": {}
        },
        {
          "output_type": "display_data",
          "data": {
            "text/plain": [
              "<PIL.Image.Image image mode=L size=121x186>"
            ],
            "image/png": "[encoded data removed]"
          },
          "metadata": {}
        }
      ]
    },
    {
      "cell_type": "code",
      "source": [
        "nutritional_values"
      ],
      "metadata": {
        "colab": {
          "base_uri": "https://localhost:8080/"
        },
        "id": "taDILINYH0LP",
        "outputId": "2a944575-ee3f-4977-e083-c4eb682a3bc3"
      },
      "execution_count": null,
      "outputs": [
        {
          "output_type": "execute_result",
          "data": {
            "text/plain": [
              "{'Sugar': 42, 'Sodium': 690, 'Fat': 30, 'Energy': 840}"
            ]
          },
          "metadata": {},
          "execution_count": 61
        }
      ]
    },
    {
      "cell_type": "code",
      "source": [
        "print(f\"พลังงาน {nutritional_values['Energy']} กิโลแคลอรี\")\n",
        "print(f\"น้ำตาล {nutritional_values['Sugar']} กรัม\")\n",
        "print(f\"ไขมัน {nutritional_values['Fat']} กรัม\")\n",
        "print(f\"โซเดียม {nutritional_values['Sodium']} มิลลิกรัม\")"
      ],
      "metadata": {
        "colab": {
          "base_uri": "https://localhost:8080/"
        },
        "id": "zSd4wTeuZkAW",
        "outputId": "8412ca38-8024-4d8d-d0f6-6e238dff2806"
      },
      "execution_count": null,
      "outputs": [
        {
          "output_type": "stream",
          "name": "stdout",
          "text": [
            "พลังงาน 840 กิโลแคลอรี\n",
            "น้ำตาล 42 กรัม\n",
            "ไขมัน 30 กรัม\n",
            "โซเดียม 690 มิลลิกรัม\n"
          ]
        }
      ]
    },
    {
      "cell_type": "code",
      "source": [
        "import ultralytics\n",
        "print(ultralytics.__version__)"
      ],
      "metadata": {
        "colab": {
          "base_uri": "https://localhost:8080/"
        },
        "id": "1da8rvtaZe59",
        "outputId": "81287793-e048-4b59-c2a6-d8a2b940295b"
      },
      "execution_count": null,
      "outputs": [
        {
          "output_type": "stream",
          "name": "stdout",
          "text": [
            "8.1.29\n"
          ]
        }
      ]
    },
    {
      "cell_type": "code",
      "source": [
        "import sys\n",
        "\n",
        "# Print the installed Python version\n",
        "print(sys.version)\n"
      ],
      "metadata": {
        "colab": {
          "base_uri": "https://localhost:8080/"
        },
        "id": "OwoHMSWbiIBs",
        "outputId": "23db35d4-2e84-4015-c71b-f9b668ac0bb1"
      },
      "execution_count": null,
      "outputs": [
        {
          "output_type": "stream",
          "name": "stdout",
          "text": [
            "3.10.12 (main, Nov 20 2023, 15:14:05) [GCC 11.4.0]\n"
          ]
        }
      ]
    },
    {
      "cell_type": "code",
      "source": [
        "# install libraries in command line\n",
        "# pip install ultralytics\n",
        "# pip install ultralytics\n",
        "import ultralytics\n",
        "from ultralytics import YOLO\n",
        "import cv2\n",
        "import os\n",
        "import numpy as np\n",
        "import easyocr\n",
        "import re\n",
        "\n",
        "# import ultralytics\n",
        "# print(ultralytics.__version__)\n",
        "#\n",
        "# import sys\n",
        "# print(sys.version)\n",
        "\n",
        "\n",
        "def process_results(result):\n",
        "    # Define colors for each label in BGR format\n",
        "    colors = {0: (0, 0, 255),    # Red\n",
        "              1: (255, 255, 100), # Blue\n",
        "              2: (0, 255, 255),  # Green\n",
        "              3: (147, 100, 200)}  # Pink\n",
        "\n",
        "    # Copy the original image for cropping and annotating\n",
        "    orig_image_for_cropping = result.orig_img.copy()\n",
        "    image_for_drawing = result.orig_img.copy()\n",
        "\n",
        "    # Dictionary to hold crops\n",
        "    cropped_images = {}\n",
        "\n",
        "    # Track drawn classes to ensure only one OBB per class\n",
        "    drawn_classes = set()\n",
        "\n",
        "    if result.obb.xyxyxyxy.numel() > 0:\n",
        "        obbs = result.obb.xyxyxyxy.cpu().numpy()\n",
        "        aabbs = result.obb.xyxy.cpu().numpy()\n",
        "        classes = result.obb.cls.cpu().numpy()\n",
        "        confidences = result.obb.conf.cpu().numpy()\n",
        "\n",
        "        # Iterate over detections\n",
        "        for i, (obb, aabb, cls_id, conf) in enumerate(zip(obbs, aabbs, classes, confidences)):\n",
        "            if conf >= 0.2 and cls_id not in drawn_classes:\n",
        "                # Mark the class as drawn\n",
        "                drawn_classes.add(cls_id)\n",
        "\n",
        "                x1, y1, x2, y2 = map(int, aabb)\n",
        "\n",
        "                if x1 < x2 and y1 < y2 and x1 >= 0 and y1 >= 0 and x2 <= orig_image_for_cropping.shape[1] and y2 <= orig_image_for_cropping.shape[0]:\n",
        "                    crop = orig_image_for_cropping[y1:y2, x1:x2]\n",
        "                    if crop.size > 0:\n",
        "                        cropped_images[cls_id] = crop\n",
        "\n",
        "                # Draw OBB on the original image\n",
        "                color = colors.get(cls_id, (255, 255, 255))\n",
        "                points = obb.reshape((-1, 1, 2)).astype(np.int32)\n",
        "                cv2.polylines(image_for_drawing, [points], isClosed=True, color=color, thickness=2)\n",
        "\n",
        "    return cropped_images, image_for_drawing\n",
        "\n",
        "def img2gray(img):\n",
        "    img = cv2.fastNlMeansDenoisingColored(img, None, 5, 5, 7, 21)\n",
        "    gray = cv2.cvtColor(img, cv2.COLOR_BGR2GRAY)\n",
        "    return gray\n",
        "\n",
        "def img2text(img):\n",
        "    reader = easyocr.Reader(['th'])\n",
        "    text_list = reader.readtext(img)\n",
        "    text = ' '.join([result[1] for result in text_list]) # Extract text from each result tuple and join them into a single string\n",
        "    return text\n",
        "\n",
        "\n",
        "def extract_1stnum(text):\n",
        "    # Regular expression pattern for matching numbers\n",
        "    pattern = r'\\b\\d+\\b'  # This pattern matches whole numbers (no decimal points)\n",
        "    # Use re.findall() to find all occurrences of the pattern\n",
        "    numbers = re.findall(pattern, text)\n",
        "    # Convert the extracted strings to integers\n",
        "    numbers = [int(num) for num in numbers]\n",
        "    return numbers[0]\n",
        "\n",
        "\n",
        "# Load the model\n",
        "model = YOLO('best.pt')\n",
        "\n",
        "# Predict on a single image\n",
        "results = model.predict('Data_1/train_temp_images_1/0007.jpg')  # Specify your image path\n",
        "\n",
        "# Process the prediction and get the crops and annotated image\n",
        "for result in results:\n",
        "    crops, annotated_image = process_results(result)\n",
        "\n",
        "# Initialize a dictionary to store the values\n",
        "nutritional_values = {}\n",
        "\n",
        "for cls_id, crop in crops.items():\n",
        "    crop_gray = img2gray(crop)\n",
        "    text = img2text(crop_gray)\n",
        "    val = extract_1stnum(text)\n",
        "    # print(f\"Class:{cls_id}, \\nValue:{val}, \\nCrop:\")\n",
        "\n",
        "    if cls_id == 0:\n",
        "        nutritional_values['Energy'] = val\n",
        "    elif cls_id == 1:\n",
        "        nutritional_values['Sugar'] = val\n",
        "    elif cls_id == 2:\n",
        "        nutritional_values['Fat'] = val\n",
        "    elif cls_id == 3:\n",
        "        nutritional_values['Sodium'] = val\n",
        "    # cv2_imshow(crop)\n",
        "\n",
        "print(f\"Energy {nutritional_values['Energy']} kcal\")\n",
        "print(f\"Sugar {nutritional_values['Sugar']} g\")\n",
        "print(f\"Fat {nutritional_values['Fat']} g\")\n",
        "print(f\"Sodium {nutritional_values['Sodium']} mg\")\n",
        "\n"
      ],
      "metadata": {
        "id": "vJ3GYrQEjRCd"
      },
      "execution_count": null,
      "outputs": []
    }
  ]
}