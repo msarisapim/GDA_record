{
  "nbformat": 4,
  "nbformat_minor": 0,
  "metadata": {
    "colab": {
      "provenance": [],
      "gpuType": "T4"
    },
    "kernelspec": {
      "name": "python3",
      "display_name": "Python 3"
    },
    "language_info": {
      "name": "python"
    },
    "accelerator": "GPU"
  },
  "cells": [
    {
      "cell_type": "code",
      "source": [
        "from google.colab import drive\n",
        "drive.mount('/content/drive')"
      ],
      "metadata": {
        "colab": {
          "base_uri": "https://localhost:8080/"
        },
        "id": "cOM2rbeWHg3n",
        "outputId": "5db4d738-6e60-4ef5-9616-0738eca0890f"
      },
      "execution_count": null,
      "outputs": [
        {
          "output_type": "stream",
          "name": "stdout",
          "text": [
            "Mounted at /content/drive\n"
          ]
        }
      ]
    },
    {
      "cell_type": "markdown",
      "source": [
        "/content/drive/MyDrive/SuperAI/Project/GDA/images"
      ],
      "metadata": {
        "id": "wsLbPjune-3j"
      }
    },
    {
      "cell_type": "markdown",
      "source": [
        "# Convert YOLO 1.1 format to YOLO-OBB format"
      ],
      "metadata": {
        "id": "WGUky1JspPGH"
      }
    },
    {
      "cell_type": "code",
      "source": [
        "import os\n",
        "\n",
        "def convert_aabb_to_obb(aabb_labels_dir, obb_labels_dir):\n",
        "    # Ensure the OBB directory exists\n",
        "    os.makedirs(obb_labels_dir, exist_ok=True)\n",
        "\n",
        "    for label_file in os.listdir(aabb_labels_dir):\n",
        "        aabb_path = os.path.join(aabb_labels_dir, label_file)\n",
        "        obb_path = os.path.join(obb_labels_dir, label_file)\n",
        "\n",
        "        with open(aabb_path, 'r') as f:\n",
        "            lines = f.readlines()\n",
        "\n",
        "        with open(obb_path, 'w') as f:\n",
        "            for line in lines:\n",
        "                class_id, x_center, y_center, width, height = map(float, line.split())\n",
        "                # Convert center, width, height to x1, y1, x2, y2, x3, y3, x4, y4\n",
        "                # Assuming no rotation, the OBB is the same as the AABB\n",
        "                x1 = x_center - width / 2\n",
        "                y1 = y_center - height / 2\n",
        "                x2 = x_center + width / 2\n",
        "                y2 = y_center - height / 2\n",
        "                x3 = x_center + width / 2\n",
        "                y3 = y_center + height / 2\n",
        "                x4 = x_center - width / 2\n",
        "                y4 = y_center + height / 2\n",
        "                # Write the converted annotation to the OBB label file with spaces\n",
        "                f.write(f\"{int(class_id)} {x1} {y1} {x2} {y2} {x3} {y3} {x4} {y4}\\n\")\n",
        "\n",
        "# Define your directories\n",
        "aabb_labels_dir = '/content/drive/MyDrive/SuperAI/Project/GDA/train_temp_labels'\n",
        "obb_labels_dir = '/content/drive/MyDrive/SuperAI/Project/GDA/train_temp_OBBlabels'\n",
        "\n",
        "convert_aabb_to_obb(aabb_labels_dir, obb_labels_dir)\n"
      ],
      "metadata": {
        "id": "8h5g3zCup37C"
      },
      "execution_count": null,
      "outputs": []
    },
    {
      "cell_type": "markdown",
      "source": [
        "# Split dataset to train and val"
      ],
      "metadata": {
        "id": "MSYC4NQAcOZ_"
      }
    },
    {
      "cell_type": "code",
      "source": [
        "import os\n",
        "import shutil\n",
        "from random import shuffle\n",
        "from sklearn.model_selection import train_test_split\n",
        "\n",
        "def find_files(directory, extension=\".jpg\"):\n",
        "    return [os.path.join(directory, f) for f in os.listdir(directory) if f.endswith(extension)]\n",
        "\n",
        "def ensure_dir(directory):\n",
        "    if not os.path.exists(directory):\n",
        "        os.makedirs(directory)\n",
        "\n",
        "def copy_files(pairs, directory, label_directory):\n",
        "    # Ensure target directories exist\n",
        "    ensure_dir(directory)\n",
        "    ensure_dir(label_directory)\n",
        "\n",
        "    for img_path, label_path in pairs:\n",
        "        img_name = os.path.basename(img_path)\n",
        "        label_name = os.path.basename(label_path)\n",
        "\n",
        "        shutil.copy2(img_path, os.path.join(directory, img_name))\n",
        "        shutil.copy2(label_path, os.path.join(label_directory, label_name))\n",
        "        print(f\"Copied {img_path} to {os.path.join(directory, img_name)}\")\n",
        "        print(f\"Copied {label_path} to {os.path.join(label_directory, label_name)}\")\n",
        "\n",
        "def split_data(images, labels, train_dir, val_dir, train_labels_dir, val_labels_dir, val_ratio=0.2):\n",
        "    paired_data = list(zip(images, labels))\n",
        "    train_pairs, val_pairs = train_test_split(paired_data, test_size=val_ratio, random_state=42)\n",
        "\n",
        "    # Copy the files to train and validation directories\n",
        "    copy_files(train_pairs, train_dir, train_labels_dir)\n",
        "    copy_files(val_pairs, val_dir, val_labels_dir)\n",
        "\n",
        "# Your directory paths\n",
        "source_images_path = '/content/drive/MyDrive/SuperAI/Project/GDA/train_temp_images'\n",
        "source_labels_path = '/content/drive/MyDrive/SuperAI/Project/GDA/train_temp_OBBlabels'\n",
        "train_directory_path = '/content/drive/MyDrive/SuperAI/Project/GDA/GDA-OBB/images/train' #'/content/drive/MyDrive/SuperAI/Project/GDA/train/images'\n",
        "val_directory_path = '/content/drive/MyDrive/SuperAI/Project/GDA/GDA-OBB/images/val' #'/content/drive/MyDrive/SuperAI/Project/GDA/validation/images'\n",
        "train_labels_directory_path = '/content/drive/MyDrive/SuperAI/Project/GDA/GDA-OBB/labels/train' #'/content/drive/MyDrive/SuperAI/Project/GDA/train/labels'\n",
        "val_labels_directory_path = '/content/drive/MyDrive/SuperAI/Project/GDA/GDA-OBB/labels/val' #'/content/drive/MyDrive/SuperAI/Project/GDA/validation/labels'\n",
        "\n",
        "# Find all image and label files\n",
        "image_files = find_files(source_images_path)\n",
        "label_files = find_files(source_labels_path, extension=\".txt\")\n",
        "\n",
        "# Split and copy the images and labels to train and validation directories\n",
        "split_data(image_files, label_files, train_directory_path, val_directory_path,\n",
        "           train_labels_directory_path, val_labels_directory_path, val_ratio=0.2)\n"
      ],
      "metadata": {
        "colab": {
          "base_uri": "https://localhost:8080/"
        },
        "id": "gs1O10rMaAiG",
        "outputId": "682f259b-2e0e-4f77-c991-0f44153029bd"
      },
      "execution_count": null,
      "outputs": [
        {
          "output_type": "stream",
          "name": "stdout",
          "text": [
            "Copied /content/drive/MyDrive/SuperAI/Project/GDA/train_temp_images/0084.jpg to /content/drive/MyDrive/SuperAI/Project/GDA/GDA-OBB/images/train/0084.jpg\n",
            "Copied /content/drive/MyDrive/SuperAI/Project/GDA/train_temp_OBBlabels/0021.txt to /content/drive/MyDrive/SuperAI/Project/GDA/GDA-OBB/labels/train/0021.txt\n",
            "Copied /content/drive/MyDrive/SuperAI/Project/GDA/train_temp_images/0043.jpg to /content/drive/MyDrive/SuperAI/Project/GDA/GDA-OBB/images/train/0043.jpg\n",
            "Copied /content/drive/MyDrive/SuperAI/Project/GDA/train_temp_OBBlabels/0011.txt to /content/drive/MyDrive/SuperAI/Project/GDA/GDA-OBB/labels/train/0011.txt\n",
            "Copied /content/drive/MyDrive/SuperAI/Project/GDA/train_temp_images/0002.jpg to /content/drive/MyDrive/SuperAI/Project/GDA/GDA-OBB/images/train/0002.jpg\n",
            "Copied /content/drive/MyDrive/SuperAI/Project/GDA/train_temp_OBBlabels/0118.txt to /content/drive/MyDrive/SuperAI/Project/GDA/GDA-OBB/labels/train/0118.txt\n",
            "Copied /content/drive/MyDrive/SuperAI/Project/GDA/train_temp_images/0010.jpg to /content/drive/MyDrive/SuperAI/Project/GDA/GDA-OBB/images/train/0010.jpg\n",
            "Copied /content/drive/MyDrive/SuperAI/Project/GDA/train_temp_OBBlabels/0038.txt to /content/drive/MyDrive/SuperAI/Project/GDA/GDA-OBB/labels/train/0038.txt\n",
            "Copied /content/drive/MyDrive/SuperAI/Project/GDA/train_temp_images/0088.jpg to /content/drive/MyDrive/SuperAI/Project/GDA/GDA-OBB/images/train/0088.jpg\n",
            "Copied /content/drive/MyDrive/SuperAI/Project/GDA/train_temp_OBBlabels/0125.txt to /content/drive/MyDrive/SuperAI/Project/GDA/GDA-OBB/labels/train/0125.txt\n",
            "Copied /content/drive/MyDrive/SuperAI/Project/GDA/train_temp_images/0018.jpg to /content/drive/MyDrive/SuperAI/Project/GDA/GDA-OBB/images/train/0018.jpg\n",
            "Copied /content/drive/MyDrive/SuperAI/Project/GDA/train_temp_OBBlabels/0071.txt to /content/drive/MyDrive/SuperAI/Project/GDA/GDA-OBB/labels/train/0071.txt\n",
            "Copied /content/drive/MyDrive/SuperAI/Project/GDA/train_temp_images/0007.jpg to /content/drive/MyDrive/SuperAI/Project/GDA/GDA-OBB/images/train/0007.jpg\n",
            "Copied /content/drive/MyDrive/SuperAI/Project/GDA/train_temp_OBBlabels/0080.txt to /content/drive/MyDrive/SuperAI/Project/GDA/GDA-OBB/labels/train/0080.txt\n",
            "Copied /content/drive/MyDrive/SuperAI/Project/GDA/train_temp_images/0118.jpg to /content/drive/MyDrive/SuperAI/Project/GDA/GDA-OBB/images/train/0118.jpg\n",
            "Copied /content/drive/MyDrive/SuperAI/Project/GDA/train_temp_OBBlabels/0008.txt to /content/drive/MyDrive/SuperAI/Project/GDA/GDA-OBB/labels/train/0008.txt\n",
            "Copied /content/drive/MyDrive/SuperAI/Project/GDA/train_temp_images/0085.jpg to /content/drive/MyDrive/SuperAI/Project/GDA/GDA-OBB/images/train/0085.jpg\n",
            "Copied /content/drive/MyDrive/SuperAI/Project/GDA/train_temp_OBBlabels/0127.txt to /content/drive/MyDrive/SuperAI/Project/GDA/GDA-OBB/labels/train/0127.txt\n",
            "Copied /content/drive/MyDrive/SuperAI/Project/GDA/train_temp_images/0100.jpg to /content/drive/MyDrive/SuperAI/Project/GDA/GDA-OBB/images/train/0100.jpg\n",
            "Copied /content/drive/MyDrive/SuperAI/Project/GDA/train_temp_OBBlabels/0082.txt to /content/drive/MyDrive/SuperAI/Project/GDA/GDA-OBB/labels/train/0082.txt\n",
            "Copied /content/drive/MyDrive/SuperAI/Project/GDA/train_temp_images/0056.jpg to /content/drive/MyDrive/SuperAI/Project/GDA/GDA-OBB/images/train/0056.jpg\n",
            "Copied /content/drive/MyDrive/SuperAI/Project/GDA/train_temp_OBBlabels/0017.txt to /content/drive/MyDrive/SuperAI/Project/GDA/GDA-OBB/labels/train/0017.txt\n",
            "Copied /content/drive/MyDrive/SuperAI/Project/GDA/train_temp_images/0021.jpg to /content/drive/MyDrive/SuperAI/Project/GDA/GDA-OBB/images/train/0021.jpg\n",
            "Copied /content/drive/MyDrive/SuperAI/Project/GDA/train_temp_OBBlabels/0054.txt to /content/drive/MyDrive/SuperAI/Project/GDA/GDA-OBB/labels/train/0054.txt\n",
            "Copied /content/drive/MyDrive/SuperAI/Project/GDA/train_temp_images/0109.jpg to /content/drive/MyDrive/SuperAI/Project/GDA/GDA-OBB/images/train/0109.jpg\n",
            "Copied /content/drive/MyDrive/SuperAI/Project/GDA/train_temp_OBBlabels/0010.txt to /content/drive/MyDrive/SuperAI/Project/GDA/GDA-OBB/labels/train/0010.txt\n",
            "Copied /content/drive/MyDrive/SuperAI/Project/GDA/train_temp_images/0020.jpg to /content/drive/MyDrive/SuperAI/Project/GDA/GDA-OBB/images/train/0020.jpg\n",
            "Copied /content/drive/MyDrive/SuperAI/Project/GDA/train_temp_OBBlabels/0093.txt to /content/drive/MyDrive/SuperAI/Project/GDA/GDA-OBB/labels/train/0093.txt\n",
            "Copied /content/drive/MyDrive/SuperAI/Project/GDA/train_temp_images/0127.jpg to /content/drive/MyDrive/SuperAI/Project/GDA/GDA-OBB/images/train/0127.jpg\n",
            "Copied /content/drive/MyDrive/SuperAI/Project/GDA/train_temp_OBBlabels/0029.txt to /content/drive/MyDrive/SuperAI/Project/GDA/GDA-OBB/labels/train/0029.txt\n",
            "Copied /content/drive/MyDrive/SuperAI/Project/GDA/train_temp_images/0030.jpg to /content/drive/MyDrive/SuperAI/Project/GDA/GDA-OBB/images/train/0030.jpg\n",
            "Copied /content/drive/MyDrive/SuperAI/Project/GDA/train_temp_OBBlabels/0095.txt to /content/drive/MyDrive/SuperAI/Project/GDA/GDA-OBB/labels/train/0095.txt\n",
            "Copied /content/drive/MyDrive/SuperAI/Project/GDA/train_temp_images/0001.jpg to /content/drive/MyDrive/SuperAI/Project/GDA/GDA-OBB/images/train/0001.jpg\n",
            "Copied /content/drive/MyDrive/SuperAI/Project/GDA/train_temp_OBBlabels/0110.txt to /content/drive/MyDrive/SuperAI/Project/GDA/GDA-OBB/labels/train/0110.txt\n",
            "Copied /content/drive/MyDrive/SuperAI/Project/GDA/train_temp_images/0116.jpg to /content/drive/MyDrive/SuperAI/Project/GDA/GDA-OBB/images/train/0116.jpg\n",
            "Copied /content/drive/MyDrive/SuperAI/Project/GDA/train_temp_OBBlabels/0116.txt to /content/drive/MyDrive/SuperAI/Project/GDA/GDA-OBB/labels/train/0116.txt\n",
            "Copied /content/drive/MyDrive/SuperAI/Project/GDA/train_temp_images/0023.jpg to /content/drive/MyDrive/SuperAI/Project/GDA/GDA-OBB/images/train/0023.jpg\n",
            "Copied /content/drive/MyDrive/SuperAI/Project/GDA/train_temp_OBBlabels/0024.txt to /content/drive/MyDrive/SuperAI/Project/GDA/GDA-OBB/labels/train/0024.txt\n",
            "Copied /content/drive/MyDrive/SuperAI/Project/GDA/train_temp_images/0075.jpg to /content/drive/MyDrive/SuperAI/Project/GDA/GDA-OBB/images/train/0075.jpg\n",
            "Copied /content/drive/MyDrive/SuperAI/Project/GDA/train_temp_OBBlabels/0077.txt to /content/drive/MyDrive/SuperAI/Project/GDA/GDA-OBB/labels/train/0077.txt\n",
            "Copied /content/drive/MyDrive/SuperAI/Project/GDA/train_temp_images/0119.jpg to /content/drive/MyDrive/SuperAI/Project/GDA/GDA-OBB/images/train/0119.jpg\n",
            "Copied /content/drive/MyDrive/SuperAI/Project/GDA/train_temp_OBBlabels/0069.txt to /content/drive/MyDrive/SuperAI/Project/GDA/GDA-OBB/labels/train/0069.txt\n",
            "Copied /content/drive/MyDrive/SuperAI/Project/GDA/train_temp_images/0025.jpg to /content/drive/MyDrive/SuperAI/Project/GDA/GDA-OBB/images/train/0025.jpg\n",
            "Copied /content/drive/MyDrive/SuperAI/Project/GDA/train_temp_OBBlabels/0088.txt to /content/drive/MyDrive/SuperAI/Project/GDA/GDA-OBB/labels/train/0088.txt\n",
            "Copied /content/drive/MyDrive/SuperAI/Project/GDA/train_temp_images/0016.jpg to /content/drive/MyDrive/SuperAI/Project/GDA/GDA-OBB/images/train/0016.jpg\n",
            "Copied /content/drive/MyDrive/SuperAI/Project/GDA/train_temp_OBBlabels/0081.txt to /content/drive/MyDrive/SuperAI/Project/GDA/GDA-OBB/labels/train/0081.txt\n",
            "Copied /content/drive/MyDrive/SuperAI/Project/GDA/train_temp_images/0112.jpg to /content/drive/MyDrive/SuperAI/Project/GDA/GDA-OBB/images/train/0112.jpg\n",
            "Copied /content/drive/MyDrive/SuperAI/Project/GDA/train_temp_OBBlabels/0043.txt to /content/drive/MyDrive/SuperAI/Project/GDA/GDA-OBB/labels/train/0043.txt\n",
            "Copied /content/drive/MyDrive/SuperAI/Project/GDA/train_temp_images/0005.jpg to /content/drive/MyDrive/SuperAI/Project/GDA/GDA-OBB/images/train/0005.jpg\n",
            "Copied /content/drive/MyDrive/SuperAI/Project/GDA/train_temp_OBBlabels/0108.txt to /content/drive/MyDrive/SuperAI/Project/GDA/GDA-OBB/labels/train/0108.txt\n",
            "Copied /content/drive/MyDrive/SuperAI/Project/GDA/train_temp_images/0102.jpg to /content/drive/MyDrive/SuperAI/Project/GDA/GDA-OBB/images/train/0102.jpg\n",
            "Copied /content/drive/MyDrive/SuperAI/Project/GDA/train_temp_OBBlabels/0129.txt to /content/drive/MyDrive/SuperAI/Project/GDA/GDA-OBB/labels/train/0129.txt\n",
            "Copied /content/drive/MyDrive/SuperAI/Project/GDA/train_temp_images/0024.jpg to /content/drive/MyDrive/SuperAI/Project/GDA/GDA-OBB/images/train/0024.jpg\n",
            "Copied /content/drive/MyDrive/SuperAI/Project/GDA/train_temp_OBBlabels/0087.txt to /content/drive/MyDrive/SuperAI/Project/GDA/GDA-OBB/labels/train/0087.txt\n",
            "Copied /content/drive/MyDrive/SuperAI/Project/GDA/train_temp_images/0110.jpg to /content/drive/MyDrive/SuperAI/Project/GDA/GDA-OBB/images/train/0110.jpg\n",
            "Copied /content/drive/MyDrive/SuperAI/Project/GDA/train_temp_OBBlabels/0022.txt to /content/drive/MyDrive/SuperAI/Project/GDA/GDA-OBB/labels/train/0022.txt\n",
            "Copied /content/drive/MyDrive/SuperAI/Project/GDA/train_temp_images/0083.jpg to /content/drive/MyDrive/SuperAI/Project/GDA/GDA-OBB/images/train/0083.jpg\n",
            "Copied /content/drive/MyDrive/SuperAI/Project/GDA/train_temp_OBBlabels/0090.txt to /content/drive/MyDrive/SuperAI/Project/GDA/GDA-OBB/labels/train/0090.txt\n",
            "Copied /content/drive/MyDrive/SuperAI/Project/GDA/train_temp_images/0121.jpg to /content/drive/MyDrive/SuperAI/Project/GDA/GDA-OBB/images/train/0121.jpg\n",
            "Copied /content/drive/MyDrive/SuperAI/Project/GDA/train_temp_OBBlabels/0097.txt to /content/drive/MyDrive/SuperAI/Project/GDA/GDA-OBB/labels/train/0097.txt\n",
            "Copied /content/drive/MyDrive/SuperAI/Project/GDA/train_temp_images/0113.jpg to /content/drive/MyDrive/SuperAI/Project/GDA/GDA-OBB/images/train/0113.jpg\n",
            "Copied /content/drive/MyDrive/SuperAI/Project/GDA/train_temp_OBBlabels/0109.txt to /content/drive/MyDrive/SuperAI/Project/GDA/GDA-OBB/labels/train/0109.txt\n",
            "Copied /content/drive/MyDrive/SuperAI/Project/GDA/train_temp_images/0047.jpg to /content/drive/MyDrive/SuperAI/Project/GDA/GDA-OBB/images/train/0047.jpg\n",
            "Copied /content/drive/MyDrive/SuperAI/Project/GDA/train_temp_OBBlabels/0092.txt to /content/drive/MyDrive/SuperAI/Project/GDA/GDA-OBB/labels/train/0092.txt\n",
            "Copied /content/drive/MyDrive/SuperAI/Project/GDA/train_temp_images/0120.jpg to /content/drive/MyDrive/SuperAI/Project/GDA/GDA-OBB/images/train/0120.jpg\n",
            "Copied /content/drive/MyDrive/SuperAI/Project/GDA/train_temp_OBBlabels/0052.txt to /content/drive/MyDrive/SuperAI/Project/GDA/GDA-OBB/labels/train/0052.txt\n",
            "Copied /content/drive/MyDrive/SuperAI/Project/GDA/train_temp_images/0078.jpg to /content/drive/MyDrive/SuperAI/Project/GDA/GDA-OBB/images/train/0078.jpg\n",
            "Copied /content/drive/MyDrive/SuperAI/Project/GDA/train_temp_OBBlabels/0122.txt to /content/drive/MyDrive/SuperAI/Project/GDA/GDA-OBB/labels/train/0122.txt\n",
            "Copied /content/drive/MyDrive/SuperAI/Project/GDA/train_temp_images/0131.jpg to /content/drive/MyDrive/SuperAI/Project/GDA/GDA-OBB/images/train/0131.jpg\n",
            "Copied /content/drive/MyDrive/SuperAI/Project/GDA/train_temp_OBBlabels/0040.txt to /content/drive/MyDrive/SuperAI/Project/GDA/GDA-OBB/labels/train/0040.txt\n",
            "Copied /content/drive/MyDrive/SuperAI/Project/GDA/train_temp_images/0009.jpg to /content/drive/MyDrive/SuperAI/Project/GDA/GDA-OBB/images/train/0009.jpg\n",
            "Copied /content/drive/MyDrive/SuperAI/Project/GDA/train_temp_OBBlabels/0084.txt to /content/drive/MyDrive/SuperAI/Project/GDA/GDA-OBB/labels/train/0084.txt\n",
            "Copied /content/drive/MyDrive/SuperAI/Project/GDA/train_temp_images/0036.jpg to /content/drive/MyDrive/SuperAI/Project/GDA/GDA-OBB/images/train/0036.jpg\n",
            "Copied /content/drive/MyDrive/SuperAI/Project/GDA/train_temp_OBBlabels/0075.txt to /content/drive/MyDrive/SuperAI/Project/GDA/GDA-OBB/labels/train/0075.txt\n",
            "Copied /content/drive/MyDrive/SuperAI/Project/GDA/train_temp_images/0060.jpg to /content/drive/MyDrive/SuperAI/Project/GDA/GDA-OBB/images/train/0060.jpg\n",
            "Copied /content/drive/MyDrive/SuperAI/Project/GDA/train_temp_OBBlabels/0106.txt to /content/drive/MyDrive/SuperAI/Project/GDA/GDA-OBB/labels/train/0106.txt\n",
            "Copied /content/drive/MyDrive/SuperAI/Project/GDA/train_temp_images/0082.jpg to /content/drive/MyDrive/SuperAI/Project/GDA/GDA-OBB/images/train/0082.jpg\n",
            "Copied /content/drive/MyDrive/SuperAI/Project/GDA/train_temp_OBBlabels/0015.txt to /content/drive/MyDrive/SuperAI/Project/GDA/GDA-OBB/labels/train/0015.txt\n",
            "Copied /content/drive/MyDrive/SuperAI/Project/GDA/train_temp_images/0090.jpg to /content/drive/MyDrive/SuperAI/Project/GDA/GDA-OBB/images/train/0090.jpg\n",
            "Copied /content/drive/MyDrive/SuperAI/Project/GDA/train_temp_OBBlabels/0023.txt to /content/drive/MyDrive/SuperAI/Project/GDA/GDA-OBB/labels/train/0023.txt\n",
            "Copied /content/drive/MyDrive/SuperAI/Project/GDA/train_temp_images/0059.jpg to /content/drive/MyDrive/SuperAI/Project/GDA/GDA-OBB/images/train/0059.jpg\n",
            "Copied /content/drive/MyDrive/SuperAI/Project/GDA/train_temp_OBBlabels/0107.txt to /content/drive/MyDrive/SuperAI/Project/GDA/GDA-OBB/labels/train/0107.txt\n",
            "Copied /content/drive/MyDrive/SuperAI/Project/GDA/train_temp_images/0017.jpg to /content/drive/MyDrive/SuperAI/Project/GDA/GDA-OBB/images/train/0017.jpg\n",
            "Copied /content/drive/MyDrive/SuperAI/Project/GDA/train_temp_OBBlabels/0047.txt to /content/drive/MyDrive/SuperAI/Project/GDA/GDA-OBB/labels/train/0047.txt\n",
            "Copied /content/drive/MyDrive/SuperAI/Project/GDA/train_temp_images/0095.jpg to /content/drive/MyDrive/SuperAI/Project/GDA/GDA-OBB/images/train/0095.jpg\n",
            "Copied /content/drive/MyDrive/SuperAI/Project/GDA/train_temp_OBBlabels/0065.txt to /content/drive/MyDrive/SuperAI/Project/GDA/GDA-OBB/labels/train/0065.txt\n",
            "Copied /content/drive/MyDrive/SuperAI/Project/GDA/train_temp_images/0048.jpg to /content/drive/MyDrive/SuperAI/Project/GDA/GDA-OBB/images/train/0048.jpg\n",
            "Copied /content/drive/MyDrive/SuperAI/Project/GDA/train_temp_OBBlabels/0025.txt to /content/drive/MyDrive/SuperAI/Project/GDA/GDA-OBB/labels/train/0025.txt\n",
            "Copied /content/drive/MyDrive/SuperAI/Project/GDA/train_temp_images/0081.jpg to /content/drive/MyDrive/SuperAI/Project/GDA/GDA-OBB/images/train/0081.jpg\n",
            "Copied /content/drive/MyDrive/SuperAI/Project/GDA/train_temp_OBBlabels/0048.txt to /content/drive/MyDrive/SuperAI/Project/GDA/GDA-OBB/labels/train/0048.txt\n",
            "Copied /content/drive/MyDrive/SuperAI/Project/GDA/train_temp_images/0115.jpg to /content/drive/MyDrive/SuperAI/Project/GDA/GDA-OBB/images/train/0115.jpg\n",
            "Copied /content/drive/MyDrive/SuperAI/Project/GDA/train_temp_OBBlabels/0002.txt to /content/drive/MyDrive/SuperAI/Project/GDA/GDA-OBB/labels/train/0002.txt\n",
            "Copied /content/drive/MyDrive/SuperAI/Project/GDA/train_temp_images/0073.jpg to /content/drive/MyDrive/SuperAI/Project/GDA/GDA-OBB/images/train/0073.jpg\n",
            "Copied /content/drive/MyDrive/SuperAI/Project/GDA/train_temp_OBBlabels/0018.txt to /content/drive/MyDrive/SuperAI/Project/GDA/GDA-OBB/labels/train/0018.txt\n",
            "Copied /content/drive/MyDrive/SuperAI/Project/GDA/train_temp_images/0026.jpg to /content/drive/MyDrive/SuperAI/Project/GDA/GDA-OBB/images/train/0026.jpg\n",
            "Copied /content/drive/MyDrive/SuperAI/Project/GDA/train_temp_OBBlabels/0034.txt to /content/drive/MyDrive/SuperAI/Project/GDA/GDA-OBB/labels/train/0034.txt\n",
            "Copied /content/drive/MyDrive/SuperAI/Project/GDA/train_temp_images/0015.jpg to /content/drive/MyDrive/SuperAI/Project/GDA/GDA-OBB/images/train/0015.jpg\n",
            "Copied /content/drive/MyDrive/SuperAI/Project/GDA/train_temp_OBBlabels/0083.txt to /content/drive/MyDrive/SuperAI/Project/GDA/GDA-OBB/labels/train/0083.txt\n",
            "Copied /content/drive/MyDrive/SuperAI/Project/GDA/train_temp_images/0063.jpg to /content/drive/MyDrive/SuperAI/Project/GDA/GDA-OBB/images/train/0063.jpg\n",
            "Copied /content/drive/MyDrive/SuperAI/Project/GDA/train_temp_OBBlabels/0032.txt to /content/drive/MyDrive/SuperAI/Project/GDA/GDA-OBB/labels/train/0032.txt\n",
            "Copied /content/drive/MyDrive/SuperAI/Project/GDA/train_temp_images/0093.jpg to /content/drive/MyDrive/SuperAI/Project/GDA/GDA-OBB/images/train/0093.jpg\n",
            "Copied /content/drive/MyDrive/SuperAI/Project/GDA/train_temp_OBBlabels/0059.txt to /content/drive/MyDrive/SuperAI/Project/GDA/GDA-OBB/labels/train/0059.txt\n",
            "Copied /content/drive/MyDrive/SuperAI/Project/GDA/train_temp_images/0031.jpg to /content/drive/MyDrive/SuperAI/Project/GDA/GDA-OBB/images/train/0031.jpg\n",
            "Copied /content/drive/MyDrive/SuperAI/Project/GDA/train_temp_OBBlabels/0031.txt to /content/drive/MyDrive/SuperAI/Project/GDA/GDA-OBB/labels/train/0031.txt\n",
            "Copied /content/drive/MyDrive/SuperAI/Project/GDA/train_temp_images/0097.jpg to /content/drive/MyDrive/SuperAI/Project/GDA/GDA-OBB/images/train/0097.jpg\n",
            "Copied /content/drive/MyDrive/SuperAI/Project/GDA/train_temp_OBBlabels/0073.txt to /content/drive/MyDrive/SuperAI/Project/GDA/GDA-OBB/labels/train/0073.txt\n",
            "Copied /content/drive/MyDrive/SuperAI/Project/GDA/train_temp_images/0065.jpg to /content/drive/MyDrive/SuperAI/Project/GDA/GDA-OBB/images/train/0065.jpg\n",
            "Copied /content/drive/MyDrive/SuperAI/Project/GDA/train_temp_OBBlabels/0004.txt to /content/drive/MyDrive/SuperAI/Project/GDA/GDA-OBB/labels/train/0004.txt\n",
            "Copied /content/drive/MyDrive/SuperAI/Project/GDA/train_temp_images/0054.jpg to /content/drive/MyDrive/SuperAI/Project/GDA/GDA-OBB/images/train/0054.jpg\n",
            "Copied /content/drive/MyDrive/SuperAI/Project/GDA/train_temp_OBBlabels/0117.txt to /content/drive/MyDrive/SuperAI/Project/GDA/GDA-OBB/labels/train/0117.txt\n",
            "Copied /content/drive/MyDrive/SuperAI/Project/GDA/train_temp_images/0104.jpg to /content/drive/MyDrive/SuperAI/Project/GDA/GDA-OBB/images/train/0104.jpg\n",
            "Copied /content/drive/MyDrive/SuperAI/Project/GDA/train_temp_OBBlabels/0115.txt to /content/drive/MyDrive/SuperAI/Project/GDA/GDA-OBB/labels/train/0115.txt\n",
            "Copied /content/drive/MyDrive/SuperAI/Project/GDA/train_temp_images/0011.jpg to /content/drive/MyDrive/SuperAI/Project/GDA/GDA-OBB/images/train/0011.jpg\n",
            "Copied /content/drive/MyDrive/SuperAI/Project/GDA/train_temp_OBBlabels/0099.txt to /content/drive/MyDrive/SuperAI/Project/GDA/GDA-OBB/labels/train/0099.txt\n",
            "Copied /content/drive/MyDrive/SuperAI/Project/GDA/train_temp_images/0004.jpg to /content/drive/MyDrive/SuperAI/Project/GDA/GDA-OBB/images/train/0004.jpg\n",
            "Copied /content/drive/MyDrive/SuperAI/Project/GDA/train_temp_OBBlabels/0120.txt to /content/drive/MyDrive/SuperAI/Project/GDA/GDA-OBB/labels/train/0120.txt\n",
            "Copied /content/drive/MyDrive/SuperAI/Project/GDA/train_temp_images/0040.jpg to /content/drive/MyDrive/SuperAI/Project/GDA/GDA-OBB/images/train/0040.jpg\n",
            "Copied /content/drive/MyDrive/SuperAI/Project/GDA/train_temp_OBBlabels/0026.txt to /content/drive/MyDrive/SuperAI/Project/GDA/GDA-OBB/labels/train/0026.txt\n",
            "Copied /content/drive/MyDrive/SuperAI/Project/GDA/train_temp_images/0133.jpg to /content/drive/MyDrive/SuperAI/Project/GDA/GDA-OBB/images/train/0133.jpg\n",
            "Copied /content/drive/MyDrive/SuperAI/Project/GDA/train_temp_OBBlabels/0060.txt to /content/drive/MyDrive/SuperAI/Project/GDA/GDA-OBB/labels/train/0060.txt\n",
            "Copied /content/drive/MyDrive/SuperAI/Project/GDA/train_temp_images/0022.jpg to /content/drive/MyDrive/SuperAI/Project/GDA/GDA-OBB/images/train/0022.jpg\n",
            "Copied /content/drive/MyDrive/SuperAI/Project/GDA/train_temp_OBBlabels/0078.txt to /content/drive/MyDrive/SuperAI/Project/GDA/GDA-OBB/labels/train/0078.txt\n",
            "Copied /content/drive/MyDrive/SuperAI/Project/GDA/train_temp_images/0107.jpg to /content/drive/MyDrive/SuperAI/Project/GDA/GDA-OBB/images/train/0107.jpg\n",
            "Copied /content/drive/MyDrive/SuperAI/Project/GDA/train_temp_OBBlabels/0062.txt to /content/drive/MyDrive/SuperAI/Project/GDA/GDA-OBB/labels/train/0062.txt\n",
            "Copied /content/drive/MyDrive/SuperAI/Project/GDA/train_temp_images/0122.jpg to /content/drive/MyDrive/SuperAI/Project/GDA/GDA-OBB/images/train/0122.jpg\n",
            "Copied /content/drive/MyDrive/SuperAI/Project/GDA/train_temp_OBBlabels/0009.txt to /content/drive/MyDrive/SuperAI/Project/GDA/GDA-OBB/labels/train/0009.txt\n",
            "Copied /content/drive/MyDrive/SuperAI/Project/GDA/train_temp_images/0032.jpg to /content/drive/MyDrive/SuperAI/Project/GDA/GDA-OBB/images/train/0032.jpg\n",
            "Copied /content/drive/MyDrive/SuperAI/Project/GDA/train_temp_OBBlabels/0131.txt to /content/drive/MyDrive/SuperAI/Project/GDA/GDA-OBB/labels/train/0131.txt\n",
            "Copied /content/drive/MyDrive/SuperAI/Project/GDA/train_temp_images/0008.jpg to /content/drive/MyDrive/SuperAI/Project/GDA/GDA-OBB/images/train/0008.jpg\n",
            "Copied /content/drive/MyDrive/SuperAI/Project/GDA/train_temp_OBBlabels/0067.txt to /content/drive/MyDrive/SuperAI/Project/GDA/GDA-OBB/labels/train/0067.txt\n",
            "Copied /content/drive/MyDrive/SuperAI/Project/GDA/train_temp_images/0037.jpg to /content/drive/MyDrive/SuperAI/Project/GDA/GDA-OBB/images/train/0037.jpg\n",
            "Copied /content/drive/MyDrive/SuperAI/Project/GDA/train_temp_OBBlabels/0119.txt to /content/drive/MyDrive/SuperAI/Project/GDA/GDA-OBB/labels/train/0119.txt\n",
            "Copied /content/drive/MyDrive/SuperAI/Project/GDA/train_temp_images/0058.jpg to /content/drive/MyDrive/SuperAI/Project/GDA/GDA-OBB/images/train/0058.jpg\n",
            "Copied /content/drive/MyDrive/SuperAI/Project/GDA/train_temp_OBBlabels/0037.txt to /content/drive/MyDrive/SuperAI/Project/GDA/GDA-OBB/labels/train/0037.txt\n",
            "Copied /content/drive/MyDrive/SuperAI/Project/GDA/train_temp_images/0106.jpg to /content/drive/MyDrive/SuperAI/Project/GDA/GDA-OBB/images/train/0106.jpg\n",
            "Copied /content/drive/MyDrive/SuperAI/Project/GDA/train_temp_OBBlabels/0111.txt to /content/drive/MyDrive/SuperAI/Project/GDA/GDA-OBB/labels/train/0111.txt\n",
            "Copied /content/drive/MyDrive/SuperAI/Project/GDA/train_temp_images/0092.jpg to /content/drive/MyDrive/SuperAI/Project/GDA/GDA-OBB/images/train/0092.jpg\n",
            "Copied /content/drive/MyDrive/SuperAI/Project/GDA/train_temp_OBBlabels/0001.txt to /content/drive/MyDrive/SuperAI/Project/GDA/GDA-OBB/labels/train/0001.txt\n",
            "Copied /content/drive/MyDrive/SuperAI/Project/GDA/train_temp_images/0071.jpg to /content/drive/MyDrive/SuperAI/Project/GDA/GDA-OBB/images/train/0071.jpg\n",
            "Copied /content/drive/MyDrive/SuperAI/Project/GDA/train_temp_OBBlabels/0104.txt to /content/drive/MyDrive/SuperAI/Project/GDA/GDA-OBB/labels/train/0104.txt\n",
            "Copied /content/drive/MyDrive/SuperAI/Project/GDA/train_temp_images/0111.jpg to /content/drive/MyDrive/SuperAI/Project/GDA/GDA-OBB/images/train/0111.jpg\n",
            "Copied /content/drive/MyDrive/SuperAI/Project/GDA/train_temp_OBBlabels/0005.txt to /content/drive/MyDrive/SuperAI/Project/GDA/GDA-OBB/labels/train/0005.txt\n",
            "Copied /content/drive/MyDrive/SuperAI/Project/GDA/train_temp_images/0086.jpg to /content/drive/MyDrive/SuperAI/Project/GDA/GDA-OBB/images/train/0086.jpg\n",
            "Copied /content/drive/MyDrive/SuperAI/Project/GDA/train_temp_OBBlabels/0102.txt to /content/drive/MyDrive/SuperAI/Project/GDA/GDA-OBB/labels/train/0102.txt\n",
            "Copied /content/drive/MyDrive/SuperAI/Project/GDA/train_temp_images/0099.jpg to /content/drive/MyDrive/SuperAI/Project/GDA/GDA-OBB/images/val/0099.jpg\n",
            "Copied /content/drive/MyDrive/SuperAI/Project/GDA/train_temp_OBBlabels/0113.txt to /content/drive/MyDrive/SuperAI/Project/GDA/GDA-OBB/labels/val/0113.txt\n",
            "Copied /content/drive/MyDrive/SuperAI/Project/GDA/train_temp_images/0003.jpg to /content/drive/MyDrive/SuperAI/Project/GDA/GDA-OBB/images/val/0003.jpg\n",
            "Copied /content/drive/MyDrive/SuperAI/Project/GDA/train_temp_OBBlabels/0063.txt to /content/drive/MyDrive/SuperAI/Project/GDA/GDA-OBB/labels/val/0063.txt\n",
            "Copied /content/drive/MyDrive/SuperAI/Project/GDA/train_temp_images/0069.jpg to /content/drive/MyDrive/SuperAI/Project/GDA/GDA-OBB/images/val/0069.jpg\n",
            "Copied /content/drive/MyDrive/SuperAI/Project/GDA/train_temp_OBBlabels/0016.txt to /content/drive/MyDrive/SuperAI/Project/GDA/GDA-OBB/labels/val/0016.txt\n",
            "Copied /content/drive/MyDrive/SuperAI/Project/GDA/train_temp_images/0052.jpg to /content/drive/MyDrive/SuperAI/Project/GDA/GDA-OBB/images/val/0052.jpg\n",
            "Copied /content/drive/MyDrive/SuperAI/Project/GDA/train_temp_OBBlabels/0112.txt to /content/drive/MyDrive/SuperAI/Project/GDA/GDA-OBB/labels/val/0112.txt\n",
            "Copied /content/drive/MyDrive/SuperAI/Project/GDA/train_temp_images/0125.jpg to /content/drive/MyDrive/SuperAI/Project/GDA/GDA-OBB/images/val/0125.jpg\n",
            "Copied /content/drive/MyDrive/SuperAI/Project/GDA/train_temp_OBBlabels/0003.txt to /content/drive/MyDrive/SuperAI/Project/GDA/GDA-OBB/labels/val/0003.txt\n",
            "Copied /content/drive/MyDrive/SuperAI/Project/GDA/train_temp_images/0087.jpg to /content/drive/MyDrive/SuperAI/Project/GDA/GDA-OBB/images/val/0087.jpg\n",
            "Copied /content/drive/MyDrive/SuperAI/Project/GDA/train_temp_OBBlabels/0007.txt to /content/drive/MyDrive/SuperAI/Project/GDA/GDA-OBB/labels/val/0007.txt\n",
            "Copied /content/drive/MyDrive/SuperAI/Project/GDA/train_temp_images/0034.jpg to /content/drive/MyDrive/SuperAI/Project/GDA/GDA-OBB/images/val/0034.jpg\n",
            "Copied /content/drive/MyDrive/SuperAI/Project/GDA/train_temp_OBBlabels/0133.txt to /content/drive/MyDrive/SuperAI/Project/GDA/GDA-OBB/labels/val/0133.txt\n",
            "Copied /content/drive/MyDrive/SuperAI/Project/GDA/train_temp_images/0067.jpg to /content/drive/MyDrive/SuperAI/Project/GDA/GDA-OBB/images/val/0067.jpg\n",
            "Copied /content/drive/MyDrive/SuperAI/Project/GDA/train_temp_OBBlabels/0100.txt to /content/drive/MyDrive/SuperAI/Project/GDA/GDA-OBB/labels/val/0100.txt\n",
            "Copied /content/drive/MyDrive/SuperAI/Project/GDA/train_temp_images/0108.jpg to /content/drive/MyDrive/SuperAI/Project/GDA/GDA-OBB/images/val/0108.jpg\n",
            "Copied /content/drive/MyDrive/SuperAI/Project/GDA/train_temp_OBBlabels/0114.txt to /content/drive/MyDrive/SuperAI/Project/GDA/GDA-OBB/labels/val/0114.txt\n",
            "Copied /content/drive/MyDrive/SuperAI/Project/GDA/train_temp_images/0029.jpg to /content/drive/MyDrive/SuperAI/Project/GDA/GDA-OBB/images/val/0029.jpg\n",
            "Copied /content/drive/MyDrive/SuperAI/Project/GDA/train_temp_OBBlabels/0121.txt to /content/drive/MyDrive/SuperAI/Project/GDA/GDA-OBB/labels/val/0121.txt\n",
            "Copied /content/drive/MyDrive/SuperAI/Project/GDA/train_temp_images/0038.jpg to /content/drive/MyDrive/SuperAI/Project/GDA/GDA-OBB/images/val/0038.jpg\n",
            "Copied /content/drive/MyDrive/SuperAI/Project/GDA/train_temp_OBBlabels/0050.txt to /content/drive/MyDrive/SuperAI/Project/GDA/GDA-OBB/labels/val/0050.txt\n",
            "Copied /content/drive/MyDrive/SuperAI/Project/GDA/train_temp_images/0050.jpg to /content/drive/MyDrive/SuperAI/Project/GDA/GDA-OBB/images/val/0050.jpg\n",
            "Copied /content/drive/MyDrive/SuperAI/Project/GDA/train_temp_OBBlabels/0085.txt to /content/drive/MyDrive/SuperAI/Project/GDA/GDA-OBB/labels/val/0085.txt\n",
            "Copied /content/drive/MyDrive/SuperAI/Project/GDA/train_temp_images/0080.jpg to /content/drive/MyDrive/SuperAI/Project/GDA/GDA-OBB/images/val/0080.jpg\n",
            "Copied /content/drive/MyDrive/SuperAI/Project/GDA/train_temp_OBBlabels/0036.txt to /content/drive/MyDrive/SuperAI/Project/GDA/GDA-OBB/labels/val/0036.txt\n",
            "Copied /content/drive/MyDrive/SuperAI/Project/GDA/train_temp_images/0077.jpg to /content/drive/MyDrive/SuperAI/Project/GDA/GDA-OBB/images/val/0077.jpg\n",
            "Copied /content/drive/MyDrive/SuperAI/Project/GDA/train_temp_OBBlabels/0020.txt to /content/drive/MyDrive/SuperAI/Project/GDA/GDA-OBB/labels/val/0020.txt\n",
            "Copied /content/drive/MyDrive/SuperAI/Project/GDA/train_temp_images/0117.jpg to /content/drive/MyDrive/SuperAI/Project/GDA/GDA-OBB/images/val/0117.jpg\n",
            "Copied /content/drive/MyDrive/SuperAI/Project/GDA/train_temp_OBBlabels/0056.txt to /content/drive/MyDrive/SuperAI/Project/GDA/GDA-OBB/labels/val/0056.txt\n",
            "Copied /content/drive/MyDrive/SuperAI/Project/GDA/train_temp_images/0129.jpg to /content/drive/MyDrive/SuperAI/Project/GDA/GDA-OBB/images/val/0129.jpg\n",
            "Copied /content/drive/MyDrive/SuperAI/Project/GDA/train_temp_OBBlabels/0086.txt to /content/drive/MyDrive/SuperAI/Project/GDA/GDA-OBB/labels/val/0086.txt\n",
            "Copied /content/drive/MyDrive/SuperAI/Project/GDA/train_temp_images/0114.jpg to /content/drive/MyDrive/SuperAI/Project/GDA/GDA-OBB/images/val/0114.jpg\n",
            "Copied /content/drive/MyDrive/SuperAI/Project/GDA/train_temp_OBBlabels/0058.txt to /content/drive/MyDrive/SuperAI/Project/GDA/GDA-OBB/labels/val/0058.txt\n",
            "Copied /content/drive/MyDrive/SuperAI/Project/GDA/train_temp_images/0062.jpg to /content/drive/MyDrive/SuperAI/Project/GDA/GDA-OBB/images/val/0062.jpg\n",
            "Copied /content/drive/MyDrive/SuperAI/Project/GDA/train_temp_OBBlabels/0030.txt to /content/drive/MyDrive/SuperAI/Project/GDA/GDA-OBB/labels/val/0030.txt\n"
          ]
        }
      ]
    },
    {
      "cell_type": "markdown",
      "source": [
        "# write YAML file"
      ],
      "metadata": {
        "id": "GijAOCmQeSFn"
      }
    },
    {
      "cell_type": "code",
      "source": [
        "# Content to be written to the YAML file\n",
        "yaml_content = \"\"\"# Train/val/test sets as 1) dir: path/to/imgs, 2) file: path/to/imgs.txt, or 3) list: [path/to/imgs1, path/to/imgs2, ..]\n",
        "path: /content/drive/MyDrive/SuperAI/Project/GDA/GDA-OBB # dataset root dir\n",
        "train: /content/drive/MyDrive/SuperAI/Project/GDA/GDA-OBB/images/train # train images (relative to 'path')\n",
        "val: /content/drive/MyDrive/SuperAI/Project/GDA/GDA-OBB/images/val # val images (relative to 'path')\n",
        "#test: /content/drive/MyDrive/SuperAI/Project/GDA/test # test images (optional)\n",
        "\n",
        "# Classes\n",
        "names:\n",
        "  0: Energy\n",
        "  1: Sugar\n",
        "  2: Fat\n",
        "  3: Sodium\n",
        "\"\"\"\n",
        "\n",
        "# Write to the YAML file\n",
        "with open('/content/drive/MyDrive/SuperAI/Project/GDA/GDA_yolo-obb.yaml', 'w') as file:\n",
        "    file.write(yaml_content)\n",
        "\n",
        "print('GDA_yolo-obb.yaml has been created.')\n"
      ],
      "metadata": {
        "colab": {
          "base_uri": "https://localhost:8080/"
        },
        "id": "8xcqMNFAeR0J",
        "outputId": "8ae6b50f-8a41-4c49-fa7a-19fed1dac1ab"
      },
      "execution_count": null,
      "outputs": [
        {
          "output_type": "stream",
          "name": "stdout",
          "text": [
            "GDA_yolo-obb.yaml has been created.\n"
          ]
        }
      ]
    },
    {
      "cell_type": "markdown",
      "source": [
        "# YOLO-OBB"
      ],
      "metadata": {
        "id": "KyHh2ry7cXxf"
      }
    },
    {
      "cell_type": "code",
      "source": [
        "# Install the ultralytics package from PyPI\n",
        "!pip install ultralytics"
      ],
      "metadata": {
        "colab": {
          "base_uri": "https://localhost:8080/"
        },
        "id": "CUnkCqK-49Mw",
        "outputId": "793b80cb-7dd4-4358-b8b3-815879535c50"
      },
      "execution_count": null,
      "outputs": [
        {
          "output_type": "stream",
          "name": "stdout",
          "text": [
            "Collecting ultralytics\n",
            "  Downloading ultralytics-8.1.27-py3-none-any.whl (721 kB)\n",
            "\u001b[?25l     \u001b[90m━━━━━━━━━━━━━━━━━━━━━━━━━━━━━━━━━━━━━━━━\u001b[0m \u001b[32m0.0/721.2 kB\u001b[0m \u001b[31m?\u001b[0m eta \u001b[36m-:--:--\u001b[0m\r\u001b[2K     \u001b[91m━━━━━━━━━━━━━━\u001b[0m\u001b[90m╺\u001b[0m\u001b[90m━━━━━━━━━━━━━━━━━━━━━━━━━\u001b[0m \u001b[32m256.0/721.2 kB\u001b[0m \u001b[31m7.4 MB/s\u001b[0m eta \u001b[36m0:00:01\u001b[0m\r\u001b[2K     \u001b[90m━━━━━━━━━━━━━━━━━━━━━━━━━━━━━━━━━━━━━━━━\u001b[0m \u001b[32m721.2/721.2 kB\u001b[0m \u001b[31m14.2 MB/s\u001b[0m eta \u001b[36m0:00:00\u001b[0m\n",
            "\u001b[?25hRequirement already satisfied: matplotlib>=3.3.0 in /usr/local/lib/python3.10/dist-packages (from ultralytics) (3.7.1)\n",
            "Requirement already satisfied: opencv-python>=4.6.0 in /usr/local/lib/python3.10/dist-packages (from ultralytics) (4.8.0.76)\n",
            "Requirement already satisfied: pillow>=7.1.2 in /usr/local/lib/python3.10/dist-packages (from ultralytics) (9.4.0)\n",
            "Requirement already satisfied: pyyaml>=5.3.1 in /usr/local/lib/python3.10/dist-packages (from ultralytics) (6.0.1)\n",
            "Requirement already satisfied: requests>=2.23.0 in /usr/local/lib/python3.10/dist-packages (from ultralytics) (2.31.0)\n",
            "Requirement already satisfied: scipy>=1.4.1 in /usr/local/lib/python3.10/dist-packages (from ultralytics) (1.11.4)\n",
            "Requirement already satisfied: torch>=1.8.0 in /usr/local/lib/python3.10/dist-packages (from ultralytics) (2.1.0+cu121)\n",
            "Requirement already satisfied: torchvision>=0.9.0 in /usr/local/lib/python3.10/dist-packages (from ultralytics) (0.16.0+cu121)\n",
            "Requirement already satisfied: tqdm>=4.64.0 in /usr/local/lib/python3.10/dist-packages (from ultralytics) (4.66.2)\n",
            "Requirement already satisfied: psutil in /usr/local/lib/python3.10/dist-packages (from ultralytics) (5.9.5)\n",
            "Requirement already satisfied: py-cpuinfo in /usr/local/lib/python3.10/dist-packages (from ultralytics) (9.0.0)\n",
            "Collecting thop>=0.1.1 (from ultralytics)\n",
            "  Downloading thop-0.1.1.post2209072238-py3-none-any.whl (15 kB)\n",
            "Requirement already satisfied: pandas>=1.1.4 in /usr/local/lib/python3.10/dist-packages (from ultralytics) (1.5.3)\n",
            "Requirement already satisfied: seaborn>=0.11.0 in /usr/local/lib/python3.10/dist-packages (from ultralytics) (0.13.1)\n",
            "Requirement already satisfied: contourpy>=1.0.1 in /usr/local/lib/python3.10/dist-packages (from matplotlib>=3.3.0->ultralytics) (1.2.0)\n",
            "Requirement already satisfied: cycler>=0.10 in /usr/local/lib/python3.10/dist-packages (from matplotlib>=3.3.0->ultralytics) (0.12.1)\n",
            "Requirement already satisfied: fonttools>=4.22.0 in /usr/local/lib/python3.10/dist-packages (from matplotlib>=3.3.0->ultralytics) (4.49.0)\n",
            "Requirement already satisfied: kiwisolver>=1.0.1 in /usr/local/lib/python3.10/dist-packages (from matplotlib>=3.3.0->ultralytics) (1.4.5)\n",
            "Requirement already satisfied: numpy>=1.20 in /usr/local/lib/python3.10/dist-packages (from matplotlib>=3.3.0->ultralytics) (1.25.2)\n",
            "Requirement already satisfied: packaging>=20.0 in /usr/local/lib/python3.10/dist-packages (from matplotlib>=3.3.0->ultralytics) (23.2)\n",
            "Requirement already satisfied: pyparsing>=2.3.1 in /usr/local/lib/python3.10/dist-packages (from matplotlib>=3.3.0->ultralytics) (3.1.2)\n",
            "Requirement already satisfied: python-dateutil>=2.7 in /usr/local/lib/python3.10/dist-packages (from matplotlib>=3.3.0->ultralytics) (2.8.2)\n",
            "Requirement already satisfied: pytz>=2020.1 in /usr/local/lib/python3.10/dist-packages (from pandas>=1.1.4->ultralytics) (2023.4)\n",
            "Requirement already satisfied: charset-normalizer<4,>=2 in /usr/local/lib/python3.10/dist-packages (from requests>=2.23.0->ultralytics) (3.3.2)\n",
            "Requirement already satisfied: idna<4,>=2.5 in /usr/local/lib/python3.10/dist-packages (from requests>=2.23.0->ultralytics) (3.6)\n",
            "Requirement already satisfied: urllib3<3,>=1.21.1 in /usr/local/lib/python3.10/dist-packages (from requests>=2.23.0->ultralytics) (2.0.7)\n",
            "Requirement already satisfied: certifi>=2017.4.17 in /usr/local/lib/python3.10/dist-packages (from requests>=2.23.0->ultralytics) (2024.2.2)\n",
            "Requirement already satisfied: filelock in /usr/local/lib/python3.10/dist-packages (from torch>=1.8.0->ultralytics) (3.13.1)\n",
            "Requirement already satisfied: typing-extensions in /usr/local/lib/python3.10/dist-packages (from torch>=1.8.0->ultralytics) (4.10.0)\n",
            "Requirement already satisfied: sympy in /usr/local/lib/python3.10/dist-packages (from torch>=1.8.0->ultralytics) (1.12)\n",
            "Requirement already satisfied: networkx in /usr/local/lib/python3.10/dist-packages (from torch>=1.8.0->ultralytics) (3.2.1)\n",
            "Requirement already satisfied: jinja2 in /usr/local/lib/python3.10/dist-packages (from torch>=1.8.0->ultralytics) (3.1.3)\n",
            "Requirement already satisfied: fsspec in /usr/local/lib/python3.10/dist-packages (from torch>=1.8.0->ultralytics) (2023.6.0)\n",
            "Requirement already satisfied: triton==2.1.0 in /usr/local/lib/python3.10/dist-packages (from torch>=1.8.0->ultralytics) (2.1.0)\n",
            "Requirement already satisfied: six>=1.5 in /usr/local/lib/python3.10/dist-packages (from python-dateutil>=2.7->matplotlib>=3.3.0->ultralytics) (1.16.0)\n",
            "Requirement already satisfied: MarkupSafe>=2.0 in /usr/local/lib/python3.10/dist-packages (from jinja2->torch>=1.8.0->ultralytics) (2.1.5)\n",
            "Requirement already satisfied: mpmath>=0.19 in /usr/local/lib/python3.10/dist-packages (from sympy->torch>=1.8.0->ultralytics) (1.3.0)\n",
            "Installing collected packages: thop, ultralytics\n",
            "Successfully installed thop-0.1.1.post2209072238 ultralytics-8.1.27\n"
          ]
        }
      ]
    },
    {
      "cell_type": "code",
      "source": [
        "from ultralytics import YOLO\n",
        "\n",
        "# Create a new YOLOv8n-OBB model from scratch\n",
        "model = YOLO('yolov8n-obb.yaml')\n",
        "\n",
        "# # Train the model on the GDA_yolo-obb.yaml dataset\n",
        "results = model.train(data='/content/drive/MyDrive/SuperAI/Project/GDA/GDA_yolo-obb.yaml', epochs=100, imgsz=640)"
      ],
      "metadata": {
        "colab": {
          "base_uri": "https://localhost:8080/"
        },
        "id": "gFoII38S5Ow9",
        "outputId": "62b51070-4da6-49ed-ea39-58a5f0056100"
      },
      "execution_count": null,
      "outputs": [
        {
          "output_type": "stream",
          "name": "stdout",
          "text": [
            "Ultralytics YOLOv8.1.27 🚀 Python-3.10.12 torch-2.1.0+cu121 CUDA:0 (Tesla T4, 15102MiB)\n",
            "\u001b[34m\u001b[1mengine/trainer: \u001b[0mtask=obb, mode=train, model=yolov8n-obb.yaml, data=/content/drive/MyDrive/SuperAI/Project/GDA/GDA_yolo-obb.yaml, epochs=100, time=None, patience=100, batch=16, imgsz=640, save=True, save_period=-1, cache=False, device=None, workers=8, project=None, name=train2, exist_ok=False, pretrained=True, optimizer=auto, verbose=True, seed=0, deterministic=True, single_cls=False, rect=False, cos_lr=False, close_mosaic=10, resume=False, amp=True, fraction=1.0, profile=False, freeze=None, multi_scale=False, overlap_mask=True, mask_ratio=4, dropout=0.0, val=True, split=val, save_json=False, save_hybrid=False, conf=None, iou=0.7, max_det=300, half=False, dnn=False, plots=True, source=None, vid_stride=1, stream_buffer=False, visualize=False, augment=False, agnostic_nms=False, classes=None, retina_masks=False, embed=None, show=False, save_frames=False, save_txt=False, save_conf=False, save_crop=False, show_labels=True, show_conf=True, show_boxes=True, line_width=None, format=torchscript, keras=False, optimize=False, int8=False, dynamic=False, simplify=False, opset=None, workspace=4, nms=False, lr0=0.01, lrf=0.01, momentum=0.937, weight_decay=0.0005, warmup_epochs=3.0, warmup_momentum=0.8, warmup_bias_lr=0.1, box=7.5, cls=0.5, dfl=1.5, pose=12.0, kobj=1.0, label_smoothing=0.0, nbs=64, hsv_h=0.015, hsv_s=0.7, hsv_v=0.4, degrees=0.0, translate=0.1, scale=0.5, shear=0.0, perspective=0.0, flipud=0.0, fliplr=0.5, mosaic=1.0, mixup=0.0, copy_paste=0.0, auto_augment=randaugment, erasing=0.4, crop_fraction=1.0, cfg=None, tracker=botsort.yaml, save_dir=runs/obb/train2\n",
            "Downloading https://ultralytics.com/assets/Arial.ttf to '/root/.config/Ultralytics/Arial.ttf'...\n"
          ]
        },
        {
          "output_type": "stream",
          "name": "stderr",
          "text": [
            "100%|██████████| 755k/755k [00:00<00:00, 104MB/s]\n"
          ]
        },
        {
          "output_type": "stream",
          "name": "stdout",
          "text": [
            "Overriding model.yaml nc=80 with nc=4\n",
            "\n",
            "                   from  n    params  module                                       arguments                     \n",
            "  0                  -1  1       464  ultralytics.nn.modules.conv.Conv             [3, 16, 3, 2]                 \n",
            "  1                  -1  1      4672  ultralytics.nn.modules.conv.Conv             [16, 32, 3, 2]                \n",
            "  2                  -1  1      7360  ultralytics.nn.modules.block.C2f             [32, 32, 1, True]             \n",
            "  3                  -1  1     18560  ultralytics.nn.modules.conv.Conv             [32, 64, 3, 2]                \n",
            "  4                  -1  2     49664  ultralytics.nn.modules.block.C2f             [64, 64, 2, True]             \n",
            "  5                  -1  1     73984  ultralytics.nn.modules.conv.Conv             [64, 128, 3, 2]               \n",
            "  6                  -1  2    197632  ultralytics.nn.modules.block.C2f             [128, 128, 2, True]           \n",
            "  7                  -1  1    295424  ultralytics.nn.modules.conv.Conv             [128, 256, 3, 2]              \n",
            "  8                  -1  1    460288  ultralytics.nn.modules.block.C2f             [256, 256, 1, True]           \n",
            "  9                  -1  1    164608  ultralytics.nn.modules.block.SPPF            [256, 256, 5]                 \n",
            " 10                  -1  1         0  torch.nn.modules.upsampling.Upsample         [None, 2, 'nearest']          \n",
            " 11             [-1, 6]  1         0  ultralytics.nn.modules.conv.Concat           [1]                           \n",
            " 12                  -1  1    148224  ultralytics.nn.modules.block.C2f             [384, 128, 1]                 \n",
            " 13                  -1  1         0  torch.nn.modules.upsampling.Upsample         [None, 2, 'nearest']          \n",
            " 14             [-1, 4]  1         0  ultralytics.nn.modules.conv.Concat           [1]                           \n",
            " 15                  -1  1     37248  ultralytics.nn.modules.block.C2f             [192, 64, 1]                  \n",
            " 16                  -1  1     36992  ultralytics.nn.modules.conv.Conv             [64, 64, 3, 2]                \n",
            " 17            [-1, 12]  1         0  ultralytics.nn.modules.conv.Concat           [1]                           \n",
            " 18                  -1  1    123648  ultralytics.nn.modules.block.C2f             [192, 128, 1]                 \n",
            " 19                  -1  1    147712  ultralytics.nn.modules.conv.Conv             [128, 128, 3, 2]              \n",
            " 20             [-1, 9]  1         0  ultralytics.nn.modules.conv.Concat           [1]                           \n",
            " 21                  -1  1    493056  ultralytics.nn.modules.block.C2f             [384, 256, 1]                 \n",
            " 22        [15, 18, 21]  1    823759  ultralytics.nn.modules.head.OBB              [4, 1, [64, 128, 256]]        \n",
            "YOLOv8n-obb summary: 250 layers, 3083295 parameters, 3083279 gradients, 8.4 GFLOPs\n",
            "\n",
            "\u001b[34m\u001b[1mTensorBoard: \u001b[0mStart with 'tensorboard --logdir runs/obb/train2', view at http://localhost:6006/\n",
            "Freezing layer 'model.22.dfl.conv.weight'\n",
            "\u001b[34m\u001b[1mAMP: \u001b[0mrunning Automatic Mixed Precision (AMP) checks with YOLOv8n...\n",
            "Downloading https://github.com/ultralytics/assets/releases/download/v8.1.0/yolov8n.pt to 'yolov8n.pt'...\n"
          ]
        },
        {
          "output_type": "stream",
          "name": "stderr",
          "text": [
            "100%|██████████| 6.23M/6.23M [00:00<00:00, 316MB/s]\n"
          ]
        },
        {
          "output_type": "stream",
          "name": "stdout",
          "text": [
            "\u001b[34m\u001b[1mAMP: \u001b[0mchecks passed ✅\n"
          ]
        },
        {
          "output_type": "stream",
          "name": "stderr",
          "text": [
            "\u001b[34m\u001b[1mtrain: \u001b[0mScanning /content/drive/MyDrive/SuperAI/Project/GDA/GDA-OBB/labels/train... 57 images, 15 backgrounds, 0 corrupt: 100%|██████████| 72/72 [00:27<00:00,  2.60it/s]"
          ]
        },
        {
          "output_type": "stream",
          "name": "stdout",
          "text": [
            "\u001b[34m\u001b[1mtrain: \u001b[0mWARNING ⚠️ /content/drive/MyDrive/SuperAI/Project/GDA/GDA-OBB/images/train/0001.jpg: corrupt JPEG restored and saved\n",
            "\u001b[34m\u001b[1mtrain: \u001b[0mWARNING ⚠️ /content/drive/MyDrive/SuperAI/Project/GDA/GDA-OBB/images/train/0002.jpg: corrupt JPEG restored and saved\n",
            "\u001b[34m\u001b[1mtrain: \u001b[0mWARNING ⚠️ /content/drive/MyDrive/SuperAI/Project/GDA/GDA-OBB/images/train/0004.jpg: corrupt JPEG restored and saved\n",
            "\u001b[34m\u001b[1mtrain: \u001b[0mWARNING ⚠️ /content/drive/MyDrive/SuperAI/Project/GDA/GDA-OBB/images/train/0005.jpg: corrupt JPEG restored and saved\n",
            "\u001b[34m\u001b[1mtrain: \u001b[0mWARNING ⚠️ /content/drive/MyDrive/SuperAI/Project/GDA/GDA-OBB/images/train/0007.jpg: corrupt JPEG restored and saved\n",
            "\u001b[34m\u001b[1mtrain: \u001b[0mWARNING ⚠️ /content/drive/MyDrive/SuperAI/Project/GDA/GDA-OBB/images/train/0008.jpg: corrupt JPEG restored and saved\n",
            "\u001b[34m\u001b[1mtrain: \u001b[0mWARNING ⚠️ /content/drive/MyDrive/SuperAI/Project/GDA/GDA-OBB/images/train/0009.jpg: corrupt JPEG restored and saved\n",
            "\u001b[34m\u001b[1mtrain: \u001b[0mWARNING ⚠️ /content/drive/MyDrive/SuperAI/Project/GDA/GDA-OBB/images/train/0010.jpg: corrupt JPEG restored and saved\n",
            "\u001b[34m\u001b[1mtrain: \u001b[0mWARNING ⚠️ /content/drive/MyDrive/SuperAI/Project/GDA/GDA-OBB/images/train/0011.jpg: corrupt JPEG restored and saved\n",
            "\u001b[34m\u001b[1mtrain: \u001b[0mWARNING ⚠️ /content/drive/MyDrive/SuperAI/Project/GDA/GDA-OBB/images/train/0015.jpg: corrupt JPEG restored and saved\n",
            "\u001b[34m\u001b[1mtrain: \u001b[0mWARNING ⚠️ /content/drive/MyDrive/SuperAI/Project/GDA/GDA-OBB/images/train/0016.jpg: corrupt JPEG restored and saved\n",
            "\u001b[34m\u001b[1mtrain: \u001b[0mWARNING ⚠️ /content/drive/MyDrive/SuperAI/Project/GDA/GDA-OBB/images/train/0017.jpg: corrupt JPEG restored and saved\n",
            "\u001b[34m\u001b[1mtrain: \u001b[0mWARNING ⚠️ /content/drive/MyDrive/SuperAI/Project/GDA/GDA-OBB/images/train/0018.jpg: corrupt JPEG restored and saved\n",
            "\u001b[34m\u001b[1mtrain: \u001b[0mWARNING ⚠️ /content/drive/MyDrive/SuperAI/Project/GDA/GDA-OBB/images/train/0020.jpg: corrupt JPEG restored and saved\n",
            "\u001b[34m\u001b[1mtrain: \u001b[0mWARNING ⚠️ /content/drive/MyDrive/SuperAI/Project/GDA/GDA-OBB/images/train/0021.jpg: corrupt JPEG restored and saved\n",
            "\u001b[34m\u001b[1mtrain: \u001b[0mWARNING ⚠️ /content/drive/MyDrive/SuperAI/Project/GDA/GDA-OBB/images/train/0022.jpg: corrupt JPEG restored and saved\n",
            "\u001b[34m\u001b[1mtrain: \u001b[0mWARNING ⚠️ /content/drive/MyDrive/SuperAI/Project/GDA/GDA-OBB/images/train/0023.jpg: corrupt JPEG restored and saved\n",
            "\u001b[34m\u001b[1mtrain: \u001b[0mWARNING ⚠️ /content/drive/MyDrive/SuperAI/Project/GDA/GDA-OBB/images/train/0024.jpg: corrupt JPEG restored and saved\n",
            "\u001b[34m\u001b[1mtrain: \u001b[0mWARNING ⚠️ /content/drive/MyDrive/SuperAI/Project/GDA/GDA-OBB/images/train/0025.jpg: corrupt JPEG restored and saved\n",
            "\u001b[34m\u001b[1mtrain: \u001b[0mWARNING ⚠️ /content/drive/MyDrive/SuperAI/Project/GDA/GDA-OBB/images/train/0026.jpg: corrupt JPEG restored and saved\n",
            "\u001b[34m\u001b[1mtrain: \u001b[0mWARNING ⚠️ /content/drive/MyDrive/SuperAI/Project/GDA/GDA-OBB/images/train/0030.jpg: corrupt JPEG restored and saved\n",
            "\u001b[34m\u001b[1mtrain: \u001b[0mWARNING ⚠️ /content/drive/MyDrive/SuperAI/Project/GDA/GDA-OBB/images/train/0031.jpg: corrupt JPEG restored and saved\n",
            "\u001b[34m\u001b[1mtrain: \u001b[0mWARNING ⚠️ /content/drive/MyDrive/SuperAI/Project/GDA/GDA-OBB/images/train/0032.jpg: corrupt JPEG restored and saved\n",
            "\u001b[34m\u001b[1mtrain: \u001b[0mWARNING ⚠️ /content/drive/MyDrive/SuperAI/Project/GDA/GDA-OBB/images/train/0036.jpg: corrupt JPEG restored and saved\n",
            "\u001b[34m\u001b[1mtrain: \u001b[0mWARNING ⚠️ /content/drive/MyDrive/SuperAI/Project/GDA/GDA-OBB/images/train/0037.jpg: corrupt JPEG restored and saved\n",
            "\u001b[34m\u001b[1mtrain: \u001b[0mWARNING ⚠️ /content/drive/MyDrive/SuperAI/Project/GDA/GDA-OBB/images/train/0040.jpg: corrupt JPEG restored and saved\n",
            "\u001b[34m\u001b[1mtrain: \u001b[0mWARNING ⚠️ /content/drive/MyDrive/SuperAI/Project/GDA/GDA-OBB/images/train/0043.jpg: corrupt JPEG restored and saved\n",
            "\u001b[34m\u001b[1mtrain: \u001b[0mWARNING ⚠️ /content/drive/MyDrive/SuperAI/Project/GDA/GDA-OBB/images/train/0047.jpg: corrupt JPEG restored and saved\n",
            "\u001b[34m\u001b[1mtrain: \u001b[0mWARNING ⚠️ /content/drive/MyDrive/SuperAI/Project/GDA/GDA-OBB/images/train/0048.jpg: corrupt JPEG restored and saved\n",
            "\u001b[34m\u001b[1mtrain: \u001b[0mWARNING ⚠️ /content/drive/MyDrive/SuperAI/Project/GDA/GDA-OBB/images/train/0054.jpg: corrupt JPEG restored and saved\n",
            "\u001b[34m\u001b[1mtrain: \u001b[0mWARNING ⚠️ /content/drive/MyDrive/SuperAI/Project/GDA/GDA-OBB/images/train/0056.jpg: corrupt JPEG restored and saved\n",
            "\u001b[34m\u001b[1mtrain: \u001b[0mWARNING ⚠️ /content/drive/MyDrive/SuperAI/Project/GDA/GDA-OBB/images/train/0058.jpg: corrupt JPEG restored and saved\n",
            "\u001b[34m\u001b[1mtrain: \u001b[0mWARNING ⚠️ /content/drive/MyDrive/SuperAI/Project/GDA/GDA-OBB/images/train/0059.jpg: corrupt JPEG restored and saved\n",
            "\u001b[34m\u001b[1mtrain: \u001b[0mWARNING ⚠️ /content/drive/MyDrive/SuperAI/Project/GDA/GDA-OBB/images/train/0060.jpg: corrupt JPEG restored and saved\n",
            "\u001b[34m\u001b[1mtrain: \u001b[0mWARNING ⚠️ /content/drive/MyDrive/SuperAI/Project/GDA/GDA-OBB/images/train/0063.jpg: corrupt JPEG restored and saved\n",
            "\u001b[34m\u001b[1mtrain: \u001b[0mWARNING ⚠️ /content/drive/MyDrive/SuperAI/Project/GDA/GDA-OBB/images/train/0065.jpg: corrupt JPEG restored and saved\n",
            "\u001b[34m\u001b[1mtrain: \u001b[0mWARNING ⚠️ /content/drive/MyDrive/SuperAI/Project/GDA/GDA-OBB/images/train/0071.jpg: corrupt JPEG restored and saved\n",
            "\u001b[34m\u001b[1mtrain: \u001b[0mWARNING ⚠️ /content/drive/MyDrive/SuperAI/Project/GDA/GDA-OBB/images/train/0073.jpg: corrupt JPEG restored and saved\n",
            "\u001b[34m\u001b[1mtrain: \u001b[0mWARNING ⚠️ /content/drive/MyDrive/SuperAI/Project/GDA/GDA-OBB/images/train/0075.jpg: corrupt JPEG restored and saved\n",
            "\u001b[34m\u001b[1mtrain: \u001b[0mWARNING ⚠️ /content/drive/MyDrive/SuperAI/Project/GDA/GDA-OBB/images/train/0078.jpg: corrupt JPEG restored and saved\n",
            "\u001b[34m\u001b[1mtrain: \u001b[0mWARNING ⚠️ /content/drive/MyDrive/SuperAI/Project/GDA/GDA-OBB/images/train/0081.jpg: corrupt JPEG restored and saved\n",
            "\u001b[34m\u001b[1mtrain: \u001b[0mWARNING ⚠️ /content/drive/MyDrive/SuperAI/Project/GDA/GDA-OBB/images/train/0082.jpg: corrupt JPEG restored and saved\n",
            "\u001b[34m\u001b[1mtrain: \u001b[0mWARNING ⚠️ /content/drive/MyDrive/SuperAI/Project/GDA/GDA-OBB/images/train/0083.jpg: corrupt JPEG restored and saved\n",
            "\u001b[34m\u001b[1mtrain: \u001b[0mWARNING ⚠️ /content/drive/MyDrive/SuperAI/Project/GDA/GDA-OBB/images/train/0084.jpg: corrupt JPEG restored and saved\n",
            "\u001b[34m\u001b[1mtrain: \u001b[0mWARNING ⚠️ /content/drive/MyDrive/SuperAI/Project/GDA/GDA-OBB/images/train/0085.jpg: corrupt JPEG restored and saved\n",
            "\u001b[34m\u001b[1mtrain: \u001b[0mWARNING ⚠️ /content/drive/MyDrive/SuperAI/Project/GDA/GDA-OBB/images/train/0086.jpg: corrupt JPEG restored and saved\n",
            "\u001b[34m\u001b[1mtrain: \u001b[0mWARNING ⚠️ /content/drive/MyDrive/SuperAI/Project/GDA/GDA-OBB/images/train/0102.jpg: corrupt JPEG restored and saved\n",
            "\u001b[34m\u001b[1mtrain: \u001b[0mWARNING ⚠️ /content/drive/MyDrive/SuperAI/Project/GDA/GDA-OBB/images/train/0104.jpg: corrupt JPEG restored and saved\n",
            "\u001b[34m\u001b[1mtrain: \u001b[0mWARNING ⚠️ /content/drive/MyDrive/SuperAI/Project/GDA/GDA-OBB/images/train/0106.jpg: corrupt JPEG restored and saved\n",
            "\u001b[34m\u001b[1mtrain: \u001b[0mWARNING ⚠️ /content/drive/MyDrive/SuperAI/Project/GDA/GDA-OBB/images/train/0107.jpg: corrupt JPEG restored and saved\n",
            "\u001b[34m\u001b[1mtrain: \u001b[0mWARNING ⚠️ /content/drive/MyDrive/SuperAI/Project/GDA/GDA-OBB/images/train/0109.jpg: corrupt JPEG restored and saved\n",
            "\u001b[34m\u001b[1mtrain: \u001b[0mWARNING ⚠️ /content/drive/MyDrive/SuperAI/Project/GDA/GDA-OBB/images/train/0110.jpg: corrupt JPEG restored and saved\n",
            "\u001b[34m\u001b[1mtrain: \u001b[0mWARNING ⚠️ /content/drive/MyDrive/SuperAI/Project/GDA/GDA-OBB/images/train/0111.jpg: corrupt JPEG restored and saved\n",
            "\u001b[34m\u001b[1mtrain: \u001b[0mWARNING ⚠️ /content/drive/MyDrive/SuperAI/Project/GDA/GDA-OBB/images/train/0112.jpg: corrupt JPEG restored and saved\n",
            "\u001b[34m\u001b[1mtrain: \u001b[0mWARNING ⚠️ /content/drive/MyDrive/SuperAI/Project/GDA/GDA-OBB/images/train/0113.jpg: corrupt JPEG restored and saved\n",
            "\u001b[34m\u001b[1mtrain: \u001b[0mWARNING ⚠️ /content/drive/MyDrive/SuperAI/Project/GDA/GDA-OBB/images/train/0115.jpg: corrupt JPEG restored and saved\n",
            "\u001b[34m\u001b[1mtrain: \u001b[0mWARNING ⚠️ /content/drive/MyDrive/SuperAI/Project/GDA/GDA-OBB/images/train/0116.jpg: corrupt JPEG restored and saved\n",
            "\u001b[34m\u001b[1mtrain: \u001b[0mWARNING ⚠️ /content/drive/MyDrive/SuperAI/Project/GDA/GDA-OBB/images/train/0118.jpg: corrupt JPEG restored and saved\n",
            "\u001b[34m\u001b[1mtrain: \u001b[0mWARNING ⚠️ /content/drive/MyDrive/SuperAI/Project/GDA/GDA-OBB/images/train/0119.jpg: corrupt JPEG restored and saved\n",
            "\u001b[34m\u001b[1mtrain: \u001b[0mWARNING ⚠️ /content/drive/MyDrive/SuperAI/Project/GDA/GDA-OBB/images/train/0120.jpg: corrupt JPEG restored and saved\n",
            "\u001b[34m\u001b[1mtrain: \u001b[0mWARNING ⚠️ /content/drive/MyDrive/SuperAI/Project/GDA/GDA-OBB/images/train/0121.jpg: corrupt JPEG restored and saved\n",
            "\u001b[34m\u001b[1mtrain: \u001b[0mWARNING ⚠️ /content/drive/MyDrive/SuperAI/Project/GDA/GDA-OBB/images/train/0122.jpg: corrupt JPEG restored and saved\n",
            "\u001b[34m\u001b[1mtrain: \u001b[0mWARNING ⚠️ /content/drive/MyDrive/SuperAI/Project/GDA/GDA-OBB/images/train/0127.jpg: corrupt JPEG restored and saved\n",
            "\u001b[34m\u001b[1mtrain: \u001b[0mWARNING ⚠️ /content/drive/MyDrive/SuperAI/Project/GDA/GDA-OBB/images/train/0131.jpg: corrupt JPEG restored and saved\n",
            "\u001b[34m\u001b[1mtrain: \u001b[0mWARNING ⚠️ /content/drive/MyDrive/SuperAI/Project/GDA/GDA-OBB/images/train/0133.jpg: corrupt JPEG restored and saved\n",
            "\u001b[34m\u001b[1mtrain: \u001b[0mNew cache created: /content/drive/MyDrive/SuperAI/Project/GDA/GDA-OBB/labels/train.cache\n"
          ]
        },
        {
          "output_type": "stream",
          "name": "stderr",
          "text": [
            "\n"
          ]
        },
        {
          "output_type": "stream",
          "name": "stdout",
          "text": [
            "\u001b[34m\u001b[1malbumentations: \u001b[0mBlur(p=0.01, blur_limit=(3, 7)), MedianBlur(p=0.01, blur_limit=(3, 7)), ToGray(p=0.01), CLAHE(p=0.01, clip_limit=(1, 4.0), tile_grid_size=(8, 8))\n"
          ]
        },
        {
          "output_type": "stream",
          "name": "stderr",
          "text": [
            "\u001b[34m\u001b[1mval: \u001b[0mScanning /content/drive/MyDrive/SuperAI/Project/GDA/GDA-OBB/labels/val... 3 images, 15 backgrounds, 0 corrupt: 100%|██████████| 18/18 [00:14<00:00,  1.24it/s]"
          ]
        },
        {
          "output_type": "stream",
          "name": "stdout",
          "text": [
            "\u001b[34m\u001b[1mval: \u001b[0mWARNING ⚠️ /content/drive/MyDrive/SuperAI/Project/GDA/GDA-OBB/images/val/0003.jpg: corrupt JPEG restored and saved\n",
            "\u001b[34m\u001b[1mval: \u001b[0mWARNING ⚠️ /content/drive/MyDrive/SuperAI/Project/GDA/GDA-OBB/images/val/0029.jpg: corrupt JPEG restored and saved\n",
            "\u001b[34m\u001b[1mval: \u001b[0mWARNING ⚠️ /content/drive/MyDrive/SuperAI/Project/GDA/GDA-OBB/images/val/0034.jpg: corrupt JPEG restored and saved\n",
            "\u001b[34m\u001b[1mval: \u001b[0mWARNING ⚠️ /content/drive/MyDrive/SuperAI/Project/GDA/GDA-OBB/images/val/0038.jpg: corrupt JPEG restored and saved\n",
            "\u001b[34m\u001b[1mval: \u001b[0mWARNING ⚠️ /content/drive/MyDrive/SuperAI/Project/GDA/GDA-OBB/images/val/0050.jpg: corrupt JPEG restored and saved\n",
            "\u001b[34m\u001b[1mval: \u001b[0mWARNING ⚠️ /content/drive/MyDrive/SuperAI/Project/GDA/GDA-OBB/images/val/0052.jpg: corrupt JPEG restored and saved\n",
            "\u001b[34m\u001b[1mval: \u001b[0mWARNING ⚠️ /content/drive/MyDrive/SuperAI/Project/GDA/GDA-OBB/images/val/0062.jpg: corrupt JPEG restored and saved\n",
            "\u001b[34m\u001b[1mval: \u001b[0mWARNING ⚠️ /content/drive/MyDrive/SuperAI/Project/GDA/GDA-OBB/images/val/0067.jpg: corrupt JPEG restored and saved\n",
            "\u001b[34m\u001b[1mval: \u001b[0mWARNING ⚠️ /content/drive/MyDrive/SuperAI/Project/GDA/GDA-OBB/images/val/0069.jpg: corrupt JPEG restored and saved\n",
            "\u001b[34m\u001b[1mval: \u001b[0mWARNING ⚠️ /content/drive/MyDrive/SuperAI/Project/GDA/GDA-OBB/images/val/0077.jpg: corrupt JPEG restored and saved\n",
            "\u001b[34m\u001b[1mval: \u001b[0mWARNING ⚠️ /content/drive/MyDrive/SuperAI/Project/GDA/GDA-OBB/images/val/0080.jpg: corrupt JPEG restored and saved\n",
            "\u001b[34m\u001b[1mval: \u001b[0mWARNING ⚠️ /content/drive/MyDrive/SuperAI/Project/GDA/GDA-OBB/images/val/0108.jpg: corrupt JPEG restored and saved\n",
            "\u001b[34m\u001b[1mval: \u001b[0mWARNING ⚠️ /content/drive/MyDrive/SuperAI/Project/GDA/GDA-OBB/images/val/0114.jpg: corrupt JPEG restored and saved\n",
            "\u001b[34m\u001b[1mval: \u001b[0mWARNING ⚠️ /content/drive/MyDrive/SuperAI/Project/GDA/GDA-OBB/images/val/0117.jpg: corrupt JPEG restored and saved\n",
            "\u001b[34m\u001b[1mval: \u001b[0mWARNING ⚠️ /content/drive/MyDrive/SuperAI/Project/GDA/GDA-OBB/images/val/0125.jpg: corrupt JPEG restored and saved\n",
            "\u001b[34m\u001b[1mval: \u001b[0mWARNING ⚠️ /content/drive/MyDrive/SuperAI/Project/GDA/GDA-OBB/images/val/0129.jpg: corrupt JPEG restored and saved\n",
            "\u001b[34m\u001b[1mval: \u001b[0mNew cache created: /content/drive/MyDrive/SuperAI/Project/GDA/GDA-OBB/labels/val.cache\n"
          ]
        },
        {
          "output_type": "stream",
          "name": "stderr",
          "text": [
            "\n"
          ]
        },
        {
          "output_type": "stream",
          "name": "stdout",
          "text": [
            "Plotting labels to runs/obb/train2/labels.jpg... \n",
            "\u001b[34m\u001b[1moptimizer:\u001b[0m 'optimizer=auto' found, ignoring 'lr0=0.01' and 'momentum=0.937' and determining best 'optimizer', 'lr0' and 'momentum' automatically... \n",
            "\u001b[34m\u001b[1moptimizer:\u001b[0m AdamW(lr=0.00125, momentum=0.9) with parameter groups 63 weight(decay=0.0), 73 weight(decay=0.0005), 72 bias(decay=0.0)\n",
            "\u001b[34m\u001b[1mTensorBoard: \u001b[0mmodel graph visualization added ✅\n",
            "Image sizes 640 train, 640 val\n",
            "Using 2 dataloader workers\n",
            "Logging results to \u001b[1mruns/obb/train2\u001b[0m\n",
            "Starting training for 100 epochs...\n",
            "\n",
            "      Epoch    GPU_mem   box_loss   cls_loss   dfl_loss  Instances       Size\n"
          ]
        },
        {
          "output_type": "stream",
          "name": "stderr",
          "text": [
            "      1/100      2.52G      4.993      5.053      4.359         61        640: 100%|██████████| 5/5 [00:11<00:00,  2.32s/it]\n",
            "                 Class     Images  Instances      Box(P          R      mAP50  mAP50-95): 100%|██████████| 2/2 [00:03<00:00,  1.92s/it]"
          ]
        },
        {
          "output_type": "stream",
          "name": "stdout",
          "text": [
            "                   all         18         12          0          0          0          0\n"
          ]
        },
        {
          "output_type": "stream",
          "name": "stderr",
          "text": [
            "\n"
          ]
        },
        {
          "output_type": "stream",
          "name": "stdout",
          "text": [
            "\n",
            "      Epoch    GPU_mem   box_loss   cls_loss   dfl_loss  Instances       Size\n"
          ]
        },
        {
          "output_type": "stream",
          "name": "stderr",
          "text": [
            "      2/100      2.36G      4.598      4.984      4.296         40        640: 100%|██████████| 5/5 [00:12<00:00,  2.52s/it]\n",
            "                 Class     Images  Instances      Box(P          R      mAP50  mAP50-95): 100%|██████████| 2/2 [00:00<00:00,  4.72it/s]"
          ]
        },
        {
          "output_type": "stream",
          "name": "stdout",
          "text": [
            "                   all         18         12          0          0          0          0\n"
          ]
        },
        {
          "output_type": "stream",
          "name": "stderr",
          "text": [
            "\n"
          ]
        },
        {
          "output_type": "stream",
          "name": "stdout",
          "text": [
            "\n",
            "      Epoch    GPU_mem   box_loss   cls_loss   dfl_loss  Instances       Size\n"
          ]
        },
        {
          "output_type": "stream",
          "name": "stderr",
          "text": [
            "      3/100      2.37G      4.353      4.922      4.214         23        640: 100%|██████████| 5/5 [00:08<00:00,  1.69s/it]\n",
            "                 Class     Images  Instances      Box(P          R      mAP50  mAP50-95): 100%|██████████| 2/2 [00:00<00:00,  4.31it/s]"
          ]
        },
        {
          "output_type": "stream",
          "name": "stdout",
          "text": [
            "                   all         18         12          0          0          0          0\n"
          ]
        },
        {
          "output_type": "stream",
          "name": "stderr",
          "text": [
            "\n"
          ]
        },
        {
          "output_type": "stream",
          "name": "stdout",
          "text": [
            "\n",
            "      Epoch    GPU_mem   box_loss   cls_loss   dfl_loss  Instances       Size\n"
          ]
        },
        {
          "output_type": "stream",
          "name": "stderr",
          "text": [
            "      4/100      2.33G      4.571      4.733      4.101         53        640: 100%|██████████| 5/5 [00:03<00:00,  1.50it/s]\n",
            "                 Class     Images  Instances      Box(P          R      mAP50  mAP50-95): 100%|██████████| 2/2 [00:00<00:00,  4.18it/s]"
          ]
        },
        {
          "output_type": "stream",
          "name": "stdout",
          "text": [
            "                   all         18         12          0          0          0          0\n"
          ]
        },
        {
          "output_type": "stream",
          "name": "stderr",
          "text": [
            "\n"
          ]
        },
        {
          "output_type": "stream",
          "name": "stdout",
          "text": [
            "\n",
            "      Epoch    GPU_mem   box_loss   cls_loss   dfl_loss  Instances       Size\n"
          ]
        },
        {
          "output_type": "stream",
          "name": "stderr",
          "text": [
            "      5/100      2.38G      4.076      4.596       4.05         48        640: 100%|██████████| 5/5 [00:02<00:00,  2.47it/s]\n",
            "                 Class     Images  Instances      Box(P          R      mAP50  mAP50-95): 100%|██████████| 2/2 [00:05<00:00,  2.69s/it]"
          ]
        },
        {
          "output_type": "stream",
          "name": "stdout",
          "text": [
            "                   all         18         12          0          0          0          0\n"
          ]
        },
        {
          "output_type": "stream",
          "name": "stderr",
          "text": [
            "\n"
          ]
        },
        {
          "output_type": "stream",
          "name": "stdout",
          "text": [
            "\n",
            "      Epoch    GPU_mem   box_loss   cls_loss   dfl_loss  Instances       Size\n"
          ]
        },
        {
          "output_type": "stream",
          "name": "stderr",
          "text": [
            "      6/100      2.33G      4.103      4.386      3.879         46        640: 100%|██████████| 5/5 [00:01<00:00,  3.83it/s]\n",
            "                 Class     Images  Instances      Box(P          R      mAP50  mAP50-95): 100%|██████████| 2/2 [00:04<00:00,  2.32s/it]"
          ]
        },
        {
          "output_type": "stream",
          "name": "stdout",
          "text": [
            "                   all         18         12          0          0          0          0\n"
          ]
        },
        {
          "output_type": "stream",
          "name": "stderr",
          "text": [
            "\n"
          ]
        },
        {
          "output_type": "stream",
          "name": "stdout",
          "text": [
            "\n",
            "      Epoch    GPU_mem   box_loss   cls_loss   dfl_loss  Instances       Size\n"
          ]
        },
        {
          "output_type": "stream",
          "name": "stderr",
          "text": [
            "      7/100      2.38G      3.776      4.313      3.765         46        640: 100%|██████████| 5/5 [00:02<00:00,  2.10it/s]\n",
            "                 Class     Images  Instances      Box(P          R      mAP50  mAP50-95): 100%|██████████| 2/2 [00:05<00:00,  2.50s/it]"
          ]
        },
        {
          "output_type": "stream",
          "name": "stdout",
          "text": [
            "                   all         18         12          0          0          0          0\n"
          ]
        },
        {
          "output_type": "stream",
          "name": "stderr",
          "text": [
            "\n"
          ]
        },
        {
          "output_type": "stream",
          "name": "stdout",
          "text": [
            "\n",
            "      Epoch    GPU_mem   box_loss   cls_loss   dfl_loss  Instances       Size\n"
          ]
        },
        {
          "output_type": "stream",
          "name": "stderr",
          "text": [
            "      8/100      2.37G      3.155      4.023      3.732         32        640: 100%|██████████| 5/5 [00:01<00:00,  3.27it/s]\n",
            "                 Class     Images  Instances      Box(P          R      mAP50  mAP50-95): 100%|██████████| 2/2 [00:05<00:00,  2.66s/it]"
          ]
        },
        {
          "output_type": "stream",
          "name": "stdout",
          "text": [
            "                   all         18         12          0          0          0          0\n"
          ]
        },
        {
          "output_type": "stream",
          "name": "stderr",
          "text": [
            "\n"
          ]
        },
        {
          "output_type": "stream",
          "name": "stdout",
          "text": [
            "\n",
            "      Epoch    GPU_mem   box_loss   cls_loss   dfl_loss  Instances       Size\n"
          ]
        },
        {
          "output_type": "stream",
          "name": "stderr",
          "text": [
            "      9/100      2.34G      2.814      3.905      3.551         52        640: 100%|██████████| 5/5 [00:01<00:00,  3.32it/s]\n",
            "                 Class     Images  Instances      Box(P          R      mAP50  mAP50-95): 100%|██████████| 2/2 [00:04<00:00,  2.40s/it]"
          ]
        },
        {
          "output_type": "stream",
          "name": "stdout",
          "text": [
            "                   all         18         12          0          0          0          0\n"
          ]
        },
        {
          "output_type": "stream",
          "name": "stderr",
          "text": [
            "\n"
          ]
        },
        {
          "output_type": "stream",
          "name": "stdout",
          "text": [
            "\n",
            "      Epoch    GPU_mem   box_loss   cls_loss   dfl_loss  Instances       Size\n"
          ]
        },
        {
          "output_type": "stream",
          "name": "stderr",
          "text": [
            "     10/100      2.37G      3.051      3.728      3.338         38        640: 100%|██████████| 5/5 [00:01<00:00,  3.27it/s]\n",
            "                 Class     Images  Instances      Box(P          R      mAP50  mAP50-95): 100%|██████████| 2/2 [00:05<00:00,  2.67s/it]"
          ]
        },
        {
          "output_type": "stream",
          "name": "stdout",
          "text": [
            "                   all         18         12          0          0          0          0\n"
          ]
        },
        {
          "output_type": "stream",
          "name": "stderr",
          "text": [
            "\n"
          ]
        },
        {
          "output_type": "stream",
          "name": "stdout",
          "text": [
            "\n",
            "      Epoch    GPU_mem   box_loss   cls_loss   dfl_loss  Instances       Size\n"
          ]
        },
        {
          "output_type": "stream",
          "name": "stderr",
          "text": [
            "     11/100      2.35G      2.794      3.609        3.3         51        640: 100%|██████████| 5/5 [00:01<00:00,  3.47it/s]\n",
            "                 Class     Images  Instances      Box(P          R      mAP50  mAP50-95): 100%|██████████| 2/2 [00:04<00:00,  2.31s/it]"
          ]
        },
        {
          "output_type": "stream",
          "name": "stdout",
          "text": [
            "                   all         18         12          0          0          0          0\n"
          ]
        },
        {
          "output_type": "stream",
          "name": "stderr",
          "text": [
            "\n"
          ]
        },
        {
          "output_type": "stream",
          "name": "stdout",
          "text": [
            "\n",
            "      Epoch    GPU_mem   box_loss   cls_loss   dfl_loss  Instances       Size\n"
          ]
        },
        {
          "output_type": "stream",
          "name": "stderr",
          "text": [
            "     12/100      2.34G      2.734      3.613      3.143         40        640: 100%|██████████| 5/5 [00:02<00:00,  2.32it/s]\n",
            "                 Class     Images  Instances      Box(P          R      mAP50  mAP50-95): 100%|██████████| 2/2 [00:05<00:00,  2.55s/it]"
          ]
        },
        {
          "output_type": "stream",
          "name": "stdout",
          "text": [
            "                   all         18         12          0          0          0          0\n"
          ]
        },
        {
          "output_type": "stream",
          "name": "stderr",
          "text": [
            "\n"
          ]
        },
        {
          "output_type": "stream",
          "name": "stdout",
          "text": [
            "\n",
            "      Epoch    GPU_mem   box_loss   cls_loss   dfl_loss  Instances       Size\n"
          ]
        },
        {
          "output_type": "stream",
          "name": "stderr",
          "text": [
            "     13/100      2.38G      2.742      3.328      2.979         47        640: 100%|██████████| 5/5 [00:01<00:00,  3.59it/s]\n",
            "                 Class     Images  Instances      Box(P          R      mAP50  mAP50-95): 100%|██████████| 2/2 [00:06<00:00,  3.26s/it]"
          ]
        },
        {
          "output_type": "stream",
          "name": "stdout",
          "text": [
            "                   all         18         12          0          0          0          0\n"
          ]
        },
        {
          "output_type": "stream",
          "name": "stderr",
          "text": [
            "\n"
          ]
        },
        {
          "output_type": "stream",
          "name": "stdout",
          "text": [
            "\n",
            "      Epoch    GPU_mem   box_loss   cls_loss   dfl_loss  Instances       Size\n"
          ]
        },
        {
          "output_type": "stream",
          "name": "stderr",
          "text": [
            "     14/100      2.37G       2.63      3.336      2.943         54        640: 100%|██████████| 5/5 [00:01<00:00,  3.20it/s]\n",
            "                 Class     Images  Instances      Box(P          R      mAP50  mAP50-95): 100%|██████████| 2/2 [00:05<00:00,  2.67s/it]"
          ]
        },
        {
          "output_type": "stream",
          "name": "stdout",
          "text": [
            "                   all         18         12          0          0          0          0\n"
          ]
        },
        {
          "output_type": "stream",
          "name": "stderr",
          "text": [
            "\n"
          ]
        },
        {
          "output_type": "stream",
          "name": "stdout",
          "text": [
            "\n",
            "      Epoch    GPU_mem   box_loss   cls_loss   dfl_loss  Instances       Size\n"
          ]
        },
        {
          "output_type": "stream",
          "name": "stderr",
          "text": [
            "     15/100      2.38G      2.406      3.345      2.988         28        640: 100%|██████████| 5/5 [00:01<00:00,  3.04it/s]\n",
            "                 Class     Images  Instances      Box(P          R      mAP50  mAP50-95): 100%|██████████| 2/2 [00:05<00:00,  2.88s/it]"
          ]
        },
        {
          "output_type": "stream",
          "name": "stdout",
          "text": [
            "                   all         18         12          0          0          0          0\n"
          ]
        },
        {
          "output_type": "stream",
          "name": "stderr",
          "text": [
            "\n"
          ]
        },
        {
          "output_type": "stream",
          "name": "stdout",
          "text": [
            "\n",
            "      Epoch    GPU_mem   box_loss   cls_loss   dfl_loss  Instances       Size\n"
          ]
        },
        {
          "output_type": "stream",
          "name": "stderr",
          "text": [
            "     16/100      2.37G      2.407      3.328      2.816         24        640: 100%|██████████| 5/5 [00:01<00:00,  3.80it/s]\n",
            "                 Class     Images  Instances      Box(P          R      mAP50  mAP50-95): 100%|██████████| 2/2 [00:04<00:00,  2.20s/it]"
          ]
        },
        {
          "output_type": "stream",
          "name": "stdout",
          "text": [
            "                   all         18         12          0          0          0          0\n"
          ]
        },
        {
          "output_type": "stream",
          "name": "stderr",
          "text": [
            "\n"
          ]
        },
        {
          "output_type": "stream",
          "name": "stdout",
          "text": [
            "\n",
            "      Epoch    GPU_mem   box_loss   cls_loss   dfl_loss  Instances       Size\n"
          ]
        },
        {
          "output_type": "stream",
          "name": "stderr",
          "text": [
            "     17/100      2.33G      2.397      3.189      2.774         39        640: 100%|██████████| 5/5 [00:02<00:00,  2.43it/s]\n",
            "                 Class     Images  Instances      Box(P          R      mAP50  mAP50-95): 100%|██████████| 2/2 [00:04<00:00,  2.41s/it]"
          ]
        },
        {
          "output_type": "stream",
          "name": "stdout",
          "text": [
            "                   all         18         12          0          0          0          0\n"
          ]
        },
        {
          "output_type": "stream",
          "name": "stderr",
          "text": [
            "\n"
          ]
        },
        {
          "output_type": "stream",
          "name": "stdout",
          "text": [
            "\n",
            "      Epoch    GPU_mem   box_loss   cls_loss   dfl_loss  Instances       Size\n"
          ]
        },
        {
          "output_type": "stream",
          "name": "stderr",
          "text": [
            "     18/100      2.36G      2.313      3.052       2.64         47        640: 100%|██████████| 5/5 [00:01<00:00,  3.87it/s]\n",
            "                 Class     Images  Instances      Box(P          R      mAP50  mAP50-95): 100%|██████████| 2/2 [00:05<00:00,  2.85s/it]"
          ]
        },
        {
          "output_type": "stream",
          "name": "stdout",
          "text": [
            "                   all         18         12          0          0          0          0\n"
          ]
        },
        {
          "output_type": "stream",
          "name": "stderr",
          "text": [
            "\n"
          ]
        },
        {
          "output_type": "stream",
          "name": "stdout",
          "text": [
            "\n",
            "      Epoch    GPU_mem   box_loss   cls_loss   dfl_loss  Instances       Size\n"
          ]
        },
        {
          "output_type": "stream",
          "name": "stderr",
          "text": [
            "     19/100      2.37G      2.362       3.16      2.787         44        640: 100%|██████████| 5/5 [00:01<00:00,  4.11it/s]\n",
            "                 Class     Images  Instances      Box(P          R      mAP50  mAP50-95): 100%|██████████| 2/2 [00:05<00:00,  2.50s/it]"
          ]
        },
        {
          "output_type": "stream",
          "name": "stdout",
          "text": [
            "                   all         18         12          0          0          0          0\n"
          ]
        },
        {
          "output_type": "stream",
          "name": "stderr",
          "text": [
            "\n"
          ]
        },
        {
          "output_type": "stream",
          "name": "stdout",
          "text": [
            "\n",
            "      Epoch    GPU_mem   box_loss   cls_loss   dfl_loss  Instances       Size\n"
          ]
        },
        {
          "output_type": "stream",
          "name": "stderr",
          "text": [
            "     20/100      2.38G      2.233      3.059      2.676         39        640: 100%|██████████| 5/5 [00:01<00:00,  3.84it/s]\n",
            "                 Class     Images  Instances      Box(P          R      mAP50  mAP50-95): 100%|██████████| 2/2 [00:06<00:00,  3.14s/it]"
          ]
        },
        {
          "output_type": "stream",
          "name": "stdout",
          "text": [
            "                   all         18         12          0          0          0          0\n"
          ]
        },
        {
          "output_type": "stream",
          "name": "stderr",
          "text": [
            "\n"
          ]
        },
        {
          "output_type": "stream",
          "name": "stdout",
          "text": [
            "\n",
            "      Epoch    GPU_mem   box_loss   cls_loss   dfl_loss  Instances       Size\n"
          ]
        },
        {
          "output_type": "stream",
          "name": "stderr",
          "text": [
            "     21/100      2.37G      2.204      3.087      2.582         50        640: 100%|██████████| 5/5 [00:01<00:00,  3.42it/s]\n",
            "                 Class     Images  Instances      Box(P          R      mAP50  mAP50-95): 100%|██████████| 2/2 [00:04<00:00,  2.16s/it]"
          ]
        },
        {
          "output_type": "stream",
          "name": "stdout",
          "text": [
            "                   all         18         12          0          0          0          0\n"
          ]
        },
        {
          "output_type": "stream",
          "name": "stderr",
          "text": [
            "\n"
          ]
        },
        {
          "output_type": "stream",
          "name": "stdout",
          "text": [
            "\n",
            "      Epoch    GPU_mem   box_loss   cls_loss   dfl_loss  Instances       Size\n"
          ]
        },
        {
          "output_type": "stream",
          "name": "stderr",
          "text": [
            "     22/100      2.38G      2.261      3.082      2.569         49        640: 100%|██████████| 5/5 [00:01<00:00,  2.58it/s]\n",
            "                 Class     Images  Instances      Box(P          R      mAP50  mAP50-95): 100%|██████████| 2/2 [00:05<00:00,  2.86s/it]"
          ]
        },
        {
          "output_type": "stream",
          "name": "stdout",
          "text": [
            "                   all         18         12          0          0          0          0\n"
          ]
        },
        {
          "output_type": "stream",
          "name": "stderr",
          "text": [
            "\n"
          ]
        },
        {
          "output_type": "stream",
          "name": "stdout",
          "text": [
            "\n",
            "      Epoch    GPU_mem   box_loss   cls_loss   dfl_loss  Instances       Size\n"
          ]
        },
        {
          "output_type": "stream",
          "name": "stderr",
          "text": [
            "     23/100      2.37G      2.258       3.02      2.604         34        640: 100%|██████████| 5/5 [00:01<00:00,  3.71it/s]\n",
            "                 Class     Images  Instances      Box(P          R      mAP50  mAP50-95): 100%|██████████| 2/2 [00:04<00:00,  2.44s/it]"
          ]
        },
        {
          "output_type": "stream",
          "name": "stdout",
          "text": [
            "                   all         18         12          0          0          0          0\n"
          ]
        },
        {
          "output_type": "stream",
          "name": "stderr",
          "text": [
            "\n"
          ]
        },
        {
          "output_type": "stream",
          "name": "stdout",
          "text": [
            "\n",
            "      Epoch    GPU_mem   box_loss   cls_loss   dfl_loss  Instances       Size\n"
          ]
        },
        {
          "output_type": "stream",
          "name": "stderr",
          "text": [
            "     24/100      2.38G      2.203      3.076      2.424         55        640: 100%|██████████| 5/5 [00:01<00:00,  3.01it/s]\n",
            "                 Class     Images  Instances      Box(P          R      mAP50  mAP50-95): 100%|██████████| 2/2 [00:04<00:00,  2.42s/it]"
          ]
        },
        {
          "output_type": "stream",
          "name": "stdout",
          "text": [
            "                   all         18         12    0.00766      0.667     0.0786     0.0322\n"
          ]
        },
        {
          "output_type": "stream",
          "name": "stderr",
          "text": [
            "\n"
          ]
        },
        {
          "output_type": "stream",
          "name": "stdout",
          "text": [
            "\n",
            "      Epoch    GPU_mem   box_loss   cls_loss   dfl_loss  Instances       Size\n"
          ]
        },
        {
          "output_type": "stream",
          "name": "stderr",
          "text": [
            "     25/100      2.37G      2.082       2.89      2.542         52        640: 100%|██████████| 5/5 [00:01<00:00,  3.44it/s]\n",
            "                 Class     Images  Instances      Box(P          R      mAP50  mAP50-95): 100%|██████████| 2/2 [00:05<00:00,  2.67s/it]"
          ]
        },
        {
          "output_type": "stream",
          "name": "stdout",
          "text": [
            "                   all         18         12    0.00427      0.417     0.0785     0.0349\n"
          ]
        },
        {
          "output_type": "stream",
          "name": "stderr",
          "text": [
            "\n"
          ]
        },
        {
          "output_type": "stream",
          "name": "stdout",
          "text": [
            "\n",
            "      Epoch    GPU_mem   box_loss   cls_loss   dfl_loss  Instances       Size\n"
          ]
        },
        {
          "output_type": "stream",
          "name": "stderr",
          "text": [
            "     26/100      2.35G      2.097       2.98      2.633         59        640: 100%|██████████| 5/5 [00:01<00:00,  3.81it/s]\n",
            "                 Class     Images  Instances      Box(P          R      mAP50  mAP50-95): 100%|██████████| 2/2 [00:04<00:00,  2.33s/it]"
          ]
        },
        {
          "output_type": "stream",
          "name": "stdout",
          "text": [
            "                   all         18         12    0.00425      0.333      0.142     0.0399\n"
          ]
        },
        {
          "output_type": "stream",
          "name": "stderr",
          "text": [
            "\n"
          ]
        },
        {
          "output_type": "stream",
          "name": "stdout",
          "text": [
            "\n",
            "      Epoch    GPU_mem   box_loss   cls_loss   dfl_loss  Instances       Size\n"
          ]
        },
        {
          "output_type": "stream",
          "name": "stderr",
          "text": [
            "     27/100      2.38G      1.938      2.706      2.538         31        640: 100%|██████████| 5/5 [00:01<00:00,  3.18it/s]\n",
            "                 Class     Images  Instances      Box(P          R      mAP50  mAP50-95): 100%|██████████| 2/2 [00:06<00:00,  3.15s/it]"
          ]
        },
        {
          "output_type": "stream",
          "name": "stdout",
          "text": [
            "                   all         18         12    0.00612      0.417      0.119     0.0241\n"
          ]
        },
        {
          "output_type": "stream",
          "name": "stderr",
          "text": [
            "\n"
          ]
        },
        {
          "output_type": "stream",
          "name": "stdout",
          "text": [
            "\n",
            "      Epoch    GPU_mem   box_loss   cls_loss   dfl_loss  Instances       Size\n"
          ]
        },
        {
          "output_type": "stream",
          "name": "stderr",
          "text": [
            "     28/100      2.37G      2.129      2.699      2.472         40        640: 100%|██████████| 5/5 [00:01<00:00,  3.67it/s]\n",
            "                 Class     Images  Instances      Box(P          R      mAP50  mAP50-95): 100%|██████████| 2/2 [00:04<00:00,  2.30s/it]"
          ]
        },
        {
          "output_type": "stream",
          "name": "stdout",
          "text": [
            "                   all         18         12    0.00702       0.75     0.0312    0.00942\n"
          ]
        },
        {
          "output_type": "stream",
          "name": "stderr",
          "text": [
            "\n"
          ]
        },
        {
          "output_type": "stream",
          "name": "stdout",
          "text": [
            "\n",
            "      Epoch    GPU_mem   box_loss   cls_loss   dfl_loss  Instances       Size\n"
          ]
        },
        {
          "output_type": "stream",
          "name": "stderr",
          "text": [
            "     29/100      2.37G      2.019      2.668      2.519         28        640: 100%|██████████| 5/5 [00:03<00:00,  1.36it/s]\n",
            "                 Class     Images  Instances      Box(P          R      mAP50  mAP50-95): 100%|██████████| 2/2 [00:04<00:00,  2.40s/it]"
          ]
        },
        {
          "output_type": "stream",
          "name": "stdout",
          "text": [
            "                   all         18         12    0.00536      0.667     0.0395      0.016\n"
          ]
        },
        {
          "output_type": "stream",
          "name": "stderr",
          "text": [
            "\n"
          ]
        },
        {
          "output_type": "stream",
          "name": "stdout",
          "text": [
            "\n",
            "      Epoch    GPU_mem   box_loss   cls_loss   dfl_loss  Instances       Size\n"
          ]
        },
        {
          "output_type": "stream",
          "name": "stderr",
          "text": [
            "     30/100      2.35G      2.002      2.737      2.467         36        640: 100%|██████████| 5/5 [00:01<00:00,  3.97it/s]\n",
            "                 Class     Images  Instances      Box(P          R      mAP50  mAP50-95): 100%|██████████| 2/2 [00:05<00:00,  2.71s/it]"
          ]
        },
        {
          "output_type": "stream",
          "name": "stdout",
          "text": [
            "                   all         18         12     0.0285      0.417     0.0353     0.0172\n"
          ]
        },
        {
          "output_type": "stream",
          "name": "stderr",
          "text": [
            "\n"
          ]
        },
        {
          "output_type": "stream",
          "name": "stdout",
          "text": [
            "\n",
            "      Epoch    GPU_mem   box_loss   cls_loss   dfl_loss  Instances       Size\n"
          ]
        },
        {
          "output_type": "stream",
          "name": "stderr",
          "text": [
            "     31/100      2.38G      2.085      2.583      2.474         43        640: 100%|██████████| 5/5 [00:01<00:00,  3.34it/s]\n",
            "                 Class     Images  Instances      Box(P          R      mAP50  mAP50-95): 100%|██████████| 2/2 [00:05<00:00,  2.61s/it]"
          ]
        },
        {
          "output_type": "stream",
          "name": "stdout",
          "text": [
            "                   all         18         12     0.0668       0.25      0.052     0.0301\n"
          ]
        },
        {
          "output_type": "stream",
          "name": "stderr",
          "text": [
            "\n"
          ]
        },
        {
          "output_type": "stream",
          "name": "stdout",
          "text": [
            "\n",
            "      Epoch    GPU_mem   box_loss   cls_loss   dfl_loss  Instances       Size\n"
          ]
        },
        {
          "output_type": "stream",
          "name": "stderr",
          "text": [
            "     32/100      2.37G      1.813      2.589      2.395         51        640: 100%|██████████| 5/5 [00:01<00:00,  3.71it/s]\n",
            "                 Class     Images  Instances      Box(P          R      mAP50  mAP50-95): 100%|██████████| 2/2 [00:06<00:00,  3.07s/it]"
          ]
        },
        {
          "output_type": "stream",
          "name": "stdout",
          "text": [
            "                   all         18         12      0.054      0.417      0.089     0.0273\n"
          ]
        },
        {
          "output_type": "stream",
          "name": "stderr",
          "text": [
            "\n"
          ]
        },
        {
          "output_type": "stream",
          "name": "stdout",
          "text": [
            "\n",
            "      Epoch    GPU_mem   box_loss   cls_loss   dfl_loss  Instances       Size\n"
          ]
        },
        {
          "output_type": "stream",
          "name": "stderr",
          "text": [
            "     33/100      2.37G      1.891      3.006      2.297         39        640: 100%|██████████| 5/5 [00:01<00:00,  3.58it/s]\n",
            "                 Class     Images  Instances      Box(P          R      mAP50  mAP50-95): 100%|██████████| 2/2 [00:04<00:00,  2.32s/it]"
          ]
        },
        {
          "output_type": "stream",
          "name": "stdout",
          "text": [
            "                   all         18         12     0.0137      0.833     0.0598     0.0225\n"
          ]
        },
        {
          "output_type": "stream",
          "name": "stderr",
          "text": [
            "\n"
          ]
        },
        {
          "output_type": "stream",
          "name": "stdout",
          "text": [
            "\n",
            "      Epoch    GPU_mem   box_loss   cls_loss   dfl_loss  Instances       Size\n"
          ]
        },
        {
          "output_type": "stream",
          "name": "stderr",
          "text": [
            "     34/100      2.35G       1.82      2.556      2.475         32        640: 100%|██████████| 5/5 [00:01<00:00,  2.62it/s]\n",
            "                 Class     Images  Instances      Box(P          R      mAP50  mAP50-95): 100%|██████████| 2/2 [00:06<00:00,  3.05s/it]"
          ]
        },
        {
          "output_type": "stream",
          "name": "stdout",
          "text": [
            "                   all         18         12    0.00637      0.917     0.0806     0.0391\n"
          ]
        },
        {
          "output_type": "stream",
          "name": "stderr",
          "text": [
            "\n"
          ]
        },
        {
          "output_type": "stream",
          "name": "stdout",
          "text": [
            "\n",
            "      Epoch    GPU_mem   box_loss   cls_loss   dfl_loss  Instances       Size\n"
          ]
        },
        {
          "output_type": "stream",
          "name": "stderr",
          "text": [
            "     35/100      2.38G      1.836      2.492      2.383         50        640: 100%|██████████| 5/5 [00:01<00:00,  3.39it/s]\n",
            "                 Class     Images  Instances      Box(P          R      mAP50  mAP50-95): 100%|██████████| 2/2 [00:04<00:00,  2.29s/it]"
          ]
        },
        {
          "output_type": "stream",
          "name": "stdout",
          "text": [
            "                   all         18         12      0.059       0.25      0.114     0.0642\n"
          ]
        },
        {
          "output_type": "stream",
          "name": "stderr",
          "text": [
            "\n"
          ]
        },
        {
          "output_type": "stream",
          "name": "stdout",
          "text": [
            "\n",
            "      Epoch    GPU_mem   box_loss   cls_loss   dfl_loss  Instances       Size\n"
          ]
        },
        {
          "output_type": "stream",
          "name": "stderr",
          "text": [
            "     36/100      2.35G      1.814      2.487      2.206         55        640: 100%|██████████| 5/5 [00:02<00:00,  1.97it/s]\n",
            "                 Class     Images  Instances      Box(P          R      mAP50  mAP50-95): 100%|██████████| 2/2 [00:04<00:00,  2.12s/it]"
          ]
        },
        {
          "output_type": "stream",
          "name": "stdout",
          "text": [
            "                   all         18         12     0.0821      0.333     0.0944     0.0419\n"
          ]
        },
        {
          "output_type": "stream",
          "name": "stderr",
          "text": [
            "\n"
          ]
        },
        {
          "output_type": "stream",
          "name": "stdout",
          "text": [
            "\n",
            "      Epoch    GPU_mem   box_loss   cls_loss   dfl_loss  Instances       Size\n"
          ]
        },
        {
          "output_type": "stream",
          "name": "stderr",
          "text": [
            "     37/100      2.33G      1.794      2.576       2.38         46        640: 100%|██████████| 5/5 [00:01<00:00,  4.00it/s]\n",
            "                 Class     Images  Instances      Box(P          R      mAP50  mAP50-95): 100%|██████████| 2/2 [00:05<00:00,  2.97s/it]"
          ]
        },
        {
          "output_type": "stream",
          "name": "stdout",
          "text": [
            "                   all         18         12     0.0845       0.25     0.0866     0.0473\n"
          ]
        },
        {
          "output_type": "stream",
          "name": "stderr",
          "text": [
            "\n"
          ]
        },
        {
          "output_type": "stream",
          "name": "stdout",
          "text": [
            "\n",
            "      Epoch    GPU_mem   box_loss   cls_loss   dfl_loss  Instances       Size\n"
          ]
        },
        {
          "output_type": "stream",
          "name": "stderr",
          "text": [
            "     38/100      2.38G      1.805      2.512       2.26         38        640: 100%|██████████| 5/5 [00:01<00:00,  3.53it/s]\n",
            "                 Class     Images  Instances      Box(P          R      mAP50  mAP50-95): 100%|██████████| 2/2 [00:04<00:00,  2.44s/it]"
          ]
        },
        {
          "output_type": "stream",
          "name": "stdout",
          "text": [
            "                   all         18         12     0.0632      0.333     0.0877     0.0398\n"
          ]
        },
        {
          "output_type": "stream",
          "name": "stderr",
          "text": [
            "\n"
          ]
        },
        {
          "output_type": "stream",
          "name": "stdout",
          "text": [
            "\n",
            "      Epoch    GPU_mem   box_loss   cls_loss   dfl_loss  Instances       Size\n"
          ]
        },
        {
          "output_type": "stream",
          "name": "stderr",
          "text": [
            "     39/100      2.38G      1.876      2.797       2.57         20        640: 100%|██████████| 5/5 [00:01<00:00,  3.69it/s]\n",
            "                 Class     Images  Instances      Box(P          R      mAP50  mAP50-95): 100%|██████████| 2/2 [00:06<00:00,  3.07s/it]"
          ]
        },
        {
          "output_type": "stream",
          "name": "stdout",
          "text": [
            "                   all         18         12     0.0348      0.319     0.0878     0.0432\n"
          ]
        },
        {
          "output_type": "stream",
          "name": "stderr",
          "text": [
            "\n"
          ]
        },
        {
          "output_type": "stream",
          "name": "stdout",
          "text": [
            "\n",
            "      Epoch    GPU_mem   box_loss   cls_loss   dfl_loss  Instances       Size\n"
          ]
        },
        {
          "output_type": "stream",
          "name": "stderr",
          "text": [
            "     40/100      2.38G       1.83      2.333      2.317         60        640: 100%|██████████| 5/5 [00:01<00:00,  3.07it/s]\n",
            "                 Class     Images  Instances      Box(P          R      mAP50  mAP50-95): 100%|██████████| 2/2 [00:04<00:00,  2.35s/it]"
          ]
        },
        {
          "output_type": "stream",
          "name": "stdout",
          "text": [
            "                   all         18         12     0.0384      0.583     0.0477     0.0241\n"
          ]
        },
        {
          "output_type": "stream",
          "name": "stderr",
          "text": [
            "\n"
          ]
        },
        {
          "output_type": "stream",
          "name": "stdout",
          "text": [
            "\n",
            "      Epoch    GPU_mem   box_loss   cls_loss   dfl_loss  Instances       Size\n"
          ]
        },
        {
          "output_type": "stream",
          "name": "stderr",
          "text": [
            "     41/100      2.37G       1.84      2.498      2.351         42        640: 100%|██████████| 5/5 [00:01<00:00,  2.79it/s]\n",
            "                 Class     Images  Instances      Box(P          R      mAP50  mAP50-95): 100%|██████████| 2/2 [00:06<00:00,  3.09s/it]"
          ]
        },
        {
          "output_type": "stream",
          "name": "stdout",
          "text": [
            "                   all         18         12     0.0346      0.709     0.0573     0.0271\n"
          ]
        },
        {
          "output_type": "stream",
          "name": "stderr",
          "text": [
            "\n"
          ]
        },
        {
          "output_type": "stream",
          "name": "stdout",
          "text": [
            "\n",
            "      Epoch    GPU_mem   box_loss   cls_loss   dfl_loss  Instances       Size\n"
          ]
        },
        {
          "output_type": "stream",
          "name": "stderr",
          "text": [
            "     42/100      2.38G      1.762      2.375      2.363         50        640: 100%|██████████| 5/5 [00:01<00:00,  3.65it/s]\n",
            "                 Class     Images  Instances      Box(P          R      mAP50  mAP50-95): 100%|██████████| 2/2 [00:05<00:00,  2.69s/it]"
          ]
        },
        {
          "output_type": "stream",
          "name": "stdout",
          "text": [
            "                   all         18         12     0.0493      0.583     0.0693     0.0324\n"
          ]
        },
        {
          "output_type": "stream",
          "name": "stderr",
          "text": [
            "\n"
          ]
        },
        {
          "output_type": "stream",
          "name": "stdout",
          "text": [
            "\n",
            "      Epoch    GPU_mem   box_loss   cls_loss   dfl_loss  Instances       Size\n"
          ]
        },
        {
          "output_type": "stream",
          "name": "stderr",
          "text": [
            "     43/100      2.37G       1.87      2.474      2.397         33        640: 100%|██████████| 5/5 [00:01<00:00,  2.60it/s]\n",
            "                 Class     Images  Instances      Box(P          R      mAP50  mAP50-95): 100%|██████████| 2/2 [00:05<00:00,  2.88s/it]"
          ]
        },
        {
          "output_type": "stream",
          "name": "stdout",
          "text": [
            "                   all         18         12     0.0392      0.417     0.0671     0.0356\n"
          ]
        },
        {
          "output_type": "stream",
          "name": "stderr",
          "text": [
            "\n"
          ]
        },
        {
          "output_type": "stream",
          "name": "stdout",
          "text": [
            "\n",
            "      Epoch    GPU_mem   box_loss   cls_loss   dfl_loss  Instances       Size\n"
          ]
        },
        {
          "output_type": "stream",
          "name": "stderr",
          "text": [
            "     44/100      2.37G      1.824      2.392      2.239         36        640: 100%|██████████| 5/5 [00:01<00:00,  3.39it/s]\n",
            "                 Class     Images  Instances      Box(P          R      mAP50  mAP50-95): 100%|██████████| 2/2 [00:05<00:00,  2.93s/it]"
          ]
        },
        {
          "output_type": "stream",
          "name": "stdout",
          "text": [
            "                   all         18         12     0.0551      0.522     0.0732     0.0415\n"
          ]
        },
        {
          "output_type": "stream",
          "name": "stderr",
          "text": [
            "\n"
          ]
        },
        {
          "output_type": "stream",
          "name": "stdout",
          "text": [
            "\n",
            "      Epoch    GPU_mem   box_loss   cls_loss   dfl_loss  Instances       Size\n"
          ]
        },
        {
          "output_type": "stream",
          "name": "stderr",
          "text": [
            "     45/100      2.37G      1.668      2.211      2.218         47        640: 100%|██████████| 5/5 [00:01<00:00,  3.72it/s]\n",
            "                 Class     Images  Instances      Box(P          R      mAP50  mAP50-95): 100%|██████████| 2/2 [00:04<00:00,  2.31s/it]"
          ]
        },
        {
          "output_type": "stream",
          "name": "stdout",
          "text": [
            "                   all         18         12     0.0583      0.583     0.0823     0.0516\n"
          ]
        },
        {
          "output_type": "stream",
          "name": "stderr",
          "text": [
            "\n"
          ]
        },
        {
          "output_type": "stream",
          "name": "stdout",
          "text": [
            "\n",
            "      Epoch    GPU_mem   box_loss   cls_loss   dfl_loss  Instances       Size\n"
          ]
        },
        {
          "output_type": "stream",
          "name": "stderr",
          "text": [
            "     46/100      2.38G      1.782      2.414      2.287         69        640: 100%|██████████| 5/5 [00:01<00:00,  3.56it/s]\n",
            "                 Class     Images  Instances      Box(P          R      mAP50  mAP50-95): 100%|██████████| 2/2 [00:06<00:00,  3.08s/it]"
          ]
        },
        {
          "output_type": "stream",
          "name": "stdout",
          "text": [
            "                   all         18         12     0.0724      0.333     0.0886     0.0566\n"
          ]
        },
        {
          "output_type": "stream",
          "name": "stderr",
          "text": [
            "\n"
          ]
        },
        {
          "output_type": "stream",
          "name": "stdout",
          "text": [
            "\n",
            "      Epoch    GPU_mem   box_loss   cls_loss   dfl_loss  Instances       Size\n"
          ]
        },
        {
          "output_type": "stream",
          "name": "stderr",
          "text": [
            "     47/100      2.38G      1.764      2.358      2.327         45        640: 100%|██████████| 5/5 [00:01<00:00,  2.78it/s]\n",
            "                 Class     Images  Instances      Box(P          R      mAP50  mAP50-95): 100%|██████████| 2/2 [00:05<00:00,  2.50s/it]"
          ]
        },
        {
          "output_type": "stream",
          "name": "stdout",
          "text": [
            "                   all         18         12     0.0594       0.25     0.0958     0.0599\n"
          ]
        },
        {
          "output_type": "stream",
          "name": "stderr",
          "text": [
            "\n"
          ]
        },
        {
          "output_type": "stream",
          "name": "stdout",
          "text": [
            "\n",
            "      Epoch    GPU_mem   box_loss   cls_loss   dfl_loss  Instances       Size\n"
          ]
        },
        {
          "output_type": "stream",
          "name": "stderr",
          "text": [
            "     48/100      2.38G      1.681      2.251      2.112         51        640: 100%|██████████| 5/5 [00:02<00:00,  1.71it/s]\n",
            "                 Class     Images  Instances      Box(P          R      mAP50  mAP50-95): 100%|██████████| 2/2 [00:05<00:00,  2.58s/it]"
          ]
        },
        {
          "output_type": "stream",
          "name": "stdout",
          "text": [
            "                   all         18         12      0.127       0.25       0.13     0.0876\n"
          ]
        },
        {
          "output_type": "stream",
          "name": "stderr",
          "text": [
            "\n"
          ]
        },
        {
          "output_type": "stream",
          "name": "stdout",
          "text": [
            "\n",
            "      Epoch    GPU_mem   box_loss   cls_loss   dfl_loss  Instances       Size\n"
          ]
        },
        {
          "output_type": "stream",
          "name": "stderr",
          "text": [
            "     49/100      2.37G      1.713      2.374      2.234         36        640: 100%|██████████| 5/5 [00:01<00:00,  3.66it/s]\n",
            "                 Class     Images  Instances      Box(P          R      mAP50  mAP50-95): 100%|██████████| 2/2 [00:05<00:00,  2.90s/it]"
          ]
        },
        {
          "output_type": "stream",
          "name": "stdout",
          "text": [
            "                   all         18         12      0.172      0.333      0.131      0.103\n"
          ]
        },
        {
          "output_type": "stream",
          "name": "stderr",
          "text": [
            "\n"
          ]
        },
        {
          "output_type": "stream",
          "name": "stdout",
          "text": [
            "\n",
            "      Epoch    GPU_mem   box_loss   cls_loss   dfl_loss  Instances       Size\n"
          ]
        },
        {
          "output_type": "stream",
          "name": "stderr",
          "text": [
            "     50/100      2.38G      1.621      2.305      2.364         56        640: 100%|██████████| 5/5 [00:01<00:00,  3.81it/s]\n",
            "                 Class     Images  Instances      Box(P          R      mAP50  mAP50-95): 100%|██████████| 2/2 [00:04<00:00,  2.42s/it]"
          ]
        },
        {
          "output_type": "stream",
          "name": "stdout",
          "text": [
            "                   all         18         12      0.188      0.333        0.2      0.154\n"
          ]
        },
        {
          "output_type": "stream",
          "name": "stderr",
          "text": [
            "\n"
          ]
        },
        {
          "output_type": "stream",
          "name": "stdout",
          "text": [
            "\n",
            "      Epoch    GPU_mem   box_loss   cls_loss   dfl_loss  Instances       Size\n"
          ]
        },
        {
          "output_type": "stream",
          "name": "stderr",
          "text": [
            "     51/100      2.38G      1.752      2.347       2.23         68        640: 100%|██████████| 5/5 [00:01<00:00,  3.24it/s]\n",
            "                 Class     Images  Instances      Box(P          R      mAP50  mAP50-95): 100%|██████████| 2/2 [00:05<00:00,  2.84s/it]"
          ]
        },
        {
          "output_type": "stream",
          "name": "stdout",
          "text": [
            "                   all         18         12      0.148      0.333       0.16      0.118\n"
          ]
        },
        {
          "output_type": "stream",
          "name": "stderr",
          "text": [
            "\n"
          ]
        },
        {
          "output_type": "stream",
          "name": "stdout",
          "text": [
            "\n",
            "      Epoch    GPU_mem   box_loss   cls_loss   dfl_loss  Instances       Size\n"
          ]
        },
        {
          "output_type": "stream",
          "name": "stderr",
          "text": [
            "     52/100      2.38G      1.623       2.47       2.47         31        640: 100%|██████████| 5/5 [00:01<00:00,  3.25it/s]\n",
            "                 Class     Images  Instances      Box(P          R      mAP50  mAP50-95): 100%|██████████| 2/2 [00:04<00:00,  2.42s/it]"
          ]
        },
        {
          "output_type": "stream",
          "name": "stdout",
          "text": [
            "                   all         18         12     0.0543      0.583      0.118     0.0731\n"
          ]
        },
        {
          "output_type": "stream",
          "name": "stderr",
          "text": [
            "\n"
          ]
        },
        {
          "output_type": "stream",
          "name": "stdout",
          "text": [
            "\n",
            "      Epoch    GPU_mem   box_loss   cls_loss   dfl_loss  Instances       Size\n"
          ]
        },
        {
          "output_type": "stream",
          "name": "stderr",
          "text": [
            "     53/100      2.37G      1.691      2.314      2.249         42        640: 100%|██████████| 5/5 [00:01<00:00,  2.79it/s]\n",
            "                 Class     Images  Instances      Box(P          R      mAP50  mAP50-95): 100%|██████████| 2/2 [00:05<00:00,  2.98s/it]"
          ]
        },
        {
          "output_type": "stream",
          "name": "stdout",
          "text": [
            "                   all         18         12     0.0634      0.583     0.0992     0.0582\n"
          ]
        },
        {
          "output_type": "stream",
          "name": "stderr",
          "text": [
            "\n"
          ]
        },
        {
          "output_type": "stream",
          "name": "stdout",
          "text": [
            "\n",
            "      Epoch    GPU_mem   box_loss   cls_loss   dfl_loss  Instances       Size\n"
          ]
        },
        {
          "output_type": "stream",
          "name": "stderr",
          "text": [
            "     54/100      2.38G      1.586      2.151      2.253         40        640: 100%|██████████| 5/5 [00:01<00:00,  3.65it/s]\n",
            "                 Class     Images  Instances      Box(P          R      mAP50  mAP50-95): 100%|██████████| 2/2 [00:05<00:00,  2.56s/it]"
          ]
        },
        {
          "output_type": "stream",
          "name": "stdout",
          "text": [
            "                   all         18         12     0.0665      0.584     0.0942     0.0581\n"
          ]
        },
        {
          "output_type": "stream",
          "name": "stderr",
          "text": [
            "\n"
          ]
        },
        {
          "output_type": "stream",
          "name": "stdout",
          "text": [
            "\n",
            "      Epoch    GPU_mem   box_loss   cls_loss   dfl_loss  Instances       Size\n"
          ]
        },
        {
          "output_type": "stream",
          "name": "stderr",
          "text": [
            "     55/100      2.37G      1.612      2.212      2.337         24        640: 100%|██████████| 5/5 [00:01<00:00,  2.59it/s]\n",
            "                 Class     Images  Instances      Box(P          R      mAP50  mAP50-95): 100%|██████████| 2/2 [00:04<00:00,  2.34s/it]"
          ]
        },
        {
          "output_type": "stream",
          "name": "stdout",
          "text": [
            "                   all         18         12     0.0809      0.583      0.108     0.0673\n"
          ]
        },
        {
          "output_type": "stream",
          "name": "stderr",
          "text": [
            "\n"
          ]
        },
        {
          "output_type": "stream",
          "name": "stdout",
          "text": [
            "\n",
            "      Epoch    GPU_mem   box_loss   cls_loss   dfl_loss  Instances       Size\n"
          ]
        },
        {
          "output_type": "stream",
          "name": "stderr",
          "text": [
            "     56/100      2.37G      1.578      2.091      2.366         44        640: 100%|██████████| 5/5 [00:01<00:00,  3.34it/s]\n",
            "                 Class     Images  Instances      Box(P          R      mAP50  mAP50-95): 100%|██████████| 2/2 [00:05<00:00,  2.64s/it]"
          ]
        },
        {
          "output_type": "stream",
          "name": "stdout",
          "text": [
            "                   all         18         12     0.0985        0.5      0.123     0.0818\n"
          ]
        },
        {
          "output_type": "stream",
          "name": "stderr",
          "text": [
            "\n"
          ]
        },
        {
          "output_type": "stream",
          "name": "stdout",
          "text": [
            "\n",
            "      Epoch    GPU_mem   box_loss   cls_loss   dfl_loss  Instances       Size\n"
          ]
        },
        {
          "output_type": "stream",
          "name": "stderr",
          "text": [
            "     57/100      2.37G      1.606       2.09      2.163         45        640: 100%|██████████| 5/5 [00:01<00:00,  3.56it/s]\n",
            "                 Class     Images  Instances      Box(P          R      mAP50  mAP50-95): 100%|██████████| 2/2 [00:04<00:00,  2.41s/it]"
          ]
        },
        {
          "output_type": "stream",
          "name": "stdout",
          "text": [
            "                   all         18         12     0.0686      0.417      0.121     0.0832\n"
          ]
        },
        {
          "output_type": "stream",
          "name": "stderr",
          "text": [
            "\n"
          ]
        },
        {
          "output_type": "stream",
          "name": "stdout",
          "text": [
            "\n",
            "      Epoch    GPU_mem   box_loss   cls_loss   dfl_loss  Instances       Size\n"
          ]
        },
        {
          "output_type": "stream",
          "name": "stderr",
          "text": [
            "     58/100      2.35G      1.629      2.251      2.424         24        640: 100%|██████████| 5/5 [00:01<00:00,  3.61it/s]\n",
            "                 Class     Images  Instances      Box(P          R      mAP50  mAP50-95): 100%|██████████| 2/2 [00:05<00:00,  2.86s/it]"
          ]
        },
        {
          "output_type": "stream",
          "name": "stdout",
          "text": [
            "                   all         18         12     0.0872      0.583       0.17      0.129\n"
          ]
        },
        {
          "output_type": "stream",
          "name": "stderr",
          "text": [
            "\n"
          ]
        },
        {
          "output_type": "stream",
          "name": "stdout",
          "text": [
            "\n",
            "      Epoch    GPU_mem   box_loss   cls_loss   dfl_loss  Instances       Size\n"
          ]
        },
        {
          "output_type": "stream",
          "name": "stderr",
          "text": [
            "     59/100      2.38G      1.652      2.079      2.142         62        640: 100%|██████████| 5/5 [00:01<00:00,  2.93it/s]\n",
            "                 Class     Images  Instances      Box(P          R      mAP50  mAP50-95): 100%|██████████| 2/2 [00:04<00:00,  2.40s/it]"
          ]
        },
        {
          "output_type": "stream",
          "name": "stdout",
          "text": [
            "                   all         18         12     0.0818      0.583      0.183      0.135\n"
          ]
        },
        {
          "output_type": "stream",
          "name": "stderr",
          "text": [
            "\n"
          ]
        },
        {
          "output_type": "stream",
          "name": "stdout",
          "text": [
            "\n",
            "      Epoch    GPU_mem   box_loss   cls_loss   dfl_loss  Instances       Size\n"
          ]
        },
        {
          "output_type": "stream",
          "name": "stderr",
          "text": [
            "     60/100      2.38G      1.582       2.23      2.302         33        640: 100%|██████████| 5/5 [00:01<00:00,  3.22it/s]\n",
            "                 Class     Images  Instances      Box(P          R      mAP50  mAP50-95): 100%|██████████| 2/2 [00:06<00:00,  3.25s/it]"
          ]
        },
        {
          "output_type": "stream",
          "name": "stdout",
          "text": [
            "                   all         18         12      0.131      0.562       0.25      0.192\n"
          ]
        },
        {
          "output_type": "stream",
          "name": "stderr",
          "text": [
            "\n"
          ]
        },
        {
          "output_type": "stream",
          "name": "stdout",
          "text": [
            "\n",
            "      Epoch    GPU_mem   box_loss   cls_loss   dfl_loss  Instances       Size\n"
          ]
        },
        {
          "output_type": "stream",
          "name": "stderr",
          "text": [
            "     61/100      2.34G      1.584      1.994      2.196         73        640: 100%|██████████| 5/5 [00:01<00:00,  3.21it/s]\n",
            "                 Class     Images  Instances      Box(P          R      mAP50  mAP50-95): 100%|██████████| 2/2 [00:05<00:00,  2.51s/it]"
          ]
        },
        {
          "output_type": "stream",
          "name": "stdout",
          "text": [
            "                   all         18         12     0.0952      0.417      0.241      0.178\n"
          ]
        },
        {
          "output_type": "stream",
          "name": "stderr",
          "text": [
            "\n"
          ]
        },
        {
          "output_type": "stream",
          "name": "stdout",
          "text": [
            "\n",
            "      Epoch    GPU_mem   box_loss   cls_loss   dfl_loss  Instances       Size\n"
          ]
        },
        {
          "output_type": "stream",
          "name": "stderr",
          "text": [
            "     62/100      2.38G      1.556      2.044      2.123         50        640: 100%|██████████| 5/5 [00:02<00:00,  2.44it/s]\n",
            "                 Class     Images  Instances      Box(P          R      mAP50  mAP50-95): 100%|██████████| 2/2 [00:04<00:00,  2.45s/it]"
          ]
        },
        {
          "output_type": "stream",
          "name": "stdout",
          "text": [
            "                   all         18         12      0.169      0.331      0.186      0.136\n"
          ]
        },
        {
          "output_type": "stream",
          "name": "stderr",
          "text": [
            "\n"
          ]
        },
        {
          "output_type": "stream",
          "name": "stdout",
          "text": [
            "\n",
            "      Epoch    GPU_mem   box_loss   cls_loss   dfl_loss  Instances       Size\n"
          ]
        },
        {
          "output_type": "stream",
          "name": "stderr",
          "text": [
            "     63/100      2.34G      1.451      2.005       2.12         50        640: 100%|██████████| 5/5 [00:01<00:00,  4.20it/s]\n",
            "                 Class     Images  Instances      Box(P          R      mAP50  mAP50-95): 100%|██████████| 2/2 [00:06<00:00,  3.05s/it]"
          ]
        },
        {
          "output_type": "stream",
          "name": "stdout",
          "text": [
            "                   all         18         12       0.13      0.333      0.287      0.218\n"
          ]
        },
        {
          "output_type": "stream",
          "name": "stderr",
          "text": [
            "\n"
          ]
        },
        {
          "output_type": "stream",
          "name": "stdout",
          "text": [
            "\n",
            "      Epoch    GPU_mem   box_loss   cls_loss   dfl_loss  Instances       Size\n"
          ]
        },
        {
          "output_type": "stream",
          "name": "stderr",
          "text": [
            "     64/100      2.37G      1.467      1.987      2.121         43        640: 100%|██████████| 5/5 [00:01<00:00,  3.47it/s]\n",
            "                 Class     Images  Instances      Box(P          R      mAP50  mAP50-95): 100%|██████████| 2/2 [00:04<00:00,  2.21s/it]"
          ]
        },
        {
          "output_type": "stream",
          "name": "stdout",
          "text": [
            "                   all         18         12     0.0868        0.5      0.143      0.111\n"
          ]
        },
        {
          "output_type": "stream",
          "name": "stderr",
          "text": [
            "\n"
          ]
        },
        {
          "output_type": "stream",
          "name": "stdout",
          "text": [
            "\n",
            "      Epoch    GPU_mem   box_loss   cls_loss   dfl_loss  Instances       Size\n"
          ]
        },
        {
          "output_type": "stream",
          "name": "stderr",
          "text": [
            "     65/100      2.37G      1.439      1.956      2.127         57        640: 100%|██████████| 5/5 [00:01<00:00,  3.69it/s]\n",
            "                 Class     Images  Instances      Box(P          R      mAP50  mAP50-95): 100%|██████████| 2/2 [00:05<00:00,  2.91s/it]"
          ]
        },
        {
          "output_type": "stream",
          "name": "stdout",
          "text": [
            "                   all         18         12     0.0822      0.494      0.142      0.102\n"
          ]
        },
        {
          "output_type": "stream",
          "name": "stderr",
          "text": [
            "\n"
          ]
        },
        {
          "output_type": "stream",
          "name": "stdout",
          "text": [
            "\n",
            "      Epoch    GPU_mem   box_loss   cls_loss   dfl_loss  Instances       Size\n"
          ]
        },
        {
          "output_type": "stream",
          "name": "stderr",
          "text": [
            "     66/100      2.37G      1.456      1.929      2.373         44        640: 100%|██████████| 5/5 [00:01<00:00,  3.15it/s]\n",
            "                 Class     Images  Instances      Box(P          R      mAP50  mAP50-95): 100%|██████████| 2/2 [00:04<00:00,  2.50s/it]"
          ]
        },
        {
          "output_type": "stream",
          "name": "stdout",
          "text": [
            "                   all         18         12      0.133       0.25      0.196      0.143\n"
          ]
        },
        {
          "output_type": "stream",
          "name": "stderr",
          "text": [
            "\n"
          ]
        },
        {
          "output_type": "stream",
          "name": "stdout",
          "text": [
            "\n",
            "      Epoch    GPU_mem   box_loss   cls_loss   dfl_loss  Instances       Size\n"
          ]
        },
        {
          "output_type": "stream",
          "name": "stderr",
          "text": [
            "     67/100      2.38G      1.524      1.991      2.274         55        640: 100%|██████████| 5/5 [00:01<00:00,  2.89it/s]\n",
            "                 Class     Images  Instances      Box(P          R      mAP50  mAP50-95): 100%|██████████| 2/2 [00:05<00:00,  2.78s/it]"
          ]
        },
        {
          "output_type": "stream",
          "name": "stdout",
          "text": [
            "                   all         18         12      0.148      0.333      0.197      0.157\n"
          ]
        },
        {
          "output_type": "stream",
          "name": "stderr",
          "text": [
            "\n"
          ]
        },
        {
          "output_type": "stream",
          "name": "stdout",
          "text": [
            "\n",
            "      Epoch    GPU_mem   box_loss   cls_loss   dfl_loss  Instances       Size\n"
          ]
        },
        {
          "output_type": "stream",
          "name": "stderr",
          "text": [
            "     68/100      2.37G      1.486       2.06      2.213         53        640: 100%|██████████| 5/5 [00:01<00:00,  3.45it/s]\n",
            "                 Class     Images  Instances      Box(P          R      mAP50  mAP50-95): 100%|██████████| 2/2 [00:05<00:00,  2.75s/it]"
          ]
        },
        {
          "output_type": "stream",
          "name": "stdout",
          "text": [
            "                   all         18         12     0.0748      0.667       0.13     0.0882\n"
          ]
        },
        {
          "output_type": "stream",
          "name": "stderr",
          "text": [
            "\n"
          ]
        },
        {
          "output_type": "stream",
          "name": "stdout",
          "text": [
            "\n",
            "      Epoch    GPU_mem   box_loss   cls_loss   dfl_loss  Instances       Size\n"
          ]
        },
        {
          "output_type": "stream",
          "name": "stderr",
          "text": [
            "     69/100      2.34G      1.428      1.958      2.279         52        640: 100%|██████████| 5/5 [00:02<00:00,  2.42it/s]\n",
            "                 Class     Images  Instances      Box(P          R      mAP50  mAP50-95): 100%|██████████| 2/2 [00:04<00:00,  2.39s/it]"
          ]
        },
        {
          "output_type": "stream",
          "name": "stdout",
          "text": [
            "                   all         18         12     0.0763      0.667      0.129     0.0928\n"
          ]
        },
        {
          "output_type": "stream",
          "name": "stderr",
          "text": [
            "\n"
          ]
        },
        {
          "output_type": "stream",
          "name": "stdout",
          "text": [
            "\n",
            "      Epoch    GPU_mem   box_loss   cls_loss   dfl_loss  Instances       Size\n"
          ]
        },
        {
          "output_type": "stream",
          "name": "stderr",
          "text": [
            "     70/100      2.37G      1.381      1.984      2.166         33        640: 100%|██████████| 5/5 [00:01<00:00,  3.23it/s]\n",
            "                 Class     Images  Instances      Box(P          R      mAP50  mAP50-95): 100%|██████████| 2/2 [00:05<00:00,  2.83s/it]"
          ]
        },
        {
          "output_type": "stream",
          "name": "stdout",
          "text": [
            "                   all         18         12     0.0766      0.417      0.115     0.0846\n"
          ]
        },
        {
          "output_type": "stream",
          "name": "stderr",
          "text": [
            "\n"
          ]
        },
        {
          "output_type": "stream",
          "name": "stdout",
          "text": [
            "\n",
            "      Epoch    GPU_mem   box_loss   cls_loss   dfl_loss  Instances       Size\n"
          ]
        },
        {
          "output_type": "stream",
          "name": "stderr",
          "text": [
            "     71/100      2.35G      1.451      2.074      2.202         32        640: 100%|██████████| 5/5 [00:01<00:00,  3.48it/s]\n",
            "                 Class     Images  Instances      Box(P          R      mAP50  mAP50-95): 100%|██████████| 2/2 [00:04<00:00,  2.20s/it]"
          ]
        },
        {
          "output_type": "stream",
          "name": "stdout",
          "text": [
            "                   all         18         12     0.0882      0.405      0.116     0.0869\n"
          ]
        },
        {
          "output_type": "stream",
          "name": "stderr",
          "text": [
            "\n"
          ]
        },
        {
          "output_type": "stream",
          "name": "stdout",
          "text": [
            "\n",
            "      Epoch    GPU_mem   box_loss   cls_loss   dfl_loss  Instances       Size\n"
          ]
        },
        {
          "output_type": "stream",
          "name": "stderr",
          "text": [
            "     72/100      2.35G      1.495      1.953      2.164         49        640: 100%|██████████| 5/5 [00:01<00:00,  3.06it/s]\n",
            "                 Class     Images  Instances      Box(P          R      mAP50  mAP50-95): 100%|██████████| 2/2 [00:05<00:00,  2.98s/it]"
          ]
        },
        {
          "output_type": "stream",
          "name": "stdout",
          "text": [
            "                   all         18         12     0.0703       0.75      0.136      0.103\n"
          ]
        },
        {
          "output_type": "stream",
          "name": "stderr",
          "text": [
            "\n"
          ]
        },
        {
          "output_type": "stream",
          "name": "stdout",
          "text": [
            "\n",
            "      Epoch    GPU_mem   box_loss   cls_loss   dfl_loss  Instances       Size\n"
          ]
        },
        {
          "output_type": "stream",
          "name": "stderr",
          "text": [
            "     73/100      2.37G      1.448      1.987      2.101         54        640: 100%|██████████| 5/5 [00:01<00:00,  3.91it/s]\n",
            "                 Class     Images  Instances      Box(P          R      mAP50  mAP50-95): 100%|██████████| 2/2 [00:05<00:00,  2.97s/it]"
          ]
        },
        {
          "output_type": "stream",
          "name": "stdout",
          "text": [
            "                   all         18         12     0.0748      0.342      0.148      0.113\n"
          ]
        },
        {
          "output_type": "stream",
          "name": "stderr",
          "text": [
            "\n"
          ]
        },
        {
          "output_type": "stream",
          "name": "stdout",
          "text": [
            "\n",
            "      Epoch    GPU_mem   box_loss   cls_loss   dfl_loss  Instances       Size\n"
          ]
        },
        {
          "output_type": "stream",
          "name": "stderr",
          "text": [
            "     74/100      2.38G      1.396      1.932      2.123         49        640: 100%|██████████| 5/5 [00:01<00:00,  2.59it/s]\n",
            "                 Class     Images  Instances      Box(P          R      mAP50  mAP50-95): 100%|██████████| 2/2 [00:06<00:00,  3.01s/it]"
          ]
        },
        {
          "output_type": "stream",
          "name": "stdout",
          "text": [
            "                   all         18         12      0.133      0.417      0.144       0.11\n"
          ]
        },
        {
          "output_type": "stream",
          "name": "stderr",
          "text": [
            "\n"
          ]
        },
        {
          "output_type": "stream",
          "name": "stdout",
          "text": [
            "\n",
            "      Epoch    GPU_mem   box_loss   cls_loss   dfl_loss  Instances       Size\n"
          ]
        },
        {
          "output_type": "stream",
          "name": "stderr",
          "text": [
            "     75/100      2.37G       1.35      1.902      2.132         35        640: 100%|██████████| 5/5 [00:01<00:00,  3.60it/s]\n",
            "                 Class     Images  Instances      Box(P          R      mAP50  mAP50-95): 100%|██████████| 2/2 [00:04<00:00,  2.46s/it]"
          ]
        },
        {
          "output_type": "stream",
          "name": "stdout",
          "text": [
            "                   all         18         12     0.0909        0.5      0.135      0.103\n"
          ]
        },
        {
          "output_type": "stream",
          "name": "stderr",
          "text": [
            "\n"
          ]
        },
        {
          "output_type": "stream",
          "name": "stdout",
          "text": [
            "\n",
            "      Epoch    GPU_mem   box_loss   cls_loss   dfl_loss  Instances       Size\n"
          ]
        },
        {
          "output_type": "stream",
          "name": "stderr",
          "text": [
            "     76/100      2.38G      1.326      1.869      2.156         48        640: 100%|██████████| 5/5 [00:01<00:00,  2.53it/s]\n",
            "                 Class     Images  Instances      Box(P          R      mAP50  mAP50-95): 100%|██████████| 2/2 [00:05<00:00,  2.51s/it]"
          ]
        },
        {
          "output_type": "stream",
          "name": "stdout",
          "text": [
            "                   all         18         12      0.102        0.5      0.118     0.0914\n"
          ]
        },
        {
          "output_type": "stream",
          "name": "stderr",
          "text": [
            "\n"
          ]
        },
        {
          "output_type": "stream",
          "name": "stdout",
          "text": [
            "\n",
            "      Epoch    GPU_mem   box_loss   cls_loss   dfl_loss  Instances       Size\n"
          ]
        },
        {
          "output_type": "stream",
          "name": "stderr",
          "text": [
            "     77/100      2.37G      1.454      1.907      2.307         31        640: 100%|██████████| 5/5 [00:01<00:00,  3.64it/s]\n",
            "                 Class     Images  Instances      Box(P          R      mAP50  mAP50-95): 100%|██████████| 2/2 [00:05<00:00,  2.93s/it]"
          ]
        },
        {
          "output_type": "stream",
          "name": "stdout",
          "text": [
            "                   all         18         12      0.076      0.333      0.118     0.0893\n"
          ]
        },
        {
          "output_type": "stream",
          "name": "stderr",
          "text": [
            "\n"
          ]
        },
        {
          "output_type": "stream",
          "name": "stdout",
          "text": [
            "\n",
            "      Epoch    GPU_mem   box_loss   cls_loss   dfl_loss  Instances       Size\n"
          ]
        },
        {
          "output_type": "stream",
          "name": "stderr",
          "text": [
            "     78/100      2.36G      1.433      1.943      2.213         44        640: 100%|██████████| 5/5 [00:01<00:00,  3.67it/s]\n",
            "                 Class     Images  Instances      Box(P          R      mAP50  mAP50-95): 100%|██████████| 2/2 [00:04<00:00,  2.28s/it]"
          ]
        },
        {
          "output_type": "stream",
          "name": "stdout",
          "text": [
            "                   all         18         12     0.0704      0.917      0.111     0.0826\n"
          ]
        },
        {
          "output_type": "stream",
          "name": "stderr",
          "text": [
            "\n"
          ]
        },
        {
          "output_type": "stream",
          "name": "stdout",
          "text": [
            "\n",
            "      Epoch    GPU_mem   box_loss   cls_loss   dfl_loss  Instances       Size\n"
          ]
        },
        {
          "output_type": "stream",
          "name": "stderr",
          "text": [
            "     79/100      2.38G       1.26      1.756      2.233         42        640: 100%|██████████| 5/5 [00:01<00:00,  3.51it/s]\n",
            "                 Class     Images  Instances      Box(P          R      mAP50  mAP50-95): 100%|██████████| 2/2 [00:05<00:00,  2.80s/it]"
          ]
        },
        {
          "output_type": "stream",
          "name": "stdout",
          "text": [
            "                   all         18         12      0.101      0.167      0.146      0.115\n"
          ]
        },
        {
          "output_type": "stream",
          "name": "stderr",
          "text": [
            "\n"
          ]
        },
        {
          "output_type": "stream",
          "name": "stdout",
          "text": [
            "\n",
            "      Epoch    GPU_mem   box_loss   cls_loss   dfl_loss  Instances       Size\n"
          ]
        },
        {
          "output_type": "stream",
          "name": "stderr",
          "text": [
            "     80/100      2.38G      1.343      1.851       2.21         46        640: 100%|██████████| 5/5 [00:01<00:00,  3.96it/s]\n",
            "                 Class     Images  Instances      Box(P          R      mAP50  mAP50-95): 100%|██████████| 2/2 [00:04<00:00,  2.50s/it]"
          ]
        },
        {
          "output_type": "stream",
          "name": "stdout",
          "text": [
            "                   all         18         12      0.204        0.3      0.251      0.187\n"
          ]
        },
        {
          "output_type": "stream",
          "name": "stderr",
          "text": [
            "\n"
          ]
        },
        {
          "output_type": "stream",
          "name": "stdout",
          "text": [
            "\n",
            "      Epoch    GPU_mem   box_loss   cls_loss   dfl_loss  Instances       Size\n"
          ]
        },
        {
          "output_type": "stream",
          "name": "stderr",
          "text": [
            "     81/100      2.37G      1.357      1.798      2.165         55        640: 100%|██████████| 5/5 [00:01<00:00,  3.03it/s]\n",
            "                 Class     Images  Instances      Box(P          R      mAP50  mAP50-95): 100%|██████████| 2/2 [00:05<00:00,  2.90s/it]"
          ]
        },
        {
          "output_type": "stream",
          "name": "stdout",
          "text": [
            "                   all         18         12      0.251      0.319       0.26      0.195\n"
          ]
        },
        {
          "output_type": "stream",
          "name": "stderr",
          "text": [
            "\n"
          ]
        },
        {
          "output_type": "stream",
          "name": "stdout",
          "text": [
            "\n",
            "      Epoch    GPU_mem   box_loss   cls_loss   dfl_loss  Instances       Size\n"
          ]
        },
        {
          "output_type": "stream",
          "name": "stderr",
          "text": [
            "     82/100      2.37G      1.351      1.852      2.148         38        640: 100%|██████████| 5/5 [00:01<00:00,  2.70it/s]\n",
            "                 Class     Images  Instances      Box(P          R      mAP50  mAP50-95): 100%|██████████| 2/2 [00:06<00:00,  3.01s/it]"
          ]
        },
        {
          "output_type": "stream",
          "name": "stdout",
          "text": [
            "                   all         18         12      0.216      0.333      0.295      0.227\n"
          ]
        },
        {
          "output_type": "stream",
          "name": "stderr",
          "text": [
            "\n"
          ]
        },
        {
          "output_type": "stream",
          "name": "stdout",
          "text": [
            "\n",
            "      Epoch    GPU_mem   box_loss   cls_loss   dfl_loss  Instances       Size\n"
          ]
        },
        {
          "output_type": "stream",
          "name": "stderr",
          "text": [
            "     83/100      2.38G      1.356      1.842        2.1         42        640: 100%|██████████| 5/5 [00:01<00:00,  3.33it/s]\n",
            "                 Class     Images  Instances      Box(P          R      mAP50  mAP50-95): 100%|██████████| 2/2 [00:04<00:00,  2.29s/it]"
          ]
        },
        {
          "output_type": "stream",
          "name": "stdout",
          "text": [
            "                   all         18         12      0.199      0.333      0.192      0.155\n"
          ]
        },
        {
          "output_type": "stream",
          "name": "stderr",
          "text": [
            "\n"
          ]
        },
        {
          "output_type": "stream",
          "name": "stdout",
          "text": [
            "\n",
            "      Epoch    GPU_mem   box_loss   cls_loss   dfl_loss  Instances       Size\n"
          ]
        },
        {
          "output_type": "stream",
          "name": "stderr",
          "text": [
            "     84/100      2.38G      1.367      2.037      2.255         34        640: 100%|██████████| 5/5 [00:01<00:00,  3.40it/s]\n",
            "                 Class     Images  Instances      Box(P          R      mAP50  mAP50-95): 100%|██████████| 2/2 [00:05<00:00,  2.89s/it]"
          ]
        },
        {
          "output_type": "stream",
          "name": "stdout",
          "text": [
            "                   all         18         12      0.181      0.417      0.185      0.147\n"
          ]
        },
        {
          "output_type": "stream",
          "name": "stderr",
          "text": [
            "\n"
          ]
        },
        {
          "output_type": "stream",
          "name": "stdout",
          "text": [
            "\n",
            "      Epoch    GPU_mem   box_loss   cls_loss   dfl_loss  Instances       Size\n"
          ]
        },
        {
          "output_type": "stream",
          "name": "stderr",
          "text": [
            "     85/100      2.37G      1.365      1.912      2.106         65        640: 100%|██████████| 5/5 [00:01<00:00,  3.76it/s]\n",
            "                 Class     Images  Instances      Box(P          R      mAP50  mAP50-95): 100%|██████████| 2/2 [00:04<00:00,  2.38s/it]"
          ]
        },
        {
          "output_type": "stream",
          "name": "stdout",
          "text": [
            "                   all         18         12      0.173      0.333      0.175      0.134\n"
          ]
        },
        {
          "output_type": "stream",
          "name": "stderr",
          "text": [
            "\n"
          ]
        },
        {
          "output_type": "stream",
          "name": "stdout",
          "text": [
            "\n",
            "      Epoch    GPU_mem   box_loss   cls_loss   dfl_loss  Instances       Size\n"
          ]
        },
        {
          "output_type": "stream",
          "name": "stderr",
          "text": [
            "     86/100      2.38G      1.333      1.933      2.149         34        640: 100%|██████████| 5/5 [00:01<00:00,  3.38it/s]\n",
            "                 Class     Images  Instances      Box(P          R      mAP50  mAP50-95): 100%|██████████| 2/2 [00:06<00:00,  3.02s/it]"
          ]
        },
        {
          "output_type": "stream",
          "name": "stdout",
          "text": [
            "                   all         18         12      0.117      0.333      0.161      0.125\n"
          ]
        },
        {
          "output_type": "stream",
          "name": "stderr",
          "text": [
            "\n"
          ]
        },
        {
          "output_type": "stream",
          "name": "stdout",
          "text": [
            "\n",
            "      Epoch    GPU_mem   box_loss   cls_loss   dfl_loss  Instances       Size\n"
          ]
        },
        {
          "output_type": "stream",
          "name": "stderr",
          "text": [
            "     87/100      2.37G      1.283      1.802      2.198         36        640: 100%|██████████| 5/5 [00:01<00:00,  3.04it/s]\n",
            "                 Class     Images  Instances      Box(P          R      mAP50  mAP50-95): 100%|██████████| 2/2 [00:04<00:00,  2.44s/it]"
          ]
        },
        {
          "output_type": "stream",
          "name": "stdout",
          "text": [
            "                   all         18         12     0.0844       0.75       0.16      0.123\n"
          ]
        },
        {
          "output_type": "stream",
          "name": "stderr",
          "text": [
            "\n"
          ]
        },
        {
          "output_type": "stream",
          "name": "stdout",
          "text": [
            "\n",
            "      Epoch    GPU_mem   box_loss   cls_loss   dfl_loss  Instances       Size\n"
          ]
        },
        {
          "output_type": "stream",
          "name": "stderr",
          "text": [
            "     88/100      2.38G      1.345      1.828      2.137         41        640: 100%|██████████| 5/5 [00:02<00:00,  2.35it/s]\n",
            "                 Class     Images  Instances      Box(P          R      mAP50  mAP50-95): 100%|██████████| 2/2 [00:05<00:00,  2.69s/it]"
          ]
        },
        {
          "output_type": "stream",
          "name": "stdout",
          "text": [
            "                   all         18         12     0.0982      0.583      0.168       0.12\n"
          ]
        },
        {
          "output_type": "stream",
          "name": "stderr",
          "text": [
            "\n"
          ]
        },
        {
          "output_type": "stream",
          "name": "stdout",
          "text": [
            "\n",
            "      Epoch    GPU_mem   box_loss   cls_loss   dfl_loss  Instances       Size\n"
          ]
        },
        {
          "output_type": "stream",
          "name": "stderr",
          "text": [
            "     89/100      2.37G      1.334       1.97      2.179         31        640: 100%|██████████| 5/5 [00:01<00:00,  3.73it/s]\n",
            "                 Class     Images  Instances      Box(P          R      mAP50  mAP50-95): 100%|██████████| 2/2 [00:04<00:00,  2.43s/it]"
          ]
        },
        {
          "output_type": "stream",
          "name": "stdout",
          "text": [
            "                   all         18         12     0.0912        0.5      0.157      0.116\n"
          ]
        },
        {
          "output_type": "stream",
          "name": "stderr",
          "text": [
            "\n"
          ]
        },
        {
          "output_type": "stream",
          "name": "stdout",
          "text": [
            "\n",
            "      Epoch    GPU_mem   box_loss   cls_loss   dfl_loss  Instances       Size\n"
          ]
        },
        {
          "output_type": "stream",
          "name": "stderr",
          "text": [
            "     90/100      2.37G      1.326      1.859      2.173         47        640: 100%|██████████| 5/5 [00:02<00:00,  2.20it/s]\n",
            "                 Class     Images  Instances      Box(P          R      mAP50  mAP50-95): 100%|██████████| 2/2 [00:04<00:00,  2.43s/it]"
          ]
        },
        {
          "output_type": "stream",
          "name": "stdout",
          "text": [
            "                   all         18         12     0.0913      0.417      0.172       0.13\n"
          ]
        },
        {
          "output_type": "stream",
          "name": "stderr",
          "text": [
            "\n"
          ]
        },
        {
          "output_type": "stream",
          "name": "stdout",
          "text": [
            "Closing dataloader mosaic\n",
            "\u001b[34m\u001b[1malbumentations: \u001b[0mBlur(p=0.01, blur_limit=(3, 7)), MedianBlur(p=0.01, blur_limit=(3, 7)), ToGray(p=0.01), CLAHE(p=0.01, clip_limit=(1, 4.0), tile_grid_size=(8, 8))\n",
            "\n",
            "      Epoch    GPU_mem   box_loss   cls_loss   dfl_loss  Instances       Size\n"
          ]
        },
        {
          "output_type": "stream",
          "name": "stderr",
          "text": [
            "     91/100      2.34G      1.101      1.956      2.216         28        640: 100%|██████████| 5/5 [00:34<00:00,  6.86s/it]\n",
            "                 Class     Images  Instances      Box(P          R      mAP50  mAP50-95): 100%|██████████| 2/2 [00:00<00:00,  3.29it/s]"
          ]
        },
        {
          "output_type": "stream",
          "name": "stdout",
          "text": [
            "                   all         18         12      0.149      0.402      0.177      0.135\n"
          ]
        },
        {
          "output_type": "stream",
          "name": "stderr",
          "text": [
            "\n"
          ]
        },
        {
          "output_type": "stream",
          "name": "stdout",
          "text": [
            "\n",
            "      Epoch    GPU_mem   box_loss   cls_loss   dfl_loss  Instances       Size\n"
          ]
        },
        {
          "output_type": "stream",
          "name": "stderr",
          "text": [
            "     92/100      2.34G      1.199          2      2.355         18        640: 100%|██████████| 5/5 [00:12<00:00,  2.51s/it]\n",
            "                 Class     Images  Instances      Box(P          R      mAP50  mAP50-95): 100%|██████████| 2/2 [00:00<00:00,  3.51it/s]"
          ]
        },
        {
          "output_type": "stream",
          "name": "stdout",
          "text": [
            "                   all         18         12      0.207      0.333      0.178      0.138\n"
          ]
        },
        {
          "output_type": "stream",
          "name": "stderr",
          "text": [
            "\n"
          ]
        },
        {
          "output_type": "stream",
          "name": "stdout",
          "text": [
            "\n",
            "      Epoch    GPU_mem   box_loss   cls_loss   dfl_loss  Instances       Size\n"
          ]
        },
        {
          "output_type": "stream",
          "name": "stderr",
          "text": [
            "     93/100      2.33G      1.176      1.846      2.243         28        640: 100%|██████████| 5/5 [00:07<00:00,  1.53s/it]\n",
            "                 Class     Images  Instances      Box(P          R      mAP50  mAP50-95): 100%|██████████| 2/2 [00:00<00:00,  6.70it/s]"
          ]
        },
        {
          "output_type": "stream",
          "name": "stdout",
          "text": [
            "                   all         18         12      0.173      0.417      0.241      0.191\n"
          ]
        },
        {
          "output_type": "stream",
          "name": "stderr",
          "text": [
            "\n"
          ]
        },
        {
          "output_type": "stream",
          "name": "stdout",
          "text": [
            "\n",
            "      Epoch    GPU_mem   box_loss   cls_loss   dfl_loss  Instances       Size\n"
          ]
        },
        {
          "output_type": "stream",
          "name": "stderr",
          "text": [
            "     94/100      2.34G      1.144      1.904      2.214         28        640: 100%|██████████| 5/5 [00:04<00:00,  1.05it/s]\n",
            "                 Class     Images  Instances      Box(P          R      mAP50  mAP50-95): 100%|██████████| 2/2 [00:00<00:00,  2.00it/s]"
          ]
        },
        {
          "output_type": "stream",
          "name": "stdout",
          "text": [
            "                   all         18         12      0.158      0.417      0.252      0.194\n"
          ]
        },
        {
          "output_type": "stream",
          "name": "stderr",
          "text": [
            "\n"
          ]
        },
        {
          "output_type": "stream",
          "name": "stdout",
          "text": [
            "\n",
            "      Epoch    GPU_mem   box_loss   cls_loss   dfl_loss  Instances       Size\n"
          ]
        },
        {
          "output_type": "stream",
          "name": "stderr",
          "text": [
            "     95/100      2.34G      1.176      1.911      2.287         24        640: 100%|██████████| 5/5 [00:02<00:00,  2.00it/s]\n",
            "                 Class     Images  Instances      Box(P          R      mAP50  mAP50-95): 100%|██████████| 2/2 [00:05<00:00,  2.55s/it]"
          ]
        },
        {
          "output_type": "stream",
          "name": "stdout",
          "text": [
            "                   all         18         12       0.14      0.426      0.251      0.194\n"
          ]
        },
        {
          "output_type": "stream",
          "name": "stderr",
          "text": [
            "\n"
          ]
        },
        {
          "output_type": "stream",
          "name": "stdout",
          "text": [
            "\n",
            "      Epoch    GPU_mem   box_loss   cls_loss   dfl_loss  Instances       Size\n"
          ]
        },
        {
          "output_type": "stream",
          "name": "stderr",
          "text": [
            "     96/100      2.34G      1.205      1.926      2.357         24        640: 100%|██████████| 5/5 [00:02<00:00,  2.33it/s]\n",
            "                 Class     Images  Instances      Box(P          R      mAP50  mAP50-95): 100%|██████████| 2/2 [00:04<00:00,  2.44s/it]"
          ]
        },
        {
          "output_type": "stream",
          "name": "stdout",
          "text": [
            "                   all         18         12      0.151      0.464      0.242      0.197\n"
          ]
        },
        {
          "output_type": "stream",
          "name": "stderr",
          "text": [
            "\n"
          ]
        },
        {
          "output_type": "stream",
          "name": "stdout",
          "text": [
            "\n",
            "      Epoch    GPU_mem   box_loss   cls_loss   dfl_loss  Instances       Size\n"
          ]
        },
        {
          "output_type": "stream",
          "name": "stderr",
          "text": [
            "     97/100      2.33G      1.142      1.915      2.438         20        640: 100%|██████████| 5/5 [00:01<00:00,  3.99it/s]\n",
            "                 Class     Images  Instances      Box(P          R      mAP50  mAP50-95): 100%|██████████| 2/2 [00:05<00:00,  2.89s/it]"
          ]
        },
        {
          "output_type": "stream",
          "name": "stdout",
          "text": [
            "                   all         18         12       0.14      0.333      0.243      0.198\n"
          ]
        },
        {
          "output_type": "stream",
          "name": "stderr",
          "text": [
            "\n"
          ]
        },
        {
          "output_type": "stream",
          "name": "stdout",
          "text": [
            "\n",
            "      Epoch    GPU_mem   box_loss   cls_loss   dfl_loss  Instances       Size\n"
          ]
        },
        {
          "output_type": "stream",
          "name": "stderr",
          "text": [
            "     98/100      2.34G      1.161      1.874      2.245         24        640: 100%|██████████| 5/5 [00:01<00:00,  3.64it/s]\n",
            "                 Class     Images  Instances      Box(P          R      mAP50  mAP50-95): 100%|██████████| 2/2 [00:05<00:00,  2.85s/it]"
          ]
        },
        {
          "output_type": "stream",
          "name": "stdout",
          "text": [
            "                   all         18         12      0.203      0.333      0.285      0.235\n"
          ]
        },
        {
          "output_type": "stream",
          "name": "stderr",
          "text": [
            "\n"
          ]
        },
        {
          "output_type": "stream",
          "name": "stdout",
          "text": [
            "\n",
            "      Epoch    GPU_mem   box_loss   cls_loss   dfl_loss  Instances       Size\n"
          ]
        },
        {
          "output_type": "stream",
          "name": "stderr",
          "text": [
            "     99/100      2.34G      1.195      1.873       2.27         24        640: 100%|██████████| 5/5 [00:01<00:00,  2.91it/s]\n",
            "                 Class     Images  Instances      Box(P          R      mAP50  mAP50-95): 100%|██████████| 2/2 [00:05<00:00,  2.83s/it]"
          ]
        },
        {
          "output_type": "stream",
          "name": "stdout",
          "text": [
            "                   all         18         12      0.246      0.317      0.286      0.235\n"
          ]
        },
        {
          "output_type": "stream",
          "name": "stderr",
          "text": [
            "\n"
          ]
        },
        {
          "output_type": "stream",
          "name": "stdout",
          "text": [
            "\n",
            "      Epoch    GPU_mem   box_loss   cls_loss   dfl_loss  Instances       Size\n"
          ]
        },
        {
          "output_type": "stream",
          "name": "stderr",
          "text": [
            "    100/100      2.34G      1.089      1.809      2.206         28        640: 100%|██████████| 5/5 [00:01<00:00,  3.41it/s]\n",
            "                 Class     Images  Instances      Box(P          R      mAP50  mAP50-95): 100%|██████████| 2/2 [00:04<00:00,  2.16s/it]"
          ]
        },
        {
          "output_type": "stream",
          "name": "stdout",
          "text": [
            "                   all         18         12      0.146       0.25      0.278      0.227\n"
          ]
        },
        {
          "output_type": "stream",
          "name": "stderr",
          "text": [
            "\n"
          ]
        },
        {
          "output_type": "stream",
          "name": "stdout",
          "text": [
            "\n",
            "100 epochs completed in 0.236 hours.\n",
            "Optimizer stripped from runs/obb/train2/weights/last.pt, 6.4MB\n",
            "Optimizer stripped from runs/obb/train2/weights/best.pt, 6.4MB\n",
            "\n",
            "Validating runs/obb/train2/weights/best.pt...\n",
            "Ultralytics YOLOv8.1.27 🚀 Python-3.10.12 torch-2.1.0+cu121 CUDA:0 (Tesla T4, 15102MiB)\n",
            "YOLOv8n-obb summary (fused): 187 layers, 3077999 parameters, 0 gradients, 8.3 GFLOPs\n"
          ]
        },
        {
          "output_type": "stream",
          "name": "stderr",
          "text": [
            "                 Class     Images  Instances      Box(P          R      mAP50  mAP50-95): 100%|██████████| 2/2 [00:04<00:00,  2.36s/it]\n"
          ]
        },
        {
          "output_type": "stream",
          "name": "stdout",
          "text": [
            "                   all         18         12      0.203      0.333      0.284      0.235\n",
            "                Energy         18          3      0.116      0.333      0.125     0.0846\n",
            "                 Sugar         18          3      0.354      0.333       0.22      0.174\n",
            "                   Fat         18          3      0.239      0.333      0.393      0.335\n",
            "                Sodium         18          3      0.103      0.333        0.4      0.347\n",
            "Speed: 0.8ms preprocess, 6.0ms inference, 0.0ms loss, 3.7ms postprocess per image\n",
            "Results saved to \u001b[1mruns/obb/train2\u001b[0m\n"
          ]
        }
      ]
    },
    {
      "cell_type": "markdown",
      "source": [
        "---"
      ],
      "metadata": {
        "id": "nHyu8JgoeuxS"
      }
    },
    {
      "cell_type": "code",
      "source": [
        "!cp -r /content/runs/obb/train2 /content/drive/MyDrive/SuperAI/Project/GDA/GDA-OBB/train2"
      ],
      "metadata": {
        "id": "CsuslKmP-667"
      },
      "execution_count": null,
      "outputs": []
    },
    {
      "cell_type": "markdown",
      "source": [
        "๒"
      ],
      "metadata": {
        "id": "tB20gTIts6W4"
      }
    },
    {
      "cell_type": "markdown",
      "source": [
        "# OCR part"
      ],
      "metadata": {
        "id": "ZvknrI-fs1pC"
      }
    },
    {
      "cell_type": "code",
      "source": [
        "! pip install -q pytesseract\n",
        "! apt install -qq tesseract-ocr tesseract-ocr-tha"
      ],
      "metadata": {
        "id": "kLHVIxmaP4gR"
      },
      "execution_count": null,
      "outputs": []
    },
    {
      "cell_type": "code",
      "execution_count": null,
      "metadata": {
        "id": "GCdn6wacAB47"
      },
      "outputs": [],
      "source": [
        "import cv2\n",
        "import numpy as np\n",
        "\n",
        "# Load the template GDA image (the image of the GDA label you provided)\n",
        "template = cv2.imread(image_files[0], 0)\n",
        "w, h = template.shape[::-1]\n",
        "\n",
        "# Load the target image where you want to find the template\n",
        "target_image_path = 'path_to_target_image.png'\n",
        "img_rgb = cv2.imread(target_image_path)\n",
        "img_gray = cv2.cvtColor(img_rgb, cv2.COLOR_BGR2GRAY)\n",
        "\n",
        "# Apply template Matching\n",
        "res = cv2.matchTemplate(img_gray, template, cv2.TM_CCOEFF_NORMED)\n",
        "threshold = 0.8  # You might need to adjust this threshold\n",
        "loc = np.where(res >= threshold)\n",
        "\n",
        "# If the template is found in the image\n",
        "if loc[0].size > 0:\n",
        "    pt = loc[::-1][0][0], loc[::-1][1][0]\n",
        "    # Draw a rectangle around the matched region\n",
        "    cv2.rectangle(img_rgb, pt, (pt[0] + w, pt[1] + h), (0, 255, 255), 2)\n",
        "\n",
        "    # Crop the matched region from the target image\n",
        "    roi = img_rgb[pt[1]:pt[1] + h, pt[0]:pt[0] + w]\n",
        "\n",
        "    # Save or process the ROI...\n",
        "\n",
        "# Show the result\n",
        "cv2.imshow('Detected', img_rgb)\n",
        "cv2.waitKey(0)\n",
        "cv2.destroyAllWindows()\n"
      ]
    },
    {
      "cell_type": "code",
      "source": [
        "import pytesseract\n",
        "from pytesseract import Output\n",
        "\n",
        "# Load the image\n",
        "image = cv2.imread(image_files[0])\n",
        "\n",
        "# Preprocess the image (if necessary)\n",
        "# Convert to grayscale\n",
        "gray = cv2.cvtColor(image, cv2.COLOR_BGR2GRAY)\n",
        "\n",
        "# Apply thresholding\n",
        "thresh = cv2.threshold(gray, 150, 255, cv2.THRESH_BINARY_INV + cv2.THRESH_OTSU)[1]\n",
        "\n",
        "# Use pytesseract to do OCR on the processed image\n",
        "custom_config = r'--oem 3 --psm 6'\n",
        "text = pytesseract.image_to_string(thresh, config=custom_config, lang='tha+eng')\n",
        "\n",
        "# Print the text\n",
        "print(text)\n"
      ],
      "metadata": {
        "id": "idT_KP-wSBhs"
      },
      "execution_count": null,
      "outputs": []
    }
  ]
}