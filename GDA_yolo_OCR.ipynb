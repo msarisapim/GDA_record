{
  "nbformat": 4,
  "nbformat_minor": 0,
  "metadata": {
    "colab": {
      "provenance": [],
      "gpuType": "T4"
    },
    "kernelspec": {
      "name": "python3",
      "display_name": "Python 3"
    },
    "language_info": {
      "name": "python"
    },
    "accelerator": "GPU"
  },
  "cells": [
    {
      "cell_type": "code",
      "source": [
        "from google.colab import drive\n",
        "drive.mount('/content/drive')"
      ],
      "metadata": {
        "colab": {
          "base_uri": "https://localhost:8080/"
        },
        "id": "cOM2rbeWHg3n",
        "outputId": "8eba0d77-ad53-453f-a9c7-bbd46a0ca7b1"
      },
      "execution_count": 4,
      "outputs": [
        {
          "output_type": "stream",
          "name": "stdout",
          "text": [
            "Mounted at /content/drive\n"
          ]
        }
      ]
    },
    {
      "cell_type": "markdown",
      "source": [
        "/content/drive/MyDrive/SuperAI/Project/GDA/images"
      ],
      "metadata": {
        "id": "wsLbPjune-3j"
      }
    },
    {
      "cell_type": "markdown",
      "source": [
        "# **Training**"
      ],
      "metadata": {
        "id": "NcDnC40LH6lc"
      }
    },
    {
      "cell_type": "markdown",
      "source": [
        "# Convert YOLO 1.1 format to YOLO-OBB format"
      ],
      "metadata": {
        "id": "WGUky1JspPGH"
      }
    },
    {
      "cell_type": "code",
      "source": [
        "import os\n",
        "\n",
        "def convert_aabb_to_obb(aabb_labels_dir, obb_labels_dir):\n",
        "    # Ensure the OBB directory exists\n",
        "    os.makedirs(obb_labels_dir, exist_ok=True)\n",
        "\n",
        "    for label_file in os.listdir(aabb_labels_dir):\n",
        "        aabb_path = os.path.join(aabb_labels_dir, label_file)\n",
        "        obb_path = os.path.join(obb_labels_dir, label_file)\n",
        "\n",
        "        with open(aabb_path, 'r') as f:\n",
        "            lines = f.readlines()\n",
        "\n",
        "        with open(obb_path, 'w') as f:\n",
        "            for line in lines:\n",
        "                class_id, x_center, y_center, width, height = map(float, line.split())\n",
        "                # Convert center, width, height to x1, y1, x2, y2, x3, y3, x4, y4\n",
        "                # Assuming no rotation, the OBB is the same as the AABB\n",
        "                x1 = x_center - width / 2\n",
        "                y1 = y_center - height / 2\n",
        "                x2 = x_center + width / 2\n",
        "                y2 = y_center - height / 2\n",
        "                x3 = x_center + width / 2\n",
        "                y3 = y_center + height / 2\n",
        "                x4 = x_center - width / 2\n",
        "                y4 = y_center + height / 2\n",
        "                # Write the converted annotation to the OBB label file with spaces\n",
        "                f.write(f\"{int(class_id)} {x1} {y1} {x2} {y2} {x3} {y3} {x4} {y4}\\n\")\n",
        "\n",
        "# Define your directories\n",
        "aabb_labels_dir = '/content/drive/MyDrive/SuperAI/Project/GDA/train_temp_labels'\n",
        "obb_labels_dir = '/content/drive/MyDrive/SuperAI/Project/GDA/train_temp_OBBlabels'\n",
        "\n",
        "convert_aabb_to_obb(aabb_labels_dir, obb_labels_dir)\n"
      ],
      "metadata": {
        "id": "8h5g3zCup37C"
      },
      "execution_count": null,
      "outputs": []
    },
    {
      "cell_type": "markdown",
      "source": [
        "# Split dataset to train and val"
      ],
      "metadata": {
        "id": "MSYC4NQAcOZ_"
      }
    },
    {
      "cell_type": "code",
      "source": [
        "import os\n",
        "import shutil\n",
        "from random import shuffle\n",
        "from sklearn.model_selection import train_test_split\n",
        "\n",
        "def find_files(directory, extension=\".jpg\"):\n",
        "    return [os.path.join(directory, f) for f in os.listdir(directory) if f.endswith(extension)]\n",
        "\n",
        "def ensure_dir(directory):\n",
        "    if not os.path.exists(directory):\n",
        "        os.makedirs(directory)\n",
        "\n",
        "def copy_files(pairs, directory, label_directory):\n",
        "    # Ensure target directories exist\n",
        "    ensure_dir(directory)\n",
        "    ensure_dir(label_directory)\n",
        "\n",
        "    for img_path, label_path in pairs:\n",
        "        img_name = os.path.basename(img_path)\n",
        "        label_name = os.path.basename(label_path)\n",
        "\n",
        "        shutil.copy2(img_path, os.path.join(directory, img_name))\n",
        "        shutil.copy2(label_path, os.path.join(label_directory, label_name))\n",
        "        print(f\"Copied {img_path} to {os.path.join(directory, img_name)}\")\n",
        "        print(f\"Copied {label_path} to {os.path.join(label_directory, label_name)}\")\n",
        "\n",
        "def split_data(images, labels, train_dir, val_dir, train_labels_dir, val_labels_dir, val_ratio=0.2):\n",
        "    paired_data = list(zip(images, labels))\n",
        "    train_pairs, val_pairs = train_test_split(paired_data, test_size=val_ratio, random_state=42)\n",
        "\n",
        "    # Copy the files to train and validation directories\n",
        "    copy_files(train_pairs, train_dir, train_labels_dir)\n",
        "    copy_files(val_pairs, val_dir, val_labels_dir)\n",
        "\n",
        "# Your directory paths\n",
        "source_images_path = '/content/drive/MyDrive/SuperAI/Project/GDA/train_temp_images'\n",
        "source_labels_path = '/content/drive/MyDrive/SuperAI/Project/GDA/train_temp_OBBlabels'\n",
        "train_directory_path = '/content/drive/MyDrive/SuperAI/Project/GDA/GDA-OBB/images/train' #'/content/drive/MyDrive/SuperAI/Project/GDA/train/images'\n",
        "val_directory_path = '/content/drive/MyDrive/SuperAI/Project/GDA/GDA-OBB/images/val' #'/content/drive/MyDrive/SuperAI/Project/GDA/validation/images'\n",
        "train_labels_directory_path = '/content/drive/MyDrive/SuperAI/Project/GDA/GDA-OBB/labels/train' #'/content/drive/MyDrive/SuperAI/Project/GDA/train/labels'\n",
        "val_labels_directory_path = '/content/drive/MyDrive/SuperAI/Project/GDA/GDA-OBB/labels/val' #'/content/drive/MyDrive/SuperAI/Project/GDA/validation/labels'\n",
        "\n",
        "# Find all image and label files\n",
        "image_files = find_files(source_images_path)\n",
        "label_files = find_files(source_labels_path, extension=\".txt\")\n",
        "\n",
        "# Split and copy the images and labels to train and validation directories\n",
        "split_data(image_files, label_files, train_directory_path, val_directory_path,\n",
        "           train_labels_directory_path, val_labels_directory_path, val_ratio=0.2)\n"
      ],
      "metadata": {
        "colab": {
          "base_uri": "https://localhost:8080/"
        },
        "id": "gs1O10rMaAiG",
        "outputId": "0e5113e2-f49b-4272-a51e-1b8df80e76bb"
      },
      "execution_count": null,
      "outputs": [
        {
          "output_type": "stream",
          "name": "stdout",
          "text": [
            "Copied /content/drive/MyDrive/SuperAI/Project/GDA/train_temp_images/0084.jpg to /content/drive/MyDrive/SuperAI/Project/GDA/GDA-OBB/images/train/0084.jpg\n",
            "Copied /content/drive/MyDrive/SuperAI/Project/GDA/train_temp_OBBlabels/0021.txt to /content/drive/MyDrive/SuperAI/Project/GDA/GDA-OBB/labels/train/0021.txt\n",
            "Copied /content/drive/MyDrive/SuperAI/Project/GDA/train_temp_images/0043.jpg to /content/drive/MyDrive/SuperAI/Project/GDA/GDA-OBB/images/train/0043.jpg\n",
            "Copied /content/drive/MyDrive/SuperAI/Project/GDA/train_temp_OBBlabels/0011.txt to /content/drive/MyDrive/SuperAI/Project/GDA/GDA-OBB/labels/train/0011.txt\n",
            "Copied /content/drive/MyDrive/SuperAI/Project/GDA/train_temp_images/0002.jpg to /content/drive/MyDrive/SuperAI/Project/GDA/GDA-OBB/images/train/0002.jpg\n",
            "Copied /content/drive/MyDrive/SuperAI/Project/GDA/train_temp_OBBlabels/0118.txt to /content/drive/MyDrive/SuperAI/Project/GDA/GDA-OBB/labels/train/0118.txt\n",
            "Copied /content/drive/MyDrive/SuperAI/Project/GDA/train_temp_images/0010.jpg to /content/drive/MyDrive/SuperAI/Project/GDA/GDA-OBB/images/train/0010.jpg\n",
            "Copied /content/drive/MyDrive/SuperAI/Project/GDA/train_temp_OBBlabels/0038.txt to /content/drive/MyDrive/SuperAI/Project/GDA/GDA-OBB/labels/train/0038.txt\n",
            "Copied /content/drive/MyDrive/SuperAI/Project/GDA/train_temp_images/0088.jpg to /content/drive/MyDrive/SuperAI/Project/GDA/GDA-OBB/images/train/0088.jpg\n",
            "Copied /content/drive/MyDrive/SuperAI/Project/GDA/train_temp_OBBlabels/0125.txt to /content/drive/MyDrive/SuperAI/Project/GDA/GDA-OBB/labels/train/0125.txt\n",
            "Copied /content/drive/MyDrive/SuperAI/Project/GDA/train_temp_images/0018.jpg to /content/drive/MyDrive/SuperAI/Project/GDA/GDA-OBB/images/train/0018.jpg\n",
            "Copied /content/drive/MyDrive/SuperAI/Project/GDA/train_temp_OBBlabels/0071.txt to /content/drive/MyDrive/SuperAI/Project/GDA/GDA-OBB/labels/train/0071.txt\n",
            "Copied /content/drive/MyDrive/SuperAI/Project/GDA/train_temp_images/0007.jpg to /content/drive/MyDrive/SuperAI/Project/GDA/GDA-OBB/images/train/0007.jpg\n",
            "Copied /content/drive/MyDrive/SuperAI/Project/GDA/train_temp_OBBlabels/0080.txt to /content/drive/MyDrive/SuperAI/Project/GDA/GDA-OBB/labels/train/0080.txt\n",
            "Copied /content/drive/MyDrive/SuperAI/Project/GDA/train_temp_images/0118.jpg to /content/drive/MyDrive/SuperAI/Project/GDA/GDA-OBB/images/train/0118.jpg\n",
            "Copied /content/drive/MyDrive/SuperAI/Project/GDA/train_temp_OBBlabels/0008.txt to /content/drive/MyDrive/SuperAI/Project/GDA/GDA-OBB/labels/train/0008.txt\n",
            "Copied /content/drive/MyDrive/SuperAI/Project/GDA/train_temp_images/0085.jpg to /content/drive/MyDrive/SuperAI/Project/GDA/GDA-OBB/images/train/0085.jpg\n",
            "Copied /content/drive/MyDrive/SuperAI/Project/GDA/train_temp_OBBlabels/0127.txt to /content/drive/MyDrive/SuperAI/Project/GDA/GDA-OBB/labels/train/0127.txt\n",
            "Copied /content/drive/MyDrive/SuperAI/Project/GDA/train_temp_images/0100.jpg to /content/drive/MyDrive/SuperAI/Project/GDA/GDA-OBB/images/train/0100.jpg\n",
            "Copied /content/drive/MyDrive/SuperAI/Project/GDA/train_temp_OBBlabels/0082.txt to /content/drive/MyDrive/SuperAI/Project/GDA/GDA-OBB/labels/train/0082.txt\n",
            "Copied /content/drive/MyDrive/SuperAI/Project/GDA/train_temp_images/0056.jpg to /content/drive/MyDrive/SuperAI/Project/GDA/GDA-OBB/images/train/0056.jpg\n",
            "Copied /content/drive/MyDrive/SuperAI/Project/GDA/train_temp_OBBlabels/0017.txt to /content/drive/MyDrive/SuperAI/Project/GDA/GDA-OBB/labels/train/0017.txt\n",
            "Copied /content/drive/MyDrive/SuperAI/Project/GDA/train_temp_images/0021.jpg to /content/drive/MyDrive/SuperAI/Project/GDA/GDA-OBB/images/train/0021.jpg\n",
            "Copied /content/drive/MyDrive/SuperAI/Project/GDA/train_temp_OBBlabels/0054.txt to /content/drive/MyDrive/SuperAI/Project/GDA/GDA-OBB/labels/train/0054.txt\n",
            "Copied /content/drive/MyDrive/SuperAI/Project/GDA/train_temp_images/0109.jpg to /content/drive/MyDrive/SuperAI/Project/GDA/GDA-OBB/images/train/0109.jpg\n",
            "Copied /content/drive/MyDrive/SuperAI/Project/GDA/train_temp_OBBlabels/0010.txt to /content/drive/MyDrive/SuperAI/Project/GDA/GDA-OBB/labels/train/0010.txt\n",
            "Copied /content/drive/MyDrive/SuperAI/Project/GDA/train_temp_images/0020.jpg to /content/drive/MyDrive/SuperAI/Project/GDA/GDA-OBB/images/train/0020.jpg\n",
            "Copied /content/drive/MyDrive/SuperAI/Project/GDA/train_temp_OBBlabels/0093.txt to /content/drive/MyDrive/SuperAI/Project/GDA/GDA-OBB/labels/train/0093.txt\n",
            "Copied /content/drive/MyDrive/SuperAI/Project/GDA/train_temp_images/0127.jpg to /content/drive/MyDrive/SuperAI/Project/GDA/GDA-OBB/images/train/0127.jpg\n",
            "Copied /content/drive/MyDrive/SuperAI/Project/GDA/train_temp_OBBlabels/0029.txt to /content/drive/MyDrive/SuperAI/Project/GDA/GDA-OBB/labels/train/0029.txt\n",
            "Copied /content/drive/MyDrive/SuperAI/Project/GDA/train_temp_images/0030.jpg to /content/drive/MyDrive/SuperAI/Project/GDA/GDA-OBB/images/train/0030.jpg\n",
            "Copied /content/drive/MyDrive/SuperAI/Project/GDA/train_temp_OBBlabels/0095.txt to /content/drive/MyDrive/SuperAI/Project/GDA/GDA-OBB/labels/train/0095.txt\n",
            "Copied /content/drive/MyDrive/SuperAI/Project/GDA/train_temp_images/0001.jpg to /content/drive/MyDrive/SuperAI/Project/GDA/GDA-OBB/images/train/0001.jpg\n",
            "Copied /content/drive/MyDrive/SuperAI/Project/GDA/train_temp_OBBlabels/0110.txt to /content/drive/MyDrive/SuperAI/Project/GDA/GDA-OBB/labels/train/0110.txt\n",
            "Copied /content/drive/MyDrive/SuperAI/Project/GDA/train_temp_images/0116.jpg to /content/drive/MyDrive/SuperAI/Project/GDA/GDA-OBB/images/train/0116.jpg\n",
            "Copied /content/drive/MyDrive/SuperAI/Project/GDA/train_temp_OBBlabels/0116.txt to /content/drive/MyDrive/SuperAI/Project/GDA/GDA-OBB/labels/train/0116.txt\n",
            "Copied /content/drive/MyDrive/SuperAI/Project/GDA/train_temp_images/0023.jpg to /content/drive/MyDrive/SuperAI/Project/GDA/GDA-OBB/images/train/0023.jpg\n",
            "Copied /content/drive/MyDrive/SuperAI/Project/GDA/train_temp_OBBlabels/0024.txt to /content/drive/MyDrive/SuperAI/Project/GDA/GDA-OBB/labels/train/0024.txt\n",
            "Copied /content/drive/MyDrive/SuperAI/Project/GDA/train_temp_images/0075.jpg to /content/drive/MyDrive/SuperAI/Project/GDA/GDA-OBB/images/train/0075.jpg\n",
            "Copied /content/drive/MyDrive/SuperAI/Project/GDA/train_temp_OBBlabels/0077.txt to /content/drive/MyDrive/SuperAI/Project/GDA/GDA-OBB/labels/train/0077.txt\n",
            "Copied /content/drive/MyDrive/SuperAI/Project/GDA/train_temp_images/0119.jpg to /content/drive/MyDrive/SuperAI/Project/GDA/GDA-OBB/images/train/0119.jpg\n",
            "Copied /content/drive/MyDrive/SuperAI/Project/GDA/train_temp_OBBlabels/0069.txt to /content/drive/MyDrive/SuperAI/Project/GDA/GDA-OBB/labels/train/0069.txt\n",
            "Copied /content/drive/MyDrive/SuperAI/Project/GDA/train_temp_images/0025.jpg to /content/drive/MyDrive/SuperAI/Project/GDA/GDA-OBB/images/train/0025.jpg\n",
            "Copied /content/drive/MyDrive/SuperAI/Project/GDA/train_temp_OBBlabels/0088.txt to /content/drive/MyDrive/SuperAI/Project/GDA/GDA-OBB/labels/train/0088.txt\n",
            "Copied /content/drive/MyDrive/SuperAI/Project/GDA/train_temp_images/0016.jpg to /content/drive/MyDrive/SuperAI/Project/GDA/GDA-OBB/images/train/0016.jpg\n",
            "Copied /content/drive/MyDrive/SuperAI/Project/GDA/train_temp_OBBlabels/0081.txt to /content/drive/MyDrive/SuperAI/Project/GDA/GDA-OBB/labels/train/0081.txt\n",
            "Copied /content/drive/MyDrive/SuperAI/Project/GDA/train_temp_images/0112.jpg to /content/drive/MyDrive/SuperAI/Project/GDA/GDA-OBB/images/train/0112.jpg\n",
            "Copied /content/drive/MyDrive/SuperAI/Project/GDA/train_temp_OBBlabels/0043.txt to /content/drive/MyDrive/SuperAI/Project/GDA/GDA-OBB/labels/train/0043.txt\n",
            "Copied /content/drive/MyDrive/SuperAI/Project/GDA/train_temp_images/0005.jpg to /content/drive/MyDrive/SuperAI/Project/GDA/GDA-OBB/images/train/0005.jpg\n",
            "Copied /content/drive/MyDrive/SuperAI/Project/GDA/train_temp_OBBlabels/0108.txt to /content/drive/MyDrive/SuperAI/Project/GDA/GDA-OBB/labels/train/0108.txt\n",
            "Copied /content/drive/MyDrive/SuperAI/Project/GDA/train_temp_images/0102.jpg to /content/drive/MyDrive/SuperAI/Project/GDA/GDA-OBB/images/train/0102.jpg\n",
            "Copied /content/drive/MyDrive/SuperAI/Project/GDA/train_temp_OBBlabels/0129.txt to /content/drive/MyDrive/SuperAI/Project/GDA/GDA-OBB/labels/train/0129.txt\n",
            "Copied /content/drive/MyDrive/SuperAI/Project/GDA/train_temp_images/0024.jpg to /content/drive/MyDrive/SuperAI/Project/GDA/GDA-OBB/images/train/0024.jpg\n",
            "Copied /content/drive/MyDrive/SuperAI/Project/GDA/train_temp_OBBlabels/0087.txt to /content/drive/MyDrive/SuperAI/Project/GDA/GDA-OBB/labels/train/0087.txt\n",
            "Copied /content/drive/MyDrive/SuperAI/Project/GDA/train_temp_images/0110.jpg to /content/drive/MyDrive/SuperAI/Project/GDA/GDA-OBB/images/train/0110.jpg\n",
            "Copied /content/drive/MyDrive/SuperAI/Project/GDA/train_temp_OBBlabels/0022.txt to /content/drive/MyDrive/SuperAI/Project/GDA/GDA-OBB/labels/train/0022.txt\n",
            "Copied /content/drive/MyDrive/SuperAI/Project/GDA/train_temp_images/0083.jpg to /content/drive/MyDrive/SuperAI/Project/GDA/GDA-OBB/images/train/0083.jpg\n",
            "Copied /content/drive/MyDrive/SuperAI/Project/GDA/train_temp_OBBlabels/0090.txt to /content/drive/MyDrive/SuperAI/Project/GDA/GDA-OBB/labels/train/0090.txt\n",
            "Copied /content/drive/MyDrive/SuperAI/Project/GDA/train_temp_images/0121.jpg to /content/drive/MyDrive/SuperAI/Project/GDA/GDA-OBB/images/train/0121.jpg\n",
            "Copied /content/drive/MyDrive/SuperAI/Project/GDA/train_temp_OBBlabels/0097.txt to /content/drive/MyDrive/SuperAI/Project/GDA/GDA-OBB/labels/train/0097.txt\n",
            "Copied /content/drive/MyDrive/SuperAI/Project/GDA/train_temp_images/0113.jpg to /content/drive/MyDrive/SuperAI/Project/GDA/GDA-OBB/images/train/0113.jpg\n",
            "Copied /content/drive/MyDrive/SuperAI/Project/GDA/train_temp_OBBlabels/0109.txt to /content/drive/MyDrive/SuperAI/Project/GDA/GDA-OBB/labels/train/0109.txt\n",
            "Copied /content/drive/MyDrive/SuperAI/Project/GDA/train_temp_images/0047.jpg to /content/drive/MyDrive/SuperAI/Project/GDA/GDA-OBB/images/train/0047.jpg\n",
            "Copied /content/drive/MyDrive/SuperAI/Project/GDA/train_temp_OBBlabels/0092.txt to /content/drive/MyDrive/SuperAI/Project/GDA/GDA-OBB/labels/train/0092.txt\n",
            "Copied /content/drive/MyDrive/SuperAI/Project/GDA/train_temp_images/0120.jpg to /content/drive/MyDrive/SuperAI/Project/GDA/GDA-OBB/images/train/0120.jpg\n",
            "Copied /content/drive/MyDrive/SuperAI/Project/GDA/train_temp_OBBlabels/0052.txt to /content/drive/MyDrive/SuperAI/Project/GDA/GDA-OBB/labels/train/0052.txt\n",
            "Copied /content/drive/MyDrive/SuperAI/Project/GDA/train_temp_images/0078.jpg to /content/drive/MyDrive/SuperAI/Project/GDA/GDA-OBB/images/train/0078.jpg\n",
            "Copied /content/drive/MyDrive/SuperAI/Project/GDA/train_temp_OBBlabels/0122.txt to /content/drive/MyDrive/SuperAI/Project/GDA/GDA-OBB/labels/train/0122.txt\n",
            "Copied /content/drive/MyDrive/SuperAI/Project/GDA/train_temp_images/0131.jpg to /content/drive/MyDrive/SuperAI/Project/GDA/GDA-OBB/images/train/0131.jpg\n",
            "Copied /content/drive/MyDrive/SuperAI/Project/GDA/train_temp_OBBlabels/0040.txt to /content/drive/MyDrive/SuperAI/Project/GDA/GDA-OBB/labels/train/0040.txt\n",
            "Copied /content/drive/MyDrive/SuperAI/Project/GDA/train_temp_images/0009.jpg to /content/drive/MyDrive/SuperAI/Project/GDA/GDA-OBB/images/train/0009.jpg\n",
            "Copied /content/drive/MyDrive/SuperAI/Project/GDA/train_temp_OBBlabels/0084.txt to /content/drive/MyDrive/SuperAI/Project/GDA/GDA-OBB/labels/train/0084.txt\n",
            "Copied /content/drive/MyDrive/SuperAI/Project/GDA/train_temp_images/0036.jpg to /content/drive/MyDrive/SuperAI/Project/GDA/GDA-OBB/images/train/0036.jpg\n",
            "Copied /content/drive/MyDrive/SuperAI/Project/GDA/train_temp_OBBlabels/0075.txt to /content/drive/MyDrive/SuperAI/Project/GDA/GDA-OBB/labels/train/0075.txt\n",
            "Copied /content/drive/MyDrive/SuperAI/Project/GDA/train_temp_images/0060.jpg to /content/drive/MyDrive/SuperAI/Project/GDA/GDA-OBB/images/train/0060.jpg\n",
            "Copied /content/drive/MyDrive/SuperAI/Project/GDA/train_temp_OBBlabels/0106.txt to /content/drive/MyDrive/SuperAI/Project/GDA/GDA-OBB/labels/train/0106.txt\n",
            "Copied /content/drive/MyDrive/SuperAI/Project/GDA/train_temp_images/0082.jpg to /content/drive/MyDrive/SuperAI/Project/GDA/GDA-OBB/images/train/0082.jpg\n",
            "Copied /content/drive/MyDrive/SuperAI/Project/GDA/train_temp_OBBlabels/0015.txt to /content/drive/MyDrive/SuperAI/Project/GDA/GDA-OBB/labels/train/0015.txt\n",
            "Copied /content/drive/MyDrive/SuperAI/Project/GDA/train_temp_images/0090.jpg to /content/drive/MyDrive/SuperAI/Project/GDA/GDA-OBB/images/train/0090.jpg\n",
            "Copied /content/drive/MyDrive/SuperAI/Project/GDA/train_temp_OBBlabels/0023.txt to /content/drive/MyDrive/SuperAI/Project/GDA/GDA-OBB/labels/train/0023.txt\n",
            "Copied /content/drive/MyDrive/SuperAI/Project/GDA/train_temp_images/0059.jpg to /content/drive/MyDrive/SuperAI/Project/GDA/GDA-OBB/images/train/0059.jpg\n",
            "Copied /content/drive/MyDrive/SuperAI/Project/GDA/train_temp_OBBlabels/0107.txt to /content/drive/MyDrive/SuperAI/Project/GDA/GDA-OBB/labels/train/0107.txt\n",
            "Copied /content/drive/MyDrive/SuperAI/Project/GDA/train_temp_images/0017.jpg to /content/drive/MyDrive/SuperAI/Project/GDA/GDA-OBB/images/train/0017.jpg\n",
            "Copied /content/drive/MyDrive/SuperAI/Project/GDA/train_temp_OBBlabels/0047.txt to /content/drive/MyDrive/SuperAI/Project/GDA/GDA-OBB/labels/train/0047.txt\n",
            "Copied /content/drive/MyDrive/SuperAI/Project/GDA/train_temp_images/0095.jpg to /content/drive/MyDrive/SuperAI/Project/GDA/GDA-OBB/images/train/0095.jpg\n",
            "Copied /content/drive/MyDrive/SuperAI/Project/GDA/train_temp_OBBlabels/0065.txt to /content/drive/MyDrive/SuperAI/Project/GDA/GDA-OBB/labels/train/0065.txt\n",
            "Copied /content/drive/MyDrive/SuperAI/Project/GDA/train_temp_images/0048.jpg to /content/drive/MyDrive/SuperAI/Project/GDA/GDA-OBB/images/train/0048.jpg\n",
            "Copied /content/drive/MyDrive/SuperAI/Project/GDA/train_temp_OBBlabels/0025.txt to /content/drive/MyDrive/SuperAI/Project/GDA/GDA-OBB/labels/train/0025.txt\n",
            "Copied /content/drive/MyDrive/SuperAI/Project/GDA/train_temp_images/0081.jpg to /content/drive/MyDrive/SuperAI/Project/GDA/GDA-OBB/images/train/0081.jpg\n",
            "Copied /content/drive/MyDrive/SuperAI/Project/GDA/train_temp_OBBlabels/0048.txt to /content/drive/MyDrive/SuperAI/Project/GDA/GDA-OBB/labels/train/0048.txt\n",
            "Copied /content/drive/MyDrive/SuperAI/Project/GDA/train_temp_images/0115.jpg to /content/drive/MyDrive/SuperAI/Project/GDA/GDA-OBB/images/train/0115.jpg\n",
            "Copied /content/drive/MyDrive/SuperAI/Project/GDA/train_temp_OBBlabels/0002.txt to /content/drive/MyDrive/SuperAI/Project/GDA/GDA-OBB/labels/train/0002.txt\n",
            "Copied /content/drive/MyDrive/SuperAI/Project/GDA/train_temp_images/0073.jpg to /content/drive/MyDrive/SuperAI/Project/GDA/GDA-OBB/images/train/0073.jpg\n",
            "Copied /content/drive/MyDrive/SuperAI/Project/GDA/train_temp_OBBlabels/0018.txt to /content/drive/MyDrive/SuperAI/Project/GDA/GDA-OBB/labels/train/0018.txt\n",
            "Copied /content/drive/MyDrive/SuperAI/Project/GDA/train_temp_images/0026.jpg to /content/drive/MyDrive/SuperAI/Project/GDA/GDA-OBB/images/train/0026.jpg\n",
            "Copied /content/drive/MyDrive/SuperAI/Project/GDA/train_temp_OBBlabels/0034.txt to /content/drive/MyDrive/SuperAI/Project/GDA/GDA-OBB/labels/train/0034.txt\n",
            "Copied /content/drive/MyDrive/SuperAI/Project/GDA/train_temp_images/0015.jpg to /content/drive/MyDrive/SuperAI/Project/GDA/GDA-OBB/images/train/0015.jpg\n",
            "Copied /content/drive/MyDrive/SuperAI/Project/GDA/train_temp_OBBlabels/0083.txt to /content/drive/MyDrive/SuperAI/Project/GDA/GDA-OBB/labels/train/0083.txt\n",
            "Copied /content/drive/MyDrive/SuperAI/Project/GDA/train_temp_images/0063.jpg to /content/drive/MyDrive/SuperAI/Project/GDA/GDA-OBB/images/train/0063.jpg\n",
            "Copied /content/drive/MyDrive/SuperAI/Project/GDA/train_temp_OBBlabels/0032.txt to /content/drive/MyDrive/SuperAI/Project/GDA/GDA-OBB/labels/train/0032.txt\n",
            "Copied /content/drive/MyDrive/SuperAI/Project/GDA/train_temp_images/0093.jpg to /content/drive/MyDrive/SuperAI/Project/GDA/GDA-OBB/images/train/0093.jpg\n",
            "Copied /content/drive/MyDrive/SuperAI/Project/GDA/train_temp_OBBlabels/0059.txt to /content/drive/MyDrive/SuperAI/Project/GDA/GDA-OBB/labels/train/0059.txt\n",
            "Copied /content/drive/MyDrive/SuperAI/Project/GDA/train_temp_images/0031.jpg to /content/drive/MyDrive/SuperAI/Project/GDA/GDA-OBB/images/train/0031.jpg\n",
            "Copied /content/drive/MyDrive/SuperAI/Project/GDA/train_temp_OBBlabels/0031.txt to /content/drive/MyDrive/SuperAI/Project/GDA/GDA-OBB/labels/train/0031.txt\n",
            "Copied /content/drive/MyDrive/SuperAI/Project/GDA/train_temp_images/0097.jpg to /content/drive/MyDrive/SuperAI/Project/GDA/GDA-OBB/images/train/0097.jpg\n",
            "Copied /content/drive/MyDrive/SuperAI/Project/GDA/train_temp_OBBlabels/0073.txt to /content/drive/MyDrive/SuperAI/Project/GDA/GDA-OBB/labels/train/0073.txt\n",
            "Copied /content/drive/MyDrive/SuperAI/Project/GDA/train_temp_images/0065.jpg to /content/drive/MyDrive/SuperAI/Project/GDA/GDA-OBB/images/train/0065.jpg\n",
            "Copied /content/drive/MyDrive/SuperAI/Project/GDA/train_temp_OBBlabels/0004.txt to /content/drive/MyDrive/SuperAI/Project/GDA/GDA-OBB/labels/train/0004.txt\n",
            "Copied /content/drive/MyDrive/SuperAI/Project/GDA/train_temp_images/0054.jpg to /content/drive/MyDrive/SuperAI/Project/GDA/GDA-OBB/images/train/0054.jpg\n",
            "Copied /content/drive/MyDrive/SuperAI/Project/GDA/train_temp_OBBlabels/0117.txt to /content/drive/MyDrive/SuperAI/Project/GDA/GDA-OBB/labels/train/0117.txt\n",
            "Copied /content/drive/MyDrive/SuperAI/Project/GDA/train_temp_images/0104.jpg to /content/drive/MyDrive/SuperAI/Project/GDA/GDA-OBB/images/train/0104.jpg\n",
            "Copied /content/drive/MyDrive/SuperAI/Project/GDA/train_temp_OBBlabels/0115.txt to /content/drive/MyDrive/SuperAI/Project/GDA/GDA-OBB/labels/train/0115.txt\n",
            "Copied /content/drive/MyDrive/SuperAI/Project/GDA/train_temp_images/0011.jpg to /content/drive/MyDrive/SuperAI/Project/GDA/GDA-OBB/images/train/0011.jpg\n",
            "Copied /content/drive/MyDrive/SuperAI/Project/GDA/train_temp_OBBlabels/0099.txt to /content/drive/MyDrive/SuperAI/Project/GDA/GDA-OBB/labels/train/0099.txt\n",
            "Copied /content/drive/MyDrive/SuperAI/Project/GDA/train_temp_images/0004.jpg to /content/drive/MyDrive/SuperAI/Project/GDA/GDA-OBB/images/train/0004.jpg\n",
            "Copied /content/drive/MyDrive/SuperAI/Project/GDA/train_temp_OBBlabels/0120.txt to /content/drive/MyDrive/SuperAI/Project/GDA/GDA-OBB/labels/train/0120.txt\n",
            "Copied /content/drive/MyDrive/SuperAI/Project/GDA/train_temp_images/0040.jpg to /content/drive/MyDrive/SuperAI/Project/GDA/GDA-OBB/images/train/0040.jpg\n",
            "Copied /content/drive/MyDrive/SuperAI/Project/GDA/train_temp_OBBlabels/0026.txt to /content/drive/MyDrive/SuperAI/Project/GDA/GDA-OBB/labels/train/0026.txt\n",
            "Copied /content/drive/MyDrive/SuperAI/Project/GDA/train_temp_images/0133.jpg to /content/drive/MyDrive/SuperAI/Project/GDA/GDA-OBB/images/train/0133.jpg\n",
            "Copied /content/drive/MyDrive/SuperAI/Project/GDA/train_temp_OBBlabels/0060.txt to /content/drive/MyDrive/SuperAI/Project/GDA/GDA-OBB/labels/train/0060.txt\n",
            "Copied /content/drive/MyDrive/SuperAI/Project/GDA/train_temp_images/0022.jpg to /content/drive/MyDrive/SuperAI/Project/GDA/GDA-OBB/images/train/0022.jpg\n",
            "Copied /content/drive/MyDrive/SuperAI/Project/GDA/train_temp_OBBlabels/0078.txt to /content/drive/MyDrive/SuperAI/Project/GDA/GDA-OBB/labels/train/0078.txt\n",
            "Copied /content/drive/MyDrive/SuperAI/Project/GDA/train_temp_images/0107.jpg to /content/drive/MyDrive/SuperAI/Project/GDA/GDA-OBB/images/train/0107.jpg\n",
            "Copied /content/drive/MyDrive/SuperAI/Project/GDA/train_temp_OBBlabels/0062.txt to /content/drive/MyDrive/SuperAI/Project/GDA/GDA-OBB/labels/train/0062.txt\n",
            "Copied /content/drive/MyDrive/SuperAI/Project/GDA/train_temp_images/0122.jpg to /content/drive/MyDrive/SuperAI/Project/GDA/GDA-OBB/images/train/0122.jpg\n",
            "Copied /content/drive/MyDrive/SuperAI/Project/GDA/train_temp_OBBlabels/0009.txt to /content/drive/MyDrive/SuperAI/Project/GDA/GDA-OBB/labels/train/0009.txt\n",
            "Copied /content/drive/MyDrive/SuperAI/Project/GDA/train_temp_images/0032.jpg to /content/drive/MyDrive/SuperAI/Project/GDA/GDA-OBB/images/train/0032.jpg\n",
            "Copied /content/drive/MyDrive/SuperAI/Project/GDA/train_temp_OBBlabels/0131.txt to /content/drive/MyDrive/SuperAI/Project/GDA/GDA-OBB/labels/train/0131.txt\n",
            "Copied /content/drive/MyDrive/SuperAI/Project/GDA/train_temp_images/0008.jpg to /content/drive/MyDrive/SuperAI/Project/GDA/GDA-OBB/images/train/0008.jpg\n",
            "Copied /content/drive/MyDrive/SuperAI/Project/GDA/train_temp_OBBlabels/0067.txt to /content/drive/MyDrive/SuperAI/Project/GDA/GDA-OBB/labels/train/0067.txt\n",
            "Copied /content/drive/MyDrive/SuperAI/Project/GDA/train_temp_images/0037.jpg to /content/drive/MyDrive/SuperAI/Project/GDA/GDA-OBB/images/train/0037.jpg\n",
            "Copied /content/drive/MyDrive/SuperAI/Project/GDA/train_temp_OBBlabels/0119.txt to /content/drive/MyDrive/SuperAI/Project/GDA/GDA-OBB/labels/train/0119.txt\n",
            "Copied /content/drive/MyDrive/SuperAI/Project/GDA/train_temp_images/0058.jpg to /content/drive/MyDrive/SuperAI/Project/GDA/GDA-OBB/images/train/0058.jpg\n",
            "Copied /content/drive/MyDrive/SuperAI/Project/GDA/train_temp_OBBlabels/0037.txt to /content/drive/MyDrive/SuperAI/Project/GDA/GDA-OBB/labels/train/0037.txt\n",
            "Copied /content/drive/MyDrive/SuperAI/Project/GDA/train_temp_images/0106.jpg to /content/drive/MyDrive/SuperAI/Project/GDA/GDA-OBB/images/train/0106.jpg\n",
            "Copied /content/drive/MyDrive/SuperAI/Project/GDA/train_temp_OBBlabels/0111.txt to /content/drive/MyDrive/SuperAI/Project/GDA/GDA-OBB/labels/train/0111.txt\n",
            "Copied /content/drive/MyDrive/SuperAI/Project/GDA/train_temp_images/0092.jpg to /content/drive/MyDrive/SuperAI/Project/GDA/GDA-OBB/images/train/0092.jpg\n",
            "Copied /content/drive/MyDrive/SuperAI/Project/GDA/train_temp_OBBlabels/0001.txt to /content/drive/MyDrive/SuperAI/Project/GDA/GDA-OBB/labels/train/0001.txt\n",
            "Copied /content/drive/MyDrive/SuperAI/Project/GDA/train_temp_images/0071.jpg to /content/drive/MyDrive/SuperAI/Project/GDA/GDA-OBB/images/train/0071.jpg\n",
            "Copied /content/drive/MyDrive/SuperAI/Project/GDA/train_temp_OBBlabels/0104.txt to /content/drive/MyDrive/SuperAI/Project/GDA/GDA-OBB/labels/train/0104.txt\n",
            "Copied /content/drive/MyDrive/SuperAI/Project/GDA/train_temp_images/0111.jpg to /content/drive/MyDrive/SuperAI/Project/GDA/GDA-OBB/images/train/0111.jpg\n",
            "Copied /content/drive/MyDrive/SuperAI/Project/GDA/train_temp_OBBlabels/0005.txt to /content/drive/MyDrive/SuperAI/Project/GDA/GDA-OBB/labels/train/0005.txt\n",
            "Copied /content/drive/MyDrive/SuperAI/Project/GDA/train_temp_images/0086.jpg to /content/drive/MyDrive/SuperAI/Project/GDA/GDA-OBB/images/train/0086.jpg\n",
            "Copied /content/drive/MyDrive/SuperAI/Project/GDA/train_temp_OBBlabels/0102.txt to /content/drive/MyDrive/SuperAI/Project/GDA/GDA-OBB/labels/train/0102.txt\n",
            "Copied /content/drive/MyDrive/SuperAI/Project/GDA/train_temp_images/0099.jpg to /content/drive/MyDrive/SuperAI/Project/GDA/GDA-OBB/images/val/0099.jpg\n",
            "Copied /content/drive/MyDrive/SuperAI/Project/GDA/train_temp_OBBlabels/0113.txt to /content/drive/MyDrive/SuperAI/Project/GDA/GDA-OBB/labels/val/0113.txt\n",
            "Copied /content/drive/MyDrive/SuperAI/Project/GDA/train_temp_images/0003.jpg to /content/drive/MyDrive/SuperAI/Project/GDA/GDA-OBB/images/val/0003.jpg\n",
            "Copied /content/drive/MyDrive/SuperAI/Project/GDA/train_temp_OBBlabels/0063.txt to /content/drive/MyDrive/SuperAI/Project/GDA/GDA-OBB/labels/val/0063.txt\n",
            "Copied /content/drive/MyDrive/SuperAI/Project/GDA/train_temp_images/0069.jpg to /content/drive/MyDrive/SuperAI/Project/GDA/GDA-OBB/images/val/0069.jpg\n",
            "Copied /content/drive/MyDrive/SuperAI/Project/GDA/train_temp_OBBlabels/0016.txt to /content/drive/MyDrive/SuperAI/Project/GDA/GDA-OBB/labels/val/0016.txt\n",
            "Copied /content/drive/MyDrive/SuperAI/Project/GDA/train_temp_images/0052.jpg to /content/drive/MyDrive/SuperAI/Project/GDA/GDA-OBB/images/val/0052.jpg\n",
            "Copied /content/drive/MyDrive/SuperAI/Project/GDA/train_temp_OBBlabels/0112.txt to /content/drive/MyDrive/SuperAI/Project/GDA/GDA-OBB/labels/val/0112.txt\n",
            "Copied /content/drive/MyDrive/SuperAI/Project/GDA/train_temp_images/0125.jpg to /content/drive/MyDrive/SuperAI/Project/GDA/GDA-OBB/images/val/0125.jpg\n",
            "Copied /content/drive/MyDrive/SuperAI/Project/GDA/train_temp_OBBlabels/0003.txt to /content/drive/MyDrive/SuperAI/Project/GDA/GDA-OBB/labels/val/0003.txt\n",
            "Copied /content/drive/MyDrive/SuperAI/Project/GDA/train_temp_images/0087.jpg to /content/drive/MyDrive/SuperAI/Project/GDA/GDA-OBB/images/val/0087.jpg\n",
            "Copied /content/drive/MyDrive/SuperAI/Project/GDA/train_temp_OBBlabels/0007.txt to /content/drive/MyDrive/SuperAI/Project/GDA/GDA-OBB/labels/val/0007.txt\n",
            "Copied /content/drive/MyDrive/SuperAI/Project/GDA/train_temp_images/0034.jpg to /content/drive/MyDrive/SuperAI/Project/GDA/GDA-OBB/images/val/0034.jpg\n",
            "Copied /content/drive/MyDrive/SuperAI/Project/GDA/train_temp_OBBlabels/0133.txt to /content/drive/MyDrive/SuperAI/Project/GDA/GDA-OBB/labels/val/0133.txt\n",
            "Copied /content/drive/MyDrive/SuperAI/Project/GDA/train_temp_images/0067.jpg to /content/drive/MyDrive/SuperAI/Project/GDA/GDA-OBB/images/val/0067.jpg\n",
            "Copied /content/drive/MyDrive/SuperAI/Project/GDA/train_temp_OBBlabels/0100.txt to /content/drive/MyDrive/SuperAI/Project/GDA/GDA-OBB/labels/val/0100.txt\n",
            "Copied /content/drive/MyDrive/SuperAI/Project/GDA/train_temp_images/0108.jpg to /content/drive/MyDrive/SuperAI/Project/GDA/GDA-OBB/images/val/0108.jpg\n",
            "Copied /content/drive/MyDrive/SuperAI/Project/GDA/train_temp_OBBlabels/0114.txt to /content/drive/MyDrive/SuperAI/Project/GDA/GDA-OBB/labels/val/0114.txt\n",
            "Copied /content/drive/MyDrive/SuperAI/Project/GDA/train_temp_images/0029.jpg to /content/drive/MyDrive/SuperAI/Project/GDA/GDA-OBB/images/val/0029.jpg\n",
            "Copied /content/drive/MyDrive/SuperAI/Project/GDA/train_temp_OBBlabels/0121.txt to /content/drive/MyDrive/SuperAI/Project/GDA/GDA-OBB/labels/val/0121.txt\n",
            "Copied /content/drive/MyDrive/SuperAI/Project/GDA/train_temp_images/0038.jpg to /content/drive/MyDrive/SuperAI/Project/GDA/GDA-OBB/images/val/0038.jpg\n",
            "Copied /content/drive/MyDrive/SuperAI/Project/GDA/train_temp_OBBlabels/0050.txt to /content/drive/MyDrive/SuperAI/Project/GDA/GDA-OBB/labels/val/0050.txt\n",
            "Copied /content/drive/MyDrive/SuperAI/Project/GDA/train_temp_images/0050.jpg to /content/drive/MyDrive/SuperAI/Project/GDA/GDA-OBB/images/val/0050.jpg\n",
            "Copied /content/drive/MyDrive/SuperAI/Project/GDA/train_temp_OBBlabels/0085.txt to /content/drive/MyDrive/SuperAI/Project/GDA/GDA-OBB/labels/val/0085.txt\n",
            "Copied /content/drive/MyDrive/SuperAI/Project/GDA/train_temp_images/0080.jpg to /content/drive/MyDrive/SuperAI/Project/GDA/GDA-OBB/images/val/0080.jpg\n",
            "Copied /content/drive/MyDrive/SuperAI/Project/GDA/train_temp_OBBlabels/0036.txt to /content/drive/MyDrive/SuperAI/Project/GDA/GDA-OBB/labels/val/0036.txt\n",
            "Copied /content/drive/MyDrive/SuperAI/Project/GDA/train_temp_images/0077.jpg to /content/drive/MyDrive/SuperAI/Project/GDA/GDA-OBB/images/val/0077.jpg\n",
            "Copied /content/drive/MyDrive/SuperAI/Project/GDA/train_temp_OBBlabels/0020.txt to /content/drive/MyDrive/SuperAI/Project/GDA/GDA-OBB/labels/val/0020.txt\n",
            "Copied /content/drive/MyDrive/SuperAI/Project/GDA/train_temp_images/0117.jpg to /content/drive/MyDrive/SuperAI/Project/GDA/GDA-OBB/images/val/0117.jpg\n",
            "Copied /content/drive/MyDrive/SuperAI/Project/GDA/train_temp_OBBlabels/0056.txt to /content/drive/MyDrive/SuperAI/Project/GDA/GDA-OBB/labels/val/0056.txt\n",
            "Copied /content/drive/MyDrive/SuperAI/Project/GDA/train_temp_images/0129.jpg to /content/drive/MyDrive/SuperAI/Project/GDA/GDA-OBB/images/val/0129.jpg\n",
            "Copied /content/drive/MyDrive/SuperAI/Project/GDA/train_temp_OBBlabels/0086.txt to /content/drive/MyDrive/SuperAI/Project/GDA/GDA-OBB/labels/val/0086.txt\n",
            "Copied /content/drive/MyDrive/SuperAI/Project/GDA/train_temp_images/0114.jpg to /content/drive/MyDrive/SuperAI/Project/GDA/GDA-OBB/images/val/0114.jpg\n",
            "Copied /content/drive/MyDrive/SuperAI/Project/GDA/train_temp_OBBlabels/0058.txt to /content/drive/MyDrive/SuperAI/Project/GDA/GDA-OBB/labels/val/0058.txt\n",
            "Copied /content/drive/MyDrive/SuperAI/Project/GDA/train_temp_images/0062.jpg to /content/drive/MyDrive/SuperAI/Project/GDA/GDA-OBB/images/val/0062.jpg\n",
            "Copied /content/drive/MyDrive/SuperAI/Project/GDA/train_temp_OBBlabels/0030.txt to /content/drive/MyDrive/SuperAI/Project/GDA/GDA-OBB/labels/val/0030.txt\n"
          ]
        }
      ]
    },
    {
      "cell_type": "markdown",
      "source": [
        "# write YAML file"
      ],
      "metadata": {
        "id": "GijAOCmQeSFn"
      }
    },
    {
      "cell_type": "code",
      "source": [
        "# Content to be written to the YAML file\n",
        "yaml_content = \"\"\"# Train/val/test sets as 1) dir: path/to/imgs, 2) file: path/to/imgs.txt, or 3) list: [path/to/imgs1, path/to/imgs2, ..]\n",
        "path: /content/drive/MyDrive/SuperAI/Project/GDA/GDA-OBB # dataset root dir\n",
        "train: /content/drive/MyDrive/SuperAI/Project/GDA/GDA-OBB/images/train # train images (relative to 'path')\n",
        "val: /content/drive/MyDrive/SuperAI/Project/GDA/GDA-OBB/images/val # val images (relative to 'path')\n",
        "#test: /content/drive/MyDrive/SuperAI/Project/GDA/test # test images (optional)\n",
        "\n",
        "# Classes\n",
        "names:\n",
        "  0: Energy\n",
        "  1: Sugar\n",
        "  2: Fat\n",
        "  3: Sodium\n",
        "\"\"\"\n",
        "\n",
        "# Write to the YAML file\n",
        "with open('/content/drive/MyDrive/SuperAI/Project/GDA/GDA_yolo-obb.yaml', 'w') as file:\n",
        "    file.write(yaml_content)\n",
        "\n",
        "print('GDA_yolo-obb.yaml has been created.')\n"
      ],
      "metadata": {
        "colab": {
          "base_uri": "https://localhost:8080/"
        },
        "id": "8xcqMNFAeR0J",
        "outputId": "9508f7ab-41b0-4d70-b00d-a550033b372d"
      },
      "execution_count": null,
      "outputs": [
        {
          "output_type": "stream",
          "name": "stdout",
          "text": [
            "GDA_yolo-obb.yaml has been created.\n"
          ]
        }
      ]
    },
    {
      "cell_type": "markdown",
      "source": [
        "# YOLO-OBB"
      ],
      "metadata": {
        "id": "KyHh2ry7cXxf"
      }
    },
    {
      "cell_type": "code",
      "source": [
        "# Install the ultralytics package from PyPI\n",
        "!pip install ultralytics"
      ],
      "metadata": {
        "colab": {
          "base_uri": "https://localhost:8080/"
        },
        "id": "CUnkCqK-49Mw",
        "outputId": "73ca581c-0762-44b4-dc62-88c05474f940"
      },
      "execution_count": null,
      "outputs": [
        {
          "output_type": "stream",
          "name": "stdout",
          "text": [
            "Requirement already satisfied: ultralytics in /usr/local/lib/python3.10/dist-packages (8.1.27)\n",
            "Requirement already satisfied: matplotlib>=3.3.0 in /usr/local/lib/python3.10/dist-packages (from ultralytics) (3.7.1)\n",
            "Requirement already satisfied: opencv-python>=4.6.0 in /usr/local/lib/python3.10/dist-packages (from ultralytics) (4.8.0.76)\n",
            "Requirement already satisfied: pillow>=7.1.2 in /usr/local/lib/python3.10/dist-packages (from ultralytics) (9.4.0)\n",
            "Requirement already satisfied: pyyaml>=5.3.1 in /usr/local/lib/python3.10/dist-packages (from ultralytics) (6.0.1)\n",
            "Requirement already satisfied: requests>=2.23.0 in /usr/local/lib/python3.10/dist-packages (from ultralytics) (2.31.0)\n",
            "Requirement already satisfied: scipy>=1.4.1 in /usr/local/lib/python3.10/dist-packages (from ultralytics) (1.11.4)\n",
            "Requirement already satisfied: torch>=1.8.0 in /usr/local/lib/python3.10/dist-packages (from ultralytics) (2.2.1+cu121)\n",
            "Requirement already satisfied: torchvision>=0.9.0 in /usr/local/lib/python3.10/dist-packages (from ultralytics) (0.17.1+cu121)\n",
            "Requirement already satisfied: tqdm>=4.64.0 in /usr/local/lib/python3.10/dist-packages (from ultralytics) (4.66.2)\n",
            "Requirement already satisfied: psutil in /usr/local/lib/python3.10/dist-packages (from ultralytics) (5.9.5)\n",
            "Requirement already satisfied: py-cpuinfo in /usr/local/lib/python3.10/dist-packages (from ultralytics) (9.0.0)\n",
            "Requirement already satisfied: thop>=0.1.1 in /usr/local/lib/python3.10/dist-packages (from ultralytics) (0.1.1.post2209072238)\n",
            "Requirement already satisfied: pandas>=1.1.4 in /usr/local/lib/python3.10/dist-packages (from ultralytics) (1.5.3)\n",
            "Requirement already satisfied: seaborn>=0.11.0 in /usr/local/lib/python3.10/dist-packages (from ultralytics) (0.13.1)\n",
            "Requirement already satisfied: contourpy>=1.0.1 in /usr/local/lib/python3.10/dist-packages (from matplotlib>=3.3.0->ultralytics) (1.2.0)\n",
            "Requirement already satisfied: cycler>=0.10 in /usr/local/lib/python3.10/dist-packages (from matplotlib>=3.3.0->ultralytics) (0.12.1)\n",
            "Requirement already satisfied: fonttools>=4.22.0 in /usr/local/lib/python3.10/dist-packages (from matplotlib>=3.3.0->ultralytics) (4.49.0)\n",
            "Requirement already satisfied: kiwisolver>=1.0.1 in /usr/local/lib/python3.10/dist-packages (from matplotlib>=3.3.0->ultralytics) (1.4.5)\n",
            "Requirement already satisfied: numpy>=1.20 in /usr/local/lib/python3.10/dist-packages (from matplotlib>=3.3.0->ultralytics) (1.25.2)\n",
            "Requirement already satisfied: packaging>=20.0 in /usr/local/lib/python3.10/dist-packages (from matplotlib>=3.3.0->ultralytics) (24.0)\n",
            "Requirement already satisfied: pyparsing>=2.3.1 in /usr/local/lib/python3.10/dist-packages (from matplotlib>=3.3.0->ultralytics) (3.1.2)\n",
            "Requirement already satisfied: python-dateutil>=2.7 in /usr/local/lib/python3.10/dist-packages (from matplotlib>=3.3.0->ultralytics) (2.8.2)\n",
            "Requirement already satisfied: pytz>=2020.1 in /usr/local/lib/python3.10/dist-packages (from pandas>=1.1.4->ultralytics) (2023.4)\n",
            "Requirement already satisfied: charset-normalizer<4,>=2 in /usr/local/lib/python3.10/dist-packages (from requests>=2.23.0->ultralytics) (3.3.2)\n",
            "Requirement already satisfied: idna<4,>=2.5 in /usr/local/lib/python3.10/dist-packages (from requests>=2.23.0->ultralytics) (3.6)\n",
            "Requirement already satisfied: urllib3<3,>=1.21.1 in /usr/local/lib/python3.10/dist-packages (from requests>=2.23.0->ultralytics) (2.0.7)\n",
            "Requirement already satisfied: certifi>=2017.4.17 in /usr/local/lib/python3.10/dist-packages (from requests>=2.23.0->ultralytics) (2024.2.2)\n",
            "Requirement already satisfied: filelock in /usr/local/lib/python3.10/dist-packages (from torch>=1.8.0->ultralytics) (3.13.1)\n",
            "Requirement already satisfied: typing-extensions>=4.8.0 in /usr/local/lib/python3.10/dist-packages (from torch>=1.8.0->ultralytics) (4.10.0)\n",
            "Requirement already satisfied: sympy in /usr/local/lib/python3.10/dist-packages (from torch>=1.8.0->ultralytics) (1.12)\n",
            "Requirement already satisfied: networkx in /usr/local/lib/python3.10/dist-packages (from torch>=1.8.0->ultralytics) (3.2.1)\n",
            "Requirement already satisfied: jinja2 in /usr/local/lib/python3.10/dist-packages (from torch>=1.8.0->ultralytics) (3.1.3)\n",
            "Requirement already satisfied: fsspec in /usr/local/lib/python3.10/dist-packages (from torch>=1.8.0->ultralytics) (2023.6.0)\n",
            "Requirement already satisfied: nvidia-cuda-nvrtc-cu12==12.1.105 in /usr/local/lib/python3.10/dist-packages (from torch>=1.8.0->ultralytics) (12.1.105)\n",
            "Requirement already satisfied: nvidia-cuda-runtime-cu12==12.1.105 in /usr/local/lib/python3.10/dist-packages (from torch>=1.8.0->ultralytics) (12.1.105)\n",
            "Requirement already satisfied: nvidia-cuda-cupti-cu12==12.1.105 in /usr/local/lib/python3.10/dist-packages (from torch>=1.8.0->ultralytics) (12.1.105)\n",
            "Requirement already satisfied: nvidia-cudnn-cu12==8.9.2.26 in /usr/local/lib/python3.10/dist-packages (from torch>=1.8.0->ultralytics) (8.9.2.26)\n",
            "Requirement already satisfied: nvidia-cublas-cu12==12.1.3.1 in /usr/local/lib/python3.10/dist-packages (from torch>=1.8.0->ultralytics) (12.1.3.1)\n",
            "Requirement already satisfied: nvidia-cufft-cu12==11.0.2.54 in /usr/local/lib/python3.10/dist-packages (from torch>=1.8.0->ultralytics) (11.0.2.54)\n",
            "Requirement already satisfied: nvidia-curand-cu12==10.3.2.106 in /usr/local/lib/python3.10/dist-packages (from torch>=1.8.0->ultralytics) (10.3.2.106)\n",
            "Requirement already satisfied: nvidia-cusolver-cu12==11.4.5.107 in /usr/local/lib/python3.10/dist-packages (from torch>=1.8.0->ultralytics) (11.4.5.107)\n",
            "Requirement already satisfied: nvidia-cusparse-cu12==12.1.0.106 in /usr/local/lib/python3.10/dist-packages (from torch>=1.8.0->ultralytics) (12.1.0.106)\n",
            "Requirement already satisfied: nvidia-nccl-cu12==2.19.3 in /usr/local/lib/python3.10/dist-packages (from torch>=1.8.0->ultralytics) (2.19.3)\n",
            "Requirement already satisfied: nvidia-nvtx-cu12==12.1.105 in /usr/local/lib/python3.10/dist-packages (from torch>=1.8.0->ultralytics) (12.1.105)\n",
            "Requirement already satisfied: triton==2.2.0 in /usr/local/lib/python3.10/dist-packages (from torch>=1.8.0->ultralytics) (2.2.0)\n",
            "Requirement already satisfied: nvidia-nvjitlink-cu12 in /usr/local/lib/python3.10/dist-packages (from nvidia-cusolver-cu12==11.4.5.107->torch>=1.8.0->ultralytics) (12.4.99)\n",
            "Requirement already satisfied: six>=1.5 in /usr/local/lib/python3.10/dist-packages (from python-dateutil>=2.7->matplotlib>=3.3.0->ultralytics) (1.16.0)\n",
            "Requirement already satisfied: MarkupSafe>=2.0 in /usr/local/lib/python3.10/dist-packages (from jinja2->torch>=1.8.0->ultralytics) (2.1.5)\n",
            "Requirement already satisfied: mpmath>=0.19 in /usr/local/lib/python3.10/dist-packages (from sympy->torch>=1.8.0->ultralytics) (1.3.0)\n"
          ]
        }
      ]
    },
    {
      "cell_type": "code",
      "source": [
        "from ultralytics import YOLO\n",
        "\n",
        "# Create a new YOLOv8n-OBB model from scratch\n",
        "model = YOLO('yolov8n-obb.yaml')\n",
        "\n",
        "# # Train the model on the GDA_yolo-obb.yaml dataset\n",
        "results = model.train(data='/content/drive/MyDrive/SuperAI/Project/GDA/GDA_yolo-obb.yaml', epochs=200, imgsz=1600) #epochs=100, imgsz=640)"
      ],
      "metadata": {
        "colab": {
          "base_uri": "https://localhost:8080/"
        },
        "id": "gFoII38S5Ow9",
        "outputId": "3b3284b2-f44a-4102-8c03-3c161689c81e"
      },
      "execution_count": null,
      "outputs": [
        {
          "output_type": "stream",
          "name": "stdout",
          "text": [
            "Ultralytics YOLOv8.1.27 🚀 Python-3.10.12 torch-2.2.1+cu121 CUDA:0 (Tesla T4, 15102MiB)\n",
            "\u001b[34m\u001b[1mengine/trainer: \u001b[0mtask=obb, mode=train, model=yolov8n-obb.yaml, data=/content/drive/MyDrive/SuperAI/Project/GDA/GDA_yolo-obb.yaml, epochs=200, time=None, patience=100, batch=16, imgsz=1600, save=True, save_period=-1, cache=False, device=None, workers=8, project=None, name=train, exist_ok=False, pretrained=True, optimizer=auto, verbose=True, seed=0, deterministic=True, single_cls=False, rect=False, cos_lr=False, close_mosaic=10, resume=False, amp=True, fraction=1.0, profile=False, freeze=None, multi_scale=False, overlap_mask=True, mask_ratio=4, dropout=0.0, val=True, split=val, save_json=False, save_hybrid=False, conf=None, iou=0.7, max_det=300, half=False, dnn=False, plots=True, source=None, vid_stride=1, stream_buffer=False, visualize=False, augment=False, agnostic_nms=False, classes=None, retina_masks=False, embed=None, show=False, save_frames=False, save_txt=False, save_conf=False, save_crop=False, show_labels=True, show_conf=True, show_boxes=True, line_width=None, format=torchscript, keras=False, optimize=False, int8=False, dynamic=False, simplify=False, opset=None, workspace=4, nms=False, lr0=0.01, lrf=0.01, momentum=0.937, weight_decay=0.0005, warmup_epochs=3.0, warmup_momentum=0.8, warmup_bias_lr=0.1, box=7.5, cls=0.5, dfl=1.5, pose=12.0, kobj=1.0, label_smoothing=0.0, nbs=64, hsv_h=0.015, hsv_s=0.7, hsv_v=0.4, degrees=0.0, translate=0.1, scale=0.5, shear=0.0, perspective=0.0, flipud=0.0, fliplr=0.5, mosaic=1.0, mixup=0.0, copy_paste=0.0, auto_augment=randaugment, erasing=0.4, crop_fraction=1.0, cfg=None, tracker=botsort.yaml, save_dir=runs/obb/train\n",
            "Downloading https://ultralytics.com/assets/Arial.ttf to '/root/.config/Ultralytics/Arial.ttf'...\n"
          ]
        },
        {
          "output_type": "stream",
          "name": "stderr",
          "text": [
            "100%|██████████| 755k/755k [00:00<00:00, 122MB/s]\n"
          ]
        },
        {
          "output_type": "stream",
          "name": "stdout",
          "text": [
            "Overriding model.yaml nc=80 with nc=4\n",
            "\n",
            "                   from  n    params  module                                       arguments                     \n",
            "  0                  -1  1       464  ultralytics.nn.modules.conv.Conv             [3, 16, 3, 2]                 \n",
            "  1                  -1  1      4672  ultralytics.nn.modules.conv.Conv             [16, 32, 3, 2]                \n",
            "  2                  -1  1      7360  ultralytics.nn.modules.block.C2f             [32, 32, 1, True]             \n",
            "  3                  -1  1     18560  ultralytics.nn.modules.conv.Conv             [32, 64, 3, 2]                \n",
            "  4                  -1  2     49664  ultralytics.nn.modules.block.C2f             [64, 64, 2, True]             \n",
            "  5                  -1  1     73984  ultralytics.nn.modules.conv.Conv             [64, 128, 3, 2]               \n",
            "  6                  -1  2    197632  ultralytics.nn.modules.block.C2f             [128, 128, 2, True]           \n",
            "  7                  -1  1    295424  ultralytics.nn.modules.conv.Conv             [128, 256, 3, 2]              \n",
            "  8                  -1  1    460288  ultralytics.nn.modules.block.C2f             [256, 256, 1, True]           \n",
            "  9                  -1  1    164608  ultralytics.nn.modules.block.SPPF            [256, 256, 5]                 \n",
            " 10                  -1  1         0  torch.nn.modules.upsampling.Upsample         [None, 2, 'nearest']          \n",
            " 11             [-1, 6]  1         0  ultralytics.nn.modules.conv.Concat           [1]                           \n",
            " 12                  -1  1    148224  ultralytics.nn.modules.block.C2f             [384, 128, 1]                 \n",
            " 13                  -1  1         0  torch.nn.modules.upsampling.Upsample         [None, 2, 'nearest']          \n",
            " 14             [-1, 4]  1         0  ultralytics.nn.modules.conv.Concat           [1]                           \n",
            " 15                  -1  1     37248  ultralytics.nn.modules.block.C2f             [192, 64, 1]                  \n",
            " 16                  -1  1     36992  ultralytics.nn.modules.conv.Conv             [64, 64, 3, 2]                \n",
            " 17            [-1, 12]  1         0  ultralytics.nn.modules.conv.Concat           [1]                           \n",
            " 18                  -1  1    123648  ultralytics.nn.modules.block.C2f             [192, 128, 1]                 \n",
            " 19                  -1  1    147712  ultralytics.nn.modules.conv.Conv             [128, 128, 3, 2]              \n",
            " 20             [-1, 9]  1         0  ultralytics.nn.modules.conv.Concat           [1]                           \n",
            " 21                  -1  1    493056  ultralytics.nn.modules.block.C2f             [384, 256, 1]                 \n",
            " 22        [15, 18, 21]  1    823759  ultralytics.nn.modules.head.OBB              [4, 1, [64, 128, 256]]        \n",
            "YOLOv8n-obb summary: 250 layers, 3083295 parameters, 3083279 gradients, 8.4 GFLOPs\n",
            "\n",
            "\u001b[34m\u001b[1mTensorBoard: \u001b[0mStart with 'tensorboard --logdir runs/obb/train', view at http://localhost:6006/\n",
            "Freezing layer 'model.22.dfl.conv.weight'\n",
            "\u001b[34m\u001b[1mAMP: \u001b[0mrunning Automatic Mixed Precision (AMP) checks with YOLOv8n...\n",
            "Downloading https://github.com/ultralytics/assets/releases/download/v8.1.0/yolov8n.pt to 'yolov8n.pt'...\n"
          ]
        },
        {
          "output_type": "stream",
          "name": "stderr",
          "text": [
            "100%|██████████| 6.23M/6.23M [00:00<00:00, 70.1MB/s]\n"
          ]
        },
        {
          "output_type": "stream",
          "name": "stdout",
          "text": [
            "\u001b[34m\u001b[1mAMP: \u001b[0mchecks passed ✅\n"
          ]
        },
        {
          "output_type": "stream",
          "name": "stderr",
          "text": [
            "\u001b[34m\u001b[1mtrain: \u001b[0mScanning /content/drive/MyDrive/SuperAI/Project/GDA/GDA-OBB/labels/train... 57 images, 15 backgrounds, 0 corrupt: 100%|██████████| 72/72 [00:28<00:00,  2.49it/s]"
          ]
        },
        {
          "output_type": "stream",
          "name": "stdout",
          "text": [
            "\u001b[34m\u001b[1mtrain: \u001b[0mWARNING ⚠️ /content/drive/MyDrive/SuperAI/Project/GDA/GDA-OBB/images/train/0001.jpg: corrupt JPEG restored and saved\n",
            "\u001b[34m\u001b[1mtrain: \u001b[0mWARNING ⚠️ /content/drive/MyDrive/SuperAI/Project/GDA/GDA-OBB/images/train/0002.jpg: corrupt JPEG restored and saved\n",
            "\u001b[34m\u001b[1mtrain: \u001b[0mWARNING ⚠️ /content/drive/MyDrive/SuperAI/Project/GDA/GDA-OBB/images/train/0004.jpg: corrupt JPEG restored and saved\n",
            "\u001b[34m\u001b[1mtrain: \u001b[0mWARNING ⚠️ /content/drive/MyDrive/SuperAI/Project/GDA/GDA-OBB/images/train/0005.jpg: corrupt JPEG restored and saved\n",
            "\u001b[34m\u001b[1mtrain: \u001b[0mWARNING ⚠️ /content/drive/MyDrive/SuperAI/Project/GDA/GDA-OBB/images/train/0007.jpg: corrupt JPEG restored and saved\n",
            "\u001b[34m\u001b[1mtrain: \u001b[0mWARNING ⚠️ /content/drive/MyDrive/SuperAI/Project/GDA/GDA-OBB/images/train/0008.jpg: corrupt JPEG restored and saved\n",
            "\u001b[34m\u001b[1mtrain: \u001b[0mWARNING ⚠️ /content/drive/MyDrive/SuperAI/Project/GDA/GDA-OBB/images/train/0009.jpg: corrupt JPEG restored and saved\n",
            "\u001b[34m\u001b[1mtrain: \u001b[0mWARNING ⚠️ /content/drive/MyDrive/SuperAI/Project/GDA/GDA-OBB/images/train/0010.jpg: corrupt JPEG restored and saved\n",
            "\u001b[34m\u001b[1mtrain: \u001b[0mWARNING ⚠️ /content/drive/MyDrive/SuperAI/Project/GDA/GDA-OBB/images/train/0011.jpg: corrupt JPEG restored and saved\n",
            "\u001b[34m\u001b[1mtrain: \u001b[0mWARNING ⚠️ /content/drive/MyDrive/SuperAI/Project/GDA/GDA-OBB/images/train/0015.jpg: corrupt JPEG restored and saved\n",
            "\u001b[34m\u001b[1mtrain: \u001b[0mWARNING ⚠️ /content/drive/MyDrive/SuperAI/Project/GDA/GDA-OBB/images/train/0016.jpg: corrupt JPEG restored and saved\n",
            "\u001b[34m\u001b[1mtrain: \u001b[0mWARNING ⚠️ /content/drive/MyDrive/SuperAI/Project/GDA/GDA-OBB/images/train/0017.jpg: corrupt JPEG restored and saved\n",
            "\u001b[34m\u001b[1mtrain: \u001b[0mWARNING ⚠️ /content/drive/MyDrive/SuperAI/Project/GDA/GDA-OBB/images/train/0018.jpg: corrupt JPEG restored and saved\n",
            "\u001b[34m\u001b[1mtrain: \u001b[0mWARNING ⚠️ /content/drive/MyDrive/SuperAI/Project/GDA/GDA-OBB/images/train/0020.jpg: corrupt JPEG restored and saved\n",
            "\u001b[34m\u001b[1mtrain: \u001b[0mWARNING ⚠️ /content/drive/MyDrive/SuperAI/Project/GDA/GDA-OBB/images/train/0021.jpg: corrupt JPEG restored and saved\n",
            "\u001b[34m\u001b[1mtrain: \u001b[0mWARNING ⚠️ /content/drive/MyDrive/SuperAI/Project/GDA/GDA-OBB/images/train/0022.jpg: corrupt JPEG restored and saved\n",
            "\u001b[34m\u001b[1mtrain: \u001b[0mWARNING ⚠️ /content/drive/MyDrive/SuperAI/Project/GDA/GDA-OBB/images/train/0023.jpg: corrupt JPEG restored and saved\n",
            "\u001b[34m\u001b[1mtrain: \u001b[0mWARNING ⚠️ /content/drive/MyDrive/SuperAI/Project/GDA/GDA-OBB/images/train/0024.jpg: corrupt JPEG restored and saved\n",
            "\u001b[34m\u001b[1mtrain: \u001b[0mWARNING ⚠️ /content/drive/MyDrive/SuperAI/Project/GDA/GDA-OBB/images/train/0025.jpg: corrupt JPEG restored and saved\n",
            "\u001b[34m\u001b[1mtrain: \u001b[0mWARNING ⚠️ /content/drive/MyDrive/SuperAI/Project/GDA/GDA-OBB/images/train/0026.jpg: corrupt JPEG restored and saved\n",
            "\u001b[34m\u001b[1mtrain: \u001b[0mWARNING ⚠️ /content/drive/MyDrive/SuperAI/Project/GDA/GDA-OBB/images/train/0030.jpg: corrupt JPEG restored and saved\n",
            "\u001b[34m\u001b[1mtrain: \u001b[0mWARNING ⚠️ /content/drive/MyDrive/SuperAI/Project/GDA/GDA-OBB/images/train/0031.jpg: corrupt JPEG restored and saved\n",
            "\u001b[34m\u001b[1mtrain: \u001b[0mWARNING ⚠️ /content/drive/MyDrive/SuperAI/Project/GDA/GDA-OBB/images/train/0032.jpg: corrupt JPEG restored and saved\n",
            "\u001b[34m\u001b[1mtrain: \u001b[0mWARNING ⚠️ /content/drive/MyDrive/SuperAI/Project/GDA/GDA-OBB/images/train/0036.jpg: corrupt JPEG restored and saved\n",
            "\u001b[34m\u001b[1mtrain: \u001b[0mWARNING ⚠️ /content/drive/MyDrive/SuperAI/Project/GDA/GDA-OBB/images/train/0037.jpg: corrupt JPEG restored and saved\n",
            "\u001b[34m\u001b[1mtrain: \u001b[0mWARNING ⚠️ /content/drive/MyDrive/SuperAI/Project/GDA/GDA-OBB/images/train/0040.jpg: corrupt JPEG restored and saved\n",
            "\u001b[34m\u001b[1mtrain: \u001b[0mWARNING ⚠️ /content/drive/MyDrive/SuperAI/Project/GDA/GDA-OBB/images/train/0043.jpg: corrupt JPEG restored and saved\n",
            "\u001b[34m\u001b[1mtrain: \u001b[0mWARNING ⚠️ /content/drive/MyDrive/SuperAI/Project/GDA/GDA-OBB/images/train/0047.jpg: corrupt JPEG restored and saved\n",
            "\u001b[34m\u001b[1mtrain: \u001b[0mWARNING ⚠️ /content/drive/MyDrive/SuperAI/Project/GDA/GDA-OBB/images/train/0048.jpg: corrupt JPEG restored and saved\n",
            "\u001b[34m\u001b[1mtrain: \u001b[0mWARNING ⚠️ /content/drive/MyDrive/SuperAI/Project/GDA/GDA-OBB/images/train/0054.jpg: corrupt JPEG restored and saved\n",
            "\u001b[34m\u001b[1mtrain: \u001b[0mWARNING ⚠️ /content/drive/MyDrive/SuperAI/Project/GDA/GDA-OBB/images/train/0056.jpg: corrupt JPEG restored and saved\n",
            "\u001b[34m\u001b[1mtrain: \u001b[0mWARNING ⚠️ /content/drive/MyDrive/SuperAI/Project/GDA/GDA-OBB/images/train/0058.jpg: corrupt JPEG restored and saved\n",
            "\u001b[34m\u001b[1mtrain: \u001b[0mWARNING ⚠️ /content/drive/MyDrive/SuperAI/Project/GDA/GDA-OBB/images/train/0059.jpg: corrupt JPEG restored and saved\n",
            "\u001b[34m\u001b[1mtrain: \u001b[0mWARNING ⚠️ /content/drive/MyDrive/SuperAI/Project/GDA/GDA-OBB/images/train/0060.jpg: corrupt JPEG restored and saved\n",
            "\u001b[34m\u001b[1mtrain: \u001b[0mWARNING ⚠️ /content/drive/MyDrive/SuperAI/Project/GDA/GDA-OBB/images/train/0063.jpg: corrupt JPEG restored and saved\n",
            "\u001b[34m\u001b[1mtrain: \u001b[0mWARNING ⚠️ /content/drive/MyDrive/SuperAI/Project/GDA/GDA-OBB/images/train/0065.jpg: corrupt JPEG restored and saved\n",
            "\u001b[34m\u001b[1mtrain: \u001b[0mWARNING ⚠️ /content/drive/MyDrive/SuperAI/Project/GDA/GDA-OBB/images/train/0071.jpg: corrupt JPEG restored and saved\n",
            "\u001b[34m\u001b[1mtrain: \u001b[0mWARNING ⚠️ /content/drive/MyDrive/SuperAI/Project/GDA/GDA-OBB/images/train/0073.jpg: corrupt JPEG restored and saved\n",
            "\u001b[34m\u001b[1mtrain: \u001b[0mWARNING ⚠️ /content/drive/MyDrive/SuperAI/Project/GDA/GDA-OBB/images/train/0075.jpg: corrupt JPEG restored and saved\n",
            "\u001b[34m\u001b[1mtrain: \u001b[0mWARNING ⚠️ /content/drive/MyDrive/SuperAI/Project/GDA/GDA-OBB/images/train/0078.jpg: corrupt JPEG restored and saved\n",
            "\u001b[34m\u001b[1mtrain: \u001b[0mWARNING ⚠️ /content/drive/MyDrive/SuperAI/Project/GDA/GDA-OBB/images/train/0081.jpg: corrupt JPEG restored and saved\n",
            "\u001b[34m\u001b[1mtrain: \u001b[0mWARNING ⚠️ /content/drive/MyDrive/SuperAI/Project/GDA/GDA-OBB/images/train/0082.jpg: corrupt JPEG restored and saved\n",
            "\u001b[34m\u001b[1mtrain: \u001b[0mWARNING ⚠️ /content/drive/MyDrive/SuperAI/Project/GDA/GDA-OBB/images/train/0083.jpg: corrupt JPEG restored and saved\n",
            "\u001b[34m\u001b[1mtrain: \u001b[0mWARNING ⚠️ /content/drive/MyDrive/SuperAI/Project/GDA/GDA-OBB/images/train/0084.jpg: corrupt JPEG restored and saved\n",
            "\u001b[34m\u001b[1mtrain: \u001b[0mWARNING ⚠️ /content/drive/MyDrive/SuperAI/Project/GDA/GDA-OBB/images/train/0085.jpg: corrupt JPEG restored and saved\n",
            "\u001b[34m\u001b[1mtrain: \u001b[0mWARNING ⚠️ /content/drive/MyDrive/SuperAI/Project/GDA/GDA-OBB/images/train/0086.jpg: corrupt JPEG restored and saved\n",
            "\u001b[34m\u001b[1mtrain: \u001b[0mWARNING ⚠️ /content/drive/MyDrive/SuperAI/Project/GDA/GDA-OBB/images/train/0102.jpg: corrupt JPEG restored and saved\n",
            "\u001b[34m\u001b[1mtrain: \u001b[0mWARNING ⚠️ /content/drive/MyDrive/SuperAI/Project/GDA/GDA-OBB/images/train/0104.jpg: corrupt JPEG restored and saved\n",
            "\u001b[34m\u001b[1mtrain: \u001b[0mWARNING ⚠️ /content/drive/MyDrive/SuperAI/Project/GDA/GDA-OBB/images/train/0106.jpg: corrupt JPEG restored and saved\n",
            "\u001b[34m\u001b[1mtrain: \u001b[0mWARNING ⚠️ /content/drive/MyDrive/SuperAI/Project/GDA/GDA-OBB/images/train/0107.jpg: corrupt JPEG restored and saved\n",
            "\u001b[34m\u001b[1mtrain: \u001b[0mWARNING ⚠️ /content/drive/MyDrive/SuperAI/Project/GDA/GDA-OBB/images/train/0109.jpg: corrupt JPEG restored and saved\n",
            "\u001b[34m\u001b[1mtrain: \u001b[0mWARNING ⚠️ /content/drive/MyDrive/SuperAI/Project/GDA/GDA-OBB/images/train/0110.jpg: corrupt JPEG restored and saved\n",
            "\u001b[34m\u001b[1mtrain: \u001b[0mWARNING ⚠️ /content/drive/MyDrive/SuperAI/Project/GDA/GDA-OBB/images/train/0111.jpg: corrupt JPEG restored and saved\n",
            "\u001b[34m\u001b[1mtrain: \u001b[0mWARNING ⚠️ /content/drive/MyDrive/SuperAI/Project/GDA/GDA-OBB/images/train/0112.jpg: corrupt JPEG restored and saved\n",
            "\u001b[34m\u001b[1mtrain: \u001b[0mWARNING ⚠️ /content/drive/MyDrive/SuperAI/Project/GDA/GDA-OBB/images/train/0113.jpg: corrupt JPEG restored and saved\n",
            "\u001b[34m\u001b[1mtrain: \u001b[0mWARNING ⚠️ /content/drive/MyDrive/SuperAI/Project/GDA/GDA-OBB/images/train/0115.jpg: corrupt JPEG restored and saved\n",
            "\u001b[34m\u001b[1mtrain: \u001b[0mWARNING ⚠️ /content/drive/MyDrive/SuperAI/Project/GDA/GDA-OBB/images/train/0116.jpg: corrupt JPEG restored and saved\n",
            "\u001b[34m\u001b[1mtrain: \u001b[0mWARNING ⚠️ /content/drive/MyDrive/SuperAI/Project/GDA/GDA-OBB/images/train/0118.jpg: corrupt JPEG restored and saved\n",
            "\u001b[34m\u001b[1mtrain: \u001b[0mWARNING ⚠️ /content/drive/MyDrive/SuperAI/Project/GDA/GDA-OBB/images/train/0119.jpg: corrupt JPEG restored and saved\n",
            "\u001b[34m\u001b[1mtrain: \u001b[0mWARNING ⚠️ /content/drive/MyDrive/SuperAI/Project/GDA/GDA-OBB/images/train/0120.jpg: corrupt JPEG restored and saved\n",
            "\u001b[34m\u001b[1mtrain: \u001b[0mWARNING ⚠️ /content/drive/MyDrive/SuperAI/Project/GDA/GDA-OBB/images/train/0121.jpg: corrupt JPEG restored and saved\n",
            "\u001b[34m\u001b[1mtrain: \u001b[0mWARNING ⚠️ /content/drive/MyDrive/SuperAI/Project/GDA/GDA-OBB/images/train/0122.jpg: corrupt JPEG restored and saved\n",
            "\u001b[34m\u001b[1mtrain: \u001b[0mWARNING ⚠️ /content/drive/MyDrive/SuperAI/Project/GDA/GDA-OBB/images/train/0127.jpg: corrupt JPEG restored and saved\n",
            "\u001b[34m\u001b[1mtrain: \u001b[0mWARNING ⚠️ /content/drive/MyDrive/SuperAI/Project/GDA/GDA-OBB/images/train/0131.jpg: corrupt JPEG restored and saved\n",
            "\u001b[34m\u001b[1mtrain: \u001b[0mWARNING ⚠️ /content/drive/MyDrive/SuperAI/Project/GDA/GDA-OBB/images/train/0133.jpg: corrupt JPEG restored and saved\n",
            "\u001b[34m\u001b[1mtrain: \u001b[0mNew cache created: /content/drive/MyDrive/SuperAI/Project/GDA/GDA-OBB/labels/train.cache\n"
          ]
        },
        {
          "output_type": "stream",
          "name": "stderr",
          "text": [
            "\n"
          ]
        },
        {
          "output_type": "stream",
          "name": "stdout",
          "text": [
            "\u001b[34m\u001b[1malbumentations: \u001b[0mBlur(p=0.01, blur_limit=(3, 7)), MedianBlur(p=0.01, blur_limit=(3, 7)), ToGray(p=0.01), CLAHE(p=0.01, clip_limit=(1, 4.0), tile_grid_size=(8, 8))\n"
          ]
        },
        {
          "output_type": "stream",
          "name": "stderr",
          "text": [
            "\u001b[34m\u001b[1mval: \u001b[0mScanning /content/drive/MyDrive/SuperAI/Project/GDA/GDA-OBB/labels/val... 3 images, 15 backgrounds, 0 corrupt: 100%|██████████| 18/18 [00:15<00:00,  1.19it/s]"
          ]
        },
        {
          "output_type": "stream",
          "name": "stdout",
          "text": [
            "\u001b[34m\u001b[1mval: \u001b[0mWARNING ⚠️ /content/drive/MyDrive/SuperAI/Project/GDA/GDA-OBB/images/val/0003.jpg: corrupt JPEG restored and saved\n",
            "\u001b[34m\u001b[1mval: \u001b[0mWARNING ⚠️ /content/drive/MyDrive/SuperAI/Project/GDA/GDA-OBB/images/val/0029.jpg: corrupt JPEG restored and saved\n",
            "\u001b[34m\u001b[1mval: \u001b[0mWARNING ⚠️ /content/drive/MyDrive/SuperAI/Project/GDA/GDA-OBB/images/val/0034.jpg: corrupt JPEG restored and saved\n",
            "\u001b[34m\u001b[1mval: \u001b[0mWARNING ⚠️ /content/drive/MyDrive/SuperAI/Project/GDA/GDA-OBB/images/val/0038.jpg: corrupt JPEG restored and saved\n",
            "\u001b[34m\u001b[1mval: \u001b[0mWARNING ⚠️ /content/drive/MyDrive/SuperAI/Project/GDA/GDA-OBB/images/val/0050.jpg: corrupt JPEG restored and saved\n",
            "\u001b[34m\u001b[1mval: \u001b[0mWARNING ⚠️ /content/drive/MyDrive/SuperAI/Project/GDA/GDA-OBB/images/val/0052.jpg: corrupt JPEG restored and saved\n",
            "\u001b[34m\u001b[1mval: \u001b[0mWARNING ⚠️ /content/drive/MyDrive/SuperAI/Project/GDA/GDA-OBB/images/val/0062.jpg: corrupt JPEG restored and saved\n",
            "\u001b[34m\u001b[1mval: \u001b[0mWARNING ⚠️ /content/drive/MyDrive/SuperAI/Project/GDA/GDA-OBB/images/val/0067.jpg: corrupt JPEG restored and saved\n",
            "\u001b[34m\u001b[1mval: \u001b[0mWARNING ⚠️ /content/drive/MyDrive/SuperAI/Project/GDA/GDA-OBB/images/val/0069.jpg: corrupt JPEG restored and saved\n",
            "\u001b[34m\u001b[1mval: \u001b[0mWARNING ⚠️ /content/drive/MyDrive/SuperAI/Project/GDA/GDA-OBB/images/val/0077.jpg: corrupt JPEG restored and saved\n",
            "\u001b[34m\u001b[1mval: \u001b[0mWARNING ⚠️ /content/drive/MyDrive/SuperAI/Project/GDA/GDA-OBB/images/val/0080.jpg: corrupt JPEG restored and saved\n",
            "\u001b[34m\u001b[1mval: \u001b[0mWARNING ⚠️ /content/drive/MyDrive/SuperAI/Project/GDA/GDA-OBB/images/val/0108.jpg: corrupt JPEG restored and saved\n",
            "\u001b[34m\u001b[1mval: \u001b[0mWARNING ⚠️ /content/drive/MyDrive/SuperAI/Project/GDA/GDA-OBB/images/val/0114.jpg: corrupt JPEG restored and saved\n",
            "\u001b[34m\u001b[1mval: \u001b[0mWARNING ⚠️ /content/drive/MyDrive/SuperAI/Project/GDA/GDA-OBB/images/val/0117.jpg: corrupt JPEG restored and saved\n",
            "\u001b[34m\u001b[1mval: \u001b[0mWARNING ⚠️ /content/drive/MyDrive/SuperAI/Project/GDA/GDA-OBB/images/val/0125.jpg: corrupt JPEG restored and saved\n",
            "\u001b[34m\u001b[1mval: \u001b[0mWARNING ⚠️ /content/drive/MyDrive/SuperAI/Project/GDA/GDA-OBB/images/val/0129.jpg: corrupt JPEG restored and saved\n",
            "\u001b[34m\u001b[1mval: \u001b[0mNew cache created: /content/drive/MyDrive/SuperAI/Project/GDA/GDA-OBB/labels/val.cache\n"
          ]
        },
        {
          "output_type": "stream",
          "name": "stderr",
          "text": [
            "\n"
          ]
        },
        {
          "output_type": "stream",
          "name": "stdout",
          "text": [
            "Plotting labels to runs/obb/train/labels.jpg... \n",
            "\u001b[34m\u001b[1moptimizer:\u001b[0m 'optimizer=auto' found, ignoring 'lr0=0.01' and 'momentum=0.937' and determining best 'optimizer', 'lr0' and 'momentum' automatically... \n",
            "\u001b[34m\u001b[1moptimizer:\u001b[0m AdamW(lr=0.00125, momentum=0.9) with parameter groups 63 weight(decay=0.0), 73 weight(decay=0.0005), 72 bias(decay=0.0)\n",
            "\u001b[34m\u001b[1mTensorBoard: \u001b[0mmodel graph visualization added ✅\n",
            "Image sizes 1600 train, 1600 val\n",
            "Using 2 dataloader workers\n",
            "Logging results to \u001b[1mruns/obb/train\u001b[0m\n",
            "Starting training for 200 epochs...\n",
            "\n",
            "      Epoch    GPU_mem   box_loss   cls_loss   dfl_loss  Instances       Size\n"
          ]
        },
        {
          "output_type": "stream",
          "name": "stderr",
          "text": [
            "      1/200      15.1G      2.777      6.141      4.703         61       1600: 100%|██████████| 5/5 [00:26<00:00,  5.39s/it]\n",
            "                 Class     Images  Instances      Box(P          R      mAP50  mAP50-95):   0%|          | 0/2 [00:00<?, ?it/s]"
          ]
        },
        {
          "output_type": "stream",
          "name": "stdout",
          "text": [
            "WARNING ⚠️ NMS time limit 2.800s exceeded\n"
          ]
        },
        {
          "output_type": "stream",
          "name": "stderr",
          "text": [
            "                 Class     Images  Instances      Box(P          R      mAP50  mAP50-95): 100%|██████████| 2/2 [00:05<00:00,  2.62s/it]"
          ]
        },
        {
          "output_type": "stream",
          "name": "stdout",
          "text": [
            "                   all         18         12          0          0          0          0\n"
          ]
        },
        {
          "output_type": "stream",
          "name": "stderr",
          "text": [
            "\n"
          ]
        },
        {
          "output_type": "stream",
          "name": "stdout",
          "text": [
            "\n",
            "      Epoch    GPU_mem   box_loss   cls_loss   dfl_loss  Instances       Size\n"
          ]
        },
        {
          "output_type": "stream",
          "name": "stderr",
          "text": [
            "      2/200      13.8G      2.445      6.409       4.57         36       1600: 100%|██████████| 5/5 [00:14<00:00,  2.95s/it]\n",
            "                 Class     Images  Instances      Box(P          R      mAP50  mAP50-95):   0%|          | 0/2 [00:00<?, ?it/s]"
          ]
        },
        {
          "output_type": "stream",
          "name": "stdout",
          "text": [
            "WARNING ⚠️ NMS time limit 2.800s exceeded\n"
          ]
        },
        {
          "output_type": "stream",
          "name": "stderr",
          "text": [
            "                 Class     Images  Instances      Box(P          R      mAP50  mAP50-95): 100%|██████████| 2/2 [00:03<00:00,  1.75s/it]"
          ]
        },
        {
          "output_type": "stream",
          "name": "stdout",
          "text": [
            "                   all         18         12          0          0          0          0\n"
          ]
        },
        {
          "output_type": "stream",
          "name": "stderr",
          "text": [
            "\n"
          ]
        },
        {
          "output_type": "stream",
          "name": "stdout",
          "text": [
            "\n",
            "      Epoch    GPU_mem   box_loss   cls_loss   dfl_loss  Instances       Size\n"
          ]
        },
        {
          "output_type": "stream",
          "name": "stderr",
          "text": [
            "      3/200      13.9G      2.349      6.224      4.383         23       1600: 100%|██████████| 5/5 [00:14<00:00,  2.90s/it]\n",
            "                 Class     Images  Instances      Box(P          R      mAP50  mAP50-95):   0%|          | 0/2 [00:00<?, ?it/s]"
          ]
        },
        {
          "output_type": "stream",
          "name": "stdout",
          "text": [
            "WARNING ⚠️ NMS time limit 2.800s exceeded\n"
          ]
        },
        {
          "output_type": "stream",
          "name": "stderr",
          "text": [
            "                 Class     Images  Instances      Box(P          R      mAP50  mAP50-95): 100%|██████████| 2/2 [00:03<00:00,  1.73s/it]"
          ]
        },
        {
          "output_type": "stream",
          "name": "stdout",
          "text": [
            "                   all         18         12          0          0          0          0\n"
          ]
        },
        {
          "output_type": "stream",
          "name": "stderr",
          "text": [
            "\n"
          ]
        },
        {
          "output_type": "stream",
          "name": "stdout",
          "text": [
            "\n",
            "      Epoch    GPU_mem   box_loss   cls_loss   dfl_loss  Instances       Size\n"
          ]
        },
        {
          "output_type": "stream",
          "name": "stderr",
          "text": [
            "      4/200      13.7G      2.498      5.729      4.198         53       1600: 100%|██████████| 5/5 [00:06<00:00,  1.40s/it]\n",
            "                 Class     Images  Instances      Box(P          R      mAP50  mAP50-95):   0%|          | 0/2 [00:00<?, ?it/s]"
          ]
        },
        {
          "output_type": "stream",
          "name": "stdout",
          "text": [
            "WARNING ⚠️ NMS time limit 2.800s exceeded\n"
          ]
        },
        {
          "output_type": "stream",
          "name": "stderr",
          "text": [
            "                 Class     Images  Instances      Box(P          R      mAP50  mAP50-95): 100%|██████████| 2/2 [00:03<00:00,  1.88s/it]"
          ]
        },
        {
          "output_type": "stream",
          "name": "stdout",
          "text": [
            "                   all         18         12          0          0          0          0\n"
          ]
        },
        {
          "output_type": "stream",
          "name": "stderr",
          "text": [
            "\n"
          ]
        },
        {
          "output_type": "stream",
          "name": "stdout",
          "text": [
            "\n",
            "      Epoch    GPU_mem   box_loss   cls_loss   dfl_loss  Instances       Size\n"
          ]
        },
        {
          "output_type": "stream",
          "name": "stderr",
          "text": [
            "      5/200      13.9G      2.688      5.921      4.244         48       1600: 100%|██████████| 5/5 [00:06<00:00,  1.20s/it]\n",
            "                 Class     Images  Instances      Box(P          R      mAP50  mAP50-95):   0%|          | 0/2 [00:00<?, ?it/s]"
          ]
        },
        {
          "output_type": "stream",
          "name": "stdout",
          "text": [
            "WARNING ⚠️ NMS time limit 2.800s exceeded\n"
          ]
        },
        {
          "output_type": "stream",
          "name": "stderr",
          "text": [
            "                 Class     Images  Instances      Box(P          R      mAP50  mAP50-95): 100%|██████████| 2/2 [00:03<00:00,  1.75s/it]"
          ]
        },
        {
          "output_type": "stream",
          "name": "stdout",
          "text": [
            "                   all         18         12          0          0          0          0\n"
          ]
        },
        {
          "output_type": "stream",
          "name": "stderr",
          "text": [
            "\n"
          ]
        },
        {
          "output_type": "stream",
          "name": "stdout",
          "text": [
            "\n",
            "      Epoch    GPU_mem   box_loss   cls_loss   dfl_loss  Instances       Size\n"
          ]
        },
        {
          "output_type": "stream",
          "name": "stderr",
          "text": [
            "      6/200      13.8G      2.554      5.559      4.175         46       1600: 100%|██████████| 5/5 [00:05<00:00,  1.00s/it]\n",
            "                 Class     Images  Instances      Box(P          R      mAP50  mAP50-95):   0%|          | 0/2 [00:00<?, ?it/s]"
          ]
        },
        {
          "output_type": "stream",
          "name": "stdout",
          "text": [
            "WARNING ⚠️ NMS time limit 2.800s exceeded\n"
          ]
        },
        {
          "output_type": "stream",
          "name": "stderr",
          "text": [
            "                 Class     Images  Instances      Box(P          R      mAP50  mAP50-95): 100%|██████████| 2/2 [00:05<00:00,  2.64s/it]"
          ]
        },
        {
          "output_type": "stream",
          "name": "stdout",
          "text": [
            "                   all         18         12          0          0          0          0\n"
          ]
        },
        {
          "output_type": "stream",
          "name": "stderr",
          "text": [
            "\n"
          ]
        },
        {
          "output_type": "stream",
          "name": "stdout",
          "text": [
            "\n",
            "      Epoch    GPU_mem   box_loss   cls_loss   dfl_loss  Instances       Size\n"
          ]
        },
        {
          "output_type": "stream",
          "name": "stderr",
          "text": [
            "      7/200      13.9G      2.405      5.614      4.092         46       1600: 100%|██████████| 5/5 [00:04<00:00,  1.04it/s]\n",
            "                 Class     Images  Instances      Box(P          R      mAP50  mAP50-95):   0%|          | 0/2 [00:00<?, ?it/s]"
          ]
        },
        {
          "output_type": "stream",
          "name": "stdout",
          "text": [
            "WARNING ⚠️ NMS time limit 2.800s exceeded\n"
          ]
        },
        {
          "output_type": "stream",
          "name": "stderr",
          "text": [
            "                 Class     Images  Instances      Box(P          R      mAP50  mAP50-95): 100%|██████████| 2/2 [00:13<00:00,  6.56s/it]"
          ]
        },
        {
          "output_type": "stream",
          "name": "stdout",
          "text": [
            "                   all         18         12          0          0          0          0\n"
          ]
        },
        {
          "output_type": "stream",
          "name": "stderr",
          "text": [
            "\n"
          ]
        },
        {
          "output_type": "stream",
          "name": "stdout",
          "text": [
            "\n",
            "      Epoch    GPU_mem   box_loss   cls_loss   dfl_loss  Instances       Size\n"
          ]
        },
        {
          "output_type": "stream",
          "name": "stderr",
          "text": [
            "      8/200      13.8G       2.28      5.565      4.025         36       1600: 100%|██████████| 5/5 [00:04<00:00,  1.14it/s]\n",
            "                 Class     Images  Instances      Box(P          R      mAP50  mAP50-95):   0%|          | 0/2 [00:00<?, ?it/s]"
          ]
        },
        {
          "output_type": "stream",
          "name": "stdout",
          "text": [
            "WARNING ⚠️ NMS time limit 2.800s exceeded\n"
          ]
        },
        {
          "output_type": "stream",
          "name": "stderr",
          "text": [
            "                 Class     Images  Instances      Box(P          R      mAP50  mAP50-95): 100%|██████████| 2/2 [00:09<00:00,  4.55s/it]"
          ]
        },
        {
          "output_type": "stream",
          "name": "stdout",
          "text": [
            "                   all         18         12          0          0          0          0\n"
          ]
        },
        {
          "output_type": "stream",
          "name": "stderr",
          "text": [
            "\n"
          ]
        },
        {
          "output_type": "stream",
          "name": "stdout",
          "text": [
            "\n",
            "      Epoch    GPU_mem   box_loss   cls_loss   dfl_loss  Instances       Size\n"
          ]
        },
        {
          "output_type": "stream",
          "name": "stderr",
          "text": [
            "      9/200      13.8G      2.048      5.422      3.984         52       1600: 100%|██████████| 5/5 [00:04<00:00,  1.20it/s]\n",
            "                 Class     Images  Instances      Box(P          R      mAP50  mAP50-95):   0%|          | 0/2 [00:00<?, ?it/s]"
          ]
        },
        {
          "output_type": "stream",
          "name": "stdout",
          "text": [
            "WARNING ⚠️ NMS time limit 2.800s exceeded\n"
          ]
        },
        {
          "output_type": "stream",
          "name": "stderr",
          "text": [
            "                 Class     Images  Instances      Box(P          R      mAP50  mAP50-95): 100%|██████████| 2/2 [00:12<00:00,  6.21s/it]"
          ]
        },
        {
          "output_type": "stream",
          "name": "stdout",
          "text": [
            "                   all         18         12          0          0          0          0\n"
          ]
        },
        {
          "output_type": "stream",
          "name": "stderr",
          "text": [
            "\n"
          ]
        },
        {
          "output_type": "stream",
          "name": "stdout",
          "text": [
            "\n",
            "      Epoch    GPU_mem   box_loss   cls_loss   dfl_loss  Instances       Size\n"
          ]
        },
        {
          "output_type": "stream",
          "name": "stderr",
          "text": [
            "     10/200      13.9G      2.252      4.927      3.893         38       1600: 100%|██████████| 5/5 [00:04<00:00,  1.17it/s]\n",
            "                 Class     Images  Instances      Box(P          R      mAP50  mAP50-95):   0%|          | 0/2 [00:00<?, ?it/s]"
          ]
        },
        {
          "output_type": "stream",
          "name": "stdout",
          "text": [
            "WARNING ⚠️ NMS time limit 2.800s exceeded\n"
          ]
        },
        {
          "output_type": "stream",
          "name": "stderr",
          "text": [
            "                 Class     Images  Instances      Box(P          R      mAP50  mAP50-95): 100%|██████████| 2/2 [00:10<00:00,  5.37s/it]\n"
          ]
        },
        {
          "output_type": "stream",
          "name": "stdout",
          "text": [
            "                   all         18         12          0          0          0          0\n",
            "\n",
            "      Epoch    GPU_mem   box_loss   cls_loss   dfl_loss  Instances       Size\n"
          ]
        },
        {
          "output_type": "stream",
          "name": "stderr",
          "text": [
            "     11/200      13.8G      2.137      4.767       3.77         51       1600: 100%|██████████| 5/5 [00:04<00:00,  1.12it/s]\n",
            "                 Class     Images  Instances      Box(P          R      mAP50  mAP50-95):   0%|          | 0/2 [00:00<?, ?it/s]"
          ]
        },
        {
          "output_type": "stream",
          "name": "stdout",
          "text": [
            "WARNING ⚠️ NMS time limit 2.800s exceeded\n"
          ]
        },
        {
          "output_type": "stream",
          "name": "stderr",
          "text": [
            "                 Class     Images  Instances      Box(P          R      mAP50  mAP50-95): 100%|██████████| 2/2 [00:12<00:00,  6.22s/it]"
          ]
        },
        {
          "output_type": "stream",
          "name": "stdout",
          "text": [
            "                   all         18         12          0          0          0          0\n"
          ]
        },
        {
          "output_type": "stream",
          "name": "stderr",
          "text": [
            "\n"
          ]
        },
        {
          "output_type": "stream",
          "name": "stdout",
          "text": [
            "\n",
            "      Epoch    GPU_mem   box_loss   cls_loss   dfl_loss  Instances       Size\n"
          ]
        },
        {
          "output_type": "stream",
          "name": "stderr",
          "text": [
            "     12/200      13.8G      2.079      5.055      3.762         40       1600: 100%|██████████| 5/5 [00:04<00:00,  1.22it/s]\n",
            "                 Class     Images  Instances      Box(P          R      mAP50  mAP50-95):   0%|          | 0/2 [00:00<?, ?it/s]"
          ]
        },
        {
          "output_type": "stream",
          "name": "stdout",
          "text": [
            "WARNING ⚠️ NMS time limit 2.800s exceeded\n"
          ]
        },
        {
          "output_type": "stream",
          "name": "stderr",
          "text": [
            "                 Class     Images  Instances      Box(P          R      mAP50  mAP50-95): 100%|██████████| 2/2 [00:12<00:00,  6.35s/it]"
          ]
        },
        {
          "output_type": "stream",
          "name": "stdout",
          "text": [
            "                   all         18         12          0          0          0          0\n"
          ]
        },
        {
          "output_type": "stream",
          "name": "stderr",
          "text": [
            "\n"
          ]
        },
        {
          "output_type": "stream",
          "name": "stdout",
          "text": [
            "\n",
            "      Epoch    GPU_mem   box_loss   cls_loss   dfl_loss  Instances       Size\n"
          ]
        },
        {
          "output_type": "stream",
          "name": "stderr",
          "text": [
            "     13/200      13.9G      2.072       4.42      3.591         47       1600: 100%|██████████| 5/5 [00:05<00:00,  1.02s/it]\n",
            "                 Class     Images  Instances      Box(P          R      mAP50  mAP50-95):   0%|          | 0/2 [00:00<?, ?it/s]"
          ]
        },
        {
          "output_type": "stream",
          "name": "stdout",
          "text": [
            "WARNING ⚠️ NMS time limit 2.800s exceeded\n"
          ]
        },
        {
          "output_type": "stream",
          "name": "stderr",
          "text": [
            "                 Class     Images  Instances      Box(P          R      mAP50  mAP50-95): 100%|██████████| 2/2 [00:14<00:00,  7.06s/it]"
          ]
        },
        {
          "output_type": "stream",
          "name": "stdout",
          "text": [
            "                   all         18         12          0          0          0          0\n"
          ]
        },
        {
          "output_type": "stream",
          "name": "stderr",
          "text": [
            "\n"
          ]
        },
        {
          "output_type": "stream",
          "name": "stdout",
          "text": [
            "\n",
            "      Epoch    GPU_mem   box_loss   cls_loss   dfl_loss  Instances       Size\n"
          ]
        },
        {
          "output_type": "stream",
          "name": "stderr",
          "text": [
            "     14/200      13.9G      2.061      4.462      3.578         36       1600: 100%|██████████| 5/5 [00:04<00:00,  1.15it/s]\n",
            "                 Class     Images  Instances      Box(P          R      mAP50  mAP50-95):   0%|          | 0/2 [00:00<?, ?it/s]"
          ]
        },
        {
          "output_type": "stream",
          "name": "stdout",
          "text": [
            "WARNING ⚠️ NMS time limit 2.800s exceeded\n"
          ]
        },
        {
          "output_type": "stream",
          "name": "stderr",
          "text": [
            "                 Class     Images  Instances      Box(P          R      mAP50  mAP50-95): 100%|██████████| 2/2 [00:09<00:00,  4.77s/it]"
          ]
        },
        {
          "output_type": "stream",
          "name": "stdout",
          "text": [
            "                   all         18         12          0          0          0          0\n"
          ]
        },
        {
          "output_type": "stream",
          "name": "stderr",
          "text": [
            "\n"
          ]
        },
        {
          "output_type": "stream",
          "name": "stdout",
          "text": [
            "\n",
            "      Epoch    GPU_mem   box_loss   cls_loss   dfl_loss  Instances       Size\n"
          ]
        },
        {
          "output_type": "stream",
          "name": "stderr",
          "text": [
            "     15/200      13.9G      1.951      4.769       3.59         28       1600: 100%|██████████| 5/5 [00:04<00:00,  1.06it/s]\n",
            "                 Class     Images  Instances      Box(P          R      mAP50  mAP50-95):   0%|          | 0/2 [00:00<?, ?it/s]"
          ]
        },
        {
          "output_type": "stream",
          "name": "stdout",
          "text": [
            "WARNING ⚠️ NMS time limit 2.800s exceeded\n"
          ]
        },
        {
          "output_type": "stream",
          "name": "stderr",
          "text": [
            "                 Class     Images  Instances      Box(P          R      mAP50  mAP50-95): 100%|██████████| 2/2 [00:09<00:00,  4.63s/it]"
          ]
        },
        {
          "output_type": "stream",
          "name": "stdout",
          "text": [
            "                   all         18         12          0          0          0          0\n"
          ]
        },
        {
          "output_type": "stream",
          "name": "stderr",
          "text": [
            "\n"
          ]
        },
        {
          "output_type": "stream",
          "name": "stdout",
          "text": [
            "\n",
            "      Epoch    GPU_mem   box_loss   cls_loss   dfl_loss  Instances       Size\n"
          ]
        },
        {
          "output_type": "stream",
          "name": "stderr",
          "text": [
            "     16/200      13.9G      1.918      4.211      3.337         65       1600: 100%|██████████| 5/5 [00:04<00:00,  1.24it/s]\n",
            "                 Class     Images  Instances      Box(P          R      mAP50  mAP50-95):   0%|          | 0/2 [00:00<?, ?it/s]"
          ]
        },
        {
          "output_type": "stream",
          "name": "stdout",
          "text": [
            "WARNING ⚠️ NMS time limit 2.800s exceeded\n"
          ]
        },
        {
          "output_type": "stream",
          "name": "stderr",
          "text": [
            "                 Class     Images  Instances      Box(P          R      mAP50  mAP50-95): 100%|██████████| 2/2 [00:09<00:00,  4.81s/it]"
          ]
        },
        {
          "output_type": "stream",
          "name": "stdout",
          "text": [
            "                   all         18         12          0          0          0          0\n"
          ]
        },
        {
          "output_type": "stream",
          "name": "stderr",
          "text": [
            "\n"
          ]
        },
        {
          "output_type": "stream",
          "name": "stdout",
          "text": [
            "\n",
            "      Epoch    GPU_mem   box_loss   cls_loss   dfl_loss  Instances       Size\n"
          ]
        },
        {
          "output_type": "stream",
          "name": "stderr",
          "text": [
            "     17/200      13.7G      1.723      4.178      3.288         39       1600: 100%|██████████| 5/5 [00:04<00:00,  1.02it/s]\n",
            "                 Class     Images  Instances      Box(P          R      mAP50  mAP50-95):   0%|          | 0/2 [00:00<?, ?it/s]"
          ]
        },
        {
          "output_type": "stream",
          "name": "stdout",
          "text": [
            "WARNING ⚠️ NMS time limit 2.800s exceeded\n"
          ]
        },
        {
          "output_type": "stream",
          "name": "stderr",
          "text": [
            "                 Class     Images  Instances      Box(P          R      mAP50  mAP50-95): 100%|██████████| 2/2 [00:11<00:00,  5.82s/it]"
          ]
        },
        {
          "output_type": "stream",
          "name": "stdout",
          "text": [
            "                   all         18         12          0          0          0          0\n"
          ]
        },
        {
          "output_type": "stream",
          "name": "stderr",
          "text": [
            "\n"
          ]
        },
        {
          "output_type": "stream",
          "name": "stdout",
          "text": [
            "\n",
            "      Epoch    GPU_mem   box_loss   cls_loss   dfl_loss  Instances       Size\n"
          ]
        },
        {
          "output_type": "stream",
          "name": "stderr",
          "text": [
            "     18/200      13.9G      1.889      4.457      3.318         25       1600: 100%|██████████| 5/5 [00:04<00:00,  1.24it/s]\n",
            "                 Class     Images  Instances      Box(P          R      mAP50  mAP50-95):   0%|          | 0/2 [00:00<?, ?it/s]"
          ]
        },
        {
          "output_type": "stream",
          "name": "stdout",
          "text": [
            "WARNING ⚠️ NMS time limit 2.800s exceeded\n"
          ]
        },
        {
          "output_type": "stream",
          "name": "stderr",
          "text": [
            "                 Class     Images  Instances      Box(P          R      mAP50  mAP50-95): 100%|██████████| 2/2 [00:12<00:00,  6.20s/it]"
          ]
        },
        {
          "output_type": "stream",
          "name": "stdout",
          "text": [
            "                   all         18         12          0          0          0          0\n"
          ]
        },
        {
          "output_type": "stream",
          "name": "stderr",
          "text": [
            "\n"
          ]
        },
        {
          "output_type": "stream",
          "name": "stdout",
          "text": [
            "\n",
            "      Epoch    GPU_mem   box_loss   cls_loss   dfl_loss  Instances       Size\n"
          ]
        },
        {
          "output_type": "stream",
          "name": "stderr",
          "text": [
            "     19/200      13.8G      1.693      4.159      3.214         46       1600: 100%|██████████| 5/5 [00:05<00:00,  1.08s/it]\n",
            "                 Class     Images  Instances      Box(P          R      mAP50  mAP50-95):   0%|          | 0/2 [00:00<?, ?it/s]"
          ]
        },
        {
          "output_type": "stream",
          "name": "stdout",
          "text": [
            "WARNING ⚠️ NMS time limit 2.800s exceeded\n"
          ]
        },
        {
          "output_type": "stream",
          "name": "stderr",
          "text": [
            "                 Class     Images  Instances      Box(P          R      mAP50  mAP50-95): 100%|██████████| 2/2 [00:12<00:00,  6.44s/it]\n"
          ]
        },
        {
          "output_type": "stream",
          "name": "stdout",
          "text": [
            "                   all         18         12          0          0          0          0\n",
            "\n",
            "      Epoch    GPU_mem   box_loss   cls_loss   dfl_loss  Instances       Size\n"
          ]
        },
        {
          "output_type": "stream",
          "name": "stderr",
          "text": [
            "     20/200      13.9G       1.66      4.014        3.2         35       1600: 100%|██████████| 5/5 [00:04<00:00,  1.21it/s]\n",
            "                 Class     Images  Instances      Box(P          R      mAP50  mAP50-95):   0%|          | 0/2 [00:00<?, ?it/s]"
          ]
        },
        {
          "output_type": "stream",
          "name": "stdout",
          "text": [
            "WARNING ⚠️ NMS time limit 2.800s exceeded\n"
          ]
        },
        {
          "output_type": "stream",
          "name": "stderr",
          "text": [
            "                 Class     Images  Instances      Box(P          R      mAP50  mAP50-95): 100%|██████████| 2/2 [00:11<00:00,  5.68s/it]"
          ]
        },
        {
          "output_type": "stream",
          "name": "stdout",
          "text": [
            "                   all         18         12          0          0          0          0\n"
          ]
        },
        {
          "output_type": "stream",
          "name": "stderr",
          "text": [
            "\n"
          ]
        },
        {
          "output_type": "stream",
          "name": "stdout",
          "text": [
            "\n",
            "      Epoch    GPU_mem   box_loss   cls_loss   dfl_loss  Instances       Size\n"
          ]
        },
        {
          "output_type": "stream",
          "name": "stderr",
          "text": [
            "     21/200      13.8G      1.681      3.906      3.272         50       1600: 100%|██████████| 5/5 [00:04<00:00,  1.04it/s]\n",
            "                 Class     Images  Instances      Box(P          R      mAP50  mAP50-95):   0%|          | 0/2 [00:00<?, ?it/s]"
          ]
        },
        {
          "output_type": "stream",
          "name": "stdout",
          "text": [
            "WARNING ⚠️ NMS time limit 2.800s exceeded\n"
          ]
        },
        {
          "output_type": "stream",
          "name": "stderr",
          "text": [
            "                 Class     Images  Instances      Box(P          R      mAP50  mAP50-95): 100%|██████████| 2/2 [00:10<00:00,  5.31s/it]"
          ]
        },
        {
          "output_type": "stream",
          "name": "stdout",
          "text": [
            "                   all         18         12          0          0          0          0\n"
          ]
        },
        {
          "output_type": "stream",
          "name": "stderr",
          "text": [
            "\n"
          ]
        },
        {
          "output_type": "stream",
          "name": "stdout",
          "text": [
            "\n",
            "      Epoch    GPU_mem   box_loss   cls_loss   dfl_loss  Instances       Size\n"
          ]
        },
        {
          "output_type": "stream",
          "name": "stderr",
          "text": [
            "     22/200      13.8G      1.606      4.037      3.187         49       1600: 100%|██████████| 5/5 [00:04<00:00,  1.19it/s]\n",
            "                 Class     Images  Instances      Box(P          R      mAP50  mAP50-95):   0%|          | 0/2 [00:00<?, ?it/s]"
          ]
        },
        {
          "output_type": "stream",
          "name": "stdout",
          "text": [
            "WARNING ⚠️ NMS time limit 2.800s exceeded\n"
          ]
        },
        {
          "output_type": "stream",
          "name": "stderr",
          "text": [
            "                 Class     Images  Instances      Box(P          R      mAP50  mAP50-95): 100%|██████████| 2/2 [00:09<00:00,  4.76s/it]"
          ]
        },
        {
          "output_type": "stream",
          "name": "stdout",
          "text": [
            "                   all         18         12          0          0          0          0\n"
          ]
        },
        {
          "output_type": "stream",
          "name": "stderr",
          "text": [
            "\n"
          ]
        },
        {
          "output_type": "stream",
          "name": "stdout",
          "text": [
            "\n",
            "      Epoch    GPU_mem   box_loss   cls_loss   dfl_loss  Instances       Size\n"
          ]
        },
        {
          "output_type": "stream",
          "name": "stderr",
          "text": [
            "     23/200      13.8G      1.623      4.035      3.214         34       1600: 100%|██████████| 5/5 [00:05<00:00,  1.04s/it]\n",
            "                 Class     Images  Instances      Box(P          R      mAP50  mAP50-95):   0%|          | 0/2 [00:00<?, ?it/s]"
          ]
        },
        {
          "output_type": "stream",
          "name": "stdout",
          "text": [
            "WARNING ⚠️ NMS time limit 2.800s exceeded\n"
          ]
        },
        {
          "output_type": "stream",
          "name": "stderr",
          "text": [
            "                 Class     Images  Instances      Box(P          R      mAP50  mAP50-95): 100%|██████████| 2/2 [00:11<00:00,  5.96s/it]"
          ]
        },
        {
          "output_type": "stream",
          "name": "stdout",
          "text": [
            "                   all         18         12          0          0          0          0\n"
          ]
        },
        {
          "output_type": "stream",
          "name": "stderr",
          "text": [
            "\n"
          ]
        },
        {
          "output_type": "stream",
          "name": "stdout",
          "text": [
            "\n",
            "      Epoch    GPU_mem   box_loss   cls_loss   dfl_loss  Instances       Size\n"
          ]
        },
        {
          "output_type": "stream",
          "name": "stderr",
          "text": [
            "     24/200      13.8G      1.674      4.412      3.074         25       1600: 100%|██████████| 5/5 [00:04<00:00,  1.20it/s]\n",
            "                 Class     Images  Instances      Box(P          R      mAP50  mAP50-95):   0%|          | 0/2 [00:00<?, ?it/s]"
          ]
        },
        {
          "output_type": "stream",
          "name": "stdout",
          "text": [
            "WARNING ⚠️ NMS time limit 2.800s exceeded\n"
          ]
        },
        {
          "output_type": "stream",
          "name": "stderr",
          "text": [
            "                 Class     Images  Instances      Box(P          R      mAP50  mAP50-95): 100%|██████████| 2/2 [00:10<00:00,  5.20s/it]"
          ]
        },
        {
          "output_type": "stream",
          "name": "stdout",
          "text": [
            "                   all         18         12    0.00316       0.25      0.169       0.11\n"
          ]
        },
        {
          "output_type": "stream",
          "name": "stderr",
          "text": [
            "\n"
          ]
        },
        {
          "output_type": "stream",
          "name": "stdout",
          "text": [
            "\n",
            "      Epoch    GPU_mem   box_loss   cls_loss   dfl_loss  Instances       Size\n"
          ]
        },
        {
          "output_type": "stream",
          "name": "stderr",
          "text": [
            "     25/200      13.9G      1.536      3.596      3.101         52       1600: 100%|██████████| 5/5 [00:04<00:00,  1.25it/s]\n",
            "                 Class     Images  Instances      Box(P          R      mAP50  mAP50-95):   0%|          | 0/2 [00:00<?, ?it/s]"
          ]
        },
        {
          "output_type": "stream",
          "name": "stdout",
          "text": [
            "WARNING ⚠️ NMS time limit 2.800s exceeded\n"
          ]
        },
        {
          "output_type": "stream",
          "name": "stderr",
          "text": [
            "                 Class     Images  Instances      Box(P          R      mAP50  mAP50-95): 100%|██████████| 2/2 [00:10<00:00,  5.15s/it]"
          ]
        },
        {
          "output_type": "stream",
          "name": "stdout",
          "text": [
            "                   all         18         12    0.00314       0.25      0.127     0.0806\n"
          ]
        },
        {
          "output_type": "stream",
          "name": "stderr",
          "text": [
            "\n"
          ]
        },
        {
          "output_type": "stream",
          "name": "stdout",
          "text": [
            "\n",
            "      Epoch    GPU_mem   box_loss   cls_loss   dfl_loss  Instances       Size\n"
          ]
        },
        {
          "output_type": "stream",
          "name": "stderr",
          "text": [
            "     26/200      13.9G      1.632      3.595      3.158         52       1600: 100%|██████████| 5/5 [00:04<00:00,  1.04it/s]\n",
            "                 Class     Images  Instances      Box(P          R      mAP50  mAP50-95):   0%|          | 0/2 [00:00<?, ?it/s]"
          ]
        },
        {
          "output_type": "stream",
          "name": "stdout",
          "text": [
            "WARNING ⚠️ NMS time limit 2.800s exceeded\n"
          ]
        },
        {
          "output_type": "stream",
          "name": "stderr",
          "text": [
            "                 Class     Images  Instances      Box(P          R      mAP50  mAP50-95): 100%|██████████| 2/2 [00:13<00:00,  6.74s/it]"
          ]
        },
        {
          "output_type": "stream",
          "name": "stdout",
          "text": [
            "                   all         18         12    0.00284       0.25      0.113     0.0791\n"
          ]
        },
        {
          "output_type": "stream",
          "name": "stderr",
          "text": [
            "\n"
          ]
        },
        {
          "output_type": "stream",
          "name": "stdout",
          "text": [
            "\n",
            "      Epoch    GPU_mem   box_loss   cls_loss   dfl_loss  Instances       Size\n"
          ]
        },
        {
          "output_type": "stream",
          "name": "stderr",
          "text": [
            "     27/200      13.9G      1.519      3.695      3.105         31       1600: 100%|██████████| 5/5 [00:03<00:00,  1.27it/s]\n",
            "                 Class     Images  Instances      Box(P          R      mAP50  mAP50-95):   0%|          | 0/2 [00:00<?, ?it/s]"
          ]
        },
        {
          "output_type": "stream",
          "name": "stdout",
          "text": [
            "WARNING ⚠️ NMS time limit 2.800s exceeded\n"
          ]
        },
        {
          "output_type": "stream",
          "name": "stderr",
          "text": [
            "                 Class     Images  Instances      Box(P          R      mAP50  mAP50-95): 100%|██████████| 2/2 [00:11<00:00,  5.70s/it]"
          ]
        },
        {
          "output_type": "stream",
          "name": "stdout",
          "text": [
            "                   all         18         12      0.594     0.0625     0.0889     0.0576\n"
          ]
        },
        {
          "output_type": "stream",
          "name": "stderr",
          "text": [
            "\n"
          ]
        },
        {
          "output_type": "stream",
          "name": "stdout",
          "text": [
            "\n",
            "      Epoch    GPU_mem   box_loss   cls_loss   dfl_loss  Instances       Size\n"
          ]
        },
        {
          "output_type": "stream",
          "name": "stderr",
          "text": [
            "     28/200      13.9G      1.545       3.55      3.016         53       1600: 100%|██████████| 5/5 [00:04<00:00,  1.01it/s]\n",
            "                 Class     Images  Instances      Box(P          R      mAP50  mAP50-95):   0%|          | 0/2 [00:00<?, ?it/s]"
          ]
        },
        {
          "output_type": "stream",
          "name": "stdout",
          "text": [
            "WARNING ⚠️ NMS time limit 2.800s exceeded\n"
          ]
        },
        {
          "output_type": "stream",
          "name": "stderr",
          "text": [
            "                 Class     Images  Instances      Box(P          R      mAP50  mAP50-95): 100%|██████████| 2/2 [00:09<00:00,  4.88s/it]"
          ]
        },
        {
          "output_type": "stream",
          "name": "stdout",
          "text": [
            "                   all         18         12    0.00372      0.583     0.0376      0.026\n"
          ]
        },
        {
          "output_type": "stream",
          "name": "stderr",
          "text": [
            "\n"
          ]
        },
        {
          "output_type": "stream",
          "name": "stdout",
          "text": [
            "\n",
            "      Epoch    GPU_mem   box_loss   cls_loss   dfl_loss  Instances       Size\n"
          ]
        },
        {
          "output_type": "stream",
          "name": "stderr",
          "text": [
            "     29/200      13.8G      1.458      3.568      3.046         28       1600: 100%|██████████| 5/5 [00:06<00:00,  1.22s/it]\n",
            "                 Class     Images  Instances      Box(P          R      mAP50  mAP50-95):   0%|          | 0/2 [00:00<?, ?it/s]"
          ]
        },
        {
          "output_type": "stream",
          "name": "stdout",
          "text": [
            "WARNING ⚠️ NMS time limit 2.800s exceeded\n"
          ]
        },
        {
          "output_type": "stream",
          "name": "stderr",
          "text": [
            "                 Class     Images  Instances      Box(P          R      mAP50  mAP50-95): 100%|██████████| 2/2 [00:08<00:00,  4.15s/it]"
          ]
        },
        {
          "output_type": "stream",
          "name": "stdout",
          "text": [
            "                   all         18         12     0.0473       0.25       0.07     0.0493\n"
          ]
        },
        {
          "output_type": "stream",
          "name": "stderr",
          "text": [
            "\n"
          ]
        },
        {
          "output_type": "stream",
          "name": "stdout",
          "text": [
            "\n",
            "      Epoch    GPU_mem   box_loss   cls_loss   dfl_loss  Instances       Size\n"
          ]
        },
        {
          "output_type": "stream",
          "name": "stderr",
          "text": [
            "     30/200      13.9G      1.515       3.44      3.024         48       1600: 100%|██████████| 5/5 [00:04<00:00,  1.15it/s]\n",
            "                 Class     Images  Instances      Box(P          R      mAP50  mAP50-95):   0%|          | 0/2 [00:00<?, ?it/s]"
          ]
        },
        {
          "output_type": "stream",
          "name": "stdout",
          "text": [
            "WARNING ⚠️ NMS time limit 2.800s exceeded\n"
          ]
        },
        {
          "output_type": "stream",
          "name": "stderr",
          "text": [
            "                 Class     Images  Instances      Box(P          R      mAP50  mAP50-95): 100%|██████████| 2/2 [00:11<00:00,  6.00s/it]"
          ]
        },
        {
          "output_type": "stream",
          "name": "stdout",
          "text": [
            "                   all         18         12      0.977     0.0833      0.165      0.117\n"
          ]
        },
        {
          "output_type": "stream",
          "name": "stderr",
          "text": [
            "\n"
          ]
        },
        {
          "output_type": "stream",
          "name": "stdout",
          "text": [
            "\n",
            "      Epoch    GPU_mem   box_loss   cls_loss   dfl_loss  Instances       Size\n"
          ]
        },
        {
          "output_type": "stream",
          "name": "stderr",
          "text": [
            "     31/200      13.9G      1.418      3.292      2.858         43       1600: 100%|██████████| 5/5 [00:03<00:00,  1.26it/s]\n",
            "                 Class     Images  Instances      Box(P          R      mAP50  mAP50-95):   0%|          | 0/2 [00:00<?, ?it/s]"
          ]
        },
        {
          "output_type": "stream",
          "name": "stdout",
          "text": [
            "WARNING ⚠️ NMS time limit 2.800s exceeded\n"
          ]
        },
        {
          "output_type": "stream",
          "name": "stderr",
          "text": [
            "                 Class     Images  Instances      Box(P          R      mAP50  mAP50-95): 100%|██████████| 2/2 [00:13<00:00,  6.81s/it]"
          ]
        },
        {
          "output_type": "stream",
          "name": "stdout",
          "text": [
            "                   all         18         12     0.0031      0.667      0.128     0.0591\n"
          ]
        },
        {
          "output_type": "stream",
          "name": "stderr",
          "text": [
            "\n"
          ]
        },
        {
          "output_type": "stream",
          "name": "stdout",
          "text": [
            "\n",
            "      Epoch    GPU_mem   box_loss   cls_loss   dfl_loss  Instances       Size\n"
          ]
        },
        {
          "output_type": "stream",
          "name": "stderr",
          "text": [
            "     32/200      13.8G      1.368      3.519      2.904         36       1600: 100%|██████████| 5/5 [00:05<00:00,  1.02s/it]\n",
            "                 Class     Images  Instances      Box(P          R      mAP50  mAP50-95):   0%|          | 0/2 [00:00<?, ?it/s]"
          ]
        },
        {
          "output_type": "stream",
          "name": "stdout",
          "text": [
            "WARNING ⚠️ NMS time limit 2.800s exceeded\n"
          ]
        },
        {
          "output_type": "stream",
          "name": "stderr",
          "text": [
            "                 Class     Images  Instances      Box(P          R      mAP50  mAP50-95): 100%|██████████| 2/2 [00:12<00:00,  6.03s/it]"
          ]
        },
        {
          "output_type": "stream",
          "name": "stdout",
          "text": [
            "                   all         18         12      0.103     0.0833      0.137     0.0831\n"
          ]
        },
        {
          "output_type": "stream",
          "name": "stderr",
          "text": [
            "\n"
          ]
        },
        {
          "output_type": "stream",
          "name": "stdout",
          "text": [
            "\n",
            "      Epoch    GPU_mem   box_loss   cls_loss   dfl_loss  Instances       Size\n"
          ]
        },
        {
          "output_type": "stream",
          "name": "stderr",
          "text": [
            "     33/200      13.8G      1.404      3.317      2.967         41       1600: 100%|██████████| 5/5 [00:04<00:00,  1.16it/s]\n",
            "                 Class     Images  Instances      Box(P          R      mAP50  mAP50-95):   0%|          | 0/2 [00:00<?, ?it/s]"
          ]
        },
        {
          "output_type": "stream",
          "name": "stdout",
          "text": [
            "WARNING ⚠️ NMS time limit 2.800s exceeded\n"
          ]
        },
        {
          "output_type": "stream",
          "name": "stderr",
          "text": [
            "                 Class     Images  Instances      Box(P          R      mAP50  mAP50-95): 100%|██████████| 2/2 [00:11<00:00,  5.89s/it]"
          ]
        },
        {
          "output_type": "stream",
          "name": "stdout",
          "text": [
            "                   all         18         12      0.168      0.167      0.169     0.0993\n"
          ]
        },
        {
          "output_type": "stream",
          "name": "stderr",
          "text": [
            "\n"
          ]
        },
        {
          "output_type": "stream",
          "name": "stdout",
          "text": [
            "\n",
            "      Epoch    GPU_mem   box_loss   cls_loss   dfl_loss  Instances       Size\n"
          ]
        },
        {
          "output_type": "stream",
          "name": "stderr",
          "text": [
            "     34/200      13.8G      1.297        3.1      2.936         55       1600: 100%|██████████| 5/5 [00:04<00:00,  1.00it/s]\n",
            "                 Class     Images  Instances      Box(P          R      mAP50  mAP50-95):   0%|          | 0/2 [00:00<?, ?it/s]"
          ]
        },
        {
          "output_type": "stream",
          "name": "stdout",
          "text": [
            "WARNING ⚠️ NMS time limit 2.800s exceeded\n"
          ]
        },
        {
          "output_type": "stream",
          "name": "stderr",
          "text": [
            "                 Class     Images  Instances      Box(P          R      mAP50  mAP50-95): 100%|██████████| 2/2 [00:10<00:00,  5.48s/it]"
          ]
        },
        {
          "output_type": "stream",
          "name": "stdout",
          "text": [
            "                   all         18         12      0.204      0.167      0.172      0.117\n"
          ]
        },
        {
          "output_type": "stream",
          "name": "stderr",
          "text": [
            "\n"
          ]
        },
        {
          "output_type": "stream",
          "name": "stdout",
          "text": [
            "\n",
            "      Epoch    GPU_mem   box_loss   cls_loss   dfl_loss  Instances       Size\n"
          ]
        },
        {
          "output_type": "stream",
          "name": "stderr",
          "text": [
            "     35/200      13.9G      1.452      3.251      2.888         49       1600: 100%|██████████| 5/5 [00:03<00:00,  1.26it/s]\n",
            "                 Class     Images  Instances      Box(P          R      mAP50  mAP50-95):   0%|          | 0/2 [00:00<?, ?it/s]"
          ]
        },
        {
          "output_type": "stream",
          "name": "stdout",
          "text": [
            "WARNING ⚠️ NMS time limit 2.800s exceeded\n"
          ]
        },
        {
          "output_type": "stream",
          "name": "stderr",
          "text": [
            "                 Class     Images  Instances      Box(P          R      mAP50  mAP50-95): 100%|██████████| 2/2 [00:11<00:00,  5.57s/it]"
          ]
        },
        {
          "output_type": "stream",
          "name": "stdout",
          "text": [
            "                   all         18         12      0.336      0.167      0.129      0.087\n"
          ]
        },
        {
          "output_type": "stream",
          "name": "stderr",
          "text": [
            "\n"
          ]
        },
        {
          "output_type": "stream",
          "name": "stdout",
          "text": [
            "\n",
            "      Epoch    GPU_mem   box_loss   cls_loss   dfl_loss  Instances       Size\n"
          ]
        },
        {
          "output_type": "stream",
          "name": "stderr",
          "text": [
            "     36/200      13.9G       1.36      3.078      2.851         55       1600: 100%|██████████| 5/5 [00:05<00:00,  1.00s/it]\n",
            "                 Class     Images  Instances      Box(P          R      mAP50  mAP50-95):   0%|          | 0/2 [00:00<?, ?it/s]"
          ]
        },
        {
          "output_type": "stream",
          "name": "stdout",
          "text": [
            "WARNING ⚠️ NMS time limit 2.800s exceeded\n"
          ]
        },
        {
          "output_type": "stream",
          "name": "stderr",
          "text": [
            "                 Class     Images  Instances      Box(P          R      mAP50  mAP50-95): 100%|██████████| 2/2 [00:11<00:00,  5.99s/it]"
          ]
        },
        {
          "output_type": "stream",
          "name": "stdout",
          "text": [
            "                   all         18         12     0.0606        0.5      0.085     0.0584\n"
          ]
        },
        {
          "output_type": "stream",
          "name": "stderr",
          "text": [
            "\n"
          ]
        },
        {
          "output_type": "stream",
          "name": "stdout",
          "text": [
            "\n",
            "      Epoch    GPU_mem   box_loss   cls_loss   dfl_loss  Instances       Size\n"
          ]
        },
        {
          "output_type": "stream",
          "name": "stderr",
          "text": [
            "     37/200      13.9G      1.447      3.199      2.945         80       1600: 100%|██████████| 5/5 [00:04<00:00,  1.21it/s]\n",
            "                 Class     Images  Instances      Box(P          R      mAP50  mAP50-95):   0%|          | 0/2 [00:00<?, ?it/s]"
          ]
        },
        {
          "output_type": "stream",
          "name": "stdout",
          "text": [
            "WARNING ⚠️ NMS time limit 2.800s exceeded\n"
          ]
        },
        {
          "output_type": "stream",
          "name": "stderr",
          "text": [
            "                 Class     Images  Instances      Box(P          R      mAP50  mAP50-95): 100%|██████████| 2/2 [00:11<00:00,  5.81s/it]"
          ]
        },
        {
          "output_type": "stream",
          "name": "stdout",
          "text": [
            "                   all         18         12     0.0656      0.667     0.0853     0.0586\n"
          ]
        },
        {
          "output_type": "stream",
          "name": "stderr",
          "text": [
            "\n"
          ]
        },
        {
          "output_type": "stream",
          "name": "stdout",
          "text": [
            "\n",
            "      Epoch    GPU_mem   box_loss   cls_loss   dfl_loss  Instances       Size\n"
          ]
        },
        {
          "output_type": "stream",
          "name": "stderr",
          "text": [
            "     38/200      13.9G      1.315       2.99       2.86         48       1600: 100%|██████████| 5/5 [00:05<00:00,  1.11s/it]\n",
            "                 Class     Images  Instances      Box(P          R      mAP50  mAP50-95):   0%|          | 0/2 [00:00<?, ?it/s]"
          ]
        },
        {
          "output_type": "stream",
          "name": "stdout",
          "text": [
            "WARNING ⚠️ NMS time limit 2.800s exceeded\n"
          ]
        },
        {
          "output_type": "stream",
          "name": "stderr",
          "text": [
            "                 Class     Images  Instances      Box(P          R      mAP50  mAP50-95): 100%|██████████| 2/2 [00:10<00:00,  5.30s/it]"
          ]
        },
        {
          "output_type": "stream",
          "name": "stdout",
          "text": [
            "                   all         18         12     0.0701      0.667      0.104     0.0733\n"
          ]
        },
        {
          "output_type": "stream",
          "name": "stderr",
          "text": [
            "\n"
          ]
        },
        {
          "output_type": "stream",
          "name": "stdout",
          "text": [
            "\n",
            "      Epoch    GPU_mem   box_loss   cls_loss   dfl_loss  Instances       Size\n"
          ]
        },
        {
          "output_type": "stream",
          "name": "stderr",
          "text": [
            "     39/200      13.9G      1.271      2.896      2.973         32       1600: 100%|██████████| 5/5 [00:04<00:00,  1.18it/s]\n",
            "                 Class     Images  Instances      Box(P          R      mAP50  mAP50-95):   0%|          | 0/2 [00:00<?, ?it/s]"
          ]
        },
        {
          "output_type": "stream",
          "name": "stdout",
          "text": [
            "WARNING ⚠️ NMS time limit 2.800s exceeded\n"
          ]
        },
        {
          "output_type": "stream",
          "name": "stderr",
          "text": [
            "                 Class     Images  Instances      Box(P          R      mAP50  mAP50-95): 100%|██████████| 2/2 [00:15<00:00,  7.81s/it]"
          ]
        },
        {
          "output_type": "stream",
          "name": "stdout",
          "text": [
            "                   all         18         12     0.0585      0.583      0.182      0.144\n"
          ]
        },
        {
          "output_type": "stream",
          "name": "stderr",
          "text": [
            "\n"
          ]
        },
        {
          "output_type": "stream",
          "name": "stdout",
          "text": [
            "\n",
            "      Epoch    GPU_mem   box_loss   cls_loss   dfl_loss  Instances       Size\n"
          ]
        },
        {
          "output_type": "stream",
          "name": "stderr",
          "text": [
            "     40/200      13.9G      1.365      2.973      2.977         43       1600: 100%|██████████| 5/5 [00:04<00:00,  1.13it/s]\n",
            "                 Class     Images  Instances      Box(P          R      mAP50  mAP50-95):   0%|          | 0/2 [00:00<?, ?it/s]"
          ]
        },
        {
          "output_type": "stream",
          "name": "stdout",
          "text": [
            "WARNING ⚠️ NMS time limit 2.800s exceeded\n"
          ]
        },
        {
          "output_type": "stream",
          "name": "stderr",
          "text": [
            "                 Class     Images  Instances      Box(P          R      mAP50  mAP50-95): 100%|██████████| 2/2 [00:14<00:00,  7.04s/it]\n"
          ]
        },
        {
          "output_type": "stream",
          "name": "stdout",
          "text": [
            "                   all         18         12     0.0469      0.333      0.111     0.0718\n",
            "\n",
            "      Epoch    GPU_mem   box_loss   cls_loss   dfl_loss  Instances       Size\n"
          ]
        },
        {
          "output_type": "stream",
          "name": "stderr",
          "text": [
            "     41/200      13.8G      1.346      3.147      2.935         32       1600: 100%|██████████| 5/5 [00:04<00:00,  1.21it/s]\n",
            "                 Class     Images  Instances      Box(P          R      mAP50  mAP50-95):   0%|          | 0/2 [00:00<?, ?it/s]"
          ]
        },
        {
          "output_type": "stream",
          "name": "stdout",
          "text": [
            "WARNING ⚠️ NMS time limit 2.800s exceeded\n"
          ]
        },
        {
          "output_type": "stream",
          "name": "stderr",
          "text": [
            "                 Class     Images  Instances      Box(P          R      mAP50  mAP50-95): 100%|██████████| 2/2 [00:14<00:00,  7.10s/it]"
          ]
        },
        {
          "output_type": "stream",
          "name": "stdout",
          "text": [
            "                   all         18         12     0.0654      0.191      0.151     0.0991\n"
          ]
        },
        {
          "output_type": "stream",
          "name": "stderr",
          "text": [
            "\n"
          ]
        },
        {
          "output_type": "stream",
          "name": "stdout",
          "text": [
            "\n",
            "      Epoch    GPU_mem   box_loss   cls_loss   dfl_loss  Instances       Size\n"
          ]
        },
        {
          "output_type": "stream",
          "name": "stderr",
          "text": [
            "     42/200      13.8G      1.403       3.21       2.91         32       1600: 100%|██████████| 5/5 [00:04<00:00,  1.22it/s]\n",
            "                 Class     Images  Instances      Box(P          R      mAP50  mAP50-95):   0%|          | 0/2 [00:00<?, ?it/s]"
          ]
        },
        {
          "output_type": "stream",
          "name": "stdout",
          "text": [
            "WARNING ⚠️ NMS time limit 2.800s exceeded\n"
          ]
        },
        {
          "output_type": "stream",
          "name": "stderr",
          "text": [
            "                 Class     Images  Instances      Box(P          R      mAP50  mAP50-95): 100%|██████████| 2/2 [00:14<00:00,  7.02s/it]"
          ]
        },
        {
          "output_type": "stream",
          "name": "stdout",
          "text": [
            "                   all         18         12      0.316      0.167       0.22      0.139\n"
          ]
        },
        {
          "output_type": "stream",
          "name": "stderr",
          "text": [
            "\n"
          ]
        },
        {
          "output_type": "stream",
          "name": "stdout",
          "text": [
            "\n",
            "      Epoch    GPU_mem   box_loss   cls_loss   dfl_loss  Instances       Size\n"
          ]
        },
        {
          "output_type": "stream",
          "name": "stderr",
          "text": [
            "     43/200      13.8G       1.18      2.899      2.799         40       1600: 100%|██████████| 5/5 [00:04<00:00,  1.17it/s]\n",
            "                 Class     Images  Instances      Box(P          R      mAP50  mAP50-95):   0%|          | 0/2 [00:00<?, ?it/s]"
          ]
        },
        {
          "output_type": "stream",
          "name": "stdout",
          "text": [
            "WARNING ⚠️ NMS time limit 2.800s exceeded\n"
          ]
        },
        {
          "output_type": "stream",
          "name": "stderr",
          "text": [
            "                 Class     Images  Instances      Box(P          R      mAP50  mAP50-95): 100%|██████████| 2/2 [00:14<00:00,  7.12s/it]"
          ]
        },
        {
          "output_type": "stream",
          "name": "stdout",
          "text": [
            "                   all         18         12      0.132        0.5      0.184      0.124\n"
          ]
        },
        {
          "output_type": "stream",
          "name": "stderr",
          "text": [
            "\n"
          ]
        },
        {
          "output_type": "stream",
          "name": "stdout",
          "text": [
            "\n",
            "      Epoch    GPU_mem   box_loss   cls_loss   dfl_loss  Instances       Size\n"
          ]
        },
        {
          "output_type": "stream",
          "name": "stderr",
          "text": [
            "     44/200      13.9G      1.319       2.84       2.76         42       1600: 100%|██████████| 5/5 [00:06<00:00,  1.27s/it]\n",
            "                 Class     Images  Instances      Box(P          R      mAP50  mAP50-95): 100%|██████████| 2/2 [00:15<00:00,  7.56s/it]"
          ]
        },
        {
          "output_type": "stream",
          "name": "stdout",
          "text": [
            "                   all         18         12      0.405      0.167      0.166      0.101\n"
          ]
        },
        {
          "output_type": "stream",
          "name": "stderr",
          "text": [
            "\n"
          ]
        },
        {
          "output_type": "stream",
          "name": "stdout",
          "text": [
            "\n",
            "      Epoch    GPU_mem   box_loss   cls_loss   dfl_loss  Instances       Size\n"
          ]
        },
        {
          "output_type": "stream",
          "name": "stderr",
          "text": [
            "     45/200      13.8G       1.17      2.687      2.865         47       1600: 100%|██████████| 5/5 [00:04<00:00,  1.12it/s]\n",
            "                 Class     Images  Instances      Box(P          R      mAP50  mAP50-95): 100%|██████████| 2/2 [00:15<00:00,  7.72s/it]"
          ]
        },
        {
          "output_type": "stream",
          "name": "stdout",
          "text": [
            "                   all         18         12     0.0527      0.744     0.0711     0.0452\n"
          ]
        },
        {
          "output_type": "stream",
          "name": "stderr",
          "text": [
            "\n"
          ]
        },
        {
          "output_type": "stream",
          "name": "stdout",
          "text": [
            "\n",
            "      Epoch    GPU_mem   box_loss   cls_loss   dfl_loss  Instances       Size\n"
          ]
        },
        {
          "output_type": "stream",
          "name": "stderr",
          "text": [
            "     46/200      13.8G      1.326       2.95      2.823         44       1600: 100%|██████████| 5/5 [00:04<00:00,  1.21it/s]\n",
            "                 Class     Images  Instances      Box(P          R      mAP50  mAP50-95): 100%|██████████| 2/2 [00:15<00:00,  7.89s/it]"
          ]
        },
        {
          "output_type": "stream",
          "name": "stdout",
          "text": [
            "                   all         18         12     0.0453       0.75     0.0645     0.0416\n"
          ]
        },
        {
          "output_type": "stream",
          "name": "stderr",
          "text": [
            "\n"
          ]
        },
        {
          "output_type": "stream",
          "name": "stdout",
          "text": [
            "\n",
            "      Epoch    GPU_mem   box_loss   cls_loss   dfl_loss  Instances       Size\n"
          ]
        },
        {
          "output_type": "stream",
          "name": "stderr",
          "text": [
            "     47/200      13.9G      1.184      2.511      2.765         66       1600: 100%|██████████| 5/5 [00:04<00:00,  1.08it/s]\n",
            "                 Class     Images  Instances      Box(P          R      mAP50  mAP50-95): 100%|██████████| 2/2 [00:11<00:00,  5.99s/it]"
          ]
        },
        {
          "output_type": "stream",
          "name": "stdout",
          "text": [
            "                   all         18         12     0.0836       0.25     0.0797     0.0588\n"
          ]
        },
        {
          "output_type": "stream",
          "name": "stderr",
          "text": [
            "\n"
          ]
        },
        {
          "output_type": "stream",
          "name": "stdout",
          "text": [
            "\n",
            "      Epoch    GPU_mem   box_loss   cls_loss   dfl_loss  Instances       Size\n"
          ]
        },
        {
          "output_type": "stream",
          "name": "stderr",
          "text": [
            "     48/200      13.9G       1.19       2.81      2.798         40       1600: 100%|██████████| 5/5 [00:05<00:00,  1.12s/it]\n",
            "                 Class     Images  Instances      Box(P          R      mAP50  mAP50-95): 100%|██████████| 2/2 [00:13<00:00,  6.79s/it]"
          ]
        },
        {
          "output_type": "stream",
          "name": "stdout",
          "text": [
            "                   all         18         12      0.192      0.331      0.149      0.101\n"
          ]
        },
        {
          "output_type": "stream",
          "name": "stderr",
          "text": [
            "\n"
          ]
        },
        {
          "output_type": "stream",
          "name": "stdout",
          "text": [
            "\n",
            "      Epoch    GPU_mem   box_loss   cls_loss   dfl_loss  Instances       Size\n"
          ]
        },
        {
          "output_type": "stream",
          "name": "stderr",
          "text": [
            "     49/200      13.8G      1.296      2.706      2.826         39       1600: 100%|██████████| 5/5 [00:04<00:00,  1.19it/s]\n",
            "                 Class     Images  Instances      Box(P          R      mAP50  mAP50-95): 100%|██████████| 2/2 [00:11<00:00,  6.00s/it]"
          ]
        },
        {
          "output_type": "stream",
          "name": "stdout",
          "text": [
            "                   all         18         12      0.136      0.243       0.18      0.141\n"
          ]
        },
        {
          "output_type": "stream",
          "name": "stderr",
          "text": [
            "\n"
          ]
        },
        {
          "output_type": "stream",
          "name": "stdout",
          "text": [
            "\n",
            "      Epoch    GPU_mem   box_loss   cls_loss   dfl_loss  Instances       Size\n"
          ]
        },
        {
          "output_type": "stream",
          "name": "stderr",
          "text": [
            "     50/200      13.9G       1.23      2.596      2.767         56       1600: 100%|██████████| 5/5 [00:05<00:00,  1.19s/it]\n",
            "                 Class     Images  Instances      Box(P          R      mAP50  mAP50-95): 100%|██████████| 2/2 [00:14<00:00,  7.07s/it]"
          ]
        },
        {
          "output_type": "stream",
          "name": "stdout",
          "text": [
            "                   all         18         12     0.0578      0.667     0.0873     0.0658\n"
          ]
        },
        {
          "output_type": "stream",
          "name": "stderr",
          "text": [
            "\n"
          ]
        },
        {
          "output_type": "stream",
          "name": "stdout",
          "text": [
            "\n",
            "      Epoch    GPU_mem   box_loss   cls_loss   dfl_loss  Instances       Size\n"
          ]
        },
        {
          "output_type": "stream",
          "name": "stderr",
          "text": [
            "     51/200      13.9G      1.278      2.681      2.917         60       1600: 100%|██████████| 5/5 [00:04<00:00,  1.11it/s]\n",
            "                 Class     Images  Instances      Box(P          R      mAP50  mAP50-95): 100%|██████████| 2/2 [00:14<00:00,  7.36s/it]"
          ]
        },
        {
          "output_type": "stream",
          "name": "stdout",
          "text": [
            "                   all         18         12     0.0564        0.5     0.0727     0.0478\n"
          ]
        },
        {
          "output_type": "stream",
          "name": "stderr",
          "text": [
            "\n"
          ]
        },
        {
          "output_type": "stream",
          "name": "stdout",
          "text": [
            "\n",
            "      Epoch    GPU_mem   box_loss   cls_loss   dfl_loss  Instances       Size\n"
          ]
        },
        {
          "output_type": "stream",
          "name": "stderr",
          "text": [
            "     52/200      13.9G      1.308      2.754      2.837         34       1600: 100%|██████████| 5/5 [00:04<00:00,  1.15it/s]\n",
            "                 Class     Images  Instances      Box(P          R      mAP50  mAP50-95): 100%|██████████| 2/2 [00:15<00:00,  7.91s/it]"
          ]
        },
        {
          "output_type": "stream",
          "name": "stdout",
          "text": [
            "                   all         18         12     0.0531      0.417     0.0807     0.0589\n"
          ]
        },
        {
          "output_type": "stream",
          "name": "stderr",
          "text": [
            "\n"
          ]
        },
        {
          "output_type": "stream",
          "name": "stdout",
          "text": [
            "\n",
            "      Epoch    GPU_mem   box_loss   cls_loss   dfl_loss  Instances       Size\n"
          ]
        },
        {
          "output_type": "stream",
          "name": "stderr",
          "text": [
            "     53/200      13.9G      1.187       2.38      2.793         67       1600: 100%|██████████| 5/5 [00:04<00:00,  1.21it/s]\n",
            "                 Class     Images  Instances      Box(P          R      mAP50  mAP50-95): 100%|██████████| 2/2 [00:16<00:00,  8.08s/it]"
          ]
        },
        {
          "output_type": "stream",
          "name": "stdout",
          "text": [
            "                   all         18         12     0.0778       0.25      0.106     0.0812\n"
          ]
        },
        {
          "output_type": "stream",
          "name": "stderr",
          "text": [
            "\n"
          ]
        },
        {
          "output_type": "stream",
          "name": "stdout",
          "text": [
            "\n",
            "      Epoch    GPU_mem   box_loss   cls_loss   dfl_loss  Instances       Size\n"
          ]
        },
        {
          "output_type": "stream",
          "name": "stderr",
          "text": [
            "     54/200      13.9G      1.242      2.513       2.78         33       1600: 100%|██████████| 5/5 [00:04<00:00,  1.16it/s]\n",
            "                 Class     Images  Instances      Box(P          R      mAP50  mAP50-95): 100%|██████████| 2/2 [00:16<00:00,  8.27s/it]"
          ]
        },
        {
          "output_type": "stream",
          "name": "stdout",
          "text": [
            "                   all         18         12      0.102      0.333      0.104       0.08\n"
          ]
        },
        {
          "output_type": "stream",
          "name": "stderr",
          "text": [
            "\n"
          ]
        },
        {
          "output_type": "stream",
          "name": "stdout",
          "text": [
            "\n",
            "      Epoch    GPU_mem   box_loss   cls_loss   dfl_loss  Instances       Size\n"
          ]
        },
        {
          "output_type": "stream",
          "name": "stderr",
          "text": [
            "     55/200      13.9G       1.25      2.461      2.803         53       1600: 100%|██████████| 5/5 [00:05<00:00,  1.02s/it]\n",
            "                 Class     Images  Instances      Box(P          R      mAP50  mAP50-95): 100%|██████████| 2/2 [00:17<00:00,  8.92s/it]\n"
          ]
        },
        {
          "output_type": "stream",
          "name": "stdout",
          "text": [
            "                   all         18         12      0.121      0.583      0.121     0.0859\n",
            "\n",
            "      Epoch    GPU_mem   box_loss   cls_loss   dfl_loss  Instances       Size\n"
          ]
        },
        {
          "output_type": "stream",
          "name": "stderr",
          "text": [
            "     56/200      13.9G      1.265      2.555      2.863         60       1600: 100%|██████████| 5/5 [00:04<00:00,  1.16it/s]\n",
            "                 Class     Images  Instances      Box(P          R      mAP50  mAP50-95): 100%|██████████| 2/2 [00:18<00:00,  9.11s/it]"
          ]
        },
        {
          "output_type": "stream",
          "name": "stdout",
          "text": [
            "                   all         18         12     0.0656      0.583     0.0666     0.0396\n"
          ]
        },
        {
          "output_type": "stream",
          "name": "stderr",
          "text": [
            "\n"
          ]
        },
        {
          "output_type": "stream",
          "name": "stdout",
          "text": [
            "\n",
            "      Epoch    GPU_mem   box_loss   cls_loss   dfl_loss  Instances       Size\n"
          ]
        },
        {
          "output_type": "stream",
          "name": "stderr",
          "text": [
            "     57/200      13.9G      1.324      2.405      2.901         64       1600: 100%|██████████| 5/5 [00:04<00:00,  1.19it/s]\n",
            "                 Class     Images  Instances      Box(P          R      mAP50  mAP50-95): 100%|██████████| 2/2 [00:18<00:00,  9.33s/it]"
          ]
        },
        {
          "output_type": "stream",
          "name": "stdout",
          "text": [
            "                   all         18         12     0.0671      0.583     0.0758     0.0502\n"
          ]
        },
        {
          "output_type": "stream",
          "name": "stderr",
          "text": [
            "\n"
          ]
        },
        {
          "output_type": "stream",
          "name": "stdout",
          "text": [
            "\n",
            "      Epoch    GPU_mem   box_loss   cls_loss   dfl_loss  Instances       Size\n"
          ]
        },
        {
          "output_type": "stream",
          "name": "stderr",
          "text": [
            "     58/200      13.9G      1.166       2.37      2.769         45       1600: 100%|██████████| 5/5 [00:04<00:00,  1.14it/s]\n",
            "                 Class     Images  Instances      Box(P          R      mAP50  mAP50-95): 100%|██████████| 2/2 [00:18<00:00,  9.24s/it]"
          ]
        },
        {
          "output_type": "stream",
          "name": "stdout",
          "text": [
            "                   all         18         12     0.0563      0.667     0.0863     0.0618\n"
          ]
        },
        {
          "output_type": "stream",
          "name": "stderr",
          "text": [
            "\n"
          ]
        },
        {
          "output_type": "stream",
          "name": "stdout",
          "text": [
            "\n",
            "      Epoch    GPU_mem   box_loss   cls_loss   dfl_loss  Instances       Size\n"
          ]
        },
        {
          "output_type": "stream",
          "name": "stderr",
          "text": [
            "     59/200      13.8G      1.235      2.403      2.746         34       1600: 100%|██████████| 5/5 [00:04<00:00,  1.06it/s]\n",
            "                 Class     Images  Instances      Box(P          R      mAP50  mAP50-95): 100%|██████████| 2/2 [00:20<00:00, 10.30s/it]"
          ]
        },
        {
          "output_type": "stream",
          "name": "stdout",
          "text": [
            "                   all         18         12     0.0566      0.583     0.0941     0.0698\n"
          ]
        },
        {
          "output_type": "stream",
          "name": "stderr",
          "text": [
            "\n"
          ]
        },
        {
          "output_type": "stream",
          "name": "stdout",
          "text": [
            "\n",
            "      Epoch    GPU_mem   box_loss   cls_loss   dfl_loss  Instances       Size\n"
          ]
        },
        {
          "output_type": "stream",
          "name": "stderr",
          "text": [
            "     60/200      13.9G      1.155      2.214      2.713         51       1600: 100%|██████████| 5/5 [00:04<00:00,  1.16it/s]\n",
            "                 Class     Images  Instances      Box(P          R      mAP50  mAP50-95): 100%|██████████| 2/2 [00:23<00:00, 11.50s/it]"
          ]
        },
        {
          "output_type": "stream",
          "name": "stdout",
          "text": [
            "                   all         18         12     0.0645       0.75      0.119     0.0801\n"
          ]
        },
        {
          "output_type": "stream",
          "name": "stderr",
          "text": [
            "\n"
          ]
        },
        {
          "output_type": "stream",
          "name": "stdout",
          "text": [
            "\n",
            "      Epoch    GPU_mem   box_loss   cls_loss   dfl_loss  Instances       Size\n"
          ]
        },
        {
          "output_type": "stream",
          "name": "stderr",
          "text": [
            "     61/200      13.7G      1.386      2.639      2.839         51       1600: 100%|██████████| 5/5 [00:04<00:00,  1.22it/s]\n",
            "                 Class     Images  Instances      Box(P          R      mAP50  mAP50-95): 100%|██████████| 2/2 [00:21<00:00, 10.56s/it]"
          ]
        },
        {
          "output_type": "stream",
          "name": "stdout",
          "text": [
            "                   all         18         12      0.104      0.304      0.132     0.0926\n"
          ]
        },
        {
          "output_type": "stream",
          "name": "stderr",
          "text": [
            "\n"
          ]
        },
        {
          "output_type": "stream",
          "name": "stdout",
          "text": [
            "\n",
            "      Epoch    GPU_mem   box_loss   cls_loss   dfl_loss  Instances       Size\n"
          ]
        },
        {
          "output_type": "stream",
          "name": "stderr",
          "text": [
            "     62/200      13.9G      1.243      2.324      2.741         44       1600: 100%|██████████| 5/5 [00:04<00:00,  1.21it/s]\n",
            "                 Class     Images  Instances      Box(P          R      mAP50  mAP50-95): 100%|██████████| 2/2 [00:23<00:00, 11.71s/it]"
          ]
        },
        {
          "output_type": "stream",
          "name": "stdout",
          "text": [
            "                   all         18         12      0.065      0.583     0.0949     0.0728\n"
          ]
        },
        {
          "output_type": "stream",
          "name": "stderr",
          "text": [
            "\n"
          ]
        },
        {
          "output_type": "stream",
          "name": "stdout",
          "text": [
            "\n",
            "      Epoch    GPU_mem   box_loss   cls_loss   dfl_loss  Instances       Size\n"
          ]
        },
        {
          "output_type": "stream",
          "name": "stderr",
          "text": [
            "     63/200      13.9G       1.22      2.301      2.756         26       1600: 100%|██████████| 5/5 [00:04<00:00,  1.14it/s]\n",
            "                 Class     Images  Instances      Box(P          R      mAP50  mAP50-95): 100%|██████████| 2/2 [00:20<00:00, 10.12s/it]"
          ]
        },
        {
          "output_type": "stream",
          "name": "stdout",
          "text": [
            "                   all         18         12     0.0706       0.75      0.101     0.0713\n"
          ]
        },
        {
          "output_type": "stream",
          "name": "stderr",
          "text": [
            "\n"
          ]
        },
        {
          "output_type": "stream",
          "name": "stdout",
          "text": [
            "\n",
            "      Epoch    GPU_mem   box_loss   cls_loss   dfl_loss  Instances       Size\n"
          ]
        },
        {
          "output_type": "stream",
          "name": "stderr",
          "text": [
            "     64/200      13.8G      1.089       2.31      2.808         32       1600: 100%|██████████| 5/5 [00:04<00:00,  1.20it/s]\n",
            "                 Class     Images  Instances      Box(P          R      mAP50  mAP50-95): 100%|██████████| 2/2 [00:17<00:00,  8.68s/it]"
          ]
        },
        {
          "output_type": "stream",
          "name": "stdout",
          "text": [
            "                   all         18         12     0.0681      0.833     0.0946     0.0614\n"
          ]
        },
        {
          "output_type": "stream",
          "name": "stderr",
          "text": [
            "\n"
          ]
        },
        {
          "output_type": "stream",
          "name": "stdout",
          "text": [
            "\n",
            "      Epoch    GPU_mem   box_loss   cls_loss   dfl_loss  Instances       Size\n"
          ]
        },
        {
          "output_type": "stream",
          "name": "stderr",
          "text": [
            "     65/200      13.9G      1.113      2.236       2.72         36       1600: 100%|██████████| 5/5 [00:04<00:00,  1.24it/s]\n",
            "                 Class     Images  Instances      Box(P          R      mAP50  mAP50-95): 100%|██████████| 2/2 [00:15<00:00,  7.96s/it]"
          ]
        },
        {
          "output_type": "stream",
          "name": "stdout",
          "text": [
            "                   all         18         12     0.0745      0.917     0.0875     0.0525\n"
          ]
        },
        {
          "output_type": "stream",
          "name": "stderr",
          "text": [
            "\n"
          ]
        },
        {
          "output_type": "stream",
          "name": "stdout",
          "text": [
            "\n",
            "      Epoch    GPU_mem   box_loss   cls_loss   dfl_loss  Instances       Size\n"
          ]
        },
        {
          "output_type": "stream",
          "name": "stderr",
          "text": [
            "     66/200      13.9G       1.02      2.106      2.703         41       1600: 100%|██████████| 5/5 [00:06<00:00,  1.21s/it]\n",
            "                 Class     Images  Instances      Box(P          R      mAP50  mAP50-95): 100%|██████████| 2/2 [00:15<00:00,  7.67s/it]"
          ]
        },
        {
          "output_type": "stream",
          "name": "stdout",
          "text": [
            "                   all         18         12     0.0809      0.833      0.101     0.0628\n"
          ]
        },
        {
          "output_type": "stream",
          "name": "stderr",
          "text": [
            "\n"
          ]
        },
        {
          "output_type": "stream",
          "name": "stdout",
          "text": [
            "\n",
            "      Epoch    GPU_mem   box_loss   cls_loss   dfl_loss  Instances       Size\n"
          ]
        },
        {
          "output_type": "stream",
          "name": "stderr",
          "text": [
            "     67/200      13.8G      1.144      2.166      2.803         41       1600: 100%|██████████| 5/5 [00:04<00:00,  1.24it/s]\n",
            "                 Class     Images  Instances      Box(P          R      mAP50  mAP50-95): 100%|██████████| 2/2 [00:14<00:00,  7.15s/it]"
          ]
        },
        {
          "output_type": "stream",
          "name": "stdout",
          "text": [
            "                   all         18         12     0.0817      0.833      0.107     0.0697\n"
          ]
        },
        {
          "output_type": "stream",
          "name": "stderr",
          "text": [
            "\n"
          ]
        },
        {
          "output_type": "stream",
          "name": "stdout",
          "text": [
            "\n",
            "      Epoch    GPU_mem   box_loss   cls_loss   dfl_loss  Instances       Size\n"
          ]
        },
        {
          "output_type": "stream",
          "name": "stderr",
          "text": [
            "     68/200      13.8G      1.141       2.13      2.689         60       1600: 100%|██████████| 5/5 [00:04<00:00,  1.16it/s]\n",
            "                 Class     Images  Instances      Box(P          R      mAP50  mAP50-95): 100%|██████████| 2/2 [00:20<00:00, 10.44s/it]"
          ]
        },
        {
          "output_type": "stream",
          "name": "stdout",
          "text": [
            "                   all         18         12     0.0786      0.857     0.0987     0.0647\n"
          ]
        },
        {
          "output_type": "stream",
          "name": "stderr",
          "text": [
            "\n"
          ]
        },
        {
          "output_type": "stream",
          "name": "stdout",
          "text": [
            "\n",
            "      Epoch    GPU_mem   box_loss   cls_loss   dfl_loss  Instances       Size\n"
          ]
        },
        {
          "output_type": "stream",
          "name": "stderr",
          "text": [
            "     69/200      13.9G      1.009      2.117      2.745         49       1600: 100%|██████████| 5/5 [00:05<00:00,  1.09s/it]\n",
            "                 Class     Images  Instances      Box(P          R      mAP50  mAP50-95): 100%|██████████| 2/2 [00:20<00:00, 10.34s/it]"
          ]
        },
        {
          "output_type": "stream",
          "name": "stdout",
          "text": [
            "                   all         18         12      0.081      0.833      0.112     0.0791\n"
          ]
        },
        {
          "output_type": "stream",
          "name": "stderr",
          "text": [
            "\n"
          ]
        },
        {
          "output_type": "stream",
          "name": "stdout",
          "text": [
            "\n",
            "      Epoch    GPU_mem   box_loss   cls_loss   dfl_loss  Instances       Size\n"
          ]
        },
        {
          "output_type": "stream",
          "name": "stderr",
          "text": [
            "     70/200      13.9G     0.9969       1.98      2.615         53       1600: 100%|██████████| 5/5 [00:04<00:00,  1.15it/s]\n",
            "                 Class     Images  Instances      Box(P          R      mAP50  mAP50-95): 100%|██████████| 2/2 [00:20<00:00, 10.13s/it]"
          ]
        },
        {
          "output_type": "stream",
          "name": "stdout",
          "text": [
            "                   all         18         12     0.0826      0.833      0.113     0.0845\n"
          ]
        },
        {
          "output_type": "stream",
          "name": "stderr",
          "text": [
            "\n"
          ]
        },
        {
          "output_type": "stream",
          "name": "stdout",
          "text": [
            "\n",
            "      Epoch    GPU_mem   box_loss   cls_loss   dfl_loss  Instances       Size\n"
          ]
        },
        {
          "output_type": "stream",
          "name": "stderr",
          "text": [
            "     71/200      13.8G      1.166      2.004      2.712         52       1600: 100%|██████████| 5/5 [00:04<00:00,  1.23it/s]\n",
            "                 Class     Images  Instances      Box(P          R      mAP50  mAP50-95): 100%|██████████| 2/2 [00:17<00:00,  8.69s/it]"
          ]
        },
        {
          "output_type": "stream",
          "name": "stdout",
          "text": [
            "                   all         18         12     0.0825      0.917      0.101     0.0756\n"
          ]
        },
        {
          "output_type": "stream",
          "name": "stderr",
          "text": [
            "\n"
          ]
        },
        {
          "output_type": "stream",
          "name": "stdout",
          "text": [
            "\n",
            "      Epoch    GPU_mem   box_loss   cls_loss   dfl_loss  Instances       Size\n"
          ]
        },
        {
          "output_type": "stream",
          "name": "stderr",
          "text": [
            "     72/200      13.9G      1.032      1.939      2.686         51       1600: 100%|██████████| 5/5 [00:04<00:00,  1.14it/s]\n",
            "                 Class     Images  Instances      Box(P          R      mAP50  mAP50-95): 100%|██████████| 2/2 [00:18<00:00,  9.26s/it]"
          ]
        },
        {
          "output_type": "stream",
          "name": "stdout",
          "text": [
            "                   all         18         12     0.0804      0.833      0.098     0.0686\n"
          ]
        },
        {
          "output_type": "stream",
          "name": "stderr",
          "text": [
            "\n"
          ]
        },
        {
          "output_type": "stream",
          "name": "stdout",
          "text": [
            "\n",
            "      Epoch    GPU_mem   box_loss   cls_loss   dfl_loss  Instances       Size\n"
          ]
        },
        {
          "output_type": "stream",
          "name": "stderr",
          "text": [
            "     73/200      13.8G      1.032      2.081      2.683         54       1600: 100%|██████████| 5/5 [00:04<00:00,  1.05it/s]\n",
            "                 Class     Images  Instances      Box(P          R      mAP50  mAP50-95): 100%|██████████| 2/2 [00:18<00:00,  9.25s/it]"
          ]
        },
        {
          "output_type": "stream",
          "name": "stdout",
          "text": [
            "                   all         18         12     0.0798      0.917      0.134      0.104\n"
          ]
        },
        {
          "output_type": "stream",
          "name": "stderr",
          "text": [
            "\n"
          ]
        },
        {
          "output_type": "stream",
          "name": "stdout",
          "text": [
            "\n",
            "      Epoch    GPU_mem   box_loss   cls_loss   dfl_loss  Instances       Size\n"
          ]
        },
        {
          "output_type": "stream",
          "name": "stderr",
          "text": [
            "     74/200      13.8G      1.105      2.192      2.808         33       1600: 100%|██████████| 5/5 [00:04<00:00,  1.21it/s]\n",
            "                 Class     Images  Instances      Box(P          R      mAP50  mAP50-95): 100%|██████████| 2/2 [00:20<00:00, 10.13s/it]"
          ]
        },
        {
          "output_type": "stream",
          "name": "stdout",
          "text": [
            "                   all         18         12     0.0953      0.333      0.168      0.137\n"
          ]
        },
        {
          "output_type": "stream",
          "name": "stderr",
          "text": [
            "\n"
          ]
        },
        {
          "output_type": "stream",
          "name": "stdout",
          "text": [
            "\n",
            "      Epoch    GPU_mem   box_loss   cls_loss   dfl_loss  Instances       Size\n"
          ]
        },
        {
          "output_type": "stream",
          "name": "stderr",
          "text": [
            "     75/200      13.9G      1.099      2.054      2.794         42       1600: 100%|██████████| 5/5 [00:04<00:00,  1.21it/s]\n",
            "                 Class     Images  Instances      Box(P          R      mAP50  mAP50-95): 100%|██████████| 2/2 [00:20<00:00, 10.42s/it]"
          ]
        },
        {
          "output_type": "stream",
          "name": "stdout",
          "text": [
            "                   all         18         12     0.0749      0.817      0.151       0.12\n"
          ]
        },
        {
          "output_type": "stream",
          "name": "stderr",
          "text": [
            "\n"
          ]
        },
        {
          "output_type": "stream",
          "name": "stdout",
          "text": [
            "\n",
            "      Epoch    GPU_mem   box_loss   cls_loss   dfl_loss  Instances       Size\n"
          ]
        },
        {
          "output_type": "stream",
          "name": "stderr",
          "text": [
            "     76/200      13.8G      1.057      2.009      2.716         38       1600: 100%|██████████| 5/5 [00:04<00:00,  1.14it/s]\n",
            "                 Class     Images  Instances      Box(P          R      mAP50  mAP50-95): 100%|██████████| 2/2 [00:17<00:00,  8.63s/it]"
          ]
        },
        {
          "output_type": "stream",
          "name": "stdout",
          "text": [
            "                   all         18         12     0.0726      0.667      0.113     0.0822\n"
          ]
        },
        {
          "output_type": "stream",
          "name": "stderr",
          "text": [
            "\n"
          ]
        },
        {
          "output_type": "stream",
          "name": "stdout",
          "text": [
            "\n",
            "      Epoch    GPU_mem   box_loss   cls_loss   dfl_loss  Instances       Size\n"
          ]
        },
        {
          "output_type": "stream",
          "name": "stderr",
          "text": [
            "     77/200      13.9G      1.053      1.971      2.765         43       1600: 100%|██████████| 5/5 [00:04<00:00,  1.20it/s]\n",
            "                 Class     Images  Instances      Box(P          R      mAP50  mAP50-95): 100%|██████████| 2/2 [00:18<00:00,  9.34s/it]"
          ]
        },
        {
          "output_type": "stream",
          "name": "stdout",
          "text": [
            "                   all         18         12     0.0812      0.917      0.106     0.0707\n"
          ]
        },
        {
          "output_type": "stream",
          "name": "stderr",
          "text": [
            "\n"
          ]
        },
        {
          "output_type": "stream",
          "name": "stdout",
          "text": [
            "\n",
            "      Epoch    GPU_mem   box_loss   cls_loss   dfl_loss  Instances       Size\n"
          ]
        },
        {
          "output_type": "stream",
          "name": "stderr",
          "text": [
            "     78/200      13.8G     0.9325      1.989      2.715         56       1600: 100%|██████████| 5/5 [00:04<00:00,  1.22it/s]\n",
            "                 Class     Images  Instances      Box(P          R      mAP50  mAP50-95): 100%|██████████| 2/2 [00:22<00:00, 11.10s/it]"
          ]
        },
        {
          "output_type": "stream",
          "name": "stdout",
          "text": [
            "                   all         18         12     0.0879          1      0.102      0.073\n"
          ]
        },
        {
          "output_type": "stream",
          "name": "stderr",
          "text": [
            "\n"
          ]
        },
        {
          "output_type": "stream",
          "name": "stdout",
          "text": [
            "\n",
            "      Epoch    GPU_mem   box_loss   cls_loss   dfl_loss  Instances       Size\n"
          ]
        },
        {
          "output_type": "stream",
          "name": "stderr",
          "text": [
            "     79/200      13.9G     0.9598      1.985      2.766         24       1600: 100%|██████████| 5/5 [00:04<00:00,  1.19it/s]\n",
            "                 Class     Images  Instances      Box(P          R      mAP50  mAP50-95): 100%|██████████| 2/2 [00:19<00:00,  9.71s/it]"
          ]
        },
        {
          "output_type": "stream",
          "name": "stdout",
          "text": [
            "                   all         18         12     0.0873      0.917     0.0997     0.0752\n"
          ]
        },
        {
          "output_type": "stream",
          "name": "stderr",
          "text": [
            "\n"
          ]
        },
        {
          "output_type": "stream",
          "name": "stdout",
          "text": [
            "\n",
            "      Epoch    GPU_mem   box_loss   cls_loss   dfl_loss  Instances       Size\n"
          ]
        },
        {
          "output_type": "stream",
          "name": "stderr",
          "text": [
            "     80/200      13.9G      1.116      1.997      2.714         58       1600: 100%|██████████| 5/5 [00:05<00:00,  1.09s/it]\n",
            "                 Class     Images  Instances      Box(P          R      mAP50  mAP50-95): 100%|██████████| 2/2 [00:19<00:00,  9.71s/it]"
          ]
        },
        {
          "output_type": "stream",
          "name": "stdout",
          "text": [
            "                   all         18         12     0.0704      0.833      0.169      0.144\n"
          ]
        },
        {
          "output_type": "stream",
          "name": "stderr",
          "text": [
            "\n"
          ]
        },
        {
          "output_type": "stream",
          "name": "stdout",
          "text": [
            "\n",
            "      Epoch    GPU_mem   box_loss   cls_loss   dfl_loss  Instances       Size\n"
          ]
        },
        {
          "output_type": "stream",
          "name": "stderr",
          "text": [
            "     81/200      13.9G     0.9658      1.844      2.592         66       1600: 100%|██████████| 5/5 [00:04<00:00,  1.24it/s]\n",
            "                 Class     Images  Instances      Box(P          R      mAP50  mAP50-95): 100%|██████████| 2/2 [00:20<00:00, 10.06s/it]"
          ]
        },
        {
          "output_type": "stream",
          "name": "stdout",
          "text": [
            "                   all         18         12     0.0604       0.69      0.123      0.102\n"
          ]
        },
        {
          "output_type": "stream",
          "name": "stderr",
          "text": [
            "\n"
          ]
        },
        {
          "output_type": "stream",
          "name": "stdout",
          "text": [
            "\n",
            "      Epoch    GPU_mem   box_loss   cls_loss   dfl_loss  Instances       Size\n"
          ]
        },
        {
          "output_type": "stream",
          "name": "stderr",
          "text": [
            "     82/200      13.9G     0.9615      1.884      2.673         48       1600: 100%|██████████| 5/5 [00:04<00:00,  1.17it/s]\n",
            "                 Class     Images  Instances      Box(P          R      mAP50  mAP50-95): 100%|██████████| 2/2 [00:15<00:00,  7.63s/it]"
          ]
        },
        {
          "output_type": "stream",
          "name": "stdout",
          "text": [
            "                   all         18         12      0.103      0.167      0.128      0.105\n"
          ]
        },
        {
          "output_type": "stream",
          "name": "stderr",
          "text": [
            "\n"
          ]
        },
        {
          "output_type": "stream",
          "name": "stdout",
          "text": [
            "\n",
            "      Epoch    GPU_mem   box_loss   cls_loss   dfl_loss  Instances       Size\n"
          ]
        },
        {
          "output_type": "stream",
          "name": "stderr",
          "text": [
            "     83/200      13.8G     0.9229      1.783      2.611         48       1600: 100%|██████████| 5/5 [00:04<00:00,  1.21it/s]\n",
            "                 Class     Images  Instances      Box(P          R      mAP50  mAP50-95): 100%|██████████| 2/2 [00:16<00:00,  8.39s/it]"
          ]
        },
        {
          "output_type": "stream",
          "name": "stdout",
          "text": [
            "                   all         18         12     0.0617       0.75      0.107     0.0852\n"
          ]
        },
        {
          "output_type": "stream",
          "name": "stderr",
          "text": [
            "\n"
          ]
        },
        {
          "output_type": "stream",
          "name": "stdout",
          "text": [
            "\n",
            "      Epoch    GPU_mem   box_loss   cls_loss   dfl_loss  Instances       Size\n"
          ]
        },
        {
          "output_type": "stream",
          "name": "stderr",
          "text": [
            "     84/200      13.8G       1.11      2.045      2.704         40       1600: 100%|██████████| 5/5 [00:04<00:00,  1.17it/s]\n",
            "                 Class     Images  Instances      Box(P          R      mAP50  mAP50-95): 100%|██████████| 2/2 [00:19<00:00,  9.76s/it]"
          ]
        },
        {
          "output_type": "stream",
          "name": "stdout",
          "text": [
            "                   all         18         12      0.136      0.417      0.151      0.125\n"
          ]
        },
        {
          "output_type": "stream",
          "name": "stderr",
          "text": [
            "\n"
          ]
        },
        {
          "output_type": "stream",
          "name": "stdout",
          "text": [
            "\n",
            "      Epoch    GPU_mem   box_loss   cls_loss   dfl_loss  Instances       Size\n"
          ]
        },
        {
          "output_type": "stream",
          "name": "stderr",
          "text": [
            "     85/200      13.8G      1.006      1.802      2.657         39       1600: 100%|██████████| 5/5 [00:04<00:00,  1.18it/s]\n",
            "                 Class     Images  Instances      Box(P          R      mAP50  mAP50-95): 100%|██████████| 2/2 [00:25<00:00, 12.88s/it]"
          ]
        },
        {
          "output_type": "stream",
          "name": "stdout",
          "text": [
            "                   all         18         12      0.166        0.5      0.184       0.15\n"
          ]
        },
        {
          "output_type": "stream",
          "name": "stderr",
          "text": [
            "\n"
          ]
        },
        {
          "output_type": "stream",
          "name": "stdout",
          "text": [
            "\n",
            "      Epoch    GPU_mem   box_loss   cls_loss   dfl_loss  Instances       Size\n"
          ]
        },
        {
          "output_type": "stream",
          "name": "stderr",
          "text": [
            "     86/200      13.9G     0.9305      1.898      2.692         21       1600: 100%|██████████| 5/5 [00:04<00:00,  1.17it/s]\n",
            "                 Class     Images  Instances      Box(P          R      mAP50  mAP50-95): 100%|██████████| 2/2 [00:16<00:00,  8.39s/it]"
          ]
        },
        {
          "output_type": "stream",
          "name": "stdout",
          "text": [
            "                   all         18         12     0.0773      0.908       0.14       0.11\n"
          ]
        },
        {
          "output_type": "stream",
          "name": "stderr",
          "text": [
            "\n"
          ]
        },
        {
          "output_type": "stream",
          "name": "stdout",
          "text": [
            "\n",
            "      Epoch    GPU_mem   box_loss   cls_loss   dfl_loss  Instances       Size\n"
          ]
        },
        {
          "output_type": "stream",
          "name": "stderr",
          "text": [
            "     87/200      13.8G     0.9888      1.925      2.768         57       1600: 100%|██████████| 5/5 [00:06<00:00,  1.26s/it]\n",
            "                 Class     Images  Instances      Box(P          R      mAP50  mAP50-95): 100%|██████████| 2/2 [00:21<00:00, 10.84s/it]"
          ]
        },
        {
          "output_type": "stream",
          "name": "stdout",
          "text": [
            "                   all         18         12     0.0757      0.802      0.105     0.0835\n"
          ]
        },
        {
          "output_type": "stream",
          "name": "stderr",
          "text": [
            "\n"
          ]
        },
        {
          "output_type": "stream",
          "name": "stdout",
          "text": [
            "\n",
            "      Epoch    GPU_mem   box_loss   cls_loss   dfl_loss  Instances       Size\n"
          ]
        },
        {
          "output_type": "stream",
          "name": "stderr",
          "text": [
            "     88/200      13.8G     0.8911      1.763      2.685         54       1600: 100%|██████████| 5/5 [00:04<00:00,  1.10it/s]\n",
            "                 Class     Images  Instances      Box(P          R      mAP50  mAP50-95): 100%|██████████| 2/2 [00:25<00:00, 12.57s/it]"
          ]
        },
        {
          "output_type": "stream",
          "name": "stdout",
          "text": [
            "                   all         18         12      0.375      0.167      0.143      0.125\n"
          ]
        },
        {
          "output_type": "stream",
          "name": "stderr",
          "text": [
            "\n"
          ]
        },
        {
          "output_type": "stream",
          "name": "stdout",
          "text": [
            "\n",
            "      Epoch    GPU_mem   box_loss   cls_loss   dfl_loss  Instances       Size\n"
          ]
        },
        {
          "output_type": "stream",
          "name": "stderr",
          "text": [
            "     89/200      13.9G     0.8495      1.688      2.619         46       1600: 100%|██████████| 5/5 [00:04<00:00,  1.12it/s]\n",
            "                 Class     Images  Instances      Box(P          R      mAP50  mAP50-95): 100%|██████████| 2/2 [00:20<00:00, 10.24s/it]"
          ]
        },
        {
          "output_type": "stream",
          "name": "stdout",
          "text": [
            "                   all         18         12      0.451       0.25      0.158      0.139\n"
          ]
        },
        {
          "output_type": "stream",
          "name": "stderr",
          "text": [
            "\n"
          ]
        },
        {
          "output_type": "stream",
          "name": "stdout",
          "text": [
            "\n",
            "      Epoch    GPU_mem   box_loss   cls_loss   dfl_loss  Instances       Size\n"
          ]
        },
        {
          "output_type": "stream",
          "name": "stderr",
          "text": [
            "     90/200      13.9G     0.9866      1.808      2.674         55       1600: 100%|██████████| 5/5 [00:04<00:00,  1.17it/s]\n",
            "                 Class     Images  Instances      Box(P          R      mAP50  mAP50-95): 100%|██████████| 2/2 [00:23<00:00, 11.94s/it]"
          ]
        },
        {
          "output_type": "stream",
          "name": "stdout",
          "text": [
            "                   all         18         12       0.16      0.333      0.139      0.121\n"
          ]
        },
        {
          "output_type": "stream",
          "name": "stderr",
          "text": [
            "\n"
          ]
        },
        {
          "output_type": "stream",
          "name": "stdout",
          "text": [
            "\n",
            "      Epoch    GPU_mem   box_loss   cls_loss   dfl_loss  Instances       Size\n"
          ]
        },
        {
          "output_type": "stream",
          "name": "stderr",
          "text": [
            "     91/200      13.8G     0.9216       1.76      2.623         37       1600: 100%|██████████| 5/5 [00:03<00:00,  1.26it/s]\n",
            "                 Class     Images  Instances      Box(P          R      mAP50  mAP50-95): 100%|██████████| 2/2 [00:19<00:00,  9.85s/it]\n"
          ]
        },
        {
          "output_type": "stream",
          "name": "stdout",
          "text": [
            "                   all         18         12     0.0732        0.5       0.11      0.087\n",
            "\n",
            "      Epoch    GPU_mem   box_loss   cls_loss   dfl_loss  Instances       Size\n"
          ]
        },
        {
          "output_type": "stream",
          "name": "stderr",
          "text": [
            "     92/200      13.9G     0.8916      1.833      2.651         40       1600: 100%|██████████| 5/5 [00:04<00:00,  1.18it/s]\n",
            "                 Class     Images  Instances      Box(P          R      mAP50  mAP50-95): 100%|██████████| 2/2 [00:18<00:00,  9.23s/it]"
          ]
        },
        {
          "output_type": "stream",
          "name": "stdout",
          "text": [
            "                   all         18         12     0.0814      0.667      0.101     0.0778\n"
          ]
        },
        {
          "output_type": "stream",
          "name": "stderr",
          "text": [
            "\n"
          ]
        },
        {
          "output_type": "stream",
          "name": "stdout",
          "text": [
            "\n",
            "      Epoch    GPU_mem   box_loss   cls_loss   dfl_loss  Instances       Size\n"
          ]
        },
        {
          "output_type": "stream",
          "name": "stderr",
          "text": [
            "     93/200      13.7G     0.9674      1.757      2.729         52       1600: 100%|██████████| 5/5 [00:04<00:00,  1.14it/s]\n",
            "                 Class     Images  Instances      Box(P          R      mAP50  mAP50-95): 100%|██████████| 2/2 [00:16<00:00,  8.22s/it]"
          ]
        },
        {
          "output_type": "stream",
          "name": "stdout",
          "text": [
            "                   all         18         12     0.0963      0.583      0.158      0.132\n"
          ]
        },
        {
          "output_type": "stream",
          "name": "stderr",
          "text": [
            "\n"
          ]
        },
        {
          "output_type": "stream",
          "name": "stdout",
          "text": [
            "\n",
            "      Epoch    GPU_mem   box_loss   cls_loss   dfl_loss  Instances       Size\n"
          ]
        },
        {
          "output_type": "stream",
          "name": "stderr",
          "text": [
            "     94/200      13.9G     0.9122      1.746      2.577         32       1600: 100%|██████████| 5/5 [00:07<00:00,  1.52s/it]\n",
            "                 Class     Images  Instances      Box(P          R      mAP50  mAP50-95): 100%|██████████| 2/2 [00:15<00:00,  7.69s/it]"
          ]
        },
        {
          "output_type": "stream",
          "name": "stdout",
          "text": [
            "                   all         18         12     0.0921      0.583      0.198      0.157\n"
          ]
        },
        {
          "output_type": "stream",
          "name": "stderr",
          "text": [
            "\n"
          ]
        },
        {
          "output_type": "stream",
          "name": "stdout",
          "text": [
            "\n",
            "      Epoch    GPU_mem   box_loss   cls_loss   dfl_loss  Instances       Size\n"
          ]
        },
        {
          "output_type": "stream",
          "name": "stderr",
          "text": [
            "     95/200      13.9G     0.9436       1.82      2.596         44       1600: 100%|██████████| 5/5 [00:04<00:00,  1.08it/s]\n",
            "                 Class     Images  Instances      Box(P          R      mAP50  mAP50-95): 100%|██████████| 2/2 [00:24<00:00, 12.11s/it]"
          ]
        },
        {
          "output_type": "stream",
          "name": "stdout",
          "text": [
            "                   all         18         12     0.0936      0.667       0.15      0.116\n"
          ]
        },
        {
          "output_type": "stream",
          "name": "stderr",
          "text": [
            "\n"
          ]
        },
        {
          "output_type": "stream",
          "name": "stdout",
          "text": [
            "\n",
            "      Epoch    GPU_mem   box_loss   cls_loss   dfl_loss  Instances       Size\n"
          ]
        },
        {
          "output_type": "stream",
          "name": "stderr",
          "text": [
            "     96/200      13.9G     0.9095      1.746      2.746         40       1600: 100%|██████████| 5/5 [00:04<00:00,  1.18it/s]\n",
            "                 Class     Images  Instances      Box(P          R      mAP50  mAP50-95): 100%|██████████| 2/2 [00:15<00:00,  7.92s/it]"
          ]
        },
        {
          "output_type": "stream",
          "name": "stdout",
          "text": [
            "                   all         18         12     0.0866      0.896      0.145      0.116\n"
          ]
        },
        {
          "output_type": "stream",
          "name": "stderr",
          "text": [
            "\n"
          ]
        },
        {
          "output_type": "stream",
          "name": "stdout",
          "text": [
            "\n",
            "      Epoch    GPU_mem   box_loss   cls_loss   dfl_loss  Instances       Size\n"
          ]
        },
        {
          "output_type": "stream",
          "name": "stderr",
          "text": [
            "     97/200      13.8G     0.9319      1.803      2.581         54       1600: 100%|██████████| 5/5 [00:04<00:00,  1.23it/s]\n",
            "                 Class     Images  Instances      Box(P          R      mAP50  mAP50-95): 100%|██████████| 2/2 [00:23<00:00, 11.81s/it]"
          ]
        },
        {
          "output_type": "stream",
          "name": "stdout",
          "text": [
            "                   all         18         12     0.0902      0.987      0.125      0.103\n"
          ]
        },
        {
          "output_type": "stream",
          "name": "stderr",
          "text": [
            "\n"
          ]
        },
        {
          "output_type": "stream",
          "name": "stdout",
          "text": [
            "\n",
            "      Epoch    GPU_mem   box_loss   cls_loss   dfl_loss  Instances       Size\n"
          ]
        },
        {
          "output_type": "stream",
          "name": "stderr",
          "text": [
            "     98/200      13.8G     0.8772      1.677      2.597         47       1600: 100%|██████████| 5/5 [00:04<00:00,  1.18it/s]\n",
            "                 Class     Images  Instances      Box(P          R      mAP50  mAP50-95): 100%|██████████| 2/2 [00:23<00:00, 11.91s/it]"
          ]
        },
        {
          "output_type": "stream",
          "name": "stdout",
          "text": [
            "                   all         18         12      0.141      0.333      0.136      0.116\n"
          ]
        },
        {
          "output_type": "stream",
          "name": "stderr",
          "text": [
            "\n"
          ]
        },
        {
          "output_type": "stream",
          "name": "stdout",
          "text": [
            "\n",
            "      Epoch    GPU_mem   box_loss   cls_loss   dfl_loss  Instances       Size\n"
          ]
        },
        {
          "output_type": "stream",
          "name": "stderr",
          "text": [
            "     99/200      13.9G     0.9099      1.784      2.547         34       1600: 100%|██████████| 5/5 [00:04<00:00,  1.21it/s]\n",
            "                 Class     Images  Instances      Box(P          R      mAP50  mAP50-95): 100%|██████████| 2/2 [00:21<00:00, 10.65s/it]"
          ]
        },
        {
          "output_type": "stream",
          "name": "stdout",
          "text": [
            "                   all         18         12     0.0846       0.75      0.156      0.131\n"
          ]
        },
        {
          "output_type": "stream",
          "name": "stderr",
          "text": [
            "\n"
          ]
        },
        {
          "output_type": "stream",
          "name": "stdout",
          "text": [
            "\n",
            "      Epoch    GPU_mem   box_loss   cls_loss   dfl_loss  Instances       Size\n"
          ]
        },
        {
          "output_type": "stream",
          "name": "stderr",
          "text": [
            "    100/200      13.9G     0.8887      1.628      2.544         59       1600: 100%|██████████| 5/5 [00:04<00:00,  1.18it/s]\n",
            "                 Class     Images  Instances      Box(P          R      mAP50  mAP50-95): 100%|██████████| 2/2 [00:21<00:00, 10.77s/it]\n"
          ]
        },
        {
          "output_type": "stream",
          "name": "stdout",
          "text": [
            "                   all         18         12        0.1      0.667      0.148      0.124\n",
            "\n",
            "      Epoch    GPU_mem   box_loss   cls_loss   dfl_loss  Instances       Size\n"
          ]
        },
        {
          "output_type": "stream",
          "name": "stderr",
          "text": [
            "    101/200      13.9G     0.8052      1.575      2.599         59       1600: 100%|██████████| 5/5 [00:04<00:00,  1.15it/s]\n",
            "                 Class     Images  Instances      Box(P          R      mAP50  mAP50-95): 100%|██████████| 2/2 [00:25<00:00, 12.70s/it]"
          ]
        },
        {
          "output_type": "stream",
          "name": "stdout",
          "text": [
            "                   all         18         12     0.0866      0.833      0.142      0.123\n"
          ]
        },
        {
          "output_type": "stream",
          "name": "stderr",
          "text": [
            "\n"
          ]
        },
        {
          "output_type": "stream",
          "name": "stdout",
          "text": [
            "\n",
            "      Epoch    GPU_mem   box_loss   cls_loss   dfl_loss  Instances       Size\n"
          ]
        },
        {
          "output_type": "stream",
          "name": "stderr",
          "text": [
            "    102/200      13.9G     0.8764      1.744      2.602         75       1600: 100%|██████████| 5/5 [00:05<00:00,  1.10s/it]\n",
            "                 Class     Images  Instances      Box(P          R      mAP50  mAP50-95): 100%|██████████| 2/2 [00:29<00:00, 14.63s/it]"
          ]
        },
        {
          "output_type": "stream",
          "name": "stdout",
          "text": [
            "                   all         18         12     0.0885        0.5      0.133      0.117\n"
          ]
        },
        {
          "output_type": "stream",
          "name": "stderr",
          "text": [
            "\n"
          ]
        },
        {
          "output_type": "stream",
          "name": "stdout",
          "text": [
            "\n",
            "      Epoch    GPU_mem   box_loss   cls_loss   dfl_loss  Instances       Size\n"
          ]
        },
        {
          "output_type": "stream",
          "name": "stderr",
          "text": [
            "    103/200      13.8G     0.8642      1.785      2.503         34       1600: 100%|██████████| 5/5 [00:09<00:00,  1.88s/it]\n",
            "                 Class     Images  Instances      Box(P          R      mAP50  mAP50-95): 100%|██████████| 2/2 [00:22<00:00, 11.26s/it]"
          ]
        },
        {
          "output_type": "stream",
          "name": "stdout",
          "text": [
            "                   all         18         12      0.089      0.417      0.139      0.124\n"
          ]
        },
        {
          "output_type": "stream",
          "name": "stderr",
          "text": [
            "\n"
          ]
        },
        {
          "output_type": "stream",
          "name": "stdout",
          "text": [
            "\n",
            "      Epoch    GPU_mem   box_loss   cls_loss   dfl_loss  Instances       Size\n"
          ]
        },
        {
          "output_type": "stream",
          "name": "stderr",
          "text": [
            "    104/200      13.9G     0.9217      1.692      2.611         31       1600: 100%|██████████| 5/5 [00:05<00:00,  1.12s/it]\n",
            "                 Class     Images  Instances      Box(P          R      mAP50  mAP50-95): 100%|██████████| 2/2 [00:21<00:00, 10.73s/it]"
          ]
        },
        {
          "output_type": "stream",
          "name": "stdout",
          "text": [
            "                   all         18         12     0.0927      0.728       0.15      0.132\n"
          ]
        },
        {
          "output_type": "stream",
          "name": "stderr",
          "text": [
            "\n"
          ]
        },
        {
          "output_type": "stream",
          "name": "stdout",
          "text": [
            "\n",
            "      Epoch    GPU_mem   box_loss   cls_loss   dfl_loss  Instances       Size\n"
          ]
        },
        {
          "output_type": "stream",
          "name": "stderr",
          "text": [
            "    105/200      13.8G     0.8241      1.631      2.681         34       1600: 100%|██████████| 5/5 [00:05<00:00,  1.12s/it]\n",
            "                 Class     Images  Instances      Box(P          R      mAP50  mAP50-95): 100%|██████████| 2/2 [00:24<00:00, 12.32s/it]"
          ]
        },
        {
          "output_type": "stream",
          "name": "stdout",
          "text": [
            "                   all         18         12     0.0819      0.833      0.147      0.127\n"
          ]
        },
        {
          "output_type": "stream",
          "name": "stderr",
          "text": [
            "\n"
          ]
        },
        {
          "output_type": "stream",
          "name": "stdout",
          "text": [
            "\n",
            "      Epoch    GPU_mem   box_loss   cls_loss   dfl_loss  Instances       Size\n"
          ]
        },
        {
          "output_type": "stream",
          "name": "stderr",
          "text": [
            "    106/200      13.9G     0.8513      1.691      2.633         48       1600: 100%|██████████| 5/5 [00:04<00:00,  1.20it/s]\n",
            "                 Class     Images  Instances      Box(P          R      mAP50  mAP50-95): 100%|██████████| 2/2 [00:26<00:00, 13.49s/it]"
          ]
        },
        {
          "output_type": "stream",
          "name": "stdout",
          "text": [
            "                   all         18         12     0.0859      0.917      0.187      0.166\n"
          ]
        },
        {
          "output_type": "stream",
          "name": "stderr",
          "text": [
            "\n"
          ]
        },
        {
          "output_type": "stream",
          "name": "stdout",
          "text": [
            "\n",
            "      Epoch    GPU_mem   box_loss   cls_loss   dfl_loss  Instances       Size\n"
          ]
        },
        {
          "output_type": "stream",
          "name": "stderr",
          "text": [
            "    107/200      13.8G     0.8498      1.565      2.586         37       1600: 100%|██████████| 5/5 [00:08<00:00,  1.69s/it]\n",
            "                 Class     Images  Instances      Box(P          R      mAP50  mAP50-95): 100%|██████████| 2/2 [00:20<00:00, 10.31s/it]\n"
          ]
        },
        {
          "output_type": "stream",
          "name": "stdout",
          "text": [
            "                   all         18         12     0.0999          1      0.182      0.161\n",
            "\n",
            "      Epoch    GPU_mem   box_loss   cls_loss   dfl_loss  Instances       Size\n"
          ]
        },
        {
          "output_type": "stream",
          "name": "stderr",
          "text": [
            "    108/200      13.8G     0.7758      1.588      2.579         31       1600: 100%|██████████| 5/5 [00:04<00:00,  1.17it/s]\n",
            "                 Class     Images  Instances      Box(P          R      mAP50  mAP50-95): 100%|██████████| 2/2 [00:21<00:00, 10.69s/it]"
          ]
        },
        {
          "output_type": "stream",
          "name": "stdout",
          "text": [
            "                   all         18         12     0.0844      0.917      0.193      0.162\n"
          ]
        },
        {
          "output_type": "stream",
          "name": "stderr",
          "text": [
            "\n"
          ]
        },
        {
          "output_type": "stream",
          "name": "stdout",
          "text": [
            "\n",
            "      Epoch    GPU_mem   box_loss   cls_loss   dfl_loss  Instances       Size\n"
          ]
        },
        {
          "output_type": "stream",
          "name": "stderr",
          "text": [
            "    109/200      13.9G      0.807      1.582       2.57         36       1600: 100%|██████████| 5/5 [00:04<00:00,  1.16it/s]\n",
            "                 Class     Images  Instances      Box(P          R      mAP50  mAP50-95): 100%|██████████| 2/2 [00:20<00:00, 10.33s/it]"
          ]
        },
        {
          "output_type": "stream",
          "name": "stdout",
          "text": [
            "                   all         18         12     0.0825      0.917      0.193       0.16\n"
          ]
        },
        {
          "output_type": "stream",
          "name": "stderr",
          "text": [
            "\n"
          ]
        },
        {
          "output_type": "stream",
          "name": "stdout",
          "text": [
            "\n",
            "      Epoch    GPU_mem   box_loss   cls_loss   dfl_loss  Instances       Size\n"
          ]
        },
        {
          "output_type": "stream",
          "name": "stderr",
          "text": [
            "    110/200      13.8G     0.8671      1.565      2.546         60       1600: 100%|██████████| 5/5 [00:04<00:00,  1.21it/s]\n",
            "                 Class     Images  Instances      Box(P          R      mAP50  mAP50-95): 100%|██████████| 2/2 [00:17<00:00,  8.67s/it]"
          ]
        },
        {
          "output_type": "stream",
          "name": "stdout",
          "text": [
            "                   all         18         12      0.155       0.25      0.181      0.152\n"
          ]
        },
        {
          "output_type": "stream",
          "name": "stderr",
          "text": [
            "\n"
          ]
        },
        {
          "output_type": "stream",
          "name": "stdout",
          "text": [
            "\n",
            "      Epoch    GPU_mem   box_loss   cls_loss   dfl_loss  Instances       Size\n"
          ]
        },
        {
          "output_type": "stream",
          "name": "stderr",
          "text": [
            "    111/200      13.8G     0.8351       1.69      2.597         24       1600: 100%|██████████| 5/5 [00:05<00:00,  1.12s/it]\n",
            "                 Class     Images  Instances      Box(P          R      mAP50  mAP50-95): 100%|██████████| 2/2 [00:21<00:00, 10.88s/it]"
          ]
        },
        {
          "output_type": "stream",
          "name": "stdout",
          "text": [
            "                   all         18         12      0.157      0.333      0.176      0.153\n"
          ]
        },
        {
          "output_type": "stream",
          "name": "stderr",
          "text": [
            "\n"
          ]
        },
        {
          "output_type": "stream",
          "name": "stdout",
          "text": [
            "\n",
            "      Epoch    GPU_mem   box_loss   cls_loss   dfl_loss  Instances       Size\n"
          ]
        },
        {
          "output_type": "stream",
          "name": "stderr",
          "text": [
            "    112/200      13.9G     0.7399      1.524      2.654         21       1600: 100%|██████████| 5/5 [00:04<00:00,  1.20it/s]\n",
            "                 Class     Images  Instances      Box(P          R      mAP50  mAP50-95): 100%|██████████| 2/2 [00:24<00:00, 12.13s/it]"
          ]
        },
        {
          "output_type": "stream",
          "name": "stdout",
          "text": [
            "                   all         18         12     0.0798      0.917      0.137       0.12\n"
          ]
        },
        {
          "output_type": "stream",
          "name": "stderr",
          "text": [
            "\n"
          ]
        },
        {
          "output_type": "stream",
          "name": "stdout",
          "text": [
            "\n",
            "      Epoch    GPU_mem   box_loss   cls_loss   dfl_loss  Instances       Size\n"
          ]
        },
        {
          "output_type": "stream",
          "name": "stderr",
          "text": [
            "    113/200      13.9G     0.7712       1.51      2.615         37       1600: 100%|██████████| 5/5 [00:04<00:00,  1.21it/s]\n",
            "                 Class     Images  Instances      Box(P          R      mAP50  mAP50-95): 100%|██████████| 2/2 [00:23<00:00, 11.62s/it]"
          ]
        },
        {
          "output_type": "stream",
          "name": "stdout",
          "text": [
            "                   all         18         12     0.0873          1      0.145      0.125\n"
          ]
        },
        {
          "output_type": "stream",
          "name": "stderr",
          "text": [
            "\n"
          ]
        },
        {
          "output_type": "stream",
          "name": "stdout",
          "text": [
            "\n",
            "      Epoch    GPU_mem   box_loss   cls_loss   dfl_loss  Instances       Size\n"
          ]
        },
        {
          "output_type": "stream",
          "name": "stderr",
          "text": [
            "    114/200      13.9G     0.7694      1.544      2.481         33       1600: 100%|██████████| 5/5 [00:04<00:00,  1.05it/s]\n",
            "                 Class     Images  Instances      Box(P          R      mAP50  mAP50-95): 100%|██████████| 2/2 [00:22<00:00, 11.49s/it]"
          ]
        },
        {
          "output_type": "stream",
          "name": "stdout",
          "text": [
            "                   all         18         12     0.0944          1       0.15      0.129\n"
          ]
        },
        {
          "output_type": "stream",
          "name": "stderr",
          "text": [
            "\n"
          ]
        },
        {
          "output_type": "stream",
          "name": "stdout",
          "text": [
            "\n",
            "      Epoch    GPU_mem   box_loss   cls_loss   dfl_loss  Instances       Size\n"
          ]
        },
        {
          "output_type": "stream",
          "name": "stderr",
          "text": [
            "    115/200      13.8G     0.7465      1.475      2.546         55       1600: 100%|██████████| 5/5 [00:04<00:00,  1.18it/s]\n",
            "                 Class     Images  Instances      Box(P          R      mAP50  mAP50-95): 100%|██████████| 2/2 [00:22<00:00, 11.08s/it]"
          ]
        },
        {
          "output_type": "stream",
          "name": "stdout",
          "text": [
            "                   all         18         12     0.0981      0.917      0.159      0.135\n"
          ]
        },
        {
          "output_type": "stream",
          "name": "stderr",
          "text": [
            "\n"
          ]
        },
        {
          "output_type": "stream",
          "name": "stdout",
          "text": [
            "\n",
            "      Epoch    GPU_mem   box_loss   cls_loss   dfl_loss  Instances       Size\n"
          ]
        },
        {
          "output_type": "stream",
          "name": "stderr",
          "text": [
            "    116/200      13.9G     0.7576      1.509      2.549         40       1600: 100%|██████████| 5/5 [00:04<00:00,  1.16it/s]\n",
            "                 Class     Images  Instances      Box(P          R      mAP50  mAP50-95): 100%|██████████| 2/2 [00:21<00:00, 10.97s/it]"
          ]
        },
        {
          "output_type": "stream",
          "name": "stdout",
          "text": [
            "                   all         18         12      0.088      0.877      0.188       0.15\n"
          ]
        },
        {
          "output_type": "stream",
          "name": "stderr",
          "text": [
            "\n"
          ]
        },
        {
          "output_type": "stream",
          "name": "stdout",
          "text": [
            "\n",
            "      Epoch    GPU_mem   box_loss   cls_loss   dfl_loss  Instances       Size\n"
          ]
        },
        {
          "output_type": "stream",
          "name": "stderr",
          "text": [
            "    117/200      13.9G     0.8114      1.487      2.538         49       1600: 100%|██████████| 5/5 [00:05<00:00,  1.09s/it]\n",
            "                 Class     Images  Instances      Box(P          R      mAP50  mAP50-95): 100%|██████████| 2/2 [00:20<00:00, 10.37s/it]"
          ]
        },
        {
          "output_type": "stream",
          "name": "stdout",
          "text": [
            "                   all         18         12      0.123       0.25      0.143       0.12\n"
          ]
        },
        {
          "output_type": "stream",
          "name": "stderr",
          "text": [
            "\n"
          ]
        },
        {
          "output_type": "stream",
          "name": "stdout",
          "text": [
            "\n",
            "      Epoch    GPU_mem   box_loss   cls_loss   dfl_loss  Instances       Size\n"
          ]
        },
        {
          "output_type": "stream",
          "name": "stderr",
          "text": [
            "    118/200      13.8G     0.8041      1.499      2.567         68       1600: 100%|██████████| 5/5 [00:04<00:00,  1.14it/s]\n",
            "                 Class     Images  Instances      Box(P          R      mAP50  mAP50-95): 100%|██████████| 2/2 [00:28<00:00, 14.46s/it]"
          ]
        },
        {
          "output_type": "stream",
          "name": "stdout",
          "text": [
            "                   all         18         12      0.118      0.293      0.134      0.112\n"
          ]
        },
        {
          "output_type": "stream",
          "name": "stderr",
          "text": [
            "\n"
          ]
        },
        {
          "output_type": "stream",
          "name": "stdout",
          "text": [
            "\n",
            "      Epoch    GPU_mem   box_loss   cls_loss   dfl_loss  Instances       Size\n"
          ]
        },
        {
          "output_type": "stream",
          "name": "stderr",
          "text": [
            "    119/200      13.8G     0.7688      1.485       2.56         31       1600: 100%|██████████| 5/5 [00:04<00:00,  1.19it/s]\n",
            "                 Class     Images  Instances      Box(P          R      mAP50  mAP50-95): 100%|██████████| 2/2 [00:25<00:00, 12.52s/it]"
          ]
        },
        {
          "output_type": "stream",
          "name": "stdout",
          "text": [
            "                   all         18         12      0.235       0.25      0.177      0.155\n"
          ]
        },
        {
          "output_type": "stream",
          "name": "stderr",
          "text": [
            "\n"
          ]
        },
        {
          "output_type": "stream",
          "name": "stdout",
          "text": [
            "\n",
            "      Epoch    GPU_mem   box_loss   cls_loss   dfl_loss  Instances       Size\n"
          ]
        },
        {
          "output_type": "stream",
          "name": "stderr",
          "text": [
            "    120/200      13.9G      0.864      1.515      2.569         37       1600: 100%|██████████| 5/5 [00:04<00:00,  1.15it/s]\n",
            "                 Class     Images  Instances      Box(P          R      mAP50  mAP50-95): 100%|██████████| 2/2 [00:20<00:00, 10.45s/it]"
          ]
        },
        {
          "output_type": "stream",
          "name": "stdout",
          "text": [
            "                   all         18         12     0.0926       0.25      0.183      0.152\n"
          ]
        },
        {
          "output_type": "stream",
          "name": "stderr",
          "text": [
            "\n"
          ]
        },
        {
          "output_type": "stream",
          "name": "stdout",
          "text": [
            "\n",
            "      Epoch    GPU_mem   box_loss   cls_loss   dfl_loss  Instances       Size\n"
          ]
        },
        {
          "output_type": "stream",
          "name": "stderr",
          "text": [
            "    121/200      13.9G     0.7626      1.445      2.569         44       1600: 100%|██████████| 5/5 [00:04<00:00,  1.23it/s]\n",
            "                 Class     Images  Instances      Box(P          R      mAP50  mAP50-95): 100%|██████████| 2/2 [00:22<00:00, 11.21s/it]"
          ]
        },
        {
          "output_type": "stream",
          "name": "stdout",
          "text": [
            "                   all         18         12     0.0971      0.917      0.192      0.168\n"
          ]
        },
        {
          "output_type": "stream",
          "name": "stderr",
          "text": [
            "\n"
          ]
        },
        {
          "output_type": "stream",
          "name": "stdout",
          "text": [
            "\n",
            "      Epoch    GPU_mem   box_loss   cls_loss   dfl_loss  Instances       Size\n"
          ]
        },
        {
          "output_type": "stream",
          "name": "stderr",
          "text": [
            "    122/200      13.8G     0.8141      1.452      2.582         47       1600: 100%|██████████| 5/5 [00:04<00:00,  1.21it/s]\n",
            "                 Class     Images  Instances      Box(P          R      mAP50  mAP50-95): 100%|██████████| 2/2 [00:25<00:00, 12.72s/it]"
          ]
        },
        {
          "output_type": "stream",
          "name": "stdout",
          "text": [
            "                   all         18         12      0.097       0.75      0.207      0.189\n"
          ]
        },
        {
          "output_type": "stream",
          "name": "stderr",
          "text": [
            "\n"
          ]
        },
        {
          "output_type": "stream",
          "name": "stdout",
          "text": [
            "\n",
            "      Epoch    GPU_mem   box_loss   cls_loss   dfl_loss  Instances       Size\n"
          ]
        },
        {
          "output_type": "stream",
          "name": "stderr",
          "text": [
            "    123/200      13.9G     0.7945       1.45      2.575         49       1600: 100%|██████████| 5/5 [00:04<00:00,  1.14it/s]\n",
            "                 Class     Images  Instances      Box(P          R      mAP50  mAP50-95): 100%|██████████| 2/2 [00:21<00:00, 10.82s/it]"
          ]
        },
        {
          "output_type": "stream",
          "name": "stdout",
          "text": [
            "                   all         18         12      0.108      0.667      0.218      0.198\n"
          ]
        },
        {
          "output_type": "stream",
          "name": "stderr",
          "text": [
            "\n"
          ]
        },
        {
          "output_type": "stream",
          "name": "stdout",
          "text": [
            "\n",
            "      Epoch    GPU_mem   box_loss   cls_loss   dfl_loss  Instances       Size\n"
          ]
        },
        {
          "output_type": "stream",
          "name": "stderr",
          "text": [
            "    124/200      13.8G     0.8291      1.481      2.644         56       1600: 100%|██████████| 5/5 [00:06<00:00,  1.21s/it]\n",
            "                 Class     Images  Instances      Box(P          R      mAP50  mAP50-95): 100%|██████████| 2/2 [00:22<00:00, 11.25s/it]"
          ]
        },
        {
          "output_type": "stream",
          "name": "stdout",
          "text": [
            "                   all         18         12      0.156      0.487      0.239      0.208\n"
          ]
        },
        {
          "output_type": "stream",
          "name": "stderr",
          "text": [
            "\n"
          ]
        },
        {
          "output_type": "stream",
          "name": "stdout",
          "text": [
            "\n",
            "      Epoch    GPU_mem   box_loss   cls_loss   dfl_loss  Instances       Size\n"
          ]
        },
        {
          "output_type": "stream",
          "name": "stderr",
          "text": [
            "    125/200      13.9G      0.707      1.423      2.518         40       1600: 100%|██████████| 5/5 [00:04<00:00,  1.11it/s]\n",
            "                 Class     Images  Instances      Box(P          R      mAP50  mAP50-95): 100%|██████████| 2/2 [00:22<00:00, 11.43s/it]"
          ]
        },
        {
          "output_type": "stream",
          "name": "stdout",
          "text": [
            "                   all         18         12      0.108      0.777      0.237      0.204\n"
          ]
        },
        {
          "output_type": "stream",
          "name": "stderr",
          "text": [
            "\n"
          ]
        },
        {
          "output_type": "stream",
          "name": "stdout",
          "text": [
            "\n",
            "      Epoch    GPU_mem   box_loss   cls_loss   dfl_loss  Instances       Size\n"
          ]
        },
        {
          "output_type": "stream",
          "name": "stderr",
          "text": [
            "    126/200      13.8G     0.7963      1.529      2.536         40       1600: 100%|██████████| 5/5 [00:07<00:00,  1.46s/it]\n",
            "                 Class     Images  Instances      Box(P          R      mAP50  mAP50-95): 100%|██████████| 2/2 [00:23<00:00, 11.63s/it]"
          ]
        },
        {
          "output_type": "stream",
          "name": "stdout",
          "text": [
            "                   all         18         12      0.135      0.917      0.202      0.165\n"
          ]
        },
        {
          "output_type": "stream",
          "name": "stderr",
          "text": [
            "\n"
          ]
        },
        {
          "output_type": "stream",
          "name": "stdout",
          "text": [
            "\n",
            "      Epoch    GPU_mem   box_loss   cls_loss   dfl_loss  Instances       Size\n"
          ]
        },
        {
          "output_type": "stream",
          "name": "stderr",
          "text": [
            "    127/200      13.9G     0.8023      1.453      2.627         46       1600: 100%|██████████| 5/5 [00:04<00:00,  1.19it/s]\n",
            "                 Class     Images  Instances      Box(P          R      mAP50  mAP50-95): 100%|██████████| 2/2 [00:20<00:00, 10.44s/it]"
          ]
        },
        {
          "output_type": "stream",
          "name": "stdout",
          "text": [
            "                   all         18         12       0.14          1      0.201      0.161\n"
          ]
        },
        {
          "output_type": "stream",
          "name": "stderr",
          "text": [
            "\n"
          ]
        },
        {
          "output_type": "stream",
          "name": "stdout",
          "text": [
            "\n",
            "      Epoch    GPU_mem   box_loss   cls_loss   dfl_loss  Instances       Size\n"
          ]
        },
        {
          "output_type": "stream",
          "name": "stderr",
          "text": [
            "    128/200      13.8G     0.8595      1.531       2.64         28       1600: 100%|██████████| 5/5 [00:04<00:00,  1.19it/s]\n",
            "                 Class     Images  Instances      Box(P          R      mAP50  mAP50-95): 100%|██████████| 2/2 [00:20<00:00, 10.35s/it]"
          ]
        },
        {
          "output_type": "stream",
          "name": "stdout",
          "text": [
            "                   all         18         12      0.123      0.794      0.236      0.204\n"
          ]
        },
        {
          "output_type": "stream",
          "name": "stderr",
          "text": [
            "\n"
          ]
        },
        {
          "output_type": "stream",
          "name": "stdout",
          "text": [
            "\n",
            "      Epoch    GPU_mem   box_loss   cls_loss   dfl_loss  Instances       Size\n"
          ]
        },
        {
          "output_type": "stream",
          "name": "stderr",
          "text": [
            "    129/200      13.9G     0.7485       1.44      2.572         30       1600: 100%|██████████| 5/5 [00:04<00:00,  1.10it/s]\n",
            "                 Class     Images  Instances      Box(P          R      mAP50  mAP50-95): 100%|██████████| 2/2 [00:24<00:00, 12.25s/it]\n"
          ]
        },
        {
          "output_type": "stream",
          "name": "stdout",
          "text": [
            "                   all         18         12      0.112          1      0.233      0.205\n",
            "\n",
            "      Epoch    GPU_mem   box_loss   cls_loss   dfl_loss  Instances       Size\n"
          ]
        },
        {
          "output_type": "stream",
          "name": "stderr",
          "text": [
            "    130/200      13.9G     0.7279      1.423      2.529         64       1600: 100%|██████████| 5/5 [00:04<00:00,  1.18it/s]\n",
            "                 Class     Images  Instances      Box(P          R      mAP50  mAP50-95): 100%|██████████| 2/2 [00:25<00:00, 12.71s/it]"
          ]
        },
        {
          "output_type": "stream",
          "name": "stdout",
          "text": [
            "                   all         18         12       0.13      0.333      0.246      0.217\n"
          ]
        },
        {
          "output_type": "stream",
          "name": "stderr",
          "text": [
            "\n"
          ]
        },
        {
          "output_type": "stream",
          "name": "stdout",
          "text": [
            "\n",
            "      Epoch    GPU_mem   box_loss   cls_loss   dfl_loss  Instances       Size\n"
          ]
        },
        {
          "output_type": "stream",
          "name": "stderr",
          "text": [
            "    131/200      13.9G     0.7977      1.409       2.53         67       1600: 100%|██████████| 5/5 [00:04<00:00,  1.16it/s]\n",
            "                 Class     Images  Instances      Box(P          R      mAP50  mAP50-95): 100%|██████████| 2/2 [00:25<00:00, 12.83s/it]"
          ]
        },
        {
          "output_type": "stream",
          "name": "stdout",
          "text": [
            "                   all         18         12       0.11      0.667      0.234      0.207\n"
          ]
        },
        {
          "output_type": "stream",
          "name": "stderr",
          "text": [
            "\n"
          ]
        },
        {
          "output_type": "stream",
          "name": "stdout",
          "text": [
            "\n",
            "      Epoch    GPU_mem   box_loss   cls_loss   dfl_loss  Instances       Size\n"
          ]
        },
        {
          "output_type": "stream",
          "name": "stderr",
          "text": [
            "    132/200      13.9G      0.779      1.415      2.537         42       1600: 100%|██████████| 5/5 [00:05<00:00,  1.15s/it]\n",
            "                 Class     Images  Instances      Box(P          R      mAP50  mAP50-95): 100%|██████████| 2/2 [00:23<00:00, 11.77s/it]"
          ]
        },
        {
          "output_type": "stream",
          "name": "stdout",
          "text": [
            "                   all         18         12      0.115      0.514      0.218      0.191\n"
          ]
        },
        {
          "output_type": "stream",
          "name": "stderr",
          "text": [
            "\n"
          ]
        },
        {
          "output_type": "stream",
          "name": "stdout",
          "text": [
            "\n",
            "      Epoch    GPU_mem   box_loss   cls_loss   dfl_loss  Instances       Size\n"
          ]
        },
        {
          "output_type": "stream",
          "name": "stderr",
          "text": [
            "    133/200      13.7G     0.7405      1.372      2.534         41       1600: 100%|██████████| 5/5 [00:06<00:00,  1.28s/it]\n",
            "                 Class     Images  Instances      Box(P          R      mAP50  mAP50-95): 100%|██████████| 2/2 [00:25<00:00, 12.91s/it]"
          ]
        },
        {
          "output_type": "stream",
          "name": "stdout",
          "text": [
            "                   all         18         12      0.121      0.455      0.211      0.195\n"
          ]
        },
        {
          "output_type": "stream",
          "name": "stderr",
          "text": [
            "\n"
          ]
        },
        {
          "output_type": "stream",
          "name": "stdout",
          "text": [
            "\n",
            "      Epoch    GPU_mem   box_loss   cls_loss   dfl_loss  Instances       Size\n"
          ]
        },
        {
          "output_type": "stream",
          "name": "stderr",
          "text": [
            "    134/200      13.8G     0.7375      1.309      2.504         42       1600: 100%|██████████| 5/5 [00:07<00:00,  1.41s/it]\n",
            "                 Class     Images  Instances      Box(P          R      mAP50  mAP50-95): 100%|██████████| 2/2 [00:24<00:00, 12.18s/it]"
          ]
        },
        {
          "output_type": "stream",
          "name": "stdout",
          "text": [
            "                   all         18         12      0.119      0.417      0.204      0.192\n"
          ]
        },
        {
          "output_type": "stream",
          "name": "stderr",
          "text": [
            "\n"
          ]
        },
        {
          "output_type": "stream",
          "name": "stdout",
          "text": [
            "\n",
            "      Epoch    GPU_mem   box_loss   cls_loss   dfl_loss  Instances       Size\n"
          ]
        },
        {
          "output_type": "stream",
          "name": "stderr",
          "text": [
            "    135/200      13.9G      0.696      1.294      2.458         56       1600: 100%|██████████| 5/5 [00:04<00:00,  1.08it/s]\n",
            "                 Class     Images  Instances      Box(P          R      mAP50  mAP50-95): 100%|██████████| 2/2 [00:26<00:00, 13.27s/it]"
          ]
        },
        {
          "output_type": "stream",
          "name": "stdout",
          "text": [
            "                   all         18         12      0.116      0.333      0.209      0.196\n"
          ]
        },
        {
          "output_type": "stream",
          "name": "stderr",
          "text": [
            "\n"
          ]
        },
        {
          "output_type": "stream",
          "name": "stdout",
          "text": [
            "\n",
            "      Epoch    GPU_mem   box_loss   cls_loss   dfl_loss  Instances       Size\n"
          ]
        },
        {
          "output_type": "stream",
          "name": "stderr",
          "text": [
            "    136/200      13.9G     0.7318      1.351      2.457         39       1600: 100%|██████████| 5/5 [00:04<00:00,  1.07it/s]\n",
            "                 Class     Images  Instances      Box(P          R      mAP50  mAP50-95): 100%|██████████| 2/2 [00:22<00:00, 11.48s/it]"
          ]
        },
        {
          "output_type": "stream",
          "name": "stdout",
          "text": [
            "                   all         18         12       0.21      0.333      0.232      0.207\n"
          ]
        },
        {
          "output_type": "stream",
          "name": "stderr",
          "text": [
            "\n"
          ]
        },
        {
          "output_type": "stream",
          "name": "stdout",
          "text": [
            "\n",
            "      Epoch    GPU_mem   box_loss   cls_loss   dfl_loss  Instances       Size\n"
          ]
        },
        {
          "output_type": "stream",
          "name": "stderr",
          "text": [
            "    137/200      13.8G     0.7318      1.391      2.432         47       1600: 100%|██████████| 5/5 [00:04<00:00,  1.22it/s]\n",
            "                 Class     Images  Instances      Box(P          R      mAP50  mAP50-95): 100%|██████████| 2/2 [00:24<00:00, 12.13s/it]"
          ]
        },
        {
          "output_type": "stream",
          "name": "stdout",
          "text": [
            "                   all         18         12      0.233      0.333      0.233       0.22\n"
          ]
        },
        {
          "output_type": "stream",
          "name": "stderr",
          "text": [
            "\n"
          ]
        },
        {
          "output_type": "stream",
          "name": "stdout",
          "text": [
            "\n",
            "      Epoch    GPU_mem   box_loss   cls_loss   dfl_loss  Instances       Size\n"
          ]
        },
        {
          "output_type": "stream",
          "name": "stderr",
          "text": [
            "    138/200      13.8G     0.7292      1.361      2.563         38       1600: 100%|██████████| 5/5 [00:04<00:00,  1.22it/s]\n",
            "                 Class     Images  Instances      Box(P          R      mAP50  mAP50-95): 100%|██████████| 2/2 [00:23<00:00, 11.99s/it]\n"
          ]
        },
        {
          "output_type": "stream",
          "name": "stdout",
          "text": [
            "                   all         18         12       0.17      0.333      0.231      0.218\n",
            "\n",
            "      Epoch    GPU_mem   box_loss   cls_loss   dfl_loss  Instances       Size\n"
          ]
        },
        {
          "output_type": "stream",
          "name": "stderr",
          "text": [
            "    139/200      13.8G     0.7842      1.362      2.524         56       1600: 100%|██████████| 5/5 [00:05<00:00,  1.19s/it]\n",
            "                 Class     Images  Instances      Box(P          R      mAP50  mAP50-95): 100%|██████████| 2/2 [00:14<00:00,  7.45s/it]"
          ]
        },
        {
          "output_type": "stream",
          "name": "stdout",
          "text": [
            "                   all         18         12      0.181      0.333       0.27      0.247\n"
          ]
        },
        {
          "output_type": "stream",
          "name": "stderr",
          "text": [
            "\n"
          ]
        },
        {
          "output_type": "stream",
          "name": "stdout",
          "text": [
            "\n",
            "      Epoch    GPU_mem   box_loss   cls_loss   dfl_loss  Instances       Size\n"
          ]
        },
        {
          "output_type": "stream",
          "name": "stderr",
          "text": [
            "    140/200      13.8G     0.7986      1.496      2.612         24       1600: 100%|██████████| 5/5 [00:07<00:00,  1.47s/it]\n",
            "                 Class     Images  Instances      Box(P          R      mAP50  mAP50-95): 100%|██████████| 2/2 [00:21<00:00, 10.93s/it]"
          ]
        },
        {
          "output_type": "stream",
          "name": "stdout",
          "text": [
            "                   all         18         12      0.187      0.333      0.238      0.217\n"
          ]
        },
        {
          "output_type": "stream",
          "name": "stderr",
          "text": [
            "\n"
          ]
        },
        {
          "output_type": "stream",
          "name": "stdout",
          "text": [
            "\n",
            "      Epoch    GPU_mem   box_loss   cls_loss   dfl_loss  Instances       Size\n"
          ]
        },
        {
          "output_type": "stream",
          "name": "stderr",
          "text": [
            "    141/200      13.9G     0.7459      1.403       2.55         63       1600: 100%|██████████| 5/5 [00:05<00:00,  1.14s/it]\n",
            "                 Class     Images  Instances      Box(P          R      mAP50  mAP50-95): 100%|██████████| 2/2 [00:24<00:00, 12.08s/it]"
          ]
        },
        {
          "output_type": "stream",
          "name": "stdout",
          "text": [
            "                   all         18         12      0.114      0.833      0.214      0.189\n"
          ]
        },
        {
          "output_type": "stream",
          "name": "stderr",
          "text": [
            "\n"
          ]
        },
        {
          "output_type": "stream",
          "name": "stdout",
          "text": [
            "\n",
            "      Epoch    GPU_mem   box_loss   cls_loss   dfl_loss  Instances       Size\n"
          ]
        },
        {
          "output_type": "stream",
          "name": "stderr",
          "text": [
            "    142/200      13.8G     0.7667      1.364      2.614         63       1600: 100%|██████████| 5/5 [00:04<00:00,  1.19it/s]\n",
            "                 Class     Images  Instances      Box(P          R      mAP50  mAP50-95): 100%|██████████| 2/2 [00:22<00:00, 11.11s/it]\n"
          ]
        },
        {
          "output_type": "stream",
          "name": "stdout",
          "text": [
            "                   all         18         12      0.098       0.75      0.208      0.185\n",
            "\n",
            "      Epoch    GPU_mem   box_loss   cls_loss   dfl_loss  Instances       Size\n"
          ]
        },
        {
          "output_type": "stream",
          "name": "stderr",
          "text": [
            "    143/200      13.9G     0.7537      1.399      2.445         35       1600: 100%|██████████| 5/5 [00:04<00:00,  1.16it/s]\n",
            "                 Class     Images  Instances      Box(P          R      mAP50  mAP50-95): 100%|██████████| 2/2 [00:21<00:00, 10.74s/it]"
          ]
        },
        {
          "output_type": "stream",
          "name": "stdout",
          "text": [
            "                   all         18         12      0.102      0.833      0.209      0.189\n"
          ]
        },
        {
          "output_type": "stream",
          "name": "stderr",
          "text": [
            "\n"
          ]
        },
        {
          "output_type": "stream",
          "name": "stdout",
          "text": [
            "\n",
            "      Epoch    GPU_mem   box_loss   cls_loss   dfl_loss  Instances       Size\n"
          ]
        },
        {
          "output_type": "stream",
          "name": "stderr",
          "text": [
            "    144/200      13.8G     0.7585      1.341      2.625         39       1600: 100%|██████████| 5/5 [00:04<00:00,  1.09it/s]\n",
            "                 Class     Images  Instances      Box(P          R      mAP50  mAP50-95): 100%|██████████| 2/2 [00:25<00:00, 12.76s/it]"
          ]
        },
        {
          "output_type": "stream",
          "name": "stdout",
          "text": [
            "                   all         18         12      0.104      0.833      0.216      0.194\n"
          ]
        },
        {
          "output_type": "stream",
          "name": "stderr",
          "text": [
            "\n"
          ]
        },
        {
          "output_type": "stream",
          "name": "stdout",
          "text": [
            "\n",
            "      Epoch    GPU_mem   box_loss   cls_loss   dfl_loss  Instances       Size\n"
          ]
        },
        {
          "output_type": "stream",
          "name": "stderr",
          "text": [
            "    145/200      13.7G     0.6683      1.265      2.628         63       1600: 100%|██████████| 5/5 [00:04<00:00,  1.17it/s]\n",
            "                 Class     Images  Instances      Box(P          R      mAP50  mAP50-95): 100%|██████████| 2/2 [00:27<00:00, 13.76s/it]"
          ]
        },
        {
          "output_type": "stream",
          "name": "stdout",
          "text": [
            "                   all         18         12      0.121      0.917      0.173      0.147\n"
          ]
        },
        {
          "output_type": "stream",
          "name": "stderr",
          "text": [
            "\n"
          ]
        },
        {
          "output_type": "stream",
          "name": "stdout",
          "text": [
            "\n",
            "      Epoch    GPU_mem   box_loss   cls_loss   dfl_loss  Instances       Size\n"
          ]
        },
        {
          "output_type": "stream",
          "name": "stderr",
          "text": [
            "    146/200      13.8G     0.6766      1.309      2.433         47       1600: 100%|██████████| 5/5 [00:04<00:00,  1.19it/s]\n",
            "                 Class     Images  Instances      Box(P          R      mAP50  mAP50-95): 100%|██████████| 2/2 [00:23<00:00, 11.55s/it]"
          ]
        },
        {
          "output_type": "stream",
          "name": "stdout",
          "text": [
            "                   all         18         12       0.12      0.833      0.175      0.148\n"
          ]
        },
        {
          "output_type": "stream",
          "name": "stderr",
          "text": [
            "\n"
          ]
        },
        {
          "output_type": "stream",
          "name": "stdout",
          "text": [
            "\n",
            "      Epoch    GPU_mem   box_loss   cls_loss   dfl_loss  Instances       Size\n"
          ]
        },
        {
          "output_type": "stream",
          "name": "stderr",
          "text": [
            "    147/200      13.8G     0.8076      1.402      2.487         44       1600: 100%|██████████| 5/5 [00:04<00:00,  1.11it/s]\n",
            "                 Class     Images  Instances      Box(P          R      mAP50  mAP50-95): 100%|██████████| 2/2 [00:24<00:00, 12.18s/it]"
          ]
        },
        {
          "output_type": "stream",
          "name": "stdout",
          "text": [
            "                   all         18         12      0.136      0.826      0.186      0.161\n"
          ]
        },
        {
          "output_type": "stream",
          "name": "stderr",
          "text": [
            "\n"
          ]
        },
        {
          "output_type": "stream",
          "name": "stdout",
          "text": [
            "\n",
            "      Epoch    GPU_mem   box_loss   cls_loss   dfl_loss  Instances       Size\n"
          ]
        },
        {
          "output_type": "stream",
          "name": "stderr",
          "text": [
            "    148/200      13.8G     0.7715      1.315       2.56         46       1600: 100%|██████████| 5/5 [00:04<00:00,  1.09it/s]\n",
            "                 Class     Images  Instances      Box(P          R      mAP50  mAP50-95): 100%|██████████| 2/2 [00:27<00:00, 13.81s/it]"
          ]
        },
        {
          "output_type": "stream",
          "name": "stdout",
          "text": [
            "                   all         18         12      0.128      0.833      0.184       0.16\n"
          ]
        },
        {
          "output_type": "stream",
          "name": "stderr",
          "text": [
            "\n"
          ]
        },
        {
          "output_type": "stream",
          "name": "stdout",
          "text": [
            "\n",
            "      Epoch    GPU_mem   box_loss   cls_loss   dfl_loss  Instances       Size\n"
          ]
        },
        {
          "output_type": "stream",
          "name": "stderr",
          "text": [
            "    149/200      13.8G     0.6711      1.278      2.483         55       1600: 100%|██████████| 5/5 [00:04<00:00,  1.16it/s]\n",
            "                 Class     Images  Instances      Box(P          R      mAP50  mAP50-95): 100%|██████████| 2/2 [00:26<00:00, 13.19s/it]"
          ]
        },
        {
          "output_type": "stream",
          "name": "stdout",
          "text": [
            "                   all         18         12      0.124      0.833      0.226      0.198\n"
          ]
        },
        {
          "output_type": "stream",
          "name": "stderr",
          "text": [
            "\n"
          ]
        },
        {
          "output_type": "stream",
          "name": "stdout",
          "text": [
            "\n",
            "      Epoch    GPU_mem   box_loss   cls_loss   dfl_loss  Instances       Size\n"
          ]
        },
        {
          "output_type": "stream",
          "name": "stderr",
          "text": [
            "    150/200      13.8G     0.6601      1.356      2.548         41       1600: 100%|██████████| 5/5 [00:04<00:00,  1.15it/s]\n",
            "                 Class     Images  Instances      Box(P          R      mAP50  mAP50-95): 100%|██████████| 2/2 [00:21<00:00, 10.94s/it]"
          ]
        },
        {
          "output_type": "stream",
          "name": "stdout",
          "text": [
            "                   all         18         12     0.0996      0.667      0.213      0.196\n"
          ]
        },
        {
          "output_type": "stream",
          "name": "stderr",
          "text": [
            "\n"
          ]
        },
        {
          "output_type": "stream",
          "name": "stdout",
          "text": [
            "\n",
            "      Epoch    GPU_mem   box_loss   cls_loss   dfl_loss  Instances       Size\n"
          ]
        },
        {
          "output_type": "stream",
          "name": "stderr",
          "text": [
            "    151/200      13.9G     0.6598      1.316      2.524         28       1600: 100%|██████████| 5/5 [00:04<00:00,  1.07it/s]\n",
            "                 Class     Images  Instances      Box(P          R      mAP50  mAP50-95): 100%|██████████| 2/2 [00:29<00:00, 14.83s/it]"
          ]
        },
        {
          "output_type": "stream",
          "name": "stdout",
          "text": [
            "                   all         18         12     0.0854      0.917      0.142       0.13\n"
          ]
        },
        {
          "output_type": "stream",
          "name": "stderr",
          "text": [
            "\n"
          ]
        },
        {
          "output_type": "stream",
          "name": "stdout",
          "text": [
            "\n",
            "      Epoch    GPU_mem   box_loss   cls_loss   dfl_loss  Instances       Size\n"
          ]
        },
        {
          "output_type": "stream",
          "name": "stderr",
          "text": [
            "    152/200      13.9G     0.6617      1.274       2.51         42       1600: 100%|██████████| 5/5 [00:05<00:00,  1.09s/it]\n",
            "                 Class     Images  Instances      Box(P          R      mAP50  mAP50-95): 100%|██████████| 2/2 [00:27<00:00, 13.81s/it]"
          ]
        },
        {
          "output_type": "stream",
          "name": "stdout",
          "text": [
            "                   all         18         12      0.105      0.917      0.218      0.193\n"
          ]
        },
        {
          "output_type": "stream",
          "name": "stderr",
          "text": [
            "\n"
          ]
        },
        {
          "output_type": "stream",
          "name": "stdout",
          "text": [
            "\n",
            "      Epoch    GPU_mem   box_loss   cls_loss   dfl_loss  Instances       Size\n"
          ]
        },
        {
          "output_type": "stream",
          "name": "stderr",
          "text": [
            "    153/200      13.9G     0.6811      1.224      2.478         38       1600: 100%|██████████| 5/5 [00:05<00:00,  1.12s/it]\n",
            "                 Class     Images  Instances      Box(P          R      mAP50  mAP50-95): 100%|██████████| 2/2 [00:19<00:00,  9.71s/it]"
          ]
        },
        {
          "output_type": "stream",
          "name": "stdout",
          "text": [
            "                   all         18         12      0.106       0.75      0.205      0.182\n"
          ]
        },
        {
          "output_type": "stream",
          "name": "stderr",
          "text": [
            "\n"
          ]
        },
        {
          "output_type": "stream",
          "name": "stdout",
          "text": [
            "\n",
            "      Epoch    GPU_mem   box_loss   cls_loss   dfl_loss  Instances       Size\n"
          ]
        },
        {
          "output_type": "stream",
          "name": "stderr",
          "text": [
            "    154/200      13.8G     0.6552       1.31      2.496         34       1600: 100%|██████████| 5/5 [00:04<00:00,  1.22it/s]\n",
            "                 Class     Images  Instances      Box(P          R      mAP50  mAP50-95): 100%|██████████| 2/2 [00:21<00:00, 10.83s/it]"
          ]
        },
        {
          "output_type": "stream",
          "name": "stdout",
          "text": [
            "                   all         18         12      0.106      0.667      0.213      0.197\n"
          ]
        },
        {
          "output_type": "stream",
          "name": "stderr",
          "text": [
            "\n"
          ]
        },
        {
          "output_type": "stream",
          "name": "stdout",
          "text": [
            "\n",
            "      Epoch    GPU_mem   box_loss   cls_loss   dfl_loss  Instances       Size\n"
          ]
        },
        {
          "output_type": "stream",
          "name": "stderr",
          "text": [
            "    155/200      13.9G     0.6617      1.335       2.45         24       1600: 100%|██████████| 5/5 [00:04<00:00,  1.17it/s]\n",
            "                 Class     Images  Instances      Box(P          R      mAP50  mAP50-95): 100%|██████████| 2/2 [00:20<00:00, 10.49s/it]"
          ]
        },
        {
          "output_type": "stream",
          "name": "stdout",
          "text": [
            "                   all         18         12     0.0971      0.667      0.202      0.184\n"
          ]
        },
        {
          "output_type": "stream",
          "name": "stderr",
          "text": [
            "\n"
          ]
        },
        {
          "output_type": "stream",
          "name": "stdout",
          "text": [
            "\n",
            "      Epoch    GPU_mem   box_loss   cls_loss   dfl_loss  Instances       Size\n"
          ]
        },
        {
          "output_type": "stream",
          "name": "stderr",
          "text": [
            "    156/200      13.9G      0.719      1.254      2.473         43       1600: 100%|██████████| 5/5 [00:04<00:00,  1.19it/s]\n",
            "                 Class     Images  Instances      Box(P          R      mAP50  mAP50-95): 100%|██████████| 2/2 [00:24<00:00, 12.42s/it]"
          ]
        },
        {
          "output_type": "stream",
          "name": "stdout",
          "text": [
            "                   all         18         12     0.0938      0.917      0.193      0.179\n"
          ]
        },
        {
          "output_type": "stream",
          "name": "stderr",
          "text": [
            "\n"
          ]
        },
        {
          "output_type": "stream",
          "name": "stdout",
          "text": [
            "\n",
            "      Epoch    GPU_mem   box_loss   cls_loss   dfl_loss  Instances       Size\n"
          ]
        },
        {
          "output_type": "stream",
          "name": "stderr",
          "text": [
            "    157/200      13.8G     0.7006      1.293      2.509         52       1600: 100%|██████████| 5/5 [00:04<00:00,  1.22it/s]\n",
            "                 Class     Images  Instances      Box(P          R      mAP50  mAP50-95): 100%|██████████| 2/2 [00:26<00:00, 13.10s/it]\n"
          ]
        },
        {
          "output_type": "stream",
          "name": "stdout",
          "text": [
            "                   all         18         12      0.102      0.917      0.202      0.183\n",
            "\n",
            "      Epoch    GPU_mem   box_loss   cls_loss   dfl_loss  Instances       Size\n"
          ]
        },
        {
          "output_type": "stream",
          "name": "stderr",
          "text": [
            "    158/200      13.8G     0.7017      1.333       2.46         62       1600: 100%|██████████| 5/5 [00:04<00:00,  1.13it/s]\n",
            "                 Class     Images  Instances      Box(P          R      mAP50  mAP50-95): 100%|██████████| 2/2 [00:25<00:00, 12.75s/it]"
          ]
        },
        {
          "output_type": "stream",
          "name": "stdout",
          "text": [
            "                   all         18         12      0.107      0.917      0.209      0.181\n"
          ]
        },
        {
          "output_type": "stream",
          "name": "stderr",
          "text": [
            "\n"
          ]
        },
        {
          "output_type": "stream",
          "name": "stdout",
          "text": [
            "\n",
            "      Epoch    GPU_mem   box_loss   cls_loss   dfl_loss  Instances       Size\n"
          ]
        },
        {
          "output_type": "stream",
          "name": "stderr",
          "text": [
            "    159/200      13.9G      0.709      1.328      2.503         36       1600: 100%|██████████| 5/5 [00:05<00:00,  1.16s/it]\n",
            "                 Class     Images  Instances      Box(P          R      mAP50  mAP50-95): 100%|██████████| 2/2 [00:25<00:00, 12.93s/it]\n"
          ]
        },
        {
          "output_type": "stream",
          "name": "stdout",
          "text": [
            "                   all         18         12      0.115      0.917      0.209      0.183\n",
            "\n",
            "      Epoch    GPU_mem   box_loss   cls_loss   dfl_loss  Instances       Size\n"
          ]
        },
        {
          "output_type": "stream",
          "name": "stderr",
          "text": [
            "    160/200      13.9G     0.6668       1.23      2.501         50       1600: 100%|██████████| 5/5 [00:05<00:00,  1.13s/it]\n",
            "                 Class     Images  Instances      Box(P          R      mAP50  mAP50-95): 100%|██████████| 2/2 [00:27<00:00, 13.57s/it]"
          ]
        },
        {
          "output_type": "stream",
          "name": "stdout",
          "text": [
            "                   all         18         12      0.108      0.833      0.203       0.18\n"
          ]
        },
        {
          "output_type": "stream",
          "name": "stderr",
          "text": [
            "\n"
          ]
        },
        {
          "output_type": "stream",
          "name": "stdout",
          "text": [
            "\n",
            "      Epoch    GPU_mem   box_loss   cls_loss   dfl_loss  Instances       Size\n"
          ]
        },
        {
          "output_type": "stream",
          "name": "stderr",
          "text": [
            "    161/200      13.9G     0.7477       1.34      2.499         59       1600: 100%|██████████| 5/5 [00:05<00:00,  1.07s/it]\n",
            "                 Class     Images  Instances      Box(P          R      mAP50  mAP50-95): 100%|██████████| 2/2 [00:23<00:00, 11.65s/it]"
          ]
        },
        {
          "output_type": "stream",
          "name": "stdout",
          "text": [
            "                   all         18         12      0.104       0.75      0.212      0.201\n"
          ]
        },
        {
          "output_type": "stream",
          "name": "stderr",
          "text": [
            "\n"
          ]
        },
        {
          "output_type": "stream",
          "name": "stdout",
          "text": [
            "\n",
            "      Epoch    GPU_mem   box_loss   cls_loss   dfl_loss  Instances       Size\n"
          ]
        },
        {
          "output_type": "stream",
          "name": "stderr",
          "text": [
            "    162/200      13.9G     0.7302      1.445      2.532         26       1600: 100%|██████████| 5/5 [00:05<00:00,  1.04s/it]\n",
            "                 Class     Images  Instances      Box(P          R      mAP50  mAP50-95): 100%|██████████| 2/2 [00:27<00:00, 13.93s/it]"
          ]
        },
        {
          "output_type": "stream",
          "name": "stdout",
          "text": [
            "                   all         18         12      0.112       0.75      0.217      0.207\n"
          ]
        },
        {
          "output_type": "stream",
          "name": "stderr",
          "text": [
            "\n"
          ]
        },
        {
          "output_type": "stream",
          "name": "stdout",
          "text": [
            "\n",
            "      Epoch    GPU_mem   box_loss   cls_loss   dfl_loss  Instances       Size\n"
          ]
        },
        {
          "output_type": "stream",
          "name": "stderr",
          "text": [
            "    163/200      13.9G      0.674      1.253      2.458         43       1600: 100%|██████████| 5/5 [00:04<00:00,  1.18it/s]\n",
            "                 Class     Images  Instances      Box(P          R      mAP50  mAP50-95): 100%|██████████| 2/2 [00:28<00:00, 14.17s/it]\n"
          ]
        },
        {
          "output_type": "stream",
          "name": "stdout",
          "text": [
            "                   all         18         12      0.116       0.75      0.219      0.202\n",
            "\n",
            "      Epoch    GPU_mem   box_loss   cls_loss   dfl_loss  Instances       Size\n"
          ]
        },
        {
          "output_type": "stream",
          "name": "stderr",
          "text": [
            "    164/200      13.8G     0.6991      1.323      2.561         39       1600: 100%|██████████| 5/5 [00:04<00:00,  1.15it/s]\n",
            "                 Class     Images  Instances      Box(P          R      mAP50  mAP50-95): 100%|██████████| 2/2 [00:27<00:00, 13.93s/it]"
          ]
        },
        {
          "output_type": "stream",
          "name": "stdout",
          "text": [
            "                   all         18         12      0.131       0.75      0.237      0.218\n"
          ]
        },
        {
          "output_type": "stream",
          "name": "stderr",
          "text": [
            "\n"
          ]
        },
        {
          "output_type": "stream",
          "name": "stdout",
          "text": [
            "\n",
            "      Epoch    GPU_mem   box_loss   cls_loss   dfl_loss  Instances       Size\n"
          ]
        },
        {
          "output_type": "stream",
          "name": "stderr",
          "text": [
            "    165/200      13.8G     0.6945      1.231      2.544         26       1600: 100%|██████████| 5/5 [00:04<00:00,  1.15it/s]\n",
            "                 Class     Images  Instances      Box(P          R      mAP50  mAP50-95): 100%|██████████| 2/2 [00:28<00:00, 14.47s/it]"
          ]
        },
        {
          "output_type": "stream",
          "name": "stdout",
          "text": [
            "                   all         18         12      0.151      0.625      0.254      0.231\n"
          ]
        },
        {
          "output_type": "stream",
          "name": "stderr",
          "text": [
            "\n"
          ]
        },
        {
          "output_type": "stream",
          "name": "stdout",
          "text": [
            "\n",
            "      Epoch    GPU_mem   box_loss   cls_loss   dfl_loss  Instances       Size\n"
          ]
        },
        {
          "output_type": "stream",
          "name": "stderr",
          "text": [
            "    166/200      13.8G     0.6131       1.22       2.39         50       1600: 100%|██████████| 5/5 [00:04<00:00,  1.14it/s]\n",
            "                 Class     Images  Instances      Box(P          R      mAP50  mAP50-95): 100%|██████████| 2/2 [00:25<00:00, 12.60s/it]"
          ]
        },
        {
          "output_type": "stream",
          "name": "stdout",
          "text": [
            "                   all         18         12       0.15      0.643      0.249      0.224\n"
          ]
        },
        {
          "output_type": "stream",
          "name": "stderr",
          "text": [
            "\n"
          ]
        },
        {
          "output_type": "stream",
          "name": "stdout",
          "text": [
            "\n",
            "      Epoch    GPU_mem   box_loss   cls_loss   dfl_loss  Instances       Size\n"
          ]
        },
        {
          "output_type": "stream",
          "name": "stderr",
          "text": [
            "    167/200      13.9G     0.6682      1.227       2.44         50       1600: 100%|██████████| 5/5 [00:04<00:00,  1.20it/s]\n",
            "                 Class     Images  Instances      Box(P          R      mAP50  mAP50-95): 100%|██████████| 2/2 [00:25<00:00, 12.52s/it]"
          ]
        },
        {
          "output_type": "stream",
          "name": "stdout",
          "text": [
            "                   all         18         12      0.138      0.667      0.252      0.225\n"
          ]
        },
        {
          "output_type": "stream",
          "name": "stderr",
          "text": [
            "\n"
          ]
        },
        {
          "output_type": "stream",
          "name": "stdout",
          "text": [
            "\n",
            "      Epoch    GPU_mem   box_loss   cls_loss   dfl_loss  Instances       Size\n"
          ]
        },
        {
          "output_type": "stream",
          "name": "stderr",
          "text": [
            "    168/200      13.9G     0.6427      1.203      2.451         26       1600: 100%|██████████| 5/5 [00:04<00:00,  1.11it/s]\n",
            "                 Class     Images  Instances      Box(P          R      mAP50  mAP50-95): 100%|██████████| 2/2 [00:25<00:00, 12.78s/it]"
          ]
        },
        {
          "output_type": "stream",
          "name": "stdout",
          "text": [
            "                   all         18         12      0.205       0.75      0.287      0.258\n"
          ]
        },
        {
          "output_type": "stream",
          "name": "stderr",
          "text": [
            "\n"
          ]
        },
        {
          "output_type": "stream",
          "name": "stdout",
          "text": [
            "\n",
            "      Epoch    GPU_mem   box_loss   cls_loss   dfl_loss  Instances       Size\n"
          ]
        },
        {
          "output_type": "stream",
          "name": "stderr",
          "text": [
            "    169/200      13.9G     0.6558      1.262      2.483         31       1600: 100%|██████████| 5/5 [00:05<00:00,  1.04s/it]\n",
            "                 Class     Images  Instances      Box(P          R      mAP50  mAP50-95): 100%|██████████| 2/2 [00:26<00:00, 13.31s/it]"
          ]
        },
        {
          "output_type": "stream",
          "name": "stdout",
          "text": [
            "                   all         18         12      0.159      0.558      0.269      0.244\n"
          ]
        },
        {
          "output_type": "stream",
          "name": "stderr",
          "text": [
            "\n"
          ]
        },
        {
          "output_type": "stream",
          "name": "stdout",
          "text": [
            "\n",
            "      Epoch    GPU_mem   box_loss   cls_loss   dfl_loss  Instances       Size\n"
          ]
        },
        {
          "output_type": "stream",
          "name": "stderr",
          "text": [
            "    170/200      13.8G     0.6663      1.271      2.446         60       1600: 100%|██████████| 5/5 [00:04<00:00,  1.16it/s]\n",
            "                 Class     Images  Instances      Box(P          R      mAP50  mAP50-95): 100%|██████████| 2/2 [00:25<00:00, 12.58s/it]"
          ]
        },
        {
          "output_type": "stream",
          "name": "stdout",
          "text": [
            "                   all         18         12      0.128      0.833       0.24      0.213\n"
          ]
        },
        {
          "output_type": "stream",
          "name": "stderr",
          "text": [
            "\n"
          ]
        },
        {
          "output_type": "stream",
          "name": "stdout",
          "text": [
            "\n",
            "      Epoch    GPU_mem   box_loss   cls_loss   dfl_loss  Instances       Size\n"
          ]
        },
        {
          "output_type": "stream",
          "name": "stderr",
          "text": [
            "    171/200      13.8G     0.7631      1.284      2.608         44       1600: 100%|██████████| 5/5 [00:04<00:00,  1.15it/s]\n",
            "                 Class     Images  Instances      Box(P          R      mAP50  mAP50-95): 100%|██████████| 2/2 [00:23<00:00, 11.65s/it]"
          ]
        },
        {
          "output_type": "stream",
          "name": "stdout",
          "text": [
            "                   all         18         12      0.133       0.75      0.236      0.214\n"
          ]
        },
        {
          "output_type": "stream",
          "name": "stderr",
          "text": [
            "\n"
          ]
        },
        {
          "output_type": "stream",
          "name": "stdout",
          "text": [
            "\n",
            "      Epoch    GPU_mem   box_loss   cls_loss   dfl_loss  Instances       Size\n"
          ]
        },
        {
          "output_type": "stream",
          "name": "stderr",
          "text": [
            "    172/200      13.8G     0.6587      1.253      2.441         31       1600: 100%|██████████| 5/5 [00:04<00:00,  1.14it/s]\n",
            "                 Class     Images  Instances      Box(P          R      mAP50  mAP50-95): 100%|██████████| 2/2 [00:25<00:00, 12.67s/it]"
          ]
        },
        {
          "output_type": "stream",
          "name": "stdout",
          "text": [
            "                   all         18         12      0.148       0.75      0.236      0.212\n"
          ]
        },
        {
          "output_type": "stream",
          "name": "stderr",
          "text": [
            "\n"
          ]
        },
        {
          "output_type": "stream",
          "name": "stdout",
          "text": [
            "\n",
            "      Epoch    GPU_mem   box_loss   cls_loss   dfl_loss  Instances       Size\n"
          ]
        },
        {
          "output_type": "stream",
          "name": "stderr",
          "text": [
            "    173/200      13.8G     0.6882        1.3      2.397         24       1600: 100%|██████████| 5/5 [00:04<00:00,  1.11it/s]\n",
            "                 Class     Images  Instances      Box(P          R      mAP50  mAP50-95): 100%|██████████| 2/2 [00:25<00:00, 12.62s/it]"
          ]
        },
        {
          "output_type": "stream",
          "name": "stdout",
          "text": [
            "                   all         18         12      0.144       0.75      0.225        0.2\n"
          ]
        },
        {
          "output_type": "stream",
          "name": "stderr",
          "text": [
            "\n"
          ]
        },
        {
          "output_type": "stream",
          "name": "stdout",
          "text": [
            "\n",
            "      Epoch    GPU_mem   box_loss   cls_loss   dfl_loss  Instances       Size\n"
          ]
        },
        {
          "output_type": "stream",
          "name": "stderr",
          "text": [
            "    174/200      13.8G     0.6659      1.256      2.439         37       1600: 100%|██████████| 5/5 [00:04<00:00,  1.16it/s]\n",
            "                 Class     Images  Instances      Box(P          R      mAP50  mAP50-95): 100%|██████████| 2/2 [00:26<00:00, 13.10s/it]"
          ]
        },
        {
          "output_type": "stream",
          "name": "stdout",
          "text": [
            "                   all         18         12      0.142      0.783      0.232      0.214\n"
          ]
        },
        {
          "output_type": "stream",
          "name": "stderr",
          "text": [
            "\n"
          ]
        },
        {
          "output_type": "stream",
          "name": "stdout",
          "text": [
            "\n",
            "      Epoch    GPU_mem   box_loss   cls_loss   dfl_loss  Instances       Size\n"
          ]
        },
        {
          "output_type": "stream",
          "name": "stderr",
          "text": [
            "    175/200      13.9G     0.6619      1.199      2.461         41       1600: 100%|██████████| 5/5 [00:04<00:00,  1.13it/s]\n",
            "                 Class     Images  Instances      Box(P          R      mAP50  mAP50-95): 100%|██████████| 2/2 [00:23<00:00, 11.83s/it]"
          ]
        },
        {
          "output_type": "stream",
          "name": "stdout",
          "text": [
            "                   all         18         12      0.156       0.75      0.247       0.23\n"
          ]
        },
        {
          "output_type": "stream",
          "name": "stderr",
          "text": [
            "\n"
          ]
        },
        {
          "output_type": "stream",
          "name": "stdout",
          "text": [
            "\n",
            "      Epoch    GPU_mem   box_loss   cls_loss   dfl_loss  Instances       Size\n"
          ]
        },
        {
          "output_type": "stream",
          "name": "stderr",
          "text": [
            "    176/200      13.9G     0.6177      1.169      2.373         47       1600: 100%|██████████| 5/5 [00:04<00:00,  1.00it/s]\n",
            "                 Class     Images  Instances      Box(P          R      mAP50  mAP50-95): 100%|██████████| 2/2 [00:24<00:00, 12.38s/it]"
          ]
        },
        {
          "output_type": "stream",
          "name": "stdout",
          "text": [
            "                   all         18         12      0.124      0.847      0.177      0.164\n"
          ]
        },
        {
          "output_type": "stream",
          "name": "stderr",
          "text": [
            "\n"
          ]
        },
        {
          "output_type": "stream",
          "name": "stdout",
          "text": [
            "\n",
            "      Epoch    GPU_mem   box_loss   cls_loss   dfl_loss  Instances       Size\n"
          ]
        },
        {
          "output_type": "stream",
          "name": "stderr",
          "text": [
            "    177/200      13.8G     0.6284      1.163      2.385         52       1600: 100%|██████████| 5/5 [00:05<00:00,  1.19s/it]\n",
            "                 Class     Images  Instances      Box(P          R      mAP50  mAP50-95): 100%|██████████| 2/2 [00:22<00:00, 11.46s/it]"
          ]
        },
        {
          "output_type": "stream",
          "name": "stdout",
          "text": [
            "                   all         18         12      0.121      0.917      0.159      0.148\n"
          ]
        },
        {
          "output_type": "stream",
          "name": "stderr",
          "text": [
            "\n"
          ]
        },
        {
          "output_type": "stream",
          "name": "stdout",
          "text": [
            "\n",
            "      Epoch    GPU_mem   box_loss   cls_loss   dfl_loss  Instances       Size\n"
          ]
        },
        {
          "output_type": "stream",
          "name": "stderr",
          "text": [
            "    178/200      13.8G     0.6728      1.272      2.497         51       1600: 100%|██████████| 5/5 [00:04<00:00,  1.14it/s]\n",
            "                 Class     Images  Instances      Box(P          R      mAP50  mAP50-95): 100%|██████████| 2/2 [00:27<00:00, 13.60s/it]"
          ]
        },
        {
          "output_type": "stream",
          "name": "stdout",
          "text": [
            "                   all         18         12      0.121      0.833      0.154      0.145\n"
          ]
        },
        {
          "output_type": "stream",
          "name": "stderr",
          "text": [
            "\n"
          ]
        },
        {
          "output_type": "stream",
          "name": "stdout",
          "text": [
            "\n",
            "      Epoch    GPU_mem   box_loss   cls_loss   dfl_loss  Instances       Size\n"
          ]
        },
        {
          "output_type": "stream",
          "name": "stderr",
          "text": [
            "    179/200      13.8G     0.5866      1.104      2.361         36       1600: 100%|██████████| 5/5 [00:04<00:00,  1.21it/s]\n",
            "                 Class     Images  Instances      Box(P          R      mAP50  mAP50-95): 100%|██████████| 2/2 [00:25<00:00, 12.94s/it]"
          ]
        },
        {
          "output_type": "stream",
          "name": "stdout",
          "text": [
            "                   all         18         12       0.13      0.833      0.158      0.143\n"
          ]
        },
        {
          "output_type": "stream",
          "name": "stderr",
          "text": [
            "\n"
          ]
        },
        {
          "output_type": "stream",
          "name": "stdout",
          "text": [
            "\n",
            "      Epoch    GPU_mem   box_loss   cls_loss   dfl_loss  Instances       Size\n"
          ]
        },
        {
          "output_type": "stream",
          "name": "stderr",
          "text": [
            "    180/200      13.8G     0.7105      1.253      2.589         44       1600: 100%|██████████| 5/5 [00:04<00:00,  1.07it/s]\n",
            "                 Class     Images  Instances      Box(P          R      mAP50  mAP50-95): 100%|██████████| 2/2 [00:27<00:00, 13.56s/it]"
          ]
        },
        {
          "output_type": "stream",
          "name": "stdout",
          "text": [
            "                   all         18         12       0.14      0.855      0.169      0.151\n"
          ]
        },
        {
          "output_type": "stream",
          "name": "stderr",
          "text": [
            "\n"
          ]
        },
        {
          "output_type": "stream",
          "name": "stdout",
          "text": [
            "\n",
            "      Epoch    GPU_mem   box_loss   cls_loss   dfl_loss  Instances       Size\n"
          ]
        },
        {
          "output_type": "stream",
          "name": "stderr",
          "text": [
            "    181/200      13.9G     0.7465      1.214      2.472         49       1600: 100%|██████████| 5/5 [00:04<00:00,  1.08it/s]\n",
            "                 Class     Images  Instances      Box(P          R      mAP50  mAP50-95): 100%|██████████| 2/2 [00:24<00:00, 12.03s/it]\n"
          ]
        },
        {
          "output_type": "stream",
          "name": "stdout",
          "text": [
            "                   all         18         12      0.151      0.917      0.176      0.159\n",
            "\n",
            "      Epoch    GPU_mem   box_loss   cls_loss   dfl_loss  Instances       Size\n"
          ]
        },
        {
          "output_type": "stream",
          "name": "stderr",
          "text": [
            "    182/200      13.9G     0.7124      1.284      2.463         41       1600: 100%|██████████| 5/5 [00:04<00:00,  1.20it/s]\n",
            "                 Class     Images  Instances      Box(P          R      mAP50  mAP50-95): 100%|██████████| 2/2 [00:26<00:00, 13.08s/it]"
          ]
        },
        {
          "output_type": "stream",
          "name": "stdout",
          "text": [
            "                   all         18         12      0.142      0.833      0.177      0.159\n"
          ]
        },
        {
          "output_type": "stream",
          "name": "stderr",
          "text": [
            "\n"
          ]
        },
        {
          "output_type": "stream",
          "name": "stdout",
          "text": [
            "\n",
            "      Epoch    GPU_mem   box_loss   cls_loss   dfl_loss  Instances       Size\n"
          ]
        },
        {
          "output_type": "stream",
          "name": "stderr",
          "text": [
            "    183/200      13.8G     0.6313      1.284      2.424         31       1600: 100%|██████████| 5/5 [00:04<00:00,  1.10it/s]\n",
            "                 Class     Images  Instances      Box(P          R      mAP50  mAP50-95): 100%|██████████| 2/2 [00:25<00:00, 12.59s/it]"
          ]
        },
        {
          "output_type": "stream",
          "name": "stdout",
          "text": [
            "                   all         18         12      0.141      0.726       0.18      0.161\n"
          ]
        },
        {
          "output_type": "stream",
          "name": "stderr",
          "text": [
            "\n"
          ]
        },
        {
          "output_type": "stream",
          "name": "stdout",
          "text": [
            "\n",
            "      Epoch    GPU_mem   box_loss   cls_loss   dfl_loss  Instances       Size\n"
          ]
        },
        {
          "output_type": "stream",
          "name": "stderr",
          "text": [
            "    184/200      13.8G     0.6794      1.278      2.444         29       1600: 100%|██████████| 5/5 [00:04<00:00,  1.14it/s]\n",
            "                 Class     Images  Instances      Box(P          R      mAP50  mAP50-95): 100%|██████████| 2/2 [00:28<00:00, 14.33s/it]"
          ]
        },
        {
          "output_type": "stream",
          "name": "stdout",
          "text": [
            "                   all         18         12      0.129        0.5       0.18      0.162\n"
          ]
        },
        {
          "output_type": "stream",
          "name": "stderr",
          "text": [
            "\n"
          ]
        },
        {
          "output_type": "stream",
          "name": "stdout",
          "text": [
            "\n",
            "      Epoch    GPU_mem   box_loss   cls_loss   dfl_loss  Instances       Size\n"
          ]
        },
        {
          "output_type": "stream",
          "name": "stderr",
          "text": [
            "    185/200      13.9G     0.7012      1.248      2.494         40       1600: 100%|██████████| 5/5 [00:04<00:00,  1.11it/s]\n",
            "                 Class     Images  Instances      Box(P          R      mAP50  mAP50-95): 100%|██████████| 2/2 [00:27<00:00, 13.65s/it]"
          ]
        },
        {
          "output_type": "stream",
          "name": "stdout",
          "text": [
            "                   all         18         12      0.115       0.93      0.178      0.159\n"
          ]
        },
        {
          "output_type": "stream",
          "name": "stderr",
          "text": [
            "\n"
          ]
        },
        {
          "output_type": "stream",
          "name": "stdout",
          "text": [
            "\n",
            "      Epoch    GPU_mem   box_loss   cls_loss   dfl_loss  Instances       Size\n"
          ]
        },
        {
          "output_type": "stream",
          "name": "stderr",
          "text": [
            "    186/200      13.9G     0.6114      1.181      2.407         41       1600: 100%|██████████| 5/5 [00:04<00:00,  1.13it/s]\n",
            "                 Class     Images  Instances      Box(P          R      mAP50  mAP50-95): 100%|██████████| 2/2 [00:25<00:00, 12.98s/it]\n"
          ]
        },
        {
          "output_type": "stream",
          "name": "stdout",
          "text": [
            "                   all         18         12       0.11      0.917      0.177      0.161\n",
            "\n",
            "      Epoch    GPU_mem   box_loss   cls_loss   dfl_loss  Instances       Size\n"
          ]
        },
        {
          "output_type": "stream",
          "name": "stderr",
          "text": [
            "    187/200      13.9G     0.6058      1.208      2.498         43       1600: 100%|██████████| 5/5 [00:04<00:00,  1.20it/s]\n",
            "                 Class     Images  Instances      Box(P          R      mAP50  mAP50-95): 100%|██████████| 2/2 [00:24<00:00, 12.33s/it]"
          ]
        },
        {
          "output_type": "stream",
          "name": "stdout",
          "text": [
            "                   all         18         12      0.118       0.75      0.174       0.16\n"
          ]
        },
        {
          "output_type": "stream",
          "name": "stderr",
          "text": [
            "\n"
          ]
        },
        {
          "output_type": "stream",
          "name": "stdout",
          "text": [
            "\n",
            "      Epoch    GPU_mem   box_loss   cls_loss   dfl_loss  Instances       Size\n"
          ]
        },
        {
          "output_type": "stream",
          "name": "stderr",
          "text": [
            "    188/200      13.8G     0.6342      1.183      2.394         44       1600: 100%|██████████| 5/5 [00:04<00:00,  1.18it/s]\n",
            "                 Class     Images  Instances      Box(P          R      mAP50  mAP50-95): 100%|██████████| 2/2 [00:22<00:00, 11.36s/it]"
          ]
        },
        {
          "output_type": "stream",
          "name": "stdout",
          "text": [
            "                   all         18         12      0.121       0.75       0.17      0.155\n"
          ]
        },
        {
          "output_type": "stream",
          "name": "stderr",
          "text": [
            "\n"
          ]
        },
        {
          "output_type": "stream",
          "name": "stdout",
          "text": [
            "\n",
            "      Epoch    GPU_mem   box_loss   cls_loss   dfl_loss  Instances       Size\n"
          ]
        },
        {
          "output_type": "stream",
          "name": "stderr",
          "text": [
            "    189/200      13.7G     0.6627      1.279      2.429         50       1600: 100%|██████████| 5/5 [00:04<00:00,  1.15it/s]\n",
            "                 Class     Images  Instances      Box(P          R      mAP50  mAP50-95): 100%|██████████| 2/2 [00:27<00:00, 13.80s/it]\n"
          ]
        },
        {
          "output_type": "stream",
          "name": "stdout",
          "text": [
            "                   all         18         12      0.122      0.851      0.187      0.172\n",
            "\n",
            "      Epoch    GPU_mem   box_loss   cls_loss   dfl_loss  Instances       Size\n"
          ]
        },
        {
          "output_type": "stream",
          "name": "stderr",
          "text": [
            "    190/200      13.8G     0.6403      1.162      2.418         57       1600: 100%|██████████| 5/5 [00:04<00:00,  1.19it/s]\n",
            "                 Class     Images  Instances      Box(P          R      mAP50  mAP50-95): 100%|██████████| 2/2 [00:24<00:00, 12.17s/it]"
          ]
        },
        {
          "output_type": "stream",
          "name": "stdout",
          "text": [
            "                   all         18         12      0.123      0.791      0.191      0.176\n"
          ]
        },
        {
          "output_type": "stream",
          "name": "stderr",
          "text": [
            "\n"
          ]
        },
        {
          "output_type": "stream",
          "name": "stdout",
          "text": [
            "Closing dataloader mosaic\n",
            "\u001b[34m\u001b[1malbumentations: \u001b[0mBlur(p=0.01, blur_limit=(3, 7)), MedianBlur(p=0.01, blur_limit=(3, 7)), ToGray(p=0.01), CLAHE(p=0.01, clip_limit=(1, 4.0), tile_grid_size=(8, 8))\n",
            "\n",
            "      Epoch    GPU_mem   box_loss   cls_loss   dfl_loss  Instances       Size\n"
          ]
        },
        {
          "output_type": "stream",
          "name": "stderr",
          "text": [
            "    191/200      13.7G     0.5657       1.19      2.463         28       1600: 100%|██████████| 5/5 [00:47<00:00,  9.47s/it]\n",
            "                 Class     Images  Instances      Box(P          R      mAP50  mAP50-95): 100%|██████████| 2/2 [00:00<00:00,  2.17it/s]"
          ]
        },
        {
          "output_type": "stream",
          "name": "stdout",
          "text": [
            "                   all         18         12      0.126      0.833      0.192      0.181\n"
          ]
        },
        {
          "output_type": "stream",
          "name": "stderr",
          "text": [
            "\n"
          ]
        },
        {
          "output_type": "stream",
          "name": "stdout",
          "text": [
            "\n",
            "      Epoch    GPU_mem   box_loss   cls_loss   dfl_loss  Instances       Size\n"
          ]
        },
        {
          "output_type": "stream",
          "name": "stderr",
          "text": [
            "    192/200      13.7G     0.5903      1.158      2.387         28       1600: 100%|██████████| 5/5 [00:18<00:00,  3.78s/it]\n",
            "                 Class     Images  Instances      Box(P          R      mAP50  mAP50-95): 100%|██████████| 2/2 [00:00<00:00,  3.11it/s]"
          ]
        },
        {
          "output_type": "stream",
          "name": "stdout",
          "text": [
            "                   all         18         12      0.113      0.833      0.232      0.223\n"
          ]
        },
        {
          "output_type": "stream",
          "name": "stderr",
          "text": [
            "\n"
          ]
        },
        {
          "output_type": "stream",
          "name": "stdout",
          "text": [
            "\n",
            "      Epoch    GPU_mem   box_loss   cls_loss   dfl_loss  Instances       Size\n"
          ]
        },
        {
          "output_type": "stream",
          "name": "stderr",
          "text": [
            "    193/200      13.7G     0.5936      1.234      2.472         23       1600: 100%|██████████| 5/5 [00:17<00:00,  3.41s/it]\n",
            "                 Class     Images  Instances      Box(P          R      mAP50  mAP50-95): 100%|██████████| 2/2 [00:01<00:00,  1.77it/s]"
          ]
        },
        {
          "output_type": "stream",
          "name": "stdout",
          "text": [
            "                   all         18         12      0.118      0.917      0.231      0.212\n"
          ]
        },
        {
          "output_type": "stream",
          "name": "stderr",
          "text": [
            "\n"
          ]
        },
        {
          "output_type": "stream",
          "name": "stdout",
          "text": [
            "\n",
            "      Epoch    GPU_mem   box_loss   cls_loss   dfl_loss  Instances       Size\n"
          ]
        },
        {
          "output_type": "stream",
          "name": "stderr",
          "text": [
            "    194/200      13.7G     0.5335      1.124      2.439         32       1600: 100%|██████████| 5/5 [00:11<00:00,  2.27s/it]\n",
            "                 Class     Images  Instances      Box(P          R      mAP50  mAP50-95): 100%|██████████| 2/2 [00:00<00:00,  3.09it/s]\n"
          ]
        },
        {
          "output_type": "stream",
          "name": "stdout",
          "text": [
            "                   all         18         12      0.125      0.667      0.227      0.207\n",
            "\n",
            "      Epoch    GPU_mem   box_loss   cls_loss   dfl_loss  Instances       Size\n"
          ]
        },
        {
          "output_type": "stream",
          "name": "stderr",
          "text": [
            "    195/200      13.7G     0.5149       1.16      2.411         28       1600: 100%|██████████| 5/5 [00:07<00:00,  1.59s/it]\n",
            "                 Class     Images  Instances      Box(P          R      mAP50  mAP50-95): 100%|██████████| 2/2 [00:00<00:00,  3.32it/s]"
          ]
        },
        {
          "output_type": "stream",
          "name": "stdout",
          "text": [
            "                   all         18         12      0.116      0.917      0.225      0.203\n"
          ]
        },
        {
          "output_type": "stream",
          "name": "stderr",
          "text": [
            "\n"
          ]
        },
        {
          "output_type": "stream",
          "name": "stdout",
          "text": [
            "\n",
            "      Epoch    GPU_mem   box_loss   cls_loss   dfl_loss  Instances       Size\n"
          ]
        },
        {
          "output_type": "stream",
          "name": "stderr",
          "text": [
            "    196/200      13.7G     0.5678      1.177      2.377         24       1600: 100%|██████████| 5/5 [00:10<00:00,  2.10s/it]\n",
            "                 Class     Images  Instances      Box(P          R      mAP50  mAP50-95): 100%|██████████| 2/2 [00:04<00:00,  2.28s/it]"
          ]
        },
        {
          "output_type": "stream",
          "name": "stdout",
          "text": [
            "                   all         18         12      0.134      0.667      0.239      0.216\n"
          ]
        },
        {
          "output_type": "stream",
          "name": "stderr",
          "text": [
            "\n"
          ]
        },
        {
          "output_type": "stream",
          "name": "stdout",
          "text": [
            "\n",
            "      Epoch    GPU_mem   box_loss   cls_loss   dfl_loss  Instances       Size\n"
          ]
        },
        {
          "output_type": "stream",
          "name": "stderr",
          "text": [
            "    197/200      13.7G     0.4887      1.131      2.285         16       1600: 100%|██████████| 5/5 [00:05<00:00,  1.04s/it]\n",
            "                 Class     Images  Instances      Box(P          R      mAP50  mAP50-95): 100%|██████████| 2/2 [00:07<00:00,  3.75s/it]"
          ]
        },
        {
          "output_type": "stream",
          "name": "stdout",
          "text": [
            "                   all         18         12      0.142      0.661      0.242      0.218\n"
          ]
        },
        {
          "output_type": "stream",
          "name": "stderr",
          "text": [
            "\n"
          ]
        },
        {
          "output_type": "stream",
          "name": "stdout",
          "text": [
            "\n",
            "      Epoch    GPU_mem   box_loss   cls_loss   dfl_loss  Instances       Size\n"
          ]
        },
        {
          "output_type": "stream",
          "name": "stderr",
          "text": [
            "    198/200      13.7G     0.5346      1.174      2.311         28       1600: 100%|██████████| 5/5 [00:04<00:00,  1.17it/s]\n",
            "                 Class     Images  Instances      Box(P          R      mAP50  mAP50-95): 100%|██████████| 2/2 [00:08<00:00,  4.44s/it]"
          ]
        },
        {
          "output_type": "stream",
          "name": "stdout",
          "text": [
            "                   all         18         12      0.146      0.667      0.244       0.22\n"
          ]
        },
        {
          "output_type": "stream",
          "name": "stderr",
          "text": [
            "\n"
          ]
        },
        {
          "output_type": "stream",
          "name": "stdout",
          "text": [
            "\n",
            "      Epoch    GPU_mem   box_loss   cls_loss   dfl_loss  Instances       Size\n"
          ]
        },
        {
          "output_type": "stream",
          "name": "stderr",
          "text": [
            "    199/200      13.7G     0.5118      1.161      2.389         24       1600: 100%|██████████| 5/5 [00:04<00:00,  1.17it/s]\n",
            "                 Class     Images  Instances      Box(P          R      mAP50  mAP50-95): 100%|██████████| 2/2 [00:07<00:00,  3.87s/it]"
          ]
        },
        {
          "output_type": "stream",
          "name": "stdout",
          "text": [
            "                   all         18         12      0.148      0.676      0.245      0.222\n"
          ]
        },
        {
          "output_type": "stream",
          "name": "stderr",
          "text": [
            "\n"
          ]
        },
        {
          "output_type": "stream",
          "name": "stdout",
          "text": [
            "\n",
            "      Epoch    GPU_mem   box_loss   cls_loss   dfl_loss  Instances       Size\n"
          ]
        },
        {
          "output_type": "stream",
          "name": "stderr",
          "text": [
            "    200/200      13.7G     0.5263      1.159      2.345         24       1600: 100%|██████████| 5/5 [00:04<00:00,  1.17it/s]\n",
            "                 Class     Images  Instances      Box(P          R      mAP50  mAP50-95): 100%|██████████| 2/2 [00:08<00:00,  4.04s/it]"
          ]
        },
        {
          "output_type": "stream",
          "name": "stdout",
          "text": [
            "                   all         18         12      0.142       0.61      0.207      0.189\n"
          ]
        },
        {
          "output_type": "stream",
          "name": "stderr",
          "text": [
            "\n"
          ]
        },
        {
          "output_type": "stream",
          "name": "stdout",
          "text": [
            "\n",
            "200 epochs completed in 1.440 hours.\n",
            "Optimizer stripped from runs/obb/train/weights/last.pt, 6.6MB\n",
            "Optimizer stripped from runs/obb/train/weights/best.pt, 6.6MB\n",
            "\n",
            "Validating runs/obb/train/weights/best.pt...\n",
            "Ultralytics YOLOv8.1.27 🚀 Python-3.10.12 torch-2.2.1+cu121 CUDA:0 (Tesla T4, 15102MiB)\n",
            "YOLOv8n-obb summary (fused): 187 layers, 3077999 parameters, 0 gradients, 8.3 GFLOPs\n"
          ]
        },
        {
          "output_type": "stream",
          "name": "stderr",
          "text": [
            "                 Class     Images  Instances      Box(P          R      mAP50  mAP50-95): 100%|██████████| 2/2 [00:06<00:00,  3.28s/it]\n"
          ]
        },
        {
          "output_type": "stream",
          "name": "stdout",
          "text": [
            "                   all         18         12      0.205       0.75      0.287      0.257\n",
            "                Energy         18          3      0.191      0.667      0.446      0.391\n",
            "                 Sugar         18          3      0.143      0.667      0.143      0.131\n",
            "                   Fat         18          3      0.224          1       0.23      0.212\n",
            "                Sodium         18          3      0.262      0.667      0.328      0.295\n",
            "Speed: 2.0ms preprocess, 19.0ms inference, 0.0ms loss, 3.4ms postprocess per image\n",
            "Results saved to \u001b[1mruns/obb/train\u001b[0m\n"
          ]
        }
      ]
    },
    {
      "cell_type": "code",
      "source": [
        "!cp -r /content/runs/obb/train /content/drive/MyDrive/SuperAI/Project/GDA/GDA-OBB/train"
      ],
      "metadata": {
        "id": "CsuslKmP-667"
      },
      "execution_count": null,
      "outputs": []
    },
    {
      "cell_type": "markdown",
      "source": [
        "๒"
      ],
      "metadata": {
        "id": "tB20gTIts6W4"
      }
    },
    {
      "cell_type": "markdown",
      "source": [
        "---"
      ],
      "metadata": {
        "id": "NvShIRkvzXfI"
      }
    },
    {
      "cell_type": "markdown",
      "source": [
        "# **Testing**"
      ],
      "metadata": {
        "id": "IJBYHWI6QxvT"
      }
    },
    {
      "cell_type": "code",
      "source": [
        "!pip install ultralytics"
      ],
      "metadata": {
        "colab": {
          "base_uri": "https://localhost:8080/"
        },
        "id": "cGf8MBh7T1VS",
        "outputId": "35cbf6c4-66c9-445c-cacd-6eabb1a2086f"
      },
      "execution_count": null,
      "outputs": [
        {
          "output_type": "stream",
          "name": "stdout",
          "text": [
            "Collecting ultralytics\n",
            "  Downloading ultralytics-8.1.28-py3-none-any.whl (721 kB)\n",
            "\u001b[?25l     \u001b[90m━━━━━━━━━━━━━━━━━━━━━━━━━━━━━━━━━━━━━━━━\u001b[0m \u001b[32m0.0/721.3 kB\u001b[0m \u001b[31m?\u001b[0m eta \u001b[36m-:--:--\u001b[0m\r\u001b[2K     \u001b[91m━━━━━━━━━━━━━━━━━━━━━━━━━━━━\u001b[0m\u001b[90m╺\u001b[0m\u001b[90m━━━━━━━━━━━\u001b[0m \u001b[32m512.0/721.3 kB\u001b[0m \u001b[31m15.3 MB/s\u001b[0m eta \u001b[36m0:00:01\u001b[0m\r\u001b[2K     \u001b[90m━━━━━━━━━━━━━━━━━━━━━━━━━━━━━━━━━━━━━━━━\u001b[0m \u001b[32m721.3/721.3 kB\u001b[0m \u001b[31m15.7 MB/s\u001b[0m eta \u001b[36m0:00:00\u001b[0m\n",
            "\u001b[?25hRequirement already satisfied: matplotlib>=3.3.0 in /usr/local/lib/python3.10/dist-packages (from ultralytics) (3.7.1)\n",
            "Requirement already satisfied: opencv-python>=4.6.0 in /usr/local/lib/python3.10/dist-packages (from ultralytics) (4.8.0.76)\n",
            "Requirement already satisfied: pillow>=7.1.2 in /usr/local/lib/python3.10/dist-packages (from ultralytics) (9.4.0)\n",
            "Requirement already satisfied: pyyaml>=5.3.1 in /usr/local/lib/python3.10/dist-packages (from ultralytics) (6.0.1)\n",
            "Requirement already satisfied: requests>=2.23.0 in /usr/local/lib/python3.10/dist-packages (from ultralytics) (2.31.0)\n",
            "Requirement already satisfied: scipy>=1.4.1 in /usr/local/lib/python3.10/dist-packages (from ultralytics) (1.11.4)\n",
            "Requirement already satisfied: torch>=1.8.0 in /usr/local/lib/python3.10/dist-packages (from ultralytics) (2.2.1+cu121)\n",
            "Requirement already satisfied: torchvision>=0.9.0 in /usr/local/lib/python3.10/dist-packages (from ultralytics) (0.17.1+cu121)\n",
            "Requirement already satisfied: tqdm>=4.64.0 in /usr/local/lib/python3.10/dist-packages (from ultralytics) (4.66.2)\n",
            "Requirement already satisfied: psutil in /usr/local/lib/python3.10/dist-packages (from ultralytics) (5.9.5)\n",
            "Requirement already satisfied: py-cpuinfo in /usr/local/lib/python3.10/dist-packages (from ultralytics) (9.0.0)\n",
            "Collecting thop>=0.1.1 (from ultralytics)\n",
            "  Downloading thop-0.1.1.post2209072238-py3-none-any.whl (15 kB)\n",
            "Requirement already satisfied: pandas>=1.1.4 in /usr/local/lib/python3.10/dist-packages (from ultralytics) (1.5.3)\n",
            "Requirement already satisfied: seaborn>=0.11.0 in /usr/local/lib/python3.10/dist-packages (from ultralytics) (0.13.1)\n",
            "Requirement already satisfied: contourpy>=1.0.1 in /usr/local/lib/python3.10/dist-packages (from matplotlib>=3.3.0->ultralytics) (1.2.0)\n",
            "Requirement already satisfied: cycler>=0.10 in /usr/local/lib/python3.10/dist-packages (from matplotlib>=3.3.0->ultralytics) (0.12.1)\n",
            "Requirement already satisfied: fonttools>=4.22.0 in /usr/local/lib/python3.10/dist-packages (from matplotlib>=3.3.0->ultralytics) (4.49.0)\n",
            "Requirement already satisfied: kiwisolver>=1.0.1 in /usr/local/lib/python3.10/dist-packages (from matplotlib>=3.3.0->ultralytics) (1.4.5)\n",
            "Requirement already satisfied: numpy>=1.20 in /usr/local/lib/python3.10/dist-packages (from matplotlib>=3.3.0->ultralytics) (1.25.2)\n",
            "Requirement already satisfied: packaging>=20.0 in /usr/local/lib/python3.10/dist-packages (from matplotlib>=3.3.0->ultralytics) (24.0)\n",
            "Requirement already satisfied: pyparsing>=2.3.1 in /usr/local/lib/python3.10/dist-packages (from matplotlib>=3.3.0->ultralytics) (3.1.2)\n",
            "Requirement already satisfied: python-dateutil>=2.7 in /usr/local/lib/python3.10/dist-packages (from matplotlib>=3.3.0->ultralytics) (2.8.2)\n",
            "Requirement already satisfied: pytz>=2020.1 in /usr/local/lib/python3.10/dist-packages (from pandas>=1.1.4->ultralytics) (2023.4)\n",
            "Requirement already satisfied: charset-normalizer<4,>=2 in /usr/local/lib/python3.10/dist-packages (from requests>=2.23.0->ultralytics) (3.3.2)\n",
            "Requirement already satisfied: idna<4,>=2.5 in /usr/local/lib/python3.10/dist-packages (from requests>=2.23.0->ultralytics) (3.6)\n",
            "Requirement already satisfied: urllib3<3,>=1.21.1 in /usr/local/lib/python3.10/dist-packages (from requests>=2.23.0->ultralytics) (2.0.7)\n",
            "Requirement already satisfied: certifi>=2017.4.17 in /usr/local/lib/python3.10/dist-packages (from requests>=2.23.0->ultralytics) (2024.2.2)\n",
            "Requirement already satisfied: filelock in /usr/local/lib/python3.10/dist-packages (from torch>=1.8.0->ultralytics) (3.13.1)\n",
            "Requirement already satisfied: typing-extensions>=4.8.0 in /usr/local/lib/python3.10/dist-packages (from torch>=1.8.0->ultralytics) (4.10.0)\n",
            "Requirement already satisfied: sympy in /usr/local/lib/python3.10/dist-packages (from torch>=1.8.0->ultralytics) (1.12)\n",
            "Requirement already satisfied: networkx in /usr/local/lib/python3.10/dist-packages (from torch>=1.8.0->ultralytics) (3.2.1)\n",
            "Requirement already satisfied: jinja2 in /usr/local/lib/python3.10/dist-packages (from torch>=1.8.0->ultralytics) (3.1.3)\n",
            "Requirement already satisfied: fsspec in /usr/local/lib/python3.10/dist-packages (from torch>=1.8.0->ultralytics) (2023.6.0)\n",
            "Collecting nvidia-cuda-nvrtc-cu12==12.1.105 (from torch>=1.8.0->ultralytics)\n",
            "  Downloading nvidia_cuda_nvrtc_cu12-12.1.105-py3-none-manylinux1_x86_64.whl (23.7 MB)\n",
            "\u001b[2K     \u001b[90m━━━━━━━━━━━━━━━━━━━━━━━━━━━━━━━━━━━━━━━━\u001b[0m \u001b[32m23.7/23.7 MB\u001b[0m \u001b[31m53.1 MB/s\u001b[0m eta \u001b[36m0:00:00\u001b[0m\n",
            "\u001b[?25hCollecting nvidia-cuda-runtime-cu12==12.1.105 (from torch>=1.8.0->ultralytics)\n",
            "  Downloading nvidia_cuda_runtime_cu12-12.1.105-py3-none-manylinux1_x86_64.whl (823 kB)\n",
            "\u001b[2K     \u001b[90m━━━━━━━━━━━━━━━━━━━━━━━━━━━━━━━━━━━━━━━━\u001b[0m \u001b[32m823.6/823.6 kB\u001b[0m \u001b[31m54.5 MB/s\u001b[0m eta \u001b[36m0:00:00\u001b[0m\n",
            "\u001b[?25hCollecting nvidia-cuda-cupti-cu12==12.1.105 (from torch>=1.8.0->ultralytics)\n",
            "  Downloading nvidia_cuda_cupti_cu12-12.1.105-py3-none-manylinux1_x86_64.whl (14.1 MB)\n",
            "\u001b[2K     \u001b[90m━━━━━━━━━━━━━━━━━━━━━━━━━━━━━━━━━━━━━━━━\u001b[0m \u001b[32m14.1/14.1 MB\u001b[0m \u001b[31m49.0 MB/s\u001b[0m eta \u001b[36m0:00:00\u001b[0m\n",
            "\u001b[?25hCollecting nvidia-cudnn-cu12==8.9.2.26 (from torch>=1.8.0->ultralytics)\n",
            "  Downloading nvidia_cudnn_cu12-8.9.2.26-py3-none-manylinux1_x86_64.whl (731.7 MB)\n",
            "\u001b[2K     \u001b[90m━━━━━━━━━━━━━━━━━━━━━━━━━━━━━━━━━━━━━━━━\u001b[0m \u001b[32m731.7/731.7 MB\u001b[0m \u001b[31m2.2 MB/s\u001b[0m eta \u001b[36m0:00:00\u001b[0m\n",
            "\u001b[?25hCollecting nvidia-cublas-cu12==12.1.3.1 (from torch>=1.8.0->ultralytics)\n",
            "  Downloading nvidia_cublas_cu12-12.1.3.1-py3-none-manylinux1_x86_64.whl (410.6 MB)\n",
            "\u001b[2K     \u001b[90m━━━━━━━━━━━━━━━━━━━━━━━━━━━━━━━━━━━━━━━━\u001b[0m \u001b[32m410.6/410.6 MB\u001b[0m \u001b[31m3.2 MB/s\u001b[0m eta \u001b[36m0:00:00\u001b[0m\n",
            "\u001b[?25hCollecting nvidia-cufft-cu12==11.0.2.54 (from torch>=1.8.0->ultralytics)\n",
            "  Downloading nvidia_cufft_cu12-11.0.2.54-py3-none-manylinux1_x86_64.whl (121.6 MB)\n",
            "\u001b[2K     \u001b[90m━━━━━━━━━━━━━━━━━━━━━━━━━━━━━━━━━━━━━━━━\u001b[0m \u001b[32m121.6/121.6 MB\u001b[0m \u001b[31m8.7 MB/s\u001b[0m eta \u001b[36m0:00:00\u001b[0m\n",
            "\u001b[?25hCollecting nvidia-curand-cu12==10.3.2.106 (from torch>=1.8.0->ultralytics)\n",
            "  Downloading nvidia_curand_cu12-10.3.2.106-py3-none-manylinux1_x86_64.whl (56.5 MB)\n",
            "\u001b[2K     \u001b[90m━━━━━━━━━━━━━━━━━━━━━━━━━━━━━━━━━━━━━━━━\u001b[0m \u001b[32m56.5/56.5 MB\u001b[0m \u001b[31m9.9 MB/s\u001b[0m eta \u001b[36m0:00:00\u001b[0m\n",
            "\u001b[?25hCollecting nvidia-cusolver-cu12==11.4.5.107 (from torch>=1.8.0->ultralytics)\n",
            "  Downloading nvidia_cusolver_cu12-11.4.5.107-py3-none-manylinux1_x86_64.whl (124.2 MB)\n",
            "\u001b[2K     \u001b[90m━━━━━━━━━━━━━━━━━━━━━━━━━━━━━━━━━━━━━━━━\u001b[0m \u001b[32m124.2/124.2 MB\u001b[0m \u001b[31m8.3 MB/s\u001b[0m eta \u001b[36m0:00:00\u001b[0m\n",
            "\u001b[?25hCollecting nvidia-cusparse-cu12==12.1.0.106 (from torch>=1.8.0->ultralytics)\n",
            "  Downloading nvidia_cusparse_cu12-12.1.0.106-py3-none-manylinux1_x86_64.whl (196.0 MB)\n",
            "\u001b[2K     \u001b[90m━━━━━━━━━━━━━━━━━━━━━━━━━━━━━━━━━━━━━━━━\u001b[0m \u001b[32m196.0/196.0 MB\u001b[0m \u001b[31m4.1 MB/s\u001b[0m eta \u001b[36m0:00:00\u001b[0m\n",
            "\u001b[?25hCollecting nvidia-nccl-cu12==2.19.3 (from torch>=1.8.0->ultralytics)\n",
            "  Downloading nvidia_nccl_cu12-2.19.3-py3-none-manylinux1_x86_64.whl (166.0 MB)\n",
            "\u001b[2K     \u001b[90m━━━━━━━━━━━━━━━━━━━━━━━━━━━━━━━━━━━━━━━━\u001b[0m \u001b[32m166.0/166.0 MB\u001b[0m \u001b[31m6.7 MB/s\u001b[0m eta \u001b[36m0:00:00\u001b[0m\n",
            "\u001b[?25hCollecting nvidia-nvtx-cu12==12.1.105 (from torch>=1.8.0->ultralytics)\n",
            "  Downloading nvidia_nvtx_cu12-12.1.105-py3-none-manylinux1_x86_64.whl (99 kB)\n",
            "\u001b[2K     \u001b[90m━━━━━━━━━━━━━━━━━━━━━━━━━━━━━━━━━━━━━━━━\u001b[0m \u001b[32m99.1/99.1 kB\u001b[0m \u001b[31m16.1 MB/s\u001b[0m eta \u001b[36m0:00:00\u001b[0m\n",
            "\u001b[?25hRequirement already satisfied: triton==2.2.0 in /usr/local/lib/python3.10/dist-packages (from torch>=1.8.0->ultralytics) (2.2.0)\n",
            "Collecting nvidia-nvjitlink-cu12 (from nvidia-cusolver-cu12==11.4.5.107->torch>=1.8.0->ultralytics)\n",
            "  Downloading nvidia_nvjitlink_cu12-12.4.99-py3-none-manylinux2014_x86_64.whl (21.1 MB)\n",
            "\u001b[2K     \u001b[90m━━━━━━━━━━━━━━━━━━━━━━━━━━━━━━━━━━━━━━━━\u001b[0m \u001b[32m21.1/21.1 MB\u001b[0m \u001b[31m60.9 MB/s\u001b[0m eta \u001b[36m0:00:00\u001b[0m\n",
            "\u001b[?25hRequirement already satisfied: six>=1.5 in /usr/local/lib/python3.10/dist-packages (from python-dateutil>=2.7->matplotlib>=3.3.0->ultralytics) (1.16.0)\n",
            "Requirement already satisfied: MarkupSafe>=2.0 in /usr/local/lib/python3.10/dist-packages (from jinja2->torch>=1.8.0->ultralytics) (2.1.5)\n",
            "Requirement already satisfied: mpmath>=0.19 in /usr/local/lib/python3.10/dist-packages (from sympy->torch>=1.8.0->ultralytics) (1.3.0)\n",
            "Installing collected packages: nvidia-nvtx-cu12, nvidia-nvjitlink-cu12, nvidia-nccl-cu12, nvidia-curand-cu12, nvidia-cufft-cu12, nvidia-cuda-runtime-cu12, nvidia-cuda-nvrtc-cu12, nvidia-cuda-cupti-cu12, nvidia-cublas-cu12, nvidia-cusparse-cu12, nvidia-cudnn-cu12, nvidia-cusolver-cu12, thop, ultralytics\n",
            "Successfully installed nvidia-cublas-cu12-12.1.3.1 nvidia-cuda-cupti-cu12-12.1.105 nvidia-cuda-nvrtc-cu12-12.1.105 nvidia-cuda-runtime-cu12-12.1.105 nvidia-cudnn-cu12-8.9.2.26 nvidia-cufft-cu12-11.0.2.54 nvidia-curand-cu12-10.3.2.106 nvidia-cusolver-cu12-11.4.5.107 nvidia-cusparse-cu12-12.1.0.106 nvidia-nccl-cu12-2.19.3 nvidia-nvjitlink-cu12-12.4.99 nvidia-nvtx-cu12-12.1.105 thop-0.1.1.post2209072238 ultralytics-8.1.28\n"
          ]
        }
      ]
    },
    {
      "cell_type": "code",
      "source": [
        "from ultralytics import YOLO\n",
        "\n",
        "# Load the trained model\n",
        "model = YOLO('/content/drive/MyDrive/SuperAI/Project/GDA/GDA-OBB/14032024/YoloOBB_training_results/weights/best.pt')\n"
      ],
      "metadata": {
        "id": "bOMLzrRezZoH"
      },
      "execution_count": null,
      "outputs": []
    },
    {
      "cell_type": "code",
      "source": [
        "# Perform inference on an image or a directory of images\n",
        "results = model.predict('/content/drive/MyDrive/SuperAI/Project/GDA/test')\n",
        "# results = model.predict('/content/drive/MyDrive/SuperAI/Project/GDA/GDA-OBB/images/train')"
      ],
      "metadata": {
        "id": "qhN7zcSXTyo7",
        "colab": {
          "base_uri": "https://localhost:8080/"
        },
        "outputId": "34ba22c7-5dde-4e44-f6bb-52fbe0aff494"
      },
      "execution_count": null,
      "outputs": [
        {
          "output_type": "stream",
          "name": "stdout",
          "text": [
            "\n",
            "image 1/43 /content/drive/MyDrive/SuperAI/Project/GDA/test/0006.jpg: 1216x1600 83.6ms\n",
            "image 2/43 /content/drive/MyDrive/SuperAI/Project/GDA/test/0012.jpg: 1600x1216 75.3ms\n",
            "image 3/43 /content/drive/MyDrive/SuperAI/Project/GDA/test/0013.jpg: 1600x1216 25.1ms\n",
            "image 4/43 /content/drive/MyDrive/SuperAI/Project/GDA/test/0014.jpg: 1216x1600 (no detections), 25.3ms\n",
            "image 5/43 /content/drive/MyDrive/SuperAI/Project/GDA/test/0019.jpg: 1600x1216 25.6ms\n",
            "image 6/43 /content/drive/MyDrive/SuperAI/Project/GDA/test/0027.jpg: 1600x1216 (no detections), 25.0ms\n",
            "image 7/43 /content/drive/MyDrive/SuperAI/Project/GDA/test/0028.jpg: 1600x1216 25.0ms\n",
            "image 8/43 /content/drive/MyDrive/SuperAI/Project/GDA/test/0033.jpg: 1600x1216 25.0ms\n",
            "image 9/43 /content/drive/MyDrive/SuperAI/Project/GDA/test/0035.jpg: 1600x1216 25.0ms\n",
            "image 10/43 /content/drive/MyDrive/SuperAI/Project/GDA/test/0039.jpg: 1600x1216 25.1ms\n",
            "image 11/43 /content/drive/MyDrive/SuperAI/Project/GDA/test/0041.jpg: 1600x1216 25.1ms\n",
            "image 12/43 /content/drive/MyDrive/SuperAI/Project/GDA/test/0042.jpg: 1600x1216 (no detections), 25.1ms\n",
            "image 13/43 /content/drive/MyDrive/SuperAI/Project/GDA/test/0044.jpg: 1600x1216 25.0ms\n",
            "image 14/43 /content/drive/MyDrive/SuperAI/Project/GDA/test/0045.jpg: 1600x1216 25.0ms\n",
            "image 15/43 /content/drive/MyDrive/SuperAI/Project/GDA/test/0046.jpg: 1600x1216 27.5ms\n",
            "image 16/43 /content/drive/MyDrive/SuperAI/Project/GDA/test/0049.jpg: 1600x1216 25.1ms\n",
            "image 17/43 /content/drive/MyDrive/SuperAI/Project/GDA/test/0051.jpg: 1600x1216 25.1ms\n",
            "image 18/43 /content/drive/MyDrive/SuperAI/Project/GDA/test/0053.jpg: 1600x1216 (no detections), 25.1ms\n",
            "image 19/43 /content/drive/MyDrive/SuperAI/Project/GDA/test/0055.jpg: 1600x1216 25.0ms\n",
            "image 20/43 /content/drive/MyDrive/SuperAI/Project/GDA/test/0057.jpg: 1600x1216 25.5ms\n",
            "image 21/43 /content/drive/MyDrive/SuperAI/Project/GDA/test/0061.jpg: 1600x1216 25.0ms\n",
            "image 22/43 /content/drive/MyDrive/SuperAI/Project/GDA/test/0064.jpg: 1600x1216 25.0ms\n",
            "image 23/43 /content/drive/MyDrive/SuperAI/Project/GDA/test/0066.jpg: 1600x1216 (no detections), 25.1ms\n",
            "image 24/43 /content/drive/MyDrive/SuperAI/Project/GDA/test/0068.jpg: 1600x1216 25.1ms\n",
            "image 25/43 /content/drive/MyDrive/SuperAI/Project/GDA/test/0070.jpg: 1600x1216 (no detections), 25.0ms\n",
            "image 26/43 /content/drive/MyDrive/SuperAI/Project/GDA/test/0072.jpg: 1600x1216 25.0ms\n",
            "image 27/43 /content/drive/MyDrive/SuperAI/Project/GDA/test/0074.jpg: 1600x1216 (no detections), 25.0ms\n",
            "image 28/43 /content/drive/MyDrive/SuperAI/Project/GDA/test/0076.jpg: 1600x1216 25.1ms\n",
            "image 29/43 /content/drive/MyDrive/SuperAI/Project/GDA/test/0079.jpg: 1600x1216 25.1ms\n",
            "image 30/43 /content/drive/MyDrive/SuperAI/Project/GDA/test/0089.jpg: 1600x736 (no detections), 77.6ms\n",
            "image 31/43 /content/drive/MyDrive/SuperAI/Project/GDA/test/0091.jpg: 1600x736 17.7ms\n",
            "image 32/43 /content/drive/MyDrive/SuperAI/Project/GDA/test/0094.jpg: 1600x736 18.5ms\n",
            "image 33/43 /content/drive/MyDrive/SuperAI/Project/GDA/test/0096.jpg: 1600x736 15.9ms\n",
            "image 34/43 /content/drive/MyDrive/SuperAI/Project/GDA/test/0098.jpg: 1600x736 (no detections), 15.8ms\n",
            "image 35/43 /content/drive/MyDrive/SuperAI/Project/GDA/test/0101.jpg: 1280x1600 (no detections), 78.8ms\n",
            "image 36/43 /content/drive/MyDrive/SuperAI/Project/GDA/test/0103.jpg: 1600x1216 25.9ms\n",
            "image 37/43 /content/drive/MyDrive/SuperAI/Project/GDA/test/0105.jpg: 1600x1216 25.1ms\n",
            "image 38/43 /content/drive/MyDrive/SuperAI/Project/GDA/test/0123.jpg: 1600x1216 25.1ms\n",
            "image 39/43 /content/drive/MyDrive/SuperAI/Project/GDA/test/0124.jpg: 1600x1216 25.0ms\n",
            "image 40/43 /content/drive/MyDrive/SuperAI/Project/GDA/test/0126.jpg: 1600x1216 (no detections), 25.1ms\n",
            "image 41/43 /content/drive/MyDrive/SuperAI/Project/GDA/test/0128.jpg: 1600x1216 (no detections), 25.1ms\n",
            "image 42/43 /content/drive/MyDrive/SuperAI/Project/GDA/test/0130.jpg: 1600x1216 25.0ms\n",
            "image 43/43 /content/drive/MyDrive/SuperAI/Project/GDA/test/0132.jpg: 1600x1216 25.1ms\n",
            "Speed: 20.9ms preprocess, 29.4ms inference, 12.7ms postprocess per image at shape (1, 3, 1600, 1216)\n"
          ]
        }
      ]
    },
    {
      "cell_type": "markdown",
      "source": [
        "# Crops and draw OBB"
      ],
      "metadata": {
        "id": "0tUyILUxMT4D"
      }
    },
    {
      "cell_type": "code",
      "source": [
        "import cv2\n",
        "import numpy as np\n",
        "import os\n",
        "\n",
        "def save_crops_and_draw_obb(result, save_dir, crops_dir):\n",
        "    \"\"\"\n",
        "    Saves crops for each label based on the axis-aligned bounding boxes from the OBB results and draws OBBs on the original image.\n",
        "\n",
        "    Parameters:\n",
        "    - result: A 'Results' object from Ultralytics YOLO inference containing predictions.\n",
        "    - save_dir: Directory where the annotated images will be saved.\n",
        "    - crops_dir: Directory where the cropped areas will be saved.\n",
        "    \"\"\"\n",
        "    os.makedirs(save_dir, exist_ok=True)  # Ensure the save directory exists\n",
        "    os.makedirs(crops_dir, exist_ok=True)  # Ensure the crops directory exists\n",
        "\n",
        "    # Define colors for each label in BGR format\n",
        "    colors = {0: (0, 0, 255),    # Red\n",
        "              1: (147, 20, 255), # Pink\n",
        "              2: (0, 165, 255),  # Orange\n",
        "              3: (0, 255, 255)}  # Yellow\n",
        "\n",
        "    # Use the original image for cropping to avoid drawing on it\n",
        "    orig_image_for_cropping = result.orig_img.copy()\n",
        "    # Use another copy for drawing to save with OBBs drawn on it\n",
        "    image_for_drawing = result.orig_img.copy()\n",
        "\n",
        "    if result.obb.xyxyxyxy.numel() > 0:\n",
        "        obbs = result.obb.xyxyxyxy.cpu().numpy()  # OBB coordinates\n",
        "        aabbs = result.obb.xyxy.cpu().numpy()  # Axis-aligned bounding boxes for cropping\n",
        "        classes = result.obb.cls.cpu().numpy()  # Class IDs for each OBB\n",
        "\n",
        "        original_basename = os.path.splitext(os.path.basename(result.path))[0]  # Remove file extension from original basename\n",
        "\n",
        "        for i, (obb, aabb, cls_id) in enumerate(zip(obbs, aabbs, classes)):\n",
        "            # Crop using axis-aligned bounding box from the original image\n",
        "            x1, y1, x2, y2 = aabb.astype(int)\n",
        "            crop = orig_image_for_cropping[y1:y2, x1:x2]\n",
        "            crop_path = os.path.join(crops_dir, f\"{original_basename}_class_{int(cls_id)}_crop_{i}.jpg\")\n",
        "            cv2.imwrite(crop_path, crop)\n",
        "\n",
        "            # Draw OBB on the drawing image\n",
        "            color = colors.get(int(cls_id), (255, 255, 255))  # Default to white if class ID is not in colors\n",
        "            print(f\"Drawing box for class {cls_id} with color {color}\")  # Debug print\n",
        "            points = obb.reshape((-1, 1, 2)).astype(np.int32)\n",
        "            cv2.polylines(image_for_drawing, [points], isClosed=True, color=color, thickness=10)\n",
        "\n",
        "    # Save the annotated original image with OBBs drawn\n",
        "    save_path = os.path.join(save_dir, os.path.basename(result.path))\n",
        "    cv2.imwrite(save_path, image_for_drawing)\n",
        "\n",
        "save_dir = '/content/drive/MyDrive/SuperAI/Project/GDA/GDA-OBB/14032024/obb_results'\n",
        "crops_dir = '/content/drive/MyDrive/SuperAI/Project/GDA/GDA-OBB/14032024/crops'\n",
        "\n",
        "for result in results:\n",
        "    save_crops_and_draw_obb(result, save_dir, crops_dir)\n"
      ],
      "metadata": {
        "colab": {
          "base_uri": "https://localhost:8080/"
        },
        "id": "hc7RvKdrQWTq",
        "outputId": "8c7e26c0-50fc-410f-8734-bef357e2ff47"
      },
      "execution_count": null,
      "outputs": [
        {
          "output_type": "stream",
          "name": "stdout",
          "text": [
            "Drawing box for class 0.0 with color (0, 0, 255)\n",
            "Drawing box for class 1.0 with color (147, 20, 255)\n",
            "Drawing box for class 2.0 with color (0, 165, 255)\n",
            "Drawing box for class 3.0 with color (0, 255, 255)\n",
            "Drawing box for class 2.0 with color (0, 165, 255)\n",
            "Drawing box for class 1.0 with color (147, 20, 255)\n",
            "Drawing box for class 1.0 with color (147, 20, 255)\n",
            "Drawing box for class 1.0 with color (147, 20, 255)\n",
            "Drawing box for class 3.0 with color (0, 255, 255)\n",
            "Drawing box for class 0.0 with color (0, 0, 255)\n",
            "Drawing box for class 2.0 with color (0, 165, 255)\n",
            "Drawing box for class 0.0 with color (0, 0, 255)\n",
            "Drawing box for class 1.0 with color (147, 20, 255)\n",
            "Drawing box for class 2.0 with color (0, 165, 255)\n",
            "Drawing box for class 3.0 with color (0, 255, 255)\n",
            "Drawing box for class 0.0 with color (0, 0, 255)\n",
            "Drawing box for class 1.0 with color (147, 20, 255)\n",
            "Drawing box for class 1.0 with color (147, 20, 255)\n",
            "Drawing box for class 3.0 with color (0, 255, 255)\n",
            "Drawing box for class 0.0 with color (0, 0, 255)\n",
            "Drawing box for class 2.0 with color (0, 165, 255)\n",
            "Drawing box for class 2.0 with color (0, 165, 255)\n",
            "Drawing box for class 3.0 with color (0, 255, 255)\n",
            "Drawing box for class 1.0 with color (147, 20, 255)\n",
            "Drawing box for class 0.0 with color (0, 0, 255)\n",
            "Drawing box for class 3.0 with color (0, 255, 255)\n",
            "Drawing box for class 2.0 with color (0, 165, 255)\n",
            "Drawing box for class 2.0 with color (0, 165, 255)\n",
            "Drawing box for class 0.0 with color (0, 0, 255)\n",
            "Drawing box for class 2.0 with color (0, 165, 255)\n",
            "Drawing box for class 3.0 with color (0, 255, 255)\n",
            "Drawing box for class 1.0 with color (147, 20, 255)\n",
            "Drawing box for class 1.0 with color (147, 20, 255)\n",
            "Drawing box for class 2.0 with color (0, 165, 255)\n",
            "Drawing box for class 0.0 with color (0, 0, 255)\n",
            "Drawing box for class 3.0 with color (0, 255, 255)\n",
            "Drawing box for class 1.0 with color (147, 20, 255)\n",
            "Drawing box for class 3.0 with color (0, 255, 255)\n",
            "Drawing box for class 1.0 with color (147, 20, 255)\n",
            "Drawing box for class 0.0 with color (0, 0, 255)\n",
            "Drawing box for class 2.0 with color (0, 165, 255)\n",
            "Drawing box for class 3.0 with color (0, 255, 255)\n",
            "Drawing box for class 1.0 with color (147, 20, 255)\n",
            "Drawing box for class 2.0 with color (0, 165, 255)\n",
            "Drawing box for class 1.0 with color (147, 20, 255)\n",
            "Drawing box for class 3.0 with color (0, 255, 255)\n",
            "Drawing box for class 0.0 with color (0, 0, 255)\n",
            "Drawing box for class 1.0 with color (147, 20, 255)\n",
            "Drawing box for class 0.0 with color (0, 0, 255)\n",
            "Drawing box for class 0.0 with color (0, 0, 255)\n",
            "Drawing box for class 2.0 with color (0, 165, 255)\n",
            "Drawing box for class 1.0 with color (147, 20, 255)\n",
            "Drawing box for class 1.0 with color (147, 20, 255)\n",
            "Drawing box for class 2.0 with color (0, 165, 255)\n",
            "Drawing box for class 3.0 with color (0, 255, 255)\n",
            "Drawing box for class 0.0 with color (0, 0, 255)\n",
            "Drawing box for class 1.0 with color (147, 20, 255)\n",
            "Drawing box for class 2.0 with color (0, 165, 255)\n",
            "Drawing box for class 1.0 with color (147, 20, 255)\n",
            "Drawing box for class 0.0 with color (0, 0, 255)\n",
            "Drawing box for class 3.0 with color (0, 255, 255)\n",
            "Drawing box for class 1.0 with color (147, 20, 255)\n",
            "Drawing box for class 3.0 with color (0, 255, 255)\n",
            "Drawing box for class 1.0 with color (147, 20, 255)\n",
            "Drawing box for class 2.0 with color (0, 165, 255)\n",
            "Drawing box for class 0.0 with color (0, 0, 255)\n",
            "Drawing box for class 1.0 with color (147, 20, 255)\n",
            "Drawing box for class 1.0 with color (147, 20, 255)\n",
            "Drawing box for class 3.0 with color (0, 255, 255)\n",
            "Drawing box for class 0.0 with color (0, 0, 255)\n",
            "Drawing box for class 2.0 with color (0, 165, 255)\n",
            "Drawing box for class 0.0 with color (0, 0, 255)\n",
            "Drawing box for class 3.0 with color (0, 255, 255)\n",
            "Drawing box for class 0.0 with color (0, 0, 255)\n",
            "Drawing box for class 1.0 with color (147, 20, 255)\n",
            "Drawing box for class 2.0 with color (0, 165, 255)\n",
            "Drawing box for class 0.0 with color (0, 0, 255)\n",
            "Drawing box for class 2.0 with color (0, 165, 255)\n",
            "Drawing box for class 1.0 with color (147, 20, 255)\n",
            "Drawing box for class 0.0 with color (0, 0, 255)\n",
            "Drawing box for class 3.0 with color (0, 255, 255)\n",
            "Drawing box for class 2.0 with color (0, 165, 255)\n",
            "Drawing box for class 1.0 with color (147, 20, 255)\n",
            "Drawing box for class 3.0 with color (0, 255, 255)\n",
            "Drawing box for class 1.0 with color (147, 20, 255)\n",
            "Drawing box for class 2.0 with color (0, 165, 255)\n",
            "Drawing box for class 1.0 with color (147, 20, 255)\n",
            "Drawing box for class 2.0 with color (0, 165, 255)\n",
            "Drawing box for class 0.0 with color (0, 0, 255)\n",
            "Drawing box for class 0.0 with color (0, 0, 255)\n",
            "Drawing box for class 1.0 with color (147, 20, 255)\n",
            "Drawing box for class 3.0 with color (0, 255, 255)\n",
            "Drawing box for class 2.0 with color (0, 165, 255)\n",
            "Drawing box for class 0.0 with color (0, 0, 255)\n",
            "Drawing box for class 1.0 with color (147, 20, 255)\n",
            "Drawing box for class 2.0 with color (0, 165, 255)\n",
            "Drawing box for class 0.0 with color (0, 0, 255)\n",
            "Drawing box for class 3.0 with color (0, 255, 255)\n",
            "Drawing box for class 0.0 with color (0, 0, 255)\n",
            "Drawing box for class 3.0 with color (0, 255, 255)\n",
            "Drawing box for class 0.0 with color (0, 0, 255)\n",
            "Drawing box for class 1.0 with color (147, 20, 255)\n",
            "Drawing box for class 3.0 with color (0, 255, 255)\n",
            "Drawing box for class 2.0 with color (0, 165, 255)\n",
            "Drawing box for class 2.0 with color (0, 165, 255)\n",
            "Drawing box for class 1.0 with color (147, 20, 255)\n",
            "Drawing box for class 1.0 with color (147, 20, 255)\n",
            "Drawing box for class 1.0 with color (147, 20, 255)\n",
            "Drawing box for class 0.0 with color (0, 0, 255)\n",
            "Drawing box for class 2.0 with color (0, 165, 255)\n",
            "Drawing box for class 0.0 with color (0, 0, 255)\n",
            "Drawing box for class 3.0 with color (0, 255, 255)\n",
            "Drawing box for class 1.0 with color (147, 20, 255)\n",
            "Drawing box for class 2.0 with color (0, 165, 255)\n",
            "Drawing box for class 3.0 with color (0, 255, 255)\n",
            "Drawing box for class 1.0 with color (147, 20, 255)\n",
            "Drawing box for class 2.0 with color (0, 165, 255)\n",
            "Drawing box for class 0.0 with color (0, 0, 255)\n",
            "Drawing box for class 3.0 with color (0, 255, 255)\n",
            "Drawing box for class 2.0 with color (0, 165, 255)\n",
            "Drawing box for class 1.0 with color (147, 20, 255)\n",
            "Drawing box for class 3.0 with color (0, 255, 255)\n",
            "Drawing box for class 0.0 with color (0, 0, 255)\n",
            "Drawing box for class 1.0 with color (147, 20, 255)\n",
            "Drawing box for class 2.0 with color (0, 165, 255)\n",
            "Drawing box for class 0.0 with color (0, 0, 255)\n",
            "Drawing box for class 3.0 with color (0, 255, 255)\n",
            "Drawing box for class 1.0 with color (147, 20, 255)\n",
            "Drawing box for class 2.0 with color (0, 165, 255)\n",
            "Drawing box for class 3.0 with color (0, 255, 255)\n",
            "Drawing box for class 3.0 with color (0, 255, 255)\n",
            "Drawing box for class 1.0 with color (147, 20, 255)\n",
            "Drawing box for class 0.0 with color (0, 0, 255)\n",
            "Drawing box for class 3.0 with color (0, 255, 255)\n",
            "Drawing box for class 1.0 with color (147, 20, 255)\n",
            "Drawing box for class 2.0 with color (0, 165, 255)\n",
            "Drawing box for class 0.0 with color (0, 0, 255)\n",
            "Drawing box for class 3.0 with color (0, 255, 255)\n",
            "Drawing box for class 3.0 with color (0, 255, 255)\n",
            "Drawing box for class 2.0 with color (0, 165, 255)\n",
            "Drawing box for class 0.0 with color (0, 0, 255)\n",
            "Drawing box for class 1.0 with color (147, 20, 255)\n",
            "Drawing box for class 2.0 with color (0, 165, 255)\n",
            "Drawing box for class 1.0 with color (147, 20, 255)\n",
            "Drawing box for class 1.0 with color (147, 20, 255)\n",
            "Drawing box for class 2.0 with color (0, 165, 255)\n",
            "Drawing box for class 0.0 with color (0, 0, 255)\n",
            "Drawing box for class 3.0 with color (0, 255, 255)\n",
            "Drawing box for class 2.0 with color (0, 165, 255)\n",
            "Drawing box for class 1.0 with color (147, 20, 255)\n",
            "Drawing box for class 3.0 with color (0, 255, 255)\n",
            "Drawing box for class 1.0 with color (147, 20, 255)\n",
            "Drawing box for class 2.0 with color (0, 165, 255)\n",
            "Drawing box for class 1.0 with color (147, 20, 255)\n",
            "Drawing box for class 1.0 with color (147, 20, 255)\n",
            "Drawing box for class 2.0 with color (0, 165, 255)\n",
            "Drawing box for class 3.0 with color (0, 255, 255)\n",
            "Drawing box for class 0.0 with color (0, 0, 255)\n",
            "Drawing box for class 3.0 with color (0, 255, 255)\n",
            "Drawing box for class 1.0 with color (147, 20, 255)\n",
            "Drawing box for class 2.0 with color (0, 165, 255)\n",
            "Drawing box for class 0.0 with color (0, 0, 255)\n",
            "Drawing box for class 1.0 with color (147, 20, 255)\n",
            "Drawing box for class 3.0 with color (0, 255, 255)\n",
            "Drawing box for class 2.0 with color (0, 165, 255)\n",
            "Drawing box for class 0.0 with color (0, 0, 255)\n",
            "Drawing box for class 2.0 with color (0, 165, 255)\n",
            "Drawing box for class 1.0 with color (147, 20, 255)\n",
            "Drawing box for class 0.0 with color (0, 0, 255)\n",
            "Drawing box for class 1.0 with color (147, 20, 255)\n",
            "Drawing box for class 3.0 with color (0, 255, 255)\n",
            "Drawing box for class 1.0 with color (147, 20, 255)\n",
            "Drawing box for class 0.0 with color (0, 0, 255)\n",
            "Drawing box for class 1.0 with color (147, 20, 255)\n",
            "Drawing box for class 2.0 with color (0, 165, 255)\n",
            "Drawing box for class 0.0 with color (0, 0, 255)\n",
            "Drawing box for class 3.0 with color (0, 255, 255)\n",
            "Drawing box for class 0.0 with color (0, 0, 255)\n",
            "Drawing box for class 1.0 with color (147, 20, 255)\n",
            "Drawing box for class 2.0 with color (0, 165, 255)\n",
            "Drawing box for class 3.0 with color (0, 255, 255)\n",
            "Drawing box for class 0.0 with color (0, 0, 255)\n",
            "Drawing box for class 1.0 with color (147, 20, 255)\n",
            "Drawing box for class 2.0 with color (0, 165, 255)\n",
            "Drawing box for class 3.0 with color (0, 255, 255)\n",
            "Drawing box for class 1.0 with color (147, 20, 255)\n",
            "Drawing box for class 3.0 with color (0, 255, 255)\n",
            "Drawing box for class 0.0 with color (0, 0, 255)\n",
            "Drawing box for class 1.0 with color (147, 20, 255)\n",
            "Drawing box for class 3.0 with color (0, 255, 255)\n",
            "Drawing box for class 2.0 with color (0, 165, 255)\n",
            "Drawing box for class 1.0 with color (147, 20, 255)\n",
            "Drawing box for class 0.0 with color (0, 0, 255)\n",
            "Drawing box for class 3.0 with color (0, 255, 255)\n",
            "Drawing box for class 1.0 with color (147, 20, 255)\n",
            "Drawing box for class 2.0 with color (0, 165, 255)\n",
            "Drawing box for class 2.0 with color (0, 165, 255)\n",
            "Drawing box for class 2.0 with color (0, 165, 255)\n",
            "Drawing box for class 1.0 with color (147, 20, 255)\n",
            "Drawing box for class 1.0 with color (147, 20, 255)\n",
            "Drawing box for class 0.0 with color (0, 0, 255)\n",
            "Drawing box for class 1.0 with color (147, 20, 255)\n",
            "Drawing box for class 2.0 with color (0, 165, 255)\n",
            "Drawing box for class 3.0 with color (0, 255, 255)\n",
            "Drawing box for class 0.0 with color (0, 0, 255)\n",
            "Drawing box for class 2.0 with color (0, 165, 255)\n",
            "Drawing box for class 3.0 with color (0, 255, 255)\n",
            "Drawing box for class 2.0 with color (0, 165, 255)\n",
            "Drawing box for class 1.0 with color (147, 20, 255)\n",
            "Drawing box for class 3.0 with color (0, 255, 255)\n",
            "Drawing box for class 0.0 with color (0, 0, 255)\n",
            "Drawing box for class 1.0 with color (147, 20, 255)\n",
            "Drawing box for class 2.0 with color (0, 165, 255)\n",
            "Drawing box for class 0.0 with color (0, 0, 255)\n",
            "Drawing box for class 0.0 with color (0, 0, 255)\n",
            "Drawing box for class 1.0 with color (147, 20, 255)\n",
            "Drawing box for class 3.0 with color (0, 255, 255)\n",
            "Drawing box for class 2.0 with color (0, 165, 255)\n",
            "Drawing box for class 2.0 with color (0, 165, 255)\n",
            "Drawing box for class 1.0 with color (147, 20, 255)\n",
            "Drawing box for class 2.0 with color (0, 165, 255)\n",
            "Drawing box for class 2.0 with color (0, 165, 255)\n",
            "Drawing box for class 3.0 with color (0, 255, 255)\n",
            "Drawing box for class 1.0 with color (147, 20, 255)\n",
            "Drawing box for class 3.0 with color (0, 255, 255)\n",
            "Drawing box for class 0.0 with color (0, 0, 255)\n",
            "Drawing box for class 1.0 with color (147, 20, 255)\n",
            "Drawing box for class 3.0 with color (0, 255, 255)\n",
            "Drawing box for class 3.0 with color (0, 255, 255)\n",
            "Drawing box for class 1.0 with color (147, 20, 255)\n",
            "Drawing box for class 2.0 with color (0, 165, 255)\n",
            "Drawing box for class 2.0 with color (0, 165, 255)\n",
            "Drawing box for class 2.0 with color (0, 165, 255)\n",
            "Drawing box for class 3.0 with color (0, 255, 255)\n",
            "Drawing box for class 3.0 with color (0, 255, 255)\n",
            "Drawing box for class 0.0 with color (0, 0, 255)\n",
            "Drawing box for class 3.0 with color (0, 255, 255)\n",
            "Drawing box for class 1.0 with color (147, 20, 255)\n",
            "Drawing box for class 2.0 with color (0, 165, 255)\n",
            "Drawing box for class 1.0 with color (147, 20, 255)\n",
            "Drawing box for class 3.0 with color (0, 255, 255)\n",
            "Drawing box for class 2.0 with color (0, 165, 255)\n",
            "Drawing box for class 0.0 with color (0, 0, 255)\n",
            "Drawing box for class 2.0 with color (0, 165, 255)\n",
            "Drawing box for class 1.0 with color (147, 20, 255)\n",
            "Drawing box for class 0.0 with color (0, 0, 255)\n",
            "Drawing box for class 3.0 with color (0, 255, 255)\n",
            "Drawing box for class 1.0 with color (147, 20, 255)\n",
            "Drawing box for class 2.0 with color (0, 165, 255)\n",
            "Drawing box for class 3.0 with color (0, 255, 255)\n",
            "Drawing box for class 0.0 with color (0, 0, 255)\n",
            "Drawing box for class 2.0 with color (0, 165, 255)\n",
            "Drawing box for class 1.0 with color (147, 20, 255)\n",
            "Drawing box for class 3.0 with color (0, 255, 255)\n",
            "Drawing box for class 1.0 with color (147, 20, 255)\n",
            "Drawing box for class 0.0 with color (0, 0, 255)\n",
            "Drawing box for class 1.0 with color (147, 20, 255)\n",
            "Drawing box for class 2.0 with color (0, 165, 255)\n",
            "Drawing box for class 3.0 with color (0, 255, 255)\n",
            "Drawing box for class 0.0 with color (0, 0, 255)\n",
            "Drawing box for class 2.0 with color (0, 165, 255)\n",
            "Drawing box for class 1.0 with color (147, 20, 255)\n",
            "Drawing box for class 2.0 with color (0, 165, 255)\n",
            "Drawing box for class 3.0 with color (0, 255, 255)\n",
            "Drawing box for class 0.0 with color (0, 0, 255)\n",
            "Drawing box for class 3.0 with color (0, 255, 255)\n",
            "Drawing box for class 3.0 with color (0, 255, 255)\n",
            "Drawing box for class 1.0 with color (147, 20, 255)\n",
            "Drawing box for class 0.0 with color (0, 0, 255)\n",
            "Drawing box for class 1.0 with color (147, 20, 255)\n",
            "Drawing box for class 3.0 with color (0, 255, 255)\n",
            "Drawing box for class 2.0 with color (0, 165, 255)\n",
            "Drawing box for class 1.0 with color (147, 20, 255)\n",
            "Drawing box for class 3.0 with color (0, 255, 255)\n",
            "Drawing box for class 0.0 with color (0, 0, 255)\n",
            "Drawing box for class 3.0 with color (0, 255, 255)\n",
            "Drawing box for class 1.0 with color (147, 20, 255)\n",
            "Drawing box for class 0.0 with color (0, 0, 255)\n",
            "Drawing box for class 2.0 with color (0, 165, 255)\n",
            "Drawing box for class 1.0 with color (147, 20, 255)\n",
            "Drawing box for class 3.0 with color (0, 255, 255)\n",
            "Drawing box for class 2.0 with color (0, 165, 255)\n",
            "Drawing box for class 0.0 with color (0, 0, 255)\n",
            "Drawing box for class 1.0 with color (147, 20, 255)\n",
            "Drawing box for class 3.0 with color (0, 255, 255)\n",
            "Drawing box for class 0.0 with color (0, 0, 255)\n",
            "Drawing box for class 2.0 with color (0, 165, 255)\n",
            "Drawing box for class 1.0 with color (147, 20, 255)\n",
            "Drawing box for class 1.0 with color (147, 20, 255)\n",
            "Drawing box for class 2.0 with color (0, 165, 255)\n",
            "Drawing box for class 3.0 with color (0, 255, 255)\n",
            "Drawing box for class 0.0 with color (0, 0, 255)\n",
            "Drawing box for class 1.0 with color (147, 20, 255)\n",
            "Drawing box for class 2.0 with color (0, 165, 255)\n",
            "Drawing box for class 1.0 with color (147, 20, 255)\n",
            "Drawing box for class 3.0 with color (0, 255, 255)\n",
            "Drawing box for class 0.0 with color (0, 0, 255)\n",
            "Drawing box for class 1.0 with color (147, 20, 255)\n",
            "Drawing box for class 0.0 with color (0, 0, 255)\n",
            "Drawing box for class 3.0 with color (0, 255, 255)\n",
            "Drawing box for class 2.0 with color (0, 165, 255)\n",
            "Drawing box for class 2.0 with color (0, 165, 255)\n",
            "Drawing box for class 1.0 with color (147, 20, 255)\n",
            "Drawing box for class 0.0 with color (0, 0, 255)\n",
            "Drawing box for class 3.0 with color (0, 255, 255)\n",
            "Drawing box for class 1.0 with color (147, 20, 255)\n",
            "Drawing box for class 1.0 with color (147, 20, 255)\n",
            "Drawing box for class 2.0 with color (0, 165, 255)\n",
            "Drawing box for class 0.0 with color (0, 0, 255)\n",
            "Drawing box for class 3.0 with color (0, 255, 255)\n",
            "Drawing box for class 1.0 with color (147, 20, 255)\n",
            "Drawing box for class 2.0 with color (0, 165, 255)\n",
            "Drawing box for class 3.0 with color (0, 255, 255)\n",
            "Drawing box for class 0.0 with color (0, 0, 255)\n",
            "Drawing box for class 1.0 with color (147, 20, 255)\n",
            "Drawing box for class 2.0 with color (0, 165, 255)\n",
            "Drawing box for class 3.0 with color (0, 255, 255)\n",
            "Drawing box for class 0.0 with color (0, 0, 255)\n"
          ]
        }
      ]
    },
    {
      "cell_type": "markdown",
      "source": [
        "------"
      ],
      "metadata": {
        "id": "7DJB_ka1zZGX"
      }
    },
    {
      "cell_type": "markdown",
      "source": [
        "# Preprocessing before OCR"
      ],
      "metadata": {
        "id": "sMWGrJFwXxhy"
      }
    },
    {
      "cell_type": "markdown",
      "source": [
        "## import cropped images"
      ],
      "metadata": {
        "id": "hVOOfGRmcamC"
      }
    },
    {
      "cell_type": "code",
      "source": [
        "import cv2\n",
        "import os\n",
        "\n",
        "def load_cropped_images(crops_dir):\n",
        "    \"\"\"\n",
        "    Loads all cropped images from a specified directory.\n",
        "\n",
        "    Parameters:\n",
        "    - crops_dir: Directory where the cropped images are saved.\n",
        "\n",
        "    Returns:\n",
        "    - A list of tuples, each containing the filename and the corresponding loaded image.\n",
        "    \"\"\"\n",
        "    cropped_images = []\n",
        "    for filename in os.listdir(crops_dir):\n",
        "        if filename.endswith(\".jpg\") or filename.endswith(\".png\"):  # Check for image files\n",
        "            file_path = os.path.join(crops_dir, filename)\n",
        "            image = cv2.imread(file_path)\n",
        "            if image is not None:\n",
        "                cropped_images.append((filename, image))\n",
        "            else:\n",
        "                print(f\"Warning: Could not load image {filename}\")\n",
        "    return cropped_images"
      ],
      "metadata": {
        "id": "eH-rU546XxKF"
      },
      "execution_count": 2,
      "outputs": []
    },
    {
      "cell_type": "code",
      "source": [
        "from google.colab.patches import cv2_imshow\n",
        "\n",
        "# Specify the directory where your cropped images are saved\n",
        "crops_dir = '/content/drive/MyDrive/SuperAI/Project/GDA/GDA-OBB/14032024/train-crops'\n",
        "\n",
        "# Load the cropped images\n",
        "cropped_images = load_cropped_images(crops_dir)\n",
        "\n",
        "# Assuming 'cropped_images' contains your loaded images as before\n",
        "if cropped_images:\n",
        "    filename, image = cropped_images[0]\n",
        "    print(f\"Displaying {filename}\")\n",
        "    cv2_imshow(image)  # Use cv2_imshow instead of cv2.imshow in Colab\n",
        "else:\n",
        "    print(\"No cropped images were loaded.\")"
      ],
      "metadata": {
        "colab": {
          "base_uri": "https://localhost:8080/",
          "height": 244
        },
        "id": "iHnD6oS4ckku",
        "outputId": "8490946c-16a7-4aca-f4d8-934cc8d032a8"
      },
      "execution_count": 5,
      "outputs": [
        {
          "output_type": "stream",
          "name": "stdout",
          "text": [
            "Displaying 0001_class_0_crop_0.jpg\n"
          ]
        },
        {
          "output_type": "display_data",
          "data": {
            "text/plain": [
              "<PIL.Image.Image image mode=RGB size=178x210>"
            ],
            "image/png": "[encoded data removed]"
          },
          "metadata": {}
        }
      ]
    },
    {
      "cell_type": "code",
      "source": [
        "len(cropped_images)"
      ],
      "metadata": {
        "colab": {
          "base_uri": "https://localhost:8080/"
        },
        "id": "T7bm3ZSyb6Id",
        "outputId": "e8cabba6-e429-4bfa-a975-7f90d04e7592"
      },
      "execution_count": 6,
      "outputs": [
        {
          "output_type": "execute_result",
          "data": {
            "text/plain": [
              "318"
            ]
          },
          "metadata": {},
          "execution_count": 6
        }
      ]
    },
    {
      "cell_type": "markdown",
      "source": [
        "## Rotate/Skew"
      ],
      "metadata": {
        "id": "_CAHJ7m-c5yJ"
      }
    },
    {
      "cell_type": "code",
      "source": [
        "filename, img = cropped_images[30]\n",
        "cv2_imshow(img)"
      ],
      "metadata": {
        "id": "R8DKJBDlce_I",
        "colab": {
          "base_uri": "https://localhost:8080/",
          "height": 359
        },
        "outputId": "782418ee-f5d8-48d5-f8b2-5c1fce7cbb34"
      },
      "execution_count": 47,
      "outputs": [
        {
          "output_type": "display_data",
          "data": {
            "text/plain": [
              "<PIL.Image.Image image mode=RGB size=229x342>"
            ],
            "image/png": "[encoded data removed]"
          },
          "metadata": {}
        }
      ]
    },
    {
      "cell_type": "code",
      "source": [
        "# grayscale\n",
        "def img2gray(img):\n",
        "    img = cv2.fastNlMeansDenoisingColored(img, None, 5, 5, 7, 21)\n",
        "    gray = cv2.cvtColor(img, cv2.COLOR_BGR2GRAY)\n",
        "    return gray\n",
        "\n",
        "gray = img2gray(img)\n",
        "cv2_imshow(gray)"
      ],
      "metadata": {
        "colab": {
          "base_uri": "https://localhost:8080/",
          "height": 359
        },
        "id": "wMCP3opMeVKv",
        "outputId": "ac9b62d7-aa4f-4583-eb3f-854bd1e6472a"
      },
      "execution_count": 48,
      "outputs": [
        {
          "output_type": "display_data",
          "data": {
            "text/plain": [
              "<PIL.Image.Image image mode=L size=229x342>"
            ],
            "image/png": "[encoded data removed]"
          },
          "metadata": {}
        }
      ]
    },
    {
      "cell_type": "code",
      "source": [
        "from deskew import determine_skew\n",
        "# Deskew image\n",
        "def deskew(img):\n",
        "    angle = determine_skew(img)\n",
        "    return rotateImage(img, angle)\n",
        "\n",
        "# Rotate the image around its center\n",
        "def rotateImage(cvImage, angle: float):\n",
        "    newImage = cvImage.copy()\n",
        "    (h, w) = newImage.shape[:2]\n",
        "    center = (w // 2, h // 2)\n",
        "    M = cv2.getRotationMatrix2D(center, angle, 1.0)\n",
        "    newImage = cv2.warpAffine(newImage, M, (w, h), flags=cv2.INTER_CUBIC, borderMode=cv2.BORDER_REPLICATE)\n",
        "    return newImage\n",
        "\n",
        "deskew_img = deskew(gray)\n",
        "cv2_imshow(deskew_img)"
      ],
      "metadata": {
        "colab": {
          "base_uri": "https://localhost:8080/",
          "height": 359
        },
        "id": "LM4H1p4S810d",
        "outputId": "837382be-5a6a-4675-b4f3-7b8d10abab94"
      },
      "execution_count": 58,
      "outputs": [
        {
          "output_type": "display_data",
          "data": {
            "text/plain": [
              "<PIL.Image.Image image mode=L size=229x342>"
            ],
            "image/png": "[encoded data removed]"
          },
          "metadata": {}
        }
      ]
    },
    {
      "cell_type": "code",
      "source": [],
      "metadata": {
        "id": "SxNLMRRPEJdC"
      },
      "execution_count": 49,
      "outputs": []
    },
    {
      "cell_type": "markdown",
      "source": [
        "---"
      ],
      "metadata": {
        "id": "UiMEdCnOeUad"
      }
    },
    {
      "cell_type": "markdown",
      "source": [
        "# OCR part"
      ],
      "metadata": {
        "id": "ZvknrI-fs1pC"
      }
    },
    {
      "cell_type": "code",
      "source": [
        "! pip install -q pytesseract\n",
        "! apt install -qq tesseract-ocr tesseract-ocr-tha\n",
        "!pip install deskew\n",
        "!pip install easyocr"
      ],
      "metadata": {
        "id": "kLHVIxmaP4gR",
        "colab": {
          "base_uri": "https://localhost:8080/"
        },
        "outputId": "2e445a6c-af6f-4a05-d786-fc4b448736cb"
      },
      "execution_count": 9,
      "outputs": [
        {
          "output_type": "stream",
          "name": "stdout",
          "text": [
            "The following additional packages will be installed:\n",
            "  tesseract-ocr-eng tesseract-ocr-osd\n",
            "The following NEW packages will be installed:\n",
            "  tesseract-ocr tesseract-ocr-eng tesseract-ocr-osd tesseract-ocr-tha\n",
            "0 upgraded, 4 newly installed, 0 to remove and 38 not upgraded.\n",
            "Need to get 5,715 kB of archives.\n",
            "After this operation, 16.7 MB of additional disk space will be used.\n",
            "Selecting previously unselected package tesseract-ocr-eng.\n",
            "(Reading database ... 121752 files and directories currently installed.)\n",
            "Preparing to unpack .../tesseract-ocr-eng_1%3a4.00~git30-7274cfa-1.1_all.deb ...\n",
            "Unpacking tesseract-ocr-eng (1:4.00~git30-7274cfa-1.1) ...\n",
            "Selecting previously unselected package tesseract-ocr-osd.\n",
            "Preparing to unpack .../tesseract-ocr-osd_1%3a4.00~git30-7274cfa-1.1_all.deb ...\n",
            "Unpacking tesseract-ocr-osd (1:4.00~git30-7274cfa-1.1) ...\n",
            "Selecting previously unselected package tesseract-ocr.\n",
            "Preparing to unpack .../tesseract-ocr_4.1.1-2.1build1_amd64.deb ...\n",
            "Unpacking tesseract-ocr (4.1.1-2.1build1) ...\n",
            "Selecting previously unselected package tesseract-ocr-tha.\n",
            "Preparing to unpack .../tesseract-ocr-tha_1%3a4.00~git30-7274cfa-1.1_all.deb ...\n",
            "Unpacking tesseract-ocr-tha (1:4.00~git30-7274cfa-1.1) ...\n",
            "Setting up tesseract-ocr-eng (1:4.00~git30-7274cfa-1.1) ...\n",
            "Setting up tesseract-ocr-tha (1:4.00~git30-7274cfa-1.1) ...\n",
            "Setting up tesseract-ocr-osd (1:4.00~git30-7274cfa-1.1) ...\n",
            "Setting up tesseract-ocr (4.1.1-2.1build1) ...\n",
            "Processing triggers for man-db (2.10.2-1) ...\n"
          ]
        }
      ]
    },
    {
      "cell_type": "code",
      "source": [
        "import pytesseract\n",
        "def img2text(img):\n",
        "    text = pytesseract.image_to_string(img, lang='tha+en', config='--psm 6') # config='--oem 3 --psm 6')\n",
        "    return text\n",
        "\n",
        "# text = img2text(gray)\n",
        "text = img2text(deskew_img)\n",
        "text"
      ],
      "metadata": {
        "id": "VJn3xvCWd30s",
        "colab": {
          "base_uri": "https://localhost:8080/",
          "height": 35
        },
        "outputId": "bab9dd9b-16eb-4869-fdb2-b2675b5ae7eb"
      },
      "execution_count": 57,
      "outputs": [
        {
          "output_type": "execute_result",
          "data": {
            "text/plain": [
              "'\\x0c'"
            ],
            "application/vnd.google.colaboratory.intrinsic+json": {
              "type": "string"
            }
          },
          "metadata": {},
          "execution_count": 57
        }
      ]
    },
    {
      "cell_type": "code",
      "source": [],
      "metadata": {
        "id": "ud5newQm-l8t"
      },
      "execution_count": null,
      "outputs": []
    }
  ]
}